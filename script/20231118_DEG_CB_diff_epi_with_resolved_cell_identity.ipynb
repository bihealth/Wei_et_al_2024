{
 "cells": [
  {
   "cell_type": "code",
   "execution_count": null,
   "id": "6305861f",
   "metadata": {},
   "outputs": [],
   "source": [
    "suppressMessages(library('tidyverse'))\n",
    "#library('ggplot2')\n",
    "#library('dplyr')\n",
    "suppressMessages(library('patchwork'))\n",
    "suppressMessages(library('cowplot'))\n",
    "\n",
    "library('rhdf5')\n",
    "\n",
    "suppressMessages(library('Seurat'))\n",
    "suppressMessages(library('DESeq2'))"
   ]
  },
  {
   "cell_type": "code",
   "execution_count": null,
   "id": "e2f29545",
   "metadata": {},
   "outputs": [],
   "source": [
    "library('readxl')\n",
    "library('scuttle')\n",
    "library('scran')\n",
    "library('Matrix.utils')\n",
    "library('tmod')\n",
    "library('ggrepel')\n",
    "library(\"GGally\")\n",
    "library(\"ggpubr\")"
   ]
  },
  {
   "cell_type": "code",
   "execution_count": null,
   "id": "d95234c3",
   "metadata": {},
   "outputs": [],
   "source": [
    "library('msigdbr')\n",
    "library('org.Hs.eg.db')\n",
    "library('GO.db')"
   ]
  },
  {
   "cell_type": "code",
   "execution_count": null,
   "id": "b59a3096",
   "metadata": {},
   "outputs": [],
   "source": [
    "sessionInfo()"
   ]
  },
  {
   "cell_type": "code",
   "execution_count": null,
   "id": "8b9b8da9",
   "metadata": {},
   "outputs": [],
   "source": [
    "suppressMessages(library(scales))"
   ]
  },
  {
   "cell_type": "code",
   "execution_count": null,
   "id": "4f1115a1",
   "metadata": {},
   "outputs": [],
   "source": [
    "options(repr.plot.width=12, \n",
    "        repr.plot.height=8,\n",
    "        repr.plot.res = 200)"
   ]
  },
  {
   "cell_type": "code",
   "execution_count": null,
   "id": "bfa20d87",
   "metadata": {},
   "outputs": [],
   "source": [
    "plot_theme = theme_bw() + \n",
    "             theme(title = element_text(size = 30, hjust = 0.5),\n",
    "                   axis.title = element_text(size = 28),\n",
    "                   text = element_text(size=26),\n",
    "                   plot.margin = margin(0,0,0,0,\"cm\")) "
   ]
  },
  {
   "cell_type": "code",
   "execution_count": null,
   "id": "feb75bfa",
   "metadata": {},
   "outputs": [],
   "source": [
    "plot_theme_tmod = theme_bw() + \n",
    "                  theme(title = element_text(size = 14),\n",
    "                   axis.title = element_text(size = 14),\n",
    "                   axis.text = element_text(size = 12),\n",
    "                   legend.title =  element_text(size = 12),\n",
    "                   text = element_text(size = 10),\n",
    "                   plot.margin = margin(0,0,0,0,\"cm\")) "
   ]
  },
  {
   "cell_type": "code",
   "execution_count": null,
   "id": "ecd2d5dd",
   "metadata": {},
   "outputs": [],
   "source": [
    "'%notin%' = Negate('%in%')"
   ]
  },
  {
   "cell_type": "code",
   "execution_count": null,
   "id": "23ec7372",
   "metadata": {},
   "outputs": [],
   "source": [
    "source('function_single_cell_conversion.R')"
   ]
  },
  {
   "cell_type": "code",
   "execution_count": null,
   "id": "2b1c735a",
   "metadata": {},
   "outputs": [],
   "source": [
    "# 120\n",
    "R_list = c(#'WNT1','WNT2','WNT2B','WNT3','WNT3A','WNT4',\n",
    "            #              'WNT5A','WNT5B','WNT6','WNT7A','WNT7B',#'WNT8A',\n",
    "            #              'WNT8B','WNT9A','WNT9B','WNT10A','WNT10B','WNT11','WNT16', \n",
    "            #'RSPO1','RSPO2','RSPO3','RSPO4',\n",
    "           'FZD1','FZD2','FZD3','FZD4','FZD5','FZD6','FZD7','FZD8','FZD9','FZD10',\n",
    "                        'LGR4','LGR5','LGR6',\n",
    "           #'EGF','TGFA','HBEGF','BTC','AREG','EREG','EPGN',\n",
    "           'EGFR','ERBB2','ERBB3','ERBB4',\n",
    "           #'FGF1','FGF2','FGF3','FGF4','FGF5',#'FGF6',\n",
    "           #   'FGF7','FGF8','FGF9','FGF10',\n",
    "           'FGFR1','FGFR2','FGFR3','FGFR4',\n",
    "           #'BMP2','BMP4','BMP6','BMP7', \n",
    "           'BMPR1A','BMPR1B','BMPR2',\n",
    "           #'TGFB1','TGFB2','TGFB3','LTBP1','LRRC32','BMP3',#'GDF2','BMP10',\n",
    "           #    'INHA','INHBA','INHBB',\n",
    "           #    'INHBC','INHBE','FST',\n",
    "           'TGFBR1','TGFBR2','ACVR1','ACVR1B','ACVR1C',#'AVCR2A',\n",
    "                 'ACVR2B',\n",
    "           #'JAG1','JAG2','DLL1','DLL3','DLL4',\n",
    "           'NOTCH1','NOTCH2','NOTCH3','NOTCH4',\n",
    "           #'EFNA1','EFNA2','EFNA3','EFNA4','EFNA5','EFNB1','EFNB2','EFNB3',\n",
    "           'EPHA1','EPHA2','EPHA3','EPHA4',\n",
    "                'EPHA5','EPHA6','EPHA7','EPHA8',\n",
    "                'EPHB1','EPHB2','EPHB3','EPHB4',#'EPHB5',\n",
    "                'EPHB6',\n",
    "           'DCHS1', 'DCHS2',\n",
    "           'FAT1', 'FAT2', 'FAT3', 'FAT4'\n",
    "           )"
   ]
  },
  {
   "cell_type": "code",
   "execution_count": null,
   "id": "e46527d7",
   "metadata": {},
   "outputs": [],
   "source": [
    "getwd()"
   ]
  },
  {
   "cell_type": "code",
   "execution_count": null,
   "id": "a574fc33",
   "metadata": {},
   "outputs": [],
   "source": [
    "new_data_folder = '../datasets_new_preprocessing/'"
   ]
  },
  {
   "cell_type": "code",
   "execution_count": null,
   "id": "fef4e1f9",
   "metadata": {},
   "outputs": [],
   "source": [
    "h5_path = '../datasets_new_preprocessing/202310_CB_epi_Numbat_Scitcem_inferCNV_icms_Uhlitz_scanvi_resolved_identity.h5'\n"
   ]
  },
  {
   "cell_type": "code",
   "execution_count": null,
   "id": "5de07370",
   "metadata": {},
   "outputs": [],
   "source": [
    "# h5\n",
    "adata_h5 = H5Fopen(h5_path)"
   ]
  },
  {
   "cell_type": "code",
   "execution_count": null,
   "id": "966396fe",
   "metadata": {},
   "outputs": [],
   "source": [
    "# main matrix\n",
    "adata_all = read_scanpy_h5(h5_path,\n",
    "                           if_pca = TRUE, if_umap = TRUE, if_CB_counts=TRUE, if_raw_counts=FALSE)"
   ]
  },
  {
   "cell_type": "code",
   "execution_count": null,
   "id": "182b661d",
   "metadata": {},
   "outputs": [],
   "source": [
    "adata_all"
   ]
  },
  {
   "cell_type": "code",
   "execution_count": null,
   "id": "f75b45e6",
   "metadata": {},
   "outputs": [],
   "source": [
    "# get sample label\n",
    "cat = c(adata_h5$obs$'sample'$categories)\n",
    "cat_obs = data.frame(cat_name = cat[apply(adata_h5$obs$'sample'$codes, 1, function(x)x+1)],\n",
    "                                              row.names = adata_h5$obs$`_index`)\n",
    "\n",
    "adata_all = AddMetaData(object = adata_all, metadata = cat_obs, col.name = 'sample')"
   ]
  },
  {
   "cell_type": "code",
   "execution_count": null,
   "id": "84777d00",
   "metadata": {},
   "outputs": [],
   "source": [
    "# get patient \n",
    "cat = c(adata_h5$obs$'patient'$categories)\n",
    "cat_obs = data.frame(cat_name = cat[apply(adata_h5$obs$'patient'$codes, 1, function(x)x+1)],\n",
    "                                              row.names = adata_h5$obs$`_index`)\n",
    "\n",
    "adata_all = AddMetaData(object = adata_all, metadata = cat_obs, col.name = 'patient')"
   ]
  },
  {
   "cell_type": "code",
   "execution_count": null,
   "id": "4c25b32b",
   "metadata": {},
   "outputs": [],
   "source": [
    "# get sample_origin \n",
    "cat = c(adata_h5$obs$'sample_origin'$categories)\n",
    "cat_obs = data.frame(cat_name = cat[apply(adata_h5$obs$'sample_origin'$codes, 1, function(x)x+1)],\n",
    "                                              row.names = adata_h5$obs$`_index`)\n",
    "\n",
    "adata_all = AddMetaData(object = adata_all, metadata = cat_obs, col.name = 'sample_origin')"
   ]
  },
  {
   "cell_type": "code",
   "execution_count": null,
   "id": "24efbc30",
   "metadata": {},
   "outputs": [],
   "source": [
    "# get MS_status\n",
    "cat = c(adata_h5$obs$'MS_status'$categories)\n",
    "cat_obs = data.frame(cat_name = cat[apply(adata_h5$obs$'MS_status'$codes, 1, function(x)x+1)],\n",
    "                                              row.names = adata_h5$obs$`_index`)\n",
    "\n",
    "adata_all = AddMetaData(object = adata_all, metadata = cat_obs, col.name = 'MS_status')"
   ]
  },
  {
   "cell_type": "code",
   "execution_count": null,
   "id": "339362a6",
   "metadata": {},
   "outputs": [],
   "source": [
    "# get cna_clone\n",
    "cat = c(adata_h5$obs$'inferCNV_result'$categories)\n",
    "cat_obs = data.frame(cat_name = cat[apply(adata_h5$obs$'inferCNV_result'$codes, 1, function(x)x+1)],\n",
    "                                              row.names = adata_h5$obs$`_index`)\n",
    "\n",
    "adata_all = AddMetaData(object = adata_all, metadata = cat_obs, col.name = 'inferCNV_result')"
   ]
  },
  {
   "cell_type": "code",
   "execution_count": null,
   "id": "d5a1489c",
   "metadata": {},
   "outputs": [],
   "source": [
    "# get scitcem_call\n",
    "cat = c(adata_h5$obs$'scitcem_call'$categories)\n",
    "cat_obs = data.frame(cat_name = cat[apply(adata_h5$obs$'scitcem_call'$codes, 1, function(x)x+1)],\n",
    "                                              row.names = adata_h5$obs$`_index`)\n",
    "\n",
    "adata_all = AddMetaData(object = adata_all, metadata = cat_obs, col.name = 'scitcem_call')"
   ]
  },
  {
   "cell_type": "code",
   "execution_count": null,
   "id": "f79548a7",
   "metadata": {},
   "outputs": [],
   "source": [
    "# get numbat_com\n",
    "cat = c(adata_h5$obs$'numbat'$categories)\n",
    "cat_obs = data.frame(cat_name = cat[apply(adata_h5$obs$'numbat'$codes, 1, function(x)x+1)],\n",
    "                                              row.names = adata_h5$obs$`_index`)\n",
    "\n",
    "adata_all = AddMetaData(object = adata_all, metadata = cat_obs, col.name = 'numbat')"
   ]
  },
  {
   "cell_type": "code",
   "execution_count": null,
   "id": "7f78b9f1",
   "metadata": {},
   "outputs": [],
   "source": [
    "# get scANVI_icms\n",
    "cat = c(adata_h5$obs$'iCMS_scANVI'$categories)\n",
    "cat_obs = data.frame(cat_name = cat[apply(adata_h5$obs$'iCMS_scANVI'$codes, 1, function(x)x+1)],\n",
    "                                              row.names = adata_h5$obs$`_index`)\n",
    "\n",
    "adata_all = AddMetaData(object = adata_all, metadata = cat_obs, col.name = 'iCMS_scANVI')"
   ]
  },
  {
   "cell_type": "code",
   "execution_count": null,
   "id": "009646e1",
   "metadata": {},
   "outputs": [],
   "source": [
    "# get Uhlitz_scANVI\n",
    "cat = c(adata_h5$obs$'Uhlitz_scANVI'$categories)\n",
    "cat_obs = data.frame(cat_name = cat[apply(adata_h5$obs$'Uhlitz_scANVI'$codes, 1, function(x)x+1)],\n",
    "                                              row.names = adata_h5$obs$`_index`)\n",
    "\n",
    "adata_all = AddMetaData(object = adata_all, metadata = cat_obs, col.name = 'Uhlitz_scANVI')"
   ]
  },
  {
   "cell_type": "code",
   "execution_count": null,
   "id": "7305149b",
   "metadata": {},
   "outputs": [],
   "source": [
    "# get cell_identity\n",
    "cat = c(adata_h5$obs$'cell_identity'$categories)\n",
    "cat_obs = data.frame(cat_name = cat[apply(adata_h5$obs$'cell_identity'$codes, 1, function(x)x+1)],\n",
    "                                              row.names = adata_h5$obs$`_index`)\n",
    "\n",
    "adata_all = AddMetaData(object = adata_all, metadata = cat_obs, col.name = 'cell_identity')"
   ]
  },
  {
   "cell_type": "code",
   "execution_count": null,
   "id": "119bc677",
   "metadata": {},
   "outputs": [],
   "source": [
    "# get louvain\n",
    "cat = c(adata_h5$obs$'louvain'$categories)\n",
    "cat_obs = data.frame(cat_name = cat[apply(adata_h5$obs$'louvain'$codes, 1, function(x)x+1)],\n",
    "                                              row.names = adata_h5$obs$`_index`)\n",
    "\n",
    "adata_all = AddMetaData(object = adata_all, metadata = cat_obs, col.name = 'louvain')"
   ]
  },
  {
   "cell_type": "code",
   "execution_count": null,
   "id": "4d32e3e1",
   "metadata": {},
   "outputs": [],
   "source": [
    "h5closeAll()"
   ]
  },
  {
   "cell_type": "code",
   "execution_count": null,
   "id": "489584a3",
   "metadata": {},
   "outputs": [],
   "source": [
    "# cell type in Uhlitz\n",
    "cell_type_list = c(unique(adata_all@meta.data['Uhlitz_scANVI'])$Uhlitz_scANVI) %>% sort()\n",
    "cell_type_list = gsub('/', '_', cell_type_list)\n",
    "cell_type_list = gsub(' ', '_', cell_type_list)\n",
    "cell_type_list"
   ]
  },
  {
   "cell_type": "code",
   "execution_count": null,
   "id": "2d32a389",
   "metadata": {},
   "outputs": [],
   "source": [
    "# replace the / cuz it will cuz a file saving problem\n",
    "adata_all@meta.data  = adata_all@meta.data %>% mutate(Uhlitz_scANVI = gsub('/', '_', Uhlitz_scANVI)) %>%\n",
    "mutate(Uhlitz_scANVI = gsub(' ', '_', Uhlitz_scANVI))"
   ]
  },
  {
   "cell_type": "code",
   "execution_count": null,
   "id": "fed33d09",
   "metadata": {},
   "outputs": [],
   "source": [
    "table(adata_all@meta.data['cell_identity'])"
   ]
  },
  {
   "cell_type": "markdown",
   "id": "57801e72",
   "metadata": {},
   "source": [
    "write.csv(as.data.frame(adata_all@meta.data['Numbat_and_Scitcem']), \n",
    "          file = '../datasets_new_preprocessing/Numbat_and_Scitcem_assignment_cellid.csv', row.names = TRUE)"
   ]
  },
  {
   "cell_type": "code",
   "execution_count": null,
   "id": "546df00e",
   "metadata": {},
   "outputs": [],
   "source": [
    "adata_all@meta.data = adata_all@meta.data %>% \n",
    "mutate('GT_other' = case_when(cell_identity == 'genomically_tumour' ~ 'genomically_tumour',\n",
    "                                        .default = 'others'))"
   ]
  },
  {
   "cell_type": "markdown",
   "id": "b9546afa",
   "metadata": {},
   "source": [
    "table(adata_all@meta.data['Numbat_and_Scitcem_and_infercnv'])"
   ]
  },
  {
   "cell_type": "code",
   "execution_count": null,
   "id": "0a086fb2",
   "metadata": {},
   "outputs": [],
   "source": [
    "sapply(adata_all@meta.data, class)"
   ]
  },
  {
   "cell_type": "code",
   "execution_count": null,
   "id": "d81b6519",
   "metadata": {},
   "outputs": [],
   "source": [
    "cell_type_order = c('Tumour-like',\n",
    "                    'Stem', 'Stem_TA', \n",
    "                    'Tuft',\n",
    "                    'Immature_Goblet', 'Goblet',\n",
    "                    'Enterocyte_progenitor', 'Enterocytes')"
   ]
  },
  {
   "cell_type": "markdown",
   "id": "cfb47178",
   "metadata": {},
   "source": [
    "adata@meta.data = adata@meta.data %>% \n",
    "mutate(Uhlitz_scANVI_noTC = case_when(\n",
    "    Uhlitz_scANVI %in% c('TC1', 'TC2', 'TC3', 'TC4') ~ 'Tumour-like', \n",
    "    .default = Uhlitz_scANVI))\n",
    "\n",
    "adata@meta.data$Uhlitz_scANVI_noTC = factor(adata@meta.data$Uhlitz_scANVI_noTC, levels = cell_type_order)"
   ]
  },
  {
   "cell_type": "markdown",
   "id": "14f0a224",
   "metadata": {},
   "source": [
    "### remove TCs from normal sample and genomically normal"
   ]
  },
  {
   "cell_type": "code",
   "execution_count": null,
   "id": "b6c805ab",
   "metadata": {},
   "outputs": [],
   "source": [
    "adata_GT = subset(adata_all, subset = sample_origin == 'tumour\\nsample' & \n",
    "                      cell_identity == 'genomically_tumour')"
   ]
  },
  {
   "cell_type": "code",
   "execution_count": null,
   "id": "34aea633",
   "metadata": {},
   "outputs": [],
   "source": [
    "adata_GN_noTCs = subset(adata_all, subset = sample_origin == 'tumour\\nsample' & \n",
    "                        cell_identity == 'genomically_normal' &\n",
    "                        Uhlitz_scANVI %notin% c('TC1', 'TC2', 'TC3', 'TC4'))"
   ]
  },
  {
   "cell_type": "code",
   "execution_count": null,
   "id": "5064edaa",
   "metadata": {},
   "outputs": [],
   "source": [
    "adata_n_noTCs = subset(adata_all, subset = sample_origin != 'tumour\\nsample'  & \n",
    "                       Uhlitz_scANVI %notin% c('TC1', 'TC2', 'TC3', 'TC4'))"
   ]
  },
  {
   "cell_type": "code",
   "execution_count": null,
   "id": "7bc784b7",
   "metadata": {},
   "outputs": [],
   "source": [
    "adata_GT@meta.data = adata_GT@meta.data %>% mutate(Uhlitz_scANVI = 'Tumour-like')"
   ]
  },
  {
   "cell_type": "code",
   "execution_count": null,
   "id": "853c3886",
   "metadata": {},
   "outputs": [],
   "source": [
    "adata_GN_noTCs"
   ]
  },
  {
   "cell_type": "code",
   "execution_count": null,
   "id": "7ffe6ec6",
   "metadata": {},
   "outputs": [],
   "source": [
    "adata_n_noTCs"
   ]
  },
  {
   "cell_type": "code",
   "execution_count": null,
   "id": "a6cc8209",
   "metadata": {},
   "outputs": [],
   "source": [
    "adata = merge(adata_GT,adata_GN_noTCs)"
   ]
  },
  {
   "cell_type": "code",
   "execution_count": null,
   "id": "5f8c6397",
   "metadata": {},
   "outputs": [],
   "source": [
    "adata = merge(adata,adata_n_noTCs)"
   ]
  },
  {
   "cell_type": "code",
   "execution_count": null,
   "id": "807612e3",
   "metadata": {},
   "outputs": [],
   "source": [
    "adata"
   ]
  },
  {
   "cell_type": "markdown",
   "id": "1562c348",
   "metadata": {},
   "source": [
    "#in sce transformation, collapse cannot handle factor\n",
    "adata@meta.data$Uhlitz_scANVI = factor(adata@meta.data$Uhlitz_scANVI, levels = cell_type_order) %>% as.character()"
   ]
  },
  {
   "cell_type": "code",
   "execution_count": null,
   "id": "4a1d5a46",
   "metadata": {},
   "outputs": [],
   "source": []
  },
  {
   "cell_type": "code",
   "execution_count": null,
   "id": "543563e2",
   "metadata": {},
   "outputs": [],
   "source": []
  },
  {
   "cell_type": "markdown",
   "id": "f76b1ed2",
   "metadata": {},
   "source": [
    "### find markers for louvain clusters"
   ]
  },
  {
   "cell_type": "code",
   "execution_count": null,
   "id": "d9ac3649",
   "metadata": {},
   "outputs": [],
   "source": [
    "adata = SetIdent(adata, value = 'louvain')"
   ]
  },
  {
   "cell_type": "code",
   "execution_count": null,
   "id": "b6ed4fe1",
   "metadata": {},
   "outputs": [],
   "source": [
    "specific_to_9 = FindMarkers(adata, ident.1 = '9')"
   ]
  },
  {
   "cell_type": "code",
   "execution_count": null,
   "id": "4f4c4158",
   "metadata": {},
   "outputs": [],
   "source": [
    "specific_to_9"
   ]
  },
  {
   "cell_type": "code",
   "execution_count": null,
   "id": "4e3218e5",
   "metadata": {},
   "outputs": [],
   "source": [
    "options(repr.plot.width=5, \n",
    "        repr.plot.height=5,\n",
    "        repr.plot.res = 300)\n",
    "\n",
    "specific_to_9 %>%  \n",
    "tibble::rownames_to_column(\"gene_symbol\") %>%\n",
    "ggplot(aes(x = avg_log2FC, y = -log(p_val_adj),\n",
    "               color = I(ifelse(p_val_adj < 0.05 & abs(avg_log2FC) > 0.5, 'navyblue', 'grey')),\n",
    "               label = ifelse(p_val_adj < 0.05 & abs(avg_log2FC) > 0.5, gene_symbol,''))) +\n",
    "geom_point(size = 1) + \n",
    "plot_theme_tmod  + \n",
    "geom_text_repel(force = 2, force_pull = 0.5, \n",
    "                box.padding = 1, point.padding = 1,\n",
    "                max.overlaps = 20, direction = 'both',\n",
    "                min.segment.length = 0.1,\n",
    "                aes(color = 'grey10', segment.linetype = 3)) +\n",
    "labs(title = paste0('Volcano plot of cluster 9 vs others')) +\n",
    "theme(plot.title = element_text(hjust = 0.5)) +\n",
    "xlim(-2,2)\n",
    "    "
   ]
  },
  {
   "cell_type": "code",
   "execution_count": null,
   "id": "162238e6",
   "metadata": {},
   "outputs": [],
   "source": [
    "options(repr.plot.width=16, \n",
    "        repr.plot.height=8,\n",
    "        repr.plot.res = 300)\n",
    "\n",
    "adata = SetIdent(adata, value = 'louvain')\n",
    "DotPlot(adata, features = c(rownames_to_column(specific_to_9)[1:20, 'rowname'])) +\n",
    "theme(axis.text.x = element_text(angle = 90))"
   ]
  },
  {
   "cell_type": "code",
   "execution_count": null,
   "id": "1870f8a4",
   "metadata": {},
   "outputs": [],
   "source": [
    "# dot plot of the top genes across all clusters\n",
    "options(repr.plot.width=8, \n",
    "        repr.plot.height=6,\n",
    "        repr.plot.res = 300)\n",
    "\n",
    "c9_marker_exp = as.data.frame(FetchData(adata, vars = rownames_to_column(specific_to_9)[1:20, 'rowname'])) %>% \n",
    "rownames_to_column()\n",
    "\n",
    "df =  as.data.frame(adata@meta.data[c('louvain')])  %>% rownames_to_column()\n",
    "\n",
    "#df$cell_identity = factor(cell_type_df$cell_identity, \n",
    "                                    #levels = c('normal_sample', 'genomically_normal', 'genomically_tumour')) \n",
    "\n",
    "#df$Uhlitz_scANVI = factor(cell_type_df$Uhlitz_scANVI, \n",
    "                                         #levels = cell_type_order)\n",
    "df$louvain = factor(df$louvain, levels = c('0','1','2','3','4','5','6','7','8','9',\n",
    "                                           '10','11','12','13','14','15','16','17','18','19'))\n",
    "\n",
    "\n",
    "\n",
    "c9_marker_exp %>% \n",
    "left_join(df, by = c('rowname' = 'rowname')) %>%\n",
    "pivot_longer(!c(rowname, louvain), \n",
    "             names_to = 'gene_symbol', values_to = 'expression') %>%\n",
    "mutate(gene_symbol = factor(gene_symbol, levels = rownames_to_column(specific_to_9)[1:20, 'rowname'])) %>%\n",
    "group_by(gene_symbol, louvain) %>%\n",
    "mutate(mean_expression = mean(expression), \n",
    "       ncell = n(), \n",
    "       nonzero = ifelse(expression != 0, 1, 0),\n",
    "       nonzerocell = sum(nonzero),\n",
    "       cell_fraction = nonzerocell/ncell) %>%\n",
    "ungroup() %>%\n",
    "distinct() %>%\n",
    "ggplot(aes(x = louvain, y = gene_symbol)) +\n",
    "geom_tile(fill = 'white') +\n",
    "coord_equal() +\n",
    "geom_point(aes(size = cell_fraction, color = mean_expression)) +\n",
    "scale_color_gradient2(low = 'blue3', high = 'red3', mid = 'grey85')+\n",
    "plot_theme_tmod +\n",
    "theme(panel.grid = element_blank(),\n",
    "      axis.text.x = element_text(angle = 90),\n",
    "      strip.background = element_blank(), \n",
    "      strip.text = element_text(size = 13), \n",
    "      panel.spacing = unit(1, \"lines\")) +\n",
    "geom_vline(xintercept = seq(0.5, 20), color = 'grey') +\n",
    "geom_hline(yintercept = seq(0.5, 54), color = 'grey') +\n",
    "scale_y_discrete(limits = rev)"
   ]
  },
  {
   "cell_type": "code",
   "execution_count": null,
   "id": "dac93fd1",
   "metadata": {},
   "outputs": [],
   "source": [
    "# dot plot of the top genes across all clusters\n",
    "options(repr.plot.width=8, \n",
    "        repr.plot.height=6,\n",
    "        repr.plot.res = 300)\n",
    "\n",
    "sig_c9_list= specific_to_9 %>% filter(abs(avg_log2FC) > 0.5) %>% rownames_to_column()\n",
    "\n",
    "c9_marker_exp = as.data.frame(FetchData(adata, vars = sig_c9_list$rowname)) %>% \n",
    "rownames_to_column()\n",
    "\n",
    "df =  as.data.frame(adata@meta.data[c('louvain')])  %>% rownames_to_column()\n",
    "\n",
    "#df$cell_identity = factor(cell_type_df$cell_identity, \n",
    "                                    #levels = c('normal_sample', 'genomically_normal', 'genomically_tumour')) \n",
    "\n",
    "#df$Uhlitz_scANVI = factor(cell_type_df$Uhlitz_scANVI, \n",
    "                                         #levels = cell_type_order)\n",
    "df$louvain = factor(df$louvain, levels = c('0','1','2','3','4','5','6','7','8','9',\n",
    "                                           '10','11','12','13','14','15','16','17','18','19'))\n",
    "\n",
    "\n",
    "\n",
    "c9_marker_exp %>% \n",
    "left_join(df, by = c('rowname' = 'rowname')) %>%\n",
    "pivot_longer(!c(rowname, louvain), \n",
    "             names_to = 'gene_symbol', values_to = 'expression') %>%\n",
    "mutate(gene_symbol = factor(gene_symbol, levels = sig_c9_list$rowname)) %>%\n",
    "group_by(gene_symbol, louvain) %>%\n",
    "mutate(mean_expression = mean(expression), ncell = n(), \n",
    "       nonzero = ifelse(expression != 0, 1, 0),\n",
    "       nonzerocell = sum(nonzero),\n",
    "       cell_fraction = nonzerocell/ncell) %>%\n",
    "ungroup() %>%\n",
    "distinct() %>%\n",
    "ggplot(aes(x = louvain, y = gene_symbol)) +\n",
    "geom_tile(fill = 'white') +\n",
    "coord_equal() +\n",
    "geom_point(aes(size = cell_fraction, color = mean_expression)) +\n",
    "scale_color_gradient2(low = 'blue3', high = 'red3', mid = 'grey85')+\n",
    "plot_theme_tmod +\n",
    "theme(panel.grid = element_blank(),\n",
    "      axis.text.x = element_text(angle = 90),\n",
    "      strip.background = element_blank(), \n",
    "      strip.text = element_text(size = 13), \n",
    "      panel.spacing = unit(1, \"lines\")) +\n",
    "geom_vline(xintercept = seq(0.5, 20), color = 'grey') +\n",
    "geom_hline(yintercept = seq(0.5, 54), color = 'grey') +\n",
    "#facet_grid(cols = vars(cell_identity), space = 'free', scale = 'free') +\n",
    "scale_y_discrete(limits = rev)"
   ]
  },
  {
   "cell_type": "code",
   "execution_count": null,
   "id": "0abe531a",
   "metadata": {},
   "outputs": [],
   "source": [
    "options(repr.plot.width=24, \n",
    "        repr.plot.height=6,\n",
    "        repr.plot.res = 300)\n",
    "\n",
    "stem_markers = c('LGR5', 'ASCL2', 'EPHB2', 'OLFM4', 'SOX9', 'TNFRSF19', 'BCL2', 'SOX4', 'CD44',\n",
    "                'YAP1', 'KIT', 'JUN','JUNB', 'MIF', 'NPM1')\n",
    "\n",
    "stem_marker_exp = as.data.frame(FetchData(adata, vars = stem_markers)) %>% \n",
    "rownames_to_column()\n",
    "\n",
    "df =  as.data.frame(adata@meta.data[c('louvain', 'cell_identity')])  %>% rownames_to_column()\n",
    "\n",
    "df$louvain = factor(df$louvain, levels = c('0','1','2','3','4','5','6','7','8','9',\n",
    "                                           '10','11','12','13','14','15','16','17','18','19'))\n",
    "\n",
    "df$cell_identity = factor(df$cell_identity, \n",
    "                                    levels = c('normal_sample', 'genomically_normal', 'genomically_tumour')) \n",
    "#cell_type_df$Uhlitz_scANVI = factor(cell_type_df$Uhlitz_scANVI, \n",
    "#                                         levels = cell_type_order)\n",
    "\n",
    "\n",
    "stem_marker_exp %>% \n",
    "left_join(df, by = c('rowname' = 'rowname')) %>%\n",
    "pivot_longer(!c(rowname, louvain, cell_identity), \n",
    "             names_to = 'gene_symbol', values_to = 'expression') %>%\n",
    "mutate(gene_symbol = factor(gene_symbol, levels = stem_markers)) %>%\n",
    "group_by(gene_symbol, louvain,cell_identity) %>%\n",
    "mutate(mean_expression = mean(expression), ncell = n(), \n",
    "       nonzero = ifelse(expression != 0, 1, 0),\n",
    "       nonzerocell = sum(nonzero),\n",
    "       cell_fraction = nonzerocell/ncell) %>%\n",
    "ungroup() %>%\n",
    "distinct() %>%\n",
    "ggplot(aes(x = louvain, y = gene_symbol)) +\n",
    "geom_tile(fill = 'white') +\n",
    "#coord_equal() +\n",
    "geom_point(aes(size = cell_fraction, color = mean_expression)) +\n",
    "scale_color_gradient2(low = 'blue3', high = 'red3', mid = 'grey85')+\n",
    "plot_theme_tmod +\n",
    "theme(panel.grid = element_blank(),\n",
    "      axis.text.x = element_text(angle = 90),\n",
    "      strip.background = element_blank(), \n",
    "      strip.text = element_text(size = 13), \n",
    "      panel.spacing = unit(1, \"lines\")) +\n",
    "geom_vline(xintercept = seq(0.5, 20), color = 'grey') +\n",
    "geom_hline(yintercept = seq(0.5, 54), color = 'grey') +\n",
    "scale_y_discrete(limits = rev) +\n",
    "facet_grid(cols = vars(cell_identity))"
   ]
  },
  {
   "cell_type": "code",
   "execution_count": null,
   "id": "76f6c039",
   "metadata": {},
   "outputs": [],
   "source": [
    "# dot plot of the top genes across all clusters\n",
    "options(repr.plot.width=48, \n",
    "        repr.plot.height=16,\n",
    "        repr.plot.res = 300)\n",
    "\n",
    "stem_markers = c('LGR5', 'ASCL2', 'EPHB2', 'OLFM4', 'SOX9', 'TNFRSF19', 'BCL2', 'SOX4', 'CD44',\n",
    "                'YAP1', 'KIT', 'JUN','JUNB', 'MIF', 'NPM1')\n",
    "\n",
    "stem_marker_exp = as.data.frame(FetchData(adata, vars = stem_markers)) %>% \n",
    "rownames_to_column()\n",
    "\n",
    "df =  as.data.frame(adata@meta.data[c('louvain', 'cell_identity','Uhlitz_scANVI')])  %>% rownames_to_column()\n",
    "\n",
    "df$louvain = factor(df$louvain, levels = c('0','1','2','3','4','5','6','7','8','9',\n",
    "                                           '10','11','12','13','14','15','16','17','18','19'))\n",
    "\n",
    "df$cell_identity = factor(df$cell_identity, \n",
    "                                    levels = c('normal_sample', 'genomically_normal', 'genomically_tumour')) \n",
    "df$Uhlitz_scANVI = factor(df$Uhlitz_scANVI, \n",
    "                                         levels = cell_type_order)\n",
    "\n",
    "\n",
    "stem_marker_exp %>% \n",
    "left_join(df, by = c('rowname' = 'rowname')) %>%\n",
    "pivot_longer(!c(rowname, louvain, cell_identity, Uhlitz_scANVI), \n",
    "             names_to = 'gene_symbol', values_to = 'expression') %>%\n",
    "mutate(gene_symbol = factor(gene_symbol, levels = stem_markers)) %>%\n",
    "group_by(gene_symbol, louvain, cell_identity, Uhlitz_scANVI) %>%\n",
    "mutate(mean_expression = mean(expression), ncell = n(), \n",
    "       nonzero = ifelse(expression != 0, 1, 0),\n",
    "       nonzerocell = sum(nonzero),\n",
    "       cell_fraction = nonzerocell/ncell) %>%\n",
    "ungroup() %>%\n",
    "distinct() %>%\n",
    "ggplot(aes(x = louvain, y = gene_symbol)) +\n",
    "geom_tile(fill = 'white') +\n",
    "coord_equal() +\n",
    "geom_point(aes(size = cell_fraction, color = mean_expression)) +\n",
    "scale_color_gradient2(low = 'blue3', high = 'red3', mid = 'grey85')+\n",
    "plot_theme_tmod +\n",
    "theme(panel.grid = element_blank(),\n",
    "      axis.text.x = element_text(angle = 90),\n",
    "      strip.background = element_blank(), \n",
    "      strip.text = element_text(size = 13), \n",
    "      panel.spacing = unit(1, \"lines\")) +\n",
    "geom_vline(xintercept = seq(0.5, 20), color = 'grey') +\n",
    "geom_hline(yintercept = seq(0.5, 54), color = 'grey') +\n",
    "scale_y_discrete(limits = rev) +\n",
    "facet_grid(rows = vars(cell_identity), cols = vars(Uhlitz_scANVI))"
   ]
  },
  {
   "cell_type": "code",
   "execution_count": null,
   "id": "c575f2f6",
   "metadata": {},
   "outputs": [],
   "source": []
  },
  {
   "cell_type": "code",
   "execution_count": null,
   "id": "11a9221b",
   "metadata": {},
   "outputs": [],
   "source": []
  },
  {
   "cell_type": "code",
   "execution_count": null,
   "id": "585f41d5",
   "metadata": {},
   "outputs": [],
   "source": []
  },
  {
   "cell_type": "code",
   "execution_count": null,
   "id": "44052e9a",
   "metadata": {},
   "outputs": [],
   "source": []
  },
  {
   "cell_type": "code",
   "execution_count": null,
   "id": "b0e8994c",
   "metadata": {},
   "outputs": [],
   "source": []
  },
  {
   "cell_type": "code",
   "execution_count": null,
   "id": "bfc3bbd2",
   "metadata": {},
   "outputs": [],
   "source": [
    "between_7_and_9 = FindMarkers(adata, ident.1 = '9', ident.2 = '7')"
   ]
  },
  {
   "cell_type": "code",
   "execution_count": null,
   "id": "75a05473",
   "metadata": {},
   "outputs": [],
   "source": [
    "between_7_and_9"
   ]
  },
  {
   "cell_type": "code",
   "execution_count": null,
   "id": "70c2f58b",
   "metadata": {},
   "outputs": [],
   "source": [
    "# take all cells in cluster 9, and find markers that separate cells in the ident group\n",
    "T_vs_N_in_9 = FindMarkers(adata, subset.ident = '9', group.by = 'sample_origin', ident.1 = 'tumour\\nsample')"
   ]
  },
  {
   "cell_type": "code",
   "execution_count": null,
   "id": "3fec4667",
   "metadata": {},
   "outputs": [],
   "source": [
    "T_vs_N_in_9"
   ]
  },
  {
   "cell_type": "markdown",
   "id": "da181311",
   "metadata": {},
   "source": [
    "Not enough cells\n",
    "T_vs_N_in_9_in_stems = FindMarkers(subset(adata_all, Uhlitz_scANVI %in% c('Stem', 'Stem_TA')), \n",
    "                          subset.ident = '9', group.by = 'sample_origin', ident.1 = 'tumour\\nsample')"
   ]
  },
  {
   "cell_type": "code",
   "execution_count": null,
   "id": "c404f766",
   "metadata": {},
   "outputs": [],
   "source": [
    "adata = SetIdent(adata, value = 'Uhlitz_scANVI')"
   ]
  },
  {
   "cell_type": "code",
   "execution_count": null,
   "id": "53e9bec4",
   "metadata": {},
   "outputs": [],
   "source": [
    "# normal stem vs tumour stem\n",
    "T_vs_N_stems = FindMarkers(adata,\n",
    "                           subset.ident = c('Stem'), \n",
    "                           group.by = 'sample_origin', ident.1 = 'tumour\\nsample')"
   ]
  },
  {
   "cell_type": "code",
   "execution_count": null,
   "id": "ec1ab638",
   "metadata": {},
   "outputs": [],
   "source": [
    "T_vs_N_stems"
   ]
  },
  {
   "cell_type": "code",
   "execution_count": null,
   "id": "7f406382",
   "metadata": {},
   "outputs": [],
   "source": [
    "options(repr.plot.width=6, \n",
    "        repr.plot.height=6,\n",
    "        repr.plot.res = 300)\n",
    "\n",
    "T_vs_N_stems %>%  \n",
    "tibble::rownames_to_column(\"gene_symbol\") %>%\n",
    "ggplot(aes(x = avg_log2FC, y = -log(p_val_adj),\n",
    "               color = I(ifelse(p_val_adj < 0.05 & abs(avg_log2FC) > 0.5, 'navyblue', 'grey')),\n",
    "               label = ifelse(p_val_adj < 0.05 & abs(avg_log2FC) > 0.5, gene_symbol,''))) +\n",
    "geom_point(size = 1) + \n",
    "plot_theme_tmod  + \n",
    "geom_text_repel(force = 2, force_pull = 1, \n",
    "                box.padding = 1, point.padding = 1,\n",
    "                max.overlaps = 30, direction = 'both',\n",
    "                min.segment.length = 0.1,\n",
    "                aes(color = 'grey10', segment.linetype = 3)) +\n",
    "labs(title = paste0('Volcano plot of stem cells from\\ntumour samples vs normal samples')) +\n",
    "theme(plot.title = element_text(hjust = 0.5)) +\n",
    "xlim(-1.5,1.5)\n",
    "    "
   ]
  },
  {
   "cell_type": "markdown",
   "id": "2f0b303b",
   "metadata": {},
   "source": [
    "### cluster 9 stems vs normal stems"
   ]
  },
  {
   "cell_type": "code",
   "execution_count": null,
   "id": "5583ba8d",
   "metadata": {},
   "outputs": [],
   "source": [
    "table(subset(adata, Uhlitz_scANVI == 'Stem')@meta.data[c('louvain', 'sample_origin')])"
   ]
  },
  {
   "cell_type": "code",
   "execution_count": null,
   "id": "f53f2530",
   "metadata": {},
   "outputs": [],
   "source": [
    "c9_stem = subset(adata, Uhlitz_scANVI == 'Stem' & louvain == '9' & sample_origin == 'tumour\\nsample')"
   ]
  },
  {
   "cell_type": "code",
   "execution_count": null,
   "id": "53e7edb1",
   "metadata": {},
   "outputs": [],
   "source": [
    "normal_stem = subset(adata, Uhlitz_scANVI == 'Stem' & sample_origin == '\\nnormal\\nsample\\n')"
   ]
  },
  {
   "cell_type": "code",
   "execution_count": null,
   "id": "09fb9eef",
   "metadata": {},
   "outputs": [],
   "source": [
    "c9_normal_stem = merge(c9_stem, normal_stem)"
   ]
  },
  {
   "cell_type": "code",
   "execution_count": null,
   "id": "7f89a4d2",
   "metadata": {},
   "outputs": [],
   "source": [
    "c9_vs_N_stems = FindMarkers(c9_normal_stem,\n",
    "                            subset.ident = c('Stem'), \n",
    "                            group.by = 'louvain', ident.1 = '9')"
   ]
  },
  {
   "cell_type": "code",
   "execution_count": null,
   "id": "2fd48773",
   "metadata": {},
   "outputs": [],
   "source": [
    "c9_vs_N_stems"
   ]
  },
  {
   "cell_type": "code",
   "execution_count": null,
   "id": "60c8b814",
   "metadata": {},
   "outputs": [],
   "source": [
    "c9_vs_N_stems"
   ]
  },
  {
   "cell_type": "code",
   "execution_count": null,
   "id": "27a67987",
   "metadata": {},
   "outputs": [],
   "source": [
    "c9_vs_N_stems %>%  \n",
    "tibble::rownames_to_column(\"gene_symbol\") %>%\n",
    "ggplot(aes(x = avg_log2FC, y = -log(p_val_adj),\n",
    "               color = I(ifelse(p_val_adj < 0.05 & abs(avg_log2FC) > 0.5, 'navyblue', 'grey')),\n",
    "               label = ifelse(p_val_adj < 0.05 & abs(avg_log2FC) > 0.5, gene_symbol,''))) +\n",
    "geom_point(size = 1.5) + \n",
    "plot_theme_tmod  + \n",
    "geom_text_repel(force = 2, force_pull = 1, \n",
    "                box.padding = 1, point.padding = 1,\n",
    "                max.overlaps = 30, direction = 'both',\n",
    "                min.segment.length = 0.1,\n",
    "                aes(color = 'grey10', segment.linetype = 3)) +\n",
    "labs(title = paste0('Volcano plot of cluster 9 stem cells\\nvs normal stem cells')) +\n",
    "theme(plot.title = element_text(hjust = 0.5)) +\n",
    "xlim(-1.5, 1.5)\n",
    "    "
   ]
  },
  {
   "cell_type": "markdown",
   "id": "a4c6c086",
   "metadata": {},
   "source": [
    "### tumour sample stem in 9  vs all other stems\n",
    "for the three cell types: Stem, Stem/TA, Enterocytes "
   ]
  },
  {
   "cell_type": "code",
   "execution_count": null,
   "id": "25f879b5",
   "metadata": {},
   "outputs": [],
   "source": [
    "table(subset(adata, louvain == '9' & sample_origin == 'tumour\\nsample')@meta.data$Uhlitz_scANVI)"
   ]
  },
  {
   "cell_type": "code",
   "execution_count": null,
   "id": "98a6ea59",
   "metadata": {},
   "outputs": [],
   "source": [
    "c9_vs_other_stems = FindMarkers(adata,\n",
    "                           subset.ident = c('Stem'), \n",
    "                           group.by = 'louvain', ident.1 = '9')"
   ]
  },
  {
   "cell_type": "code",
   "execution_count": null,
   "id": "9c0a7cfd",
   "metadata": {},
   "outputs": [],
   "source": [
    "c9_vs_other_stems"
   ]
  },
  {
   "cell_type": "code",
   "execution_count": null,
   "id": "c5cbe9c3",
   "metadata": {},
   "outputs": [],
   "source": [
    "c9_vs_other_stems %>%  \n",
    "tibble::rownames_to_column(\"gene_symbol\") %>%\n",
    "ggplot(aes(x = avg_log2FC, y = -log(p_val_adj),\n",
    "               color = I(ifelse(p_val_adj < 0.05 & abs(avg_log2FC) > 0.5, 'navyblue', 'grey')),\n",
    "               label = ifelse(p_val_adj < 0.05 & abs(avg_log2FC) > 0.5, gene_symbol,''))) +\n",
    "geom_point(size = 2) + \n",
    "plot_theme_tmod  + \n",
    "geom_text_repel(force = 2, force_pull = 1, \n",
    "                box.padding = 1, point.padding = 1,\n",
    "                max.overlaps = 30, direction = 'both',\n",
    "                min.segment.length = 0.1,\n",
    "                aes(color = 'grey10', segment.linetype = 3)) +\n",
    "labs(title = paste0('Volcano plot of cluster 9 stem cells\\nvs all other stem cells')) +\n",
    "theme(plot.title = element_text(hjust = 0.5)) +\n",
    "xlim(-1.5, 1.5)\n",
    "    "
   ]
  },
  {
   "cell_type": "code",
   "execution_count": null,
   "id": "e06f682f",
   "metadata": {},
   "outputs": [],
   "source": [
    "c9_vs_N_stemta = FindMarkers(adata,\n",
    "                           subset.ident = c('Stem_TA'), \n",
    "                           group.by = 'louvain', ident.1 = '9')"
   ]
  },
  {
   "cell_type": "code",
   "execution_count": null,
   "id": "be08aa0d",
   "metadata": {},
   "outputs": [],
   "source": [
    "c9_vs_N_stemta"
   ]
  },
  {
   "cell_type": "code",
   "execution_count": null,
   "id": "f27e9226",
   "metadata": {},
   "outputs": [],
   "source": [
    "c9_vs_N_ep = FindMarkers(adata,\n",
    "                           subset.ident = c('Enterocyte_progenitor'), \n",
    "                           group.by = 'louvain', ident.1 = '9')"
   ]
  },
  {
   "cell_type": "code",
   "execution_count": null,
   "id": "fec97066",
   "metadata": {},
   "outputs": [],
   "source": [
    "c9_vs_N_ep"
   ]
  },
  {
   "cell_type": "code",
   "execution_count": null,
   "id": "415312e1",
   "metadata": {},
   "outputs": [],
   "source": [
    "c9_vs_N_ent = FindMarkers(adata,\n",
    "                           subset.ident = c('Enterocytes'), \n",
    "                           group.by = 'louvain', ident.1 = '9')"
   ]
  },
  {
   "cell_type": "code",
   "execution_count": null,
   "id": "207bcf99",
   "metadata": {},
   "outputs": [],
   "source": [
    "c9_vs_N_ent[which(c9_vs_N_ent$p_val_adj < 0.05),]"
   ]
  },
  {
   "cell_type": "code",
   "execution_count": null,
   "id": "2ccb34b0",
   "metadata": {},
   "outputs": [],
   "source": []
  },
  {
   "cell_type": "code",
   "execution_count": null,
   "id": "7ec11b5f",
   "metadata": {},
   "outputs": [],
   "source": []
  },
  {
   "cell_type": "code",
   "execution_count": null,
   "id": "2c653731",
   "metadata": {},
   "outputs": [],
   "source": []
  },
  {
   "cell_type": "code",
   "execution_count": null,
   "id": "96ebea7c",
   "metadata": {},
   "outputs": [],
   "source": []
  },
  {
   "cell_type": "code",
   "execution_count": null,
   "id": "4942bf06",
   "metadata": {},
   "outputs": [],
   "source": []
  },
  {
   "cell_type": "code",
   "execution_count": null,
   "id": "4ac7ffcc",
   "metadata": {},
   "outputs": [],
   "source": []
  },
  {
   "cell_type": "markdown",
   "id": "e1312ce1",
   "metadata": {},
   "source": [
    "### some stats"
   ]
  },
  {
   "cell_type": "markdown",
   "id": "af6b0f2a",
   "metadata": {},
   "source": [
    "df_4anno_7celltype = table(adata_all@meta.data[c('Uhlitz_scANVI', 'cell_identity', 'sample')]) %>% \n",
    "as.data.frame() %>% \n",
    "filter(Freq > 0) %>%\n",
    "mutate(cell_identity = factor(cell_identity, \n",
    "                                            levels = c('genomically_tumour',\n",
    "                                                       'no confident assignment',\n",
    "                                                       'genomically_normal',\n",
    "                                                       'normal_sample'))) %>%\n",
    "group_by(Uhlitz_scANVI, cell_identity) %>%\n",
    "mutate(n_sample = n()) %>% \n",
    "arrange(Uhlitz_scANVI, cell_identity) %>%\n",
    "distinct(n_sample) %>%\n",
    "mutate(cell_identity = dplyr::recode(cell_identity,\n",
    "                                            'normal_sample' = 'normal sample (n=9)',\n",
    "                                            'genomically_normal' = 'genomically normal (n=11)',\n",
    "                                             'no confident assignment' = 'no confident assignment (n=11)',\n",
    "                                             'genomically_tumour' = 'genomically tumour (n=11)')) "
   ]
  },
  {
   "cell_type": "markdown",
   "id": "fd2e281e",
   "metadata": {},
   "source": [
    "options(repr.plot.width=10, \n",
    "        repr.plot.height=6,\n",
    "        repr.plot.res = 300)\n",
    "\n",
    "# 4 anno x 7 cell type\n",
    "df_4anno_7celltype %>%\n",
    "ggplot(aes(x = Uhlitz_scANVI, y = cell_identity)) + \n",
    "geom_tile(aes(fill = n_sample)) +\n",
    "geom_text(aes(label = n_sample)) +\n",
    "scale_fill_gradient(low = \"grey95\", high = \"red\") +\n",
    "plot_theme_tmod + \n",
    "coord_equal() +\n",
    "theme(plot.title = element_text(hjust = 0.5),\n",
    "      rect = element_blank(),\n",
    "      axis.ticks = element_blank(),\n",
    "      #aspect.ratio=0.5,\n",
    "      axis.text.x = element_text(angle = 90)) +\n",
    "guides(fill = guide_legend(title = \"Count\")) +\n",
    "labs(title = 'Number of sample in each group\\n',\n",
    "     x = 'Cell type',\n",
    "     y = 'Cell identity\\n')"
   ]
  },
  {
   "cell_type": "markdown",
   "id": "1240fa48",
   "metadata": {},
   "source": [
    "df_allcelltype_all = table(adata_all@meta.data[c('Uhlitz_scANVI', 'cell_identity')]) %>% \n",
    "as.data.frame() %>% \n",
    "mutate(cell_identity = factor(cell_identity, \n",
    "                                            levels = c('genomically_tumour',\n",
    "                                                       'no confident assignment',\n",
    "                                                       'genomically_normal',\n",
    "                                                       'normal_sample'))) %>%\n",
    "mutate(cell_identity_with_number = dplyr::recode(cell_identity,\n",
    "                                            'normal_sample' = 'normal sample (n=9)',\n",
    "                                            'genomically_normal' = 'genomically normal (n=11)',\n",
    "                                            'no confident assignment' = 'no confident assignment (n=11)',\n",
    "                                            'genomically_tumour' = 'genomically tumour (n=11)')) %>% \n",
    "group_by(Uhlitz_scANVI) %>%\n",
    "mutate(Percentage = round(Freq/sum(Freq)*100,0),Sum = sum(Freq)) %>% \n",
    "group_by(cell_identity) %>% \n",
    "mutate(Percentage_sample = round(Freq/sum(Freq)*100,0),Sum_sample = sum(Freq))"
   ]
  },
  {
   "cell_type": "markdown",
   "id": "98662175",
   "metadata": {},
   "source": [
    "table(adata_all@meta.data$cell_identity)"
   ]
  },
  {
   "cell_type": "markdown",
   "id": "9a743732",
   "metadata": {},
   "source": [
    "options(repr.plot.width=12, \n",
    "        repr.plot.height=8,\n",
    "        repr.plot.res = 300)\n",
    "\n",
    "df_allcelltype_all %>%\n",
    "ggplot(aes(x = Uhlitz_scANVI, y = cell_identity_with_number)) + \n",
    "geom_tile(aes(fill = Percentage_sample), color = 'black') +\n",
    "geom_text(aes(label = paste0(Freq, '\\n', \n",
    "                             Percentage, '%\\n',\n",
    "                             Percentage_sample, '%'))) +\n",
    "scale_fill_gradient(low = \"grey95\", high = \"red\", name = '% per cell identity') +\n",
    "plot_theme_tmod + \n",
    "theme(plot.title = element_text(hjust = 0.5),\n",
    "      rect = element_blank(),\n",
    "      axis.ticks = element_blank(),\n",
    "      axis.text.x = element_text(angle = 90)) +\n",
    "#guides(fill = guide_legend(title = \"Count\")) +\n",
    "labs(title = '\\nNumber of cell in each group\\n',\n",
    "     x = 'Cell type (including TCs)',\n",
    "     y = 'Cell identity\\n') +\n",
    "scale_x_discrete(labels = paste0(levels(df_allcelltype_all$Uhlitz_scANVI), ' (',unique(df_allcelltype_all$Sum),')')) +\n",
    "scale_y_discrete(labels = paste0(levels(df_allcelltype_all$cell_identity_with_number), \n",
    "                                 '\\n (#cell = ', \n",
    "                                 table(adata_all@meta.data$cell_identity)[levels(df_allcelltype_all$cell_identity)],')'))\n"
   ]
  },
  {
   "cell_type": "markdown",
   "id": "0bf5b216",
   "metadata": {},
   "source": [
    "### transform to SCE\n",
    "https://hbctraining.github.io/scRNA-seq_online/lessons/pseudobulk_DESeq2_scrnaseq.html"
   ]
  },
  {
   "cell_type": "code",
   "execution_count": null,
   "id": "0959000a",
   "metadata": {},
   "outputs": [],
   "source": [
    "# counts need to be a matrix\n",
    "counts = adata@assays$raw_counts@counts\n",
    "metadata = adata@meta.data\n",
    "\n",
    "sce <- SingleCellExperiment(assays = list(counts = counts), \n",
    "                           colData = metadata)"
   ]
  },
  {
   "cell_type": "code",
   "execution_count": null,
   "id": "5654125b",
   "metadata": {},
   "outputs": [],
   "source": [
    "colnames(colData(sce))"
   ]
  },
  {
   "cell_type": "markdown",
   "id": "965a88f6",
   "metadata": {},
   "source": [
    "### pseudobulk summing counts"
   ]
  },
  {
   "cell_type": "code",
   "execution_count": null,
   "id": "fd6f19d4",
   "metadata": {},
   "outputs": [],
   "source": [
    "groups = c(\"cell_identity\", \"sample\", \"Uhlitz_scANVI\")"
   ]
  },
  {
   "cell_type": "code",
   "execution_count": null,
   "id": "ba75a9c9",
   "metadata": {},
   "outputs": [],
   "source": [
    "# more than 30 mins???\n",
    "# counts need to be a matrix > real fast\n",
    "summed <- aggregateAcrossCells(sce,\n",
    "                               id=colData(sce)[,groups])\n",
    "summed"
   ]
  },
  {
   "cell_type": "markdown",
   "id": "b68eaa8f",
   "metadata": {},
   "source": [
    "colData(summed)[,c('Numbat_and_Scitcem_and_infercnv', 'ncells')]"
   ]
  },
  {
   "cell_type": "code",
   "execution_count": null,
   "id": "2117deee",
   "metadata": {},
   "outputs": [],
   "source": [
    "# add rownames to summed\n",
    "# collapse \n",
    "colnames(summed) = apply(colData(summed)[,groups], 1, function(x)paste(x, collapse = '_'))"
   ]
  },
  {
   "cell_type": "markdown",
   "id": "3289c34b",
   "metadata": {},
   "source": [
    "### keep only wanted groups: normal cells and genomically normal cells, no TCs"
   ]
  },
  {
   "cell_type": "code",
   "execution_count": null,
   "id": "26efed2a",
   "metadata": {},
   "outputs": [],
   "source": [
    "pseudo_bulk = summed[,str_detect(colnames(summed), 'normal')] \n",
    "#pseudo_bulk = pseudo_bulk[,!str_detect(colnames(pseudo_bulk), 'TC[1-4]$')] "
   ]
  },
  {
   "cell_type": "code",
   "execution_count": null,
   "id": "2cfe5960",
   "metadata": {},
   "outputs": [],
   "source": [
    "head(pseudo_bulk)"
   ]
  },
  {
   "cell_type": "markdown",
   "id": "b6ec5e89",
   "metadata": {},
   "source": [
    "### DESeq2"
   ]
  },
  {
   "cell_type": "markdown",
   "id": "81883f2a",
   "metadata": {},
   "source": [
    "Use test=\"LRT\" for significance testing when working with single-cell data, over the Wald test. This has been observed across multiple single-cell benchmarks.\n",
    "Set the following DESeq arguments to these values: useT=TRUE, minmu=1e-6, and minReplicatesForReplace=Inf. The default setting of minmu was benchmarked on bulk RNA-seq and is not appropriate for single cell data when the expected count is often much less than 1.\n",
    "The default size factors are not optimal for single cell count matrices, instead consider setting sizeFactors from scran::computeSumFactors."
   ]
  },
  {
   "cell_type": "markdown",
   "id": "3144c787",
   "metadata": {},
   "source": [
    "#### need to do this per cell type..........."
   ]
  },
  {
   "cell_type": "code",
   "execution_count": null,
   "id": "0596c731",
   "metadata": {},
   "outputs": [],
   "source": [
    "res_list = list()\n",
    "res_list_df = list()\n",
    "\n",
    "resLFC_list = list()\n",
    "resLFC_df = list()"
   ]
  },
  {
   "cell_type": "code",
   "execution_count": null,
   "id": "d299e6bd",
   "metadata": {},
   "outputs": [],
   "source": [
    "cell_type_list[-c(7:10)]"
   ]
  },
  {
   "cell_type": "code",
   "execution_count": null,
   "id": "a7f68e30",
   "metadata": {},
   "outputs": [],
   "source": [
    "for(ctype in cell_type_list[-c(7:10)]){  # not Tuft\n",
    "    \n",
    "    print(paste0('start calculating DEG with ', ctype))\n",
    "    \n",
    "    slice = pseudo_bulk[,str_detect(colnames(pseudo_bulk), paste0('_',ctype,'$'))] \n",
    "    \n",
    "    # set up DESeq data set\n",
    "    dds <- DESeqDataSetFromMatrix(countData = counts(slice), # not normalised counts\n",
    "                              colData = colData(slice),\n",
    "                              design= ~ cell_identity + patient)\n",
    "    print(dim(dds))\n",
    "    \n",
    "    # set ref level as normal_sample\n",
    "    dds$cell_identity <- relevel(dds$cell_identity, ref = \"normal_sample\")\n",
    "    \n",
    "    # filter low gene\n",
    "    # remove gene with less than 10 counts\n",
    "    #keep <- rowSums(counts(dds)) >= 10\n",
    "    #dds <- dds[keep,]\n",
    "    #print(dim(dds))\n",
    "    \n",
    "    # genes that only express in some samples\n",
    "    #keep <- rowSums(counts(dds) >= 10) >= 5\n",
    "    #dds <- dds[keep,]\n",
    "    \n",
    "    # use recommended params: \n",
    "    # http://bioconductor.org/packages/devel/bioc/vignettes/DESeq2/inst/doc/DESeq2.html#recommendations-for-single-cell-analysis\n",
    "    dds_result <- DESeq(dds, test = 'LRT', reduced = ~ patient,\n",
    "                        useT = TRUE, minmu = 1e-6, minReplicatesForReplace = Inf)\n",
    "    \n",
    "    print(resultsNames(dds_result))\n",
    "    \n",
    "    res <- results(dds_result, name = 'cell_identity_genomically_normal_vs_normal_sample')\n",
    "    \n",
    "    # collect into one list\n",
    "    res_list[[ctype]] = res\n",
    "    \n",
    "    res_list_df[[ctype]] = as.data.frame(res) %>%\n",
    "    tibble::rownames_to_column(\"gene_symbol\")\n",
    "    \n",
    "    # shrinkage result\n",
    "    resLFC = lfcShrink(dds_result, coef = 'cell_identity_genomically_normal_vs_normal_sample', \n",
    "                                type = 'apeglm' )\n",
    "    \n",
    "    resLFC_list[[ctype]] = resLFC\n",
    "    resLFC_df[[ctype]] = as.data.frame(resLFC) %>%\n",
    "    tibble::rownames_to_column(\"gene_symbol\")\n",
    "    \n",
    "}"
   ]
  },
  {
   "cell_type": "code",
   "execution_count": null,
   "id": "f22421fe",
   "metadata": {},
   "outputs": [],
   "source": [
    "names(res_list)\n",
    "# we lost ~10000 genes if removing not so equally expressed genes"
   ]
  },
  {
   "cell_type": "markdown",
   "id": "78a0b4a9",
   "metadata": {},
   "source": [
    "#save file\n",
    "for(res_name in names(res_list)){\n",
    "    res = as.data.frame(res_list[[res_name]])\n",
    "    write_csv(res, paste0('../datasets_new_preprocessing/DEG/normal_cells_from_tumour_vs_from_normal_',\n",
    "                         res_name, '.csv'))\n",
    "}"
   ]
  },
  {
   "cell_type": "code",
   "execution_count": null,
   "id": "1f7c2300",
   "metadata": {},
   "outputs": [],
   "source": [
    "plotMA(res_list[['Stem']])"
   ]
  },
  {
   "cell_type": "code",
   "execution_count": null,
   "id": "6d1a4193",
   "metadata": {},
   "outputs": [],
   "source": [
    "plotMA(resLFC_list[['Stem']])"
   ]
  },
  {
   "cell_type": "code",
   "execution_count": null,
   "id": "73f84ce7",
   "metadata": {},
   "outputs": [],
   "source": [
    "# instead of plotMA(res)\n",
    "plot_MA = function(res_name){\n",
    "    \n",
    "    p = as.data.frame(res_list[[res_name]]) %>%\n",
    "    ggplot() + \n",
    "    geom_point(aes(x = baseMean, y = log2FoldChange, \n",
    "                   color = I(ifelse(padj < 0.05, 'navyblue', 'grey'))), size = 2) +\n",
    "    scale_x_continuous(trans = log10_trans()) +\n",
    "    labs(x = 'mean of normalised counts', y = 'log2 fold change') +\n",
    "    plot_theme_tmod + \n",
    "    labs(title = paste0('MA plot of ', res_name)) +\n",
    "    theme(plot.title = element_text(hjust = 0.5))\n",
    "    \n",
    "    print(p)\n",
    "}"
   ]
  },
  {
   "cell_type": "code",
   "execution_count": null,
   "id": "b64cb926",
   "metadata": {},
   "outputs": [],
   "source": [
    "for(i in names(res_list)){\n",
    "    plot_MA(i)\n",
    "}"
   ]
  },
  {
   "cell_type": "code",
   "execution_count": null,
   "id": "92a543b4",
   "metadata": {},
   "outputs": [],
   "source": [
    "for(i in names(resLFC_list)){\n",
    "    plot_MA(i)\n",
    "}"
   ]
  },
  {
   "cell_type": "code",
   "execution_count": null,
   "id": "5f25cbda",
   "metadata": {},
   "outputs": [],
   "source": [
    "plot_volcano = function(res_name){\n",
    "    \n",
    "    # volcano: lo2FC vs -log(FDR)  \n",
    "    p = as.data.frame(res_list[[res_name]]) %>%\n",
    "    tibble::rownames_to_column(\"gene_symbol\") %>%\n",
    "    ggplot(aes(x = log2FoldChange, y = -log(padj),\n",
    "               color = I(ifelse(padj < 0.05 & abs(log2FoldChange) > 1.5, 'navyblue', 'grey')),\n",
    "               label = ifelse(padj < .05 & abs(log2FoldChange) > 1.5, gene_symbol,''))) +\n",
    "    geom_point(size = 2) + \n",
    "    plot_theme_tmod  + \n",
    "    geom_text_repel(force = 2, force_pull = 1, \n",
    "                box.padding = 1, point.padding = 1,\n",
    "                max.overlaps = 30, direction = 'both',\n",
    "                min.segment.length = 0.1,\n",
    "                aes(color = 'grey10', segment.linetype = 3)) +\n",
    "    labs(title = paste0('Volcano plot of ', res_name, '\\n(normal cells from tumour sample vs from normal sample)')) +\n",
    "    theme(plot.title = element_text(hjust = 0.5))\n",
    "    \n",
    "    print(p)\n",
    "}"
   ]
  },
  {
   "cell_type": "code",
   "execution_count": null,
   "id": "1dc5d98b",
   "metadata": {},
   "outputs": [],
   "source": [
    "for(i in names(res_list)){\n",
    "    plot_volcano(i)\n",
    "}"
   ]
  },
  {
   "cell_type": "code",
   "execution_count": null,
   "id": "fa4b9b85",
   "metadata": {},
   "outputs": [],
   "source": [
    "for(i in names(resLFC_list)){\n",
    "    plot_volcano(i)\n",
    "}"
   ]
  },
  {
   "cell_type": "markdown",
   "id": "eee5a331",
   "metadata": {},
   "source": [
    "### dot plot x  = cell type, y = gene, facet by pathway, color by FC, size by padj"
   ]
  },
  {
   "cell_type": "code",
   "execution_count": null,
   "id": "44150af1",
   "metadata": {},
   "outputs": [],
   "source": [
    "for(i in names(res_list_df)){\n",
    "    res_list_df[[i]]['cell_type'] = i\n",
    "    res_list_df[[i]] = res_list_df[[i]][c('gene_symbol', 'log2FoldChange', 'padj', 'cell_type')] %>% \n",
    "    arrange(padj, abs(log2FoldChange)) #%>%\n",
    "    #filter(padj < 0.05 & abs(log2FoldChange) >= 1 & gene_symbol %in% R_list) \n",
    "}"
   ]
  },
  {
   "cell_type": "code",
   "execution_count": null,
   "id": "c745c4a9",
   "metadata": {},
   "outputs": [],
   "source": [
    "length(res_list_df)"
   ]
  },
  {
   "cell_type": "code",
   "execution_count": null,
   "id": "0259cdd8",
   "metadata": {},
   "outputs": [],
   "source": [
    "dim(bind_rows(res_list_df))"
   ]
  },
  {
   "cell_type": "code",
   "execution_count": null,
   "id": "08900cc1",
   "metadata": {},
   "outputs": [],
   "source": [
    "res_list_df_full = bind_rows(res_list_df)"
   ]
  },
  {
   "cell_type": "code",
   "execution_count": null,
   "id": "7adb03e0",
   "metadata": {},
   "outputs": [],
   "source": [
    "res_list_df_full$cell_type = factor(res_list_df_full$cell_type, levels = cell_type_order)"
   ]
  },
  {
   "cell_type": "code",
   "execution_count": null,
   "id": "b19817ef",
   "metadata": {},
   "outputs": [],
   "source": [
    "for(i in names(resLFC_df)){\n",
    "    resLFC_df[[i]]['cell_type'] = i\n",
    "    resLFC_df[[i]] = resLFC_df[[i]][c('gene_symbol', 'log2FoldChange', 'padj', 'cell_type')] %>% \n",
    "    arrange(padj, abs(log2FoldChange)) #%>%\n",
    "    #filter(padj < 0.05 & abs(log2FoldChange) >= 1 & gene_symbol %in% R_list) \n",
    "}"
   ]
  },
  {
   "cell_type": "code",
   "execution_count": null,
   "id": "82012db9",
   "metadata": {},
   "outputs": [],
   "source": [
    "length(resLFC_df)"
   ]
  },
  {
   "cell_type": "code",
   "execution_count": null,
   "id": "795dd877",
   "metadata": {},
   "outputs": [],
   "source": [
    "dim(bind_rows(resLFC_df))"
   ]
  },
  {
   "cell_type": "code",
   "execution_count": null,
   "id": "5f391609",
   "metadata": {},
   "outputs": [],
   "source": [
    "resLFC_df_full = bind_rows(resLFC_df)\n",
    "resLFC_df_full$cell_type = factor(resLFC_df_full$cell_type, levels = cell_type_order)"
   ]
  },
  {
   "cell_type": "markdown",
   "id": "147cca1c",
   "metadata": {},
   "source": [
    "### receptor expression "
   ]
  },
  {
   "cell_type": "code",
   "execution_count": null,
   "id": "ec23e586",
   "metadata": {},
   "outputs": [],
   "source": [
    "plot_theme_font_size = function(fontsize = 8){\n",
    "    plot_theme =  theme(title = element_text(size = fontsize, family = \"dajavu sans\", colour = 'black', hjust = 0.5),\n",
    "                   axis.title = element_text(size = fontsize, family = \"dajavu sans\", colour = 'black'),\n",
    "                   axis.text = element_text(size = fontsize, family = \"dajavu sans\", colour = 'black'),\n",
    "                   legend.title =  element_text(size = fontsize, family = \"dajavu sans\", colour = 'black'),\n",
    "                   legend.text=element_text(size=fontsize, family = \"dajavu sans\", colour = 'black'),\n",
    "                   text = element_text(size = fontsize, family = \"dajavu sans\", colour = 'black'),\n",
    "                   strip.text = element_text(size = fontsize, family = \"dajavu sans\", colour = 'black'),\n",
    "                   plot.margin = margin(0,0,0,0,\"cm\")) \n",
    "    plot_theme\n",
    "}"
   ]
  },
  {
   "cell_type": "code",
   "execution_count": null,
   "id": "91e41306",
   "metadata": {},
   "outputs": [],
   "source": [
    "options(repr.plot.width=8, \n",
    "        repr.plot.height=18,\n",
    "        repr.plot.res = 300)\n",
    "\n",
    "R_list_exp = as.data.frame(FetchData(adata, vars = R_list)) %>% rownames_to_column()\n",
    "cell_type_df =  as.data.frame(adata@meta.data[c('Uhlitz_scANVI', 'cell_identity')])  %>% rownames_to_column()\n",
    "\n",
    "cell_type_df$cell_identity = factor(cell_type_df$cell_identity, \n",
    "                                    levels = c('normal_sample', 'genomically_normal', 'genomically_tumour')) \n",
    "cell_type_df$Uhlitz_scANVI = factor(cell_type_df$Uhlitz_scANVI, \n",
    "                                         levels = cell_type_order)\n",
    "\n",
    "\n",
    "g = R_list_exp %>% \n",
    "left_join(cell_type_df, by = c('rowname' = 'rowname')) %>%\n",
    "pivot_longer(!c(Uhlitz_scANVI, rowname, cell_identity), names_to = 'gene_symbol', values_to = 'expression') %>%\n",
    "group_by(Uhlitz_scANVI, gene_symbol, cell_identity) %>%\n",
    "mutate(mean_expression = mean(expression), ncell = n(), \n",
    "       nonzero = ifelse(expression != 0, 1, 0),\n",
    "       nonzerocell = sum(nonzero),\n",
    "       cell_fraction = nonzerocell/ncell) %>%\n",
    "ungroup() %>%\n",
    "distinct(Uhlitz_scANVI, gene_symbol, cell_identity, mean_expression, cell_fraction) %>%\n",
    "ggplot(aes(x = Uhlitz_scANVI, y = gene_symbol)) +\n",
    "geom_tile(fill = 'white') +\n",
    "#coord_equal() +\n",
    "geom_point(aes(size = cell_fraction, color = mean_expression)) +\n",
    "scale_color_gradient2(low = 'blue3', high = 'red3', mid = 'grey85')+\n",
    "plot_theme_tmod +\n",
    "theme(panel.grid = element_blank(),\n",
    "      axis.text.x = element_text(angle = 90),\n",
    "      strip.background = element_blank(), \n",
    "      strip.text = element_text(size = 13), \n",
    "      panel.spacing = unit(1, \"lines\")) +\n",
    "geom_vline(xintercept = seq(0.5, 9), color = 'grey') +\n",
    "geom_hline(yintercept = seq(0.5, 54), color = 'grey') +\n",
    "facet_grid(cols = vars(cell_identity), space = 'free', scale = 'free') +\n",
    "scale_y_discrete(limits = rev) +\n",
    "plot_theme_font_size(8)\n",
    "\n",
    "print(g)\n",
    "\n",
    "ggsave(file=\"S6C_R_in_epi_grid.svg\", width = 14, height = 30 , units = \"cm\", dpi = 300)"
   ]
  },
  {
   "cell_type": "markdown",
   "id": "153b5006",
   "metadata": {},
   "source": [
    "### differential"
   ]
  },
  {
   "cell_type": "code",
   "execution_count": null,
   "id": "f7621aed",
   "metadata": {},
   "outputs": [],
   "source": [
    "options(repr.plot.width=6, \n",
    "        repr.plot.height=15,\n",
    "        repr.plot.res = 300)\n",
    "\n",
    "res_list_df_full %>%\n",
    "filter(gene_symbol %in% R_list) %>%\n",
    "ggplot(aes(x = cell_type, y = gene_symbol)) +\n",
    "geom_tile(fill = 'white') +\n",
    "coord_equal() +\n",
    "geom_point(aes(size = -log(padj), color = log2FoldChange)) +\n",
    "scale_color_gradient2(low = 'blue3', high = 'red3', mid = 'grey85')+\n",
    "#scale_radius(range = c(5, 10)) +\n",
    "plot_theme_tmod +\n",
    "theme(panel.grid = element_blank(),\n",
    "      axis.text.x = element_text(angle = 90)) +\n",
    "geom_vline(xintercept = seq(0.5, length(res_list_df)), color = 'grey') +\n",
    "geom_hline(yintercept = seq(0.5, dim(bind_rows(res_list_df))[1]+1), color = 'grey') +\n",
    "scale_y_discrete(limits = rev)"
   ]
  },
  {
   "cell_type": "code",
   "execution_count": null,
   "id": "2a9aef53",
   "metadata": {},
   "outputs": [],
   "source": [
    "options(repr.plot.width=6, \n",
    "        repr.plot.height=6,\n",
    "        repr.plot.res = 300)\n",
    "\n",
    "res_list_df_full %>%\n",
    "filter(gene_symbol %in% R_list) %>%\n",
    "filter(padj < 0.05) %>%\n",
    "ggplot(aes(x = cell_type, y = gene_symbol)) +\n",
    "geom_tile(fill = 'white') +\n",
    "coord_equal() +\n",
    "geom_point(aes(size = -log(padj), color = log2FoldChange)) +\n",
    "scale_color_gradient2(low = 'blue3', high = 'red3', mid = 'grey85')+\n",
    "#scale_radius(range = c(5, 10)) +\n",
    "plot_theme_tmod +\n",
    "theme(panel.grid = element_blank(),\n",
    "      axis.text.x = element_text(angle = 90)) +\n",
    "geom_vline(xintercept = seq(0.5, length(res_list_df)), color = 'grey') +\n",
    "geom_hline(yintercept = seq(0.5, dim(bind_rows(res_list_df))[1]+1), color = 'grey') +\n",
    "scale_y_discrete(limits = rev)"
   ]
  },
  {
   "cell_type": "markdown",
   "id": "2fac1729",
   "metadata": {},
   "source": [
    "#### with shrinkage"
   ]
  },
  {
   "cell_type": "code",
   "execution_count": null,
   "id": "9672ff57",
   "metadata": {},
   "outputs": [],
   "source": [
    "options(repr.plot.width=6, \n",
    "        repr.plot.height=15,\n",
    "        repr.plot.res = 300)\n",
    "\n",
    "resLFC_df_full %>%\n",
    "filter(gene_symbol %in% R_list) %>%\n",
    "ggplot(aes(x = cell_type, y = gene_symbol)) +\n",
    "geom_tile(fill = 'white') +\n",
    "coord_equal() +\n",
    "geom_point(aes(size = -log(padj), color = log2FoldChange)) +\n",
    "scale_color_gradient2(low = 'blue3', high = 'red3', mid = 'grey85')+\n",
    "#scale_radius(range = c(5, 10)) +\n",
    "plot_theme_tmod +\n",
    "theme(panel.grid = element_blank(),\n",
    "      axis.text.x = element_text(angle = 90)) +\n",
    "geom_vline(xintercept = seq(0.5, length(res_list_df)), color = 'grey') +\n",
    "geom_hline(yintercept = seq(0.5, dim(bind_rows(res_list_df))[1]+1), color = 'grey') +\n",
    "scale_y_discrete(limits = rev)"
   ]
  },
  {
   "cell_type": "code",
   "execution_count": null,
   "id": "72b5343a",
   "metadata": {},
   "outputs": [],
   "source": [
    "options(repr.plot.width=6, \n",
    "        repr.plot.height=6,\n",
    "        repr.plot.res = 300)\n",
    "\n",
    "resLFC_df_full %>%\n",
    "filter(gene_symbol %in% R_list) %>%\n",
    "mutate(if_plot = ifelse(padj < 0.05, 1, 0)) %>%\n",
    "group_by(gene_symbol) %>%\n",
    "mutate(if_plot = sum(if_plot, na.rm = TRUE)) %>%\n",
    "filter(if_plot >= 1) %>%\n",
    "ungroup() %>%\n",
    "ggplot(aes(x = cell_type, y = gene_symbol)) +\n",
    "geom_tile(fill = 'white') +\n",
    "coord_equal() +\n",
    "geom_point(aes(size = -log(padj), color = log2FoldChange)) +\n",
    "scale_color_gradient2(low = 'blue3', high = 'red3', mid = 'grey85')+\n",
    "#scale_radius(range = c(5, 10)) +\n",
    "plot_theme_tmod +\n",
    "theme(panel.grid = element_blank(),\n",
    "      axis.text.x = element_text(angle = 90)) +\n",
    "geom_vline(xintercept = seq(0.5, length(res_list_df)), color = 'grey') +\n",
    "geom_hline(yintercept = seq(0.5, dim(bind_rows(res_list_df))[1]+1), color = 'grey') +\n",
    "scale_y_discrete(limits = rev)"
   ]
  },
  {
   "cell_type": "code",
   "execution_count": null,
   "id": "87ed8740",
   "metadata": {},
   "outputs": [],
   "source": [
    "options(repr.plot.width=6, \n",
    "        repr.plot.height=6,\n",
    "        repr.plot.res = 300)\n",
    "\n",
    "resLFC_df_full %>%\n",
    "filter(gene_symbol %in% R_list) %>%\n",
    "filter(padj < 0.05) %>%\n",
    "ggplot(aes(x = cell_type, y = gene_symbol)) +\n",
    "geom_tile(fill = 'white') +\n",
    "coord_equal() +\n",
    "geom_point(aes(size = -log(padj), color = log2FoldChange)) +\n",
    "scale_color_gradient2(low = 'blue3', high = 'red3', mid = 'grey85')+\n",
    "#scale_radius(range = c(5, 10)) +\n",
    "plot_theme_tmod +\n",
    "theme(panel.grid = element_blank(),\n",
    "      axis.text.x = element_text(angle = 90)) +\n",
    "geom_vline(xintercept = seq(0.5, length(res_list_df)), color = 'grey') +\n",
    "geom_hline(yintercept = seq(0.5, dim(bind_rows(res_list_df))[1]+1), color = 'grey') +\n",
    "scale_y_discrete(limits = rev)"
   ]
  },
  {
   "cell_type": "code",
   "execution_count": null,
   "id": "22abba1c",
   "metadata": {},
   "outputs": [],
   "source": []
  },
  {
   "cell_type": "code",
   "execution_count": null,
   "id": "e51fee11",
   "metadata": {},
   "outputs": [],
   "source": []
  },
  {
   "cell_type": "code",
   "execution_count": null,
   "id": "c7fc8253",
   "metadata": {},
   "outputs": [],
   "source": []
  },
  {
   "cell_type": "code",
   "execution_count": null,
   "id": "c851ab59",
   "metadata": {},
   "outputs": [],
   "source": []
  },
  {
   "cell_type": "code",
   "execution_count": null,
   "id": "b4f4bd62",
   "metadata": {},
   "outputs": [],
   "source": []
  },
  {
   "cell_type": "code",
   "execution_count": null,
   "id": "75a0895b",
   "metadata": {},
   "outputs": [],
   "source": []
  },
  {
   "cell_type": "code",
   "execution_count": null,
   "id": "7714f666",
   "metadata": {},
   "outputs": [],
   "source": []
  },
  {
   "cell_type": "markdown",
   "id": "99a032d2",
   "metadata": {},
   "source": [
    "### GSEA by Tmod"
   ]
  },
  {
   "cell_type": "code",
   "execution_count": null,
   "id": "042d8750",
   "metadata": {},
   "outputs": [],
   "source": [
    "msig <- msigdbr()\n",
    "msig <- makeTmodFromDataFrame(df = msig, feature_col = \"gene_symbol\", module_col = \"gs_id\", title_col = \"gs_name\",\n",
    "    extra_module_cols = c(\"gs_cat\", \"gs_subcat\", \"gs_url\", \"gs_exact_source\", \"gs_description\"))"
   ]
  },
  {
   "cell_type": "code",
   "execution_count": null,
   "id": "21d92042",
   "metadata": {},
   "outputs": [],
   "source": [
    "# use hallmarks\n",
    "hallmark <- msig$gs$gs_cat == \"H\""
   ]
  },
  {
   "cell_type": "code",
   "execution_count": null,
   "id": "c4b0b430",
   "metadata": {},
   "outputs": [],
   "source": [
    "length(msig[hallmark])"
   ]
  },
  {
   "cell_type": "markdown",
   "id": "f2e9be38",
   "metadata": {},
   "source": [
    "#### tmod on c9"
   ]
  },
  {
   "cell_type": "code",
   "execution_count": null,
   "id": "6d509d82",
   "metadata": {},
   "outputs": [],
   "source": [
    "specific_to_9"
   ]
  },
  {
   "cell_type": "code",
   "execution_count": null,
   "id": "3e38766e",
   "metadata": {},
   "outputs": [],
   "source": [
    "df = rownames_to_column(specific_to_9)"
   ]
  },
  {
   "cell_type": "code",
   "execution_count": null,
   "id": "22ca73e4",
   "metadata": {},
   "outputs": [],
   "source": [
    "df = rownames_to_column(specific_to_9)"
   ]
  },
  {
   "cell_type": "code",
   "execution_count": null,
   "id": "f8679a8a",
   "metadata": {},
   "outputs": [],
   "source": [
    "tmodCERNOtest(df$rowname, mset = msig[hallmark], qval = 1)"
   ]
  },
  {
   "cell_type": "code",
   "execution_count": null,
   "id": "f8399352",
   "metadata": {},
   "outputs": [],
   "source": [
    "tmodCERNOtest(df$rowname, mset = CRC_sig_set, qval = 1)"
   ]
  },
  {
   "cell_type": "code",
   "execution_count": null,
   "id": "8ada78c5",
   "metadata": {},
   "outputs": [],
   "source": []
  },
  {
   "cell_type": "code",
   "execution_count": null,
   "id": "26c4903a",
   "metadata": {},
   "outputs": [],
   "source": []
  },
  {
   "cell_type": "code",
   "execution_count": null,
   "id": "e9be548e",
   "metadata": {},
   "outputs": [],
   "source": [
    "tmod_on_sig = function(res_name, sig_name){\n",
    "    \n",
    "    # filter for not na (DESeq tested) genes, pick up or down regulated genes, arrange by padj\n",
    "    res_df = as.data.frame(res_list[[res_name]]) %>% filter(!is.na(padj)) %>% filter(log2FoldChange > 0) %>%\n",
    "    arrange(padj) %>% \n",
    "    tibble::rownames_to_column('gene_symbol')\n",
    "    \n",
    "    print(dim(res_df))\n",
    "    print(head(res_df))\n",
    "    \n",
    "    # tmod on the positive FC\n",
    "    hallmark_res_up = tmodCERNOtest(res_df$gene_symbol, mset = sig_name, qval = 0.05)\n",
    "    \n",
    "    # tmod on the negative FC\n",
    "    res_df = as.data.frame(res_list[[res_name]]) %>% filter(!is.na(padj)) %>% filter(log2FoldChange < 0) %>%\n",
    "    arrange(padj) %>% \n",
    "    tibble::rownames_to_column('gene_symbol')\n",
    "    \n",
    "    hallmark_res_down = tmodCERNOtest(res_df$gene_symbol, mset = sig_name, qval = 0.05)\n",
    "    \n",
    "    hallmark_res_all = list(up = hallmark_res_up, down = hallmark_res_down)\n",
    "    return(hallmark_res_all)\n",
    "    \n",
    "}"
   ]
  },
  {
   "cell_type": "code",
   "execution_count": null,
   "id": "c115b1e1",
   "metadata": {},
   "outputs": [],
   "source": [
    "tmod_hallmark_list = list()"
   ]
  },
  {
   "cell_type": "code",
   "execution_count": null,
   "id": "67a1d292",
   "metadata": {},
   "outputs": [],
   "source": [
    "for(res_name in names(res_list)){\n",
    "    tmod_hallmark = tmod_on_sig(res_name, msig[hallmark])\n",
    "    tmod_hallmark_list[[res_name]] = tmod_hallmark\n",
    "}"
   ]
  },
  {
   "cell_type": "code",
   "execution_count": null,
   "id": "b69e720d",
   "metadata": {},
   "outputs": [],
   "source": [
    "tmod_hallmark_list"
   ]
  },
  {
   "cell_type": "code",
   "execution_count": null,
   "id": "d15340dc",
   "metadata": {},
   "outputs": [],
   "source": [
    "for(res_name in names(tmod_hallmark_list)){\n",
    "    \n",
    "    p = tmod_hallmark_list[[res_name]][['up']] %>% arrange(AUC) %>% \n",
    "    ggplot(aes(x = AUC, y = reorder(Title, AUC), color = -log10(adj.P.Val), size = N1)) + \n",
    "    geom_point() +\n",
    "    scale_color_gradient(low = \"blue\", high = \"red\") +\n",
    "    theme_bw() + \n",
    "    labs(title = paste0('Hallmark GSEA of ', res_name, ' up'), x = 'AUC', y = 'module') + \n",
    "    guides(color = guide_legend(title = \"-log10(adj. p value)\"),\n",
    "           size = guide_legend(title = \"number of target genes\\nin the geneset\")) + \n",
    "    plot_theme_tmod\n",
    "    \n",
    "    print(p)\n",
    "    \n",
    "    p = tmod_hallmark_list[[res_name]][['down']] %>% arrange(AUC) %>% \n",
    "    ggplot(aes(x = AUC, y = reorder(Title, AUC), color = -log10(adj.P.Val), size = N1)) + \n",
    "    geom_point() +\n",
    "    scale_color_gradient(low = \"blue\", high = \"red\") +\n",
    "    theme_bw() + \n",
    "    labs(title = paste0('Hallmark GSEA of ', res_name, ' down'), x = 'AUC', y = 'module') + \n",
    "    guides(color = guide_legend(title = \"-log10(adj. p value)\"),\n",
    "           size = guide_legend(title = \"number of target genes\\nin the geneset\")) + \n",
    "    plot_theme_tmod\n",
    "    \n",
    "    print(p)\n",
    "    \n",
    "}"
   ]
  },
  {
   "cell_type": "markdown",
   "id": "7cdc3eb1",
   "metadata": {},
   "source": [
    "BP <- msig$gs$gs_cat == \"C5\""
   ]
  },
  {
   "cell_type": "markdown",
   "id": "ddee4666",
   "metadata": {
    "scrolled": true
   },
   "source": [
    "tmodCERNOtest(full_gene_list$gene_symbol, mset = msig[BP], qval = 0.01)"
   ]
  },
  {
   "cell_type": "markdown",
   "id": "1748e95a",
   "metadata": {},
   "source": [
    "celltype  = msig$gs$gs_cat == 'C8'"
   ]
  },
  {
   "cell_type": "markdown",
   "id": "ffeff7fd",
   "metadata": {
    "scrolled": true
   },
   "source": [
    "tmodCERNOtest(full_gene_list$gene_symbol, mset = msig[celltype], qval = 0.05)"
   ]
  },
  {
   "cell_type": "markdown",
   "id": "2a8dbe3c",
   "metadata": {},
   "source": [
    "### CRC signatures GSEA"
   ]
  },
  {
   "cell_type": "code",
   "execution_count": null,
   "id": "30f14ba2",
   "metadata": {},
   "outputs": [],
   "source": [
    "CRC_sig = read_excel(\"../datasets_new_preprocessing/Signatures_Single_cells.xlsx\")"
   ]
  },
  {
   "cell_type": "code",
   "execution_count": null,
   "id": "08c0951c",
   "metadata": {},
   "outputs": [],
   "source": [
    "# gs: geneset ID and Title\n",
    "CRC_gs = data.frame(ID = colnames(CRC_sig), Title = colnames(CRC_sig))"
   ]
  },
  {
   "cell_type": "code",
   "execution_count": null,
   "id": "968040d9",
   "metadata": {},
   "outputs": [],
   "source": [
    "# gs2gene: list with module ID as names and character vector of gene IDs\n",
    "gs2gene = lapply(CRC_sig, function(x){x[2:343]}) %>% lapply(function(x) x[!is.na(x)])"
   ]
  },
  {
   "cell_type": "code",
   "execution_count": null,
   "id": "b7ed416e",
   "metadata": {},
   "outputs": [],
   "source": [
    "names(gs2gene)"
   ]
  },
  {
   "cell_type": "code",
   "execution_count": null,
   "id": "b67ae25f",
   "metadata": {},
   "outputs": [],
   "source": [
    "CRC_sig_set <- makeTmodGS(gs2gene=gs2gene, gs=CRC_gs)"
   ]
  },
  {
   "cell_type": "code",
   "execution_count": null,
   "id": "4cd8c95d",
   "metadata": {},
   "outputs": [],
   "source": [
    "str(CRC_sig_set)"
   ]
  },
  {
   "cell_type": "code",
   "execution_count": null,
   "id": "9782e64a",
   "metadata": {},
   "outputs": [],
   "source": [
    "tmod_crc_sig_list = list()"
   ]
  },
  {
   "cell_type": "code",
   "execution_count": null,
   "id": "3df6c63c",
   "metadata": {},
   "outputs": [],
   "source": [
    "for(res_name in names(res_list)){\n",
    "    tmod_crc  = tmod_on_sig(res_name, CRC_sig_set)\n",
    "    tmod_crc_sig_list[[res_name]] = tmod_crc\n",
    "}\n",
    "# N1: numnber of gene in the module\n",
    "# Coincident Extreme Ranks in Numerical Observations (CERNO)"
   ]
  },
  {
   "cell_type": "code",
   "execution_count": null,
   "id": "db9bbd0a",
   "metadata": {},
   "outputs": [],
   "source": [
    "tmod_crc_sig_list"
   ]
  },
  {
   "cell_type": "code",
   "execution_count": null,
   "id": "734388c6",
   "metadata": {},
   "outputs": [],
   "source": [
    "for(res_name in names(tmod_crc_sig_list)){\n",
    "    \n",
    "    if(dim(tmod_crc_sig_list[[res_name]][['up']])[1] != 0){\n",
    "        p = tmod_crc_sig_list[[res_name]][['up']] %>% arrange(AUC) %>% \n",
    "        ggplot(aes(x = AUC, y = reorder(Title, AUC), color = -log10(adj.P.Val), size = N1)) + \n",
    "        geom_point() +\n",
    "        scale_color_gradient(low = \"blue\", high = \"red\") +\n",
    "        theme_bw() + \n",
    "        labs(x = 'AUC', y = 'module',\n",
    "            title = paste0('GSEA of CRC sigatures of ', res_name, ' up')) + \n",
    "        guides(color = guide_legend(title = \"-log10(adj. p value)\"),\n",
    "               size = guide_legend(title = \"number of target genes\\nin the geneset\")) + \n",
    "        plot_theme_tmod +\n",
    "        theme(plot.title = element_text(hjust = 0.5))\n",
    "\n",
    "        print(p)\n",
    "        }\n",
    "    \n",
    "    if(dim(tmod_crc_sig_list[[res_name]][['down']])[1] != 0){\n",
    "        p = tmod_crc_sig_list[[res_name]][['down']] %>% arrange(AUC) %>% \n",
    "        ggplot(aes(x = AUC, y = reorder(Title, AUC), color = -log10(adj.P.Val), size = N1)) + \n",
    "        geom_point() +\n",
    "        scale_color_gradient(low = \"blue\", high = \"red\") +\n",
    "        theme_bw() + \n",
    "        labs(x = 'AUC', y = 'module',\n",
    "            title = paste0('GSEA of CRC sigatures of ', res_name, ' down')) + \n",
    "        guides(color = guide_legend(title = \"-log10(adj. p value)\"),\n",
    "               size = guide_legend(title = \"number of target genes\\nin the geneset\")) + \n",
    "        plot_theme_tmod +\n",
    "        theme(plot.title = element_text(hjust = 0.5))\n",
    "\n",
    "        print(p)\n",
    "        }\n",
    "}"
   ]
  },
  {
   "cell_type": "code",
   "execution_count": null,
   "id": "9db3737c",
   "metadata": {},
   "outputs": [],
   "source": []
  },
  {
   "cell_type": "markdown",
   "id": "23cac408",
   "metadata": {},
   "source": [
    "### Genomically tumour specific genes"
   ]
  },
  {
   "cell_type": "code",
   "execution_count": null,
   "id": "7f1fbe03",
   "metadata": {},
   "outputs": [],
   "source": [
    "group_t = c('GT_other', 'sample', \"Uhlitz_scANVI\")"
   ]
  },
  {
   "cell_type": "code",
   "execution_count": null,
   "id": "a7a1d184",
   "metadata": {},
   "outputs": [],
   "source": [
    "summed_t <- aggregateAcrossCells(sce,\n",
    "                               id=colData(sce)[,group_t])\n",
    "summed_t"
   ]
  },
  {
   "cell_type": "code",
   "execution_count": null,
   "id": "40fae6ca",
   "metadata": {},
   "outputs": [],
   "source": [
    "table(colData(summed_t)$GT_other)"
   ]
  },
  {
   "cell_type": "code",
   "execution_count": null,
   "id": "7ba26b07",
   "metadata": {},
   "outputs": [],
   "source": [
    "colnames(summed_t) = apply(colData(summed_t)[,group_t], 1, \n",
    "                           function(x)paste(x, collapse = '_'))"
   ]
  },
  {
   "cell_type": "code",
   "execution_count": null,
   "id": "da127e27",
   "metadata": {},
   "outputs": [],
   "source": [
    "#pseudo_bulk_t = summed_t[,!str_detect(colnames(summed_t), 'Tuft$')] "
   ]
  },
  {
   "cell_type": "code",
   "execution_count": null,
   "id": "153700e3",
   "metadata": {},
   "outputs": [],
   "source": [
    "pseudo_bulk_t = summed_t\n",
    "pseudo_bulk_t"
   ]
  },
  {
   "cell_type": "markdown",
   "id": "b76eaaaa",
   "metadata": {},
   "source": [
    "res_list_t = list()"
   ]
  },
  {
   "cell_type": "markdown",
   "id": "295305b8",
   "metadata": {
    "scrolled": true
   },
   "source": [
    "for(ctype in cell_type_list[-c(7:11)]){ # that is Tuft at 11\n",
    "    \n",
    "    print(paste0('start calculating DEG with ', ctype))\n",
    "    \n",
    "    slice = pseudo_bulk_t[,str_detect(colnames(pseudo_bulk_t), paste0('_',ctype,'$'))] \n",
    "    \n",
    "    # set up DESeq data set\n",
    "    dds <- DESeqDataSetFromMatrix(countData = counts(slice), # not normalised counts\n",
    "                              colData = colData(slice),\n",
    "                              design= ~ GT_other + patient)\n",
    "    print(dim(dds))\n",
    "    \n",
    "    # set ref level as normal_sample\n",
    "    dds$GT_other <- relevel(dds$GT_other, ref = \"others\")\n",
    "    \n",
    "    # filter low gene\n",
    "    # remove gene with less than 10 counts\n",
    "    keep <- rowSums(counts(dds)) >= 10\n",
    "    dds <- dds[keep,]\n",
    "    print(dim(dds))\n",
    "    \n",
    "    # genes that only express in some samples\n",
    "    #keep <- rowSums(counts(dds) >= 10) >= 5\n",
    "    #dds <- dds[keep,]\n",
    "    \n",
    "    # use recommended params: \n",
    "    # http://bioconductor.org/packages/devel/bioc/vignettes/DESeq2/inst/doc/DESeq2.html#recommendations-for-single-cell-analysis\n",
    "    dds_result <- DESeq(dds, test = 'LRT', reduced = ~ patient,\n",
    "                        useT = TRUE, minmu = 1e-6, minReplicatesForReplace = Inf)\n",
    "    \n",
    "    print(resultsNames(dds_result))\n",
    "    \n",
    "    res <- results(dds_result, name = 'GT_other_genomically_tumour_vs_others')\n",
    "    \n",
    "    # collect into one list\n",
    "    res_list_t[[ctype]] = res\n",
    "    \n",
    "}"
   ]
  },
  {
   "cell_type": "markdown",
   "id": "bbe66a49",
   "metadata": {},
   "source": [
    "res_list_t"
   ]
  },
  {
   "cell_type": "markdown",
   "id": "2392aa64",
   "metadata": {},
   "source": [
    "#### # only put cell type as covariable since genomically tumour cells are mostly TCs"
   ]
  },
  {
   "cell_type": "code",
   "execution_count": null,
   "id": "b9a9f43b",
   "metadata": {},
   "outputs": [],
   "source": [
    "# set up DESeq data set\n",
    "dds <- DESeqDataSetFromMatrix(countData = counts(pseudo_bulk_t), # not normalised counts\n",
    "                              colData = colData(pseudo_bulk_t),\n",
    "                              design= ~ GT_other + patient + Uhlitz_scANVI)\n",
    "print(dim(dds))\n",
    "    \n",
    "# set ref level as normal_sample\n",
    "dds$GT_other <- relevel(dds$GT_other, ref = \"others\")\n",
    "    \n",
    "# filter low gene\n",
    "# remove gene with less than 10 counts\n",
    "keep <- rowSums(counts(dds)) >= 10\n",
    "dds <- dds[keep,]\n",
    "print(dim(dds))\n",
    "    \n",
    "# genes that only express in some samples\n",
    "#keep <- rowSums(counts(dds) >= 10) >= 5\n",
    "#dds <- dds[keep,]\n",
    "    \n",
    "# use recommended params: \n",
    "# http://bioconductor.org/packages/devel/bioc/vignettes/DESeq2/inst/doc/DESeq2.html#recommendations-for-single-cell-analysis\n",
    "dds_result <- DESeq(dds, test = 'LRT', reduced = ~ patient + Uhlitz_scANVI,\n",
    "                        useT = TRUE, minmu = 1e-6, minReplicatesForReplace = Inf)\n",
    "    \n",
    "print(resultsNames(dds_result))\n",
    "    \n",
    "res <- results(dds_result, name = 'GT_other_genomically_tumour_vs_others')\n",
    "\n",
    "rm(ddf)\n",
    "rm(keep)"
   ]
  },
  {
   "cell_type": "code",
   "execution_count": null,
   "id": "d18ab1bb",
   "metadata": {},
   "outputs": [],
   "source": [
    "options(repr.plot.width=8, \n",
    "        repr.plot.height=8,\n",
    "        repr.plot.res = 300)\n",
    "\n",
    "p = as.data.frame(res) %>%\n",
    "    ggplot() + \n",
    "    geom_point(aes(x = baseMean, y = log2FoldChange, \n",
    "                   color = I(ifelse(padj < 0.05, 'navyblue', 'grey'))), size = 1.5) +\n",
    "    scale_x_continuous(trans = log10_trans()) +\n",
    "    labs(x = 'mean of normalised counts', y = 'log2 fold change') +\n",
    "    plot_theme_tmod + \n",
    "    labs(title = paste0('MA plot\\ngenomically tumour vs others')) +\n",
    "    theme(plot.title = element_text(hjust = 0.5))\n",
    "    \n",
    "print(p)"
   ]
  },
  {
   "cell_type": "code",
   "execution_count": null,
   "id": "6303ade3",
   "metadata": {},
   "outputs": [],
   "source": [
    "options(repr.plot.width=8, \n",
    "        repr.plot.height=8,\n",
    "        repr.plot.res = 300)\n",
    "\n",
    "p = as.data.frame(res) %>%\n",
    "    tibble::rownames_to_column(\"gene_symbol\") %>%\n",
    "    ggplot(aes(x = log2FoldChange, y = -log(padj),\n",
    "               color = I(ifelse(padj < 0.05 & abs(log2FoldChange) > 1.5, 'navyblue', 'grey')),\n",
    "               label = ifelse(padj < .05 & abs(log2FoldChange) > 1.5, gene_symbol,''))) +\n",
    "    geom_point(size = 1.5) + \n",
    "    plot_theme_tmod  + \n",
    "    geom_text_repel(force = 2, #force_pull = 1, \n",
    "                box.padding = 1, point.padding = 1,\n",
    "                max.overlaps = 30, direction = 'both',\n",
    "                min.segment.length = 0.1,\n",
    "                aes(color = 'grey10', segment.linetype = 3)) +\n",
    "    labs(title = paste0('Volcano plot of\\ngenomically tumour vs others')) +\n",
    "    theme(plot.title = element_text(hjust = 0.5))\n",
    "    \n",
    "print(p)"
   ]
  },
  {
   "cell_type": "code",
   "execution_count": null,
   "id": "b18556dc",
   "metadata": {},
   "outputs": [],
   "source": [
    "data.frame(res) %>% \n",
    "filter(padj < 0.1) %>%\n",
    "arrange(padj)"
   ]
  },
  {
   "cell_type": "markdown",
   "id": "a38e0f7c",
   "metadata": {},
   "source": [
    "#### hallmarks"
   ]
  },
  {
   "cell_type": "code",
   "execution_count": null,
   "id": "d1e482fd",
   "metadata": {},
   "outputs": [],
   "source": [
    "# try tmod quickly \n",
    "# tmod on the positive FC\n",
    "res_t_df = as.data.frame(res) %>% filter(!is.na(padj)) %>% filter(log2FoldChange > 0) %>%\n",
    "    arrange(padj) %>% \n",
    "    tibble::rownames_to_column('gene_symbol')\n",
    "    \n",
    "hallmark_res_t_up = tmodCERNOtest(res_t_df$gene_symbol, mset = msig[hallmark], qval = 0.05)\n",
    "    \n",
    "# tmod on the negative FC\n",
    "res_t_df = as.data.frame(res) %>% filter(!is.na(padj)) %>% filter(log2FoldChange < 0) %>%\n",
    "    arrange(padj) %>% \n",
    "    tibble::rownames_to_column('gene_symbol')\n",
    "    \n",
    "hallmark_res_t_down = tmodCERNOtest(res_t_df$gene_symbol, mset = msig[hallmark], qval = 0.05)\n",
    "    \n",
    "hallmark_res_t_all = list(up = hallmark_res_t_up, down = hallmark_res_t_down)\n"
   ]
  },
  {
   "cell_type": "code",
   "execution_count": null,
   "id": "6d361d46",
   "metadata": {},
   "outputs": [],
   "source": [
    "hallmark_res_t_all"
   ]
  },
  {
   "cell_type": "code",
   "execution_count": null,
   "id": "50deb454",
   "metadata": {},
   "outputs": [],
   "source": [
    "p = hallmark_res_t_all[['up']] %>% arrange(AUC) %>% \n",
    "        ggplot(aes(x = AUC, y = reorder(Title, AUC), color = -log10(adj.P.Val), size = N1)) + \n",
    "        geom_point() +\n",
    "        scale_color_gradient(low = \"blue\", high = \"red\") +\n",
    "        theme_bw() + \n",
    "        labs(x = 'AUC', y = 'module',\n",
    "            title = paste0('GSEA of genomically tumour cells vs others - up')) + \n",
    "        guides(color = guide_legend(title = \"-log10(adj. p value)\"),\n",
    "               size = guide_legend(title = \"number of target genes\\nin the geneset\")) + \n",
    "        plot_theme_tmod +\n",
    "        theme(plot.title = element_text(hjust = 0.5))\n",
    "\n",
    "print(p)\n",
    "\n",
    "p = hallmark_res_t_all[['down']] %>% arrange(AUC) %>% \n",
    "        ggplot(aes(x = AUC, y = reorder(Title, AUC), color = -log10(adj.P.Val), size = N1)) + \n",
    "        geom_point() +\n",
    "        scale_color_gradient(low = \"blue\", high = \"red\") +\n",
    "        theme_bw() + \n",
    "        labs(x = 'AUC', y = 'module',\n",
    "            title = paste0('GSEA of genomically tumour cells vs others - down')) + \n",
    "        guides(color = guide_legend(title = \"-log10(adj. p value)\"),\n",
    "               size = guide_legend(title = \"number of target genes\\nin the geneset\")) + \n",
    "        plot_theme_tmod +\n",
    "        theme(plot.title = element_text(hjust = 0.5))\n",
    "\n",
    "print(p)"
   ]
  },
  {
   "cell_type": "markdown",
   "id": "63b0f350",
   "metadata": {},
   "source": [
    "#### CRC sig"
   ]
  },
  {
   "cell_type": "code",
   "execution_count": null,
   "id": "3883e659",
   "metadata": {},
   "outputs": [],
   "source": [
    "# try tmod quickly \n",
    "# tmod on the positive FC\n",
    "res_t_df = as.data.frame(res) %>% filter(!is.na(padj)) %>% filter(log2FoldChange > 0) %>%\n",
    "    arrange(padj) %>% \n",
    "    tibble::rownames_to_column('gene_symbol')\n",
    "    \n",
    "hallmark_res_t_up = tmodCERNOtest(res_t_df$gene_symbol, mset = CRC_sig_set, qval = 0.05)\n",
    "    \n",
    "# tmod on the negative FC\n",
    "res_t_df = as.data.frame(res) %>% filter(!is.na(padj)) %>% filter(log2FoldChange < 0) %>%\n",
    "    arrange(padj) %>% \n",
    "    tibble::rownames_to_column('gene_symbol')\n",
    "    \n",
    "hallmark_res_t_down = tmodCERNOtest(res_t_df$gene_symbol, mset = CRC_sig_set, qval = 0.05)\n",
    "    \n",
    "hallmark_res_t_all = list(up = hallmark_res_t_up, down = hallmark_res_t_down)\n"
   ]
  },
  {
   "cell_type": "code",
   "execution_count": null,
   "id": "e832d2d6",
   "metadata": {},
   "outputs": [],
   "source": [
    "hallmark_res_t_all"
   ]
  },
  {
   "cell_type": "code",
   "execution_count": null,
   "id": "f4185600",
   "metadata": {},
   "outputs": [],
   "source": [
    "options(repr.plot.width=8, \n",
    "        repr.plot.height=5,\n",
    "        repr.plot.res = 300)\n",
    "\n",
    "p = hallmark_res_t_all[['up']] %>% arrange(AUC) %>% \n",
    "        ggplot(aes(x = AUC, y = reorder(Title, AUC), color = -log10(adj.P.Val), size = N1)) + \n",
    "        geom_point() +\n",
    "        scale_color_gradient(low = \"blue\", high = \"red\") +\n",
    "        theme_bw() + \n",
    "        labs(x = 'AUC', y = 'module',\n",
    "            title = paste0('GSEA of genomically tumour cells vs others - up')) + \n",
    "        guides(color = guide_legend(title = \"-log10(adj. p value)\"),\n",
    "               size = guide_legend(title = \"number of target genes\\nin the geneset\")) + \n",
    "        plot_theme_tmod +\n",
    "        theme(plot.title = element_text(hjust = 0.5))\n",
    "\n",
    "print(p)\n",
    "\n",
    "p = hallmark_res_t_all[['down']] %>% arrange(AUC) %>% \n",
    "        ggplot(aes(x = AUC, y = reorder(Title, AUC), color = -log10(adj.P.Val), size = N1)) + \n",
    "        geom_point() +\n",
    "        scale_color_gradient(low = \"blue\", high = \"red\") +\n",
    "        theme_bw() + \n",
    "        labs(x = 'AUC', y = 'module',\n",
    "            title = paste0('GSEA of genomically tumour cells vs others - down')) + \n",
    "        guides(color = guide_legend(title = \"-log10(adj. p value)\"),\n",
    "               size = guide_legend(title = \"number of target genes\\nin the geneset\")) + \n",
    "        plot_theme_tmod +\n",
    "        theme(plot.title = element_text(hjust = 0.5))\n",
    "\n",
    "print(p)"
   ]
  }
 ],
 "metadata": {
  "kernelspec": {
   "display_name": "R",
   "language": "R",
   "name": "ir"
  },
  "language_info": {
   "codemirror_mode": "r",
   "file_extension": ".r",
   "mimetype": "text/x-r-source",
   "name": "R",
   "pygments_lexer": "r",
   "version": "4.1.2"
  }
 },
 "nbformat": 4,
 "nbformat_minor": 5
}
