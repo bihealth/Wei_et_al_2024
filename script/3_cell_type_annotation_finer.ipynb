{
 "cells": [
  {
   "cell_type": "code",
   "execution_count": null,
   "id": "3c7b1896",
   "metadata": {},
   "outputs": [],
   "source": [
    "import os\n",
    "import sys\n",
    "print(\"Python version\" + sys.version)\n",
    "os.getcwd()\n",
    "print(sys.executable)"
   ]
  },
  {
   "cell_type": "code",
   "execution_count": 2,
   "id": "41493454",
   "metadata": {},
   "outputs": [],
   "source": [
    "import numpy as np\n",
    "np.random.seed(123)\n",
    "import pandas as pd\n",
    "import scipy\n",
    "import itertools\n",
    "\n",
    "import umap\n",
    "import matplotlib.pyplot as plt\n",
    "%matplotlib inline\n",
    "import seaborn as sns\n",
    "\n",
    "import scanpy as sc\n",
    "import anndata as ad\n",
    "import scvelo as scv\n",
    "from tqdm.notebook import tqdm\n",
    "\n",
    "from pathlib import Path"
   ]
  },
  {
   "cell_type": "code",
   "execution_count": null,
   "id": "ba110416",
   "metadata": {},
   "outputs": [],
   "source": [
    "sc.settings.verbosity = 1\n",
    "sc.logging.print_header()\n",
    "sc.settings.set_figure_params(dpi=80, facecolor='white')"
   ]
  },
  {
   "cell_type": "code",
   "execution_count": 4,
   "id": "d060c6fd",
   "metadata": {},
   "outputs": [],
   "source": [
    "# remove weird grid from scvelo\n",
    "plt.rcParams['axes.grid'] = False"
   ]
  },
  {
   "cell_type": "code",
   "execution_count": 5,
   "id": "ae2167e0",
   "metadata": {},
   "outputs": [],
   "source": [
    "# revised from Stefan's cell type signature\n",
    "signatures_path_ = '../cell_type_from_stefan/scrnaseq_signature_collection/'\n",
    "from score_and_classify import *"
   ]
  },
  {
   "cell_type": "code",
   "execution_count": 6,
   "id": "a70bc0ad",
   "metadata": {},
   "outputs": [],
   "source": [
    "data_folder = '/fast/users/twei_m/work/crc/datasets'"
   ]
  },
  {
   "cell_type": "code",
   "execution_count": 7,
   "id": "c2f4623f",
   "metadata": {},
   "outputs": [],
   "source": [
    "new_data_folder = '/fast/users/twei_m/work/crc/datasets_new_preprocessing'"
   ]
  },
  {
   "cell_type": "code",
   "execution_count": 8,
   "id": "794b7db6",
   "metadata": {},
   "outputs": [],
   "source": [
    "adata_all = sc.read(Path(new_data_folder)/'202305_CB_all_cells.h5')"
   ]
  },
  {
   "cell_type": "code",
   "execution_count": 11,
   "id": "296ec0d7",
   "metadata": {},
   "outputs": [],
   "source": [
    "adata_epi = sc.read(Path(new_data_folder)/'202306_CB_epi_Numbat_Scitcem_inferCNV_icms_Uhlitz_scanvi.h5')"
   ]
  },
  {
   "cell_type": "code",
   "execution_count": 13,
   "id": "604a986e",
   "metadata": {},
   "outputs": [],
   "source": [
    "adata_str = adata_all[adata_all.obs['celltype_1a'] == 'str'].copy()\n",
    "adata_imm = adata_all[adata_all.obs['celltype_1a'] == 'imm'].copy()"
   ]
  },
  {
   "cell_type": "code",
   "execution_count": null,
   "id": "e1396b5c",
   "metadata": {},
   "outputs": [],
   "source": [
    "scv.pl.scatter(adata_all, basis='umap', color=['celltype_1a', 'epi_score', 'str_score', 'imm_score'], \n",
    "               ncols=2, dpi=300, legend_loc='right margin', size = 1)"
   ]
  },
  {
   "cell_type": "code",
   "execution_count": 17,
   "id": "a6a6cf39",
   "metadata": {},
   "outputs": [],
   "source": [
    "smillie_path = Path(new_data_folder)/'1-s2.0-S0092867419307329-mmc2.xlsx'"
   ]
  },
  {
   "cell_type": "code",
   "execution_count": 18,
   "id": "93a34dea",
   "metadata": {},
   "outputs": [],
   "source": [
    "def score_from_smillie_TableS2(adata, signatures_path=smillie_path):\n",
    "    epi_tab = pd.read_excel(smillie_path, sheet_name=0)\n",
    "    str_tab = pd.read_excel(smillie_path, sheet_name=1)\n",
    "    imm_tab = pd.read_excel(smillie_path, sheet_name=2)\n",
    "    score_genes(adata, gene_list= np.unique(np.array(epi_tab['gene'].dropna(), dtype='str')), \n",
    "                score_name='epi')\n",
    "    score_genes(adata, gene_list= np.unique(np.array(str_tab['gene'].dropna(), dtype='str')), \n",
    "                score_name='str')\n",
    "    score_genes(adata, gene_list= np.unique(np.array(imm_tab['gene'].dropna(), dtype='str')), \n",
    "                score_name='imm')\n"
   ]
  },
  {
   "cell_type": "code",
   "execution_count": null,
   "id": "a1d904ca",
   "metadata": {},
   "outputs": [],
   "source": [
    "score_from_smillie_TableS2(adata_all)"
   ]
  },
  {
   "cell_type": "code",
   "execution_count": 20,
   "id": "32dd16a8",
   "metadata": {},
   "outputs": [],
   "source": [
    "adata_all.obs['celltype_major'] = np.array(['epi', 'str', 'imm'])[np.argmax(adata_all.obs[['epi', 'str', 'imm']].values, axis=1)]\n",
    "adata_all.obs['celltype_major_score'] = np.max(adata_all.obs[['epi', 'str', 'imm']].values, axis=1)\n"
   ]
  },
  {
   "cell_type": "code",
   "execution_count": null,
   "id": "3e53209c",
   "metadata": {},
   "outputs": [],
   "source": [
    "adata_all.uns['celltype_1a_colors'] = ['#144FAC', '#DD6B80', '#4EAC57']\n",
    "\n",
    "scv.pl.scatter(adata_all, basis='umap', color=['celltype_1a'], \n",
    "               ncols=2, dpi=300, legend_loc='right margin', size = 2, \n",
    "              title = ['major cell types'])"
   ]
  },
  {
   "cell_type": "code",
   "execution_count": null,
   "id": "833b7a15",
   "metadata": {},
   "outputs": [],
   "source": [
    "scv.pl.scatter(adata_all, basis='umap', color=['epi_score', 'epi', 'str_score', 'str','imm_score', 'imm',\n",
    "                                              'celltype_1a', 'celltype_major',\n",
    "                                              'celltype_1a_score', 'celltype_major_score'], \n",
    "               ncols=2, dpi=300, legend_loc='right margin', size = 1)"
   ]
  },
  {
   "cell_type": "code",
   "execution_count": null,
   "id": "147ae7d7",
   "metadata": {},
   "outputs": [],
   "source": [
    "scv.pl.scatter(adata_all, basis='umap', color=['PDGFRA', 'CD81', 'BMP4', 'GREM1', 'CD34','FOXL1', 'GLI1',\n",
    "                                              'PDPN'], \n",
    "               ncols=3, dpi=300, legend_loc='right margin', size = 2)"
   ]
  },
  {
   "cell_type": "code",
   "execution_count": null,
   "id": "4bba782a",
   "metadata": {},
   "outputs": [],
   "source": [
    "# blood and lymphatic endo\n",
    "scv.pl.scatter(adata_all, basis='umap', color=['PECAM1', 'LYVE1'], \n",
    "               ncols=3, dpi=300, legend_loc='right margin', size = 2)"
   ]
  },
  {
   "cell_type": "code",
   "execution_count": null,
   "id": "9447f820",
   "metadata": {},
   "outputs": [],
   "source": [
    "# immune\n",
    "scv.pl.scatter(adata_all, basis='umap', color=['CD3G','CD3E','CD3G','CD8A','CD8B','CD4',\n",
    "                                               'CD19', 'TNFRSF8','CD34','CD38','CD14','ITGAM', 'PTPRC',\n",
    "                                               'FCGR2A',''], \n",
    "               ncols=3, dpi=300, legend_loc='right margin', size = 2)"
   ]
  },
  {
   "cell_type": "markdown",
   "id": "789a66cd",
   "metadata": {},
   "source": [
    "### score the whole thing"
   ]
  },
  {
   "cell_type": "code",
   "execution_count": 23,
   "id": "15192248",
   "metadata": {},
   "outputs": [],
   "source": [
    "epi_tab = pd.read_excel(smillie_path, sheet_name=0)\n",
    "str_tab = pd.read_excel(smillie_path, sheet_name=1)\n",
    "imm_tab = pd.read_excel(smillie_path, sheet_name=2)"
   ]
  },
  {
   "cell_type": "code",
   "execution_count": 24,
   "id": "a0db021d",
   "metadata": {},
   "outputs": [],
   "source": [
    "epi_list = epi_tab.groupby('ident')['gene'].apply(list)\n",
    "str_list = str_tab.groupby('ident')['gene'].apply(list)\n",
    "imm_list = imm_tab.groupby('ident')['gene'].apply(list)"
   ]
  },
  {
   "cell_type": "code",
   "execution_count": 25,
   "id": "c687c6bb",
   "metadata": {},
   "outputs": [],
   "source": [
    "epi_celltype = np.unique(epi_tab[['ident']])\n",
    "str_celltype = np.unique(str_tab[['ident']])\n",
    "imm_celltype = np.unique(imm_tab[['ident']])"
   ]
  },
  {
   "cell_type": "code",
   "execution_count": 26,
   "id": "9fd0edd3",
   "metadata": {},
   "outputs": [],
   "source": [
    "all_cell_type = np.append(epi_celltype, \n",
    "                          np.append(str_celltype,imm_celltype))"
   ]
  },
  {
   "cell_type": "code",
   "execution_count": null,
   "id": "4f34f52b",
   "metadata": {},
   "outputs": [],
   "source": [
    "for ctype in np.unique(epi_tab[['ident']]):\n",
    "    score_genes(adata_all, gene_list= epi_list[[ctype]][0], \n",
    "                score_name=ctype)"
   ]
  },
  {
   "cell_type": "code",
   "execution_count": null,
   "id": "77c3d0a8",
   "metadata": {},
   "outputs": [],
   "source": [
    "for ctype in np.unique(str_tab[['ident']]):\n",
    "    score_genes(adata_all, gene_list= str_list[[ctype]][0], \n",
    "                score_name=ctype)"
   ]
  },
  {
   "cell_type": "code",
   "execution_count": null,
   "id": "41518139",
   "metadata": {},
   "outputs": [],
   "source": [
    "for ctype in np.unique(imm_tab[['ident']]):\n",
    "    score_genes(adata_all, gene_list= imm_list[[ctype]][0], \n",
    "                score_name=ctype)"
   ]
  },
  {
   "cell_type": "code",
   "execution_count": 30,
   "id": "ff955b84",
   "metadata": {},
   "outputs": [],
   "source": [
    "adata_all.obs['celltype_fine'] = np.array(all_cell_type)[np.argmax(adata_all.obs[all_cell_type].values, axis=1)]\n"
   ]
  },
  {
   "cell_type": "code",
   "execution_count": null,
   "id": "484babb9",
   "metadata": {},
   "outputs": [],
   "source": [
    "scv.pl.scatter(adata_all, basis='umap', color=['celltype_fine'], \n",
    "               ncols=2, dpi=300, legend_loc='right margin', size = 1)"
   ]
  },
  {
   "cell_type": "markdown",
   "id": "cea25b61",
   "metadata": {},
   "source": [
    "### score each compartment separately"
   ]
  },
  {
   "cell_type": "code",
   "execution_count": null,
   "id": "30a24f77",
   "metadata": {},
   "outputs": [],
   "source": [
    "for ctype in np.unique(epi_tab[['ident']]):\n",
    "    score_genes(adata_epi, gene_list= epi_list[[ctype]][0], \n",
    "                score_name=ctype)"
   ]
  },
  {
   "cell_type": "code",
   "execution_count": 34,
   "id": "677eda9d",
   "metadata": {},
   "outputs": [],
   "source": [
    "adata_epi.obs['celltype_direct_smillie'] = np.array(epi_celltype)[np.argmax(adata_epi.obs[epi_celltype].values, axis=1)]\n"
   ]
  },
  {
   "cell_type": "code",
   "execution_count": null,
   "id": "a0ca8bc8",
   "metadata": {},
   "outputs": [],
   "source": [
    "adata_epi.obs[['sample_origin' , 'celltype_direct_smillie']].value_counts().sort_index()"
   ]
  },
  {
   "cell_type": "code",
   "execution_count": 37,
   "id": "b4209b96",
   "metadata": {},
   "outputs": [],
   "source": [
    "adata_epi.uns['celltype_direct_smillie_colors'] = adata_epi.uns['cell_type_epi_custom_colors']"
   ]
  },
  {
   "cell_type": "code",
   "execution_count": null,
   "id": "86d0b7fc",
   "metadata": {},
   "outputs": [],
   "source": [
    "scv.pl.scatter(adata_epi, basis='umap', color=['BRAF','KRAS', 'TP53', 'APC','NOTCH1', 'CTNNB1'], \n",
    "               ncols=3, dpi=300, legend_loc='right margin', size = 2)"
   ]
  },
  {
   "cell_type": "code",
   "execution_count": null,
   "id": "9116fbe8",
   "metadata": {},
   "outputs": [],
   "source": [
    "scv.pl.scatter(adata_epi, basis='umap', color=['LGR5','P2RX4', 'MTOR', 'AKT1', 'TOP2A', 'LRP6', 'BMP4', 'BMP2'], \n",
    "               ncols=3, dpi=300, legend_loc='right margin', size = 2)"
   ]
  },
  {
   "cell_type": "code",
   "execution_count": null,
   "id": "f4351c85",
   "metadata": {},
   "outputs": [],
   "source": [
    "scv.pl.scatter(adata_epi, basis='umap', color=['celltype_direct_smillie', 'Uhlitz_scANVI', 'cell_type_epi_custom'], \n",
    "               ncols=1, dpi=300, legend_loc='right margin', size = 2)"
   ]
  },
  {
   "cell_type": "code",
   "execution_count": null,
   "id": "390941f8",
   "metadata": {},
   "outputs": [],
   "source": [
    "for ctype in np.unique(imm_tab[['ident']]):\n",
    "    score_genes(adata_imm, gene_list= imm_list[[ctype]][0], \n",
    "                score_name=ctype)"
   ]
  },
  {
   "cell_type": "code",
   "execution_count": 42,
   "id": "bdd9234f",
   "metadata": {},
   "outputs": [],
   "source": [
    "adata_imm.obs['celltype_direct_smillie'] = np.array(imm_celltype)[np.argmax(adata_imm.obs[imm_celltype].values, \n",
    "                                                                            axis=1)]"
   ]
  },
  {
   "cell_type": "code",
   "execution_count": null,
   "id": "fcb03df3",
   "metadata": {},
   "outputs": [],
   "source": [
    "scv.pl.scatter(adata_imm, basis='umap', color=['celltype_direct_smillie'], \n",
    "               ncols=1, dpi=300, legend_loc='right margin', size = 2)"
   ]
  },
  {
   "cell_type": "code",
   "execution_count": null,
   "id": "98e1c39e",
   "metadata": {},
   "outputs": [],
   "source": []
  },
  {
   "cell_type": "code",
   "execution_count": null,
   "id": "84dbedd5",
   "metadata": {},
   "outputs": [],
   "source": []
  },
  {
   "cell_type": "markdown",
   "id": "ce316240",
   "metadata": {},
   "source": [
    "## Keep Uhlitz epi, score the immune and stromal"
   ]
  },
  {
   "cell_type": "code",
   "execution_count": 421,
   "id": "926dc279",
   "metadata": {},
   "outputs": [],
   "source": [
    "# re-run PCA and louvain/leiden for better annotation\n",
    "# dont touch UMAP for plotting\n",
    "adata_imm.uns['log1p']['base'] = None\n",
    "sc.pp.highly_variable_genes(adata_imm, n_top_genes=2000, batch_key='sample') \n",
    "sc.tl.pca(adata_imm, svd_solver='arpack', n_comps = 50, use_highly_variable=True)\n",
    "sc.pp.neighbors(adata_imm, n_neighbors=20, n_pcs=15)\n",
    "\n",
    "sc.tl.louvain(adata_imm, key_added='louvain', resolution=1)\n",
    "sc.tl.leiden(adata_imm, key_added='leiden', resolution=1)\n",
    "sc.tl.louvain(adata_imm, key_added='louvain_highres', resolution=2)\n",
    "sc.tl.leiden(adata_imm, key_added='leiden_highres', resolution=2)"
   ]
  },
  {
   "cell_type": "code",
   "execution_count": 429,
   "id": "9e5eda56",
   "metadata": {},
   "outputs": [],
   "source": [
    "score_tumor_immune_cells(adata_imm, signatures_path_)"
   ]
  },
  {
   "cell_type": "code",
   "execution_count": 427,
   "id": "02e3ea82",
   "metadata": {},
   "outputs": [],
   "source": [
    "imm_basic = ['B cells', 'T cells', 'Macrophages', 'Monocytes', \n",
    "                              'Neutrophils', 'NK cells', 'Plasma cells']"
   ]
  },
  {
   "cell_type": "code",
   "execution_count": null,
   "id": "dc0ec7be",
   "metadata": {},
   "outputs": [],
   "source": [
    "# immune\n",
    "# https://www.nature.com/articles/s41467-022-29366-6\n",
    "\n",
    "scv.pl.scatter(adata_imm, basis='umap', color=['CD3G','CD3E','CD3G','CD8A','CD8B','CD4', 'CD28', # T cells\n",
    "                                               'FOXP3', 'IL2RA', 'CTLA4', 'TNFRSF18', 'ENTPD1', # Treg, CD25, CD39, CD73 \n",
    "                                               'CD19', 'MS4A1', 'CD79A', 'CD79B' # CD20, B cells\n",
    "                                               ], \n",
    "               ncols=4, dpi=150, legend_loc='right margin', size = 2)"
   ]
  },
  {
   "cell_type": "code",
   "execution_count": null,
   "id": "e99da67c",
   "metadata": {},
   "outputs": [],
   "source": [
    "scv.pl.scatter(adata_imm, basis='umap', color=['NCAM1','FCGR3A', 'KLRF1',\n",
    "                                               'NCR3', 'NCR2', 'NCR1'\n",
    "                                               #CD56, 'CD16', NK\n",
    "                                               ], \n",
    "               ncols=4, dpi=150, legend_loc='right margin', size = 2)"
   ]
  },
  {
   "cell_type": "code",
   "execution_count": null,
   "id": "64d776c8",
   "metadata": {},
   "outputs": [],
   "source": [
    "# immune\n",
    "# https://www.nature.com/articles/s41467-022-29366-6\n",
    "\n",
    "scv.pl.scatter(adata_imm, basis='umap', color=['FCGR3A', # CD16, NK, Monocytes, Macrophages, Neutrophil\n",
    "                                               'CD14', # Mono, Macro\n",
    "                                               'ITGAM', # CD11b, Mono, Macro, Neu\n",
    "                                               'CD68', # Mye, Macro, DC, Mono\n",
    "                                               'CD163', # M2, Mono, DC(subset)\n",
    "                                               'CEACAM8', 'FCGR3B',# CD66b, Neu unique\n",
    "                                               'ITGAX', 'CXCL8', 'CD86', 'CD209', 'CD33', 'CCR2',#CD11c, DC\n",
    "                                               'PTPRC', # CD45, HSC\n",
    "                                               'FCGR2A', # CD32a, Mono, Macro, DC, Mast, Neu\n",
    "                                               'SPP1' # Macro\n",
    "                                               ], \n",
    "               ncols=4, dpi=150, legend_loc='right margin', size = 2)"
   ]
  },
  {
   "cell_type": "code",
   "execution_count": null,
   "id": "5a99dae1",
   "metadata": {},
   "outputs": [],
   "source": [
    "# immune, Pelka\n",
    "# https://doi.org/10.1016/j.cell.2021.08.003 \n",
    "scv.pl.scatter(adata_imm, basis='umap', color=['FCN1', 'VCAN', 'CD300E', 'S100A12' # Mono\n",
    "                                              ], \n",
    "               ncols=4, dpi=150, legend_loc='right margin', size = 2)"
   ]
  },
  {
   "cell_type": "code",
   "execution_count": null,
   "id": "ee2ade53",
   "metadata": {},
   "outputs": [],
   "source": [
    "# immune, Pelka\n",
    "# https://doi.org/10.1016/j.cell.2021.08.003 \n",
    "scv.pl.scatter(adata_imm, basis='umap', color=['CD163', 'APOC1', 'LIPA',  # Macro\n",
    "                                               'C1QA', 'CSF1R', # Macro + DC\n",
    "                                               #'CLEC9A', 'XCR1', \n",
    "                                               'BATF3',\n",
    "                                              'FCER1A', 'CD1C', 'CLEC10A', 'CD1E', 'PAK1', #'IL22RA2',\n",
    "                                              #'CLEC4C', 'IRF7', 'CXCR3', 'LILRA4',\n",
    "                                              #'SIGLEC6', 'AXL','CCL19',\n",
    "                                               'CSF3R',\n",
    "                                               'LAMP3', 'CCL22', 'CCR7','CD274', 'FCGR3B', 'HCAR2'], # different DCs\n",
    "               ncols=4, dpi=150, legend_loc='right margin', size = 2)"
   ]
  },
  {
   "cell_type": "code",
   "execution_count": null,
   "id": "18412525",
   "metadata": {},
   "outputs": [],
   "source": [
    "# immune\n",
    "# https://www.nature.com/articles/s41467-022-29366-6\n",
    "\n",
    "scv.pl.scatter(adata_imm, basis='umap', color=['SDC1','MZB1', 'XBP1',  # 'CD138' plasma\n",
    "                                               'KIT','IL1RL1', 'MS4A2', 'TPSAB1', 'CPA3'# Mast\n",
    "                                              ], \n",
    "               ncols=4, dpi=150, legend_loc='right margin', size = 2)"
   ]
  },
  {
   "cell_type": "code",
   "execution_count": 574,
   "id": "d48e8848",
   "metadata": {},
   "outputs": [],
   "source": [
    "score_genes(adata_imm, ['CD3G','CD3E','CD3G','CD4', 'PTPRC'], score_name='CD4+ T cells')\n",
    "score_genes(adata_imm, ['CD3G','CD3E','CD3G','CD8A','CD8B', 'PTPRC'], score_name='CD8+ T cells')\n",
    "score_genes(adata_imm, ['CD3G','CD3E','CD3G','CD4','FOXP3', 'PTPRC'], score_name='Treg cells')\n",
    "score_genes(adata_imm, ['CD19', 'MS4A1', 'CD79A', 'CD79B', 'PTPRC'], score_name='B cells (my)')\n",
    "\n",
    "score_genes(adata_imm, ['NCAM1','FCGR3A','KLRF1','NCR3', 'NCR2', 'NCR1'], score_name='NK cells (my)')\n",
    "\n",
    "score_genes(adata_imm, ['KIT','IL1RL1', 'MS4A2', 'TPSAB1', 'CPA3'], score_name='Mast cells')\n",
    "score_genes(adata_imm, ['SDC1','MZB1', 'XBP1'], score_name='Plasma cells (my)')\n",
    "\n",
    "#score_genes(adata_imm, ['CD68', 'PTPRC'], score_name='Myeloid cells')"
   ]
  },
  {
   "cell_type": "code",
   "execution_count": null,
   "id": "3e8d8dce",
   "metadata": {},
   "outputs": [],
   "source": [
    "score_genes(adata_imm, ['FCGR3B', 'CEACAM8','ITGAM', 'PTPRC'], score_name='Neutrophils (my)')\n",
    "score_genes(adata_imm, ['ITGAX','C1QA', 'CSF1R'], \n",
    "            score_name='Dendritic cells')\n",
    "score_genes(adata_imm, ['CD14','FCN1', 'VCAN', 'CD300E', 'S100A12'], \n",
    "            score_name='Monocytes (my)')\n",
    "score_genes(adata_imm, ['CD68', 'CD14','APOC1', 'LIPA','C1QA', 'CSF1R'], \n",
    "            score_name='Macrophages (my)')\n"
   ]
  },
  {
   "cell_type": "code",
   "execution_count": null,
   "id": "bfb73f73",
   "metadata": {},
   "outputs": [],
   "source": [
    "imm_higher = ['B cells (my)',\n",
    "              'CD4+ T cells','CD8+ T cells','Treg cells', 'NK cells (my)','Mast cells','Dendritic cells',\n",
    "              'Monocytes (my)','Macrophages (my)','Plasma cells (my)',\n",
    "              'Neutrophils (my)'#, 'Myeloid cells',\n",
    "             ]"
   ]
  },
  {
   "cell_type": "code",
   "execution_count": null,
   "id": "3df8d6f0",
   "metadata": {},
   "outputs": [],
   "source": [
    "# basic \n",
    "df = adata_imm.obs[imm_basic + ['leiden']].groupby(by=[\"leiden\"], dropna=False).mean().T\n",
    "plt.figure(figsize = (16,4))\n",
    "ax = sns.heatmap(df, square=True)\n",
    "ax.set_xticklabels(ax.get_xticklabels(),rotation = 0)\n",
    "ax.set_yticklabels(ax.get_yticklabels(),rotation = 0)\n",
    "\n",
    ";"
   ]
  },
  {
   "cell_type": "code",
   "execution_count": null,
   "id": "a317d24f",
   "metadata": {},
   "outputs": [],
   "source": [
    "pd.DataFrame(np.array(df.index[np.argmax(df.values, axis=0)]), index=df.columns).T"
   ]
  },
  {
   "cell_type": "code",
   "execution_count": 482,
   "id": "1311e642",
   "metadata": {},
   "outputs": [],
   "source": [
    "celltypes = df.index[np.argmax(df.values, axis=0)]\n",
    "clusters = df.columns\n",
    "adata_imm.obs['imm_basic']=None\n",
    "for celltype, cluster in zip(celltypes, clusters):\n",
    "    adata_imm.obs['imm_basic'][adata_imm.obs['leiden']==cluster] = celltype"
   ]
  },
  {
   "cell_type": "code",
   "execution_count": null,
   "id": "5e8c0c2e",
   "metadata": {},
   "outputs": [],
   "source": [
    "# higher\n",
    "df = adata_imm.obs[imm_higher + ['leiden']].groupby(by=[\"leiden\"], dropna=False).mean().T\n",
    "plt.figure(figsize = (16,7))\n",
    "ax = sns.heatmap(df, square=True)\n",
    "ax.set_xticklabels(ax.get_xticklabels(),rotation = 0)\n",
    "ax.set_yticklabels(ax.get_yticklabels(),rotation = 0)\n",
    "\n",
    ";"
   ]
  },
  {
   "cell_type": "code",
   "execution_count": null,
   "id": "a1eafc83",
   "metadata": {},
   "outputs": [],
   "source": [
    "pd.DataFrame(np.array(df.index[np.argmax(df.values, axis=0)]), index=df.columns).T"
   ]
  },
  {
   "cell_type": "code",
   "execution_count": 579,
   "id": "0fe4f4e5",
   "metadata": {},
   "outputs": [],
   "source": [
    "celltypes = df.index[np.argmax(df.values, axis=0)]\n",
    "clusters = df.columns\n",
    "adata_imm.obs['imm_higher']=None\n",
    "for celltype, cluster in zip(celltypes, clusters):\n",
    "    adata_imm.obs['imm_higher'][adata_imm.obs['leiden']==cluster] = celltype"
   ]
  },
  {
   "cell_type": "markdown",
   "id": "5e7c1728",
   "metadata": {},
   "source": [
    "### Florian's anno"
   ]
  },
  {
   "cell_type": "code",
   "execution_count": 333,
   "id": "1db12d38",
   "metadata": {},
   "outputs": [],
   "source": [
    "adata_florian_all = sc.read(Path(data_folder)/'anno/CRC/3p/seu_all_final.h5')"
   ]
  },
  {
   "cell_type": "code",
   "execution_count": 335,
   "id": "476ec723",
   "metadata": {},
   "outputs": [],
   "source": [
    "adata_imm.obs['flo_imm'] = adata_florian_all.obs.reindex(adata_imm.obs.index)[['cell_type_imm']]"
   ]
  },
  {
   "cell_type": "code",
   "execution_count": null,
   "id": "e572af47",
   "metadata": {},
   "outputs": [],
   "source": [
    "scv.pl.scatter(adata_imm, color=['louvain_highres', 'leiden', 'leiden_highres'], \n",
    "               legend_loc='right', \n",
    "               size = 2, ncols =1, dpi=150)"
   ]
  },
  {
   "cell_type": "code",
   "execution_count": null,
   "id": "dc99e891",
   "metadata": {},
   "outputs": [],
   "source": [
    "scv.pl.scatter(adata_imm, color=['imm_basic', 'imm_higher','flo_imm'], \n",
    "               legend_loc='right', \n",
    "               size = 2, ncols =1, dpi=150)"
   ]
  },
  {
   "cell_type": "code",
   "execution_count": 585,
   "id": "c11481d6",
   "metadata": {},
   "outputs": [],
   "source": [
    "adata_imm.obs['imm_higher'] = adata_imm.obs['imm_higher'].cat.rename_categories({\n",
    "   'B cells (my)':'B cells',\n",
    "   'Macrophages (my)':'Macrophages',\n",
    "   'Monocytes (my)':'Monocytes',\n",
    "   'Neutrophils (my)':'Neutrophils',\n",
    "   'Plasma cells (my)':'Plasma cells'\n",
    "})"
   ]
  },
  {
   "cell_type": "code",
   "execution_count": null,
   "id": "333946d0",
   "metadata": {},
   "outputs": [],
   "source": [
    "scv.pl.scatter(adata_imm, color=['imm_higher'], \n",
    "               legend_loc='right', \n",
    "               size = 2, ncols =2, dpi=150)"
   ]
  },
  {
   "cell_type": "markdown",
   "id": "b36abcb8",
   "metadata": {},
   "source": [
    "### Stromal cells: endothelial, fibroblast, other"
   ]
  },
  {
   "cell_type": "code",
   "execution_count": 587,
   "id": "ee59549a",
   "metadata": {},
   "outputs": [],
   "source": [
    "# re-run PCA and louvain/leiden for better annotation\n",
    "# dont touch UMAP for plotting\n",
    "adata_str.uns['log1p']['base'] = None\n",
    "sc.pp.highly_variable_genes(adata_str, n_top_genes=2000, batch_key='sample') \n",
    "sc.tl.pca(adata_str, svd_solver='arpack', n_comps = 50, use_highly_variable=True)\n",
    "sc.pp.neighbors(adata_str, n_neighbors=20, n_pcs=15)\n",
    "\n",
    "sc.tl.louvain(adata_str, key_added='louvain', resolution=1)\n",
    "sc.tl.leiden(adata_str, key_added='leiden', resolution=1)\n",
    "sc.tl.louvain(adata_str, key_added='louvain_highres', resolution=2)\n",
    "sc.tl.leiden(adata_str, key_added='leiden_highres', resolution=2)"
   ]
  },
  {
   "cell_type": "code",
   "execution_count": 588,
   "id": "b092b12f",
   "metadata": {},
   "outputs": [],
   "source": [
    "adata_str.obs['flo_str'] = adata_florian_all.obs.reindex(adata_str.obs.index)[['cell_type_str']]"
   ]
  },
  {
   "cell_type": "code",
   "execution_count": null,
   "id": "e17eed2e",
   "metadata": {},
   "outputs": [],
   "source": [
    "scv.pl.scatter(adata_str, color=['louvain','leiden','flo_str'], \n",
    "               legend_loc='right', \n",
    "               size = 2, ncols =2, dpi=150)"
   ]
  },
  {
   "cell_type": "code",
   "execution_count": null,
   "id": "74b19f5b",
   "metadata": {},
   "outputs": [],
   "source": [
    "# Phillips\n",
    "# endothelial/Platelet: PECAM1\n",
    "# muscle cells: ACTA2\n",
    "# https://www.nature.com/articles/s41467-022-29366-6\n",
    "scv.pl.scatter(adata_str, color=['PECAM1', 'VWF', 'MCAM', 'ENG', 'CDH5',# Endo\n",
    "                                 'FAP', 'TNC', # CAF\n",
    "                                 'IL13RA2','IL11', # infl. FB\n",
    "                                 'COL1A1', 'COL3A1', # FB \n",
    "                                 'S100B', 'CDH2', # glial\n",
    "                                 'ACTA2', # Pericytes/Smooth muscle\n",
    "                                  'VIM', # mesenchymal\n",
    "                                  'DES', 'S100A4', 'FN1', # potential, not unique myofib/Peri\n",
    "                                 'PDGFRB', 'CSPG4' # Peri\n",
    "                                 ],\n",
    "               legend_loc='right', \n",
    "               size = 2, ncols =5, dpi=150)"
   ]
  },
  {
   "cell_type": "code",
   "execution_count": 622,
   "id": "bb0ae5fb",
   "metadata": {},
   "outputs": [],
   "source": [
    "score_genes(adata_str, ['PECAM1', 'VWF', 'MCAM', 'ENG', 'CDH5'], score_name='Endothelial cells')\n",
    "score_genes(adata_str, ['FAP'], score_name='CAFs')\n",
    "score_genes(adata_str, ['COL1A1', 'COL3A1','ACTA2'], score_name='Fibroblasts')\n",
    "score_genes(adata_str, ['ACTA2','PDGFRB', 'CSPG4','DES'], score_name='Pericytes')\n",
    "#score_genes(adata_str, ['FN1'], score_name='Myofibroblasts')\n"
   ]
  },
  {
   "cell_type": "code",
   "execution_count": 623,
   "id": "b05bd858",
   "metadata": {},
   "outputs": [],
   "source": [
    "str_basic = ['Endothelial cells', 'CAFs','Fibroblasts', 'Pericytes'] #,'Myofibroblasts'"
   ]
  },
  {
   "cell_type": "code",
   "execution_count": null,
   "id": "1a82c586",
   "metadata": {},
   "outputs": [],
   "source": [
    "# basic\n",
    "df = adata_str.obs[str_basic + ['leiden']].groupby(by=[\"leiden\"], dropna=False).mean().T\n",
    "plt.figure(figsize = (16,7))\n",
    "ax = sns.heatmap(df, square=True)\n",
    "ax.set_xticklabels(ax.get_xticklabels(),rotation = 0)\n",
    "ax.set_yticklabels(ax.get_yticklabels(),rotation = 0)\n",
    "\n",
    ";"
   ]
  },
  {
   "cell_type": "code",
   "execution_count": 625,
   "id": "725dccc8",
   "metadata": {},
   "outputs": [
    {
     "data": {
      "text/html": [
       "<div>\n",
       "<style scoped>\n",
       "    .dataframe tbody tr th:only-of-type {\n",
       "        vertical-align: middle;\n",
       "    }\n",
       "\n",
       "    .dataframe tbody tr th {\n",
       "        vertical-align: top;\n",
       "    }\n",
       "\n",
       "    .dataframe thead th {\n",
       "        text-align: right;\n",
       "    }\n",
       "</style>\n",
       "<table border=\"1\" class=\"dataframe\">\n",
       "  <thead>\n",
       "    <tr style=\"text-align: right;\">\n",
       "      <th>leiden</th>\n",
       "      <th>0</th>\n",
       "      <th>1</th>\n",
       "      <th>2</th>\n",
       "      <th>3</th>\n",
       "      <th>4</th>\n",
       "      <th>5</th>\n",
       "      <th>6</th>\n",
       "      <th>7</th>\n",
       "      <th>8</th>\n",
       "      <th>9</th>\n",
       "      <th>10</th>\n",
       "      <th>11</th>\n",
       "      <th>12</th>\n",
       "      <th>13</th>\n",
       "      <th>14</th>\n",
       "      <th>15</th>\n",
       "    </tr>\n",
       "  </thead>\n",
       "  <tbody>\n",
       "    <tr>\n",
       "      <th>0</th>\n",
       "      <td>Endothelial cells</td>\n",
       "      <td>Fibroblasts</td>\n",
       "      <td>Fibroblasts</td>\n",
       "      <td>Pericytes</td>\n",
       "      <td>Endothelial cells</td>\n",
       "      <td>Fibroblasts</td>\n",
       "      <td>Fibroblasts</td>\n",
       "      <td>Endothelial cells</td>\n",
       "      <td>Fibroblasts</td>\n",
       "      <td>Fibroblasts</td>\n",
       "      <td>Fibroblasts</td>\n",
       "      <td>Fibroblasts</td>\n",
       "      <td>Fibroblasts</td>\n",
       "      <td>Pericytes</td>\n",
       "      <td>Endothelial cells</td>\n",
       "      <td>Fibroblasts</td>\n",
       "    </tr>\n",
       "  </tbody>\n",
       "</table>\n",
       "</div>"
      ],
      "text/plain": [
       "leiden                  0            1            2          3  \\\n",
       "0       Endothelial cells  Fibroblasts  Fibroblasts  Pericytes   \n",
       "\n",
       "leiden                  4            5            6                  7  \\\n",
       "0       Endothelial cells  Fibroblasts  Fibroblasts  Endothelial cells   \n",
       "\n",
       "leiden            8            9           10           11           12  \\\n",
       "0       Fibroblasts  Fibroblasts  Fibroblasts  Fibroblasts  Fibroblasts   \n",
       "\n",
       "leiden         13                 14           15  \n",
       "0       Pericytes  Endothelial cells  Fibroblasts  "
      ]
     },
     "execution_count": 625,
     "metadata": {},
     "output_type": "execute_result"
    }
   ],
   "source": [
    "pd.DataFrame(np.array(df.index[np.argmax(df.values, axis=0)]), index=df.columns).T"
   ]
  },
  {
   "cell_type": "code",
   "execution_count": 626,
   "id": "34f20103",
   "metadata": {},
   "outputs": [],
   "source": [
    "celltypes = df.index[np.argmax(df.values, axis=0)]\n",
    "clusters = df.columns\n",
    "adata_str.obs['str_basic']=None\n",
    "for celltype, cluster in zip(celltypes, clusters):\n",
    "    adata_str.obs['str_basic'][adata_str.obs['leiden']==cluster] = celltype"
   ]
  },
  {
   "cell_type": "code",
   "execution_count": null,
   "id": "93c95d91",
   "metadata": {},
   "outputs": [],
   "source": [
    "scv.pl.scatter(adata_str, color=['str_basic'], \n",
    "               legend_loc='right', \n",
    "               size = 2, ncols =2, dpi=150)"
   ]
  },
  {
   "cell_type": "markdown",
   "id": "41ff4166",
   "metadata": {},
   "source": [
    "### Put all cell type together"
   ]
  },
  {
   "cell_type": "code",
   "execution_count": 648,
   "id": "e366d714",
   "metadata": {},
   "outputs": [],
   "source": [
    "adata_all.obs['cell_type_level2'] = None\n",
    "\n",
    "for i in np.arange(0, adata_all.shape[0]):\n",
    "    if adata_all.obs['celltype_1a'][i] == 'epi':\n",
    "        adata_all.obs['cell_type_level2'][i] = adata_epi.obs.loc[adata_all.obs['cell_type_level2'].index[i]]['Uhlitz_scANVI']\n",
    "    elif adata_all.obs['celltype_1a'][i] == 'str':\n",
    "        adata_all.obs['cell_type_level2'][i] = adata_str.obs.loc[adata_all.obs['cell_type_level2'].index[i]]['str_basic']\n",
    "    elif adata_all.obs['celltype_1a'][i] == 'imm':\n",
    "        adata_all.obs['cell_type_level2'][i] = adata_imm.obs.loc[adata_all.obs['cell_type_level2'].index[i]]['imm_higher']\n",
    "    "
   ]
  },
  {
   "cell_type": "code",
   "execution_count": null,
   "id": "f282b639",
   "metadata": {},
   "outputs": [],
   "source": [
    "scv.pl.scatter(adata_all, color=['cell_type_level2'], \n",
    "               legend_loc='right', \n",
    "               size = 2, ncols =1, dpi=300)"
   ]
  },
  {
   "cell_type": "code",
   "execution_count": null,
   "id": "86304b10",
   "metadata": {},
   "outputs": [],
   "source": [
    "adata_all.write(Path(new_data_folder)/'adata_all_full_cell_type_annotation.h5')"
   ]
  }
 ],
 "metadata": {
  "kernelspec": {
   "display_name": "sc",
   "language": "python",
   "name": "sc"
  },
  "language_info": {
   "codemirror_mode": {
    "name": "ipython",
    "version": 3
   },
   "file_extension": ".py",
   "mimetype": "text/x-python",
   "name": "python",
   "nbconvert_exporter": "python",
   "pygments_lexer": "ipython3",
   "version": "3.9.10"
  }
 },
 "nbformat": 4,
 "nbformat_minor": 5
}
