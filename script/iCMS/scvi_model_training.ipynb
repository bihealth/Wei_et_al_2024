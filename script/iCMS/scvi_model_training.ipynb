{
 "cells": [
  {
   "cell_type": "code",
   "execution_count": null,
   "id": "74eb9590",
   "metadata": {},
   "outputs": [],
   "source": [
    "import scvi\n",
    "import os\n",
    "os.environ['SLURM_JOB_NAME'] = 'bash'  \n",
    "# https://github.com/PyTorchLightning/pytorch-lightning/issues/3651#issuecomment-796045752\n",
    "\n",
    "import scanpy as sc\n",
    "import matplotlib.pyplot as plt\n",
    "import time\n",
    "import pandas as pd\n",
    "import numpy as np\n",
    "\n",
    "sc.set_figure_params(figsize=(6,6))"
   ]
  },
  {
   "cell_type": "code",
   "execution_count": null,
   "id": "8144cb43",
   "metadata": {},
   "outputs": [],
   "source": [
    "from pathlib import Path, PurePath"
   ]
  },
  {
   "cell_type": "markdown",
   "id": "3e1d15fe",
   "metadata": {},
   "source": [
    "### read adata and subset to with only HVG"
   ]
  },
  {
   "cell_type": "code",
   "execution_count": null,
   "id": "467fd6f6",
   "metadata": {},
   "outputs": [],
   "source": [
    "#### snakemake input is a list\n",
    "adata = sc.read(snakemake.input[0])"
   ]
  },
  {
   "cell_type": "code",
   "execution_count": 28,
   "id": "f8137ad6",
   "metadata": {
    "scrolled": false
   },
   "outputs": [
    {
     "name": "stderr",
     "output_type": "stream",
     "text": [
      "/var/folders/rm/svqn0lhx63z_94lkg6ttnsc80000gn/T/ipykernel_9596/3641185465.py:2: ImplicitModificationWarning: Trying to modify attribute `.obs` of view, initializing view as actual.\n",
      "  adata.obs['percent_mito'] = adata.obs['pct_counts_mt']/100\n"
     ]
    }
   ],
   "source": [
    "adata = adata[:,adata.var['highly_variable'] == True]\n",
    "adata.obs['percent_mito'] = adata.obs['pct_counts_mt']/100"
   ]
  },
  {
   "cell_type": "markdown",
   "id": "be15a547",
   "metadata": {},
   "source": [
    "### model setup"
   ]
  },
  {
   "cell_type": "markdown",
   "id": "90cf89da",
   "metadata": {},
   "source": [
    "#### test different seed"
   ]
  },
  {
   "cell_type": "code",
   "execution_count": 38,
   "id": "4f763951",
   "metadata": {},
   "outputs": [],
   "source": [
    "cat_covariate_list = [\"patient\"]\n",
    "cont_covariate_list = [\"percent_mito\", \"percent_ribo\"]"
   ]
  },
  {
   "cell_type": "code",
   "execution_count": 44,
   "id": "ad4435c5",
   "metadata": {},
   "outputs": [],
   "source": [
    "def train_scvi(seed, adata, cat_covariate_list, cont_covariate_list, name):\n",
    "    \n",
    "    model_name = 'model' + time.strftime(\"_20%y%m%d_%H%M%S\", time.localtime())\n",
    "        \n",
    "    np.random.seed(seed)\n",
    "    \n",
    "    # setup\n",
    "    scvi.model.SCVI.setup_anndata(\n",
    "    adata,\n",
    "    layer=\"counts\",\n",
    "    categorical_covariate_keys=cat_covariate_list,\n",
    "    continuous_covariate_keys=cont_covariate_list)\n",
    "    \n",
    "    # model\n",
    "    model = scvi.model.SCVI(adata)\n",
    "    \n",
    "    # train\n",
    "    model.train()\n",
    "    \n",
    "    # save\n",
    "    print(model)\n",
    "    if name:\n",
    "        model_name = model_name + name\n",
    "    print('model saving: ' + model_name )\n",
    "    model.save(Path(model_name))"
   ]
  },
  {
   "cell_type": "code",
   "execution_count": null,
   "id": "4385ec48",
   "metadata": {},
   "outputs": [],
   "source": [
    "train_scvi(0, adata, cat_covariate_list, None , name='_only_pt')"
   ]
  },
  {
   "cell_type": "code",
   "execution_count": null,
   "id": "f8c7f39a",
   "metadata": {},
   "outputs": [],
   "source": [
    "train_scvi(0, adata, cat_covariate_list, [cont_covariate_list[1]] , name='_pt_ribo')"
   ]
  }
 ],
 "metadata": {
  "kernelspec": {
   "display_name": "scvi",
   "language": "python",
   "name": "scvi"
  },
  "language_info": {
   "codemirror_mode": {
    "name": "ipython",
    "version": 3
   },
   "file_extension": ".py",
   "mimetype": "text/x-python",
   "name": "python",
   "nbconvert_exporter": "python",
   "pygments_lexer": "ipython3",
   "version": "3.9.15"
  }
 },
 "nbformat": 4,
 "nbformat_minor": 5
}
