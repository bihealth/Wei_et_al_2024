{
 "cells": [
  {
   "cell_type": "code",
   "execution_count": 1,
   "id": "c13a3bd0",
   "metadata": {},
   "outputs": [
    {
     "name": "stderr",
     "output_type": "stream",
     "text": [
      "Global seed set to 0\n",
      "/Users/cindywei/miniconda3/envs/scvi/lib/python3.9/site-packages/pytorch_lightning/utilities/warnings.py:53: LightningDeprecationWarning: pytorch_lightning.utilities.warnings.rank_zero_deprecation has been deprecated in v1.6 and will be removed in v1.8. Use the equivalent function from the pytorch_lightning.utilities.rank_zero module instead.\n",
      "  new_rank_zero_deprecation(\n",
      "/Users/cindywei/miniconda3/envs/scvi/lib/python3.9/site-packages/pytorch_lightning/utilities/warnings.py:58: LightningDeprecationWarning: The `pytorch_lightning.loggers.base.rank_zero_experiment` is deprecated in v1.7 and will be removed in v1.9. Please use `pytorch_lightning.loggers.logger.rank_zero_experiment` instead.\n",
      "  return new_rank_zero_deprecation(*args, **kwargs)\n"
     ]
    }
   ],
   "source": [
    "import scvi\n",
    "import os\n",
    "\n",
    "import scanpy as sc\n",
    "import scvelo as scv\n",
    "#import scib\n",
    "#MemoryError: Cannot allocate write+execute memory for ffi.callback().  \n",
    "#You might be running on a system that prevents this. \n",
    "#For more information, see https://cffi.readthedocs.io/en/latest/using.html#callbacks\n",
    "\n",
    "# I think it is rpy2's problem\n",
    "\n",
    "import matplotlib.pyplot as plt\n",
    "import time\n",
    "\n",
    "import numpy as np\n",
    "\n",
    "#sc.set_figure_params(figsize=(6,6))"
   ]
  },
  {
   "cell_type": "code",
   "execution_count": 5,
   "id": "5ea1ef9f",
   "metadata": {},
   "outputs": [],
   "source": [
    "np.random.seed(123)"
   ]
  },
  {
   "cell_type": "code",
   "execution_count": 3,
   "id": "db3d807a",
   "metadata": {},
   "outputs": [],
   "source": [
    "from pathlib import Path, PurePath\n",
    "loc_dir = Path('.')"
   ]
  },
  {
   "cell_type": "code",
   "execution_count": 6,
   "id": "74a25aab",
   "metadata": {},
   "outputs": [],
   "source": [
    "# let's hack the scib\n",
    "import silhouette\n",
    "import nmi\n",
    "import ari\n",
    "import lisi"
   ]
  },
  {
   "cell_type": "code",
   "execution_count": 8,
   "id": "f2fc6c0b",
   "metadata": {},
   "outputs": [],
   "source": [
    "# remove weird grid from scvelo\n",
    "plt.rcParams['axes.grid'] = False"
   ]
  },
  {
   "cell_type": "code",
   "execution_count": 9,
   "id": "e636afa6",
   "metadata": {
    "scrolled": true
   },
   "outputs": [
    {
     "name": "stdout",
     "output_type": "stream",
     "text": [
      "cycler('color', ['#1f77b4', '#ff7f0e', '#2ca02c', '#d62728', '#9467bd', '#8c564b', '#e377c2', '#7f7f7f', '#bcbd22', '#17becf'])\n"
     ]
    }
   ],
   "source": [
    "print(plt.rcParams['axes.prop_cycle'])"
   ]
  },
  {
   "cell_type": "markdown",
   "id": "23941350",
   "metadata": {},
   "source": [
    "data_folder = '/fast/users/twei_m/work/crc/datasets'"
   ]
  },
  {
   "cell_type": "code",
   "execution_count": 10,
   "id": "ae997a95",
   "metadata": {},
   "outputs": [],
   "source": [
    "adata_concat = sc.read(Path('adata_concat_with_joanito.h5'))"
   ]
  },
  {
   "cell_type": "code",
   "execution_count": 11,
   "id": "13d78de6",
   "metadata": {},
   "outputs": [],
   "source": [
    "adata = adata_concat.copy()"
   ]
  },
  {
   "cell_type": "markdown",
   "id": "cbf48462",
   "metadata": {},
   "source": [
    "## load model"
   ]
  },
  {
   "cell_type": "code",
   "execution_count": 12,
   "id": "c43388d1",
   "metadata": {},
   "outputs": [],
   "source": [
    "# load models\n",
    "model_path_list = list(loc_dir.glob('model_20230525*icms*'))"
   ]
  },
  {
   "cell_type": "code",
   "execution_count": 13,
   "id": "f1178c5f",
   "metadata": {},
   "outputs": [
    {
     "data": {
      "text/plain": [
       "[PosixPath('model_20230525_172203_icms_source_pt_mito')]"
      ]
     },
     "execution_count": 13,
     "metadata": {},
     "output_type": "execute_result"
    }
   ],
   "source": [
    "model_path_list"
   ]
  },
  {
   "cell_type": "code",
   "execution_count": 12,
   "id": "e59670f4",
   "metadata": {},
   "outputs": [],
   "source": [
    "# add model latent space to adata\n",
    "def add_latent_space(model_path, adata):\n",
    "    model = scvi.model.SCVI.load(model_path, adata=adata, use_gpu=False)\n",
    "    print(model, 'reconstruction error', model.get_reconstruction_error())\n",
    "    latent = model.get_latent_representation()\n",
    "    adata.obsm[\"X_scVI_\"+ PurePath(model_path).name] = latent"
   ]
  },
  {
   "cell_type": "code",
   "execution_count": 13,
   "id": "1dcdb8c6",
   "metadata": {
    "scrolled": true
   },
   "outputs": [
    {
     "name": "stdout",
     "output_type": "stream",
     "text": [
      "\u001b[34mINFO    \u001b[0m File model_20221206_153705_icms_pt_mito/model.pt already downloaded                                       \n"
     ]
    },
    {
     "data": {
      "text/html": [
       "<pre style=\"white-space:pre;overflow-x:auto;line-height:normal;font-family:Menlo,'DejaVu Sans Mono',consolas,'Courier New',monospace\">SCVI Model with the following params: \n",
       "n_hidden: <span style=\"color: #008080; text-decoration-color: #008080; font-weight: bold\">128</span>, n_latent: <span style=\"color: #008080; text-decoration-color: #008080; font-weight: bold\">10</span>, n_layers: <span style=\"color: #008080; text-decoration-color: #008080; font-weight: bold\">1</span>, dropout_rate: <span style=\"color: #008080; text-decoration-color: #008080; font-weight: bold\">0.1</span>, dispersion: gene, gene_likelihood: zinb, \n",
       "latent_distribution: normal\n",
       "Training status: Trained\n",
       "</pre>\n"
      ],
      "text/plain": [
       "SCVI Model with the following params: \n",
       "n_hidden: \u001b[1;36m128\u001b[0m, n_latent: \u001b[1;36m10\u001b[0m, n_layers: \u001b[1;36m1\u001b[0m, dropout_rate: \u001b[1;36m0.1\u001b[0m, dispersion: gene, gene_likelihood: zinb, \n",
       "latent_distribution: normal\n",
       "Training status: Trained\n"
      ]
     },
     "metadata": {},
     "output_type": "display_data"
    },
    {
     "name": "stdout",
     "output_type": "stream",
     "text": [
      " reconstruction error {'reconstruction_loss': -1177.57240342986}\n"
     ]
    }
   ],
   "source": [
    "add_latent_space(model_path_list[0], adata)"
   ]
  },
  {
   "cell_type": "markdown",
   "id": "7a11c423",
   "metadata": {},
   "source": [
    "### Latent space UMAP"
   ]
  },
  {
   "cell_type": "code",
   "execution_count": 15,
   "id": "8f84a397",
   "metadata": {},
   "outputs": [],
   "source": [
    "cat_covariate_list = [\"patient\"]\n",
    "cont_covariate_list = [\"percent_mito\"]"
   ]
  },
  {
   "cell_type": "code",
   "execution_count": 16,
   "id": "3b7b3345",
   "metadata": {},
   "outputs": [],
   "source": [
    "# use scVI latent space for UMAP generation\n",
    "def plot_latent(model_type, model_name, model_path, cat_covariate_or_batch, celltype_label_colname, \n",
    "                evaluation):\n",
    "\n",
    "        #rep = \"X_scVI_\"+ PurePath(model_path).name\n",
    "    if model_path:\n",
    "        rep = model_type + PurePath(model_path).name\n",
    "    elif model_name:\n",
    "        rep = model_type + model_name\n",
    "    else:\n",
    "        rep = model_type\n",
    "    print(rep)\n",
    "    \n",
    "    adata_scvi = sc.pp.neighbors(adata, use_rep = rep, copy=True)\n",
    "    sc.tl.umap(adata_scvi)\n",
    "    sc.tl.louvain(adata_scvi, key_added='louvain_integrated1', resolution=1)\n",
    "    sc.tl.louvain(adata_scvi, key_added='louvain_integrated2', resolution=2)\n",
    "    sc.tl.louvain(adata_scvi, key_added='louvain_integrated5', resolution=5)\n",
    "    if model_type == 'X_scANVI':\n",
    "        scv.pl.scatter(adata_scvi, basis='umap', color=['sample_origin', 'patient', 'MS_status', \n",
    "                                                    celltype_label_colname,\n",
    "                                                    rep.replace('X_', 'C_'),\n",
    "                                                       'numbat',\n",
    "                                                       'CCISM_call',\n",
    "                                                       'source'], \n",
    "               ncols=2, dpi=150, legend_loc='right margin')\n",
    "    else:\n",
    "        scv.pl.scatter(adata_scvi, basis='umap', color=['sample_origin', 'patient', 'MS_status', \n",
    "                                                    celltype_label_colname], \n",
    "               ncols=2, dpi=150, legend_loc='right margin')\n",
    "\n",
    "    # integration evaluation\n",
    "    if evaluation == True:\n",
    "        # NMI: overlap of two clusterings e.g. cell type label vs louvain\n",
    "        print('NMI: ' ,nmi.nmi(adata_scvi, celltype_label_colname, 'louvain_integrated1'),\n",
    "             nmi.nmi(adata_scvi, celltype_label_colname, 'louvain_integrated2'),\n",
    "             nmi.nmi(adata_scvi, celltype_label_colname, 'louvain_integrated5'))\n",
    "        # ARI: overlap of two clusterings considering disagreement\n",
    "        print('ARI: ' ,ari.ari(adata_scvi, celltype_label_colname, 'louvain_integrated1'),\n",
    "             ari.ari(adata_scvi, celltype_label_colname, 'louvain_integrated2'),\n",
    "             ari.ari(adata_scvi, celltype_label_colname, 'louvain_integrated5'))\n",
    "        # Silhouette, ASW: within cluster dist vs between cluster dist (closest cluster) of a cell\n",
    "        print('silhouette score: ', silhouette.silhouette(adata, celltype_label_colname, rep))\n",
    "        print('silhouette batch score: ' , silhouette.silhouette_batch(adata, cat_covariate_or_batch, \n",
    "                                                                            celltype_label_colname, rep))\n"
   ]
  },
  {
   "cell_type": "code",
   "execution_count": null,
   "id": "e9e9bb79",
   "metadata": {},
   "outputs": [],
   "source": [
    "# plot UMAP and shilhouette score\n",
    "plot_latent(model_type='X_scVI_', \n",
    "                model_name=None,\n",
    "                model_path=model_path_list[0], \n",
    "                cat_covariate_or_batch=cat_covariate_list[0], \n",
    "                celltype_label_colname='cell_type_epi_custom_simplified_nonan', \n",
    "                evaluation=False)"
   ]
  },
  {
   "cell_type": "markdown",
   "id": "797040b4",
   "metadata": {},
   "source": [
    "## scANVI label transfer"
   ]
  },
  {
   "cell_type": "code",
   "execution_count": 52,
   "id": "52b74e27",
   "metadata": {},
   "outputs": [],
   "source": [
    "def run_scavi_and_add_latent_and_priumap(model_path, cell_type_label, save_model):\n",
    "    \n",
    "    model = scvi.model.SCVI.load(model_path, adata=adata, use_gpu=False)\n",
    "    \n",
    "    lvae = scvi.model.SCANVI.from_scvi_model(\n",
    "            model,\n",
    "            adata=adata,\n",
    "            unlabeled_category='Unknown',\n",
    "            labels_key=cell_type_label)\n",
    "    lvae.train(max_epochs=20)\n",
    "    \n",
    "    print(lvae, 'reconstruction error', lvae.get_reconstruction_error())\n",
    "    \n",
    "    if save_model == True:\n",
    "        lvae.save(Path(PurePath(model_path).name + '_scANVI'+ time.strftime(\"_20%y%m%d_%H%M%S\", time.localtime())))\n",
    "    \n",
    "    print(\"C_scANVI_\"+PurePath(model_path).name)\n",
    "    adata.obs[\"C_scANVI_\"+PurePath(model_path).name] = lvae.predict(adata)\n",
    "    adata.obsm[\"X_scANVI_\"+PurePath(model_path).name] = lvae.get_latent_representation(adata)\n",
    "    \n",
    "    scv.pl.scatter(adata, basis='umap', color=[\"C_scANVI_\"+PurePath(model_path).name, \n",
    "                                               cell_type_label], \n",
    "               ncols=2, dpi=150, legend_loc='right margin', size = 5)"
   ]
  },
  {
   "cell_type": "code",
   "execution_count": null,
   "id": "195003f0",
   "metadata": {},
   "outputs": [],
   "source": [
    "for i in model_path_list:\n",
    "    lvae = run_scavi_and_add_latent_and_priumap(i, 'iCMS', True)"
   ]
  },
  {
   "cell_type": "markdown",
   "id": "761da48b",
   "metadata": {},
   "source": [
    "### fix some colors"
   ]
  },
  {
   "cell_type": "markdown",
   "id": "f612f7b0",
   "metadata": {},
   "source": [
    "### pt + mito"
   ]
  },
  {
   "cell_type": "code",
   "execution_count": 62,
   "id": "af7bc68a",
   "metadata": {},
   "outputs": [],
   "source": [
    "adata.uns['icms_cluster_new_pub_up_by_cell_colors'] = ['#1f77b4', '#ff7f0e', '#279e68']"
   ]
  },
  {
   "cell_type": "code",
   "execution_count": 57,
   "id": "205f7d27",
   "metadata": {},
   "outputs": [],
   "source": [
    "adata.obs['C_scANVI_model_20221206_153705_icms_pt_mito'] = adata.obs['C_scANVI_model_20221206_153705_icms_pt_mito'].cat.reorder_categories(['iCMS2', 'iCMS3', 'Normal'])"
   ]
  },
  {
   "cell_type": "code",
   "execution_count": 60,
   "id": "2f974509",
   "metadata": {},
   "outputs": [],
   "source": [
    "adata.uns['C_scANVI_model_20221206_153705_icms_pt_mito_colors'] = ['#1f77b4', '#ff7f0e', '#279e68']"
   ]
  },
  {
   "cell_type": "code",
   "execution_count": null,
   "id": "0661c994",
   "metadata": {},
   "outputs": [],
   "source": [
    "scv.pl.scatter(adata, basis='umap', color=['C_scANVI_model_20221206_153705_icms_pt_mito'], \n",
    "               ncols=2, dpi=150, legend_loc='right margin', size = 5)"
   ]
  },
  {
   "cell_type": "markdown",
   "id": "a38d5b48",
   "metadata": {},
   "source": [
    "### some evaluation of integration"
   ]
  },
  {
   "cell_type": "code",
   "execution_count": null,
   "id": "cb032435",
   "metadata": {},
   "outputs": [],
   "source": [
    "plot_latent(model_type='X_scANVI', \n",
    "                model_name='_model_20221206_153705_icms_pt_mito',\n",
    "                model_path=None, \n",
    "                cat_covariate_or_batch=cat_covariate_list[0], \n",
    "                celltype_label_colname='iCMS', \n",
    "                evaluation=False)"
   ]
  },
  {
   "cell_type": "markdown",
   "id": "c01b25d8",
   "metadata": {},
   "source": [
    "### confusion matrix: label changes"
   ]
  },
  {
   "cell_type": "markdown",
   "id": "8ba10ae8",
   "metadata": {},
   "source": [
    "### pt + mito"
   ]
  },
  {
   "cell_type": "code",
   "execution_count": 66,
   "id": "3a0a92e8",
   "metadata": {},
   "outputs": [],
   "source": [
    "def confusion_mtx(adata, observed_col, prediction_col):\n",
    "    \n",
    "    df = adata.obs.groupby([observed_col,\n",
    "                            prediction_col]).size().unstack(fill_value=0)\n",
    "    conf_mtx=df/(df.sum(axis=1).values[:, np.newaxis])\n",
    "    \n",
    "    plt.figure(figsize=(8,8))\n",
    "    _ = plt.pcolor(conf_mtx)\n",
    "    _ = plt.xticks(np.arange(0.5, len(df.columns),1), df.columns, rotation=90)\n",
    "    _ = plt.yticks(np.arange(0.5, len(df.index),1), df.index)\n",
    "    plt.xlabel('Predicted')\n",
    "    plt.ylabel('Observed')\n",
    "    plt.title(prediction_col)"
   ]
  },
  {
   "cell_type": "code",
   "execution_count": null,
   "id": "73bb094e",
   "metadata": {},
   "outputs": [],
   "source": [
    "confusion_mtx(adata,'iCMS', 'C_scANVI_model_20221206_153705_icms_pt_mito')"
   ]
  },
  {
   "cell_type": "code",
   "execution_count": null,
   "id": "8434c11a",
   "metadata": {},
   "outputs": [],
   "source": [
    "adata.write(Path('CB_epi_cells_iCMS.h5'))"
   ]
  }
 ],
 "metadata": {
  "kernelspec": {
   "display_name": "scvi",
   "language": "python",
   "name": "scvi"
  },
  "language_info": {
   "codemirror_mode": {
    "name": "ipython",
    "version": 3
   },
   "file_extension": ".py",
   "mimetype": "text/x-python",
   "name": "python",
   "nbconvert_exporter": "python",
   "pygments_lexer": "ipython3",
   "version": "3.9.15"
  }
 },
 "nbformat": 4,
 "nbformat_minor": 5
}
