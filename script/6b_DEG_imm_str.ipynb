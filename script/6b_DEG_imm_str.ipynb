{
 "cells": [
  {
   "cell_type": "code",
   "execution_count": null,
   "id": "7ce3cb6f",
   "metadata": {},
   "outputs": [],
   "source": [
    "suppressMessages(library('tidyverse'))\n",
    "#library('ggplot2')\n",
    "#library('dplyr')\n",
    "suppressMessages(library('patchwork'))\n",
    "suppressMessages(library('cowplot'))\n",
    "\n",
    "library('rhdf5')\n",
    "\n",
    "suppressMessages(library('Seurat'))\n",
    "suppressMessages(library('DESeq2'))"
   ]
  },
  {
   "cell_type": "code",
   "execution_count": null,
   "id": "edb6c1c1",
   "metadata": {},
   "outputs": [],
   "source": [
    "library('readxl')"
   ]
  },
  {
   "cell_type": "code",
   "execution_count": null,
   "id": "7474e883",
   "metadata": {},
   "outputs": [],
   "source": [
    "library('scuttle')\n",
    "library('scran')"
   ]
  },
  {
   "cell_type": "code",
   "execution_count": null,
   "id": "7ed81289",
   "metadata": {},
   "outputs": [],
   "source": [
    "suppressMessages(library('Matrix.utils'))"
   ]
  },
  {
   "cell_type": "code",
   "execution_count": null,
   "id": "d2df9e8a",
   "metadata": {},
   "outputs": [],
   "source": [
    "library('tmod')"
   ]
  },
  {
   "cell_type": "code",
   "execution_count": null,
   "id": "9cd1a9fb",
   "metadata": {},
   "outputs": [],
   "source": [
    "library('ggrepel')"
   ]
  },
  {
   "cell_type": "code",
   "execution_count": null,
   "id": "6ebeb77b",
   "metadata": {},
   "outputs": [],
   "source": [
    "library(\"GGally\")"
   ]
  },
  {
   "cell_type": "code",
   "execution_count": null,
   "id": "9609c50e",
   "metadata": {},
   "outputs": [],
   "source": [
    "library(\"ggpubr\")"
   ]
  },
  {
   "cell_type": "code",
   "execution_count": null,
   "id": "28d978e8",
   "metadata": {},
   "outputs": [],
   "source": [
    "library('rstatix')"
   ]
  },
  {
   "cell_type": "code",
   "execution_count": null,
   "id": "59757885",
   "metadata": {},
   "outputs": [],
   "source": [
    "library('msigdbr')"
   ]
  },
  {
   "cell_type": "code",
   "execution_count": null,
   "id": "25f960f2",
   "metadata": {},
   "outputs": [],
   "source": [
    "library('org.Hs.eg.db')\n",
    "library('GO.db')"
   ]
  },
  {
   "cell_type": "code",
   "execution_count": null,
   "id": "ca8ed931",
   "metadata": {},
   "outputs": [],
   "source": [
    "sessionInfo()"
   ]
  },
  {
   "cell_type": "code",
   "execution_count": null,
   "id": "87bf03d0",
   "metadata": {},
   "outputs": [],
   "source": [
    "suppressMessages(library(scales))"
   ]
  },
  {
   "cell_type": "code",
   "execution_count": null,
   "id": "471b7bbc",
   "metadata": {},
   "outputs": [],
   "source": [
    "options(repr.plot.width=12, \n",
    "        repr.plot.height=8,\n",
    "        repr.plot.res = 200)"
   ]
  },
  {
   "cell_type": "code",
   "execution_count": null,
   "id": "fa460752",
   "metadata": {},
   "outputs": [],
   "source": [
    "plot_theme = theme_bw() + \n",
    "             theme(title = element_text(size = 30, hjust = 0.5),\n",
    "                   axis.title = element_text(size = 28),\n",
    "                   text = element_text(size=26),\n",
    "                   plot.margin = margin(0,0,0,0,\"cm\")) "
   ]
  },
  {
   "cell_type": "code",
   "execution_count": null,
   "id": "ab0e3806",
   "metadata": {},
   "outputs": [],
   "source": [
    "plot_theme_tmod = theme_bw() + \n",
    "                  theme(title = element_text(size = 14),\n",
    "                   axis.title = element_text(size = 14),\n",
    "                   axis.text = element_text(size = 12),\n",
    "                   legend.title =  element_text(size = 12),\n",
    "                   text = element_text(size = 10),\n",
    "                   plot.margin = margin(0,0,0,0,\"cm\")) "
   ]
  },
  {
   "cell_type": "code",
   "execution_count": null,
   "id": "67c69f50",
   "metadata": {},
   "outputs": [],
   "source": [
    "source('function_single_cell_conversion.R')"
   ]
  },
  {
   "cell_type": "code",
   "execution_count": null,
   "id": "05aa8098",
   "metadata": {},
   "outputs": [],
   "source": [
    "getwd()"
   ]
  },
  {
   "cell_type": "code",
   "execution_count": null,
   "id": "17ed1988",
   "metadata": {},
   "outputs": [],
   "source": [
    "# 120\n",
    "LR_list = c('WNT1','WNT2','WNT2B','WNT3','WNT3A','WNT4',\n",
    "                          'WNT5A','WNT5B','WNT6','WNT7A','WNT7B',#'WNT8A',\n",
    "                          'WNT8B','WNT9A','WNT9B','WNT10A','WNT10B','WNT11','WNT16', \n",
    "            'RSPO1','RSPO2','RSPO3','RSPO4',\n",
    "           'FZD1','FZD2','FZD3','FZD4','FZD5','FZD6','FZD7','FZD8','FZD9','FZD10',\n",
    "                        'LGR4','LGR5','LGR6',\n",
    "           'EGF','TGFA','HBEGF','BTC','AREG','EREG','EPGN',\n",
    "           'EGFR','ERBB2','ERBB3','ERBB4',\n",
    "           'FGF1','FGF2','FGF3','FGF4','FGF5',#'FGF6',\n",
    "              'FGF7','FGF8','FGF9','FGF10',\n",
    "           'FGFR1','FGFR2','FGFR3','FGFR4',\n",
    "           'BMP2','BMP4','BMP6','BMP7', \n",
    "           'BMPR1A','BMPR1B','BMPR2',\n",
    "           'TGFB1','TGFB2','TGFB3','LTBP1','LRRC32','BMP3',#'GDF2','BMP10',\n",
    "               'INHA','INHBA','INHBB',\n",
    "               'INHBC','INHBE','FST',\n",
    "           'TGFBR1','TGFBR2','ACVR1','ACVR1B','ACVR1C',#'AVCR2A',\n",
    "                 'ACVR2B',\n",
    "           'JAG1','JAG2','DLL1','DLL3','DLL4',\n",
    "           'NOTCH1','NOTCH2','NOTCH3','NOTCH4',\n",
    "           'EFNA1','EFNA2','EFNA3','EFNA4','EFNA5','EFNB1','EFNB2','EFNB3',\n",
    "           'EPHA1','EPHA2','EPHA3','EPHA4',\n",
    "                'EPHA5','EPHA6','EPHA7','EPHA8',\n",
    "                'EPHB1','EPHB2','EPHB3','EPHB4',#'EPHB5',\n",
    "                'EPHB6',\n",
    "           'DCHS1', 'DCHS2',\n",
    "           'FAT1', 'FAT2', 'FAT3', 'FAT4'\n",
    "           )"
   ]
  },
  {
   "cell_type": "code",
   "execution_count": null,
   "id": "bf3955c0",
   "metadata": {},
   "outputs": [],
   "source": [
    "L_list = c('WNT1','WNT2','WNT2B','WNT3','WNT3A','WNT4',\n",
    "                          'WNT5A','WNT5B','WNT6','WNT7A','WNT7B',#'WNT8A',\n",
    "                          'WNT8B','WNT9A','WNT9B','WNT10A','WNT10B','WNT11','WNT16', \n",
    "            'RSPO1','RSPO2','RSPO3','RSPO4',\n",
    "           #'FZD1','FZD2','FZD3','FZD4','FZD5','FZD6','FZD7','FZD8','FZD9','FZD10',\n",
    "           #             'LGR4','LGR5','LGR6',\n",
    "           'EGF','TGFA','HBEGF','BTC','AREG','EREG','EPGN',\n",
    "           #'EGFR','ERBB2','ERBB3','ERBB4',\n",
    "           'FGF1','FGF2','FGF3','FGF4','FGF5',#'FGF6',\n",
    "              'FGF7','FGF8','FGF9','FGF10',\n",
    "           #'FGFR1','FGFR2','FGFR3','FGFR4',\n",
    "           'BMP2','BMP4','BMP6','BMP7', \n",
    "           #'BMPR1A','BMPR1B','BMPR2',\n",
    "           'TGFB1','TGFB2','TGFB3','LTBP1','LRRC32','BMP3',#'GDF2','BMP10',\n",
    "               'INHA','INHBA','INHBB',\n",
    "               'INHBC','INHBE','FST',\n",
    "           #'TGFBR1','TGFBR2','ACVR1','ACVR1B','ACVR1C',#'AVCR2A',\n",
    "           #      'ACVR2B',\n",
    "           'JAG1','JAG2','DLL1','DLL3','DLL4',\n",
    "           #'NOTCH1','NOTCH2','NOTCH3','NOTCH4',\n",
    "           'EFNA1','EFNA2','EFNA3','EFNA4','EFNA5','EFNB1','EFNB2','EFNB3'#,\n",
    "           #'EPHA1','EPHA2','EPHA3','EPHA4',\n",
    "           #     'EPHA5','EPHA6','EPHA7','EPHA8',\n",
    "           #     'EPHB1','EPHB2','EPHB3','EPHB4',#'EPHB5',\n",
    "           #     'EPHB6',\n",
    "           #'DCHS1', 'DCHS2',\n",
    "           #'FAT1', 'FAT2', 'FAT3', 'FAT4'\n",
    "           )"
   ]
  },
  {
   "cell_type": "code",
   "execution_count": null,
   "id": "b083e4a9",
   "metadata": {},
   "outputs": [],
   "source": [
    "h5_path = '../datasets_new_preprocessing/202309_CRC_scRNA_all_cells.h5'"
   ]
  },
  {
   "cell_type": "code",
   "execution_count": null,
   "id": "41bd796b",
   "metadata": {},
   "outputs": [],
   "source": [
    "# h5\n",
    "adata_h5 = H5Fopen(h5_path)"
   ]
  },
  {
   "cell_type": "code",
   "execution_count": null,
   "id": "8c12de79",
   "metadata": {},
   "outputs": [],
   "source": [
    "# main matrix\n",
    "adata_all = read_scanpy_h5(h5_path,\n",
    "                           if_pca = TRUE, if_umap = TRUE, if_CB_counts=TRUE, if_raw_counts=FALSE)"
   ]
  },
  {
   "cell_type": "code",
   "execution_count": null,
   "id": "3ee761a0",
   "metadata": {},
   "outputs": [],
   "source": [
    "adata_all"
   ]
  },
  {
   "cell_type": "code",
   "execution_count": null,
   "id": "ebba538b",
   "metadata": {},
   "outputs": [],
   "source": [
    "names(adata_h5$obs)"
   ]
  },
  {
   "cell_type": "code",
   "execution_count": null,
   "id": "49fa5275",
   "metadata": {},
   "outputs": [],
   "source": [
    "# get sample label\n",
    "cat = c(adata_h5$obs$'sample'$categories)\n",
    "cat_obs = data.frame(cat_name = cat[apply(adata_h5$obs$'sample'$codes, 1, function(x)x+1)],\n",
    "                                              row.names = adata_h5$obs$`_index`)\n",
    "\n",
    "adata_all = AddMetaData(object = adata_all, metadata = cat_obs, col.name = 'sample')"
   ]
  },
  {
   "cell_type": "code",
   "execution_count": null,
   "id": "fe7f9a7b",
   "metadata": {},
   "outputs": [],
   "source": [
    "# get patient \n",
    "cat = c(adata_h5$obs$'patient'$categories)\n",
    "cat_obs = data.frame(cat_name = cat[apply(adata_h5$obs$'patient'$codes, 1, function(x)x+1)],\n",
    "                                              row.names = adata_h5$obs$`_index`)\n",
    "\n",
    "adata_all = AddMetaData(object = adata_all, metadata = cat_obs, col.name = 'patient')"
   ]
  },
  {
   "cell_type": "code",
   "execution_count": null,
   "id": "21594b8e",
   "metadata": {},
   "outputs": [],
   "source": [
    "# get sample_origin \n",
    "cat = c(adata_h5$obs$'sample_origin'$categories)\n",
    "cat_obs = data.frame(cat_name = cat[apply(adata_h5$obs$'sample_origin'$codes, 1, function(x)x+1)],\n",
    "                                              row.names = adata_h5$obs$`_index`)\n",
    "\n",
    "adata_all = AddMetaData(object = adata_all, metadata = cat_obs, col.name = 'sample_origin')"
   ]
  },
  {
   "cell_type": "code",
   "execution_count": null,
   "id": "bb62cf17",
   "metadata": {},
   "outputs": [],
   "source": [
    "# get MS_status\n",
    "cat = c(adata_h5$obs$'MS_status'$categories)\n",
    "cat_obs = data.frame(cat_name = cat[apply(adata_h5$obs$'MS_status'$codes, 1, function(x)x+1)],\n",
    "                                              row.names = adata_h5$obs$`_index`)\n",
    "\n",
    "adata_all = AddMetaData(object = adata_all, metadata = cat_obs, col.name = 'MS_status')"
   ]
  },
  {
   "cell_type": "code",
   "execution_count": null,
   "id": "53b902cd",
   "metadata": {},
   "outputs": [],
   "source": [
    "# get cell type\n",
    "cat = c(adata_h5$obs$'celltype_1a'$categories)\n",
    "cat_obs = data.frame(cat_name = cat[apply(adata_h5$obs$'celltype_1a'$codes, 1, function(x)x+1)],\n",
    "                                              row.names = adata_h5$obs$`_index`)\n",
    "\n",
    "adata_all = AddMetaData(object = adata_all, metadata = cat_obs, col.name = 'celltype_1a')"
   ]
  },
  {
   "cell_type": "code",
   "execution_count": null,
   "id": "b7763cb2",
   "metadata": {},
   "outputs": [],
   "source": [
    "# get cell type\n",
    "cat = c(adata_h5$obs$'cell_type_level2'$categories)\n",
    "cat_obs = data.frame(cat_name = cat[apply(adata_h5$obs$'cell_type_level2'$codes, 1, function(x)x+1)],\n",
    "                                              row.names = adata_h5$obs$`_index`)\n",
    "\n",
    "adata_all = AddMetaData(object = adata_all, metadata = cat_obs, col.name = 'cell_type_level2')"
   ]
  },
  {
   "cell_type": "code",
   "execution_count": null,
   "id": "caeef1f7",
   "metadata": {},
   "outputs": [],
   "source": [
    "# get cell identity\n",
    "cat = c(adata_h5$obs$'cell_identity'$categories)\n",
    "cat_obs = data.frame(cat_name = cat[apply(adata_h5$obs$'cell_identity'$codes, 1, function(x)x+1)],\n",
    "                                              row.names = adata_h5$obs$`_index`)\n",
    "\n",
    "adata_all = AddMetaData(object = adata_all, metadata = cat_obs, col.name = 'cell_identity')\n"
   ]
  },
  {
   "cell_type": "code",
   "execution_count": null,
   "id": "54ffd46f",
   "metadata": {},
   "outputs": [],
   "source": [
    "head(adata_all@meta.data)"
   ]
  },
  {
   "cell_type": "code",
   "execution_count": null,
   "id": "3c5fe8d2",
   "metadata": {},
   "outputs": [],
   "source": [
    "h5closeAll()"
   ]
  },
  {
   "cell_type": "code",
   "execution_count": null,
   "id": "b8a111c7",
   "metadata": {},
   "outputs": [],
   "source": [
    "# replace the / cuz it will cuz a file saving problem\n",
    "adata_all@meta.data  = adata_all@meta.data %>% \n",
    "mutate(cell_type_level2 = gsub('/', '_', cell_type_level2)) %>%\n",
    "mutate(cell_type_level2 = gsub(' ', '_', cell_type_level2)) %>% \n",
    "mutate(cell_type_level2 = gsub('\\\\+', '', cell_type_level2))"
   ]
  },
  {
   "cell_type": "code",
   "execution_count": null,
   "id": "99492c59",
   "metadata": {},
   "outputs": [],
   "source": [
    "unique(adata_all@meta.data$cell_type_level2)"
   ]
  },
  {
   "cell_type": "code",
   "execution_count": null,
   "id": "0b0eb211",
   "metadata": {},
   "outputs": [],
   "source": [
    "sapply(adata_all@meta.data, class)"
   ]
  },
  {
   "cell_type": "code",
   "execution_count": null,
   "id": "f8cc9c98",
   "metadata": {},
   "outputs": [],
   "source": [
    "table(adata_all@meta.data$celltype_1a)"
   ]
  },
  {
   "cell_type": "code",
   "execution_count": null,
   "id": "09bbd684",
   "metadata": {},
   "outputs": [],
   "source": [
    "adata_immune_stromal = subset(adata_all, celltype_1a %in% c('imm', 'str'))"
   ]
  },
  {
   "cell_type": "code",
   "execution_count": null,
   "id": "1f08d7d6",
   "metadata": {},
   "outputs": [],
   "source": [
    "adata_immune_stromal"
   ]
  },
  {
   "cell_type": "code",
   "execution_count": null,
   "id": "5e3ed104",
   "metadata": {},
   "outputs": [],
   "source": [
    "# cell type \n",
    "cell_type_list = c(unique(adata_immune_stromal@meta.data['cell_type_level2'])$cell_type_level2) %>% sort()\n",
    "cell_type_list = gsub('\\\\+', '', cell_type_list)\n",
    "cell_type_list = gsub('/', '_', cell_type_list)\n",
    "cell_type_list = gsub(' ', '_', cell_type_list)\n",
    "cell_type_list"
   ]
  },
  {
   "cell_type": "code",
   "execution_count": null,
   "id": "c5be96e2",
   "metadata": {},
   "outputs": [],
   "source": [
    "options(repr.plot.width=12, \n",
    "        repr.plot.height=5,\n",
    "        repr.plot.res = 300)\n",
    "\n",
    "table(adata_immune_stromal@meta.data[c('cell_type_level2', 'sample_origin')]) %>% \n",
    "as.data.frame() %>%\n",
    "group_by(cell_type_level2) %>%\n",
    "mutate(Percentage = round(Freq/sum(Freq)*100,0),Sum = sum(Freq)) %>% \n",
    "group_by(sample_origin) %>% \n",
    "mutate(Percentage_sample = round(Freq/sum(Freq)*100,0),Sum_sample = sum(Freq)) %>%\n",
    "ggplot(aes(x = cell_type_level2, y = sample_origin)) + \n",
    "geom_tile(aes(fill = Freq), color = 'black') +\n",
    "geom_text(aes(label = paste0(Freq, '\\n', \n",
    "                             Percentage, '%\\n',\n",
    "                             Percentage_sample, '%'))) +\n",
    "scale_fill_gradient(low = \"grey95\", high = \"red\", name = 'count') +\n",
    "plot_theme_tmod + \n",
    "#coord_equal() \n",
    "theme(plot.title = element_text(hjust = 0.5),\n",
    "      rect = element_blank(),\n",
    "      axis.ticks = element_blank(),\n",
    "      axis.text.x = element_text(angle = 90)) +\n",
    "labs(title = '\\nNumber of cell in each group\\n',\n",
    "     x = 'Cell type',\n",
    "     y = 'Sample origin\\n')"
   ]
  },
  {
   "cell_type": "code",
   "execution_count": null,
   "id": "91c8d47f",
   "metadata": {},
   "outputs": [],
   "source": []
  },
  {
   "cell_type": "code",
   "execution_count": null,
   "id": "b7901752",
   "metadata": {},
   "outputs": [],
   "source": [
    "### transform to SCE\n",
    "https://hbctraining.github.io/scRNA-seq_online/lessons/pseudobulk_DESeq2_scrnaseq.html"
   ]
  },
  {
   "cell_type": "code",
   "execution_count": null,
   "id": "dc84b519",
   "metadata": {},
   "outputs": [],
   "source": [
    "# counts need to be a matrix\n",
    "counts = adata_immune_stromal@assays$raw_counts@counts\n",
    "metadata = adata_immune_stromal@meta.data\n",
    "\n",
    "sce <- SingleCellExperiment(assays = list(counts = counts), \n",
    "                           colData = metadata)"
   ]
  },
  {
   "cell_type": "code",
   "execution_count": null,
   "id": "92dd4e16",
   "metadata": {},
   "outputs": [],
   "source": [
    "colnames(colData(sce))"
   ]
  },
  {
   "cell_type": "code",
   "execution_count": null,
   "id": "e693dff1",
   "metadata": {},
   "outputs": [],
   "source": [
    "head(counts(sce))"
   ]
  },
  {
   "cell_type": "code",
   "execution_count": null,
   "id": "cdc4ad93",
   "metadata": {},
   "outputs": [],
   "source": [
    "### pseudobulk summing counts"
   ]
  },
  {
   "cell_type": "code",
   "execution_count": null,
   "id": "6007d32f",
   "metadata": {},
   "outputs": [],
   "source": [
    "groups = c(\"sample_origin\",\"sample\", \"cell_type_level2\")"
   ]
  },
  {
   "cell_type": "code",
   "execution_count": null,
   "id": "8c061d12",
   "metadata": {},
   "outputs": [],
   "source": [
    "# more than 30 mins???\n",
    "# counts need to be a matrix > real fast\n",
    "\n",
    "summed <- aggregateAcrossCells(sce,\n",
    "                               id=colData(sce)[,groups])\n",
    "summed"
   ]
  },
  {
   "cell_type": "code",
   "execution_count": null,
   "id": "c016710d",
   "metadata": {},
   "outputs": [],
   "source": [
    "colData(summed)[,c('Numbat_and_Scitcem_and_infercnv', 'ncells')]"
   ]
  },
  {
   "cell_type": "code",
   "execution_count": null,
   "id": "f697fe09",
   "metadata": {},
   "outputs": [],
   "source": [
    "# add rownames to summed\n",
    "colnames(summed) = apply(colData(summed)[,groups], 1, function(x)paste(x, collapse = '_'))"
   ]
  },
  {
   "cell_type": "code",
   "execution_count": null,
   "id": "2c9700db",
   "metadata": {},
   "outputs": [],
   "source": [
    "head(counts(summed))"
   ]
  },
  {
   "cell_type": "code",
   "execution_count": null,
   "id": "dd5a22e6",
   "metadata": {},
   "outputs": [],
   "source": [
    "### keep only wanted groups"
   ]
  },
  {
   "cell_type": "code",
   "execution_count": null,
   "id": "df862a74",
   "metadata": {},
   "outputs": [],
   "source": [
    "pseudo_bulk = summed[,!str_detect(colnames(summed), 'Monocytes$')] \n",
    "pseudo_bulk = pseudo_bulk[,!str_detect(colnames(pseudo_bulk), 'Treg_cells$')] "
   ]
  },
  {
   "cell_type": "code",
   "execution_count": null,
   "id": "25acea7e",
   "metadata": {},
   "outputs": [],
   "source": [
    "### DESeq2"
   ]
  },
  {
   "cell_type": "code",
   "execution_count": null,
   "id": "10b8c443",
   "metadata": {},
   "outputs": [],
   "source": [
    "Use test=\"LRT\" for significance testing when working with single-cell data, over the Wald test. This has been observed across multiple single-cell benchmarks.\n",
    "Set the following DESeq arguments to these values: useT=TRUE, minmu=1e-6, and minReplicatesForReplace=Inf. The default setting of minmu was benchmarked on bulk RNA-seq and is not appropriate for single cell data when the expected count is often much less than 1.\n",
    "The default size factors are not optimal for single cell count matrices, instead consider setting sizeFactors from scran::computeSumFactors."
   ]
  },
  {
   "cell_type": "code",
   "execution_count": null,
   "id": "b0fd30ab",
   "metadata": {},
   "outputs": [],
   "source": [
    "#### need to do this per cell type..........."
   ]
  },
  {
   "cell_type": "code",
   "execution_count": null,
   "id": "a5b97277",
   "metadata": {},
   "outputs": [],
   "source": [
    "res_list = list()\n",
    "res_list_df = list()\n",
    "\n",
    "resLFC_list = list()\n",
    "resLFC_df = list()"
   ]
  },
  {
   "cell_type": "code",
   "execution_count": null,
   "id": "bf451f27",
   "metadata": {},
   "outputs": [],
   "source": [
    "cell_type_list[c(9, 13)]\n",
    "# remove "
   ]
  },
  {
   "cell_type": "code",
   "execution_count": null,
   "id": "ac80244a",
   "metadata": {},
   "outputs": [],
   "source": [
    "library(\"apeglm\")\n",
    "#to fix Error in optimHess(par = init, fn = nbinomFn, gr = nbinomGr, \n",
    "#x = x, y = y, : non-finite value supplied by optim"
   ]
  },
  {
   "cell_type": "code",
   "execution_count": null,
   "id": "61606389",
   "metadata": {},
   "outputs": [],
   "source": [
    "cell_type_list[-c(9,13)]"
   ]
  },
  {
   "cell_type": "code",
   "execution_count": null,
   "id": "97ffbf7c",
   "metadata": {},
   "outputs": [],
   "source": [
    "for(ctype in cell_type_list[-c(9,13)]){ \n",
    "    \n",
    "    print(paste0('start calculating DEG with ', ctype))\n",
    "    \n",
    "    slice = pseudo_bulk[,str_detect(colnames(pseudo_bulk), paste0('_',ctype,'$'))] \n",
    "    \n",
    "    # set up DESeq data set\n",
    "    dds <- DESeqDataSetFromMatrix(countData = counts(slice), # not normalised counts\n",
    "                              colData = colData(slice),\n",
    "                              design= ~ sample_origin + patient)\n",
    "    print(dim(dds))\n",
    "    \n",
    "    # set ref level as normal_sample\n",
    "    dds$sample_origin <- relevel(dds$sample_origin, ref = \"normal\")\n",
    "    \n",
    "    # filter low gene\n",
    "    # remove gene with less than 10 counts\n",
    "    #keep <- rowSums(counts(dds)) >= 10\n",
    "    #dds <- dds[keep,]\n",
    "    #print(dim(dds))\n",
    "    \n",
    "    # genes that only express in some samples\n",
    "    #keep <- rowSums(counts(dds) >= 10) >= 5\n",
    "    #dds <- dds[keep,]\n",
    "    \n",
    "    # use recommended params: \n",
    "    # http://bioconductor.org/packages/devel/bioc/vignettes/DESeq2/inst/doc/DESeq2.html#recommendations-for-single-cell-analysis\n",
    "    dds_result <- DESeq(dds, test = 'LRT', reduced = ~ patient,\n",
    "                        useT = TRUE, minmu = 1e-6, minReplicatesForReplace = Inf)\n",
    "    \n",
    "    print(resultsNames(dds_result))\n",
    "    \n",
    "    res <- results(dds_result, name = 'sample_origin_tumour_vs_normal')\n",
    "    \n",
    "    # collect into one list\n",
    "    res_list[[ctype]] = res\n",
    "    \n",
    "    res_list_df[[ctype]] = as.data.frame(res) %>%\n",
    "    tibble::rownames_to_column('gene_symbol')\n",
    "    \n",
    "    # shrinkage result\n",
    "    resLFC = lfcShrink(dds_result, coef = 'sample_origin_tumour_vs_normal', \n",
    "                                type = 'apeglm' )\n",
    "    \n",
    "    resLFC_list[[ctype]] = resLFC\n",
    "    resLFC_df[[ctype]] = as.data.frame(resLFC) %>%\n",
    "    tibble::rownames_to_column(\"gene_symbol\")\n",
    "    \n",
    "}"
   ]
  },
  {
   "cell_type": "code",
   "execution_count": null,
   "id": "e6ad3bf5",
   "metadata": {},
   "outputs": [],
   "source": [
    "# we lost ~10000 genes when removing not so equally expressed genes\n",
    "names(res_list)"
   ]
  },
  {
   "cell_type": "code",
   "execution_count": null,
   "id": "29e6416f",
   "metadata": {},
   "outputs": [],
   "source": [
    "#save file\n",
    "for(res_name in names(res_list)){\n",
    "    res = as.data.frame(res_list[[res_name]])\n",
    "    write_csv(res, paste0('../datasets_new_preprocessing/DEG/normal_cells_from_tumour_vs_from_normal_',\n",
    "                         res_name, '.csv'))\n",
    "}"
   ]
  },
  {
   "cell_type": "code",
   "execution_count": null,
   "id": "58e57a50",
   "metadata": {},
   "outputs": [],
   "source": [
    "# instead of plotMA(res)\n",
    "plot_MA = function(res_name){\n",
    "    \n",
    "    p = as.data.frame(res_list[[res_name]]) %>%\n",
    "    ggplot() + \n",
    "    geom_point(aes(x = baseMean, y = log2FoldChange, \n",
    "                   color = I(ifelse(padj < 0.05, 'navyblue', 'grey'))), size = 2) +\n",
    "    scale_x_continuous(trans = log10_trans()) +\n",
    "    labs(x = 'mean of normalised counts', y = 'log2 fold change') +\n",
    "    plot_theme_tmod + \n",
    "    labs(title = paste0('MA plot of ', res_name)) +\n",
    "    theme(plot.title = element_text(hjust = 0.5))\n",
    "    \n",
    "    print(p)\n",
    "}"
   ]
  },
  {
   "cell_type": "code",
   "execution_count": null,
   "id": "be3734c8",
   "metadata": {},
   "outputs": [],
   "source": [
    "options(repr.plot.width=8, \n",
    "        repr.plot.height=8,\n",
    "        repr.plot.res = 300)\n",
    "\n",
    "for(i in names(res_list)){\n",
    "    plot_MA(i)\n",
    "}"
   ]
  },
  {
   "cell_type": "code",
   "execution_count": null,
   "id": "06fe912f",
   "metadata": {},
   "outputs": [],
   "source": [
    "plot_volcano = function(res_name, contrast){\n",
    "    \n",
    "    # volcano: lo2FC vs -log(FDR)  \n",
    "    p = as.data.frame(res_list[[res_name]]) %>%\n",
    "    tibble::rownames_to_column(\"gene_symbol\") %>%\n",
    "    ggplot(aes(x = log2FoldChange, y = -log(padj),\n",
    "               color = I(ifelse(padj < 0.05 & abs(log2FoldChange) > 1.5, 'navyblue', 'grey')),\n",
    "               label = ifelse(padj < .05 & abs(log2FoldChange) > 1.5, gene_symbol,''))) +\n",
    "    geom_point(size = 2) + \n",
    "    plot_theme_tmod  + \n",
    "    geom_text_repel(force = 2, force_pull = 1, \n",
    "                box.padding = 1, point.padding = 1,\n",
    "                max.overlaps = 30, direction = 'both',\n",
    "                min.segment.length = 0.1,\n",
    "                aes(color = 'grey10', segment.linetype = 3)) +\n",
    "    labs(title = paste0('Volcano plot of ', res_name, '\\n', contrast)) +\n",
    "    theme(plot.title = element_text(hjust = 0.5))\n",
    "    \n",
    "    print(p)\n",
    "}"
   ]
  },
  {
   "cell_type": "code",
   "execution_count": null,
   "id": "9218849d",
   "metadata": {},
   "outputs": [],
   "source": [
    "for(i in names(res_list)){\n",
    "    plot_volcano(i,'(normal cells from tumour sample vs from normal sample)')\n",
    "}"
   ]
  },
  {
   "cell_type": "code",
   "execution_count": null,
   "id": "a5682e39",
   "metadata": {},
   "outputs": [],
   "source": [
    "# overlap with LR list with FC set to 1.0 \n",
    "res_list_overlap_LR_FC1 = list()\n",
    "\n",
    "for(i in names(res_list)){\n",
    "    df = as.data.frame(res_list[[i]]) %>%\n",
    "    tibble::rownames_to_column(\"gene_symbol\") %>%\n",
    "    filter(padj < 0.05 & abs(log2FoldChange) >= 1) %>%\n",
    "    mutate(cell_type = i)\n",
    "    \n",
    "    res_list_overlap_LR_FC1[[i]] = df[which(df$gene_symbol %in% LR_list),]\n",
    "\n",
    "}"
   ]
  },
  {
   "cell_type": "code",
   "execution_count": null,
   "id": "f400a67e",
   "metadata": {},
   "outputs": [],
   "source": [
    "# overlap with LR list with FC set to 1.0 \n",
    "resLFC_list_overlap_LR_FC1 = list()\n",
    "\n",
    "for(i in names(res_list)){\n",
    "    df = as.data.frame(resLFC_list[[i]]) %>%\n",
    "    tibble::rownames_to_column(\"gene_symbol\") %>%\n",
    "    filter(padj < 0.05 & abs(log2FoldChange) >= 1) %>%\n",
    "    mutate(cell_type = i)\n",
    "    \n",
    "    resLFC_list_overlap_LR_FC1[[i]] = df[which(df$gene_symbol %in% LR_list),]\n",
    "\n",
    "}"
   ]
  },
  {
   "cell_type": "code",
   "execution_count": null,
   "id": "3f3ca8bf",
   "metadata": {},
   "outputs": [],
   "source": [
    "### plot a volcano plot with only significant gene (FC and padj) and color by cell type"
   ]
  },
  {
   "cell_type": "code",
   "execution_count": null,
   "id": "0341a66c",
   "metadata": {},
   "outputs": [],
   "source": [
    "plot_theme_font_size = function(fontsize = 8){\n",
    "    plot_theme =  theme(title = element_text(size = fontsize, family = \"dajavu sans\", colour = 'black', hjust = 0.5),\n",
    "                   axis.title = element_text(size = fontsize, family = \"dajavu sans\", colour = 'black'),\n",
    "                   axis.text = element_text(size = fontsize, family = \"dajavu sans\", colour = 'black'),\n",
    "                   legend.title =  element_text(size = fontsize, family = \"dajavu sans\", colour = 'black'),\n",
    "                   legend.text=element_text(size=fontsize, family = \"dajavu sans\", colour = 'black'),\n",
    "                   text = element_text(size = fontsize, family = \"dajavu sans\", colour = 'black'),\n",
    "                   strip.text = element_text(size = fontsize, family = \"dajavu sans\", colour = 'black'),\n",
    "                   plot.margin = margin(0,0,0,0,\"cm\")) \n",
    "    plot_theme\n",
    "}"
   ]
  },
  {
   "cell_type": "code",
   "execution_count": null,
   "id": "a4bb68b9",
   "metadata": {},
   "outputs": [],
   "source": [
    "# both LR\n",
    "options(repr.plot.width=6, \n",
    "        repr.plot.height=4,\n",
    "        repr.plot.res = 300)\n",
    "\n",
    "bind_rows(res_list_overlap_LR_FC1) %>%\n",
    "ggplot(aes(x = log2FoldChange, y = -log(padj),\n",
    "               color = cell_type)) +\n",
    "geom_point(size = 2) + \n",
    "plot_theme_tmod  + \n",
    "geom_text_repel(force = 2, force_pull = 1, \n",
    "                box.padding = 1, point.padding = 1,\n",
    "                max.overlaps = 30, direction = 'both',\n",
    "                min.segment.length = 0.1,\n",
    "                segment.linetype = 3,\n",
    "                aes(label = gene_symbol)) +\n",
    "labs(title = 'Volcano plot of all significant genes\\n(FC >=1 and padj<0.05)') +\n",
    "theme(plot.title = element_text(hjust = 0.5)) +\n",
    "xlim(-25, 25) +\n",
    "scale_color_manual(values = c('#79c9c9', '#CE9486','#8f7022', '#cf7708','#1aa375', '#AA82A7'),\n",
    "                  labels = c('CD8+ T cells', 'Endothelial cells', 'Fibroblasts',\n",
    "                            'Macrophages', 'Pericytes', 'Plasma cells') \n",
    "                     )"
   ]
  },
  {
   "cell_type": "code",
   "execution_count": null,
   "id": "cf69e180",
   "metadata": {},
   "outputs": [],
   "source": [
    "# only ligand\n",
    "options(repr.plot.width=6, \n",
    "        repr.plot.height=4,\n",
    "        repr.plot.res = 300)\n",
    "\n",
    "bind_rows(res_list_overlap_LR_FC1) %>%\n",
    "filter(gene_symbol %in% L_list) %>%\n",
    "ggplot(aes(x = log2FoldChange, y = -log(padj),\n",
    "               color = cell_type)) +\n",
    "geom_point(size = 2) + \n",
    "plot_theme_tmod  + \n",
    "geom_text_repel(force = 2, force_pull = 1, \n",
    "                box.padding = 1, point.padding = 1,\n",
    "                max.overlaps = 30, direction = 'both',\n",
    "                min.segment.length = 0.1,\n",
    "                segment.linetype = 3,\n",
    "                aes(label = gene_symbol)) +\n",
    "labs(title = 'Volcano plot of significant ligands\\n(FC >=1 and padj<0.05)') +\n",
    "theme(plot.title = element_text(hjust = 0.5)) +\n",
    "xlim(-25, 25) +\n",
    "scale_color_manual(values = c('#79c9c9', '#CE9486','#8f7022', '#cf7708','#1aa375', '#AA82A7'),\n",
    "                  labels = c('CD8+ T cells', 'Endothelial cells', 'Fibroblasts',\n",
    "                            'Macrophages', 'Pericytes', 'Plasma cells') \n",
    "                     )\n",
    "    "
   ]
  },
  {
   "cell_type": "code",
   "execution_count": null,
   "id": "7142dcab",
   "metadata": {},
   "outputs": [],
   "source": [
    "# both LR\n",
    "options(repr.plot.width=6, \n",
    "        repr.plot.height=4,\n",
    "        repr.plot.res = 300)\n",
    "\n",
    "bind_rows(resLFC_list_overlap_LR_FC1) %>%\n",
    "ggplot(aes(x = log2FoldChange, y = -log(padj),\n",
    "               color = cell_type)) +\n",
    "geom_point(size = 2) + \n",
    "plot_theme_tmod  + \n",
    "geom_text_repel(force = 2, force_pull = 1, \n",
    "                box.padding = 1, point.padding = 1,\n",
    "                max.overlaps = 30, direction = 'both',\n",
    "                min.segment.length = 0.1,\n",
    "                segment.linetype = 3,\n",
    "                aes(label = gene_symbol)) +\n",
    "labs(title = 'Volcano plot of all significant genes\\n(FC >=1 and padj<0.05)') +\n",
    "theme(plot.title = element_text(hjust = 0.5)) +\n",
    "xlim(-25, 25) +\n",
    "scale_color_manual(values = c('#79c9c9', '#CE9486','#8f7022', '#cf7708','#1aa375', '#AA82A7'),\n",
    "                  labels = c('CD8+ T cells', 'Endothelial cells', 'Fibroblasts',\n",
    "                            'Macrophages', 'Pericytes', 'Plasma cells') \n",
    "                     )\n",
    "    "
   ]
  },
  {
   "cell_type": "code",
   "execution_count": null,
   "id": "628afed1",
   "metadata": {},
   "outputs": [],
   "source": [
    "# only ligand\n",
    "options(repr.plot.width=6, \n",
    "        repr.plot.height=4,\n",
    "        repr.plot.res = 300)\n",
    "\n",
    "bind_rows(resLFC_list_overlap_LR_FC1) %>%\n",
    "filter(gene_symbol %in% L_list) %>%\n",
    "ggplot(aes(x = log2FoldChange, y = -log(padj),\n",
    "               color = cell_type)) +\n",
    "geom_point(size = 2) + \n",
    "plot_theme_tmod  + \n",
    "geom_text_repel(force = 2, force_pull = 1, \n",
    "                box.padding = 1, point.padding = 1,\n",
    "                max.overlaps = 30, direction = 'both',\n",
    "                min.segment.length = 0.1,\n",
    "                segment.linetype = 3,\n",
    "                aes(label = gene_symbol)) +\n",
    "labs(title = 'Volcano plot of significant ligands\\n(FC >=1 and padj<0.05)') +\n",
    "theme(plot.title = element_text(hjust = 0.5)) +\n",
    "xlim(-25, 25) +\n",
    "scale_color_manual(values = c('#79c9c9', '#CE9486','#8f7022', '#cf7708','#1aa375', '#AA82A7'),\n",
    "                  labels = c('CD8+ T cells', 'Endothelial cells', 'Fibroblasts',\n",
    "                            'Macrophages', 'Pericytes', 'Plasma cells') \n",
    "                     )\n",
    "    "
   ]
  },
  {
   "cell_type": "code",
   "execution_count": null,
   "id": "e110486c",
   "metadata": {},
   "outputs": [],
   "source": [
    "for(i in names(res_list_df)){\n",
    "    res_list_df[[i]]['cell_type'] = i\n",
    "    res_list_df[[i]] = res_list_df[[i]][c('gene_symbol', 'log2FoldChange', 'padj', 'cell_type')] %>% \n",
    "    arrange(padj, abs(log2FoldChange)) %>%\n",
    "    filter(#padj < 0.05 & abs(log2FoldChange) >= 1 & \n",
    "        gene_symbol %in% L_list) \n",
    "}"
   ]
  },
  {
   "cell_type": "code",
   "execution_count": null,
   "id": "4b589ad3",
   "metadata": {},
   "outputs": [],
   "source": [
    "dim(bind_rows(res_list_df))"
   ]
  },
  {
   "cell_type": "code",
   "execution_count": null,
   "id": "c71e0836",
   "metadata": {},
   "outputs": [],
   "source": [
    "-log(1)"
   ]
  },
  {
   "cell_type": "code",
   "execution_count": null,
   "id": "e8703687",
   "metadata": {},
   "outputs": [],
   "source": [
    "for(i in names(resLFC_df)){\n",
    "    resLFC_df[[i]]['cell_type'] = i\n",
    "    resLFC_df[[i]] = resLFC_df[[i]][c('gene_symbol', 'log2FoldChange', 'padj', 'cell_type')] %>% \n",
    "    arrange(padj, abs(log2FoldChange)) #%>%\n",
    "    #filter(padj < 0.05 & abs(log2FoldChange) >= 1 & gene_symbol %in% R_list) \n",
    "}"
   ]
  },
  {
   "cell_type": "code",
   "execution_count": null,
   "id": "6000589e",
   "metadata": {},
   "outputs": [],
   "source": [
    "resLFC_df_full = bind_rows(resLFC_df)"
   ]
  },
  {
   "cell_type": "code",
   "execution_count": null,
   "id": "ec675fc5",
   "metadata": {},
   "outputs": [],
   "source": [
    "### differential"
   ]
  },
  {
   "cell_type": "code",
   "execution_count": null,
   "id": "8a2ee829",
   "metadata": {},
   "outputs": [],
   "source": [
    "options(repr.plot.width=10, \n",
    "        repr.plot.height=16,\n",
    "        repr.plot.res = 300)\n",
    "\n",
    "bind_rows(res_list_df) %>%\n",
    "ggplot(aes(x = cell_type, y = gene_symbol)) +\n",
    "geom_tile(fill = 'white') +\n",
    "coord_equal() +\n",
    "geom_point(aes(size = -log(padj), color = log2FoldChange)) +\n",
    "scale_color_gradient2(low = 'blue3', mid = 'grey85', high = 'red3')+\n",
    "plot_theme_tmod +\n",
    "theme(panel.grid = element_blank(),\n",
    "      axis.text.x = element_text(angle = 90)) +\n",
    "geom_vline(xintercept = seq(0.5, length(res_list_df)), color = 'grey') +\n",
    "geom_hline(yintercept = seq(0.5, dim(bind_rows(res_list_df))[1]+1), color = 'grey') +\n",
    "scale_y_discrete(limits = rev)\n",
    "# 540 with missing values"
   ]
  },
  {
   "cell_type": "code",
   "execution_count": null,
   "id": "57305332",
   "metadata": {},
   "outputs": [],
   "source": [
    "options(repr.plot.width=6, \n",
    "        repr.plot.height=6,\n",
    "        repr.plot.res = 300)\n",
    "\n",
    "bind_rows(res_list_df) %>%\n",
    "filter(padj < 0.05 & abs(log2FoldChange) >= 0.2) %>%\n",
    "ggplot(aes(x = cell_type, y = gene_symbol)) +\n",
    "geom_tile(fill = 'white') +\n",
    "coord_equal() +\n",
    "geom_point(aes(size = -log(padj), color = log2FoldChange)) +\n",
    "scale_color_gradient2(low = 'blue3', mid = 'grey85', high = 'red3')+\n",
    "plot_theme_tmod +\n",
    "theme(panel.grid = element_blank(),\n",
    "      axis.text.x = element_text(angle = 90)) +\n",
    "geom_vline(xintercept = seq(0.5, length(res_list_df)), color = 'grey') +\n",
    "geom_hline(yintercept = seq(0.5, dim(bind_rows(res_list_df))[1]+1), color = 'grey') +\n",
    "scale_y_discrete(limits = rev)\n",
    "# 540 with missing values"
   ]
  },
  {
   "cell_type": "code",
   "execution_count": null,
   "id": "0c474144",
   "metadata": {},
   "outputs": [],
   "source": [
    "#### with shrinkage"
   ]
  },
  {
   "cell_type": "code",
   "execution_count": null,
   "id": "e2b6e3f9",
   "metadata": {},
   "outputs": [],
   "source": [
    "dim(bind_rows(resLFC_df))"
   ]
  },
  {
   "cell_type": "code",
   "execution_count": null,
   "id": "6ae19c97",
   "metadata": {},
   "outputs": [],
   "source": [
    "options(repr.plot.width=10, \n",
    "        repr.plot.height=16,\n",
    "        repr.plot.res = 300)\n",
    "\n",
    "bind_rows(resLFC_df) %>%\n",
    "filter(gene_symbol %in% L_list) %>%\n",
    "ggplot(aes(x = cell_type, y = gene_symbol)) +\n",
    "geom_tile(fill = 'white') +\n",
    "coord_equal() +\n",
    "geom_point(aes(size = -log(padj), color = log2FoldChange)) +\n",
    "scale_color_gradient2(low = 'blue3', mid = 'grey85', high = 'red3')+\n",
    "plot_theme_tmod +\n",
    "theme(panel.grid = element_blank(),\n",
    "      axis.text.x = element_text(angle = 90)) +\n",
    "geom_vline(xintercept = seq(0.5, length(res_list_df)), color = 'grey') +\n",
    "geom_hline(yintercept = seq(0.5, dim(bind_rows(res_list_df))[1]+1), color = 'grey') +\n",
    "scale_y_discrete(limits = rev)\n",
    "# 540 with missing values"
   ]
  },
  {
   "cell_type": "code",
   "execution_count": null,
   "id": "ed177b52",
   "metadata": {},
   "outputs": [],
   "source": [
    "options(repr.plot.width=6, \n",
    "        repr.plot.height=6,\n",
    "        repr.plot.res = 300)\n",
    "\n",
    "g = bind_rows(resLFC_df) %>%\n",
    "filter(gene_symbol %in% L_list) %>%\n",
    "mutate(if_plot = ifelse(padj < 0.05, 1, 0)) %>%\n",
    "group_by(gene_symbol) %>%\n",
    "mutate(if_plot = sum(if_plot, na.rm = TRUE)) %>%\n",
    "filter(if_plot >= 1) %>%\n",
    "ungroup() %>%\n",
    "ggplot(aes(x = cell_type, y = gene_symbol)) +\n",
    "geom_tile(fill = 'white') +\n",
    "coord_equal() +\n",
    "geom_point(aes(size = -log(padj), color = log2FoldChange)) +\n",
    "scale_color_gradient2(low = 'blue3', mid = 'grey85', high = 'red3')+\n",
    "plot_theme_tmod +\n",
    "theme(panel.grid = element_blank(),\n",
    "      axis.text.x = element_text(angle = 90)) +\n",
    "geom_vline(xintercept = seq(0.5, length(res_list_df)), color = 'grey') +\n",
    "geom_hline(yintercept = seq(0.5, dim(bind_rows(res_list_df))[1]+1), color = 'grey') +\n",
    "scale_y_discrete(limits = rev) +\n",
    "# 540 with missing values\n",
    "plot_theme_font_size(8)\n",
    "\n",
    "print(g)\n",
    "\n",
    "ggsave(file=\"S6D_L_in_immune_stromal_grid.svg\", width = 10, height = 16 , units = \"cm\", dpi = 300)"
   ]
  },
  {
   "cell_type": "code",
   "execution_count": null,
   "id": "ec3d79f1",
   "metadata": {},
   "outputs": [],
   "source": [
    "bind_rows(resLFC_df) %>%\n",
    "filter(gene_symbol %in% L_list) %>%\n",
    "mutate(if_plot = ifelse(padj < 0.05, 1, 0)) %>%\n",
    "group_by(gene_symbol) %>%\n",
    "mutate(if_plot = sum(if_plot, na.rm = TRUE)) %>%\n",
    "filter(if_plot >= 1) %>%\n",
    "ungroup() %>%\n",
    "mutate(Cell_type = case_when(padj < 0.05 ~ cell_type, \n",
    "                             is.na(padj) ~ 'grey',\n",
    "                             .default  = 'grey')) %>%\n",
    "mutate(Cell_type = factor(Cell_type, levels = c('CD8_T_cells','Fibroblasts', 'Macrophages','Pericytes', \n",
    "                             'Plasma_cells', 'grey')))"
   ]
  },
  {
   "cell_type": "code",
   "execution_count": null,
   "id": "1b188149",
   "metadata": {},
   "outputs": [],
   "source": [
    "# Fig6F\n",
    "# only ligand\n",
    "options(repr.plot.width=6, \n",
    "        repr.plot.height=4,\n",
    "        repr.plot.res = 300)\n",
    "\n",
    "g = bind_rows(resLFC_df) %>%\n",
    "filter(gene_symbol %in% L_list) %>%\n",
    "mutate(if_plot = ifelse(padj < 0.05, 1, 0)) %>%\n",
    "group_by(gene_symbol) %>%\n",
    "mutate(if_plot = sum(if_plot, na.rm = TRUE)) %>%\n",
    "filter(if_plot >= 1) %>%\n",
    "ungroup() %>%\n",
    "mutate(Cell_type = case_when(padj < 0.05 ~ cell_type, \n",
    "                             is.na(padj) ~ 'grey',\n",
    "                             .default  = 'grey')) %>%\n",
    "mutate(Cell_type = factor(Cell_type, levels = c('CD8_T_cells','Fibroblasts', 'Macrophages','Pericytes', \n",
    "                             'Plasma_cells', 'grey'))) %>%\n",
    "ggplot(aes(x = log2FoldChange, y = -log(padj),\n",
    "               color = Cell_type)) +\n",
    "geom_point(size = 1) + \n",
    "plot_theme_tmod  + \n",
    "geom_text_repel(force = 2, force_pull = 1, \n",
    "                box.padding = 1, point.padding = 1,\n",
    "                max.overlaps = 30, direction = 'both',\n",
    "                min.segment.length = 0.1,\n",
    "                segment.linetype = 3,\n",
    "                aes(label = gene_symbol),size = 3) +\n",
    "#labs(title = 'Volcano plot of ligands in imm and str') +\n",
    "theme(plot.title = element_text(hjust = 0.5)) +\n",
    "xlim(-10, 10) +\n",
    "scale_color_manual(values = c('#79c9c9','#8f7022', '#cf7708','#1aa375', '#AA82A7', '#d3d3d3'),\n",
    "                  labels = c('CD8+ T cells','Fibroblasts', 'Macrophages','Pericytes', \n",
    "                             'Plasma cells', 'not-significant')) +\n",
    "#geom_hline(yintercept = -log(0.05))\n",
    "\n",
    "#scale_color_manual(values = c('#7d8df0', '#335B8E', '#79c9c9', '#67C9FF',\n",
    "#                              '#CE9486', '#8f7022', '#cf7708', '#B5B867',\n",
    "#                              '#DEB058', '#899DA4','#1aa375', '#AA82A7', '#c44545'),\n",
    "#                  labels = c('B cells', 'CD4+ T cells', 'CD8+ T cells', 'Dendritic cells',\n",
    "#                             'Endothelial cells', 'Fibroblasts', 'Macrophages', 'Mast cells',\n",
    "#                             'Monocytes', 'Neutrophils', 'Pericytes', 'Plasma cells', 'Treg cells') \n",
    "#                     )\n",
    "\n",
    "plot_theme_font_size(8)\n",
    "\n",
    "print(g)\n",
    "\n",
    "ggsave(file=\"6F_L_in_immune_stromal.svg\", width = 8, height = 5 , units = \"cm\", dpi = 300)"
   ]
  },
  {
   "cell_type": "code",
   "execution_count": null,
   "id": "c78db277",
   "metadata": {},
   "outputs": [],
   "source": []
  },
  {
   "cell_type": "code",
   "execution_count": null,
   "id": "a2b83828",
   "metadata": {},
   "outputs": [],
   "source": [
    "# only ligand\n",
    "options(repr.plot.width=6, \n",
    "        repr.plot.height=4,\n",
    "        repr.plot.res = 300)\n",
    "\n",
    "bind_rows(resLFC_df) %>%\n",
    "filter(gene_symbol %in% LR_list) %>%\n",
    "mutate(if_plot = ifelse(padj < 0.05, 1, 0)) %>%\n",
    "group_by(gene_symbol) %>%\n",
    "mutate(if_plot = sum(if_plot, na.rm = TRUE)) %>%\n",
    "filter(if_plot >= 1) %>%\n",
    "ungroup() %>%\n",
    "mutate(Cell_type = case_when(padj < 0.05 ~ cell_type, \n",
    "                             is.na(padj) ~ 'grey',\n",
    "                             .default  = 'grey')) %>%\n",
    "mutate(Cell_type = factor(Cell_type, levels = c('CD4_T_cells','CD8_T_cells','Endothelial_cells', \n",
    "                                               'Fibroblasts', 'Macrophages','Pericytes', \n",
    "                                               'Plasma_cells', 'grey'))) %>%\n",
    "ggplot(aes(x = log2FoldChange, y = -log(padj),\n",
    "               color = Cell_type)) +\n",
    "geom_point(size = 2) + \n",
    "plot_theme_tmod  + \n",
    "geom_text_repel(force = 2, force_pull = 1, \n",
    "                box.padding = 1, point.padding = 1,\n",
    "                max.overlaps = 30, direction = 'both',\n",
    "                min.segment.length = 0.1,\n",
    "                segment.linetype = 3,\n",
    "                aes(label = gene_symbol)) +\n",
    "labs(title = 'Volcano plot of ligands and receptors\\nin imm and str') +\n",
    "theme(plot.title = element_text(hjust = 0.5)) +\n",
    "xlim(-10, 10) +\n",
    "scale_color_manual(values = c('#335B8E','#79c9c9','#CE9486',\n",
    "                              '#8f7022', '#cf7708','#1aa375', \n",
    "                              '#AA82A7', '#d3d3d3'),\n",
    "                  labels = c('CD4+ T cells','CD8+ T cells','Endothelial cells', \n",
    "                             'Fibroblasts', 'Macrophages','Pericytes', \n",
    "                             'Plasma cells', 'not-significant')) #+\n",
    "#geom_hline(yintercept = -log(0.05))\n",
    "\n"
   ]
  },
  {
   "cell_type": "code",
   "execution_count": null,
   "id": "52783202",
   "metadata": {},
   "outputs": [],
   "source": [
    "### ligand expression"
   ]
  },
  {
   "cell_type": "code",
   "execution_count": null,
   "id": "90462985",
   "metadata": {},
   "outputs": [],
   "source": [
    "options(repr.plot.width=14, \n",
    "        repr.plot.height=18,\n",
    "        repr.plot.res = 300)\n",
    "\n",
    "L_list_exp = as.data.frame(FetchData(adata_immune_stromal, vars = L_list)) %>% rownames_to_column()\n",
    "\n",
    "cell_type_df =  as.data.frame(adata_immune_stromal@meta.data['cell_type_level2']) %>% \n",
    "rownames_to_column()\n",
    "\n",
    "\n",
    "cell_type_df$cell_type_level2 = factor(cell_type_df$cell_type_level2, \n",
    "                                         levels = cell_type_list)\n",
    "\n",
    "\n",
    "L_list_exp %>% \n",
    "left_join(cell_type_df, by = c('rowname' = 'rowname')) %>%\n",
    "pivot_longer(!c(cell_type_level2, rowname), \n",
    "             names_to = 'gene_symbol', values_to = 'expression') %>%\n",
    "group_by(cell_type_level2, gene_symbol) %>%\n",
    "mutate(mean_expression = mean(expression), ncell = n(), \n",
    "       nonzero = ifelse(expression != 0, 1, 0),\n",
    "       nonzerocell = sum(nonzero),\n",
    "       cell_fraction = nonzerocell/ncell) %>%\n",
    "ungroup() %>%\n",
    "distinct(cell_type_level2, gene_symbol,mean_expression, cell_fraction) %>%\n",
    "ggplot(aes(x = cell_type_level2, y = gene_symbol)) +\n",
    "geom_tile(fill = 'white') +\n",
    "coord_equal() +\n",
    "geom_point(aes(size = cell_fraction, color = mean_expression)) +\n",
    "scale_color_gradient2(low = 'blue3', high = 'red3', mid = 'grey85')+\n",
    "plot_theme_tmod +\n",
    "theme(panel.grid = element_blank(),\n",
    "      axis.text.x = element_text(angle = 90),\n",
    "      strip.background = element_blank(), \n",
    "      strip.text = element_text(size = 13), \n",
    "      panel.spacing = unit(1, \"lines\")) +\n",
    "geom_vline(xintercept = seq(0.5, 13), color = 'grey') +\n",
    "geom_hline(yintercept = seq(0.5, 68), color = 'grey') +\n",
    "scale_y_discrete(limits = rev)"
   ]
  }
 ],
 "metadata": {
  "kernelspec": {
   "display_name": "R",
   "language": "R",
   "name": "ir"
  },
  "language_info": {
   "codemirror_mode": "r",
   "file_extension": ".r",
   "mimetype": "text/x-r-source",
   "name": "R",
   "pygments_lexer": "r",
   "version": "4.1.2"
  }
 },
 "nbformat": 4,
 "nbformat_minor": 5
}
