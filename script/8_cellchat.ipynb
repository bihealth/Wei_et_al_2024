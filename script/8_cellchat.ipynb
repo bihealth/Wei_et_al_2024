{
 "cells": [
  {
   "cell_type": "code",
   "execution_count": null,
   "id": "6916eb93",
   "metadata": {},
   "outputs": [],
   "source": [
    "suppressMessages(library('CellChat'))"
   ]
  },
  {
   "cell_type": "code",
   "execution_count": null,
   "id": "98b4842b",
   "metadata": {},
   "outputs": [],
   "source": [
    "suppressMessages(library('tidyverse'))\n",
    "suppressMessages(library('patchwork'))\n",
    "suppressMessages(library('cowplot'))\n",
    "\n",
    "suppressMessages(library('rhdf5'))\n",
    "suppressMessages(library('Seurat'))"
   ]
  },
  {
   "cell_type": "code",
   "execution_count": null,
   "id": "75e33744",
   "metadata": {},
   "outputs": [],
   "source": [
    "suppressMessages(library(NMF))"
   ]
  },
  {
   "cell_type": "code",
   "execution_count": 4,
   "id": "0b3afbd2",
   "metadata": {},
   "outputs": [],
   "source": [
    "library(ggalluvial)"
   ]
  },
  {
   "cell_type": "code",
   "execution_count": 5,
   "id": "bae8f6bc",
   "metadata": {},
   "outputs": [],
   "source": [
    "suppressMessages(library(ComplexHeatmap))"
   ]
  },
  {
   "cell_type": "code",
   "execution_count": 6,
   "id": "574b9444",
   "metadata": {},
   "outputs": [],
   "source": [
    "library(\"MetBrewer\")"
   ]
  },
  {
   "cell_type": "code",
   "execution_count": null,
   "id": "76be8ed3",
   "metadata": {},
   "outputs": [],
   "source": [
    "suppressMessages(library(ggpubr))"
   ]
  },
  {
   "cell_type": "code",
   "execution_count": null,
   "id": "1748770f",
   "metadata": {},
   "outputs": [],
   "source": [
    "suppressMessages(library(future.apply))"
   ]
  },
  {
   "cell_type": "code",
   "execution_count": 9,
   "id": "40b9ff77",
   "metadata": {},
   "outputs": [],
   "source": [
    "options(future.rng.onMisue = \"ignore\", future.seed = NULL)"
   ]
  },
  {
   "cell_type": "code",
   "execution_count": null,
   "id": "d7d70cf2",
   "metadata": {},
   "outputs": [],
   "source": [
    "sessionInfo()"
   ]
  },
  {
   "cell_type": "code",
   "execution_count": 11,
   "id": "d04e5855",
   "metadata": {},
   "outputs": [],
   "source": [
    "options(repr.plot.width=14, \n",
    "        repr.plot.height=10,\n",
    "        repr.plot.res = 200)"
   ]
  },
  {
   "cell_type": "code",
   "execution_count": 12,
   "id": "60019842",
   "metadata": {},
   "outputs": [],
   "source": [
    "source('function_single_cell_conversion.R')"
   ]
  },
  {
   "cell_type": "code",
   "execution_count": 13,
   "id": "1e6e3986",
   "metadata": {},
   "outputs": [],
   "source": [
    "# cannot find the R/analysis.R file in the bin, so modified here\n",
    "netClustering  <- function (object, slot.name = \"netP\", type = c(\"functional\", \n",
    "    \"structural\"), comparison = NULL, k = NULL, methods = \"kmeans\", \n",
    "    do.plot = TRUE, fig.id = NULL, do.parallel = TRUE, nCores = 4, \n",
    "    k.eigen = NULL) \n",
    "{\n",
    "    type <- match.arg(type)\n",
    "    if (object@options$mode == \"single\") {\n",
    "        comparison <- \"single\"\n",
    "        cat(\"Classification learning of the signaling networks for a single dataset\", \n",
    "            \"\\n\")\n",
    "    }\n",
    "    else if (object@options$mode == \"merged\") {\n",
    "        if (is.null(comparison)) {\n",
    "            comparison <- 1:length(unique(object@meta$datasets))\n",
    "        }\n",
    "        cat(\"Classification learning of the signaling networks for datasets\", \n",
    "            as.character(comparison), \"\\n\")\n",
    "    }\n",
    "    comparison.name <- paste(comparison, collapse = \"-\")\n",
    "    Y <- methods::slot(object, slot.name)$similarity[[type]]$dr[[comparison.name]]\n",
    "    data.use <- Y\n",
    "    if (methods == \"kmeans\") {\n",
    "        if (!is.null(k)) {\n",
    "            clusters = kmeans(data.use, k, nstart = 10)$cluster\n",
    "        }\n",
    "        else {\n",
    "            N <- nrow(data.use)\n",
    "            kRange <- seq(2, min(N - 1, 10), by = 1)\n",
    "            if (do.parallel) {\n",
    "                #future::plan(\"multiprocess\", workers = nCores)\n",
    "                future::plan(\"multisession\", workers = 8)\n",
    "                options(future.globals.maxSize = 1000 * 1024^2)\n",
    "            }\n",
    "            my.sapply <- ifelse(test = future::nbrOfWorkers() == \n",
    "                1, yes = pbapply::pbsapply, no = future.apply::future_sapply)\n",
    "            results = my.sapply(X = 1:length(kRange), FUN = function(x) {\n",
    "                idents <- kmeans(data.use, kRange[x], nstart = 10)$cluster\n",
    "                clusIndex <- idents\n",
    "                adjMat0 <- Matrix::Matrix(as.numeric(outer(clusIndex, \n",
    "                  clusIndex, FUN = \"==\")), nrow = N, ncol = N)\n",
    "                return(list(adjMat = adjMat0, ncluster = length(unique(idents))))\n",
    "            }, simplify = FALSE)\n",
    "            adjMat <- lapply(results, \"[[\", 1)\n",
    "            CM <- Reduce(\"+\", adjMat)/length(kRange)\n",
    "            res <- computeEigengap(as.matrix(CM))\n",
    "            numCluster <- res$upper_bound\n",
    "            clusters = kmeans(data.use, numCluster, nstart = 10)$cluster\n",
    "            if (do.plot) {\n",
    "                gg <- res$gg.obj\n",
    "                ggsave(filename = paste0(\"estimationNumCluster_\", \n",
    "                  fig.id, \"_\", type, \"_dataset_\", comparison.name, \n",
    "                  \".pdf\"), plot = gg, width = 3.5, height = 3, \n",
    "                  units = \"in\", dpi = 300)\n",
    "            }\n",
    "        }\n",
    "    }\n",
    "    else if (methods == \"spectral\") {\n",
    "        A <- as.matrix(data.use)\n",
    "        D <- apply(A, 1, sum)\n",
    "        L <- diag(D) - A\n",
    "        L <- diag(D^-0.5) %*% L %*% diag(D^-0.5)\n",
    "        evL <- eigen(L, symmetric = TRUE)\n",
    "        plot(rev(evL$values)[1:30])\n",
    "        Z <- evL$vectors[, (ncol(evL$vectors) - k.eigen + 1):ncol(evL$vectors)]\n",
    "        clusters = kmeans(Z, k, nstart = 20)$cluster\n",
    "    }\n",
    "    if (!is.list(methods::slot(object, slot.name)$similarity[[type]]$group)) {\n",
    "        methods::slot(object, slot.name)$similarity[[type]]$group <- NULL\n",
    "    }\n",
    "    methods::slot(object, slot.name)$similarity[[type]]$group[[comparison.name]] <- clusters\n",
    "    return(object)\n",
    "}"
   ]
  },
  {
   "cell_type": "code",
   "execution_count": 14,
   "id": "8a06ed45",
   "metadata": {},
   "outputs": [],
   "source": [
    "# this is where the bug is, fixing not correct matrix sparcing and fixing the weird indents everywhere.......\n",
    "# https://github.com/sqjin/CellChat/issues/210#issuecomment-1538673400\n",
    "\n",
    "subset_CellChat_single_dataset_rev = function(object, cells.use = NULL, idents.use = NULL, \n",
    "                               group.by = NULL, thresh = 0.05){\n",
    "    \n",
    "    labels <- object@idents # factor without names\n",
    "    names(labels) = colnames(object@data) # new line to name by cell id and fix the level.use is NULL issue\n",
    "    level.use0 <- levels(labels)\n",
    "    \n",
    "    if (!is.null(cells.use)) {\n",
    "        level.use <- levels(labels)[levels(labels) %in% unique(as.character(labels[cells.use]))] \n",
    "        cells.use.index <- which(names(labels) %in% cells.use)\n",
    "    }\n",
    "    \n",
    "    if(!is.null(idents.use)) {\n",
    "        level.use <- levels(labels)[levels(labels) %in% unique(as.character(idents.use))] \n",
    "        cells.use.index <- which(labels %in% level.use)\n",
    "    }\n",
    "        \n",
    "    if (nrow(object@data) > 0) {\n",
    "        data.subset <- object@data[, cells.use.index]\n",
    "    } else {\n",
    "        data.subset <- matrix(0, nrow = 0, ncol = 0)\n",
    "    }\n",
    "    if (nrow(object@data.project) > 0) {\n",
    "        data.project.subset <- object@data.project[, cells.use.index]\n",
    "    } else {\n",
    "        data.project.subset <- matrix(0, nrow = 0, ncol = 0)\n",
    "    }\n",
    "    \n",
    "    data.signaling.subset <- object@data.signaling[, cells.use.index]\n",
    "        \n",
    "    meta.subset <- object@meta[cells.use.index, , drop = FALSE]\n",
    "\n",
    "    cat(\"Update slots object@images, object@net, object@netP in a single dataset...\", '\\n')\n",
    "\n",
    "    group.existing <- level.use0[level.use0 %in% level.use]\n",
    "    group.existing.index <- which(level.use0 %in% level.use)\n",
    "\n",
    "    images <- object@images\n",
    "    for (images.j in names(images)) {\n",
    "        values <- images[[images.j]]\n",
    "\n",
    "        if (images.j %in% c(\"coordinates\")) {\n",
    "            values.new <- values[cells.use.index, ]\n",
    "            images[[images.j]] <- values.new\n",
    "        }\n",
    "        if (images.j %in% c(\"distance\")) {\n",
    "            values.new <- values[group.existing.index, group.existing.index, drop = FALSE]\n",
    "            images[[images.j]] <- values.new\n",
    "        }\n",
    "    }\n",
    "    images.subset <- images\n",
    "\n",
    "\n",
    "    net <- object@net\n",
    "    for (net.j in names(net)) {\n",
    "      values <- net[[net.j]]\n",
    "      if (net.j %in% c(\"prob\",\"pval\")) {\n",
    "        values.new <- values[group.existing.index, group.existing.index, ,drop = FALSE] # this is the bug line\n",
    "        net[[net.j]] <- values.new\n",
    "      }\n",
    "      if (net.j %in% c(\"count\",\"sum\",\"weight\")) {\n",
    "        values.new <- values[group.existing.index, group.existing.index, drop = FALSE]\n",
    "        net[[net.j]] <- values.new\n",
    "      }\n",
    "    }\n",
    "    net.subset <- net\n",
    "    \n",
    "    # summarise related ligands and receptors\n",
    "    netP = computeCommunProbPathway(net = net.subset, pairLR.use = object@LR$LRsig, thresh = thresh)\n",
    "    netP$centr = netAnalysis_computeCentrality(net = netP$prob) # netP not net.subset\n",
    "    netP.subset <- netP\n",
    "    idents.subset <- object@idents[cells.use.index]\n",
    "    idents.subset <- factor(idents.subset, levels = level.use)\n",
    "    \n",
    "    \n",
    "    object.subset <- methods::new(\n",
    "    Class = \"CellChat\",\n",
    "    data = data.subset,\n",
    "    data.signaling = data.signaling.subset,\n",
    "    data.project = data.project.subset,\n",
    "    images = images.subset,\n",
    "    net = net.subset,\n",
    "    netP = netP.subset,\n",
    "    meta = meta.subset,\n",
    "    idents = idents.subset,\n",
    "    var.features = object@var.features,\n",
    "    LR = object@LR,\n",
    "    DB = object@DB,\n",
    "    options = object@options\n",
    "    )\n",
    "    return(object.subset)\n",
    "    }"
   ]
  },
  {
   "cell_type": "code",
   "execution_count": 15,
   "id": "cb6e6a76",
   "metadata": {},
   "outputs": [],
   "source": [
    "plot_theme_tmod =  theme(title = element_text(size = 14),\n",
    "                   axis.title = element_text(size = 14),\n",
    "                   axis.text = element_text(size = 12),\n",
    "                   legend.title =  element_text(size = 12),\n",
    "                   text = element_text(size = 10),\n",
    "                   plot.margin = margin(0,0,0,0,\"cm\")) "
   ]
  },
  {
   "cell_type": "code",
   "execution_count": 16,
   "id": "be114f7d",
   "metadata": {},
   "outputs": [],
   "source": [
    "'%notin%' = Negate('%in%')"
   ]
  },
  {
   "cell_type": "code",
   "execution_count": 17,
   "id": "5c7644ee",
   "metadata": {},
   "outputs": [],
   "source": [
    "data_folder = '/fast/users/twei_m/work/crc/datasets'"
   ]
  },
  {
   "cell_type": "code",
   "execution_count": 18,
   "id": "3e567aee",
   "metadata": {},
   "outputs": [],
   "source": [
    "new_data_folder = '/fast/users/twei_m/work/crc/datasets_new_preprocessing'"
   ]
  },
  {
   "cell_type": "code",
   "execution_count": 19,
   "id": "a51bf94f",
   "metadata": {},
   "outputs": [],
   "source": [
    "imm_str_cell_order = c('B_cells','Plasma_cells','CD4+_T_cells','CD8+_T_cells','Treg_cells',\n",
    "                                         'Dendritic_cells','Macrophages','Mast_cells','Monocytes','Neutrophils',\n",
    "                                         'Endothelial_cells','Fibroblasts','Pericytes')"
   ]
  },
  {
   "cell_type": "code",
   "execution_count": 20,
   "id": "2d7601c7",
   "metadata": {},
   "outputs": [],
   "source": [
    "cell_type_order_with_Tumour_without_Monocytes = c('B_cells','Plasma_cells',\n",
    "                                'CD4+_T_cells','CD8+_T_cells','Treg_cells',\n",
    "                                'Dendritic_cells','Macrophages','Mast_cells',#'Monocytes',\n",
    "                                                  'Neutrophils',\n",
    "                                'Endothelial_cells','Fibroblasts','Pericytes',\n",
    "                                'Tumour', 'Stem','Stem_TA','Tuft',\n",
    "                                'Immature_Goblet','Goblet','Enterocyte_progenitor','Enterocytes'\n",
    "\n",
    "                                )"
   ]
  },
  {
   "cell_type": "code",
   "execution_count": 21,
   "id": "d927113c",
   "metadata": {},
   "outputs": [],
   "source": [
    "cell_type_order_with_Tumour_without_Monocytes_color = c('#7d8df0', '#AA82A7',\n",
    "                                                        '#335B8E', '#79c9c9', '#c44545',\n",
    "                                                        '#67C9FF', '#cf7708', '#B5B867', #  '#DEB058'\n",
    "                                                        '#899DA4',\n",
    "                                                         '#CE9486', '#8f7022','#1aa375',\n",
    "                                                        '#AA0000', '#00CCFF', '#0072b1','#FF9900',\n",
    "                                                        '#990099', '#660099','#999900', '#336600'\n",
    "                                                        \n",
    ")"
   ]
  },
  {
   "cell_type": "code",
   "execution_count": 22,
   "id": "f423ebe0",
   "metadata": {},
   "outputs": [],
   "source": [
    "Numbat_and_Scitcem = read.csv('../datasets_new_preprocessing/20231108_Numbat_and_Scitcem_resolved_assignment_cellid.csv',\n",
    "                             row.names=1)"
   ]
  },
  {
   "cell_type": "code",
   "execution_count": 23,
   "id": "37f2180b",
   "metadata": {},
   "outputs": [],
   "source": [
    "str_imm_id_tumour = read.csv('../datasets_new_preprocessing/str_and_imm_cellid_tumour.csv',\n",
    "                             row.names=1)"
   ]
  },
  {
   "cell_type": "code",
   "execution_count": 24,
   "id": "09cda3a7",
   "metadata": {},
   "outputs": [],
   "source": [
    "str_imm_id_normal = read.csv('../datasets_new_preprocessing/str_and_imm_cellid_normal.csv',\n",
    "                             row.names=1)"
   ]
  },
  {
   "cell_type": "markdown",
   "id": "73091658",
   "metadata": {},
   "source": [
    "### Read h5 and transform into Seurat"
   ]
  },
  {
   "cell_type": "code",
   "execution_count": 25,
   "id": "67ba288b",
   "metadata": {},
   "outputs": [],
   "source": [
    "h5_path = '../datasets_new_preprocessing/202307_adata_all_full_cell_type_annotation.h5'"
   ]
  },
  {
   "cell_type": "code",
   "execution_count": 26,
   "id": "21bd768e",
   "metadata": {},
   "outputs": [],
   "source": [
    "adata_h5 = H5Fopen(h5_path)"
   ]
  },
  {
   "cell_type": "code",
   "execution_count": null,
   "id": "d494bd2d",
   "metadata": {},
   "outputs": [],
   "source": [
    "# main matrix\n",
    "adata_all = read_scanpy_h5(h5_path,\n",
    "                           if_pca = TRUE, if_umap = TRUE, if_CB_counts=TRUE, if_raw_counts=FALSE)"
   ]
  },
  {
   "cell_type": "code",
   "execution_count": null,
   "id": "e35ac25f",
   "metadata": {},
   "outputs": [],
   "source": [
    "adata_all"
   ]
  },
  {
   "cell_type": "code",
   "execution_count": 29,
   "id": "90f963f2",
   "metadata": {},
   "outputs": [],
   "source": [
    "# get sample label\n",
    "cat = c(adata_h5$obs$'sample'$categories)\n",
    "cat_obs = data.frame(cat_name = cat[apply(adata_h5$obs$'sample'$codes, 1, function(x)x+1)],\n",
    "                                              row.names = adata_h5$obs$`_index`)\n",
    "\n",
    "adata_all = AddMetaData(object = adata_all, metadata = cat_obs, col.name = 'sample')"
   ]
  },
  {
   "cell_type": "code",
   "execution_count": 30,
   "id": "edeb54fe",
   "metadata": {},
   "outputs": [],
   "source": [
    "# get patient \n",
    "cat = c(adata_h5$obs$'patient'$categories)\n",
    "cat_obs = data.frame(cat_name = cat[apply(adata_h5$obs$'patient'$codes, 1, function(x)x+1)],\n",
    "                                              row.names = adata_h5$obs$`_index`)\n",
    "\n",
    "adata_all = AddMetaData(object = adata_all, metadata = cat_obs, col.name = 'patient')"
   ]
  },
  {
   "cell_type": "code",
   "execution_count": 31,
   "id": "4486bbe9",
   "metadata": {},
   "outputs": [],
   "source": [
    "# get sample_origin \n",
    "cat = c(adata_h5$obs$'sample_origin'$categories)\n",
    "cat_obs = data.frame(cat_name = cat[apply(adata_h5$obs$'sample_origin'$codes, 1, function(x)x+1)],\n",
    "                                              row.names = adata_h5$obs$`_index`)\n",
    "\n",
    "adata_all = AddMetaData(object = adata_all, metadata = cat_obs, col.name = 'sample_origin')"
   ]
  },
  {
   "cell_type": "code",
   "execution_count": 32,
   "id": "b30925fc",
   "metadata": {},
   "outputs": [],
   "source": [
    "# get MS_status\n",
    "cat = c(adata_h5$obs$'MS_status'$categories)\n",
    "cat_obs = data.frame(cat_name = cat[apply(adata_h5$obs$'MS_status'$codes, 1, function(x)x+1)],\n",
    "                                              row.names = adata_h5$obs$`_index`)\n",
    "\n",
    "adata_all = AddMetaData(object = adata_all, metadata = cat_obs, col.name = 'MS_status')"
   ]
  },
  {
   "cell_type": "code",
   "execution_count": 33,
   "id": "c794c3b9",
   "metadata": {},
   "outputs": [],
   "source": [
    "# get cell type 1a \n",
    "cat = c(adata_h5$obs$'celltype_1a'$categories)\n",
    "cat_obs = data.frame(cat_name = cat[apply(adata_h5$obs$'celltype_1a'$codes, 1, function(x)x+1)],\n",
    "                                              row.names = adata_h5$obs$`_index`)\n",
    "\n",
    "adata_all = AddMetaData(object = adata_all, metadata = cat_obs, col.name = 'celltype_1a')"
   ]
  },
  {
   "cell_type": "code",
   "execution_count": 34,
   "id": "98ad473d",
   "metadata": {},
   "outputs": [],
   "source": [
    "# get cell type 2 \n",
    "cat = c(adata_h5$obs$'cell_type_level2'$categories)\n",
    "cat_obs = data.frame(cat_name = cat[apply(adata_h5$obs$'cell_type_level2'$codes, 1, function(x)x+1)],\n",
    "                                              row.names = adata_h5$obs$`_index`)\n",
    "\n",
    "adata_all = AddMetaData(object = adata_all, metadata = cat_obs, col.name = 'cell_type_level2')\n"
   ]
  },
  {
   "cell_type": "code",
   "execution_count": 35,
   "id": "4d6137ca",
   "metadata": {},
   "outputs": [],
   "source": [
    "h5closeAll()"
   ]
  },
  {
   "cell_type": "code",
   "execution_count": null,
   "id": "34c481c0",
   "metadata": {},
   "outputs": [],
   "source": [
    "# cell type in Uhlitz \n",
    "cell_type_list = c(unique(adata_all@meta.data['cell_type_level2'])$cell_type_level2) %>% sort()\n",
    "cell_type_list = gsub('/', '_', cell_type_list)\n",
    "cell_type_list = gsub(' ', '_', cell_type_list)\n",
    "cell_type_list"
   ]
  },
  {
   "cell_type": "code",
   "execution_count": 37,
   "id": "63c1eefd",
   "metadata": {},
   "outputs": [],
   "source": [
    "# replace the / cuz it will cuz a file saving problem\n",
    "adata_all@meta.data  = adata_all@meta.data %>% mutate(cell_type_level2 = gsub('/', '_', cell_type_level2)) %>%\n",
    "mutate(cell_type_level2 = gsub(' ', '_', cell_type_level2))"
   ]
  },
  {
   "cell_type": "markdown",
   "id": "076dcd34",
   "metadata": {},
   "source": [
    "#### cell type annotation"
   ]
  },
  {
   "cell_type": "code",
   "execution_count": 41,
   "id": "aa61729a",
   "metadata": {},
   "outputs": [],
   "source": [
    "adata_all@meta.data = adata_all@meta.data %>% \n",
    "merge(Numbat_and_Scitcem, by = 0, all.x = TRUE)  %>% # this will do rownames to column\n",
    "mutate(cell_type_cell_identity = case_when(is.na(cell_identity) ~ cell_type_level2,\n",
    "                                           cell_identity == 'normal_sample' ~ cell_type_level2,\n",
    "                                           .default = paste0(cell_type_level2, '_', cell_identity))) %>%\n",
    "column_to_rownames('Row.names')"
   ]
  },
  {
   "cell_type": "markdown",
   "id": "fa0cb051",
   "metadata": {},
   "source": [
    "### Create a cell type / group label that can later separate NT and TT"
   ]
  },
  {
   "cell_type": "code",
   "execution_count": 42,
   "id": "5d4b774d",
   "metadata": {},
   "outputs": [],
   "source": [
    "# all genomically tumour as tumour\n",
    "adata_all@meta.data = adata_all@meta.data %>% \n",
    "mutate(cell_identity_resolved_tumour = case_when(is.na(cell_identity) ~ cell_type_level2,\n",
    "                                                 cell_identity == 'genomically_tumour' ~ 'Tumour',\n",
    "                                                 .default = cell_type_level2))\n",
    "                                                 #cell_identity == 'normal_sample' ~ cell_type_level2,\n",
    "\n",
    "                                                 #.default = paste0(cell_type_level2, '_', cell_identity)))\n"
   ]
  },
  {
   "cell_type": "code",
   "execution_count": 44,
   "id": "2bb1b3cc",
   "metadata": {
    "scrolled": true
   },
   "outputs": [],
   "source": [
    "# subset tumour samples vs normal sample\n",
    "adata_GT_TME = subset(adata_all, subset = sample_origin == 'tumour' & \n",
    "                      cell_identity %in% c(NA, 'genomically_tumour') &\n",
    "                      cell_type_level2 != 'Monocytes')\n",
    "\n",
    "adata_GN_noTCs = subset(adata_all, subset = sample_origin == 'tumour' & cell_identity == 'genomically_normal' &\n",
    "                 cell_type_level2 %notin% c('TC1', 'TC2', 'TC3', 'TC4', 'Monocytes'))\n",
    "\n",
    "adata_n_noTCs = subset(adata_all, subset = sample_origin == 'normal' & \n",
    "                       cell_type_level2 %notin% c('TC1', 'TC2', 'TC3', 'TC4', 'Monocytes'))"
   ]
  },
  {
   "cell_type": "code",
   "execution_count": 45,
   "id": "5cc0dc79",
   "metadata": {},
   "outputs": [],
   "source": [
    "adata_all@meta.data = adata_all@meta.data %>% mutate(cell_id = rownames(adata_all@meta.data))"
   ]
  },
  {
   "cell_type": "code",
   "execution_count": 46,
   "id": "90f31be0",
   "metadata": {},
   "outputs": [],
   "source": [
    "most_DC2_tumour_like_cell_from_normal = subset(adata_all, subset = cell_id == 'p007n:CCTATCGAGATGAACT')"
   ]
  },
  {
   "cell_type": "code",
   "execution_count": 47,
   "id": "5d8ec0be",
   "metadata": {},
   "outputs": [],
   "source": [
    "most_DC2_tumour_like_cell_from_normal@meta.data['cell_type_level2'] = 'Tumour'\n",
    "\n",
    "most_DC2_tumour_like_cell_from_normal@meta.data['cell_type_cell_identity'] = 'Tumour'\n",
    "\n",
    "most_DC2_tumour_like_cell_from_normal@meta.data['cell_identity_resolved_tumour'] = 'Tumour'"
   ]
  },
  {
   "cell_type": "code",
   "execution_count": null,
   "id": "1fbdeba2",
   "metadata": {},
   "outputs": [],
   "source": [
    "most_DC2_tumour_like_cell_from_normal@meta.data"
   ]
  },
  {
   "cell_type": "code",
   "execution_count": null,
   "id": "f656e4cb",
   "metadata": {},
   "outputs": [],
   "source": [
    "adata_GT_TME"
   ]
  },
  {
   "cell_type": "code",
   "execution_count": null,
   "id": "56a78b05",
   "metadata": {},
   "outputs": [],
   "source": [
    "adata_GN_noTCs"
   ]
  },
  {
   "cell_type": "code",
   "execution_count": null,
   "id": "21e8bc79",
   "metadata": {},
   "outputs": [],
   "source": [
    "adata_n_noTCs"
   ]
  },
  {
   "cell_type": "code",
   "execution_count": 52,
   "id": "1dc03ed1",
   "metadata": {},
   "outputs": [],
   "source": [
    "adata_n = merge(adata_n_noTCs,most_DC2_tumour_like_cell_from_normal)"
   ]
  },
  {
   "cell_type": "code",
   "execution_count": 53,
   "id": "a3adb426",
   "metadata": {},
   "outputs": [],
   "source": [
    "adata_t = merge(adata_GT_TME, adata_GN_noTCs)"
   ]
  },
  {
   "cell_type": "markdown",
   "id": "29c83942",
   "metadata": {},
   "source": [
    "#### make cellchat obj"
   ]
  },
  {
   "cell_type": "code",
   "execution_count": null,
   "id": "b4883ccb",
   "metadata": {},
   "outputs": [],
   "source": [
    "cellchat_tumour = createCellChat(object = adata_t, group.by = \"cell_identity_resolved_tumour\")"
   ]
  },
  {
   "cell_type": "code",
   "execution_count": null,
   "id": "097068df",
   "metadata": {},
   "outputs": [],
   "source": [
    "cellchat_normal = createCellChat(object = adata_n, group.by = \"cell_identity_resolved_tumour\")"
   ]
  },
  {
   "cell_type": "code",
   "execution_count": 56,
   "id": "63df2619",
   "metadata": {},
   "outputs": [],
   "source": [
    "cellchat_normal@idents = factor(cellchat_normal@idents,  \n",
    "                                     levels = cell_type_order_with_Tumour_without_Monocytes)"
   ]
  },
  {
   "cell_type": "code",
   "execution_count": 57,
   "id": "71e07a00",
   "metadata": {},
   "outputs": [],
   "source": [
    "cellchat_tumour@idents = factor(cellchat_tumour@idents,  \n",
    "                                     levels = cell_type_order_with_Tumour_without_Monocytes)"
   ]
  },
  {
   "cell_type": "code",
   "execution_count": 58,
   "id": "c0ad8b68",
   "metadata": {},
   "outputs": [],
   "source": [
    "CellChatDB <- CellChatDB.human"
   ]
  },
  {
   "cell_type": "code",
   "execution_count": 60,
   "id": "5055efd8",
   "metadata": {},
   "outputs": [],
   "source": [
    "# use all pathways \n",
    "CellChatDB.use <- CellChatDB\n",
    "cellchat_normal@DB <- CellChatDB.use\n",
    "cellchat_tumour@DB <- CellChatDB.use"
   ]
  },
  {
   "cell_type": "code",
   "execution_count": 61,
   "id": "b68cf437",
   "metadata": {},
   "outputs": [],
   "source": [
    "# filter to only genes exist in the database\n",
    "cellchat_normal <- subsetData(cellchat_normal) \n",
    "cellchat_tumour <- subsetData(cellchat_tumour)"
   ]
  },
  {
   "cell_type": "code",
   "execution_count": 62,
   "id": "d6cde117",
   "metadata": {},
   "outputs": [],
   "source": [
    "plan(\"multisession\", workers = 8)\n",
    "# Error: Strategy 'multiprocess' is defunct in future (>= 1.32.0) [2023-03-06]. \n",
    "# Instead, explicitly specify either 'multisession' (recommended) or 'multicore'."
   ]
  },
  {
   "cell_type": "code",
   "execution_count": 63,
   "id": "cc00fe0f",
   "metadata": {},
   "outputs": [],
   "source": [
    "options(future.globals.maxSize = 8000 * 1024^2)"
   ]
  },
  {
   "cell_type": "code",
   "execution_count": 64,
   "id": "b7e1c2ba",
   "metadata": {},
   "outputs": [],
   "source": [
    "cellchat_normal <- identifyOverExpressedGenes(cellchat_normal)\n",
    "cellchat_normal <- identifyOverExpressedInteractions(cellchat_normal)"
   ]
  },
  {
   "cell_type": "code",
   "execution_count": 65,
   "id": "a78d25fc",
   "metadata": {},
   "outputs": [],
   "source": [
    "cellchat_tumour <- identifyOverExpressedGenes(cellchat_tumour)\n",
    "cellchat_tumour <- identifyOverExpressedInteractions(cellchat_tumour)"
   ]
  },
  {
   "cell_type": "code",
   "execution_count": null,
   "id": "c81b57e1",
   "metadata": {},
   "outputs": [],
   "source": [
    "cellchat_normal <- computeCommunProb(cellchat_normal)"
   ]
  },
  {
   "cell_type": "code",
   "execution_count": null,
   "id": "d543f456",
   "metadata": {},
   "outputs": [],
   "source": [
    "cellchat_tumour <- computeCommunProb(cellchat_tumour)"
   ]
  },
  {
   "cell_type": "code",
   "execution_count": null,
   "id": "e177d105",
   "metadata": {},
   "outputs": [],
   "source": [
    "# Filter out the cell-cell communication if there are only few number of cells in certain cell groups\n",
    "cellchat_normal <- filterCommunication(cellchat_normal, min.cells = 10)\n",
    "cellchat_tumour <- filterCommunication(cellchat_tumour, min.cells = 10)"
   ]
  },
  {
   "cell_type": "code",
   "execution_count": 88,
   "id": "45ba780c",
   "metadata": {},
   "outputs": [],
   "source": [
    "cellchat_normal <- computeCommunProbPathway(cellchat_normal)\n",
    "cellchat_tumour <- computeCommunProbPathway(cellchat_tumour)"
   ]
  },
  {
   "cell_type": "code",
   "execution_count": 89,
   "id": "07c95297",
   "metadata": {},
   "outputs": [],
   "source": [
    "cellchat_normal <- aggregateNet(cellchat_normal)\n",
    "cellchat_tumour <- aggregateNet(cellchat_tumour)"
   ]
  },
  {
   "cell_type": "code",
   "execution_count": 90,
   "id": "c886c1cf",
   "metadata": {
    "scrolled": false
   },
   "outputs": [],
   "source": [
    "groupSize_normal <- as.numeric(table(cellchat_normal@idents))\n",
    "groupSize_tumour <- as.numeric(table(cellchat_tumour@idents))"
   ]
  },
  {
   "cell_type": "code",
   "execution_count": 91,
   "id": "1abae0f2",
   "metadata": {
    "scrolled": true
   },
   "outputs": [],
   "source": [
    "cellchat_normal <- netAnalysis_computeCentrality(cellchat_normal, slot.name = \"netP\")\n",
    "cellchat_tumour <- netAnalysis_computeCentrality(cellchat_tumour, slot.name = \"netP\") \n",
    "# the slot 'netP' means the inferred intercellular communication network of signaling pathways"
   ]
  },
  {
   "cell_type": "markdown",
   "id": "5979d5ee",
   "metadata": {},
   "source": [
    "#### plot"
   ]
  },
  {
   "cell_type": "code",
   "execution_count": null,
   "id": "71092a7f",
   "metadata": {},
   "outputs": [],
   "source": [
    "options(repr.plot.width=10, \n",
    "        repr.plot.height=10,\n",
    "        repr.plot.res = 200)\n",
    "\n",
    "netVisual_circle(cellchat_tumour@net$count, vertex.weight = groupSize_tumour, \n",
    "                 weight.scale = T, label.edge= F, title.name = \"Number of interactions\", \n",
    "                 color.use = cell_type_order_with_Tumour_without_Monocytes_color)"
   ]
  },
  {
   "cell_type": "code",
   "execution_count": null,
   "id": "10da2244",
   "metadata": {},
   "outputs": [],
   "source": [
    "netVisual_circle(cellchat_normal@net$count, vertex.weight = groupSize_normal, \n",
    "                 weight.scale = T, label.edge= F, title.name = \"Number of interactions\", \n",
    "                 color.use = cell_type_order_with_Tumour_without_Monocytes_color)"
   ]
  },
  {
   "cell_type": "code",
   "execution_count": null,
   "id": "aee0024c",
   "metadata": {},
   "outputs": [],
   "source": [
    "mat <- cellchat_tumour@net$weight\n",
    "par(mfrow = c(2,2), xpd=TRUE)\n",
    "for (i in 1:nrow(mat)) {\n",
    "  mat2 <- matrix(0, nrow = nrow(mat), ncol = ncol(mat), dimnames = dimnames(mat))\n",
    "  mat2[i, ] <- mat[i, ]\n",
    "  netVisual_circle(mat2, vertex.weight = groupSize_tumour, weight.scale = T, edge.weight.max = max(mat), \n",
    "                   title.name = rownames(mat)[i],\n",
    "                   color.use = cell_type_order_with_Tumour_without_Monocytes_color)\n",
    "}"
   ]
  },
  {
   "cell_type": "code",
   "execution_count": null,
   "id": "7622fe09",
   "metadata": {},
   "outputs": [],
   "source": [
    "mat <- cellchat_normal@net$weight\n",
    "par(mfrow = c(2,2), xpd=TRUE)\n",
    "for (i in 1:nrow(mat)) {\n",
    "  mat2 <- matrix(0, nrow = nrow(mat), ncol = ncol(mat), dimnames = dimnames(mat))\n",
    "  mat2[i, ] <- mat[i, ]\n",
    "  netVisual_circle(mat2, vertex.weight = groupSize_normal, weight.scale = T, edge.weight.max = max(mat), \n",
    "                   title.name = rownames(mat)[i],\n",
    "                color.use = cell_type_order_with_Tumour_without_Monocytes_color\n",
    ") \n",
    "}"
   ]
  },
  {
   "cell_type": "markdown",
   "id": "e024207f",
   "metadata": {},
   "source": [
    "### pathway"
   ]
  },
  {
   "cell_type": "markdown",
   "id": "bd5fe10e",
   "metadata": {},
   "source": [
    "This hierarchical plot consist of two components: \n",
    "the left portion shows autocrine and paracrine signaling to certain cell groups of interest (i.e, the defined vertex.receiver), \n",
    "and the right portion shows autocrine and paracrine signaling to the remaining cell groups in the dataset."
   ]
  },
  {
   "cell_type": "markdown",
   "id": "c74b3e59",
   "metadata": {},
   "source": [
    "####  pathways that have significant communication"
   ]
  },
  {
   "cell_type": "code",
   "execution_count": null,
   "id": "dd829166",
   "metadata": {},
   "outputs": [],
   "source": [
    "sort(cellchat_normal@netP$pathways) # 92"
   ]
  },
  {
   "cell_type": "code",
   "execution_count": null,
   "id": "64c0ce26",
   "metadata": {},
   "outputs": [],
   "source": [
    "sort(cellchat_tumour@netP$pathways) # 100"
   ]
  },
  {
   "cell_type": "code",
   "execution_count": 98,
   "id": "13796d16",
   "metadata": {},
   "outputs": [],
   "source": [
    "shared_sig_pathways = intersect(sort(cellchat_normal@netP$pathways), sort(cellchat_tumour@netP$pathways))"
   ]
  },
  {
   "cell_type": "code",
   "execution_count": null,
   "id": "1f78c280",
   "metadata": {},
   "outputs": [],
   "source": [
    "shared_sig_pathways"
   ]
  },
  {
   "cell_type": "code",
   "execution_count": 100,
   "id": "6b2cd6c6",
   "metadata": {},
   "outputs": [],
   "source": [
    "pathways.show <- 'BMP'"
   ]
  },
  {
   "cell_type": "code",
   "execution_count": null,
   "id": "a029a2fa",
   "metadata": {},
   "outputs": [],
   "source": [
    "length(levels(cellchat_tumour@idents))"
   ]
  },
  {
   "cell_type": "code",
   "execution_count": null,
   "id": "66b5286f",
   "metadata": {},
   "outputs": [],
   "source": [
    "data.frame(levels(cellchat_tumour@idents), c(1:20)) #%>% \n",
    "#filter(str_detect(levels.cellchat_tumour.idents., 'genomically_normal'))"
   ]
  },
  {
   "cell_type": "code",
   "execution_count": 104,
   "id": "a00eab18",
   "metadata": {},
   "outputs": [],
   "source": [
    "# cell group index: all epi in NT\n",
    "#NT_epi = c(6,7,9,10,17,18,20)\n",
    "NT_epi = c(13,14,15,16,17,18,19,20)"
   ]
  },
  {
   "cell_type": "code",
   "execution_count": null,
   "id": "593ae3d0",
   "metadata": {},
   "outputs": [],
   "source": [
    "netVisual_aggregate(cellchat_tumour, signaling = pathways.show, \n",
    "                    vertex.receiver = NT_epi, layout = 'hierarchy')"
   ]
  },
  {
   "cell_type": "code",
   "execution_count": null,
   "id": "8e67b54e",
   "metadata": {},
   "outputs": [],
   "source": [
    "options(repr.plot.width=7, \n",
    "        repr.plot.height=7,\n",
    "        repr.plot.res = 200)\n",
    "\n",
    "netVisual_heatmap(cellchat_tumour, color.heatmap = \"Reds\", measure = 'weight')"
   ]
  },
  {
   "cell_type": "code",
   "execution_count": null,
   "id": "c7c4ac21",
   "metadata": {},
   "outputs": [],
   "source": [
    "options(repr.plot.width=7, \n",
    "        repr.plot.height=7,\n",
    "        repr.plot.res = 200)\n",
    "\n",
    "netVisual_heatmap(cellchat_normal, color.heatmap = \"Reds\")"
   ]
  },
  {
   "cell_type": "code",
   "execution_count": null,
   "id": "4143b77e",
   "metadata": {},
   "outputs": [],
   "source": [
    "netVisual_heatmap(cellchat_normal, color.heatmap = \"Reds\", measure = 'weight')"
   ]
  },
  {
   "cell_type": "code",
   "execution_count": null,
   "id": "6339706c",
   "metadata": {},
   "outputs": [],
   "source": [
    "options(repr.plot.width=8, \n",
    "        repr.plot.height=8,\n",
    "        repr.plot.res = 200)\n",
    "\n",
    "netVisual_heatmap(cellchat_tumour, signaling = pathways.show, color.heatmap = \"Reds\") "
   ]
  },
  {
   "cell_type": "code",
   "execution_count": null,
   "id": "0c2b746d",
   "metadata": {},
   "outputs": [],
   "source": [
    "options(repr.plot.width=4, \n",
    "        repr.plot.height=4,\n",
    "        repr.plot.res = 200)\n",
    "\n",
    "netAnalysis_contribution(cellchat_tumour, signaling = pathways.show)"
   ]
  },
  {
   "cell_type": "code",
   "execution_count": null,
   "id": "b47dd5c1",
   "metadata": {},
   "outputs": [],
   "source": [
    "options(repr.plot.width=14, \n",
    "        repr.plot.height=5,\n",
    "        repr.plot.res = 300)\n",
    "\n",
    "netAnalysis_signalingRole_network(cellchat_tumour, signaling = pathways.show, \n",
    "                                  width = 25, height = 5, \n",
    "                                  font.size = 10) "
   ]
  },
  {
   "cell_type": "code",
   "execution_count": null,
   "id": "b77eded6",
   "metadata": {},
   "outputs": [],
   "source": [
    "options(repr.plot.width=8, \n",
    "        repr.plot.height=8,\n",
    "        repr.plot.res = 200)\n",
    "\n",
    "netAnalysis_signalingRole_scatter(cellchat_tumour)"
   ]
  },
  {
   "cell_type": "code",
   "execution_count": null,
   "id": "e5b67742",
   "metadata": {},
   "outputs": [],
   "source": [
    "options(repr.plot.width=6, \n",
    "        repr.plot.height=5,\n",
    "        repr.plot.res = 200)\n",
    "\n",
    "netAnalysis_signalingRole_scatter(cellchat_tumour, signaling = c(\"NOTCH\"))"
   ]
  },
  {
   "cell_type": "code",
   "execution_count": null,
   "id": "e28a08ef",
   "metadata": {},
   "outputs": [],
   "source": [
    "options(repr.plot.width=14, \n",
    "        repr.plot.height=5,\n",
    "        repr.plot.res = 300)\n",
    "\n",
    "netAnalysis_signalingRole_network(cellchat_tumour, signaling = 'NOTCH', \n",
    "                                  width = 25, height = 5, \n",
    "                                  font.size = 10) "
   ]
  },
  {
   "cell_type": "code",
   "execution_count": null,
   "id": "d0f9d6c1",
   "metadata": {},
   "outputs": [],
   "source": [
    "options(repr.plot.width=5, \n",
    "        repr.plot.height=6,\n",
    "        repr.plot.res = 200)\n",
    "\n",
    "netAnalysis_contribution(cellchat_tumour, signaling = 'NOTCH')"
   ]
  },
  {
   "cell_type": "code",
   "execution_count": null,
   "id": "db1a48a6",
   "metadata": {},
   "outputs": [],
   "source": [
    "options(repr.plot.width=14, \n",
    "        repr.plot.height=20,\n",
    "        repr.plot.res = 200)\n",
    "\n",
    "netAnalysis_signalingRole_heatmap(cellchat_tumour, pattern = \"outgoing\", \n",
    "                                  width = 30, height = 40, font.size = 10#,\n",
    "                                  #signaling = shared_sig_pathways\n",
    "                                 )"
   ]
  },
  {
   "cell_type": "code",
   "execution_count": null,
   "id": "a4ab3d6f",
   "metadata": {},
   "outputs": [],
   "source": [
    "options(repr.plot.width=14, \n",
    "        repr.plot.height=20,\n",
    "        repr.plot.res = 200)\n",
    "\n",
    "netAnalysis_signalingRole_heatmap(cellchat_tumour, pattern = \"incoming\", \n",
    "                                  width = 30, height = 40, font.size = 10#,\n",
    "                                  #signaling = shared_sig_pathways\n",
    "                                 )"
   ]
  },
  {
   "cell_type": "markdown",
   "id": "7ea6b0aa",
   "metadata": {},
   "source": [
    "### merge objs"
   ]
  },
  {
   "cell_type": "code",
   "execution_count": null,
   "id": "305a75d1",
   "metadata": {},
   "outputs": [],
   "source": [
    "# merge\n",
    "object.list <- list(Normal = cellchat_normal, \n",
    "                    Tumour = cellchat_tumour\n",
    "                   )\n",
    "\n",
    "cellchat <- mergeCellChat(object.list, add.names = names(object.list), cell.prefix = FALSE)\n"
   ]
  },
  {
   "cell_type": "code",
   "execution_count": null,
   "id": "9c90a280",
   "metadata": {},
   "outputs": [],
   "source": [
    "cellchat "
   ]
  },
  {
   "cell_type": "code",
   "execution_count": 121,
   "id": "ca0aa1c4",
   "metadata": {},
   "outputs": [],
   "source": [
    "cellchat@idents$joint = factor(cellchat@idents$joint, \n",
    "                               levels = cell_type_order_with_Tumour_without_Monocytes)\n",
    "cellchat@idents$Normal = factor(cellchat@idents$Normal, \n",
    "                               levels = cell_type_order_with_Tumour_without_Monocytes)\n",
    "cellchat@idents$Tumour = factor(cellchat@idents$Tumour, \n",
    "                               levels = cell_type_order_with_Tumour_without_Monocytes)\n"
   ]
  },
  {
   "cell_type": "code",
   "execution_count": null,
   "id": "8523da11",
   "metadata": {},
   "outputs": [],
   "source": [
    "options(repr.plot.width=8, \n",
    "        repr.plot.height=8,\n",
    "        repr.plot.res = 200)\n",
    "\n",
    "gg1 <- compareInteractions(cellchat, show.legend = F, group = c(1,2), color.use = c('#808080','#ff7f0e'),\n",
    "                           digits = 2, size.text = 18)\n",
    "\n",
    "gg2 <- compareInteractions(cellchat, show.legend = F, group = c(1,2), measure = \"weight\",\n",
    "                           color.use = c('#808080','#ff7f0e'),\n",
    "                           digits = 2, size.text = 18)\n",
    "gg1 + gg2"
   ]
  },
  {
   "cell_type": "code",
   "execution_count": null,
   "id": "57c750c5",
   "metadata": {},
   "outputs": [],
   "source": [
    "colnames(cellchat@net[['Tumour']][['count']])"
   ]
  },
  {
   "cell_type": "code",
   "execution_count": null,
   "id": "dad5105f",
   "metadata": {},
   "outputs": [],
   "source": [
    "colnames(cellchat@net[['Normal']][['count']])"
   ]
  },
  {
   "cell_type": "code",
   "execution_count": null,
   "id": "b9779e63",
   "metadata": {},
   "outputs": [],
   "source": [
    "options(repr.plot.width=8, \n",
    "        repr.plot.height=8,\n",
    "        repr.plot.res = 200)\n",
    "\n",
    "netVisual_heatmap(cellchat, width = 16, font.size.title = 15, font.size = 12,\n",
    "                  color.use = cell_type_order_with_Tumour_without_Monocytes_color\n",
    ")"
   ]
  },
  {
   "cell_type": "code",
   "execution_count": null,
   "id": "1485c73d",
   "metadata": {},
   "outputs": [],
   "source": [
    "options(repr.plot.width=8, \n",
    "        repr.plot.height=8,\n",
    "        repr.plot.res = 200)\n",
    "\n",
    "netVisual_heatmap(cellchat, measure = \"weight\", width = 16, font.size.title = 15, font.size = 12,\n",
    "                 color.use = cell_type_order_with_Tumour_without_Monocytes_color)"
   ]
  },
  {
   "cell_type": "code",
   "execution_count": null,
   "id": "1c92efce",
   "metadata": {},
   "outputs": [],
   "source": [
    "options(repr.plot.width=16, \n",
    "        repr.plot.height=8,\n",
    "        repr.plot.res = 200)\n",
    "\n",
    "weight.max <- getMaxWeight(object.list, attribute = c(\"idents\",\"count\"))\n",
    "\n",
    "par(mfrow = c(1,2), xpd=TRUE)\n",
    "\n",
    "for (i in 1:length(object.list)) {\n",
    "  netVisual_circle(object.list[[i]]@net$count, weight.scale = T, label.edge= F, \n",
    "                   edge.weight.max = weight.max[2], edge.width.max = 12, \n",
    "                   #title.name = paste0(\"Number of interactions - \", names(object.list)[i]),\n",
    "                  color.use = cell_type_order_with_Tumour_without_Monocytes_color)\n",
    "}"
   ]
  },
  {
   "cell_type": "code",
   "execution_count": null,
   "id": "fb367b55",
   "metadata": {},
   "outputs": [],
   "source": [
    "# need centr\n",
    "options(repr.plot.width=16, \n",
    "        repr.plot.height=8,\n",
    "        repr.plot.res = 200)\n",
    "\n",
    "num.link <- sapply(object.list, function(x) {rowSums(x@net$count) + colSums(x@net$count)-diag(x@net$count)})\n",
    "\n",
    "#weight.MinMax <- c(min(num.link), max(num.link)) # control the dot size in the different datasets\n",
    "\n",
    "gg <- list()\n",
    "for (i in 1:length(object.list)) {\n",
    "  gg[[i]] <- netAnalysis_signalingRole_scatter(object.list[[i]], #title = names(object.list)[i], \n",
    "                                               font.size.title = 18, font.size = 15, label.size = 5,\n",
    "                                               color.use = cell_type_order_with_Tumour_without_Monocytes_color\n",
    "                                               #,weight.MinMax = weight.MinMax\n",
    "                                              ) + \n",
    "    xlim(0, 20) + \n",
    "    ylim(0, 12)\n",
    "}\n",
    "\n",
    "patchwork::wrap_plots(plots = gg)"
   ]
  },
  {
   "cell_type": "markdown",
   "id": "490f7206",
   "metadata": {},
   "source": [
    "#### similarity"
   ]
  },
  {
   "cell_type": "markdown",
   "id": "bb3e3b35",
   "metadata": {},
   "source": [
    "Functional similarity: High degree of functional similarity indicates major senders and receivers are similar, and it can be interpreted as the two signaling pathways or two ligand-receptor pairs exhibit similar and/or redundant roles."
   ]
  },
  {
   "cell_type": "code",
   "execution_count": null,
   "id": "ed91eee1",
   "metadata": {},
   "outputs": [],
   "source": [
    "cellchat <- computeNetSimilarityPairwise(cellchat, type = \"functional\")\n",
    "#> Compute signaling network similarity for datasets 1 2\n",
    "cellchat <- netEmbedding(cellchat, type = \"functional\")\n",
    "#> Manifold learning of the signaling networks for datasets 1 2\n",
    "cellchat <- netClustering(cellchat, type = \"functional\")\n",
    "#> Classification learning of the signaling networks for datasets 1 2"
   ]
  },
  {
   "cell_type": "code",
   "execution_count": null,
   "id": "384d9481",
   "metadata": {},
   "outputs": [],
   "source": [
    "options(repr.plot.width=12, \n",
    "        repr.plot.height=8,\n",
    "        repr.plot.res = 200)\n",
    "\n",
    "netVisual_embeddingPairwise(cellchat, type = \"functional\", label.size = 3)"
   ]
  },
  {
   "cell_type": "markdown",
   "id": "fb4f8422",
   "metadata": {},
   "source": [
    "Structural similarity: A structural similarity was used to compare their signaling network structure, without considering the similarity of senders and receivers. NB: Structural similarity analysis is applicable to multiple datsets with the same cell type composition or the vastly different cell type composition."
   ]
  },
  {
   "cell_type": "code",
   "execution_count": null,
   "id": "539349f8",
   "metadata": {},
   "outputs": [],
   "source": [
    "cellchat <- computeNetSimilarityPairwise(cellchat, type = \"structural\")\n",
    "#> Compute signaling network similarity for datasets 1 2\n",
    "cellchat <- netEmbedding(cellchat, type = \"structural\")\n",
    "#> Manifold learning of the signaling networks for datasets 1 2\n",
    "cellchat <- netClustering(cellchat, type = \"structural\")\n",
    "#> Classification learning of the signaling networks for datasets 1 2"
   ]
  },
  {
   "cell_type": "code",
   "execution_count": null,
   "id": "d41fa31f",
   "metadata": {},
   "outputs": [],
   "source": [
    "options(repr.plot.width=12, \n",
    "        repr.plot.height=8,\n",
    "        repr.plot.res = 200)\n",
    "\n",
    "netVisual_embeddingPairwise(cellchat, type = \"structural\", label.size = 3.5)"
   ]
  },
  {
   "cell_type": "code",
   "execution_count": null,
   "id": "2c13be93",
   "metadata": {},
   "outputs": [],
   "source": [
    "rankSimilarity(cellchat, type = \"functional\")"
   ]
  },
  {
   "cell_type": "code",
   "execution_count": null,
   "id": "57ec713f",
   "metadata": {},
   "outputs": [],
   "source": [
    "rankSimilarity(cellchat, type = \"structural\")"
   ]
  },
  {
   "cell_type": "markdown",
   "id": "d30fc69d",
   "metadata": {},
   "source": [
    "#### information flows (sum of communication probability among all pairs == total weights)\n",
    "- conserved and context-specifc signalling pathways "
   ]
  },
  {
   "cell_type": "code",
   "execution_count": null,
   "id": "0c0b1bab",
   "metadata": {},
   "outputs": [],
   "source": [
    "options(repr.plot.width=12, \n",
    "        repr.plot.height=16,\n",
    "        repr.plot.res = 200)\n",
    "\n",
    "gg1 <- rankNet(cellchat, mode = \"comparison\", stacked = T, do.stat = TRUE, font.size = 10, measure = \"count\",\n",
    "              color.use = c('#808080', '#ff7f0e'))\n",
    "gg2 <- rankNet(cellchat, mode = \"comparison\", stacked = F, do.stat = TRUE, font.size = 10, measure = \"count\",\n",
    "              color.use = c('#808080', '#ff7f0e'))\n",
    "gg1 + gg2"
   ]
  },
  {
   "cell_type": "code",
   "execution_count": null,
   "id": "eb5184a0",
   "metadata": {},
   "outputs": [],
   "source": [
    "gg3 <- rankNet(cellchat, mode = \"comparison\", stacked = T, do.stat = TRUE, font.size = 10, measure = \"weight\",\n",
    "              color.use = c('#808080', '#ff7f0e'))\n",
    "gg4 <- rankNet(cellchat, mode = \"comparison\", stacked = F, do.stat = TRUE, font.size = 10, measure = \"weight\",\n",
    "              color.use = c('#808080', '#ff7f0e'))\n",
    "gg3 + gg4"
   ]
  },
  {
   "cell_type": "markdown",
   "id": "8d6de6d3",
   "metadata": {},
   "source": [
    "### pathways vs cell groups"
   ]
  },
  {
   "cell_type": "code",
   "execution_count": 138,
   "id": "f67f3e0f",
   "metadata": {},
   "outputs": [],
   "source": [
    "i = 1\n",
    "pathway.union <- union(object.list[[i]]@netP$pathways, object.list[[i+1]]@netP$pathways)"
   ]
  },
  {
   "cell_type": "code",
   "execution_count": null,
   "id": "47e9a20e",
   "metadata": {},
   "outputs": [],
   "source": [
    "options(repr.plot.width=12, \n",
    "        repr.plot.height=16,\n",
    "        repr.plot.res = 200)\n",
    "\n",
    "netAnalysis_signalingRole_heatmap(object.list[[1]], pattern = \"all\", \n",
    "                                        signaling = pathway.union, title = names(object.list)[1],  \n",
    "                                  width = 20, height = 35, color.heatmap = \"OrRd\", font.size = 10,\n",
    "                                 color.use = cell_type_order_with_Tumour_without_Monocytes_color)"
   ]
  },
  {
   "cell_type": "code",
   "execution_count": null,
   "id": "08e769fd",
   "metadata": {},
   "outputs": [],
   "source": [
    "netAnalysis_signalingRole_heatmap(object.list[[2]], pattern = \"all\", \n",
    "                                        signaling = pathway.union, \n",
    "                                  title = names(object.list)[2], \n",
    "                                  width = 20, height = 35, color.heatmap = \"OrRd\", font.size = 10,\n",
    "                                  color.use = cell_type_order_with_Tumour_without_Monocytes_color)"
   ]
  },
  {
   "cell_type": "markdown",
   "id": "2f6c35db",
   "metadata": {},
   "source": [
    "### LR pairs from some cell groups to some cell groups (differences in community prob)"
   ]
  },
  {
   "cell_type": "code",
   "execution_count": null,
   "id": "e5e12834",
   "metadata": {},
   "outputs": [],
   "source": [
    "length(levels(cellchat@idents$joint))"
   ]
  },
  {
   "cell_type": "code",
   "execution_count": 142,
   "id": "cb113124",
   "metadata": {},
   "outputs": [],
   "source": [
    "shared_sig_pathways = intersect(sort(cellchat@netP$Normal$pathways), sort(cellchat@netP$Tumour$pathways))"
   ]
  },
  {
   "cell_type": "code",
   "execution_count": null,
   "id": "c508a39d",
   "metadata": {},
   "outputs": [],
   "source": [
    "(shared_sig_pathways) # 88"
   ]
  },
  {
   "cell_type": "code",
   "execution_count": null,
   "id": "777c4e62",
   "metadata": {},
   "outputs": [],
   "source": [
    "data.frame(levels(cellchat@idents$joint), c(1:20))"
   ]
  },
  {
   "cell_type": "code",
   "execution_count": null,
   "id": "0dd51376",
   "metadata": {},
   "outputs": [],
   "source": [
    "# from Tumour to everything\n",
    "options(repr.plot.width=12, \n",
    "        repr.plot.height=25,\n",
    "        repr.plot.res = 200)\n",
    "\n",
    "netVisual_bubble(cellchat, sources.use = 20, targets.use = c(1:20),  comparison = c(1, 2), angle.x = 45)"
   ]
  },
  {
   "cell_type": "code",
   "execution_count": null,
   "id": "a5c5b59b",
   "metadata": {},
   "outputs": [],
   "source": [
    "# from Fibroblast to Stem/Tumour (the targets.use doesnt let me do one cell group...)\n",
    "options(repr.plot.width=12, \n",
    "        repr.plot.height=20,\n",
    "        repr.plot.res = 200)\n",
    "\n",
    "netVisual_bubble(cellchat, sources.use = 11, targets.use = c(13,20),  comparison = c(1, 2), angle.x = 45)"
   ]
  },
  {
   "cell_type": "markdown",
   "id": "2c4179ad",
   "metadata": {},
   "source": [
    "### differential at pathway level"
   ]
  },
  {
   "cell_type": "code",
   "execution_count": null,
   "id": "ebdffbfa",
   "metadata": {},
   "outputs": [],
   "source": [
    "# plot all the significant pathways\n",
    "options(repr.plot.width=12, \n",
    "        repr.plot.height=6,\n",
    "        repr.plot.res = 200)\n",
    "\n",
    "pdf(paste0(new_data_folder,'/20231129_cellchat_pathway_cell_groups_signals.pdf'), paper = 'a4r')\n",
    "\n",
    "for(i in shared_sig_pathways){\n",
    "    pathways.show = i\n",
    "    \n",
    "    weight.max <- getMaxWeight(object.list, slot.name = c(\"netP\"), attribute = pathways.show) \n",
    "    # control the edge weights across different datasets\n",
    "    \n",
    "    par(mfrow = c(1,2), xpd=TRUE)\n",
    "    \n",
    "    for (i in 1:length(object.list)) {\n",
    "        netVisual_aggregate(object.list[[i]], signaling = pathways.show, layout = \"circle\", \n",
    "                            edge.weight.max = weight.max[1], edge.width.max = 10, \n",
    "                            signaling.name = paste(pathways.show, names(object.list)[i]),\n",
    "                            color.use = cell_type_order_with_Tumour_without_Monocytes_color)\n",
    "    }\n",
    "}\n",
    "dev.off()"
   ]
  },
  {
   "cell_type": "markdown",
   "id": "fed4453e",
   "metadata": {},
   "source": [
    "### identify dysfunctional signaling by using differential expression"
   ]
  },
  {
   "cell_type": "code",
   "execution_count": null,
   "id": "46a70d62",
   "metadata": {},
   "outputs": [],
   "source": [
    "# define a positive dataset, i.e., the dataset with positive fold change against the other dataset\n",
    "pos.dataset = \"Tumour\"\n",
    "# define a char name used for storing the results of differential expression analysis\n",
    "features.name = pos.dataset\n",
    "# perform differential expression analysis\n",
    "cellchat <- identifyOverExpressedGenes(cellchat, group.dataset = \"datasets\", \n",
    "                                       pos.dataset = pos.dataset, \n",
    "                                       features.name = features.name, only.pos = FALSE, \n",
    "                                       thresh.pc = 0.1, thresh.fc = 0.1, thresh.p = 1)\n",
    "\n",
    "#> Use the joint cell labels from the merged CellChat object\n",
    "# map the results of differential expression analysis onto the inferred cell-cell communications to easily manage/subset the ligand-receptor pairs of interest\n",
    "net <- netMappingDEG(cellchat, features.name = features.name)\n",
    "# extract the ligand-receptor pairs with upregulated ligands \n",
    "net.up <- subsetCommunication(cellchat, net = net, datasets = \"Tumour\",\n",
    "                              ligand.logFC = 0.2, receptor.logFC = NULL)\n",
    "\n",
    "net.down <- subsetCommunication(cellchat, net = net, datasets = \"Normal\",\n",
    "                                ligand.logFC = -0.2, receptor.logFC = NULL)\n",
    "\n"
   ]
  },
  {
   "cell_type": "code",
   "execution_count": 149,
   "id": "547d955f",
   "metadata": {},
   "outputs": [],
   "source": [
    "# keep only expressed (not NA) receptors\n",
    "net.up = net.up[which(net.up$receptor.logFC != 'NA'),] #1855 "
   ]
  },
  {
   "cell_type": "code",
   "execution_count": 150,
   "id": "63630734",
   "metadata": {},
   "outputs": [],
   "source": [
    "net.down = net.down[which(net.down$receptor.logFC != 'NA'),] #411"
   ]
  },
  {
   "cell_type": "code",
   "execution_count": 151,
   "id": "7ae32429",
   "metadata": {},
   "outputs": [],
   "source": [
    "gene.up <- extractGeneSubsetFromPair(net.up, cellchat)\n",
    "gene.down <- extractGeneSubsetFromPair(net.down, cellchat)"
   ]
  },
  {
   "cell_type": "code",
   "execution_count": 152,
   "id": "2fe0b7d8",
   "metadata": {},
   "outputs": [],
   "source": [
    "pairLR.use.up = net.up[, \"interaction_name\", drop = F]\n",
    "pairLR.use.down = net.down[, \"interaction_name\", drop = F]"
   ]
  },
  {
   "cell_type": "code",
   "execution_count": null,
   "id": "68333cf2",
   "metadata": {},
   "outputs": [],
   "source": [
    "options(repr.plot.width=12, \n",
    "        repr.plot.height=20,\n",
    "        repr.plot.res = 200)\n",
    "#' @param remove.isolate whether remove the entire empty column, i.e., communication between certain cell groups\n",
    "gg1 <- netVisual_bubble(cellchat, pairLR.use = pairLR.use.up, sources.use = 11, targets.use = 13, \n",
    "                        comparison = c(1, 2),  angle.x = 90, remove.isolate = T,\n",
    "                        title.name = paste0(\"Up-regulated signaling in \", names(object.list)[2]))\n",
    "\n",
    "gg2 <- netVisual_bubble(cellchat, pairLR.use = pairLR.use.down, sources.use = 11, targets.use = 13, \n",
    "                        comparison = c(1, 2),  angle.x = 90, remove.isolate = T,\n",
    "                        title.name = paste0(\"Down-regulated signaling in \", names(object.list)[2]))\n",
    "\n",
    "gg1 + gg2"
   ]
  },
  {
   "cell_type": "code",
   "execution_count": null,
   "id": "a31728ca",
   "metadata": {},
   "outputs": [],
   "source": [
    "# Chord diagram\n",
    "options(repr.plot.width=10, \n",
    "        repr.plot.height=10,\n",
    "        repr.plot.res = 200)\n",
    "\n",
    "netVisual_chord_gene(object.list[[2]], sources.use = 11, targets.use = 13, \n",
    "                     slot.name = 'net', net = net.up, lab.cex = 0.8, small.gap = 3.5, \n",
    "                     title.name = paste0(\"Up-regulated signaling in \", names(object.list)[2]))"
   ]
  },
  {
   "cell_type": "code",
   "execution_count": null,
   "id": "10483b76",
   "metadata": {},
   "outputs": [],
   "source": [
    "netVisual_chord_gene(object.list[[1]], sources.use = 11, targets.use = 13, \n",
    "                     slot.name = 'net', net = net.down, lab.cex = 0.8, small.gap = 3.5, \n",
    "                     title.name = paste0(\"Down-regulated signaling in \", names(object.list)[2]))"
   ]
  },
  {
   "cell_type": "code",
   "execution_count": null,
   "id": "22722608",
   "metadata": {},
   "outputs": [],
   "source": [
    "## Shut down parallel workers\n",
    "future::plan(\"sequential\")"
   ]
  }
 ],
 "metadata": {
  "kernelspec": {
   "display_name": "cellchat",
   "language": "R",
   "name": "cellchat"
  },
  "language_info": {
   "codemirror_mode": "r",
   "file_extension": ".r",
   "mimetype": "text/x-r-source",
   "name": "R",
   "pygments_lexer": "r",
   "version": "4.1.2"
  }
 },
 "nbformat": 4,
 "nbformat_minor": 5
}
