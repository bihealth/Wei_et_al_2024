{
 "cells": [
  {
   "cell_type": "code",
   "execution_count": null,
   "id": "fe94634c",
   "metadata": {},
   "outputs": [],
   "source": [
    "import os\n",
    "import sys\n",
    "print(\"Python version\" + sys.version)\n",
    "os.getcwd()\n",
    "print(sys.executable)"
   ]
  },
  {
   "cell_type": "code",
   "execution_count": null,
   "id": "1c1ca6de",
   "metadata": {},
   "outputs": [],
   "source": [
    "import numpy as np\n",
    "np.random.seed(123)\n",
    "import pandas as pd\n",
    "import scipy\n",
    "import itertools\n",
    "\n",
    "import umap\n",
    "import matplotlib.pyplot as plt\n",
    "%matplotlib inline\n",
    "import seaborn as sns\n",
    "\n",
    "import scanpy as sc\n",
    "import anndata as ad\n",
    "import scvelo as scv\n",
    "from tqdm.notebook import tqdm\n",
    "\n",
    "from pathlib import Path"
   ]
  },
  {
   "cell_type": "code",
   "execution_count": null,
   "id": "3ab281f0",
   "metadata": {},
   "outputs": [],
   "source": [
    "import scrublet as scr"
   ]
  },
  {
   "cell_type": "code",
   "execution_count": null,
   "id": "56693e3e",
   "metadata": {},
   "outputs": [],
   "source": [
    "sc.settings.verbosity = 1\n",
    "sc.logging.print_header()\n",
    "sc.settings.set_figure_params(dpi=80, facecolor='white')"
   ]
  },
  {
   "cell_type": "code",
   "execution_count": null,
   "id": "839e92b2",
   "metadata": {},
   "outputs": [],
   "source": [
    "# remove weird grid from scvelo\n",
    "plt.rcParams['axes.grid'] = False"
   ]
  },
  {
   "cell_type": "markdown",
   "id": "7852e4f3",
   "metadata": {},
   "source": [
    "from cellbender_adata_fix import *"
   ]
  },
  {
   "cell_type": "code",
   "execution_count": null,
   "id": "17b56842",
   "metadata": {},
   "outputs": [],
   "source": [
    "# revised from Stefan's cell type signature\n",
    "signatures_path_ = '../cell_type_from_stefan/scrnaseq_signature_collection/'\n",
    "from score_and_classify import *"
   ]
  },
  {
   "cell_type": "code",
   "execution_count": null,
   "id": "b6f316da",
   "metadata": {},
   "outputs": [],
   "source": [
    "data_folder = '/fast/users/twei_m/work/crc/datasets'"
   ]
  },
  {
   "cell_type": "code",
   "execution_count": null,
   "id": "104dfba6",
   "metadata": {},
   "outputs": [],
   "source": [
    "new_data_folder = '/fast/users/twei_m/work/crc/datasets_new_preprocessing'"
   ]
  },
  {
   "cell_type": "markdown",
   "id": "d4aa9c8e",
   "metadata": {},
   "source": [
    "### refer to 20221118_icms_classifier.ipynb"
   ]
  },
  {
   "cell_type": "markdown",
   "id": "68df1aab",
   "metadata": {},
   "source": [
    "#### read Joanito et al, assumed only processed by CellRanger"
   ]
  },
  {
   "cell_type": "code",
   "execution_count": null,
   "id": "45b09585",
   "metadata": {},
   "outputs": [],
   "source": [
    "import h5py"
   ]
  },
  {
   "cell_type": "code",
   "execution_count": null,
   "id": "91414e31",
   "metadata": {},
   "outputs": [],
   "source": [
    "from scipy.sparse import csr_matrix"
   ]
  },
  {
   "cell_type": "code",
   "execution_count": null,
   "id": "420de224",
   "metadata": {},
   "outputs": [],
   "source": [
    "f = h5py.File(Path(data_folder)/'icms/Epithelial_Count_matrix.h5', 'r')"
   ]
  },
  {
   "cell_type": "code",
   "execution_count": null,
   "id": "211fa6b9",
   "metadata": {},
   "outputs": [],
   "source": [
    "list(f.keys())"
   ]
  },
  {
   "cell_type": "code",
   "execution_count": null,
   "id": "641bf5f3",
   "metadata": {},
   "outputs": [],
   "source": [
    "list(f['matrix'])"
   ]
  },
  {
   "cell_type": "code",
   "execution_count": null,
   "id": "addf5ae4",
   "metadata": {},
   "outputs": [],
   "source": [
    "def _collect_datasets(dsets: dict, group: h5py.Group):\n",
    "    for k, v in group.items():\n",
    "        if isinstance(v, h5py.Dataset):\n",
    "            dsets[k] = v[:]\n",
    "        else:\n",
    "            _collect_datasets(dsets, v)"
   ]
  },
  {
   "cell_type": "code",
   "execution_count": null,
   "id": "c044141a",
   "metadata": {},
   "outputs": [],
   "source": [
    "with h5py.File(Path(data_folder)/'icms/Epithelial_Count_matrix.h5', 'r') as f:\n",
    "    dsets = {}\n",
    "    _collect_datasets(dsets, f[\"matrix\"])\n",
    "    M, N = dsets['shape']\n",
    "    data = dsets['data']\n",
    "    matrix = csr_matrix(\n",
    "                (data, dsets['indices'], dsets['indptr']),\n",
    "                shape=(N, M),\n",
    "            )"
   ]
  },
  {
   "cell_type": "code",
   "execution_count": null,
   "id": "a6c66367",
   "metadata": {},
   "outputs": [],
   "source": [
    "joanito = ad.AnnData(\n",
    "                matrix,\n",
    "                obs=dict(obs_names=dsets['barcodes'].astype(str)),\n",
    "                var=dict(\n",
    "                    var_names=dsets['name'].astype(str),\n",
    "                    #gene_ids=dsets['id'].astype(str),\n",
    "                    feature_types=dsets['feature_type'].astype(str),\n",
    "                    genome=dsets['genome'].astype(str),\n",
    "                ),\n",
    "            )"
   ]
  },
  {
   "cell_type": "markdown",
   "id": "68ff3a0e",
   "metadata": {},
   "source": [
    "joanito = anndata_from_h5(Path(data_folder)/'icms/Epithelial_Count_matrix.h5')"
   ]
  },
  {
   "cell_type": "code",
   "execution_count": null,
   "id": "436013f6",
   "metadata": {},
   "outputs": [],
   "source": [
    "joanito.shape"
   ]
  },
  {
   "cell_type": "code",
   "execution_count": null,
   "id": "b4526e8b",
   "metadata": {},
   "outputs": [],
   "source": [
    "metadata = pd.read_csv(Path(data_folder)/'icms/Epithelial_metadata.csv', index_col=0)"
   ]
  },
  {
   "cell_type": "code",
   "execution_count": null,
   "id": "754e2b00",
   "metadata": {},
   "outputs": [],
   "source": [
    "metadata['dataset'].value_counts()"
   ]
  },
  {
   "cell_type": "code",
   "execution_count": null,
   "id": "a43783db",
   "metadata": {},
   "outputs": [],
   "source": [
    "metadata = metadata.reindex(joanito.obs.index)"
   ]
  },
  {
   "cell_type": "code",
   "execution_count": null,
   "id": "13604264",
   "metadata": {},
   "outputs": [],
   "source": [
    "joanito.obs = metadata"
   ]
  },
  {
   "cell_type": "code",
   "execution_count": null,
   "id": "71d1b9bc",
   "metadata": {},
   "outputs": [],
   "source": [
    "joanito.obs['percent.mt'].hist();"
   ]
  },
  {
   "cell_type": "code",
   "execution_count": null,
   "id": "98d9b6bf",
   "metadata": {},
   "outputs": [],
   "source": [
    "joanito.obs['sample.ID'].value_counts().hist();"
   ]
  },
  {
   "cell_type": "code",
   "execution_count": null,
   "id": "dabb0c62",
   "metadata": {},
   "outputs": [],
   "source": [
    "joanito.var['mt'] = joanito.var_names.str.startswith('MT-')\n",
    "sc.pp.calculate_qc_metrics(joanito, qc_vars=['mt'], percent_top=None, log1p=False, inplace=True)"
   ]
  },
  {
   "cell_type": "code",
   "execution_count": null,
   "id": "666e9457",
   "metadata": {},
   "outputs": [],
   "source": [
    "sc.pl.violin(joanito, ['n_genes_by_counts', 'total_counts', 'pct_counts_mt', 'percent.mt'],\n",
    "             jitter=0.4, multi_panel=True)"
   ]
  },
  {
   "cell_type": "code",
   "execution_count": null,
   "id": "7442cede",
   "metadata": {},
   "outputs": [],
   "source": [
    "joanito.obs['sample.ID'].value_counts().hist();"
   ]
  },
  {
   "cell_type": "markdown",
   "id": "b1cb7860",
   "metadata": {},
   "source": [
    "### no scrublet because some samples have really low number of cells"
   ]
  },
  {
   "cell_type": "code",
   "execution_count": null,
   "id": "91355af3",
   "metadata": {},
   "outputs": [],
   "source": [
    "joanito.layers['counts'] = joanito.X.copy()"
   ]
  },
  {
   "cell_type": "code",
   "execution_count": null,
   "id": "f77f5caa",
   "metadata": {},
   "outputs": [],
   "source": [
    "joanito.shape"
   ]
  },
  {
   "cell_type": "code",
   "execution_count": null,
   "id": "c9deac5a",
   "metadata": {},
   "outputs": [],
   "source": [
    "sc.pp.filter_cells(joanito, min_counts=1000)  # uhlitz\n",
    "#sc.pp.filter_cells(adata_all, max_counts=50000)  # uhlitz\n",
    "sc.pp.filter_cells(joanito, min_genes=500)  # uhlitz\n",
    "#sc.pp.filter_cells(adata_all, max_genes=5000)  # uhlitz"
   ]
  },
  {
   "cell_type": "code",
   "execution_count": null,
   "id": "44f236ed",
   "metadata": {},
   "outputs": [],
   "source": [
    "joanito.shape"
   ]
  },
  {
   "cell_type": "code",
   "execution_count": null,
   "id": "42c413a8",
   "metadata": {},
   "outputs": [],
   "source": [
    "sc.pp.filter_genes(joanito, min_cells=1)"
   ]
  },
  {
   "cell_type": "code",
   "execution_count": null,
   "id": "bb0716d1",
   "metadata": {},
   "outputs": [],
   "source": [
    "joanito.shape"
   ]
  },
  {
   "cell_type": "code",
   "execution_count": null,
   "id": "47ca0820",
   "metadata": {},
   "outputs": [],
   "source": [
    "sc.pp.normalize_per_cell(joanito)\n",
    "sc.pp.log1p(joanito)"
   ]
  },
  {
   "cell_type": "code",
   "execution_count": null,
   "id": "7a5b702c",
   "metadata": {},
   "outputs": [],
   "source": [
    "score_cell_cycle(joanito, signatures_path_)"
   ]
  },
  {
   "cell_type": "code",
   "execution_count": null,
   "id": "f8b33193",
   "metadata": {},
   "outputs": [],
   "source": [
    "joanito.obs['sample.ID'].value_counts()"
   ]
  },
  {
   "cell_type": "code",
   "execution_count": null,
   "id": "8ad4ac95",
   "metadata": {},
   "outputs": [],
   "source": [
    "joanito.obs['patient.ID'].value_counts()"
   ]
  },
  {
   "cell_type": "code",
   "execution_count": null,
   "id": "fc8ec290",
   "metadata": {},
   "outputs": [],
   "source": [
    "sc.pp.highly_variable_genes(joanito, n_top_genes=2000, batch_key= 'patient.ID')\n",
    "# cannot use sample ID as batch key because some only have one cell"
   ]
  },
  {
   "cell_type": "code",
   "execution_count": null,
   "id": "aed30398",
   "metadata": {},
   "outputs": [],
   "source": [
    "sc.tl.pca(joanito, svd_solver='arpack', n_comps = 50, use_highly_variable=True)\n",
    "sc.pl.pca_variance_ratio(joanito, log=False)"
   ]
  },
  {
   "cell_type": "code",
   "execution_count": null,
   "id": "8cb2fd8f",
   "metadata": {},
   "outputs": [],
   "source": [
    "sc.pp.neighbors(joanito, n_neighbors=50, n_pcs=30)\n",
    "sc.tl.umap(joanito)\n",
    "sc.tl.louvain(joanito, key_added='louvain', resolution=1)\n",
    "sc.tl.leiden(joanito, key_added='leiden', resolution=1)"
   ]
  },
  {
   "cell_type": "markdown",
   "id": "d717b4cb",
   "metadata": {},
   "source": [
    "#### clean up a bit for later concat"
   ]
  },
  {
   "cell_type": "code",
   "execution_count": null,
   "id": "5d9ff688",
   "metadata": {},
   "outputs": [],
   "source": [
    "joanito.obs['sample.origin'].cat.reorder_categories(['Normal', 'Tumor', 'Tumor-2', 'LymphNode'], inplace=True)"
   ]
  },
  {
   "cell_type": "code",
   "execution_count": null,
   "id": "4623c7ea",
   "metadata": {},
   "outputs": [],
   "source": [
    "joanito.obs['MS_status'] = joanito.obs['msi'].cat.rename_categories({'MSI-H':'MSI'})"
   ]
  },
  {
   "cell_type": "code",
   "execution_count": null,
   "id": "0d5b3e52",
   "metadata": {},
   "outputs": [],
   "source": [
    "joanito.obs['MS_status'].value_counts(dropna=False)"
   ]
  },
  {
   "cell_type": "code",
   "execution_count": null,
   "id": "fe987658",
   "metadata": {},
   "outputs": [],
   "source": [
    "joanito.obs['sample'] = joanito.obs['sample.ID']\n",
    "joanito.obs['patient'] = joanito.obs['patient.ID']\n",
    "joanito.obs['sample_origin'] = joanito.obs['sample.origin']"
   ]
  },
  {
   "cell_type": "markdown",
   "id": "f637b512",
   "metadata": {},
   "source": [
    "joanito.write(os.path.join(new_data_folder, 'iCMS', '202305_joanito_epi_mtx_processed.h5'))"
   ]
  }
 ],
 "metadata": {
  "kernelspec": {
   "display_name": "sc",
   "language": "python",
   "name": "sc"
  },
  "language_info": {
   "codemirror_mode": {
    "name": "ipython",
    "version": 3
   },
   "file_extension": ".py",
   "mimetype": "text/x-python",
   "name": "python",
   "nbconvert_exporter": "python",
   "pygments_lexer": "ipython3",
   "version": "3.9.10"
  }
 },
 "nbformat": 4,
 "nbformat_minor": 5
}
