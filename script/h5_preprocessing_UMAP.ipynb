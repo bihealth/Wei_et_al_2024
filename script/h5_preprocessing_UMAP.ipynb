{
 "cells": [
  {
   "cell_type": "code",
   "execution_count": null,
   "id": "6bb55f42",
   "metadata": {},
   "outputs": [],
   "source": [
    "import os\n",
    "import sys\n",
    "print(\"Python version\" + sys.version)\n",
    "os.getcwd()\n",
    "print(sys.executable)"
   ]
  },
  {
   "cell_type": "code",
   "execution_count": null,
   "id": "a144121d",
   "metadata": {},
   "outputs": [],
   "source": [
    "import numpy as np\n",
    "np.random.seed(123)\n",
    "import pandas as pd\n",
    "import scipy\n",
    "import itertools\n",
    "\n",
    "import umap\n",
    "import matplotlib.pyplot as plt\n",
    "%matplotlib inline\n",
    "import seaborn as sns\n",
    "\n",
    "import scanpy as sc\n",
    "import anndata as ad\n",
    "import scvelo as scv\n",
    "from tqdm.notebook import tqdm\n",
    "\n",
    "from pathlib import Path"
   ]
  },
  {
   "cell_type": "code",
   "execution_count": null,
   "id": "72f2a8ae",
   "metadata": {},
   "outputs": [],
   "source": [
    "from IPython.display import clear_output"
   ]
  },
  {
   "cell_type": "code",
   "execution_count": null,
   "id": "53c6f839",
   "metadata": {},
   "outputs": [],
   "source": [
    "from muon import prot as pt\n",
    "from joblib import dump, load"
   ]
  },
  {
   "cell_type": "code",
   "execution_count": null,
   "id": "c63a36b2",
   "metadata": {},
   "outputs": [],
   "source": [
    "import scrublet as scr"
   ]
  },
  {
   "cell_type": "code",
   "execution_count": null,
   "id": "b03b02a4",
   "metadata": {},
   "outputs": [],
   "source": [
    "sc.settings.verbosity = 1\n",
    "sc.logging.print_header()\n",
    "sc.settings.set_figure_params(dpi=80, facecolor='white')"
   ]
  },
  {
   "cell_type": "code",
   "execution_count": null,
   "id": "21488835",
   "metadata": {},
   "outputs": [],
   "source": [
    "# remove weird grid from scvelo\n",
    "plt.rcParams['axes.grid'] = False"
   ]
  },
  {
   "cell_type": "code",
   "execution_count": null,
   "id": "c1353331",
   "metadata": {},
   "outputs": [],
   "source": [
    "import itertools"
   ]
  },
  {
   "cell_type": "code",
   "execution_count": null,
   "id": "64399cef",
   "metadata": {},
   "outputs": [],
   "source": [
    "from vcf_functions import *"
   ]
  },
  {
   "cell_type": "code",
   "execution_count": null,
   "id": "ae73ae60",
   "metadata": {},
   "outputs": [],
   "source": [
    "from scitcem_utils import *"
   ]
  },
  {
   "cell_type": "code",
   "execution_count": null,
   "id": "cb7c1ddb",
   "metadata": {},
   "outputs": [],
   "source": [
    "# revised from Stefan's cell type signature\n",
    "signatures_path_ = '../cell_type_from_stefan/scrnaseq_signature_collection/'\n",
    "from score_and_classify import *"
   ]
  },
  {
   "cell_type": "markdown",
   "id": "9b34891f",
   "metadata": {},
   "source": [
    "### variables"
   ]
  },
  {
   "cell_type": "code",
   "execution_count": null,
   "id": "229e7995",
   "metadata": {},
   "outputs": [],
   "source": [
    "data_folder = '/fast/users/twei_m/work/crc/datasets'"
   ]
  },
  {
   "cell_type": "code",
   "execution_count": null,
   "id": "61ad30eb",
   "metadata": {},
   "outputs": [],
   "source": [
    "new_data_folder = '/fast/users/twei_m/work/crc/datasets_new_preprocessing'"
   ]
  },
  {
   "cell_type": "code",
   "execution_count": null,
   "id": "f0210388",
   "metadata": {},
   "outputs": [],
   "source": [
    "tsamples = ['p007t', 'p008t', 'p009t1','p009t2', 'p013t', 'p014t', 'p016t', \n",
    "           'p020t', 'p021t', 'p026t', 'p035t'] "
   ]
  },
  {
   "cell_type": "code",
   "execution_count": null,
   "id": "839596df",
   "metadata": {},
   "outputs": [],
   "source": [
    "samples = ['p007n', 'p008n', 'p009n1', 'p009n2','p013n', 'p014n', 'p016n', \n",
    "           'p020n', 'p021n'] + tsamples"
   ]
  },
  {
   "cell_type": "code",
   "execution_count": null,
   "id": "c121f5f9",
   "metadata": {},
   "outputs": [],
   "source": [
    "MSI_list = ['p026', 'p035', 'p050']"
   ]
  },
  {
   "cell_type": "code",
   "execution_count": null,
   "id": "abe4942a",
   "metadata": {},
   "outputs": [],
   "source": [
    "demux_sample = ['p020n', 'p021n', 'p020t', 'p021t']"
   ]
  },
  {
   "cell_type": "markdown",
   "id": "a6dba37e",
   "metadata": {},
   "source": [
    "### add protein info to demux_sample and add to adata list"
   ]
  },
  {
   "cell_type": "code",
   "execution_count": null,
   "id": "8aaad079",
   "metadata": {},
   "outputs": [],
   "source": [
    "def get_adata(datafolder, sample, scrublet_threshold=None):\n",
    "\n",
    "    # read\n",
    "    adata = sc.read_10x_h5(datafolder/f'CellBender/{sample}/cellbender_matrix_filtered.h5', gex_only=False)\n",
    "    \n",
    "    gene = adata.copy()\n",
    "        \n",
    "    gene.layers[\"CB_counts\"] = gene.X.copy()\n",
    "    \n",
    "    gene.obs['sample'] = sample\n",
    "    gene.obs['sample_origin'] = ['tumour' if sample[4:5] == 't' else 'normal'][0]\n",
    "    gene.obs['patient'] = sample[:4]\n",
    "    gene.obs['MS_status'] = ['MSI' if sample[:4] in MSI_list else 'MSS'][0]\n",
    "\n",
    "    # sample + cell id\n",
    "    gene.obs_names = [sample + ':' + x.split('-')[0] for x in gene.obs_names] # do this after getting cell id list\n",
    "    gene.var_names_make_unique()\n",
    "    \n",
    "    # just empty row for concat\n",
    "    gene.obs['target_hashtag'] = None\n",
    "    gene.obs['second_hashtag'] = None\n",
    "    gene.obs['high_prob_warm'] = None\n",
    "    \n",
    "    # scrublet score\n",
    "    scrub = scr.Scrublet(gene.X)\n",
    "        \n",
    "    doublet_scores, predicted_doublets = scrub.scrub_doublets(get_doublet_neighbor_parents=False)\n",
    "\n",
    "    if scrublet_threshold:\n",
    "        predicted_doublets = scrub.call_doublets(threshold=scrublet_threshold)\n",
    "        \n",
    "    gene.obs[['doublet_score', 'predicted_doublet']] = pd.DataFrame({'doublet_score': doublet_scores, \n",
    "                                                                     'predicted_doublet': predicted_doublets}, \n",
    "                                                                    index=gene.obs_names)\n",
    "    \n",
    "    # add some QC plots\n",
    "    scrub.plot_histogram()\n",
    "    \n",
    "    scrub.set_embedding('UMAP', scr.get_umap(scrub.manifold_obs_, 10, min_dist=0.3))\n",
    "    \n",
    "    scrub.plot_embedding('UMAP', order_points=True)\n",
    "\n",
    "    return gene"
   ]
  },
  {
   "cell_type": "code",
   "execution_count": null,
   "id": "9e509294",
   "metadata": {},
   "outputs": [],
   "source": [
    "def get_adata_and_protein(datafolder, sample, target_hashtag, second_hashtag, scrublet_threshold=None):\n",
    "\n",
    "    # read\n",
    "    adata = sc.read_10x_h5(datafolder/f'CellBender/{sample}/cellbender_matrix_filtered.h5', gex_only=False)\n",
    "    \n",
    "    gene = adata.copy()\n",
    "        \n",
    "    gene.layers[\"CB_counts\"] = gene.X.copy()\n",
    "    \n",
    "    gene.obs['sample'] = sample\n",
    "    gene.obs['sample_origin'] = ['tumour' if sample[4:5] == 't' else 'normal'][0]\n",
    "    gene.obs['patient'] = sample[:4]\n",
    "    gene.obs['MS_status'] = ['MSI' if sample[:4] in MSI_list else 'MSS'][0]\n",
    "\n",
    "    \n",
    "    # protein part\n",
    "    protein = adata[:, adata.var[\"feature_types\"] == \"Antibody Capture\"].copy()\n",
    "    \n",
    "    # normalise protein\n",
    "    pt.pp.clr(protein)\n",
    "    \n",
    "    # add the two hashtags to adata.obs\n",
    "    gene.obs['target_hashtag'] = pd.DataFrame(protein.X[:,target_hashtag].toarray(), columns = ['target_hashtag'],\n",
    "                                           index=protein.obs.index).reindex(gene.obs.index)\n",
    "\n",
    "    gene.obs['second_hashtag'] = pd.DataFrame(protein.X[:,second_hashtag].toarray(), columns = ['second_hashtag'],\n",
    "                                           index=protein.obs.index).reindex(gene.obs.index)\n",
    "    \n",
    "    gene.obs['high_prob_warm'] = (gene.obs['target_hashtag'] >1) & (gene.obs['second_hashtag'] < 0.1)\n",
    "    \n",
    "    # sample + cell id\n",
    "    gene.obs_names = [sample + ':' + x.split('-')[0] for x in gene.obs_names] # do this after getting cell id list\n",
    "    gene.var_names_make_unique()\n",
    "    \n",
    "    # scrublet score\n",
    "    scrub = scr.Scrublet(gene.X)\n",
    "    doublet_scores, predicted_doublets = scrub.scrub_doublets(get_doublet_neighbor_parents=False)\n",
    "    \n",
    "    if scrublet_threshold:\n",
    "        predicted_doublets = scrub.call_doublets(threshold=scrublet_threshold)\n",
    "    \n",
    "    gene.obs[['doublet_score', 'predicted_doublet']] = pd.DataFrame({'doublet_score': doublet_scores, \n",
    "                                                                     'predicted_doublet': predicted_doublets}, \n",
    "                                                                    index=gene.obs_names)\n",
    "\n",
    "    # add some QC plots\n",
    "    scrub.plot_histogram()\n",
    "    \n",
    "    scrub.set_embedding('UMAP', scr.get_umap(scrub.manifold_obs_, 10, min_dist=0.3))\n",
    "    \n",
    "    scrub.plot_embedding('UMAP', order_points=True)\n",
    "    \n",
    "    return gene"
   ]
  },
  {
   "cell_type": "code",
   "execution_count": null,
   "id": "ff386fee",
   "metadata": {},
   "outputs": [],
   "source": [
    "adatas = {}"
   ]
  },
  {
   "cell_type": "code",
   "execution_count": null,
   "id": "a768f5f9",
   "metadata": {},
   "outputs": [],
   "source": [
    "hashtag_list = [[1,3], [0,2], [10,11], [8,9]] # hashtag number -1 "
   ]
  },
  {
   "cell_type": "code",
   "execution_count": null,
   "id": "d96a95e5",
   "metadata": {},
   "outputs": [],
   "source": [
    "# scrublet threshold after inspecting the hist\n",
    "demux_threshold_list = 0.3"
   ]
  },
  {
   "cell_type": "code",
   "execution_count": null,
   "id": "8d3e8e1f",
   "metadata": {},
   "outputs": [],
   "source": [
    "for n in np.arange(0,4):\n",
    "    gene = get_adata_and_protein(Path(data_folder), demux_sample[n],\n",
    "                                 hashtag_list[n][0], hashtag_list[n][1], demux_threshold_list)\n",
    "    adatas[demux_sample[n]] = gene"
   ]
  },
  {
   "cell_type": "markdown",
   "id": "a27394c7",
   "metadata": {},
   "source": [
    "### add all the rest h5s to the adata list and concat"
   ]
  },
  {
   "cell_type": "code",
   "execution_count": null,
   "id": "df59eed3",
   "metadata": {},
   "outputs": [],
   "source": [
    "rest_sample = samples.copy()\n",
    "[rest_sample.remove(i) for i in rest_sample if i in demux_sample]\n",
    "[rest_sample.remove(i) for i in rest_sample if i in demux_sample]"
   ]
  },
  {
   "cell_type": "code",
   "execution_count": null,
   "id": "f36a0343",
   "metadata": {},
   "outputs": [],
   "source": [
    "len(rest_sample)"
   ]
  },
  {
   "cell_type": "code",
   "execution_count": null,
   "id": "ebb7623a",
   "metadata": {},
   "outputs": [],
   "source": [
    "rest_sample_threshold = 0.3"
   ]
  },
  {
   "cell_type": "code",
   "execution_count": null,
   "id": "cf704119",
   "metadata": {},
   "outputs": [],
   "source": [
    "rest_sample"
   ]
  },
  {
   "cell_type": "code",
   "execution_count": null,
   "id": "fbd7f360",
   "metadata": {},
   "outputs": [],
   "source": [
    "for sample in rest_sample:\n",
    "    gene = get_adata(Path(data_folder), sample, rest_sample_threshold)\n",
    "    adatas[sample] = gene"
   ]
  },
  {
   "cell_type": "markdown",
   "id": "82e25b87",
   "metadata": {},
   "source": [
    "### preprocessing"
   ]
  },
  {
   "cell_type": "code",
   "execution_count": null,
   "id": "d5c477cb",
   "metadata": {},
   "outputs": [],
   "source": [
    "adata_all = sc.concat(adatas)"
   ]
  },
  {
   "cell_type": "code",
   "execution_count": null,
   "id": "87cb9d49",
   "metadata": {},
   "outputs": [],
   "source": [
    "adata_all.obs['sample'].value_counts().sort_index()"
   ]
  },
  {
   "cell_type": "code",
   "execution_count": null,
   "id": "db807600",
   "metadata": {},
   "outputs": [],
   "source": [
    "adata_all.obs[['sample','predicted_doublet']].value_counts().sort_index()\n",
    "## p007n at 80% doublet rate is weird, Automatically set threshold at doublet score = 0.05"
   ]
  },
  {
   "cell_type": "markdown",
   "id": "356d7038",
   "metadata": {},
   "source": [
    "#### before filtering"
   ]
  },
  {
   "cell_type": "code",
   "execution_count": null,
   "id": "93978254",
   "metadata": {},
   "outputs": [],
   "source": [
    "adata_all.var['mt'] = adata_all.var_names.str.startswith('MT-')\n",
    "sc.pp.calculate_qc_metrics(adata_all, qc_vars=['mt'], percent_top=None, log1p=False, inplace=True)"
   ]
  },
  {
   "cell_type": "code",
   "execution_count": null,
   "id": "f839bc2f",
   "metadata": {},
   "outputs": [],
   "source": [
    "sc.pl.violin(adata_all, ['n_genes_by_counts', 'total_counts', 'pct_counts_mt'],\n",
    "             jitter=0.4, multi_panel=True)"
   ]
  },
  {
   "cell_type": "markdown",
   "id": "7d4fc23c",
   "metadata": {},
   "source": [
    "#### filtering and remove doublet"
   ]
  },
  {
   "cell_type": "code",
   "execution_count": null,
   "id": "ca571e16",
   "metadata": {},
   "outputs": [],
   "source": [
    "adata_all_copy = adata_all.copy()"
   ]
  },
  {
   "cell_type": "code",
   "execution_count": null,
   "id": "0382d14b",
   "metadata": {},
   "outputs": [],
   "source": [
    "adata_all_copy.shape"
   ]
  },
  {
   "cell_type": "code",
   "execution_count": null,
   "id": "951d9683",
   "metadata": {},
   "outputs": [],
   "source": [
    "#### since scrublet is weird in p007n & all of the sample has less than 1%, we dont remove the doublets\n",
    "#### fix the issue by manually assigned thresholds\n",
    "adata_all = adata_all[adata_all.obs['predicted_doublet'] == False].copy()"
   ]
  },
  {
   "cell_type": "code",
   "execution_count": null,
   "id": "367c1be8",
   "metadata": {},
   "outputs": [],
   "source": [
    "adata_all.shape"
   ]
  },
  {
   "cell_type": "code",
   "execution_count": null,
   "id": "9e499db8",
   "metadata": {},
   "outputs": [],
   "source": [
    "sc.pp.filter_cells(adata_all, min_counts=1000)  # uhlitz\n",
    "#sc.pp.filter_cells(adata_all, max_counts=50000)  # uhlitz\n",
    "sc.pp.filter_cells(adata_all, min_genes=500)  # uhlitz\n",
    "#sc.pp.filter_cells(adata_all, max_genes=5000)  # uhlitz"
   ]
  },
  {
   "cell_type": "code",
   "execution_count": null,
   "id": "64ac21d8",
   "metadata": {},
   "outputs": [],
   "source": [
    "sc.pp.calculate_qc_metrics(adata_all, qc_vars=['mt'], percent_top=None, log1p=False, inplace=True)"
   ]
  },
  {
   "cell_type": "code",
   "execution_count": null,
   "id": "284ff753",
   "metadata": {},
   "outputs": [],
   "source": [
    "sc.pl.violin(adata_all, ['n_genes_by_counts', 'total_counts', 'pct_counts_mt'],\n",
    "             jitter=0.4, multi_panel=True)"
   ]
  },
  {
   "cell_type": "code",
   "execution_count": null,
   "id": "733266af",
   "metadata": {},
   "outputs": [],
   "source": [
    "adata_all = adata_all[adata_all.obs.pct_counts_mt < 80, :]"
   ]
  },
  {
   "cell_type": "code",
   "execution_count": null,
   "id": "85fbb40b",
   "metadata": {},
   "outputs": [],
   "source": [
    "# sanity\n",
    "sc.pp.filter_genes(adata_all, min_cells=1)"
   ]
  },
  {
   "cell_type": "code",
   "execution_count": null,
   "id": "0c1a2f02",
   "metadata": {},
   "outputs": [],
   "source": [
    "sc.pl.violin(adata_all, ['n_genes_by_counts', 'total_counts', 'pct_counts_mt'],\n",
    "             jitter=0.4, multi_panel=True)"
   ]
  },
  {
   "cell_type": "code",
   "execution_count": null,
   "id": "2134a27e",
   "metadata": {},
   "outputs": [],
   "source": [
    "adata_all.obs[['sample']].value_counts().sort_index()"
   ]
  },
  {
   "cell_type": "code",
   "execution_count": null,
   "id": "fa882c1e",
   "metadata": {},
   "outputs": [],
   "source": [
    "sc.pp.normalize_per_cell(adata_all)\n",
    "sc.pp.log1p(adata_all)"
   ]
  },
  {
   "cell_type": "code",
   "execution_count": null,
   "id": "7f665a3e",
   "metadata": {},
   "outputs": [],
   "source": [
    "score_cell_cycle(adata_all, signatures_path_)\n",
    "sc.pp.highly_variable_genes(adata_all, n_top_genes=2000, batch_key='sample')"
   ]
  },
  {
   "cell_type": "code",
   "execution_count": null,
   "id": "6cd4714d",
   "metadata": {},
   "outputs": [],
   "source": [
    "sc.pl.highly_variable_genes(adata_all)"
   ]
  },
  {
   "cell_type": "code",
   "execution_count": null,
   "id": "ade1ef62",
   "metadata": {},
   "outputs": [],
   "source": [
    "get_ribo_percentage(adata_all)\n",
    "get_hemo_percentage(adata_all)"
   ]
  },
  {
   "cell_type": "code",
   "execution_count": null,
   "id": "e91154bb",
   "metadata": {},
   "outputs": [],
   "source": [
    "sc.tl.pca(adata_all, svd_solver='arpack', n_comps = 50, use_highly_variable=True)\n",
    "sc.pl.pca_variance_ratio(adata_all, log=False)"
   ]
  },
  {
   "cell_type": "code",
   "execution_count": null,
   "id": "568e4e98",
   "metadata": {},
   "outputs": [],
   "source": [
    "sc.pp.neighbors(adata_all, n_neighbors=50, n_pcs=20)\n",
    "sc.tl.umap(adata_all)\n",
    "sc.tl.diffmap(adata_all)\n",
    "sc.tl.louvain(adata_all, key_added='louvain', resolution=1)\n",
    "sc.tl.louvain(adata_all, key_added='louvain_highres', resolution=2)"
   ]
  },
  {
   "cell_type": "code",
   "execution_count": null,
   "id": "22ca7023",
   "metadata": {},
   "outputs": [],
   "source": [
    "sc.tl.leiden(adata_all, key_added='leiden')\n",
    "sc.tl.leiden(adata_all, key_added='leiden_highres', resolution=2)"
   ]
  },
  {
   "cell_type": "code",
   "execution_count": null,
   "id": "2a4778e2",
   "metadata": {},
   "outputs": [],
   "source": [
    "scv.pl.scatter(adata_all, basis='umap', color=['sample_origin', 'sample', \n",
    "                                               'patient', 'MS_status', \n",
    "                                               'target_hashtag', 'second_hashtag', 'high_prob_warm'], \n",
    "               ncols=2, dpi=300, legend_loc='right margin', size = 1)"
   ]
  },
  {
   "cell_type": "code",
   "execution_count": null,
   "id": "ec2439a7",
   "metadata": {},
   "outputs": [],
   "source": [
    "score_smillie_str_epi_imm(adata_all, signatures_path_)"
   ]
  },
  {
   "cell_type": "code",
   "execution_count": null,
   "id": "938b34a0",
   "metadata": {},
   "outputs": [],
   "source": [
    "adata_all.obs['celltype_1a'] = np.array(['epi', 'str', 'imm'])[np.argmax(adata_all.obs[['epi_score', 'str_score', 'imm_score']].values, axis=1)]\n",
    "adata_all.obs['celltype_1a_score'] = np.max(adata_all.obs[['epi_score', 'str_score', 'imm_score']].values, axis=1)\n"
   ]
  },
  {
   "cell_type": "code",
   "execution_count": null,
   "id": "39b094fc",
   "metadata": {},
   "outputs": [],
   "source": [
    "adata_all #73294"
   ]
  },
  {
   "cell_type": "code",
   "execution_count": null,
   "id": "0a6ada5c",
   "metadata": {},
   "outputs": [],
   "source": [
    "scv.pl.scatter(adata_all, basis='umap', color=['celltype_1a', 'epi_score', 'str_score', 'imm_score'], \n",
    "               ncols=2, dpi=300, legend_loc='right margin', size = 1)"
   ]
  },
  {
   "cell_type": "code",
   "execution_count": null,
   "id": "1be38e11",
   "metadata": {},
   "outputs": [],
   "source": [
    "adata_all.obs['celltype_1a'].value_counts()"
   ]
  },
  {
   "cell_type": "code",
   "execution_count": null,
   "id": "25141497",
   "metadata": {},
   "outputs": [],
   "source": [
    "adata_all.obs[['sample','celltype_1a']].value_counts().sort_index()"
   ]
  },
  {
   "cell_type": "code",
   "execution_count": null,
   "id": "f2942c1e",
   "metadata": {},
   "outputs": [],
   "source": [
    "adata_all.obs['sample_origin'].value_counts(dropna=False)"
   ]
  },
  {
   "cell_type": "markdown",
   "id": "3c42cfd9",
   "metadata": {},
   "source": [
    "adata_all.write(Path(new_data_folder)/'202305_CB_all_cells.h5')"
   ]
  },
  {
   "cell_type": "markdown",
   "id": "de2bec3d",
   "metadata": {},
   "source": [
    "### write cell id as txt"
   ]
  },
  {
   "cell_type": "code",
   "execution_count": null,
   "id": "2221747f",
   "metadata": {},
   "outputs": [],
   "source": [
    "celltype = ['epi', 'str', 'imm']"
   ]
  },
  {
   "cell_type": "code",
   "execution_count": null,
   "id": "a70da000",
   "metadata": {},
   "outputs": [],
   "source": [
    "adata_copy = adata_all.copy()"
   ]
  },
  {
   "cell_type": "code",
   "execution_count": null,
   "id": "723b2b9d",
   "metadata": {},
   "outputs": [],
   "source": [
    "adata_copy.obs_names = [x.split(':')[1] + '-1' for x in adata_copy.obs_names]"
   ]
  },
  {
   "cell_type": "markdown",
   "id": "b6fee0ba",
   "metadata": {},
   "source": [
    "#### write cell type anno txt\n",
    "for sample in samples:\n",
    "    for ctype in celltype:\n",
    "        (adata_copy[(adata_copy.obs['sample'] == sample) & (adata_copy.obs['celltype_1a'] == ctype)].\n",
    "         obs_names.to_frame(name = 'cell_id').to_csv(Path(new_data_folder)/f'anno/{sample}_{ctype}.txt', \n",
    "                                                     index = False,\n",
    "                                                     header = False))"
   ]
  },
  {
   "cell_type": "code",
   "execution_count": null,
   "id": "b53f92ed",
   "metadata": {},
   "outputs": [],
   "source": [
    "del adata_copy"
   ]
  },
  {
   "cell_type": "markdown",
   "id": "68577d92",
   "metadata": {},
   "source": [
    "adata_all = sc.read(Path(new_data_folder)/'202305_CB_all_cells.h5')"
   ]
  },
  {
   "cell_type": "markdown",
   "id": "9d5ef535",
   "metadata": {},
   "source": [
    "adata_all.uns['log1p']['base'] = None"
   ]
  },
  {
   "cell_type": "code",
   "execution_count": null,
   "id": "2557e19d",
   "metadata": {},
   "outputs": [],
   "source": [
    "adata_epi = adata_all[adata_all.obs['celltype_1a'] == 'epi'].copy()"
   ]
  },
  {
   "cell_type": "code",
   "execution_count": null,
   "id": "7d6dcfd1",
   "metadata": {},
   "outputs": [],
   "source": [
    "adata_epi.shape #39780 #39168"
   ]
  },
  {
   "cell_type": "code",
   "execution_count": null,
   "id": "fd773399",
   "metadata": {},
   "outputs": [],
   "source": [
    "adata_epi.obs['sample'].value_counts().sort_index()"
   ]
  },
  {
   "cell_type": "code",
   "execution_count": null,
   "id": "c23ca13e",
   "metadata": {},
   "outputs": [],
   "source": [
    "adata_epi.obs['sample_origin'].value_counts(dropna=False)"
   ]
  },
  {
   "cell_type": "markdown",
   "id": "4ed35442",
   "metadata": {},
   "source": [
    "### assign HVGs"
   ]
  },
  {
   "cell_type": "markdown",
   "id": "6fa0fc5b",
   "metadata": {},
   "source": [
    "#### separate HVGs\n",
    "adata_list = samples\n",
    "intersected = samples"
   ]
  },
  {
   "cell_type": "markdown",
   "id": "847c776d",
   "metadata": {},
   "source": [
    "for i in np.arange(0,len(samples)):\n",
    "    adata_list[i] = adata_epi[adata_epi.obs['sample'] == samples[i]]\n",
    "    sc.pp.highly_variable_genes(adata_list[i], n_top_genes=2000) \n"
   ]
  },
  {
   "cell_type": "markdown",
   "id": "27270f9f",
   "metadata": {},
   "source": [
    "for i in np.arange(0,len(samples)):\n",
    "    intersected[i] = adata_list[i].copy()\n",
    "    intersected[i] = intersected[i][:, intersected[i].var.highly_variable]\n",
    "    intersected[i] = intersected[i].var.index.values\n",
    "    "
   ]
  },
  {
   "cell_type": "markdown",
   "id": "adc2e35a",
   "metadata": {},
   "source": [
    "merged_HVG = list(itertools.chain.from_iterable(intersected))"
   ]
  },
  {
   "cell_type": "markdown",
   "id": "bfbb89e8",
   "metadata": {},
   "source": [
    "plt.hist(pd.DataFrame(merged_HVG).value_counts());"
   ]
  },
  {
   "cell_type": "markdown",
   "id": "202f4b9a",
   "metadata": {},
   "source": [
    "(pd.DataFrame(merged_HVG).value_counts()>=5).value_counts()"
   ]
  },
  {
   "cell_type": "markdown",
   "id": "4458f1d8",
   "metadata": {},
   "source": [
    "len(np.unique(merged_HVG))"
   ]
  },
  {
   "cell_type": "markdown",
   "id": "ddc988bf",
   "metadata": {},
   "source": [
    "merged_HVG_list = pd.DataFrame({'highly_variable': pd.DataFrame(merged_HVG).value_counts()>=5}).reset_index()\n",
    "merged_HVG_list = merged_HVG_list[merged_HVG_list['highly_variable'] == True][0].tolist()"
   ]
  },
  {
   "cell_type": "markdown",
   "id": "eccb6eea",
   "metadata": {},
   "source": [
    "len(merged_HVG_list) 2025"
   ]
  },
  {
   "cell_type": "markdown",
   "id": "c9c30b93",
   "metadata": {},
   "source": [
    "#### if HVG directly\n",
    "direct_HVGs = sc.pp.highly_variable_genes(adata_epi, n_top_genes=2000, batch_key='sample', inplace=False) "
   ]
  },
  {
   "cell_type": "markdown",
   "id": "a50fc151",
   "metadata": {},
   "source": [
    "np.unique(direct_HVGs[direct_HVGs['highly_variable']==True].index.isin(merged_HVG_list), return_counts=True)"
   ]
  },
  {
   "cell_type": "code",
   "execution_count": null,
   "id": "47d1c387",
   "metadata": {},
   "outputs": [],
   "source": [
    "sc.pp.highly_variable_genes(adata_epi, n_top_genes=2000, batch_key='sample') "
   ]
  },
  {
   "cell_type": "markdown",
   "id": "660c9e75",
   "metadata": {},
   "source": [
    "### preprocessing"
   ]
  },
  {
   "cell_type": "code",
   "execution_count": null,
   "id": "b4762c0d",
   "metadata": {},
   "outputs": [],
   "source": [
    "# default take HVG\n",
    "sc.tl.pca(adata_epi, svd_solver='arpack', n_comps = 50, use_highly_variable=True)\n",
    "sc.pl.pca_variance_ratio(adata_epi, log=False)"
   ]
  },
  {
   "cell_type": "code",
   "execution_count": null,
   "id": "0c51696f",
   "metadata": {},
   "outputs": [],
   "source": [
    "sc.pp.neighbors(adata_epi, n_neighbors=20, n_pcs=15)\n",
    "sc.tl.umap(adata_epi)\n",
    "#sc.tl.diffmap(adata_epi)\n",
    "sc.tl.louvain(adata_epi, key_added='louvain', resolution=1)\n",
    "sc.tl.leiden(adata_epi, key_added='leiden')"
   ]
  },
  {
   "cell_type": "code",
   "execution_count": null,
   "id": "457da674",
   "metadata": {},
   "outputs": [],
   "source": [
    "scv.pl.scatter(adata_epi, basis='umap', color=['sample_origin', 'sample', \n",
    "                                               'patient', 'MS_status', \n",
    "                                               'leiden', 'louvain'], \n",
    "               ncols=2, dpi=300, legend_loc='right margin', size = 2)"
   ]
  },
  {
   "cell_type": "markdown",
   "id": "b9246015",
   "metadata": {},
   "source": [
    "adata_epi.write(Path(new_data_folder)/'202305_CB_epi_cells.h5')"
   ]
  },
  {
   "cell_type": "markdown",
   "id": "5c397425",
   "metadata": {},
   "source": [
    "### add pc10 nn20"
   ]
  },
  {
   "cell_type": "code",
   "execution_count": null,
   "id": "693337f1",
   "metadata": {},
   "outputs": [],
   "source": [
    "adata_epi_20_10 = sc.pp.neighbors(adata_epi, n_neighbors= 20, n_pcs = 10, copy = True)\n",
    "sc.tl.umap(adata_epi_20_10)\n",
    "sc.tl.louvain(adata_epi_20_10, key_added='louvain', resolution=1)\n",
    "sc.tl.leiden(adata_epi_20_10, key_added='leiden')"
   ]
  },
  {
   "cell_type": "code",
   "execution_count": null,
   "id": "f324607f",
   "metadata": {},
   "outputs": [],
   "source": [
    "adata_epi.obsm['X_umap_pc10_nn20'] = adata_epi_20_10.obsm['X_umap']"
   ]
  },
  {
   "cell_type": "markdown",
   "id": "1a313cf4",
   "metadata": {},
   "source": [
    "adata_epi.write(Path(new_data_folder)/'202306_CB_epi_cells_umap.h5')"
   ]
  },
  {
   "cell_type": "code",
   "execution_count": null,
   "id": "7f0af9e2",
   "metadata": {},
   "outputs": [],
   "source": []
  },
  {
   "cell_type": "code",
   "execution_count": null,
   "id": "6ff1db65",
   "metadata": {},
   "outputs": [],
   "source": []
  },
  {
   "cell_type": "markdown",
   "id": "177a59b3",
   "metadata": {},
   "source": [
    "### Compare different PC"
   ]
  },
  {
   "cell_type": "markdown",
   "id": "69c04315",
   "metadata": {},
   "source": [
    "adata_epi = sc.read(Path(new_data_folder)/'202306_CB_epi_Numbat_Scitcem_inferCNV.h5')"
   ]
  },
  {
   "cell_type": "code",
   "execution_count": null,
   "id": "4a96c365",
   "metadata": {},
   "outputs": [],
   "source": [
    "adata_epi_copy = adata_epi.copy()"
   ]
  },
  {
   "cell_type": "code",
   "execution_count": null,
   "id": "0b8ff0db",
   "metadata": {},
   "outputs": [],
   "source": [
    "adata_epi_copy"
   ]
  },
  {
   "cell_type": "markdown",
   "id": "ae2f989e",
   "metadata": {},
   "source": [
    "#### nn 20 pc 7 "
   ]
  },
  {
   "cell_type": "code",
   "execution_count": null,
   "id": "78c96554",
   "metadata": {},
   "outputs": [],
   "source": [
    "adata_epi_20_7 = sc.pp.neighbors(adata_epi, n_neighbors=20, n_pcs=7, copy = True)"
   ]
  },
  {
   "cell_type": "code",
   "execution_count": null,
   "id": "6b579408",
   "metadata": {},
   "outputs": [],
   "source": [
    "sc.tl.umap(adata_epi_20_7)\n",
    "sc.tl.louvain(adata_epi_20_7, key_added='louvain', resolution=1)\n",
    "sc.tl.leiden(adata_epi_20_7, key_added='leiden')"
   ]
  },
  {
   "cell_type": "code",
   "execution_count": null,
   "id": "e35e00eb",
   "metadata": {},
   "outputs": [],
   "source": [
    "adata_epi_copy.obsm['X_umap_20_7'] = adata_epi_20_7.obsm['X_umap']"
   ]
  },
  {
   "cell_type": "code",
   "execution_count": null,
   "id": "46ef2ca6",
   "metadata": {},
   "outputs": [],
   "source": [
    "scv.pl.scatter(adata_epi_copy, basis='umap_20_7', color=['sample_origin', 'sample',\n",
    "                                                         'patient', 'MS_status',\n",
    "                                                         'leiden', 'louvain',\n",
    "                                                         'numbat', 'scitcem_call', 'inferCNV_result'], \n",
    "               ncols=2, dpi=300, legend_loc='right margin', size = 2)"
   ]
  },
  {
   "cell_type": "markdown",
   "id": "821170f6",
   "metadata": {},
   "source": [
    "#### nn 15 pc 7"
   ]
  },
  {
   "cell_type": "code",
   "execution_count": null,
   "id": "6f88f374",
   "metadata": {},
   "outputs": [],
   "source": [
    "adata_epi_15_7 = sc.pp.neighbors(adata_epi, n_neighbors= 15, n_pcs=7, copy = True)"
   ]
  },
  {
   "cell_type": "code",
   "execution_count": null,
   "id": "94e0eb4d",
   "metadata": {},
   "outputs": [],
   "source": [
    "sc.tl.umap(adata_epi_15_7)\n",
    "sc.tl.louvain(adata_epi_15_7, key_added='louvain', resolution=1)\n",
    "sc.tl.leiden(adata_epi_15_7, key_added='leiden')"
   ]
  },
  {
   "cell_type": "code",
   "execution_count": null,
   "id": "e80d9f18",
   "metadata": {},
   "outputs": [],
   "source": [
    "adata_epi_copy.obsm['X_umap_15_7'] = adata_epi_15_7.obsm['X_umap']"
   ]
  },
  {
   "cell_type": "code",
   "execution_count": null,
   "id": "b8862b4e",
   "metadata": {},
   "outputs": [],
   "source": [
    "scv.pl.scatter(adata_epi_copy, basis='umap_15_7', color=['sample_origin', 'sample', \n",
    "                                               'patient', 'MS_status', \n",
    "                                               'leiden', 'louvain', \n",
    "                                                        'numbat', 'scitcem_call', 'inferCNV_result'], \n",
    "               ncols=2, dpi=300, legend_loc='right margin', size = 2)"
   ]
  },
  {
   "cell_type": "markdown",
   "id": "3f112470",
   "metadata": {},
   "source": [
    "#### nn 50 pc 7"
   ]
  },
  {
   "cell_type": "code",
   "execution_count": null,
   "id": "a905fa39",
   "metadata": {},
   "outputs": [],
   "source": [
    "adata_epi_50_7 = sc.pp.neighbors(adata_epi, n_neighbors= 50, n_pcs=7, copy = True)\n",
    "sc.tl.umap(adata_epi_50_7)\n",
    "sc.tl.louvain(adata_epi_50_7, key_added='louvain', resolution=1)\n",
    "sc.tl.leiden(adata_epi_50_7, key_added='leiden')"
   ]
  },
  {
   "cell_type": "code",
   "execution_count": null,
   "id": "683814bc",
   "metadata": {},
   "outputs": [],
   "source": [
    "adata_epi_copy.obsm['X_umap_50_7'] = adata_epi_50_7.obsm['X_umap']"
   ]
  },
  {
   "cell_type": "code",
   "execution_count": null,
   "id": "550ba64d",
   "metadata": {},
   "outputs": [],
   "source": [
    "scv.pl.scatter(adata_epi_copy, basis='umap_50_7', color=['sample_origin', 'sample', \n",
    "                                               'patient', 'MS_status', \n",
    "                                               'leiden', 'louvain', \n",
    "                                                        'numbat', 'scitcem_call', 'inferCNV_result'], \n",
    "               ncols=2, dpi=300, legend_loc='right margin', size = 2)"
   ]
  },
  {
   "cell_type": "markdown",
   "id": "1e34828f",
   "metadata": {},
   "source": [
    "#### nn 50 pc 10"
   ]
  },
  {
   "cell_type": "code",
   "execution_count": null,
   "id": "f1f8b261",
   "metadata": {},
   "outputs": [],
   "source": [
    "adata_epi_50_10 = sc.pp.neighbors(adata_epi, n_neighbors= 50, n_pcs = 10, copy = True)\n",
    "sc.tl.umap(adata_epi_50_10)\n",
    "sc.tl.louvain(adata_epi_50_10, key_added='louvain', resolution=1)\n",
    "sc.tl.leiden(adata_epi_50_10, key_added='leiden')"
   ]
  },
  {
   "cell_type": "code",
   "execution_count": null,
   "id": "091795fb",
   "metadata": {},
   "outputs": [],
   "source": [
    "adata_epi_copy.obsm['X_umap_50_10'] = adata_epi_50_10.obsm['X_umap']"
   ]
  },
  {
   "cell_type": "code",
   "execution_count": null,
   "id": "980461f7",
   "metadata": {},
   "outputs": [],
   "source": [
    "scv.pl.scatter(adata_epi_copy, basis='umap_50_10', color=['sample_origin', 'sample', \n",
    "                                               'patient', 'MS_status', \n",
    "                                               'leiden', 'louvain', \n",
    "                                                        'numbat', 'scitcem_call', 'inferCNV_result'], \n",
    "               ncols=2, dpi=300, legend_loc='right margin', size = 2)"
   ]
  },
  {
   "cell_type": "markdown",
   "id": "8e5f7859",
   "metadata": {},
   "source": [
    "#### nn 20 pc 10"
   ]
  },
  {
   "cell_type": "code",
   "execution_count": null,
   "id": "cdcfdcfc",
   "metadata": {},
   "outputs": [],
   "source": [
    "adata_epi_20_10 = sc.pp.neighbors(adata_epi, n_neighbors= 20, n_pcs = 10, copy = True)\n",
    "sc.tl.umap(adata_epi_20_10)\n",
    "sc.tl.louvain(adata_epi_20_10, key_added='louvain', resolution=1)\n",
    "sc.tl.leiden(adata_epi_20_10, key_added='leiden')"
   ]
  },
  {
   "cell_type": "code",
   "execution_count": null,
   "id": "c598c0f4",
   "metadata": {},
   "outputs": [],
   "source": [
    "adata_epi_copy.obsm['X_umap_20_10'] = adata_epi_20_10.obsm['X_umap']"
   ]
  },
  {
   "cell_type": "code",
   "execution_count": null,
   "id": "80677439",
   "metadata": {},
   "outputs": [],
   "source": [
    "scv.pl.scatter(adata_epi_copy, basis='umap_20_10', color=['sample_origin', 'sample', \n",
    "                                               'patient', 'MS_status', \n",
    "                                               'leiden', 'louvain', \n",
    "                                                        'numbat', 'scitcem_call', 'inferCNV_result'], \n",
    "               ncols=2, dpi=300, legend_loc='right margin', size = 2)"
   ]
  },
  {
   "cell_type": "markdown",
   "id": "cdda07e1",
   "metadata": {},
   "source": [
    "#### nn 15 pc 10"
   ]
  },
  {
   "cell_type": "code",
   "execution_count": null,
   "id": "10f22192",
   "metadata": {},
   "outputs": [],
   "source": [
    "adata_epi_15_10 = sc.pp.neighbors(adata_epi, n_neighbors= 15, n_pcs = 10, copy = True)\n",
    "sc.tl.umap(adata_epi_15_10)\n",
    "sc.tl.louvain(adata_epi_15_10, key_added='louvain', resolution=1)\n",
    "sc.tl.leiden(adata_epi_15_10, key_added='leiden')"
   ]
  },
  {
   "cell_type": "code",
   "execution_count": null,
   "id": "62a68a27",
   "metadata": {},
   "outputs": [],
   "source": [
    "adata_epi_copy.obsm['X_umap_15_10'] = adata_epi_15_10.obsm['X_umap']"
   ]
  },
  {
   "cell_type": "code",
   "execution_count": null,
   "id": "5d9e68a0",
   "metadata": {},
   "outputs": [],
   "source": [
    "scv.pl.scatter(adata_epi_copy, basis='umap_15_10', color=['sample_origin', 'sample', \n",
    "                                               'patient', 'MS_status', \n",
    "                                               'leiden', 'louvain', \n",
    "                                                        'numbat', 'scitcem_call', 'inferCNV_result'], \n",
    "               ncols=2, dpi=300, legend_loc='right margin', size = 2)"
   ]
  },
  {
   "cell_type": "markdown",
   "id": "52f01ced",
   "metadata": {},
   "source": [
    "#### nn 50 pc 15"
   ]
  },
  {
   "cell_type": "code",
   "execution_count": null,
   "id": "4b02b3aa",
   "metadata": {},
   "outputs": [],
   "source": [
    "adata_epi_50_15 = sc.pp.neighbors(adata_epi, n_neighbors= 50, n_pcs = 15, copy = True)\n",
    "sc.tl.umap(adata_epi_50_15)\n",
    "sc.tl.louvain(adata_epi_50_15, key_added='louvain', resolution=1)\n",
    "sc.tl.leiden(adata_epi_50_15, key_added='leiden')"
   ]
  },
  {
   "cell_type": "code",
   "execution_count": null,
   "id": "1a8b1dc0",
   "metadata": {},
   "outputs": [],
   "source": [
    "adata_epi_copy.obsm['X_umap_50_15'] = adata_epi_50_15.obsm['X_umap']"
   ]
  },
  {
   "cell_type": "code",
   "execution_count": null,
   "id": "455308a1",
   "metadata": {},
   "outputs": [],
   "source": [
    "scv.pl.scatter(adata_epi_copy, basis='umap_50_15', color=['sample_origin', 'sample', \n",
    "                                               'patient', 'MS_status', \n",
    "                                               'leiden', 'louvain', \n",
    "                                                        'numbat', 'scitcem_call', 'inferCNV_result'], \n",
    "               ncols=2, dpi=300, legend_loc='right margin', size = 2)"
   ]
  },
  {
   "cell_type": "markdown",
   "id": "a5682942",
   "metadata": {},
   "source": [
    "#### nn 15 pc 15"
   ]
  },
  {
   "cell_type": "code",
   "execution_count": null,
   "id": "23dc2bca",
   "metadata": {},
   "outputs": [],
   "source": [
    "adata_epi_15_15 = sc.pp.neighbors(adata_epi, n_neighbors= 15, n_pcs = 15, copy = True)\n",
    "sc.tl.umap(adata_epi_15_15)\n",
    "sc.tl.louvain(adata_epi_15_15, key_added='louvain', resolution=1)\n",
    "sc.tl.leiden(adata_epi_15_15, key_added='leiden')"
   ]
  },
  {
   "cell_type": "code",
   "execution_count": null,
   "id": "9d5cc918",
   "metadata": {},
   "outputs": [],
   "source": [
    "adata_epi_copy.obsm['X_umap_15_15'] = adata_epi_15_15.obsm['X_umap']"
   ]
  },
  {
   "cell_type": "code",
   "execution_count": null,
   "id": "27eb27b2",
   "metadata": {},
   "outputs": [],
   "source": [
    "scv.pl.scatter(adata_epi_copy, basis='umap_15_15', color=['sample_origin', 'sample', \n",
    "                                               'patient', 'MS_status', \n",
    "                                               'leiden', 'louvain', \n",
    "                                                        'numbat', 'scitcem_call', 'inferCNV_result'], \n",
    "               ncols=2, dpi=300, legend_loc='right margin', size = 2)"
   ]
  },
  {
   "cell_type": "markdown",
   "id": "8de68bb3",
   "metadata": {},
   "source": [
    "#### nn 15 pc 20"
   ]
  },
  {
   "cell_type": "code",
   "execution_count": null,
   "id": "32c7bb97",
   "metadata": {},
   "outputs": [],
   "source": [
    "adata_epi_15_20 = sc.pp.neighbors(adata_epi, n_neighbors= 15, n_pcs = 20, copy = True)\n",
    "sc.tl.umap(adata_epi_15_20)\n",
    "sc.tl.louvain(adata_epi_15_20, key_added='louvain', resolution=1)\n",
    "sc.tl.leiden(adata_epi_15_20, key_added='leiden')"
   ]
  },
  {
   "cell_type": "code",
   "execution_count": null,
   "id": "f6f638f9",
   "metadata": {},
   "outputs": [],
   "source": [
    "adata_epi_copy.obsm['X_umap_15_20'] = adata_epi_15_20.obsm['X_umap']"
   ]
  },
  {
   "cell_type": "code",
   "execution_count": null,
   "id": "4a374b65",
   "metadata": {},
   "outputs": [],
   "source": [
    "scv.pl.scatter(adata_epi_copy, basis='umap_15_20', color=['sample_origin', 'sample', \n",
    "                                               'patient', 'MS_status', \n",
    "                                               'leiden', 'louvain', \n",
    "                                                        'numbat', 'scitcem_call', 'inferCNV_result'], \n",
    "               ncols=2, dpi=300, legend_loc='right margin', size = 2)"
   ]
  },
  {
   "cell_type": "markdown",
   "id": "64eb5c1b",
   "metadata": {},
   "source": [
    "#### nn 20 pc 20"
   ]
  },
  {
   "cell_type": "code",
   "execution_count": null,
   "id": "6d842d5c",
   "metadata": {},
   "outputs": [],
   "source": [
    "adata_epi_20_20 = sc.pp.neighbors(adata_epi, n_neighbors= 20, n_pcs = 20, copy = True)\n",
    "sc.tl.umap(adata_epi_20_20)\n",
    "sc.tl.louvain(adata_epi_20_20, key_added='louvain', resolution=1)\n",
    "sc.tl.leiden(adata_epi_20_20, key_added='leiden')"
   ]
  },
  {
   "cell_type": "code",
   "execution_count": null,
   "id": "f50f7ad6",
   "metadata": {},
   "outputs": [],
   "source": [
    "adata_epi_copy.obsm['X_umap_20_20'] = adata_epi_20_20.obsm['X_umap']"
   ]
  },
  {
   "cell_type": "code",
   "execution_count": null,
   "id": "653f3829",
   "metadata": {},
   "outputs": [],
   "source": [
    "scv.pl.scatter(adata_epi_copy, basis='umap_20_20', color=['sample_origin', 'sample', \n",
    "                                               'patient', 'MS_status', \n",
    "                                               'leiden', 'louvain', \n",
    "                                                        'numbat', 'scitcem_call', 'inferCNV_result'], \n",
    "               ncols=2, dpi=300, legend_loc='right margin', size = 2)"
   ]
  },
  {
   "cell_type": "markdown",
   "id": "38f4da07",
   "metadata": {},
   "source": [
    "#### nn 50 pc 20"
   ]
  },
  {
   "cell_type": "code",
   "execution_count": null,
   "id": "4de7da04",
   "metadata": {},
   "outputs": [],
   "source": [
    "adata_epi_50_20 = sc.pp.neighbors(adata_epi, n_neighbors= 50, n_pcs = 20, copy = True)\n",
    "sc.tl.umap(adata_epi_50_20)\n",
    "sc.tl.louvain(adata_epi_50_20, key_added='louvain', resolution=1)\n",
    "sc.tl.leiden(adata_epi_50_20, key_added='leiden')"
   ]
  },
  {
   "cell_type": "code",
   "execution_count": null,
   "id": "01f7239e",
   "metadata": {},
   "outputs": [],
   "source": [
    "adata_epi_copy.obsm['X_umap_50_20'] = adata_epi_50_20.obsm['X_umap']"
   ]
  },
  {
   "cell_type": "code",
   "execution_count": null,
   "id": "04428332",
   "metadata": {},
   "outputs": [],
   "source": [
    "scv.pl.scatter(adata_epi_copy, basis='umap_50_20', color=['sample_origin', 'sample', \n",
    "                                               'patient', 'MS_status', \n",
    "                                               'leiden', 'louvain', \n",
    "                                                        'numbat', 'scitcem_call', 'inferCNV_result'], \n",
    "               ncols=2, dpi=300, legend_loc='right margin', size = 2)"
   ]
  },
  {
   "cell_type": "code",
   "execution_count": null,
   "id": "2e838a35",
   "metadata": {},
   "outputs": [],
   "source": []
  },
  {
   "cell_type": "code",
   "execution_count": null,
   "id": "10452d08",
   "metadata": {},
   "outputs": [],
   "source": []
  }
 ],
 "metadata": {
  "kernelspec": {
   "display_name": "sc",
   "language": "python",
   "name": "sc"
  },
  "language_info": {
   "codemirror_mode": {
    "name": "ipython",
    "version": 3
   },
   "file_extension": ".py",
   "mimetype": "text/x-python",
   "name": "python",
   "nbconvert_exporter": "python",
   "pygments_lexer": "ipython3",
   "version": "3.9.10"
  }
 },
 "nbformat": 4,
 "nbformat_minor": 5
}
