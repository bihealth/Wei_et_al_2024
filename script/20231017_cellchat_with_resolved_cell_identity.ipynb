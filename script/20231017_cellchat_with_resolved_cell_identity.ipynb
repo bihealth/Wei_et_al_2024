{
 "cells": [
  {
   "cell_type": "code",
   "execution_count": null,
   "id": "1d553de8",
   "metadata": {},
   "outputs": [],
   "source": [
    "suppressMessages(library('CellChat'))"
   ]
  },
  {
   "cell_type": "code",
   "execution_count": null,
   "id": "ff995515",
   "metadata": {},
   "outputs": [],
   "source": [
    "suppressMessages(library('tidyverse'))\n",
    "suppressMessages(library('patchwork'))\n",
    "suppressMessages(library('cowplot'))\n",
    "\n",
    "suppressMessages(library('rhdf5'))\n",
    "suppressMessages(library('Seurat'))"
   ]
  },
  {
   "cell_type": "code",
   "execution_count": null,
   "id": "c89ced40",
   "metadata": {},
   "outputs": [],
   "source": [
    "suppressMessages(library(NMF))"
   ]
  },
  {
   "cell_type": "code",
   "execution_count": null,
   "id": "0b3afbd2",
   "metadata": {},
   "outputs": [],
   "source": [
    "library(ggalluvial)"
   ]
  },
  {
   "cell_type": "code",
   "execution_count": null,
   "id": "bae8f6bc",
   "metadata": {},
   "outputs": [],
   "source": [
    "suppressMessages(library(ComplexHeatmap))"
   ]
  },
  {
   "cell_type": "code",
   "execution_count": null,
   "id": "574b9444",
   "metadata": {},
   "outputs": [],
   "source": [
    "library(\"MetBrewer\")"
   ]
  },
  {
   "cell_type": "code",
   "execution_count": null,
   "id": "0f3210b6",
   "metadata": {},
   "outputs": [],
   "source": [
    "suppressMessages(library(ggpubr))"
   ]
  },
  {
   "cell_type": "code",
   "execution_count": null,
   "id": "473863f2",
   "metadata": {},
   "outputs": [],
   "source": [
    "suppressMessages(library(future.apply))"
   ]
  },
  {
   "cell_type": "code",
   "execution_count": null,
   "id": "40b9ff77",
   "metadata": {},
   "outputs": [],
   "source": [
    "options(future.rng.onMisue = \"ignore\", future.seed = NULL)"
   ]
  },
  {
   "cell_type": "code",
   "execution_count": null,
   "id": "e33b2320",
   "metadata": {},
   "outputs": [],
   "source": [
    "sessionInfo()"
   ]
  },
  {
   "cell_type": "code",
   "execution_count": null,
   "id": "d04e5855",
   "metadata": {},
   "outputs": [],
   "source": [
    "options(repr.plot.width=14, \n",
    "        repr.plot.height=10,\n",
    "        repr.plot.res = 200)"
   ]
  },
  {
   "cell_type": "code",
   "execution_count": null,
   "id": "60019842",
   "metadata": {},
   "outputs": [],
   "source": [
    "source('function_single_cell_conversion.R')"
   ]
  },
  {
   "cell_type": "code",
   "execution_count": null,
   "id": "1e6e3986",
   "metadata": {},
   "outputs": [],
   "source": [
    "# cannot find the R/analysis.R file in the bin, so modified here\n",
    "netClustering  <- function (object, slot.name = \"netP\", type = c(\"functional\", \n",
    "    \"structural\"), comparison = NULL, k = NULL, methods = \"kmeans\", \n",
    "    do.plot = TRUE, fig.id = NULL, do.parallel = TRUE, nCores = 4, \n",
    "    k.eigen = NULL) \n",
    "{\n",
    "    type <- match.arg(type)\n",
    "    if (object@options$mode == \"single\") {\n",
    "        comparison <- \"single\"\n",
    "        cat(\"Classification learning of the signaling networks for a single dataset\", \n",
    "            \"\\n\")\n",
    "    }\n",
    "    else if (object@options$mode == \"merged\") {\n",
    "        if (is.null(comparison)) {\n",
    "            comparison <- 1:length(unique(object@meta$datasets))\n",
    "        }\n",
    "        cat(\"Classification learning of the signaling networks for datasets\", \n",
    "            as.character(comparison), \"\\n\")\n",
    "    }\n",
    "    comparison.name <- paste(comparison, collapse = \"-\")\n",
    "    Y <- methods::slot(object, slot.name)$similarity[[type]]$dr[[comparison.name]]\n",
    "    data.use <- Y\n",
    "    if (methods == \"kmeans\") {\n",
    "        if (!is.null(k)) {\n",
    "            clusters = kmeans(data.use, k, nstart = 10)$cluster\n",
    "        }\n",
    "        else {\n",
    "            N <- nrow(data.use)\n",
    "            kRange <- seq(2, min(N - 1, 10), by = 1)\n",
    "            if (do.parallel) {\n",
    "                #future::plan(\"multiprocess\", workers = nCores)\n",
    "                future::plan(\"multisession\", workers = 8)\n",
    "                options(future.globals.maxSize = 1000 * 1024^2)\n",
    "            }\n",
    "            my.sapply <- ifelse(test = future::nbrOfWorkers() == \n",
    "                1, yes = pbapply::pbsapply, no = future.apply::future_sapply)\n",
    "            results = my.sapply(X = 1:length(kRange), FUN = function(x) {\n",
    "                idents <- kmeans(data.use, kRange[x], nstart = 10)$cluster\n",
    "                clusIndex <- idents\n",
    "                adjMat0 <- Matrix::Matrix(as.numeric(outer(clusIndex, \n",
    "                  clusIndex, FUN = \"==\")), nrow = N, ncol = N)\n",
    "                return(list(adjMat = adjMat0, ncluster = length(unique(idents))))\n",
    "            }, simplify = FALSE)\n",
    "            adjMat <- lapply(results, \"[[\", 1)\n",
    "            CM <- Reduce(\"+\", adjMat)/length(kRange)\n",
    "            res <- computeEigengap(as.matrix(CM))\n",
    "            numCluster <- res$upper_bound\n",
    "            clusters = kmeans(data.use, numCluster, nstart = 10)$cluster\n",
    "            if (do.plot) {\n",
    "                gg <- res$gg.obj\n",
    "                ggsave(filename = paste0(\"estimationNumCluster_\", \n",
    "                  fig.id, \"_\", type, \"_dataset_\", comparison.name, \n",
    "                  \".pdf\"), plot = gg, width = 3.5, height = 3, \n",
    "                  units = \"in\", dpi = 300)\n",
    "            }\n",
    "        }\n",
    "    }\n",
    "    else if (methods == \"spectral\") {\n",
    "        A <- as.matrix(data.use)\n",
    "        D <- apply(A, 1, sum)\n",
    "        L <- diag(D) - A\n",
    "        L <- diag(D^-0.5) %*% L %*% diag(D^-0.5)\n",
    "        evL <- eigen(L, symmetric = TRUE)\n",
    "        plot(rev(evL$values)[1:30])\n",
    "        Z <- evL$vectors[, (ncol(evL$vectors) - k.eigen + 1):ncol(evL$vectors)]\n",
    "        clusters = kmeans(Z, k, nstart = 20)$cluster\n",
    "    }\n",
    "    if (!is.list(methods::slot(object, slot.name)$similarity[[type]]$group)) {\n",
    "        methods::slot(object, slot.name)$similarity[[type]]$group <- NULL\n",
    "    }\n",
    "    methods::slot(object, slot.name)$similarity[[type]]$group[[comparison.name]] <- clusters\n",
    "    return(object)\n",
    "}"
   ]
  },
  {
   "cell_type": "code",
   "execution_count": null,
   "id": "8a06ed45",
   "metadata": {},
   "outputs": [],
   "source": [
    "# this is where the bug is, fixing not correct matrix sparcing and fixing the weird indents everywhere.......\n",
    "# https://github.com/sqjin/CellChat/issues/210#issuecomment-1538673400\n",
    "\n",
    "subset_CellChat_single_dataset_rev = function(object, cells.use = NULL, idents.use = NULL, \n",
    "                               group.by = NULL, thresh = 0.05){\n",
    "    \n",
    "    labels <- object@idents # factor without names\n",
    "    names(labels) = colnames(object@data) # new line to name by cell id and fix the level.use is NULL issue\n",
    "    level.use0 <- levels(labels)\n",
    "    \n",
    "    if (!is.null(cells.use)) {\n",
    "        level.use <- levels(labels)[levels(labels) %in% unique(as.character(labels[cells.use]))] \n",
    "        cells.use.index <- which(names(labels) %in% cells.use)\n",
    "    }\n",
    "    \n",
    "    if(!is.null(idents.use)) {\n",
    "        level.use <- levels(labels)[levels(labels) %in% unique(as.character(idents.use))] \n",
    "        cells.use.index <- which(labels %in% level.use)\n",
    "    }\n",
    "        \n",
    "    if (nrow(object@data) > 0) {\n",
    "        data.subset <- object@data[, cells.use.index]\n",
    "    } else {\n",
    "        data.subset <- matrix(0, nrow = 0, ncol = 0)\n",
    "    }\n",
    "    if (nrow(object@data.project) > 0) {\n",
    "        data.project.subset <- object@data.project[, cells.use.index]\n",
    "    } else {\n",
    "        data.project.subset <- matrix(0, nrow = 0, ncol = 0)\n",
    "    }\n",
    "    \n",
    "    data.signaling.subset <- object@data.signaling[, cells.use.index]\n",
    "        \n",
    "    meta.subset <- object@meta[cells.use.index, , drop = FALSE]\n",
    "\n",
    "    cat(\"Update slots object@images, object@net, object@netP in a single dataset...\", '\\n')\n",
    "\n",
    "    group.existing <- level.use0[level.use0 %in% level.use]\n",
    "    group.existing.index <- which(level.use0 %in% level.use)\n",
    "\n",
    "    images <- object@images\n",
    "    for (images.j in names(images)) {\n",
    "        values <- images[[images.j]]\n",
    "\n",
    "        if (images.j %in% c(\"coordinates\")) {\n",
    "            values.new <- values[cells.use.index, ]\n",
    "            images[[images.j]] <- values.new\n",
    "        }\n",
    "        if (images.j %in% c(\"distance\")) {\n",
    "            values.new <- values[group.existing.index, group.existing.index, drop = FALSE]\n",
    "            images[[images.j]] <- values.new\n",
    "        }\n",
    "    }\n",
    "    images.subset <- images\n",
    "\n",
    "\n",
    "    net <- object@net\n",
    "    for (net.j in names(net)) {\n",
    "      values <- net[[net.j]]\n",
    "      if (net.j %in% c(\"prob\",\"pval\")) {\n",
    "        values.new <- values[group.existing.index, group.existing.index, ,drop = FALSE] # this is the bug line\n",
    "        net[[net.j]] <- values.new\n",
    "      }\n",
    "      if (net.j %in% c(\"count\",\"sum\",\"weight\")) {\n",
    "        values.new <- values[group.existing.index, group.existing.index, drop = FALSE]\n",
    "        net[[net.j]] <- values.new\n",
    "      }\n",
    "    }\n",
    "    net.subset <- net\n",
    "    \n",
    "    # summarise related ligands and receptors\n",
    "    netP = computeCommunProbPathway(net = net.subset, pairLR.use = object@LR$LRsig, thresh = thresh)\n",
    "    netP$centr = netAnalysis_computeCentrality(net = netP$prob) # netP not net.subset\n",
    "    netP.subset <- netP\n",
    "    idents.subset <- object@idents[cells.use.index]\n",
    "    idents.subset <- factor(idents.subset, levels = level.use)\n",
    "    \n",
    "    \n",
    "    object.subset <- methods::new(\n",
    "    Class = \"CellChat\",\n",
    "    data = data.subset,\n",
    "    data.signaling = data.signaling.subset,\n",
    "    data.project = data.project.subset,\n",
    "    images = images.subset,\n",
    "    net = net.subset,\n",
    "    netP = netP.subset,\n",
    "    meta = meta.subset,\n",
    "    idents = idents.subset,\n",
    "    var.features = object@var.features,\n",
    "    LR = object@LR,\n",
    "    DB = object@DB,\n",
    "    options = object@options\n",
    "    )\n",
    "    return(object.subset)\n",
    "    }"
   ]
  },
  {
   "cell_type": "code",
   "execution_count": null,
   "id": "cb6e6a76",
   "metadata": {},
   "outputs": [],
   "source": [
    "plot_theme_tmod =  theme(title = element_text(size = 14),\n",
    "                   axis.title = element_text(size = 14),\n",
    "                   axis.text = element_text(size = 12),\n",
    "                   legend.title =  element_text(size = 12),\n",
    "                   text = element_text(size = 10),\n",
    "                   plot.margin = margin(0,0,0,0,\"cm\")) "
   ]
  },
  {
   "cell_type": "code",
   "execution_count": null,
   "id": "be114f7d",
   "metadata": {},
   "outputs": [],
   "source": [
    "'%notin%' = Negate('%in%')"
   ]
  },
  {
   "cell_type": "code",
   "execution_count": null,
   "id": "5c7644ee",
   "metadata": {},
   "outputs": [],
   "source": [
    "data_folder = '/fast/users/twei_m/work/crc/datasets'"
   ]
  },
  {
   "cell_type": "code",
   "execution_count": null,
   "id": "3e567aee",
   "metadata": {},
   "outputs": [],
   "source": [
    "new_data_folder = '/fast/users/twei_m/work/crc/datasets_new_preprocessing'"
   ]
  },
  {
   "cell_type": "markdown",
   "id": "846366c3",
   "metadata": {},
   "source": [
    "epi_cell_order = c('Stem','Stem_TA','Enterocyte_progenitor','Enterocytes','Immature_Goblet','Goblet','Tuft',\n",
    "                                         'TC1','TC2','TC3','TC4')"
   ]
  },
  {
   "cell_type": "code",
   "execution_count": null,
   "id": "a51bf94f",
   "metadata": {},
   "outputs": [],
   "source": [
    "imm_str_cell_order = c('B_cells','Plasma_cells','CD4+_T_cells','CD8+_T_cells','Treg_cells',\n",
    "                                         'Dendritic_cells','Macrophages','Mast_cells','Monocytes','Neutrophils',\n",
    "                                         'Endothelial_cells','Fibroblasts','Pericytes')"
   ]
  },
  {
   "cell_type": "code",
   "execution_count": null,
   "id": "2d7601c7",
   "metadata": {},
   "outputs": [],
   "source": [
    "cell_type_order_with_Tumour_without_Monocytes = c('B_cells','Plasma_cells',\n",
    "                                'CD4+_T_cells','CD8+_T_cells','Treg_cells',\n",
    "                                'Dendritic_cells','Macrophages','Mast_cells',#'Monocytes',\n",
    "                                                  'Neutrophils',\n",
    "                                'Endothelial_cells','Fibroblasts','Pericytes',\n",
    "                                'Tumour', 'Stem','Stem_TA','Tuft',\n",
    "                                'Immature_Goblet','Goblet','Enterocyte_progenitor','Enterocytes'\n",
    "\n",
    "                                )"
   ]
  },
  {
   "cell_type": "code",
   "execution_count": null,
   "id": "d927113c",
   "metadata": {},
   "outputs": [],
   "source": [
    "cell_type_order_with_Tumour_without_Monocytes_color = c('#7d8df0', '#AA82A7',\n",
    "                                                        '#335B8E', '#79c9c9', '#c44545',\n",
    "                                                        '#67C9FF', '#cf7708', '#B5B867', #  '#DEB058'\n",
    "                                                        '#899DA4',\n",
    "                                                         '#CE9486', '#8f7022','#1aa375',\n",
    "                                                        '#AA0000', '#00CCFF', '#0072b1','#FF9900',\n",
    "                                                        '#990099', '#660099','#999900', '#336600'\n",
    "                                                        \n",
    ")"
   ]
  },
  {
   "cell_type": "code",
   "execution_count": null,
   "id": "f423ebe0",
   "metadata": {},
   "outputs": [],
   "source": [
    "Numbat_and_Scitcem = read.csv('../datasets_new_preprocessing/20231108_Numbat_and_Scitcem_resolved_assignment_cellid.csv',\n",
    "                             row.names=1)"
   ]
  },
  {
   "cell_type": "code",
   "execution_count": null,
   "id": "37f2180b",
   "metadata": {},
   "outputs": [],
   "source": [
    "str_imm_id_tumour = read.csv('../datasets_new_preprocessing/str_and_imm_cellid_tumour.csv',\n",
    "                             row.names=1)"
   ]
  },
  {
   "cell_type": "code",
   "execution_count": null,
   "id": "09cda3a7",
   "metadata": {},
   "outputs": [],
   "source": [
    "str_imm_id_normal = read.csv('../datasets_new_preprocessing/str_and_imm_cellid_normal.csv',\n",
    "                             row.names=1)"
   ]
  },
  {
   "cell_type": "markdown",
   "id": "73091658",
   "metadata": {},
   "source": [
    "### Read h5 and transform into Seurat"
   ]
  },
  {
   "cell_type": "code",
   "execution_count": null,
   "id": "67ba288b",
   "metadata": {},
   "outputs": [],
   "source": [
    "h5_path = '../datasets_new_preprocessing/202307_adata_all_full_cell_type_annotation.h5'"
   ]
  },
  {
   "cell_type": "code",
   "execution_count": null,
   "id": "21bd768e",
   "metadata": {},
   "outputs": [],
   "source": [
    "adata_h5 = H5Fopen(h5_path)"
   ]
  },
  {
   "cell_type": "code",
   "execution_count": null,
   "id": "e4e1b560",
   "metadata": {},
   "outputs": [],
   "source": [
    "# main matrix\n",
    "adata_all = read_scanpy_h5(h5_path,\n",
    "                           if_pca = TRUE, if_umap = TRUE, if_CB_counts=TRUE, if_raw_counts=FALSE)"
   ]
  },
  {
   "cell_type": "code",
   "execution_count": null,
   "id": "27353ef0",
   "metadata": {},
   "outputs": [],
   "source": [
    "adata_all"
   ]
  },
  {
   "cell_type": "code",
   "execution_count": null,
   "id": "90f963f2",
   "metadata": {},
   "outputs": [],
   "source": [
    "# get sample label\n",
    "cat = c(adata_h5$obs$'sample'$categories)\n",
    "cat_obs = data.frame(cat_name = cat[apply(adata_h5$obs$'sample'$codes, 1, function(x)x+1)],\n",
    "                                              row.names = adata_h5$obs$`_index`)\n",
    "\n",
    "adata_all = AddMetaData(object = adata_all, metadata = cat_obs, col.name = 'sample')"
   ]
  },
  {
   "cell_type": "code",
   "execution_count": null,
   "id": "edeb54fe",
   "metadata": {},
   "outputs": [],
   "source": [
    "# get patient \n",
    "cat = c(adata_h5$obs$'patient'$categories)\n",
    "cat_obs = data.frame(cat_name = cat[apply(adata_h5$obs$'patient'$codes, 1, function(x)x+1)],\n",
    "                                              row.names = adata_h5$obs$`_index`)\n",
    "\n",
    "adata_all = AddMetaData(object = adata_all, metadata = cat_obs, col.name = 'patient')"
   ]
  },
  {
   "cell_type": "code",
   "execution_count": null,
   "id": "4486bbe9",
   "metadata": {},
   "outputs": [],
   "source": [
    "# get sample_origin \n",
    "cat = c(adata_h5$obs$'sample_origin'$categories)\n",
    "cat_obs = data.frame(cat_name = cat[apply(adata_h5$obs$'sample_origin'$codes, 1, function(x)x+1)],\n",
    "                                              row.names = adata_h5$obs$`_index`)\n",
    "\n",
    "adata_all = AddMetaData(object = adata_all, metadata = cat_obs, col.name = 'sample_origin')"
   ]
  },
  {
   "cell_type": "code",
   "execution_count": null,
   "id": "b30925fc",
   "metadata": {},
   "outputs": [],
   "source": [
    "# get MS_status\n",
    "cat = c(adata_h5$obs$'MS_status'$categories)\n",
    "cat_obs = data.frame(cat_name = cat[apply(adata_h5$obs$'MS_status'$codes, 1, function(x)x+1)],\n",
    "                                              row.names = adata_h5$obs$`_index`)\n",
    "\n",
    "adata_all = AddMetaData(object = adata_all, metadata = cat_obs, col.name = 'MS_status')"
   ]
  },
  {
   "cell_type": "code",
   "execution_count": null,
   "id": "c794c3b9",
   "metadata": {},
   "outputs": [],
   "source": [
    "# get cell type 1a \n",
    "cat = c(adata_h5$obs$'celltype_1a'$categories)\n",
    "cat_obs = data.frame(cat_name = cat[apply(adata_h5$obs$'celltype_1a'$codes, 1, function(x)x+1)],\n",
    "                                              row.names = adata_h5$obs$`_index`)\n",
    "\n",
    "adata_all = AddMetaData(object = adata_all, metadata = cat_obs, col.name = 'celltype_1a')"
   ]
  },
  {
   "cell_type": "code",
   "execution_count": null,
   "id": "98ad473d",
   "metadata": {},
   "outputs": [],
   "source": [
    "# get cell type 2 \n",
    "cat = c(adata_h5$obs$'cell_type_level2'$categories)\n",
    "cat_obs = data.frame(cat_name = cat[apply(adata_h5$obs$'cell_type_level2'$codes, 1, function(x)x+1)],\n",
    "                                              row.names = adata_h5$obs$`_index`)\n",
    "\n",
    "adata_all = AddMetaData(object = adata_all, metadata = cat_obs, col.name = 'cell_type_level2')\n"
   ]
  },
  {
   "cell_type": "code",
   "execution_count": null,
   "id": "4d6137ca",
   "metadata": {},
   "outputs": [],
   "source": [
    "h5closeAll()"
   ]
  },
  {
   "cell_type": "code",
   "execution_count": null,
   "id": "47b7076d",
   "metadata": {},
   "outputs": [],
   "source": [
    "# cell type in Uhlitz \n",
    "cell_type_list = c(unique(adata_all@meta.data['cell_type_level2'])$cell_type_level2) %>% sort()\n",
    "cell_type_list = gsub('/', '_', cell_type_list)\n",
    "cell_type_list = gsub(' ', '_', cell_type_list)\n",
    "cell_type_list"
   ]
  },
  {
   "cell_type": "code",
   "execution_count": null,
   "id": "63c1eefd",
   "metadata": {},
   "outputs": [],
   "source": [
    "# replace the / cuz it will cuz a file saving problem\n",
    "adata_all@meta.data  = adata_all@meta.data %>% mutate(cell_type_level2 = gsub('/', '_', cell_type_level2)) %>%\n",
    "mutate(cell_type_level2 = gsub(' ', '_', cell_type_level2))"
   ]
  },
  {
   "cell_type": "code",
   "execution_count": null,
   "id": "93d37d0b",
   "metadata": {},
   "outputs": [],
   "source": [
    "adata_all"
   ]
  },
  {
   "cell_type": "markdown",
   "id": "3b482a08",
   "metadata": {},
   "source": [
    "adata_all@meta.data = adata_all@meta.data %>% rownames_to_column() %>%\n",
    "left_join(data.frame(patient = sort(unique(adata_all@meta.data$patient)),\n",
    "           anatomy = c('0_Cecum', '0_Cecum', '7_Sigmoid', '2_Ascending', '2_Ascending',\n",
    "                       '9_Rectum', '9_Unspecified', '6_Descending', '0_Cecum', '2_Ascending')),\n",
    "          by = 'patient') %>%\n",
    "column_to_rownames('rowname')"
   ]
  },
  {
   "cell_type": "code",
   "execution_count": null,
   "id": "1c171b62",
   "metadata": {},
   "outputs": [],
   "source": [
    "colnames(adata_all@meta.data)"
   ]
  },
  {
   "cell_type": "code",
   "execution_count": null,
   "id": "2d537d46",
   "metadata": {},
   "outputs": [],
   "source": [
    "table(adata_all@meta.data$sample_origin)"
   ]
  },
  {
   "cell_type": "markdown",
   "id": "a238973b",
   "metadata": {},
   "source": [
    "df = table(adata_all@meta.data[c('sample_origin', 'cell_type_level2')]) %>% as.data.frame() %>% \n",
    "group_by(cell_type_level2) %>%\n",
    "mutate(Percentage = round(Freq/sum(Freq)*100,0),\n",
    "       Sum = sum(Freq)) %>% \n",
    "group_by(sample_origin) %>% mutate(Percentage_sample = round(Freq/sum(Freq)*100,0),\n",
    "       Sum_sample = sum(Freq))\n",
    "\n",
    "df$cell_type_level2 = factor(df$cell_type_level2, levels = cell_type_order)"
   ]
  },
  {
   "cell_type": "markdown",
   "id": "d74bafae",
   "metadata": {
    "scrolled": false
   },
   "source": [
    "options(repr.plot.width=14, \n",
    "        repr.plot.height=6,\n",
    "        repr.plot.res = 200)\n",
    "\n",
    "df %>%\n",
    "ggplot(aes(x = cell_type_level2, y = sample_origin)) + \n",
    "geom_tile(aes(fill = Freq), color = 'black') +\n",
    "geom_text(aes(label = paste0(Freq, '\\n', \n",
    "                             Percentage, '%\\n',\n",
    "                             Percentage_sample, '%'))) +\n",
    "scale_fill_gradient(low = \"grey95\", high = \"red\") +\n",
    "plot_theme_tmod + \n",
    "#coord_equal() +\n",
    "theme(plot.title = element_text(hjust = 0.5),\n",
    "      rect = element_blank(),\n",
    "      axis.ticks = element_blank(),\n",
    "      #aspect.ratio=0.5,\n",
    "      axis.text.x = element_text(angle = 90)) +\n",
    "guides(fill = guide_legend(title = \"Count\")) +\n",
    "labs(title = 'Number of cell in each group\\n',\n",
    "     x = '\\nCell type (including TCs)',\n",
    "     y = 'Sample Origin\\n') +\n",
    "scale_x_discrete(labels = paste0(levels(df$cell_type_level2), ' (',unique(df$Sum),')')) +\n",
    "scale_y_discrete(labels = paste0(levels(df$sample_origin), '\\n (',unique(df$Sum_sample),')'))"
   ]
  },
  {
   "cell_type": "markdown",
   "id": "54791d0d",
   "metadata": {},
   "source": [
    "# barplot\n",
    "cell_type_merge_genomics = adata_all@meta.data[c('sample_origin', 'celltype_1a')] %>% \n",
    "merge(Numbat_and_Scitcem, by = 0, all.x = TRUE) %>%\n",
    "mutate(cell_type_merge = coalesce(cell_identity, celltype_1a)) \n",
    "\n",
    "cell_type_merge_genomics$cell_type_merge = factor(cell_type_merge_genomics$cell_type_merge, \n",
    "                                                  levels = c('imm', 'str',\n",
    "                                                             'normal_sample', 'genomically_normal', \n",
    "                                                             'no confident assignment', 'genomically_tumour'))"
   ]
  },
  {
   "cell_type": "markdown",
   "id": "0926cf5e",
   "metadata": {
    "scrolled": true
   },
   "source": [
    "adata_all@meta.data = adata_all@meta.data %>% \n",
    "rownames_to_column() %>%\n",
    "left_join(cell_type_merge_genomics[c('cell_type_merge', 'Row.names')], by = c('rowname' = 'Row.names'), copy = TRUE) %>%\n",
    "column_to_rownames('rowname')"
   ]
  },
  {
   "cell_type": "markdown",
   "id": "a17318a3",
   "metadata": {
    "scrolled": true
   },
   "source": [
    "options(repr.plot.width=6, \n",
    "        repr.plot.height=6,\n",
    "        repr.plot.res = 200)\n",
    "\n",
    "cell_type_merge_genomics%>%\n",
    "ggplot() +\n",
    "geom_bar(aes(x = sample_origin, fill = cell_type_merge)) +\n",
    "theme_void() + \n",
    "plot_theme_tmod"
   ]
  },
  {
   "cell_type": "markdown",
   "id": "ac77cc64",
   "metadata": {},
   "source": [
    "### cell type composition per sample"
   ]
  },
  {
   "cell_type": "markdown",
   "id": "01d4d735",
   "metadata": {},
   "source": [
    "table(adata_all@meta.data[c('sample', 'celltype_1a')])"
   ]
  },
  {
   "cell_type": "markdown",
   "id": "ae092a2c",
   "metadata": {},
   "source": [
    "# epi, imm, str\n",
    "cell_type_1a_per_sample = adata_all@meta.data[c('sample', 'sample_origin', 'celltype_1a')] %>%\n",
    "mutate(sample_name = substr(sample, 1,5)) %>%\n",
    "group_by(sample, celltype_1a) %>%\n",
    "mutate(sum=n()) %>%\n",
    "group_by(sample) %>%\n",
    "mutate(sum_sample = n()) %>%\n",
    "distinct() %>% \n",
    "arrange(desc(sample))"
   ]
  },
  {
   "cell_type": "markdown",
   "id": "0f0a6ac8",
   "metadata": {},
   "source": [
    "reverse_sample_order = fct_rev(unique(cell_type_1a_per_sample$sample))"
   ]
  },
  {
   "cell_type": "markdown",
   "id": "8cd014b7",
   "metadata": {},
   "source": [
    "options(repr.plot.width=7, \n",
    "        repr.plot.height=4,\n",
    "        repr.plot.res = 200)\n",
    "\n",
    "cell_type_1a_per_sample %>%\n",
    "ggplot(aes(x = sum, y = factor(sample, levels(reverse_sample_order)), fill = celltype_1a)) +\n",
    "geom_col(width = 0.8, position = 'fill', stat = 'identity') +\n",
    "scale_fill_manual(values = c('#144FAC',\n",
    "                             '#DD6B80',\n",
    "                             '#4EAC57'),\n",
    "                 name = 'Cell type',\n",
    "                 labels = c('Epithelial ', 'Immune ', 'Stromal ')) +\n",
    "theme_void() + \n",
    "plot_theme_tmod +\n",
    "theme(axis.title.y = element_text(angle = 90)) +\n",
    "labs(x = 'Proportion', \n",
    "     y = 'Sample\\n') +\n",
    "scale_y_discrete(labels = paste0(levels(reverse_sample_order), ' (', \n",
    "                                 unique(cell_type_1a_per_sample$sum_sample), ')'))"
   ]
  },
  {
   "cell_type": "markdown",
   "id": "a1c123ac",
   "metadata": {},
   "source": [
    "options(repr.plot.width=7, \n",
    "        repr.plot.height=4,\n",
    "        repr.plot.res = 200)\n",
    "\n",
    "cell_type_1a_per_sample %>%\n",
    "ggplot(aes(x = sum, y = sample_name, fill = celltype_1a)) +\n",
    "geom_col(width = 0.8, position = 'stack', stat = 'identity') +\n",
    "scale_fill_manual(values = c('#144FAC',\n",
    "                             '#DD6B80',\n",
    "                             '#4EAC57'),\n",
    "                 name = 'Cell type',\n",
    "                 labels = c('Epithelial ', 'Immune ', 'Stromal ')) +\n",
    "theme_void() + \n",
    "plot_theme_tmod +\n",
    "theme(axis.title.y = element_text(angle = 90)) +\n",
    "labs(x = 'Proportion', \n",
    "     y = 'Sample\\n') "
   ]
  },
  {
   "cell_type": "markdown",
   "id": "7fc065af",
   "metadata": {},
   "source": [
    "rev_sample_name = fct_rev(unique(cell_type_1a_per_sample$sample_name))"
   ]
  },
  {
   "cell_type": "markdown",
   "id": "631313bb",
   "metadata": {},
   "source": [
    "options(repr.plot.width=7, \n",
    "        repr.plot.height=4,\n",
    "        repr.plot.res = 200)\n",
    "\n",
    "cell_type_1a_per_sample %>%\n",
    "ggplot(aes(x = sum, y = factor(sample_name, levels(rev_sample_name)) , fill = celltype_1a)) +\n",
    "geom_col(width = 0.8, position = 'fill', stat = 'identity') +\n",
    "scale_fill_manual(values = c('#144FAC',\n",
    "                             '#DD6B80',\n",
    "                             '#4EAC57'),\n",
    "                 name = 'Cell type',\n",
    "                 labels = c('Epithelial ', 'Immune ', 'Stromal ')) +\n",
    "theme_void() + \n",
    "plot_theme_tmod +\n",
    "theme(axis.title.y = element_text(angle = 90)) +\n",
    "labs(x = 'Proportion', \n",
    "     y = 'Sample\\n') "
   ]
  },
  {
   "cell_type": "markdown",
   "id": "06bdb8e0",
   "metadata": {},
   "source": [
    "# epi, imm, str, Numbat Scitcem\n",
    "cell_type_merge_genomics_per_sample = adata_all@meta.data[c('sample', 'sample_origin', 'celltype_1a')] %>%\n",
    "filter(sample_origin == 'tumour') %>%\n",
    "merge(Numbat_and_Scitcem, by = 0, all.x = TRUE) %>%\n",
    "mutate(cell_type_merge = coalesce(cell_identity, celltype_1a)) %>%\n",
    "group_by(sample, cell_type_merge) %>%\n",
    "mutate(sum=n()) %>%\n",
    "group_by(sample) %>%\n",
    "mutate(sum_sample = n()) %>%\n",
    "distinct(sample,cell_type_merge, sum, sum_sample)\n",
    "\n",
    "cell_type_merge_genomics_per_sample$cell_type_merge = factor(cell_type_merge_genomics_per_sample$cell_type_merge, \n",
    "                                                  levels = c('imm', 'str',\n",
    "                                                             'normal_sample', 'genomically_normal', \n",
    "                                                             'no confident assignment', 'genomically_tumour'))"
   ]
  },
  {
   "cell_type": "markdown",
   "id": "641fd150",
   "metadata": {},
   "source": [
    "number_of_cells_per_sample = adata_all@meta.data %>% group_by(sample) %>% \n",
    "filter(sample_origin == 'tumour') %>%\n",
    "summarise(sum=n()) %>%\n",
    "arrange(desc(sample))"
   ]
  },
  {
   "cell_type": "markdown",
   "id": "8f213f51",
   "metadata": {},
   "source": [
    "head(cell_type_merge_genomics_per_sample)"
   ]
  },
  {
   "cell_type": "markdown",
   "id": "b124b288",
   "metadata": {},
   "source": [
    "options(repr.plot.width=7, \n",
    "        repr.plot.height=3,\n",
    "        repr.plot.res = 200)\n",
    "\n",
    "cell_type_merge_genomics_per_sample %>%\n",
    "ggplot(aes(x = sum, y = factor(sample, number_of_cells_per_sample$sample), fill = cell_type_merge)) +\n",
    "geom_col(width = 0.8, position = 'fill', stat = 'identity') +\n",
    "#geom_text(size = 3, position = position_stack(vjust = 0.5)) +\n",
    "scale_fill_manual(values = c('#DD6B80',\n",
    "                            '#4EAC57',\n",
    "                            '#1f77b4',\n",
    "                            '#9b1ee3',\n",
    "                            '#ff7f0e'),\n",
    "                   name = 'Cell identity\\n(tumour samples)',\n",
    "                   labels = c('Immune',\n",
    "                             'Stromal', \n",
    "                             'Genomically normal',\n",
    "                             'No confident assignment',\n",
    "                              'Genomically tumour')) +\n",
    "theme_void() + \n",
    "plot_theme_tmod +\n",
    "theme(axis.title.y = element_text(angle = 90)) +\n",
    "labs(x = 'Proportion', \n",
    "     y = 'Sample\\n') +\n",
    "scale_y_discrete(labels = paste0(number_of_cells_per_sample$sample, ' (', number_of_cells_per_sample$sum, ')')) "
   ]
  },
  {
   "cell_type": "markdown",
   "id": "e780e6e5",
   "metadata": {},
   "source": [
    "# only epi\n",
    "options(repr.plot.width=7, \n",
    "        repr.plot.height=3,\n",
    "        repr.plot.res = 200)\n",
    "\n",
    "cell_type_merge_genomics_per_sample %>%\n",
    "filter(!cell_type_merge %in% c('imm', 'str')) %>%\n",
    "ggplot(aes(x = sum, y = factor(sample, number_of_cells_per_sample$sample), fill = cell_type_merge)) +\n",
    "geom_col(width = 0.8, position = 'fill', stat = 'identity') +\n",
    "#geom_text(size = 3, position = position_stack(vjust = 0.5)) +\n",
    "scale_fill_manual(values = c(#'#DD6B80',\n",
    "                            #'#4EAC57',\n",
    "                            '#1f77b4',\n",
    "                            '#9b1ee3',\n",
    "                            '#ff7f0e'),\n",
    "                   name = 'Cell identity\\n(tumour samples)',\n",
    "                   labels = c(#'Immune',\n",
    "                             #'Stromal', \n",
    "                             'Genomically normal',\n",
    "                             'No confident assignment',\n",
    "                              'Genomically tumour')) +\n",
    "theme_void() + \n",
    "plot_theme_tmod +\n",
    "theme(axis.title.y = element_text(angle = 90)) +\n",
    "labs(x = 'Proportion', \n",
    "     y = 'Sample\\n') +\n",
    "scale_y_discrete(labels = paste0(number_of_cells_per_sample$sample, ' (', number_of_cells_per_sample$sum, ')')) "
   ]
  },
  {
   "cell_type": "markdown",
   "id": "076dcd34",
   "metadata": {},
   "source": [
    "#### cell type annotation"
   ]
  },
  {
   "cell_type": "code",
   "execution_count": null,
   "id": "aa61729a",
   "metadata": {},
   "outputs": [],
   "source": [
    "adata_all@meta.data = adata_all@meta.data %>% \n",
    "merge(Numbat_and_Scitcem, by = 0, all.x = TRUE)  %>% # this will do rownames to column\n",
    "mutate(cell_type_cell_identity = case_when(is.na(cell_identity) ~ cell_type_level2,\n",
    "                                           cell_identity == 'normal_sample' ~ cell_type_level2,\n",
    "                                           .default = paste0(cell_type_level2, '_', cell_identity))) %>%\n",
    "column_to_rownames('Row.names')"
   ]
  },
  {
   "cell_type": "markdown",
   "id": "2e412b36",
   "metadata": {},
   "source": [
    "# all epi in GN and NN\n",
    "epi_cell_type_merge_genomics_per_sample = adata_all@meta.data[c('patient','sample', 'sample_origin', \n",
    "                                                                'cell_type_level2', 'cell_identity')] %>%\n",
    "filter(cell_identity %in% c('genomically_normal', 'normal_sample')) %>% \n",
    "group_by(sample, cell_identity, cell_type_level2) %>%\n",
    "mutate(sum=n()) %>%\n",
    "group_by(sample) %>%\n",
    "mutate(sum_sample = n()) %>%\n",
    "distinct() %>%\n",
    "arrange(desc(sample))\n"
   ]
  },
  {
   "cell_type": "markdown",
   "id": "30b8ddea",
   "metadata": {},
   "source": [
    "options(repr.plot.width=10, \n",
    "        repr.plot.height=3.5,\n",
    "        repr.plot.res = 200)\n",
    "\n",
    "epi_cell_type_merge_genomics_per_sample %>%\n",
    "ggplot(aes(x = sum, y = patient, fill = cell_type_level2)) +\n",
    "geom_col(width = 0.8, position = 'fill', stat = 'identity') +\n",
    "scale_fill_manual(values = c('#999900', '#336600', '#660099', '#990099', '#00CCFF', '#0072b1',\n",
    "       '#AA0000', '#FF0000', '#FF0099', '#EB9999', '#FF9900'),\n",
    "                 name = 'Epithelial cell type')+\n",
    "theme_void() + \n",
    "plot_theme_tmod +\n",
    "theme(axis.title.y = element_text(angle = 90)) +\n",
    "labs(x = 'Proportion', \n",
    "     y = 'Patient\\n') +\n",
    "facet_grid(cols = vars(cell_identity))\n",
    "\n"
   ]
  },
  {
   "cell_type": "markdown",
   "id": "ab47f325",
   "metadata": {},
   "source": [
    "### differentiation cell states are preserved in genomically normal "
   ]
  },
  {
   "cell_type": "markdown",
   "id": "c1fd633d",
   "metadata": {},
   "source": [
    "cell_state_across_CI= adata_all@meta.data[c('cell_identity', 'cell_type_level2', 'celltype_1a')] %>%\n",
    "group_by(cell_identity, cell_type_level2) %>%\n",
    "mutate(sum=n()) %>% distinct()"
   ]
  },
  {
   "cell_type": "markdown",
   "id": "d168cb2b",
   "metadata": {},
   "source": [
    "# NT NN\n",
    "options(repr.plot.width=7, \n",
    "        repr.plot.height=2,\n",
    "        repr.plot.res = 200)\n",
    "\n",
    "cell_state_across_CI %>%\n",
    "filter(!celltype_1a %in% c('imm', 'str')) %>%\n",
    "filter(cell_identity %in% c('genomically_normal', 'normal_sample')) %>%\n",
    "ggplot(aes(x = sum, y = cell_identity, fill = cell_type_level2)) +\n",
    "geom_col(width = 0.8, position = 'fill', stat = 'identity') +\n",
    "theme_void() + \n",
    "plot_theme_tmod +\n",
    "theme(axis.title.y = element_text(angle = 90),\n",
    "     legend.position = 'none') +\n",
    "labs(x = '\\nProportion\\n', \n",
    "     y = 'Cell identity\\n') +\n",
    "scale_fill_manual(values = c('#999900', '#336600', '#660099', '#990099', '#00CCFF', '#0072b1',\n",
    "       '#AA0000', '#FF0000', '#FF0099', '#EB9999', '#FF9900'),\n",
    "                 name = 'Epithelial cell type')+\n",
    "scale_y_discrete(labels = c('genomically normal','normal sample'))#+\n",
    "#guides(fill=guide_legend(ncol=2))\n",
    "#scale_y_discrete(labels = paste0(number_of_cells_per_sample$sample, ' (', number_of_cells_per_sample$sum, ')')) "
   ]
  },
  {
   "cell_type": "markdown",
   "id": "553a3530",
   "metadata": {},
   "source": [
    "options(repr.plot.width=7, \n",
    "        repr.plot.height=3,\n",
    "        repr.plot.res = 200)\n",
    "\n",
    "cell_state_across_CI %>%\n",
    "filter(!celltype_1a %in% c('imm', 'str')) %>%\n",
    "ggplot(aes(x = sum, y = cell_identity, fill = cell_type_level2)) +\n",
    "geom_col(width = 0.8, position = 'fill', stat = 'identity') +\n",
    "theme_void() + \n",
    "plot_theme_tmod +\n",
    "theme(axis.title.y = element_text(angle = 90)) +\n",
    "labs(x = 'Proportion', \n",
    "     y = 'Cell identity\\n') +\n",
    "scale_fill_manual(values = c('#999900', '#336600', '#660099', '#990099', '#00CCFF', '#0072b1',\n",
    "       '#AA0000', '#FF0000', '#FF0099', '#EB9999', '#FF9900'),\n",
    "                 name = 'Epithelial cell type')+\n",
    "guides(fill=guide_legend(ncol=2))\n",
    "#scale_y_discrete(labels = paste0(number_of_cells_per_sample$sample, ' (', number_of_cells_per_sample$sum, ')')) "
   ]
  },
  {
   "cell_type": "markdown",
   "id": "7882de3f",
   "metadata": {},
   "source": [
    "### Cellchat label-free mode: did not find the function ....."
   ]
  },
  {
   "cell_type": "markdown",
   "id": "cde1fb6d",
   "metadata": {},
   "source": [
    "help(createCellChat)"
   ]
  },
  {
   "cell_type": "markdown",
   "id": "88e7c712",
   "metadata": {},
   "source": [
    "### label-based mode"
   ]
  },
  {
   "cell_type": "markdown",
   "id": "fa0cb051",
   "metadata": {},
   "source": [
    "### Create a cell type / group label that can later separate NT and TT"
   ]
  },
  {
   "cell_type": "markdown",
   "id": "e31440c3",
   "metadata": {
    "scrolled": true
   },
   "source": [
    "adata_all@meta.data = adata_all@meta.data %>% \n",
    "merge(Numbat_and_Scitcem, by = 0, all.x = TRUE)  %>% # this will do rownames to column\n",
    "mutate(cell_type_cell_identity = case_when(is.na(Numbat_and_Scitcem) ~ cell_type_level2,\n",
    "                                           Numbat_and_Scitcem == 'normal_sample' ~ cell_type_level2,\n",
    "                                           .default = paste0(cell_type_level2, '_', Numbat_and_Scitcem))) %>%\n",
    "column_to_rownames('Row.names')"
   ]
  },
  {
   "cell_type": "code",
   "execution_count": null,
   "id": "5d4b774d",
   "metadata": {},
   "outputs": [],
   "source": [
    "# all genomically tumour as tumour\n",
    "adata_all@meta.data = adata_all@meta.data %>% \n",
    "mutate(cell_identity_resolved_tumour = case_when(is.na(cell_identity) ~ cell_type_level2,\n",
    "                                                 cell_identity == 'genomically_tumour' ~ 'Tumour',\n",
    "                                                 .default = cell_type_level2))\n",
    "                                                 #cell_identity == 'normal_sample' ~ cell_type_level2,\n",
    "\n",
    "                                                 #.default = paste0(cell_type_level2, '_', cell_identity)))\n"
   ]
  },
  {
   "cell_type": "code",
   "execution_count": null,
   "id": "ae34a7a1",
   "metadata": {},
   "outputs": [],
   "source": [
    "table(adata_all@meta.data['cell_identity_resolved_tumour'])"
   ]
  },
  {
   "cell_type": "code",
   "execution_count": null,
   "id": "2bb1b3cc",
   "metadata": {},
   "outputs": [],
   "source": [
    "# subset tumour samples vs normal sample\n",
    "adata_GT_TME = subset(adata_all, subset = sample_origin == 'tumour' & \n",
    "                      cell_identity %in% c(NA, 'genomically_tumour') &\n",
    "                      cell_type_level2 != 'Monocytes')\n",
    "\n",
    "adata_GN_noTCs = subset(adata_all, subset = sample_origin == 'tumour' & cell_identity == 'genomically_normal' &\n",
    "                 cell_type_level2 %notin% c('TC1', 'TC2', 'TC3', 'TC4', 'Monocytes'))\n",
    "\n",
    "adata_n_noTCs = subset(adata_all, subset = sample_origin == 'normal' & \n",
    "                       cell_type_level2 %notin% c('TC1', 'TC2', 'TC3', 'TC4', 'Monocytes'))"
   ]
  },
  {
   "cell_type": "code",
   "execution_count": null,
   "id": "5cc0dc79",
   "metadata": {},
   "outputs": [],
   "source": [
    "adata_all@meta.data = adata_all@meta.data %>% mutate(cell_id = rownames(adata_all@meta.data))"
   ]
  },
  {
   "cell_type": "code",
   "execution_count": null,
   "id": "90f31be0",
   "metadata": {},
   "outputs": [],
   "source": [
    "most_DC2_tumour_like_cell_from_normal = subset(adata_all, subset = cell_id == 'p007n:CCTATCGAGATGAACT')"
   ]
  },
  {
   "cell_type": "code",
   "execution_count": null,
   "id": "5d8ec0be",
   "metadata": {},
   "outputs": [],
   "source": [
    "most_DC2_tumour_like_cell_from_normal@meta.data['cell_type_level2'] = 'Tumour'\n",
    "\n",
    "most_DC2_tumour_like_cell_from_normal@meta.data['cell_type_cell_identity'] = 'Tumour'\n",
    "\n",
    "most_DC2_tumour_like_cell_from_normal@meta.data['cell_identity_resolved_tumour'] = 'Tumour'"
   ]
  },
  {
   "cell_type": "code",
   "execution_count": null,
   "id": "0de4dc63",
   "metadata": {},
   "outputs": [],
   "source": [
    "most_DC2_tumour_like_cell_from_normal@meta.data"
   ]
  },
  {
   "cell_type": "code",
   "execution_count": null,
   "id": "3770c9a1",
   "metadata": {},
   "outputs": [],
   "source": [
    "adata_GT_TME"
   ]
  },
  {
   "cell_type": "code",
   "execution_count": null,
   "id": "3c2e0b0d",
   "metadata": {},
   "outputs": [],
   "source": [
    "adata_GN_noTCs"
   ]
  },
  {
   "cell_type": "code",
   "execution_count": null,
   "id": "27b3b69d",
   "metadata": {},
   "outputs": [],
   "source": [
    "adata_n_noTCs"
   ]
  },
  {
   "cell_type": "code",
   "execution_count": null,
   "id": "1dc03ed1",
   "metadata": {},
   "outputs": [],
   "source": [
    "adata_n = merge(adata_n_noTCs,most_DC2_tumour_like_cell_from_normal)"
   ]
  },
  {
   "cell_type": "code",
   "execution_count": null,
   "id": "a3adb426",
   "metadata": {},
   "outputs": [],
   "source": [
    "adata_t = merge(adata_GT_TME, adata_GN_noTCs)"
   ]
  },
  {
   "cell_type": "markdown",
   "id": "29c83942",
   "metadata": {},
   "source": [
    "#### make cellchat obj"
   ]
  },
  {
   "cell_type": "code",
   "execution_count": null,
   "id": "0a1cc271",
   "metadata": {},
   "outputs": [],
   "source": [
    "cellchat_tumour = createCellChat(object = adata_t, group.by = \"cell_identity_resolved_tumour\")"
   ]
  },
  {
   "cell_type": "code",
   "execution_count": null,
   "id": "57420fcb",
   "metadata": {},
   "outputs": [],
   "source": [
    "cellchat_normal = createCellChat(object = adata_n, group.by = \"cell_identity_resolved_tumour\")"
   ]
  },
  {
   "cell_type": "code",
   "execution_count": null,
   "id": "63df2619",
   "metadata": {},
   "outputs": [],
   "source": [
    "cellchat_normal@idents = factor(cellchat_normal@idents,  \n",
    "                                     levels = cell_type_order_with_Tumour_without_Monocytes)"
   ]
  },
  {
   "cell_type": "code",
   "execution_count": null,
   "id": "71e07a00",
   "metadata": {},
   "outputs": [],
   "source": [
    "cellchat_tumour@idents = factor(cellchat_tumour@idents,  \n",
    "                                     levels = cell_type_order_with_Tumour_without_Monocytes)"
   ]
  },
  {
   "cell_type": "code",
   "execution_count": null,
   "id": "c0ad8b68",
   "metadata": {},
   "outputs": [],
   "source": [
    "CellChatDB <- CellChatDB.human"
   ]
  },
  {
   "cell_type": "code",
   "execution_count": null,
   "id": "06dc49e7",
   "metadata": {},
   "outputs": [],
   "source": [
    "showDatabaseCategory(CellChatDB)"
   ]
  },
  {
   "cell_type": "code",
   "execution_count": null,
   "id": "5055efd8",
   "metadata": {},
   "outputs": [],
   "source": [
    "# use all pathways \n",
    "CellChatDB.use <- CellChatDB\n",
    "cellchat_normal@DB <- CellChatDB.use\n",
    "cellchat_tumour@DB <- CellChatDB.use"
   ]
  },
  {
   "cell_type": "code",
   "execution_count": null,
   "id": "b68cf437",
   "metadata": {},
   "outputs": [],
   "source": [
    "# filter to only genes exist in the database\n",
    "cellchat_normal <- subsetData(cellchat_normal) \n",
    "cellchat_tumour <- subsetData(cellchat_tumour)"
   ]
  },
  {
   "cell_type": "code",
   "execution_count": null,
   "id": "d6cde117",
   "metadata": {},
   "outputs": [],
   "source": [
    "plan(\"multisession\", workers = 8)\n",
    "# Error: Strategy 'multiprocess' is defunct in future (>= 1.32.0) [2023-03-06]. \n",
    "# Instead, explicitly specify either 'multisession' (recommended) or 'multicore'."
   ]
  },
  {
   "cell_type": "code",
   "execution_count": null,
   "id": "cc00fe0f",
   "metadata": {},
   "outputs": [],
   "source": [
    "options(future.globals.maxSize = 8000 * 1024^2)"
   ]
  },
  {
   "cell_type": "code",
   "execution_count": null,
   "id": "b7e1c2ba",
   "metadata": {},
   "outputs": [],
   "source": [
    "cellchat_normal <- identifyOverExpressedGenes(cellchat_normal)\n",
    "cellchat_normal <- identifyOverExpressedInteractions(cellchat_normal)"
   ]
  },
  {
   "cell_type": "code",
   "execution_count": null,
   "id": "a78d25fc",
   "metadata": {},
   "outputs": [],
   "source": [
    "cellchat_tumour <- identifyOverExpressedGenes(cellchat_tumour)\n",
    "cellchat_tumour <- identifyOverExpressedInteractions(cellchat_tumour)"
   ]
  },
  {
   "cell_type": "code",
   "execution_count": null,
   "id": "ee0b44d3",
   "metadata": {},
   "outputs": [],
   "source": [
    "# project gene expression data onto PPI (Optional: when running it, USER should set `raw.use = FALSE` \n",
    "# in the function `computeCommunProb()` in order to use the projected data)\n",
    "# cellchat <- projectData(cellchat, PPI.human)"
   ]
  },
  {
   "cell_type": "markdown",
   "id": "f0436b8a",
   "metadata": {},
   "source": [
    "triMean is used for calculating the average gene expression per cell group. \n",
    "\n",
    "Error in computeCommunProb(cellchat_normal): Please check `unique(object@idents)` and ensure that the factor levels are correct!\n",
    "         You may need to drop unused levels using 'droplevels' function. e.g.,\n",
    "         `meta$labels = droplevels(meta$labels, exclude = setdiff(levels(meta$labels),unique(meta$labels)))`\n",
    "Traceback:\n",
    "\n",
    "1. computeCommunProb(cellchat_normal)\n",
    "2. stop(\"Please check `unique(object@idents)` and ensure that the factor levels are correct!\\n         You may need to drop unused levels using 'droplevels' function. e.g.,\\n         `meta$labels = droplevels(meta$labels, exclude = setdiff(levels(meta$labels),unique(meta$labels)))`\")\n",
    "\n"
   ]
  },
  {
   "cell_type": "code",
   "execution_count": null,
   "id": "97e303b3",
   "metadata": {},
   "outputs": [],
   "source": [
    "cellchat_normal <- computeCommunProb(cellchat_normal)"
   ]
  },
  {
   "cell_type": "code",
   "execution_count": null,
   "id": "1e7284f2",
   "metadata": {},
   "outputs": [],
   "source": [
    "cellchat_tumour <- computeCommunProb(cellchat_tumour)"
   ]
  },
  {
   "cell_type": "code",
   "execution_count": null,
   "id": "42c66771",
   "metadata": {},
   "outputs": [],
   "source": [
    "# Filter out the cell-cell communication if there are only few number of cells in certain cell groups\n",
    "cellchat_normal <- filterCommunication(cellchat_normal, min.cells = 10)\n",
    "cellchat_tumour <- filterCommunication(cellchat_tumour, min.cells = 10)"
   ]
  },
  {
   "cell_type": "code",
   "execution_count": null,
   "id": "45ba780c",
   "metadata": {},
   "outputs": [],
   "source": [
    "cellchat_normal <- computeCommunProbPathway(cellchat_normal)\n",
    "cellchat_tumour <- computeCommunProbPathway(cellchat_tumour)"
   ]
  },
  {
   "cell_type": "code",
   "execution_count": null,
   "id": "07c95297",
   "metadata": {},
   "outputs": [],
   "source": [
    "cellchat_normal <- aggregateNet(cellchat_normal)\n",
    "cellchat_tumour <- aggregateNet(cellchat_tumour)"
   ]
  },
  {
   "cell_type": "code",
   "execution_count": null,
   "id": "c886c1cf",
   "metadata": {},
   "outputs": [],
   "source": [
    "groupSize_normal <- as.numeric(table(cellchat_normal@idents))\n",
    "groupSize_tumour <- as.numeric(table(cellchat_tumour@idents))"
   ]
  },
  {
   "cell_type": "markdown",
   "id": "b1416a08",
   "metadata": {},
   "source": [
    "Warning message:\n",
    "“UNRELIABLE VALUE: One of the ‘future.apply’ iterations (‘future_sapply-1’) unexpectedly generated random numbers without declaring so. There is a risk that those random numbers are not statistically sound and the overall results might be invalid. To fix this, specify 'future.seed=TRUE'. This ensures that proper, parallel-safe random numbers are produced via the L'Ecuyer-CMRG method. To disable this check, use 'future.seed = NULL', or set option 'future.rng.onMisuse' to \"ignore\".”"
   ]
  },
  {
   "cell_type": "code",
   "execution_count": null,
   "id": "1abae0f2",
   "metadata": {},
   "outputs": [],
   "source": [
    "cellchat_normal <- netAnalysis_computeCentrality(cellchat_normal, slot.name = \"netP\")\n",
    "cellchat_tumour <- netAnalysis_computeCentrality(cellchat_tumour, slot.name = \"netP\") \n",
    "# the slot 'netP' means the inferred intercellular communication network of signaling pathways"
   ]
  },
  {
   "cell_type": "code",
   "execution_count": null,
   "id": "39f9c0ff",
   "metadata": {},
   "outputs": [],
   "source": [
    "saveRDS(cellchat_normal, \"202401_cellchat_normal.rds\")\n"
   ]
  },
  {
   "cell_type": "code",
   "execution_count": null,
   "id": "5736528c",
   "metadata": {},
   "outputs": [],
   "source": [
    "saveRDS(cellchat_tumour, \"202401_cellchat_tumour.rds\")\n"
   ]
  },
  {
   "cell_type": "markdown",
   "id": "432cbf86",
   "metadata": {},
   "source": [
    "### try to split genomically normal and tumour out of tumour samples"
   ]
  },
  {
   "cell_type": "markdown",
   "id": "9ed613ac",
   "metadata": {},
   "source": [
    "length(str_imm_id_tumour$cell_id)"
   ]
  },
  {
   "cell_type": "markdown",
   "id": "4adc0f4b",
   "metadata": {},
   "source": [
    "table(Numbat_and_Scitcem)"
   ]
  },
  {
   "cell_type": "markdown",
   "id": "11809cdf",
   "metadata": {},
   "source": [
    "id_for_TT = c(rownames(subset(Numbat_and_Scitcem, Numbat_and_Scitcem == 'tumour_in_tumour')),\n",
    "                                                    str_imm_id_tumour$cell_id)"
   ]
  },
  {
   "cell_type": "markdown",
   "id": "75647e6b",
   "metadata": {},
   "source": [
    "id_for_TN = c(rownames(subset(Numbat_and_Scitcem, Numbat_and_Scitcem == 'normal_in_tumour')),\n",
    "                                                    str_imm_id_tumour$cell_id)"
   ]
  },
  {
   "cell_type": "markdown",
   "id": "63bf895c",
   "metadata": {
    "scrolled": true
   },
   "source": [
    "cell_chat_tumour_tumour = subset_CellChat_single_dataset_rev(cellchat_tumour, cells.use = id_for_TT)"
   ]
  },
  {
   "cell_type": "markdown",
   "id": "3f4a093b",
   "metadata": {},
   "source": [
    "cell_chat_tumour_tumour"
   ]
  },
  {
   "cell_type": "markdown",
   "id": "e319905b",
   "metadata": {},
   "source": [
    "cell_chat_tumour_normal = subset_CellChat_single_dataset_rev(cellchat_tumour, cells.use = id_for_TN)"
   ]
  },
  {
   "cell_type": "markdown",
   "id": "5163dfdc",
   "metadata": {},
   "source": [
    "cell_chat_tumour_normal"
   ]
  },
  {
   "cell_type": "markdown",
   "id": "60b71abd",
   "metadata": {},
   "source": [
    "cellchat_normal"
   ]
  },
  {
   "cell_type": "markdown",
   "id": "901776b9",
   "metadata": {},
   "source": [
    "dim(str_imm_id_tumour)"
   ]
  },
  {
   "cell_type": "markdown",
   "id": "55b6bcbd",
   "metadata": {},
   "source": [
    "dim(str_imm_id_normal)"
   ]
  },
  {
   "cell_type": "markdown",
   "id": "5979d5ee",
   "metadata": {},
   "source": [
    "#### plot"
   ]
  },
  {
   "cell_type": "code",
   "execution_count": null,
   "id": "0caf71ef",
   "metadata": {},
   "outputs": [],
   "source": [
    "options(repr.plot.width=10, \n",
    "        repr.plot.height=10,\n",
    "        repr.plot.res = 200)\n",
    "\n",
    "netVisual_circle(cellchat_tumour@net$count, vertex.weight = groupSize_tumour, \n",
    "                 weight.scale = T, label.edge= F, title.name = \"Number of interactions\", \n",
    "                 color.use = cell_type_order_with_Tumour_without_Monocytes_color)"
   ]
  },
  {
   "cell_type": "code",
   "execution_count": null,
   "id": "2da308a9",
   "metadata": {},
   "outputs": [],
   "source": [
    "netVisual_circle(cellchat_normal@net$count, vertex.weight = groupSize_normal, \n",
    "                 weight.scale = T, label.edge= F, title.name = \"Number of interactions\", \n",
    "                 color.use = cell_type_order_with_Tumour_without_Monocytes_color)"
   ]
  },
  {
   "cell_type": "code",
   "execution_count": null,
   "id": "23f1936e",
   "metadata": {},
   "outputs": [],
   "source": [
    "mat <- cellchat_tumour@net$weight\n",
    "par(mfrow = c(2,2), xpd=TRUE)\n",
    "for (i in 1:nrow(mat)) {\n",
    "  mat2 <- matrix(0, nrow = nrow(mat), ncol = ncol(mat), dimnames = dimnames(mat))\n",
    "  mat2[i, ] <- mat[i, ]\n",
    "  netVisual_circle(mat2, vertex.weight = groupSize_tumour, weight.scale = T, edge.weight.max = max(mat), \n",
    "                   title.name = rownames(mat)[i],\n",
    "                   color.use = cell_type_order_with_Tumour_without_Monocytes_color)\n",
    "}"
   ]
  },
  {
   "cell_type": "code",
   "execution_count": null,
   "id": "ef3e76c6",
   "metadata": {},
   "outputs": [],
   "source": [
    "mat <- cellchat_normal@net$weight\n",
    "par(mfrow = c(2,2), xpd=TRUE)\n",
    "for (i in 1:nrow(mat)) {\n",
    "  mat2 <- matrix(0, nrow = nrow(mat), ncol = ncol(mat), dimnames = dimnames(mat))\n",
    "  mat2[i, ] <- mat[i, ]\n",
    "  netVisual_circle(mat2, vertex.weight = groupSize_normal, weight.scale = T, edge.weight.max = max(mat), \n",
    "                   title.name = rownames(mat)[i],\n",
    "                color.use = cell_type_order_with_Tumour_without_Monocytes_color\n",
    ") \n",
    "}"
   ]
  },
  {
   "cell_type": "markdown",
   "id": "e024207f",
   "metadata": {},
   "source": [
    "### pathway"
   ]
  },
  {
   "cell_type": "markdown",
   "id": "bd5fe10e",
   "metadata": {},
   "source": [
    "This hierarchical plot consist of two components: \n",
    "the left portion shows autocrine and paracrine signaling to certain cell groups of interest (i.e, the defined vertex.receiver), \n",
    "and the right portion shows autocrine and paracrine signaling to the remaining cell groups in the dataset."
   ]
  },
  {
   "cell_type": "markdown",
   "id": "8266e252",
   "metadata": {},
   "source": [
    "TGFb, WNT, ncWNT, BMP, KRAS"
   ]
  },
  {
   "cell_type": "markdown",
   "id": "c74b3e59",
   "metadata": {},
   "source": [
    "####  pathways that have significant communication"
   ]
  },
  {
   "cell_type": "code",
   "execution_count": null,
   "id": "8fa18870",
   "metadata": {},
   "outputs": [],
   "source": [
    "sort(cellchat_normal@netP$pathways) # 92"
   ]
  },
  {
   "cell_type": "code",
   "execution_count": null,
   "id": "8138b402",
   "metadata": {},
   "outputs": [],
   "source": [
    "sort(cellchat_tumour@netP$pathways) # 100"
   ]
  },
  {
   "cell_type": "code",
   "execution_count": null,
   "id": "13796d16",
   "metadata": {},
   "outputs": [],
   "source": [
    "shared_sig_pathways = intersect(sort(cellchat_normal@netP$pathways), sort(cellchat_tumour@netP$pathways))"
   ]
  },
  {
   "cell_type": "code",
   "execution_count": null,
   "id": "d9e82249",
   "metadata": {},
   "outputs": [],
   "source": [
    "shared_sig_pathways"
   ]
  },
  {
   "cell_type": "code",
   "execution_count": null,
   "id": "6b2cd6c6",
   "metadata": {},
   "outputs": [],
   "source": [
    "pathways.show <- 'BMP'"
   ]
  },
  {
   "cell_type": "code",
   "execution_count": null,
   "id": "6139d691",
   "metadata": {},
   "outputs": [],
   "source": [
    "length(levels(cellchat_tumour@idents))"
   ]
  },
  {
   "cell_type": "code",
   "execution_count": null,
   "id": "39700f13",
   "metadata": {},
   "outputs": [],
   "source": []
  },
  {
   "cell_type": "code",
   "execution_count": null,
   "id": "1ca49cc0",
   "metadata": {},
   "outputs": [],
   "source": [
    "data.frame(levels(cellchat_tumour@idents), c(1:20)) #%>% \n",
    "#filter(str_detect(levels.cellchat_tumour.idents., 'genomically_normal'))"
   ]
  },
  {
   "cell_type": "code",
   "execution_count": null,
   "id": "a00eab18",
   "metadata": {},
   "outputs": [],
   "source": [
    "# cell group index: all epi in NT\n",
    "#NT_epi = c(6,7,9,10,17,18,20)\n",
    "NT_epi = c(13,14,15,16,17,18,19,20)"
   ]
  },
  {
   "cell_type": "code",
   "execution_count": null,
   "id": "1e5db380",
   "metadata": {},
   "outputs": [],
   "source": [
    "netVisual_aggregate(cellchat_tumour, signaling = pathways.show, \n",
    "                    vertex.receiver = NT_epi, layout = 'hierarchy')"
   ]
  },
  {
   "cell_type": "markdown",
   "id": "6896dedb",
   "metadata": {
    "scrolled": true
   },
   "source": [
    "netVisual_aggregate(cellchat_tumour, signaling = pathways.show, layout = \"chord\")\n",
    "Error: not enough space for cells at track index '1'."
   ]
  },
  {
   "cell_type": "code",
   "execution_count": null,
   "id": "48a227ce",
   "metadata": {},
   "outputs": [],
   "source": [
    "options(repr.plot.width=7, \n",
    "        repr.plot.height=7,\n",
    "        repr.plot.res = 200)\n",
    "\n",
    "netVisual_heatmap(cellchat_tumour, color.heatmap = \"Reds\", measure = 'weight')"
   ]
  },
  {
   "cell_type": "code",
   "execution_count": null,
   "id": "38915008",
   "metadata": {},
   "outputs": [],
   "source": [
    "options(repr.plot.width=7, \n",
    "        repr.plot.height=7,\n",
    "        repr.plot.res = 200)\n",
    "\n",
    "netVisual_heatmap(cellchat_normal, color.heatmap = \"Reds\")"
   ]
  },
  {
   "cell_type": "code",
   "execution_count": null,
   "id": "078a62db",
   "metadata": {},
   "outputs": [],
   "source": [
    "netVisual_heatmap(cellchat_normal, color.heatmap = \"Reds\", measure = 'weight')"
   ]
  },
  {
   "cell_type": "code",
   "execution_count": null,
   "id": "07b11a7f",
   "metadata": {},
   "outputs": [],
   "source": [
    "options(repr.plot.width=8, \n",
    "        repr.plot.height=8,\n",
    "        repr.plot.res = 200)\n",
    "\n",
    "netVisual_heatmap(cellchat_tumour, signaling = pathways.show, color.heatmap = \"Reds\") "
   ]
  },
  {
   "cell_type": "code",
   "execution_count": null,
   "id": "bcfaae49",
   "metadata": {},
   "outputs": [],
   "source": [
    "options(repr.plot.width=4, \n",
    "        repr.plot.height=4,\n",
    "        repr.plot.res = 200)\n",
    "\n",
    "netAnalysis_contribution(cellchat_tumour, signaling = pathways.show)"
   ]
  },
  {
   "cell_type": "markdown",
   "id": "aa2a9cb7",
   "metadata": {},
   "source": [
    "show all the significant interactions (L-R pairs) from some cell groups (defined by 'sources.use')\n",
    "to other cell groups (defined by 'targets.use')\n",
    "netVisual_bubble(cellchat, sources.use = 4, targets.use = c(5:11), remove.isolate = FALSE)"
   ]
  },
  {
   "cell_type": "markdown",
   "id": "fa6ca980",
   "metadata": {},
   "source": [
    "netVisual_bubble(cellchat_tumour, sources.use = 1, targets.use = NT_epi, \n",
    "                 signaling = c(\"BMP\"), remove.isolate = FALSE)"
   ]
  },
  {
   "cell_type": "markdown",
   "id": "76845fb2",
   "metadata": {},
   "source": [
    "pairLR.use <- extractEnrichedLR(cellchat, signaling = c(\"CCL\",\"CXCL\",\"FGF\"))\n",
    "netVisual_bubble(cellchat, sources.use = c(3,4), targets.use = c(5:8), \n",
    "                 pairLR.use = pairLR.use, remove.isolate = TRUE)"
   ]
  },
  {
   "cell_type": "markdown",
   "id": "ef0ca910",
   "metadata": {},
   "source": [
    "plotGeneExpression(cellchat, signaling = \"CXCL\")"
   ]
  },
  {
   "cell_type": "code",
   "execution_count": null,
   "id": "e3e1e1ad",
   "metadata": {},
   "outputs": [],
   "source": [
    "options(repr.plot.width=14, \n",
    "        repr.plot.height=5,\n",
    "        repr.plot.res = 300)\n",
    "\n",
    "netAnalysis_signalingRole_network(cellchat_tumour, signaling = pathways.show, \n",
    "                                  width = 25, height = 5, \n",
    "                                  font.size = 10) "
   ]
  },
  {
   "cell_type": "code",
   "execution_count": null,
   "id": "e25c7e5f",
   "metadata": {},
   "outputs": [],
   "source": [
    "options(repr.plot.width=8, \n",
    "        repr.plot.height=8,\n",
    "        repr.plot.res = 200)\n",
    "\n",
    "netAnalysis_signalingRole_scatter(cellchat_tumour)"
   ]
  },
  {
   "cell_type": "code",
   "execution_count": null,
   "id": "7b272e38",
   "metadata": {},
   "outputs": [],
   "source": [
    "options(repr.plot.width=6, \n",
    "        repr.plot.height=5,\n",
    "        repr.plot.res = 200)\n",
    "\n",
    "netAnalysis_signalingRole_scatter(cellchat_tumour, signaling = c(\"NOTCH\"))"
   ]
  },
  {
   "cell_type": "code",
   "execution_count": null,
   "id": "691edd85",
   "metadata": {},
   "outputs": [],
   "source": [
    "options(repr.plot.width=14, \n",
    "        repr.plot.height=5,\n",
    "        repr.plot.res = 300)\n",
    "\n",
    "netAnalysis_signalingRole_network(cellchat_tumour, signaling = 'NOTCH', \n",
    "                                  width = 25, height = 5, \n",
    "                                  font.size = 10) "
   ]
  },
  {
   "cell_type": "code",
   "execution_count": null,
   "id": "6caad985",
   "metadata": {},
   "outputs": [],
   "source": [
    "options(repr.plot.width=5, \n",
    "        repr.plot.height=6,\n",
    "        repr.plot.res = 200)\n",
    "\n",
    "netAnalysis_contribution(cellchat_tumour, signaling = 'NOTCH')"
   ]
  },
  {
   "cell_type": "code",
   "execution_count": null,
   "id": "17d6dee6",
   "metadata": {},
   "outputs": [],
   "source": []
  },
  {
   "cell_type": "code",
   "execution_count": null,
   "id": "2dbfd145",
   "metadata": {},
   "outputs": [],
   "source": []
  },
  {
   "cell_type": "code",
   "execution_count": null,
   "id": "f0b95b8b",
   "metadata": {},
   "outputs": [],
   "source": []
  },
  {
   "cell_type": "code",
   "execution_count": null,
   "id": "e8fdb6a6",
   "metadata": {},
   "outputs": [],
   "source": [
    "options(repr.plot.width=14, \n",
    "        repr.plot.height=20,\n",
    "        repr.plot.res = 200)\n",
    "\n",
    "netAnalysis_signalingRole_heatmap(cellchat_tumour, pattern = \"outgoing\", \n",
    "                                  width = 30, height = 40, font.size = 10#,\n",
    "                                  #signaling = shared_sig_pathways\n",
    "                                 )"
   ]
  },
  {
   "cell_type": "code",
   "execution_count": null,
   "id": "ebabcedb",
   "metadata": {},
   "outputs": [],
   "source": [
    "options(repr.plot.width=14, \n",
    "        repr.plot.height=20,\n",
    "        repr.plot.res = 200)\n",
    "\n",
    "netAnalysis_signalingRole_heatmap(cellchat_tumour, pattern = \"incoming\", \n",
    "                                  width = 30, height = 40, font.size = 10#,\n",
    "                                  #signaling = shared_sig_pathways\n",
    "                                 )"
   ]
  },
  {
   "cell_type": "markdown",
   "id": "230f24cd",
   "metadata": {},
   "source": [
    "options(repr.plot.width=14, \n",
    "        repr.plot.height=20,\n",
    "        repr.plot.res = 200)\n",
    "\n",
    "netAnalysis_signalingRole_heatmap(cellchat_normal, pattern = \"outgoing\", \n",
    "                                  width = 30, height = 40, font.size = 10)\n",
    "\n"
   ]
  },
  {
   "cell_type": "markdown",
   "id": "f2743131",
   "metadata": {},
   "source": [
    "options(repr.plot.width=14, \n",
    "        repr.plot.height=20,\n",
    "        repr.plot.res = 200)\n",
    "\n",
    "netAnalysis_signalingRole_heatmap(cellchat_normal, pattern = \"incoming\", \n",
    "                                  width = 30, height = 40, font.size = 10)\n"
   ]
  },
  {
   "cell_type": "markdown",
   "id": "69095b4c",
   "metadata": {
    "scrolled": true
   },
   "source": [
    "netVisual_bubble(cellchat_tumour, targets.use = NT_epi,  remove.isolate = TRUE, signaling = 'WNT')"
   ]
  },
  {
   "cell_type": "markdown",
   "id": "25191c6d",
   "metadata": {},
   "source": [
    "### revise netAnalysis_signalingRole_heatmap to plot target cell type and pathways"
   ]
  },
  {
   "cell_type": "markdown",
   "id": "dbcf8c2d",
   "metadata": {},
   "source": [
    "# net: network communication prob of all ligand-receptor pair\n",
    "# netP: of all pathway\n",
    "# network centrality scores\n",
    "centr_tumour = cellchat_tumour@netP$centr\n",
    "centr_normal = cellchat_normal@netP$centr"
   ]
  },
  {
   "cell_type": "markdown",
   "id": "361ef2f7",
   "metadata": {},
   "source": [
    "outgoingt <- matrix(0, nrow = nlevels(cellchat_tumour@idents), ncol = length(centr_tumour))\n",
    "incomingt <- matrix(0, nrow = nlevels(cellchat_tumour@idents), ncol = length(centr_tumour))"
   ]
  },
  {
   "cell_type": "markdown",
   "id": "0da66060",
   "metadata": {},
   "source": [
    "outgoingn <- matrix(0, nrow = nlevels(cellchat_normal@idents), ncol = length(centr_normal))\n",
    "incomingn <- matrix(0, nrow = nlevels(cellchat_normal@idents), ncol = length(centr_normal))"
   ]
  },
  {
   "cell_type": "markdown",
   "id": "830618b4",
   "metadata": {},
   "source": [
    "dimnames(outgoingt) <- list(levels(cellchat_tumour@idents), names(centr_tumour))\n",
    "dimnames(incomingt) <- dimnames(outgoingt)"
   ]
  },
  {
   "cell_type": "markdown",
   "id": "308d1217",
   "metadata": {},
   "source": [
    "dimnames(outgoingn) <- list(levels(cellchat_normal@idents), names(centr_normal))\n",
    "dimnames(incomingn) <- dimnames(outgoingn)"
   ]
  },
  {
   "cell_type": "markdown",
   "id": "35e1cdac",
   "metadata": {},
   "source": [
    "for (i in 1:length(centr_tumour)) {\n",
    "    outgoingt[,i] <- centr_tumour[[i]]$outdeg\n",
    "    incomingt[,i] <- centr_tumour[[i]]$indeg\n",
    "  }"
   ]
  },
  {
   "cell_type": "markdown",
   "id": "0fae00b9",
   "metadata": {},
   "source": [
    "for (i in 1:length(centr_normal)) {\n",
    "    outgoingn[,i] <- centr_normal[[i]]$outdeg\n",
    "    incomingn[,i] <- centr_normal[[i]]$indeg\n",
    "  }"
   ]
  },
  {
   "cell_type": "markdown",
   "id": "b2c65187",
   "metadata": {},
   "source": [
    "#### incoming signal"
   ]
  },
  {
   "cell_type": "markdown",
   "id": "c6937207",
   "metadata": {
    "scrolled": false
   },
   "source": [
    "# epi \n",
    "g_TT_in = incomingt %>% t() %>%\n",
    "data.frame() %>% \n",
    "rownames_to_column('Pathway') %>%\n",
    "pivot_longer(!Pathway, names_to = 'Celltype', values_to = 'Centrality') %>%\n",
    "filter(str_detect(Celltype, 'tumour_in_tumour')) %>%\n",
    "filter(Pathway %in% shared_sig_pathways) %>%\n",
    "mutate(Celltype = factor(Celltype, levels = paste0(epi_cell_order,'_tumour_in_tumour'))) %>% \n",
    "ggplot() +\n",
    "geom_tile(aes(x = Celltype, y = Pathway, fill = Centrality)) +\n",
    "#scale_fill_gradient2(low = 'white', mid = 'yellow', high = 'green', midpoint = 0.5, name = 'Relative strength') +\n",
    "scale_fill_gradientn(colors=c('white', met.brewer(\"VanGogh3\")), limits = c(0,4))+\n",
    "plot_theme_tmod +\n",
    "#coord_equal() +\n",
    "theme(plot.title = element_text(hjust = 0.5),\n",
    "      #rect = element_blank(),\n",
    "      axis.ticks = element_blank(),\n",
    "      axis.text.x = element_text(angle = 90),\n",
    "      axis.title.y = element_blank(),\n",
    "      axis.text.y = element_blank()\n",
    "     ) +\n",
    "labs(title = 'TT')\n",
    "\n",
    "g_NT_in = incomingt %>% t() %>%\n",
    "data.frame() %>% \n",
    "rownames_to_column('Pathway') %>%\n",
    "pivot_longer(!Pathway, names_to = 'Celltype', values_to = 'Centrality') %>%\n",
    "filter(str_detect(Celltype, 'genomically_normal')) %>%\n",
    "filter(Pathway %in% shared_sig_pathways) %>%\n",
    "mutate(Celltype = factor(Celltype, levels = paste0(epi_cell_order,'_genomically_normal'))) %>% \n",
    "ggplot() +\n",
    "geom_tile(aes(x = Celltype, y = Pathway, fill = Centrality)) +\n",
    "#scale_fill_gradient2(low = 'white', mid = 'yellow', high = 'green', midpoint = 0.5, name = 'Relative strength') +\n",
    "scale_fill_gradientn(colors=c('white', met.brewer(\"VanGogh3\")), limits = c(0,4))+\n",
    "plot_theme_tmod +\n",
    "#coord_equal() +\n",
    "theme(plot.title = element_text(hjust = 0.5),\n",
    "      #rect = element_blank(),\n",
    "      axis.ticks = element_blank(),\n",
    "      axis.text.x = element_text(angle = 90),\n",
    "      axis.title.y = element_blank(),\n",
    "      axis.text.y = element_blank()\n",
    "     ) +\n",
    "labs(title = 'NT')\n",
    "\n",
    "g_NN_in = incomingn %>% t() %>%\n",
    "data.frame() %>% \n",
    "rownames_to_column('Pathway') %>%\n",
    "pivot_longer(!Pathway, names_to = 'Celltype', values_to = 'Centrality') %>%\n",
    "#filter(str_detect(Celltype, 'normal_in_tumour')) %>%\n",
    "filter(Celltype %in% epi_cell_order) %>%\n",
    "filter(Pathway %in% shared_sig_pathways) %>%\n",
    "mutate(Celltype = factor(Celltype, levels = epi_cell_order)) %>% \n",
    "ggplot() +\n",
    "geom_tile(aes(x = Celltype, y = Pathway, fill = Centrality)) +\n",
    "#scale_fill_gradient2(low = 'white', mid = 'yellow', high = 'green', midpoint = 0.5, name = 'Relative strength') +\n",
    "scale_fill_gradientn(colors=c('white', met.brewer(\"VanGogh3\")), limits = c(0,4))+\n",
    "plot_theme_tmod +\n",
    "#coord_equal() +\n",
    "theme(plot.title = element_text(hjust = 0.5),\n",
    "      #rect = element_blank(),\n",
    "      axis.ticks = element_blank(),\n",
    "      axis.text.x = element_text(angle = 90)\n",
    "     )+\n",
    "labs(title = 'Normal sample')"
   ]
  },
  {
   "cell_type": "markdown",
   "id": "a39a802e",
   "metadata": {},
   "source": [
    "options(repr.plot.width=14, \n",
    "        repr.plot.height=20,\n",
    "        repr.plot.res = 300)\n",
    "\n",
    "g_NN_in + g_NT_in + plot_layout(guides = 'collect', ncol = 2) "
   ]
  },
  {
   "cell_type": "markdown",
   "id": "5876fd44",
   "metadata": {},
   "source": [
    "# imm + str \n",
    "g_NT_in_is = incomingt %>% t() %>%\n",
    "data.frame() %>% \n",
    "rownames_to_column('Pathway') %>%\n",
    "pivot_longer(!Pathway, names_to = 'Celltype', values_to = 'Centrality') %>%\n",
    "#filter(str_detect(Celltype, 'normal_in_tumour')) %>%\n",
    "filter(Pathway %in% shared_sig_pathways) %>%\n",
    "#mutate(Celltype = factor(Celltype, levels = paste0(epi_cell_order,'_normal_in_tumour'))) %>% \n",
    "filter(Celltype %in% imm_str_cell_order) %>%\n",
    "mutate(Celltype = factor(Celltype, levels = imm_str_cell_order)) %>% \n",
    "ggplot() +\n",
    "geom_tile(aes(x = Celltype, y = Pathway, fill = Centrality)) +\n",
    "#scale_fill_gradient2(low = 'white', mid = 'yellow', high = 'green', midpoint = 0.5, name = 'Relative strength') +\n",
    "scale_fill_gradientn(colors=c('white', met.brewer(\"VanGogh3\")), limits = c(0,4))+\n",
    "plot_theme_tmod +\n",
    "#coord_equal() +\n",
    "theme(plot.title = element_text(hjust = 0.5),\n",
    "      #rect = element_blank(),\n",
    "      axis.ticks = element_blank(),\n",
    "      axis.text.x = element_text(angle = 90),\n",
    "      axis.title.y = element_blank(),\n",
    "      axis.text.y = element_blank()\n",
    "     ) +\n",
    "labs(title = 'Tumour sample')\n",
    "\n",
    "g_NN_in_is = incomingn %>% t() %>%\n",
    "data.frame() %>% \n",
    "rownames_to_column('Pathway') %>%\n",
    "pivot_longer(!Pathway, names_to = 'Celltype', values_to = 'Centrality') %>%\n",
    "#filter(str_detect(Celltype, 'normal_in_tumour')) %>%\n",
    "#filter(Celltype %in% epi_cell_order) %>%\n",
    "filter(Pathway %in% shared_sig_pathways) %>%\n",
    "#mutate(Celltype = factor(Celltype, levels = epi_cell_order)) %>% \n",
    "filter(Celltype %in% imm_str_cell_order) %>%\n",
    "mutate(Celltype = factor(Celltype, levels = imm_str_cell_order)) %>% \n",
    "ggplot() +\n",
    "geom_tile(aes(x = Celltype, y = Pathway, fill = Centrality)) +\n",
    "#scale_fill_gradient2(low = 'white', mid = 'yellow', high = 'green', midpoint = 0.5, name = 'Relative strength') +\n",
    "scale_fill_gradientn(colors=c('white', met.brewer(\"VanGogh3\")), limits = c(0,4))+\n",
    "plot_theme_tmod +\n",
    "#coord_equal() +\n",
    "theme(plot.title = element_text(hjust = 0.5),\n",
    "      #rect = element_blank(),\n",
    "      axis.ticks = element_blank(),\n",
    "      axis.text.x = element_text(angle = 90),\n",
    "      axis.title.y = element_blank(),\n",
    "      axis.text.y = element_blank()\n",
    "     )+\n",
    "labs(title = 'Normal sample')"
   ]
  },
  {
   "cell_type": "markdown",
   "id": "e3f56773",
   "metadata": {},
   "source": [
    "options(repr.plot.width=14, \n",
    "        repr.plot.height=17,\n",
    "        repr.plot.res = 300)\n",
    "\n",
    "g_NT_in_is + g_NN_in_is + plot_layout(guides = 'collect', ncol = 2) "
   ]
  },
  {
   "cell_type": "markdown",
   "id": "09c3167f",
   "metadata": {
    "scrolled": true
   },
   "source": [
    "options(repr.plot.width=16, \n",
    "        repr.plot.height=20,\n",
    "        repr.plot.res = 300)\n",
    "\n",
    "g_NN_in + g_NT_in + g_TT_in + g_NN_in_is + g_NT_in_is + plot_layout(guides = 'collect', ncol = 5) & \n",
    "theme(axis.title.y = element_blank())"
   ]
  },
  {
   "cell_type": "markdown",
   "id": "bba8902a",
   "metadata": {},
   "source": [
    "# relative strength\n",
    "# epi \n",
    "g_TT_in = sweep(t(incomingt), 1L, apply(t(incomingt), 1, max), '/', check.margin = FALSE) %>%\n",
    "data.frame() %>% \n",
    "rownames_to_column('Pathway') %>%\n",
    "pivot_longer(!Pathway, names_to = 'Celltype', values_to = 'Centrality') %>%\n",
    "filter(str_detect(Celltype, 'tumour_in_tumour')) %>%\n",
    "filter(Pathway %in% shared_sig_pathways) %>%\n",
    "mutate(Celltype = factor(Celltype, levels = paste0(epi_cell_order,'_tumour_in_tumour'))) %>% \n",
    "ggplot() +\n",
    "geom_tile(aes(x = Celltype, y = Pathway, fill = Centrality)) +\n",
    "#scale_fill_gradient2(low = 'white', mid = 'yellow', high = 'green', midpoint = 0.5, name = 'Relative strength') +\n",
    "scale_fill_gradientn(colors=c('white', met.brewer(\"VanGogh3\")), limits = c(0,1), name = 'Relative strength')+\n",
    "plot_theme_tmod +\n",
    "#coord_equal() +\n",
    "theme(plot.title = element_text(hjust = 0.5),\n",
    "      #rect = element_blank(),\n",
    "      axis.ticks = element_blank(),\n",
    "      axis.text.x = element_text(angle = 90),\n",
    "      axis.title.y = element_blank(),\n",
    "      axis.text.y = element_blank()\n",
    "     ) +\n",
    "labs(title = 'TT')\n",
    "\n",
    "g_NT_in = sweep(t(incomingt), 1L, apply(t(incomingt), 1, max), '/', check.margin = FALSE) %>%\n",
    "data.frame() %>% \n",
    "rownames_to_column('Pathway') %>%\n",
    "pivot_longer(!Pathway, names_to = 'Celltype', values_to = 'Centrality') %>%\n",
    "filter(str_detect(Celltype, 'genomically_normal')) %>%\n",
    "filter(Pathway %in% shared_sig_pathways) %>%\n",
    "mutate(Celltype = factor(Celltype, levels = paste0(epi_cell_order,'_genomically_normal'))) %>% \n",
    "ggplot() +\n",
    "geom_tile(aes(x = Celltype, y = Pathway, fill = Centrality)) +\n",
    "#scale_fill_gradient2(low = 'white', mid = 'yellow', high = 'green', midpoint = 0.5, name = 'Relative strength') +\n",
    "scale_fill_gradientn(colors=c('white', met.brewer(\"VanGogh3\")), limits = c(0,1), name = 'Relative strength')+\n",
    "plot_theme_tmod +\n",
    "#coord_equal() +\n",
    "theme(plot.title = element_text(hjust = 0.5),\n",
    "      #rect = element_blank(),\n",
    "      axis.ticks = element_blank(),\n",
    "      axis.text.x = element_text(angle = 90),\n",
    "      axis.title.y = element_blank(),\n",
    "      axis.text.y = element_blank()\n",
    "     ) +\n",
    "labs(title = 'NT')\n",
    "\n",
    "g_NN_in = sweep(t(incomingn), 1L, apply(t(incomingn), 1, max), '/', check.margin = FALSE) %>%\n",
    "data.frame() %>% \n",
    "rownames_to_column('Pathway') %>%\n",
    "pivot_longer(!Pathway, names_to = 'Celltype', values_to = 'Centrality') %>%\n",
    "#filter(str_detect(Celltype, 'normal_in_tumour')) %>%\n",
    "filter(Celltype %in% epi_cell_order) %>%\n",
    "filter(Pathway %in% shared_sig_pathways) %>%\n",
    "mutate(Celltype = factor(Celltype, levels = epi_cell_order)) %>% \n",
    "ggplot() +\n",
    "geom_tile(aes(x = Celltype, y = Pathway, fill = Centrality)) +\n",
    "#scale_fill_gradient2(low = 'white', mid = 'yellow', high = 'green', midpoint = 0.5, name = 'Relative strength') +\n",
    "scale_fill_gradientn(colors=c('white', met.brewer(\"VanGogh3\")), limits = c(0,1), name = 'Relative strength')+\n",
    "plot_theme_tmod +\n",
    "#coord_equal() +\n",
    "theme(plot.title = element_text(hjust = 0.5),\n",
    "      #rect = element_blank(),\n",
    "      axis.ticks = element_blank(),\n",
    "      axis.text.x = element_text(angle = 90)\n",
    "     )+\n",
    "labs(title = 'Normal sample')"
   ]
  },
  {
   "cell_type": "markdown",
   "id": "ab6bf604",
   "metadata": {},
   "source": [
    "options(repr.plot.width=14, \n",
    "        repr.plot.height=20,\n",
    "        repr.plot.res = 300)\n",
    "\n",
    "g_NN_in + g_NT_in + plot_layout(guides = 'collect', ncol =2)"
   ]
  },
  {
   "cell_type": "markdown",
   "id": "2fef8439",
   "metadata": {},
   "source": [
    "# imm + str \n",
    "g_NT_in_is = sweep(t(incomingt), 1L, apply(t(incomingt), 1, max), '/', check.margin = FALSE) %>%\n",
    "data.frame() %>% \n",
    "rownames_to_column('Pathway') %>%\n",
    "pivot_longer(!Pathway, names_to = 'Celltype', values_to = 'Centrality') %>%\n",
    "#filter(str_detect(Celltype, 'normal_in_tumour')) %>%\n",
    "filter(Pathway %in% shared_sig_pathways) %>%\n",
    "#mutate(Celltype = factor(Celltype, levels = paste0(epi_cell_order,'_normal_in_tumour'))) %>% \n",
    "filter(Celltype %in% imm_str_cell_order) %>%\n",
    "mutate(Celltype = factor(Celltype, levels = imm_str_cell_order)) %>% \n",
    "ggplot() +\n",
    "geom_tile(aes(x = Celltype, y = Pathway, fill = Centrality)) +\n",
    "#scale_fill_gradient2(low = 'white', mid = 'yellow', high = 'green', midpoint = 0.5, name = 'Relative strength') +\n",
    "scale_fill_gradientn(colors=c('white', met.brewer(\"VanGogh3\")), limits = c(0,1), name = 'Relative strength')+\n",
    "plot_theme_tmod +\n",
    "#coord_equal() +\n",
    "theme(plot.title = element_text(hjust = 0.5),\n",
    "      #rect = element_blank(),\n",
    "      axis.ticks = element_blank(),\n",
    "      axis.text.x = element_text(angle = 90),\n",
    "      axis.title.y = element_blank(),\n",
    "      axis.text.y = element_blank()\n",
    "     ) +\n",
    "labs(title = 'Tumour sample')\n",
    "\n",
    "g_NN_in_is = sweep(t(incomingn), 1L, apply(t(incomingn), 1, max), '/', check.margin = FALSE) %>%\n",
    "data.frame() %>% \n",
    "rownames_to_column('Pathway') %>%\n",
    "pivot_longer(!Pathway, names_to = 'Celltype', values_to = 'Centrality') %>%\n",
    "#filter(str_detect(Celltype, 'normal_in_tumour')) %>%\n",
    "#filter(Celltype %in% epi_cell_order) %>%\n",
    "filter(Pathway %in% shared_sig_pathways) %>%\n",
    "#mutate(Celltype = factor(Celltype, levels = epi_cell_order)) %>% \n",
    "filter(Celltype %in% imm_str_cell_order) %>%\n",
    "mutate(Celltype = factor(Celltype, levels = imm_str_cell_order)) %>% \n",
    "ggplot() +\n",
    "geom_tile(aes(x = Celltype, y = Pathway, fill = Centrality)) +\n",
    "#scale_fill_gradient2(low = 'white', mid = 'yellow', high = 'green', midpoint = 0.5, name = 'Relative strength') +\n",
    "scale_fill_gradientn(colors=c('white', met.brewer(\"VanGogh3\")), limits = c(0,1), name = 'Relative strength')+\n",
    "plot_theme_tmod +\n",
    "#coord_equal() +\n",
    "theme(plot.title = element_text(hjust = 0.5),\n",
    "      #rect = element_blank(),\n",
    "      axis.ticks = element_blank(),\n",
    "      axis.text.x = element_text(angle = 90),\n",
    "      axis.title.y = element_blank(),\n",
    "      axis.text.y = element_blank()\n",
    "     )+\n",
    "labs(title = 'Normal sample')"
   ]
  },
  {
   "cell_type": "markdown",
   "id": "c161540c",
   "metadata": {},
   "source": [
    "options(repr.plot.width=14, \n",
    "        repr.plot.height=20,\n",
    "        repr.plot.res = 300)\n",
    "\n",
    "g_NN_in_is + g_NT_in_is + plot_layout(guides = 'collect')"
   ]
  },
  {
   "cell_type": "markdown",
   "id": "ab005ae2",
   "metadata": {
    "scrolled": true
   },
   "source": [
    "options(repr.plot.width=16, \n",
    "        repr.plot.height=20,\n",
    "        repr.plot.res = 300)\n",
    "\n",
    "g_NN_in + g_NT_in + g_TT_in + g_NN_in_is + g_NT_in_is + plot_layout(guides = 'collect', ncol = 5) & \n",
    "theme(axis.title.y = element_blank())"
   ]
  },
  {
   "cell_type": "markdown",
   "id": "d80d30b4",
   "metadata": {},
   "source": [
    "#### outgoing signal"
   ]
  },
  {
   "cell_type": "markdown",
   "id": "c8a1182d",
   "metadata": {},
   "source": [
    "# epi \n",
    "g_TT_out = outgoingt %>% t() %>%\n",
    "data.frame() %>% \n",
    "rownames_to_column('Pathway') %>%\n",
    "pivot_longer(!Pathway, names_to = 'Celltype', values_to = 'Centrality') %>%\n",
    "filter(str_detect(Celltype, 'tumour_in_tumour')) %>%\n",
    "filter(Pathway %in% shared_sig_pathways) %>%\n",
    "mutate(Celltype = factor(Celltype, levels = paste0(epi_cell_order,'_tumour_in_tumour'))) %>% \n",
    "ggplot() +\n",
    "geom_tile(aes(x = Celltype, y = Pathway, fill = Centrality)) +\n",
    "#scale_fill_gradient2(low = 'white', mid = 'yellow', high = 'green', midpoint = 0.5, name = 'Relative strength') +\n",
    "scale_fill_gradientn(colors=c('white', met.brewer(\"VanGogh3\")), limits = c(0,4))+\n",
    "plot_theme_tmod +\n",
    "#coord_equal() +\n",
    "theme(plot.title = element_text(hjust = 0.5),\n",
    "      #rect = element_blank(),\n",
    "      axis.ticks = element_blank(),\n",
    "      axis.text.x = element_text(angle = 90),\n",
    "      axis.title.y = element_blank(),\n",
    "      axis.text.y = element_blank()\n",
    "     ) +\n",
    "labs(title = 'TT')\n",
    "\n",
    "g_NT_out = outgoingt %>% t() %>%\n",
    "data.frame() %>% \n",
    "rownames_to_column('Pathway') %>%\n",
    "pivot_longer(!Pathway, names_to = 'Celltype', values_to = 'Centrality') %>%\n",
    "filter(str_detect(Celltype, 'genomically_normal')) %>%\n",
    "filter(Pathway %in% shared_sig_pathways) %>%\n",
    "mutate(Celltype = factor(Celltype, levels = paste0(epi_cell_order,'_genomically_normal'))) %>% \n",
    "ggplot() +\n",
    "geom_tile(aes(x = Celltype, y = Pathway, fill = Centrality)) +\n",
    "#scale_fill_gradient2(low = 'white', mid = 'yellow', high = 'green', midpoint = 0.5, name = 'Relative strength') +\n",
    "scale_fill_gradientn(colors=c('white', met.brewer(\"VanGogh3\")), limits = c(0,4))+\n",
    "plot_theme_tmod +\n",
    "#coord_equal() +\n",
    "theme(plot.title = element_text(hjust = 0.5),\n",
    "      #rect = element_blank(),\n",
    "      axis.ticks = element_blank(),\n",
    "      axis.text.x = element_text(angle = 90),\n",
    "      axis.title.y = element_blank(),\n",
    "      axis.text.y = element_blank()\n",
    "     ) +\n",
    "labs(title = 'NT')\n",
    "\n",
    "g_NN_out = outgoingn %>% t() %>%\n",
    "data.frame() %>% \n",
    "rownames_to_column('Pathway') %>%\n",
    "pivot_longer(!Pathway, names_to = 'Celltype', values_to = 'Centrality') %>%\n",
    "#filter(str_detect(Celltype, 'normal_in_tumour')) %>%\n",
    "filter(Celltype %in% epi_cell_order) %>%\n",
    "filter(Pathway %in% shared_sig_pathways) %>%\n",
    "mutate(Celltype = factor(Celltype, levels = epi_cell_order)) %>% \n",
    "ggplot() +\n",
    "geom_tile(aes(x = Celltype, y = Pathway, fill = Centrality)) +\n",
    "#scale_fill_gradient2(low = 'white', mid = 'yellow', high = 'green', midpoint = 0.5, name = 'Relative strength') +\n",
    "scale_fill_gradientn(colors=c('white', met.brewer(\"VanGogh3\")), limits = c(0,4))+\n",
    "plot_theme_tmod +\n",
    "#coord_equal() +\n",
    "theme(plot.title = element_text(hjust = 0.5),\n",
    "      #rect = element_blank(),\n",
    "      axis.ticks = element_blank(),\n",
    "      axis.text.x = element_text(angle = 90)\n",
    "     )+\n",
    "labs(title = 'Normal sample')\n",
    "\n",
    "\n",
    "# imm + str \n",
    "g_NT_out_is = outgoingt %>% t() %>%\n",
    "data.frame() %>% \n",
    "rownames_to_column('Pathway') %>%\n",
    "pivot_longer(!Pathway, names_to = 'Celltype', values_to = 'Centrality') %>%\n",
    "#filter(str_detect(Celltype, 'normal_in_tumour')) %>%\n",
    "filter(Pathway %in% shared_sig_pathways) %>%\n",
    "#mutate(Celltype = factor(Celltype, levels = paste0(epi_cell_order,'_normal_in_tumour'))) %>% \n",
    "filter(Celltype %in% imm_str_cell_order) %>%\n",
    "mutate(Celltype = factor(Celltype, levels = imm_str_cell_order)) %>% \n",
    "ggplot() +\n",
    "geom_tile(aes(x = Celltype, y = Pathway, fill = Centrality)) +\n",
    "#scale_fill_gradient2(low = 'white', mid = 'yellow', high = 'green', midpoint = 0.5, name = 'Relative strength') +\n",
    "scale_fill_gradientn(colors=c('white', met.brewer(\"VanGogh3\")), limits = c(0,4))+\n",
    "plot_theme_tmod +\n",
    "#coord_equal() +\n",
    "theme(plot.title = element_text(hjust = 0.5),\n",
    "      #rect = element_blank(),\n",
    "      axis.ticks = element_blank(),\n",
    "      axis.text.x = element_text(angle = 90),\n",
    "      axis.title.y = element_blank(),\n",
    "      axis.text.y = element_blank()\n",
    "     ) +\n",
    "labs(title = 'Tumour sample')\n",
    "\n",
    "g_NN_out_is = outgoingn %>% t() %>%\n",
    "data.frame() %>% \n",
    "rownames_to_column('Pathway') %>%\n",
    "pivot_longer(!Pathway, names_to = 'Celltype', values_to = 'Centrality') %>%\n",
    "#filter(str_detect(Celltype, 'normal_in_tumour')) %>%\n",
    "#filter(Celltype %in% epi_cell_order) %>%\n",
    "filter(Pathway %in% shared_sig_pathways) %>%\n",
    "#mutate(Celltype = factor(Celltype, levels = epi_cell_order)) %>% \n",
    "filter(Celltype %in% imm_str_cell_order) %>%\n",
    "mutate(Celltype = factor(Celltype, levels = imm_str_cell_order)) %>% \n",
    "ggplot() +\n",
    "geom_tile(aes(x = Celltype, y = Pathway, fill = Centrality)) +\n",
    "#scale_fill_gradient2(low = 'white', mid = 'yellow', high = 'green', midpoint = 0.5, name = 'Relative strength') +\n",
    "scale_fill_gradientn(colors=c('white', met.brewer(\"VanGogh3\")), limits = c(0,4))+\n",
    "plot_theme_tmod +\n",
    "#coord_equal() +\n",
    "theme(plot.title = element_text(hjust = 0.5),\n",
    "      #rect = element_blank(),\n",
    "      axis.ticks = element_blank(),\n",
    "      axis.text.x = element_text(angle = 90),\n",
    "      axis.title.y = element_blank(),\n",
    "      axis.text.y = element_blank()\n",
    "     )+\n",
    "labs(title = 'Normal sample')"
   ]
  },
  {
   "cell_type": "markdown",
   "id": "e8ba4926",
   "metadata": {
    "scrolled": true
   },
   "source": [
    "options(repr.plot.width=16, \n",
    "        repr.plot.height=20,\n",
    "        repr.plot.res = 300)\n",
    "\n",
    "g_NN_out + g_NT_out + g_TT_out + g_NN_out_is + g_NT_out_is + plot_layout(guides = 'collect', ncol = 5) & \n",
    "theme(axis.title.y = element_blank())"
   ]
  },
  {
   "cell_type": "markdown",
   "id": "5ca63d7c",
   "metadata": {},
   "source": [
    "# relative strength\n",
    "# epi \n",
    "g_TT_out = sweep(t(outgoingt), 1L, apply(t(outgoingt), 1, max), '/', check.margin = FALSE) %>%\n",
    "data.frame() %>% \n",
    "rownames_to_column('Pathway') %>%\n",
    "pivot_longer(!Pathway, names_to = 'Celltype', values_to = 'Centrality') %>%\n",
    "filter(str_detect(Celltype, 'tumour_in_tumour')) %>%\n",
    "filter(Pathway %in% shared_sig_pathways) %>%\n",
    "mutate(Celltype = factor(Celltype, levels = paste0(epi_cell_order,'_tumour_in_tumour'))) %>% \n",
    "ggplot() +\n",
    "geom_tile(aes(x = Celltype, y = Pathway, fill = Centrality)) +\n",
    "#scale_fill_gradient2(low = 'white', mid = 'yellow', high = 'green', midpoint = 0.5, name = 'Relative strength') +\n",
    "scale_fill_gradientn(colors=c('white', met.brewer(\"VanGogh3\")), limits = c(0,1), name = 'Relative strength')+\n",
    "plot_theme_tmod +\n",
    "#coord_equal() +\n",
    "theme(plot.title = element_text(hjust = 0.5),\n",
    "      #rect = element_blank(),\n",
    "      axis.ticks = element_blank(),\n",
    "      axis.text.x = element_text(angle = 90),\n",
    "      axis.title.y = element_blank(),\n",
    "      axis.text.y = element_blank()\n",
    "     ) +\n",
    "labs(title = 'TT')\n",
    "\n",
    "g_NT_out = sweep(t(outgoingt), 1L, apply(t(outgoingt), 1, max), '/', check.margin = FALSE) %>%\n",
    "data.frame() %>% \n",
    "rownames_to_column('Pathway') %>%\n",
    "pivot_longer(!Pathway, names_to = 'Celltype', values_to = 'Centrality') %>%\n",
    "filter(str_detect(Celltype, 'genomically_normal')) %>%\n",
    "filter(Pathway %in% shared_sig_pathways) %>%\n",
    "mutate(Celltype = factor(Celltype, levels = paste0(epi_cell_order,'_genomically_normal'))) %>% \n",
    "ggplot() +\n",
    "geom_tile(aes(x = Celltype, y = Pathway, fill = Centrality)) +\n",
    "#scale_fill_gradient2(low = 'white', mid = 'yellow', high = 'green', midpoint = 0.5, name = 'Relative strength') +\n",
    "scale_fill_gradientn(colors=c('white', met.brewer(\"VanGogh3\")), limits = c(0,1), name = 'Relative strength')+\n",
    "plot_theme_tmod +\n",
    "#coord_equal() +\n",
    "theme(plot.title = element_text(hjust = 0.5),\n",
    "      #rect = element_blank(),\n",
    "      axis.ticks = element_blank(),\n",
    "      axis.text.x = element_text(angle = 90),\n",
    "      axis.title.y = element_blank(),\n",
    "      axis.text.y = element_blank()\n",
    "     ) +\n",
    "labs(title = 'NT')\n",
    "\n",
    "g_NN_out = sweep(t(outgoingn), 1L, apply(t(incomingn), 1, max), '/', check.margin = FALSE) %>%\n",
    "data.frame() %>% \n",
    "rownames_to_column('Pathway') %>%\n",
    "pivot_longer(!Pathway, names_to = 'Celltype', values_to = 'Centrality') %>%\n",
    "#filter(str_detect(Celltype, 'normal_in_tumour')) %>%\n",
    "filter(Celltype %in% epi_cell_order) %>%\n",
    "filter(Pathway %in% shared_sig_pathways) %>%\n",
    "mutate(Celltype = factor(Celltype, levels = epi_cell_order)) %>% \n",
    "ggplot() +\n",
    "geom_tile(aes(x = Celltype, y = Pathway, fill = Centrality)) +\n",
    "#scale_fill_gradient2(low = 'white', mid = 'yellow', high = 'green', midpoint = 0.5, name = 'Relative strength') +\n",
    "scale_fill_gradientn(colors=c('white', met.brewer(\"VanGogh3\")), limits = c(0,1), name = 'Relative strength')+\n",
    "plot_theme_tmod +\n",
    "#coord_equal() +\n",
    "theme(plot.title = element_text(hjust = 0.5),\n",
    "      #rect = element_blank(),\n",
    "      axis.ticks = element_blank(),\n",
    "      axis.text.x = element_text(angle = 90)\n",
    "     )+\n",
    "labs(title = 'Normal sample')\n",
    "\n",
    "# imm + str \n",
    "g_NT_out_is = sweep(t(outgoingt), 1L, apply(t(outgoingt), 1, max), '/', check.margin = FALSE) %>%\n",
    "data.frame() %>% \n",
    "rownames_to_column('Pathway') %>%\n",
    "pivot_longer(!Pathway, names_to = 'Celltype', values_to = 'Centrality') %>%\n",
    "#filter(str_detect(Celltype, 'normal_in_tumour')) %>%\n",
    "filter(Pathway %in% shared_sig_pathways) %>%\n",
    "#mutate(Celltype = factor(Celltype, levels = paste0(epi_cell_order,'_normal_in_tumour'))) %>% \n",
    "filter(Celltype %in% imm_str_cell_order) %>%\n",
    "mutate(Celltype = factor(Celltype, levels = imm_str_cell_order)) %>% \n",
    "ggplot() +\n",
    "geom_tile(aes(x = Celltype, y = Pathway, fill = Centrality)) +\n",
    "#scale_fill_gradient2(low = 'white', mid = 'yellow', high = 'green', midpoint = 0.5, name = 'Relative strength') +\n",
    "scale_fill_gradientn(colors=c('white', met.brewer(\"VanGogh3\")), limits = c(0,1), name = 'Relative strength')+\n",
    "plot_theme_tmod +\n",
    "#coord_equal() +\n",
    "theme(plot.title = element_text(hjust = 0.5),\n",
    "      #rect = element_blank(),\n",
    "      axis.ticks = element_blank(),\n",
    "      axis.text.x = element_text(angle = 90),\n",
    "      axis.title.y = element_blank(),\n",
    "      axis.text.y = element_blank()\n",
    "     ) +\n",
    "labs(title = 'Tumour sample')\n",
    "\n",
    "g_NN_out_is = sweep(t(outgoingn), 1L, apply(t(outgoingn), 1, max), '/', check.margin = FALSE) %>%\n",
    "data.frame() %>% \n",
    "rownames_to_column('Pathway') %>%\n",
    "pivot_longer(!Pathway, names_to = 'Celltype', values_to = 'Centrality') %>%\n",
    "#filter(str_detect(Celltype, 'normal_in_tumour')) %>%\n",
    "#filter(Celltype %in% epi_cell_order) %>%\n",
    "filter(Pathway %in% shared_sig_pathways) %>%\n",
    "#mutate(Celltype = factor(Celltype, levels = epi_cell_order)) %>% \n",
    "filter(Celltype %in% imm_str_cell_order) %>%\n",
    "mutate(Celltype = factor(Celltype, levels = imm_str_cell_order)) %>% \n",
    "ggplot() +\n",
    "geom_tile(aes(x = Celltype, y = Pathway, fill = Centrality)) +\n",
    "#scale_fill_gradient2(low = 'white', mid = 'yellow', high = 'green', midpoint = 0.5, name = 'Relative strength') +\n",
    "scale_fill_gradientn(colors=c('white', met.brewer(\"VanGogh3\")), limits = c(0,1), name = 'Relative strength')+\n",
    "plot_theme_tmod +\n",
    "#coord_equal() +\n",
    "theme(plot.title = element_text(hjust = 0.5),\n",
    "      #rect = element_blank(),\n",
    "      axis.ticks = element_blank(),\n",
    "      axis.text.x = element_text(angle = 90),\n",
    "      axis.title.y = element_blank(),\n",
    "      axis.text.y = element_blank()\n",
    "     )+\n",
    "labs(title = 'Normal sample')"
   ]
  },
  {
   "cell_type": "markdown",
   "id": "23b62349",
   "metadata": {
    "scrolled": true
   },
   "source": [
    "options(repr.plot.width=16, \n",
    "        repr.plot.height=20,\n",
    "        repr.plot.res = 300)\n",
    "\n",
    "g_NN_out + g_NT_out + g_TT_out + g_NN_out_is + g_NT_out_is + plot_layout(guides = 'collect', ncol = 5) & \n",
    "theme(axis.title.y = element_blank())"
   ]
  },
  {
   "cell_type": "markdown",
   "id": "03d8cce1",
   "metadata": {},
   "source": [
    "### try subset if the centrality will change > YES"
   ]
  },
  {
   "cell_type": "markdown",
   "id": "37b6d380",
   "metadata": {},
   "source": [
    "cellchat_normal_in_tumour = subset_CellChat_single_dataset_rev(cellchat_tumour, \n",
    "                                   idents.use = c(paste0(epi_cell_order, '_normal_in_tumour'), \n",
    "                                                  imm_str_cell_order))"
   ]
  },
  {
   "cell_type": "markdown",
   "id": "f1ad1900",
   "metadata": {},
   "source": [
    "shared_sig_pathways_NT = intersect(sort(cellchat_normal@netP$pathways), \n",
    "                                   sort(cellchat_normal_in_tumour@netP$pathways))\n",
    "length(shared_sig_pathways_NT)"
   ]
  },
  {
   "cell_type": "markdown",
   "id": "ee76bd18",
   "metadata": {},
   "source": [
    "centr_NT = cellchat_normal_in_tumour@netP$centr"
   ]
  },
  {
   "cell_type": "markdown",
   "id": "b2dadc99",
   "metadata": {},
   "source": [
    "outgoingNT <- matrix(0, nrow = nlevels(cellchat_normal_in_tumour@idents), ncol = length(centr_NT))\n",
    "incomingNT <- matrix(0, nrow = nlevels(cellchat_normal_in_tumour@idents), ncol = length(centr_NT))\n",
    "\n",
    "dimnames(outgoingNT) <- list(levels(cellchat_normal_in_tumour@idents), names(centr_NT))\n",
    "dimnames(incomingNT) <- dimnames(outgoinNT)\n",
    "\n",
    "for (i in 1:length(centr_NT)) {\n",
    "    outgoingNT[,i] <- centr_NT[[i]]$outdeg\n",
    "    incomingNT[,i] <- centr_NT[[i]]$indeg\n",
    "\n",
    "}"
   ]
  },
  {
   "cell_type": "markdown",
   "id": "950f78d1",
   "metadata": {},
   "source": [
    "#### check some pathways"
   ]
  },
  {
   "cell_type": "markdown",
   "id": "9b7e2a16",
   "metadata": {},
   "source": [
    "pathways.show = 'WNT'"
   ]
  },
  {
   "cell_type": "markdown",
   "id": "d592e873",
   "metadata": {},
   "source": [
    "options(repr.plot.width=7, \n",
    "        repr.plot.height=7,\n",
    "        repr.plot.res = 200)\n",
    "\n",
    "\n",
    "netVisual_heatmap(cellchat_normal_in_tumour, signaling = pathways.show, color.heatmap = \"Reds\") "
   ]
  },
  {
   "cell_type": "markdown",
   "id": "48ed7d0c",
   "metadata": {},
   "source": [
    "options(repr.plot.width=5, \n",
    "        repr.plot.height=5,\n",
    "        repr.plot.res = 200)\n",
    "\n",
    "\n",
    "netAnalysis_contribution(cellchat_normal_in_tumour, signaling = pathways.show)\n"
   ]
  },
  {
   "cell_type": "markdown",
   "id": "c6e25929",
   "metadata": {},
   "source": [
    "options(repr.plot.width=8, \n",
    "        repr.plot.height=5,\n",
    "        repr.plot.res = 200)\n",
    "\n",
    "netAnalysis_signalingRole_network(cellchat_normal_in_tumour, signaling = pathways.show, \n",
    "                                  width = 14, height = 5, \n",
    "                                  font.size = 10) "
   ]
  },
  {
   "cell_type": "markdown",
   "id": "93a80516",
   "metadata": {},
   "source": [
    "#### play with subgraph to keep the centrality?"
   ]
  },
  {
   "cell_type": "markdown",
   "id": "12b3e799",
   "metadata": {},
   "source": [
    "G <- igraph::graph_from_adjacency_matrix(cellchat_tumour@netP$prob[,,'MK'], mode = \"directed\", weighted = T)"
   ]
  },
  {
   "cell_type": "markdown",
   "id": "be697247",
   "metadata": {},
   "source": [
    "group.existing.index"
   ]
  },
  {
   "cell_type": "markdown",
   "id": "37f80dd3",
   "metadata": {},
   "source": [
    "V(G)[group.existing.index]$name"
   ]
  },
  {
   "cell_type": "markdown",
   "id": "2542c50c",
   "metadata": {},
   "source": [
    "E(G)[.from(26)]\n",
    "only Stem (26) and Tuft (45) have edges"
   ]
  },
  {
   "cell_type": "markdown",
   "id": "cc8b91c6",
   "metadata": {},
   "source": [
    "options(repr.plot.width=18, \n",
    "        repr.plot.height=15,\n",
    "        repr.plot.res = 300)\n",
    "\n",
    "plot(G, layout = layout_with_kk, vertex.size = 10, edge.arrow.size = 0.5, edge.arrow.width = 0.5)"
   ]
  },
  {
   "cell_type": "markdown",
   "id": "0e097ab7",
   "metadata": {},
   "source": [
    "G2 = induced_subgraph(G, group.existing.index, impl = 'copy_and_delete')"
   ]
  },
  {
   "cell_type": "markdown",
   "id": "5825d82c",
   "metadata": {},
   "source": [
    "G4 = induced_subgraph(G, group.existing.index, impl = 'create_from_scratch')"
   ]
  },
  {
   "cell_type": "markdown",
   "id": "3d9f56ce",
   "metadata": {},
   "source": [
    "plot(G2, layout = layout_with_kk, vertex.size = 10, edge.arrow.size = 0.5, edge.arrow.width = 0.5)"
   ]
  },
  {
   "cell_type": "markdown",
   "id": "9a3e42f9",
   "metadata": {},
   "source": [
    "G3 = igraph::graph_from_adjacency_matrix(cellchat_normal_in_tumour@netP$prob[,,'MK'], mode = \"directed\", weighted = T)"
   ]
  },
  {
   "cell_type": "markdown",
   "id": "849ce5b0",
   "metadata": {},
   "source": [
    "plot(G3, layout = layout_with_kk, vertex.size = 10, edge.arrow.size = 0.5, edge.arrow.width = 0.5)"
   ]
  },
  {
   "cell_type": "markdown",
   "id": "1b49b6bb",
   "metadata": {},
   "source": [
    "strength(G, mode = 'out') "
   ]
  },
  {
   "cell_type": "markdown",
   "id": "6e0be3b2",
   "metadata": {},
   "source": [
    "strength(G2, mode = 'out') "
   ]
  },
  {
   "cell_type": "markdown",
   "id": "d1679be6",
   "metadata": {},
   "source": [
    "strength(G3, mode = 'out') "
   ]
  },
  {
   "cell_type": "markdown",
   "id": "ad8513f1",
   "metadata": {
    "scrolled": true
   },
   "source": [
    "head(cellchat_tumour@netP$centr$MK)"
   ]
  },
  {
   "cell_type": "markdown",
   "id": "a3161774",
   "metadata": {
    "scrolled": true
   },
   "source": [
    "head(cellchat_normal_in_tumour@netP$centr$MK)"
   ]
  },
  {
   "cell_type": "markdown",
   "id": "1fe7d661",
   "metadata": {},
   "source": [
    "#### outgoing"
   ]
  },
  {
   "cell_type": "markdown",
   "id": "5cf5e8ea",
   "metadata": {},
   "source": [
    "selectK(cellchat, pattern = \"outgoing\")"
   ]
  },
  {
   "cell_type": "markdown",
   "id": "2e455459",
   "metadata": {},
   "source": [
    "nPatterns = 3\n",
    "cellchat <- identifyCommunicationPatterns(cellchat, pattern = \"outgoing\", k = nPatterns)"
   ]
  },
  {
   "cell_type": "markdown",
   "id": "abac4dc8",
   "metadata": {},
   "source": [
    "netAnalysis_river(cellchat, pattern = \"outgoing\")"
   ]
  },
  {
   "cell_type": "markdown",
   "id": "51c8753a",
   "metadata": {},
   "source": [
    "netAnalysis_dot(cellchat, pattern = \"outgoing\")"
   ]
  },
  {
   "cell_type": "markdown",
   "id": "c0d40bf1",
   "metadata": {},
   "source": [
    "#### incoming\n"
   ]
  },
  {
   "cell_type": "markdown",
   "id": "b738e38e",
   "metadata": {},
   "source": [
    "selectK(cellchat, pattern = \"incoming\")"
   ]
  },
  {
   "cell_type": "markdown",
   "id": "a47ba1e8",
   "metadata": {},
   "source": [
    "nPatterns = 3\n",
    "cellchat <- identifyCommunicationPatterns(cellchat, pattern = \"incoming\", k = nPatterns)"
   ]
  },
  {
   "cell_type": "markdown",
   "id": "3c58066f",
   "metadata": {},
   "source": [
    "netAnalysis_river(cellchat, pattern = \"incoming\")"
   ]
  },
  {
   "cell_type": "markdown",
   "id": "322f91c7",
   "metadata": {},
   "source": [
    "netAnalysis_dot(cellchat, pattern = \"incoming\")"
   ]
  },
  {
   "cell_type": "markdown",
   "id": "8422e936",
   "metadata": {},
   "source": [
    "### similarity between signaling pathways and group them"
   ]
  },
  {
   "cell_type": "markdown",
   "id": "3b12d128",
   "metadata": {},
   "source": [
    "#### functional"
   ]
  },
  {
   "cell_type": "markdown",
   "id": "b98da239",
   "metadata": {},
   "source": [
    "cellchat <- computeNetSimilarity(cellchat, type = \"functional\")\n",
    "cellchat <- netEmbedding(cellchat, type = \"functional\")"
   ]
  },
  {
   "cell_type": "markdown",
   "id": "df96d050",
   "metadata": {},
   "source": [
    "cellchat <- netClustering(cellchat, type = \"functional\")"
   ]
  },
  {
   "cell_type": "markdown",
   "id": "634f677b",
   "metadata": {},
   "source": [
    "netVisual_embedding(cellchat, type = \"functional\", label.size = 3.5)"
   ]
  },
  {
   "cell_type": "markdown",
   "id": "b2543984",
   "metadata": {},
   "source": [
    "netVisual_embeddingZoomIn(cellchat, type = \"functional\", nCol = 2)"
   ]
  },
  {
   "cell_type": "markdown",
   "id": "c8778760",
   "metadata": {},
   "source": [
    "#### structural"
   ]
  },
  {
   "cell_type": "markdown",
   "id": "0ddb4041",
   "metadata": {},
   "source": [
    "cellchat <- computeNetSimilarity(cellchat, type = \"structural\")\n",
    "cellchat <- netEmbedding(cellchat, type = \"structural\")"
   ]
  },
  {
   "cell_type": "markdown",
   "id": "afaa9ea4",
   "metadata": {},
   "source": [
    "cellchat <- netClustering(cellchat, type = \"structural\")"
   ]
  },
  {
   "cell_type": "markdown",
   "id": "7d3b6f66",
   "metadata": {},
   "source": [
    "netVisual_embedding(cellchat, type = \"structural\", label.size = 3.5)"
   ]
  },
  {
   "cell_type": "markdown",
   "id": "79c6878d",
   "metadata": {},
   "source": [
    "netVisual_embeddingZoomIn(cellchat, type = \"structural\", nCol = 2)"
   ]
  },
  {
   "cell_type": "markdown",
   "id": "c720bc50",
   "metadata": {},
   "source": [
    "### merge and compare tumour sample vs normal sample"
   ]
  },
  {
   "cell_type": "markdown",
   "id": "41aa1ea4",
   "metadata": {},
   "source": [
    "net$prob and net$pval updated the Idents in the background"
   ]
  },
  {
   "cell_type": "markdown",
   "id": "1c041286",
   "metadata": {},
   "source": [
    "colnames(cellchat_normal_in_tumour@net$count) = colnames(cellchat_normal_in_tumour@net$prob) \n",
    "colnames(cellchat_normal_in_tumour@net$weight) = colnames(cellchat_normal_in_tumour@net$prob) \n",
    "colnames(cellchat_normal_in_tumour@netP$prob) = colnames(cellchat_normal_in_tumour@net$prob) "
   ]
  },
  {
   "cell_type": "markdown",
   "id": "4d758283",
   "metadata": {},
   "source": [
    "rownames(cellchat_normal_in_tumour@net$count) = colnames(cellchat_normal_in_tumour@net$prob) \n",
    "rownames(cellchat_normal_in_tumour@net$weight) = colnames(cellchat_normal_in_tumour@net$prob) \n",
    "rownames(cellchat_normal_in_tumour@netP$prob) = colnames(cellchat_normal_in_tumour@net$prob) "
   ]
  },
  {
   "cell_type": "markdown",
   "id": "f7356caa",
   "metadata": {},
   "source": [
    "cellchat_normal_test = cellchat_normal\n",
    "cellchat_tumour_test = cellchat_tumour"
   ]
  },
  {
   "cell_type": "markdown",
   "id": "9b6f7958",
   "metadata": {},
   "source": [
    "names(cellchat_normal_test@net)"
   ]
  },
  {
   "cell_type": "markdown",
   "id": "b2be82b0",
   "metadata": {},
   "source": [
    "names(cellchat_normal_test@netP)"
   ]
  },
  {
   "cell_type": "markdown",
   "id": "0e336b79",
   "metadata": {},
   "source": [
    "#### modify normal sample obj: net and netP"
   ]
  },
  {
   "cell_type": "markdown",
   "id": "5140c094",
   "metadata": {},
   "source": [
    "#@net is used in compareInteractions, rankNet, etc\n",
    "#for normal samples: remove Monocytes and add Tumour > rename Monocytes to Tumour (13)\n",
    "#count and weight all 0\n",
    "sum(cellchat_normal_test@net$count[13,])\n",
    "sum(cellchat_normal_test@net$count[,13])\n",
    "\n",
    "sum(cellchat_normal_test@net$weight[13,])\n",
    "sum(cellchat_normal_test@net$weight[,13])\n",
    "\n",
    "rownames(cellchat_normal_test@net$count)[13] = 'Tumour'\n",
    "colnames(cellchat_normal_test@net$count)[13] = 'Tumour'\n",
    "\n",
    "rownames(cellchat_normal_test@net$weight)[13] = 'Tumour'\n",
    "colnames(cellchat_normal_test@net$weight)[13] = 'Tumour'"
   ]
  },
  {
   "cell_type": "markdown",
   "id": "e4733ff1",
   "metadata": {},
   "source": [
    "#reorder cell type\n",
    "cellchat_normal_test@net$count = cellchat_normal_test@net$count[order(colnames(cellchat_normal_test@net$count)),\n",
    "                                                                order(colnames(cellchat_normal_test@net$count))]\n",
    "\n",
    "cellchat_normal_test@net$weight = cellchat_normal_test@net$weight[order(colnames(cellchat_normal_test@net$weight)),\n",
    "                                                                  order(colnames(cellchat_normal_test@net$weight))]"
   ]
  },
  {
   "cell_type": "markdown",
   "id": "5b574a16",
   "metadata": {},
   "source": [
    "#prob is a 3d array: cell type as rows (20) x col (20) x LRpairs (1619)\n",
    "#all prob = 0\n",
    "#rename row\n",
    "\n",
    "sum(cellchat_normal_test@net$prob[13,13,])\n",
    "\n",
    "rownames(cellchat_normal_test@net$prob)[13]  = 'Tumour'\n",
    "colnames(cellchat_normal_test@net$prob)[13]  = 'Tumour'"
   ]
  },
  {
   "cell_type": "markdown",
   "id": "3e797a99",
   "metadata": {},
   "source": [
    "#pval is also a 3d array\n",
    "#why are there pvals != 1.....\n",
    "#anyway put all as 1\n",
    "sum(cellchat_normal_test@net$pval[13,13,])\n",
    "\n",
    "\n",
    "rownames(cellchat_normal_test@net$pval)[13]  = 'Tumour'\n",
    "colnames(cellchat_normal_test@net$pval)[13]  = 'Tumour'\n",
    "\n",
    "cellchat_normal_test@net$pval[13,13,] = 1"
   ]
  },
  {
   "cell_type": "markdown",
   "id": "3d93d13a",
   "metadata": {},
   "source": [
    "sum(cellchat_normal_test@netP$prob[13,13,])"
   ]
  },
  {
   "cell_type": "markdown",
   "id": "b0ec973e",
   "metadata": {},
   "source": [
    "cellchat_normal_test@net$prob = cellchat_normal_test@net$prob[order(colnames(cellchat_normal_test@net$prob)),\n",
    "                                                              order(colnames(cellchat_normal_test@net$prob)),]\n",
    "\n",
    "cellchat_normal_test@net$pval = cellchat_normal_test@net$pval[order(colnames(cellchat_normal_test@net$pval)),\n",
    "                                                              order(colnames(cellchat_normal_test@net$pval)),]"
   ]
  },
  {
   "cell_type": "markdown",
   "id": "7822c67a",
   "metadata": {},
   "source": [
    "#### modify tumour sample obj"
   ]
  },
  {
   "cell_type": "markdown",
   "id": "ef98a5f1",
   "metadata": {},
   "source": [
    "#for tumour samples: remove Monocytes\n",
    "cellchat_tumour_test@net$count = cellchat_tumour_test@net$count[-c(13), -c(13)]\n",
    "cellchat_tumour_test@net$weight = cellchat_tumour_test@net$weight[-c(13), -c(13)]\n",
    "\n",
    "cellchat_tumour_test@net$prob = cellchat_tumour_test@net$prob[-c(13), -c(13),]\n",
    "cellchat_tumour_test@net$pval = cellchat_tumour_test@net$pval[-c(13), -c(13),]"
   ]
  },
  {
   "cell_type": "markdown",
   "id": "7ea6b0aa",
   "metadata": {},
   "source": [
    "### merge objs"
   ]
  },
  {
   "cell_type": "code",
   "execution_count": null,
   "id": "75836a42",
   "metadata": {},
   "outputs": [],
   "source": [
    "# merge\n",
    "object.list <- list(Normal = cellchat_normal, \n",
    "                    Tumour = cellchat_tumour#,\n",
    "                    #Normal_in_Tumour = cellchat_normal_in_tumour\n",
    "                    #Tumour_in_Tumour = cell_chat_tumour_tumour\n",
    "                   )\n",
    "\n",
    "cellchat <- mergeCellChat(object.list, add.names = names(object.list), cell.prefix = FALSE)\n",
    "# if use TT\n",
    "# Error in mergeCellChat(object.list, add.names = names(object.list)): \n",
    "# Duplicated cell names were detected across datasets!! Please set cell.prefix = TRUE\n",
    "\n",
    "# Merge the following slots: 'data.signaling','images','net', 'netP','meta', \n",
    "#'idents', 'var.features' , 'DB', and 'LR'."
   ]
  },
  {
   "cell_type": "code",
   "execution_count": null,
   "id": "d86e126b",
   "metadata": {},
   "outputs": [],
   "source": [
    "cellchat #977 genes, 70553 cells"
   ]
  },
  {
   "cell_type": "code",
   "execution_count": null,
   "id": "ca0aa1c4",
   "metadata": {},
   "outputs": [],
   "source": [
    "cellchat@idents$joint = factor(cellchat@idents$joint, \n",
    "                               levels = cell_type_order_with_Tumour_without_Monocytes)\n",
    "cellchat@idents$Normal = factor(cellchat@idents$Normal, \n",
    "                               levels = cell_type_order_with_Tumour_without_Monocytes)\n",
    "cellchat@idents$Tumour = factor(cellchat@idents$Tumour, \n",
    "                               levels = cell_type_order_with_Tumour_without_Monocytes)\n",
    "\n",
    "\n",
    "#cellchat@idents$Normal_in_Tumour = factor(cellchat@idents$Normal_in_Tumour, \n",
    "#                               levels = cell_type_order)\n",
    "#cellchat@idents$Tumour_in_Tumour = factor(cellchat@idents$Tumour_in_Tumour, \n",
    "#                               levels = cell_type_order)"
   ]
  },
  {
   "cell_type": "code",
   "execution_count": null,
   "id": "42412ee9",
   "metadata": {},
   "outputs": [],
   "source": [
    "options(repr.plot.width=8, \n",
    "        repr.plot.height=8,\n",
    "        repr.plot.res = 200)\n",
    "\n",
    "gg1 <- compareInteractions(cellchat, show.legend = F, group = c(1,2), color.use = c('#808080','#ff7f0e'),\n",
    "                           digits = 2, size.text = 18)\n",
    "\n",
    "gg2 <- compareInteractions(cellchat, show.legend = F, group = c(1,2), measure = \"weight\",\n",
    "                           color.use = c('#808080','#ff7f0e'),\n",
    "                           digits = 2, size.text = 18)\n",
    "gg1 + gg2"
   ]
  },
  {
   "cell_type": "markdown",
   "id": "1f57d849",
   "metadata": {},
   "source": [
    "too much\n",
    "netVisual_diffInteraction(cellchat, weight.scale = T)"
   ]
  },
  {
   "cell_type": "markdown",
   "id": "552ee1d2",
   "metadata": {},
   "source": [
    "netVisual_diffInteraction(cellchat, weight.scale = T, measure = \"weight\")"
   ]
  },
  {
   "cell_type": "code",
   "execution_count": null,
   "id": "159634ed",
   "metadata": {},
   "outputs": [],
   "source": [
    "colnames(cellchat@net[['Tumour']][['count']])"
   ]
  },
  {
   "cell_type": "code",
   "execution_count": null,
   "id": "9c35c908",
   "metadata": {},
   "outputs": [],
   "source": [
    "colnames(cellchat@net[['Normal']][['count']])"
   ]
  },
  {
   "cell_type": "code",
   "execution_count": null,
   "id": "7cd342eb",
   "metadata": {},
   "outputs": [],
   "source": [
    "options(repr.plot.width=8, \n",
    "        repr.plot.height=8,\n",
    "        repr.plot.res = 200)\n",
    "\n",
    "netVisual_heatmap(cellchat, width = 16, font.size.title = 15, font.size = 12,\n",
    "                  color.use = cell_type_order_with_Tumour_without_Monocytes_color\n",
    ")\n",
    "#some issue to plot togeter\n",
    "#ERROR while rich displaying an object: \n",
    "#Error in grid.Call.graphics(C_downvppath, name$path, name$name, strict): \n",
    "#Viewport 'Relative values_heatmap_body_1_1' was not found\n",
    "\n",
    "#Error in obj2 - obj1: non-conformable arrays\n",
    "#Traceback:\n",
    "#\n",
    "#1. netVisual_heatmap(cellchat, width = 16, font.size.title = 15, \n",
    "# .     font.size = 12)"
   ]
  },
  {
   "cell_type": "code",
   "execution_count": null,
   "id": "e5375e32",
   "metadata": {},
   "outputs": [],
   "source": [
    "options(repr.plot.width=8, \n",
    "        repr.plot.height=8,\n",
    "        repr.plot.res = 200)\n",
    "\n",
    "netVisual_heatmap(cellchat, measure = \"weight\", width = 16, font.size.title = 15, font.size = 12,\n",
    "                 color.use = cell_type_order_with_Tumour_without_Monocytes_color)"
   ]
  },
  {
   "cell_type": "code",
   "execution_count": null,
   "id": "37e53172",
   "metadata": {},
   "outputs": [],
   "source": [
    "options(repr.plot.width=16, \n",
    "        repr.plot.height=8,\n",
    "        repr.plot.res = 200)\n",
    "\n",
    "weight.max <- getMaxWeight(object.list, attribute = c(\"idents\",\"count\"))\n",
    "\n",
    "par(mfrow = c(1,2), xpd=TRUE)\n",
    "\n",
    "for (i in 1:length(object.list)) {\n",
    "  netVisual_circle(object.list[[i]]@net$count, weight.scale = T, label.edge= F, \n",
    "                   edge.weight.max = weight.max[2], edge.width.max = 12, \n",
    "                   #title.name = paste0(\"Number of interactions - \", names(object.list)[i]),\n",
    "                  color.use = cell_type_order_with_Tumour_without_Monocytes_color)\n",
    "}"
   ]
  },
  {
   "cell_type": "code",
   "execution_count": null,
   "id": "e3055e09",
   "metadata": {},
   "outputs": [],
   "source": [
    "# need centr\n",
    "options(repr.plot.width=16, \n",
    "        repr.plot.height=8,\n",
    "        repr.plot.res = 200)\n",
    "\n",
    "num.link <- sapply(object.list, function(x) {rowSums(x@net$count) + colSums(x@net$count)-diag(x@net$count)})\n",
    "\n",
    "#weight.MinMax <- c(min(num.link), max(num.link)) # control the dot size in the different datasets\n",
    "\n",
    "gg <- list()\n",
    "for (i in 1:length(object.list)) {\n",
    "  gg[[i]] <- netAnalysis_signalingRole_scatter(object.list[[i]], #title = names(object.list)[i], \n",
    "                                               font.size.title = 18, font.size = 15, label.size = 5,\n",
    "                                               color.use = cell_type_order_with_Tumour_without_Monocytes_color\n",
    "                                               #,weight.MinMax = weight.MinMax\n",
    "                                              ) + \n",
    "    xlim(0, 20) + \n",
    "    ylim(0, 12)\n",
    "}\n",
    "\n",
    "patchwork::wrap_plots(plots = gg)"
   ]
  },
  {
   "cell_type": "code",
   "execution_count": null,
   "id": "9d588fe8",
   "metadata": {},
   "outputs": [],
   "source": [
    "# outgoing and incoming per pathway \n"
   ]
  },
  {
   "cell_type": "code",
   "execution_count": null,
   "id": "5727eaf9",
   "metadata": {},
   "outputs": [],
   "source": []
  },
  {
   "cell_type": "code",
   "execution_count": null,
   "id": "32e987ad",
   "metadata": {},
   "outputs": [],
   "source": []
  },
  {
   "cell_type": "code",
   "execution_count": null,
   "id": "f2af798c",
   "metadata": {},
   "outputs": [],
   "source": []
  },
  {
   "cell_type": "code",
   "execution_count": null,
   "id": "22b085ad",
   "metadata": {},
   "outputs": [],
   "source": []
  },
  {
   "cell_type": "code",
   "execution_count": null,
   "id": "a1e757e9",
   "metadata": {},
   "outputs": [],
   "source": []
  },
  {
   "cell_type": "code",
   "execution_count": null,
   "id": "39e406d4",
   "metadata": {},
   "outputs": [],
   "source": []
  },
  {
   "cell_type": "code",
   "execution_count": null,
   "id": "fab3847c",
   "metadata": {},
   "outputs": [],
   "source": []
  },
  {
   "cell_type": "markdown",
   "id": "490f7206",
   "metadata": {},
   "source": [
    "#### similarity"
   ]
  },
  {
   "cell_type": "markdown",
   "id": "bb3e3b35",
   "metadata": {},
   "source": [
    "Functional similarity: High degree of functional similarity indicates major senders and receivers are similar, and it can be interpreted as the two signaling pathways or two ligand-receptor pairs exhibit similar and/or redundant roles."
   ]
  },
  {
   "cell_type": "code",
   "execution_count": null,
   "id": "625c1980",
   "metadata": {},
   "outputs": [],
   "source": [
    "cellchat <- computeNetSimilarityPairwise(cellchat, type = \"functional\")\n",
    "#> Compute signaling network similarity for datasets 1 2\n",
    "cellchat <- netEmbedding(cellchat, type = \"functional\")\n",
    "#> Manifold learning of the signaling networks for datasets 1 2\n",
    "cellchat <- netClustering(cellchat, type = \"functional\")\n",
    "#> Classification learning of the signaling networks for datasets 1 2"
   ]
  },
  {
   "cell_type": "code",
   "execution_count": null,
   "id": "cfa78f37",
   "metadata": {},
   "outputs": [],
   "source": [
    "options(repr.plot.width=12, \n",
    "        repr.plot.height=8,\n",
    "        repr.plot.res = 200)\n",
    "\n",
    "netVisual_embeddingPairwise(cellchat, type = \"functional\", label.size = 3)"
   ]
  },
  {
   "cell_type": "markdown",
   "id": "fb4f8422",
   "metadata": {},
   "source": [
    "Structural similarity: A structural similarity was used to compare their signaling network structure, without considering the similarity of senders and receivers. NB: Structural similarity analysis is applicable to multiple datsets with the same cell type composition or the vastly different cell type composition."
   ]
  },
  {
   "cell_type": "code",
   "execution_count": null,
   "id": "40ea3385",
   "metadata": {},
   "outputs": [],
   "source": [
    "cellchat <- computeNetSimilarityPairwise(cellchat, type = \"structural\")\n",
    "#> Compute signaling network similarity for datasets 1 2\n",
    "cellchat <- netEmbedding(cellchat, type = \"structural\")\n",
    "#> Manifold learning of the signaling networks for datasets 1 2\n",
    "cellchat <- netClustering(cellchat, type = \"structural\")\n",
    "#> Classification learning of the signaling networks for datasets 1 2"
   ]
  },
  {
   "cell_type": "code",
   "execution_count": null,
   "id": "f636feb6",
   "metadata": {},
   "outputs": [],
   "source": [
    "options(repr.plot.width=12, \n",
    "        repr.plot.height=8,\n",
    "        repr.plot.res = 200)\n",
    "\n",
    "netVisual_embeddingPairwise(cellchat, type = \"structural\", label.size = 3.5)"
   ]
  },
  {
   "cell_type": "code",
   "execution_count": null,
   "id": "06025bc9",
   "metadata": {},
   "outputs": [],
   "source": [
    "rankSimilarity(cellchat, type = \"functional\")"
   ]
  },
  {
   "cell_type": "code",
   "execution_count": null,
   "id": "42ec0ef2",
   "metadata": {},
   "outputs": [],
   "source": [
    "rankSimilarity(cellchat, type = \"structural\")"
   ]
  },
  {
   "cell_type": "markdown",
   "id": "d30fc69d",
   "metadata": {},
   "source": [
    "#### information flows (sum of communication probability among all pairs == total weights)\n",
    "- conserved and context-specifc signalling pathways "
   ]
  },
  {
   "cell_type": "code",
   "execution_count": null,
   "id": "bb4d694f",
   "metadata": {},
   "outputs": [],
   "source": [
    "options(repr.plot.width=12, \n",
    "        repr.plot.height=16,\n",
    "        repr.plot.res = 200)\n",
    "\n",
    "gg1 <- rankNet(cellchat, mode = \"comparison\", stacked = T, do.stat = TRUE, font.size = 10, measure = \"count\",\n",
    "              color.use = c('#808080', '#ff7f0e'))\n",
    "gg2 <- rankNet(cellchat, mode = \"comparison\", stacked = F, do.stat = TRUE, font.size = 10, measure = \"count\",\n",
    "              color.use = c('#808080', '#ff7f0e'))\n",
    "gg1 + gg2"
   ]
  },
  {
   "cell_type": "code",
   "execution_count": null,
   "id": "078eca63",
   "metadata": {},
   "outputs": [],
   "source": [
    "gg3 <- rankNet(cellchat, mode = \"comparison\", stacked = T, do.stat = TRUE, font.size = 10, measure = \"weight\",\n",
    "              color.use = c('#808080', '#ff7f0e'))\n",
    "gg4 <- rankNet(cellchat, mode = \"comparison\", stacked = F, do.stat = TRUE, font.size = 10, measure = \"weight\",\n",
    "              color.use = c('#808080', '#ff7f0e'))\n",
    "gg3 + gg4"
   ]
  },
  {
   "cell_type": "markdown",
   "id": "8d6de6d3",
   "metadata": {},
   "source": [
    "### pathways vs cell groups"
   ]
  },
  {
   "cell_type": "code",
   "execution_count": null,
   "id": "f67f3e0f",
   "metadata": {},
   "outputs": [],
   "source": [
    "i = 1\n",
    "pathway.union <- union(object.list[[i]]@netP$pathways, object.list[[i+1]]@netP$pathways)"
   ]
  },
  {
   "cell_type": "code",
   "execution_count": null,
   "id": "75f13cfe",
   "metadata": {},
   "outputs": [],
   "source": [
    "options(repr.plot.width=12, \n",
    "        repr.plot.height=16,\n",
    "        repr.plot.res = 200)\n",
    "\n",
    "netAnalysis_signalingRole_heatmap(object.list[[1]], pattern = \"all\", \n",
    "                                        signaling = pathway.union, title = names(object.list)[1],  \n",
    "                                  width = 20, height = 35, color.heatmap = \"OrRd\", font.size = 10,\n",
    "                                 color.use = cell_type_order_with_Tumour_without_Monocytes_color)"
   ]
  },
  {
   "cell_type": "code",
   "execution_count": null,
   "id": "be85c654",
   "metadata": {},
   "outputs": [],
   "source": [
    "netAnalysis_signalingRole_heatmap(object.list[[2]], pattern = \"all\", \n",
    "                                        signaling = pathway.union, \n",
    "                                  title = names(object.list)[2], \n",
    "                                  width = 20, height = 35, color.heatmap = \"OrRd\", font.size = 10,\n",
    "                                  color.use = cell_type_order_with_Tumour_without_Monocytes_color)"
   ]
  },
  {
   "cell_type": "markdown",
   "id": "9747eb30",
   "metadata": {},
   "source": [
    "netAnalysis_signalingRole_heatmap(object.list[[i+1]], pattern = \"outgoing\", \n",
    "                                        signaling = pathway.union, \n",
    "                                        title = names(object.list)[i+1], width = 20, height = 35, font.size = 10)"
   ]
  },
  {
   "cell_type": "markdown",
   "id": "2f6c35db",
   "metadata": {},
   "source": [
    "### LR pairs from some cell groups to some cell groups (differences in community prob)"
   ]
  },
  {
   "cell_type": "code",
   "execution_count": null,
   "id": "e7560eb8",
   "metadata": {},
   "outputs": [],
   "source": [
    "length(levels(cellchat@idents$joint))"
   ]
  },
  {
   "cell_type": "code",
   "execution_count": null,
   "id": "cb113124",
   "metadata": {},
   "outputs": [],
   "source": [
    "shared_sig_pathways = intersect(sort(cellchat@netP$Normal$pathways), sort(cellchat@netP$Tumour$pathways))"
   ]
  },
  {
   "cell_type": "code",
   "execution_count": null,
   "id": "efeab0df",
   "metadata": {},
   "outputs": [],
   "source": [
    "(shared_sig_pathways) # 88"
   ]
  },
  {
   "cell_type": "code",
   "execution_count": null,
   "id": "abc587d2",
   "metadata": {},
   "outputs": [],
   "source": [
    "data.frame(levels(cellchat@idents$joint), c(1:20))"
   ]
  },
  {
   "cell_type": "code",
   "execution_count": null,
   "id": "aa0d6a47",
   "metadata": {},
   "outputs": [],
   "source": [
    "# from Tumour to everything\n",
    "options(repr.plot.width=12, \n",
    "        repr.plot.height=25,\n",
    "        repr.plot.res = 200)\n",
    "\n",
    "netVisual_bubble(cellchat, sources.use = 20, targets.use = c(1:20),  comparison = c(1, 2), angle.x = 45)"
   ]
  },
  {
   "cell_type": "code",
   "execution_count": null,
   "id": "c3b21adc",
   "metadata": {},
   "outputs": [],
   "source": [
    "# from Fibroblast to Stem/Tumour (the targets.use doesnt let me do one cell group...)\n",
    "options(repr.plot.width=12, \n",
    "        repr.plot.height=20,\n",
    "        repr.plot.res = 200)\n",
    "\n",
    "netVisual_bubble(cellchat, sources.use = 11, targets.use = c(13,20),  comparison = c(1, 2), angle.x = 45)"
   ]
  },
  {
   "cell_type": "code",
   "execution_count": null,
   "id": "6fb9b034",
   "metadata": {},
   "outputs": [],
   "source": []
  },
  {
   "cell_type": "code",
   "execution_count": null,
   "id": "9c4b0d4e",
   "metadata": {},
   "outputs": [],
   "source": []
  },
  {
   "cell_type": "markdown",
   "id": "2c4179ad",
   "metadata": {},
   "source": [
    "### differential at pathway level"
   ]
  },
  {
   "cell_type": "code",
   "execution_count": null,
   "id": "f480b491",
   "metadata": {},
   "outputs": [],
   "source": [
    "# plot all the significant pathways\n",
    "options(repr.plot.width=12, \n",
    "        repr.plot.height=6,\n",
    "        repr.plot.res = 200)\n",
    "\n",
    "pdf(paste0(new_data_folder,'/20231129_cellchat_pathway_cell_groups_signals.pdf'), paper = 'a4r')\n",
    "\n",
    "for(i in shared_sig_pathways){\n",
    "    pathways.show = i\n",
    "    \n",
    "    weight.max <- getMaxWeight(object.list, slot.name = c(\"netP\"), attribute = pathways.show) \n",
    "    # control the edge weights across different datasets\n",
    "    \n",
    "    par(mfrow = c(1,2), xpd=TRUE)\n",
    "    \n",
    "    for (i in 1:length(object.list)) {\n",
    "        netVisual_aggregate(object.list[[i]], signaling = pathways.show, layout = \"circle\", \n",
    "                            edge.weight.max = weight.max[1], edge.width.max = 10, \n",
    "                            signaling.name = paste(pathways.show, names(object.list)[i]),\n",
    "                            color.use = cell_type_order_with_Tumour_without_Monocytes_color)\n",
    "    }\n",
    "}\n",
    "dev.off()"
   ]
  },
  {
   "cell_type": "markdown",
   "id": "fed4453e",
   "metadata": {},
   "source": [
    "### identify dysfunctional signaling by using differential expression"
   ]
  },
  {
   "cell_type": "code",
   "execution_count": null,
   "id": "92448659",
   "metadata": {},
   "outputs": [],
   "source": [
    "# define a positive dataset, i.e., the dataset with positive fold change against the other dataset\n",
    "pos.dataset = \"Tumour\"\n",
    "# define a char name used for storing the results of differential expression analysis\n",
    "features.name = pos.dataset\n",
    "# perform differential expression analysis\n",
    "cellchat <- identifyOverExpressedGenes(cellchat, group.dataset = \"datasets\", \n",
    "                                       pos.dataset = pos.dataset, \n",
    "                                       features.name = features.name, only.pos = FALSE, \n",
    "                                       thresh.pc = 0.1, thresh.fc = 0.1, thresh.p = 1)\n",
    "\n",
    "#> Use the joint cell labels from the merged CellChat object\n",
    "# map the results of differential expression analysis onto the inferred cell-cell communications to easily manage/subset the ligand-receptor pairs of interest\n",
    "net <- netMappingDEG(cellchat, features.name = features.name)\n",
    "# extract the ligand-receptor pairs with upregulated ligands \n",
    "net.up <- subsetCommunication(cellchat, net = net, datasets = \"Tumour\",\n",
    "                              ligand.logFC = 0.2, receptor.logFC = NULL)\n",
    "\n",
    "net.down <- subsetCommunication(cellchat, net = net, datasets = \"Normal\",\n",
    "                                ligand.logFC = -0.2, receptor.logFC = NULL)\n",
    "\n"
   ]
  },
  {
   "cell_type": "code",
   "execution_count": null,
   "id": "4a51f3d5",
   "metadata": {},
   "outputs": [],
   "source": [
    "saveRDS(cellchat, \"202401_cellchat.rds\")\n"
   ]
  },
  {
   "cell_type": "code",
   "execution_count": null,
   "id": "547d955f",
   "metadata": {},
   "outputs": [],
   "source": [
    "# keep only expressed (not NA) receptors\n",
    "net.up = net.up[which(net.up$receptor.logFC != 'NA'),] #1855 "
   ]
  },
  {
   "cell_type": "code",
   "execution_count": null,
   "id": "63630734",
   "metadata": {},
   "outputs": [],
   "source": [
    "net.down = net.down[which(net.down$receptor.logFC != 'NA'),] #411"
   ]
  },
  {
   "cell_type": "code",
   "execution_count": null,
   "id": "7ae32429",
   "metadata": {},
   "outputs": [],
   "source": [
    "gene.up <- extractGeneSubsetFromPair(net.up, cellchat)\n",
    "gene.down <- extractGeneSubsetFromPair(net.down, cellchat)"
   ]
  },
  {
   "cell_type": "code",
   "execution_count": null,
   "id": "2fe0b7d8",
   "metadata": {},
   "outputs": [],
   "source": [
    "pairLR.use.up = net.up[, \"interaction_name\", drop = F]\n",
    "pairLR.use.down = net.down[, \"interaction_name\", drop = F]"
   ]
  },
  {
   "cell_type": "code",
   "execution_count": null,
   "id": "60b0c37a",
   "metadata": {},
   "outputs": [],
   "source": [
    "options(repr.plot.width=12, \n",
    "        repr.plot.height=20,\n",
    "        repr.plot.res = 200)\n",
    "#' @param remove.isolate whether remove the entire empty column, i.e., communication between certain cell groups\n",
    "gg1 <- netVisual_bubble(cellchat, pairLR.use = pairLR.use.up, sources.use = 11, targets.use = 13, \n",
    "                        comparison = c(1, 2),  angle.x = 90, remove.isolate = T,\n",
    "                        title.name = paste0(\"Up-regulated signaling in \", names(object.list)[2]))\n",
    "\n",
    "gg2 <- netVisual_bubble(cellchat, pairLR.use = pairLR.use.down, sources.use = 11, targets.use = 13, \n",
    "                        comparison = c(1, 2),  angle.x = 90, remove.isolate = T,\n",
    "                        title.name = paste0(\"Down-regulated signaling in \", names(object.list)[2]))\n",
    "\n",
    "gg1 + gg2"
   ]
  },
  {
   "cell_type": "code",
   "execution_count": null,
   "id": "bc22a5f9",
   "metadata": {},
   "outputs": [],
   "source": [
    "# Chord diagram\n",
    "options(repr.plot.width=10, \n",
    "        repr.plot.height=10,\n",
    "        repr.plot.res = 200)\n",
    "\n",
    "netVisual_chord_gene(object.list[[2]], sources.use = 11, targets.use = 13, \n",
    "                     slot.name = 'net', net = net.up, lab.cex = 0.8, small.gap = 3.5, \n",
    "                     title.name = paste0(\"Up-regulated signaling in \", names(object.list)[2]))"
   ]
  },
  {
   "cell_type": "code",
   "execution_count": null,
   "id": "03117e9e",
   "metadata": {},
   "outputs": [],
   "source": [
    "netVisual_chord_gene(object.list[[1]], sources.use = 11, targets.use = 13, \n",
    "                     slot.name = 'net', net = net.down, lab.cex = 0.8, small.gap = 3.5, \n",
    "                     title.name = paste0(\"Down-regulated signaling in \", names(object.list)[2]))"
   ]
  },
  {
   "cell_type": "markdown",
   "id": "9d902dd3",
   "metadata": {},
   "source": [
    "#### pathway"
   ]
  },
  {
   "cell_type": "code",
   "execution_count": null,
   "id": "a01bebf7",
   "metadata": {},
   "outputs": [],
   "source": [
    "pathways.show <- c(\"WNT\") \n",
    "ht <- list()\n",
    "for (i in 1:length(object.list)) {\n",
    "  ht[[i]] <- netVisual_heatmap(object.list[[i]], signaling = pathways.show, \n",
    "                               color.heatmap = \"Reds\",\n",
    "                               title.name = paste(pathways.show, \"signaling \",names(object.list)[i]),\n",
    "                              ,\n",
    "                                 color.use = cell_type_order_with_Tumour_without_Monocytes_color)\n",
    "}"
   ]
  },
  {
   "cell_type": "code",
   "execution_count": null,
   "id": "b9605156",
   "metadata": {},
   "outputs": [],
   "source": [
    "options(repr.plot.width=6, \n",
    "        repr.plot.height=6,\n",
    "        repr.plot.res = 200)\n",
    "ht[[1]]"
   ]
  },
  {
   "cell_type": "code",
   "execution_count": null,
   "id": "cad50575",
   "metadata": {},
   "outputs": [],
   "source": [
    "ht[[2]]"
   ]
  },
  {
   "cell_type": "code",
   "execution_count": null,
   "id": "5ccca8ab",
   "metadata": {},
   "outputs": [],
   "source": []
  },
  {
   "cell_type": "code",
   "execution_count": null,
   "id": "032a876e",
   "metadata": {},
   "outputs": [],
   "source": []
  },
  {
   "cell_type": "code",
   "execution_count": null,
   "id": "870ff025",
   "metadata": {},
   "outputs": [],
   "source": []
  },
  {
   "cell_type": "code",
   "execution_count": null,
   "id": "5a63f229",
   "metadata": {},
   "outputs": [],
   "source": []
  },
  {
   "cell_type": "code",
   "execution_count": null,
   "id": "70b6b64c",
   "metadata": {},
   "outputs": [],
   "source": []
  },
  {
   "cell_type": "code",
   "execution_count": null,
   "id": "ceebe46f",
   "metadata": {},
   "outputs": [],
   "source": []
  },
  {
   "cell_type": "code",
   "execution_count": null,
   "id": "20df7bdc",
   "metadata": {},
   "outputs": [],
   "source": []
  },
  {
   "cell_type": "code",
   "execution_count": null,
   "id": "e78d4e5e",
   "metadata": {},
   "outputs": [],
   "source": []
  },
  {
   "cell_type": "code",
   "execution_count": null,
   "id": "22722608",
   "metadata": {},
   "outputs": [],
   "source": [
    "## Shut down parallel workers\n",
    "future::plan(\"sequential\")"
   ]
  },
  {
   "cell_type": "code",
   "execution_count": null,
   "id": "2fc33b2b",
   "metadata": {},
   "outputs": [],
   "source": []
  },
  {
   "cell_type": "code",
   "execution_count": null,
   "id": "caddd581",
   "metadata": {},
   "outputs": [],
   "source": []
  },
  {
   "cell_type": "code",
   "execution_count": null,
   "id": "372cf9b6",
   "metadata": {},
   "outputs": [],
   "source": []
  },
  {
   "cell_type": "code",
   "execution_count": null,
   "id": "32aabf2b",
   "metadata": {},
   "outputs": [],
   "source": []
  },
  {
   "cell_type": "code",
   "execution_count": null,
   "id": "df09989e",
   "metadata": {},
   "outputs": [],
   "source": []
  },
  {
   "cell_type": "code",
   "execution_count": null,
   "id": "a7c5c425",
   "metadata": {},
   "outputs": [],
   "source": []
  },
  {
   "cell_type": "code",
   "execution_count": null,
   "id": "a1671872",
   "metadata": {},
   "outputs": [],
   "source": []
  },
  {
   "cell_type": "code",
   "execution_count": null,
   "id": "cd2b317e",
   "metadata": {},
   "outputs": [],
   "source": []
  },
  {
   "cell_type": "markdown",
   "id": "6fb1511c",
   "metadata": {},
   "source": [
    "### Immune cell annotations"
   ]
  },
  {
   "cell_type": "markdown",
   "id": "a3fda9d6",
   "metadata": {},
   "source": [
    "anno_folder = '/fast/users/twei_m/work/crc/datasets/anno/CRC/3p/'"
   ]
  },
  {
   "cell_type": "markdown",
   "id": "5744f28a",
   "metadata": {},
   "source": [
    "immune_folder = '/fast/users/twei_m/work/immune/seurat_objects/'"
   ]
  },
  {
   "cell_type": "markdown",
   "id": "36f0c943",
   "metadata": {},
   "source": [
    "### anno folder"
   ]
  },
  {
   "cell_type": "markdown",
   "id": "7ccaf2c7",
   "metadata": {},
   "source": [
    "#### an annotation file"
   ]
  },
  {
   "cell_type": "markdown",
   "id": "de45a910",
   "metadata": {},
   "source": [
    "singlecell_CRC_patients_3prime_annotation = read.csv(paste0(anno_folder,\n",
    "                                                            'singlecell_CRC_patients_3prime_annotation.csv'))"
   ]
  },
  {
   "cell_type": "markdown",
   "id": "978c9946",
   "metadata": {},
   "source": [
    "colnames(singlecell_CRC_patients_3prime_annotation)[1] = 'cell_id'"
   ]
  },
  {
   "cell_type": "markdown",
   "id": "7ff50d10",
   "metadata": {
    "scrolled": true
   },
   "source": [
    "singlecell_CRC_patients_3prime_annotation"
   ]
  },
  {
   "cell_type": "markdown",
   "id": "1164450e",
   "metadata": {},
   "source": [
    "#### original Florian's object: Disaster"
   ]
  },
  {
   "cell_type": "markdown",
   "id": "7b58826b",
   "metadata": {},
   "source": [
    "seu_all_final = readRDS(paste0(anno_folder,'seu_all_final.rds'))"
   ]
  },
  {
   "cell_type": "markdown",
   "id": "a9f06f62",
   "metadata": {},
   "source": [
    "#### # wtf one cell with anno both in imm and str\n"
   ]
  },
  {
   "cell_type": "markdown",
   "id": "55fd9cfc",
   "metadata": {
    "scrolled": true
   },
   "source": [
    "# empty: 'cell_type_imm_custom','cell_type_imm_simple'\n",
    "seu_all_final@meta.data[c('cell_type_epi','cell_type_imm','cell_type_str')]"
   ]
  },
  {
   "cell_type": "markdown",
   "id": "a014b579",
   "metadata": {},
   "source": [
    "table(seu_all_final@meta.data[c('cell_type_str', 'cell_type_imm')])"
   ]
  },
  {
   "cell_type": "markdown",
   "id": "2bc74f3a",
   "metadata": {},
   "source": [
    "#### Philips latest object"
   ]
  },
  {
   "cell_type": "markdown",
   "id": "68ee654f",
   "metadata": {},
   "source": [
    "immune_philips = readRDS(paste0(immune_folder,'immune_annotated.RDS'))"
   ]
  },
  {
   "cell_type": "markdown",
   "id": "61a30bf7",
   "metadata": {},
   "source": [
    "str_philips = readRDS(paste0(immune_folder,'stromal_annotated.RDS'))"
   ]
  },
  {
   "cell_type": "markdown",
   "id": "344c1765",
   "metadata": {},
   "source": [
    "head(immune_philips@meta.data)"
   ]
  },
  {
   "cell_type": "markdown",
   "id": "6549c043",
   "metadata": {},
   "source": [
    "table(immune_philips@meta.data[c('cell_type', 'cell_type2')])"
   ]
  },
  {
   "cell_type": "markdown",
   "id": "41455135",
   "metadata": {},
   "source": [
    "table(str_philips@meta.data[c('cell_type', 'cell_type2')])"
   ]
  },
  {
   "cell_type": "markdown",
   "id": "0a8120fc",
   "metadata": {},
   "source": [
    "# if double annotated\n",
    "table(rownames(str_philips@meta.data) %in% rownames(immune_philips@meta.data))"
   ]
  },
  {
   "cell_type": "markdown",
   "id": "9105bb8e",
   "metadata": {},
   "source": [
    "### ImSigGenes_immunetumor.xlsx"
   ]
  },
  {
   "cell_type": "code",
   "execution_count": null,
   "id": "46016aa5",
   "metadata": {},
   "outputs": [],
   "source": []
  },
  {
   "cell_type": "code",
   "execution_count": null,
   "id": "c268a465",
   "metadata": {},
   "outputs": [],
   "source": []
  },
  {
   "cell_type": "code",
   "execution_count": null,
   "id": "7a25dd17",
   "metadata": {},
   "outputs": [],
   "source": []
  }
 ],
 "metadata": {
  "kernelspec": {
   "display_name": "cellchat",
   "language": "R",
   "name": "cellchat"
  },
  "language_info": {
   "codemirror_mode": "r",
   "file_extension": ".r",
   "mimetype": "text/x-r-source",
   "name": "R",
   "pygments_lexer": "r",
   "version": "4.1.2"
  }
 },
 "nbformat": 4,
 "nbformat_minor": 5
}
