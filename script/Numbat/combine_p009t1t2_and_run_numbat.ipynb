{
 "cells": [
  {
   "cell_type": "code",
   "execution_count": 48,
   "id": "e8c568d6",
   "metadata": {
    "scrolled": true
   },
   "outputs": [],
   "source": [
    "library(ggplot2)\n",
    "library(numbat)\n",
    "library(dplyr)\n",
    "library(glue)\n",
    "library(data.table)\n",
    "library(ggtree)\n",
    "library(stringr)\n",
    "library(tidygraph)\n",
    "library(patchwork)"
   ]
  },
  {
   "cell_type": "code",
   "execution_count": 49,
   "id": "e5571afb",
   "metadata": {},
   "outputs": [],
   "source": [
    "options(repr.plot.width = 14, repr.plot.height = 8)"
   ]
  },
  {
   "cell_type": "code",
   "execution_count": 50,
   "id": "e765cd9d",
   "metadata": {},
   "outputs": [],
   "source": [
    "plot_theme = theme(title = element_text(size = 24),\n",
    "                   axis.title = element_text(size = 20),\n",
    "                   axis.text = element_text(size = 16),\n",
    "                   legend.text = element_text(size = 16))"
   ]
  },
  {
   "cell_type": "markdown",
   "id": "d25283ac",
   "metadata": {},
   "source": [
    "### 20230228 check run numbat on p009"
   ]
  },
  {
   "cell_type": "markdown",
   "id": "fc8221dd",
   "metadata": {},
   "source": [
    "gtf_hg38.rda ##\n",
    "https://hgdownload.soe.ucsc.edu/goldenPath/hg38/bigZips/genes/hg38.refGene.gtf.gz"
   ]
  },
  {
   "cell_type": "code",
   "execution_count": 51,
   "id": "4d673e3c",
   "metadata": {},
   "outputs": [
    {
     "data": {
      "text/html": [
       "'/fast/work/projects/scCRC_Patients/scitcem/datasets/numbat'"
      ],
      "text/latex": [
       "'/fast/work/projects/scCRC\\_Patients/scitcem/datasets/numbat'"
      ],
      "text/markdown": [
       "'/fast/work/projects/scCRC_Patients/scitcem/datasets/numbat'"
      ],
      "text/plain": [
       "[1] \"/fast/work/projects/scCRC_Patients/scitcem/datasets/numbat\""
      ]
     },
     "metadata": {},
     "output_type": "display_data"
    }
   ],
   "source": [
    "getwd()"
   ]
  },
  {
   "cell_type": "code",
   "execution_count": 52,
   "id": "ae2e2d1e",
   "metadata": {},
   "outputs": [],
   "source": [
    "donor = 'p009'"
   ]
  },
  {
   "cell_type": "markdown",
   "id": "eb6c20fa",
   "metadata": {},
   "source": [
    "all_counts <- readRDS('../anno/CRC/3p/all_epi_counts.rds')"
   ]
  },
  {
   "cell_type": "code",
   "execution_count": 53,
   "id": "4fc36f9d",
   "metadata": {},
   "outputs": [],
   "source": [
    "all_counts = readRDS('../../datasets_new_preprocessing/all_epi_cell_CB_counts.rds')"
   ]
  },
  {
   "cell_type": "code",
   "execution_count": 54,
   "id": "9e4c17d1",
   "metadata": {},
   "outputs": [
    {
     "data": {
      "text/html": [
       "<style>\n",
       ".list-inline {list-style: none; margin:0; padding: 0}\n",
       ".list-inline>li {display: inline-block}\n",
       ".list-inline>li:not(:last-child)::after {content: \"\\00b7\"; padding: 0 .5ex}\n",
       "</style>\n",
       "<ol class=list-inline><li>33538</li><li>22460</li></ol>\n"
      ],
      "text/latex": [
       "\\begin{enumerate*}\n",
       "\\item 33538\n",
       "\\item 22460\n",
       "\\end{enumerate*}\n"
      ],
      "text/markdown": [
       "1. 33538\n",
       "2. 22460\n",
       "\n",
       "\n"
      ],
      "text/plain": [
       "[1] 33538 22460"
      ]
     },
     "metadata": {},
     "output_type": "display_data"
    }
   ],
   "source": [
    "dim(all_counts) #dgCMatrix col:p007t_AACAACCAGTTGTCGT, row: gene name"
   ]
  },
  {
   "cell_type": "code",
   "execution_count": 55,
   "id": "7fb645ef",
   "metadata": {},
   "outputs": [
    {
     "data": {
      "text/html": [
       "<style>\n",
       ".list-inline {list-style: none; margin:0; padding: 0}\n",
       ".list-inline>li {display: inline-block}\n",
       ".list-inline>li:not(:last-child)::after {content: \"\\00b7\"; padding: 0 .5ex}\n",
       "</style>\n",
       "<ol class=list-inline><li>'p014n:AAACCCAAGCAAATGT'</li><li>'p014n:AAACCCAAGTACCGGA'</li><li>'p014n:AAACCCACAGGGAATC'</li><li>'p014n:AAACCCACATACCAGT'</li><li>'p014n:AAACCCAGTTTGCAGT'</li><li>'p014n:AAACCCATCATCGTAG'</li></ol>\n"
      ],
      "text/latex": [
       "\\begin{enumerate*}\n",
       "\\item 'p014n:AAACCCAAGCAAATGT'\n",
       "\\item 'p014n:AAACCCAAGTACCGGA'\n",
       "\\item 'p014n:AAACCCACAGGGAATC'\n",
       "\\item 'p014n:AAACCCACATACCAGT'\n",
       "\\item 'p014n:AAACCCAGTTTGCAGT'\n",
       "\\item 'p014n:AAACCCATCATCGTAG'\n",
       "\\end{enumerate*}\n"
      ],
      "text/markdown": [
       "1. 'p014n:AAACCCAAGCAAATGT'\n",
       "2. 'p014n:AAACCCAAGTACCGGA'\n",
       "3. 'p014n:AAACCCACAGGGAATC'\n",
       "4. 'p014n:AAACCCACATACCAGT'\n",
       "5. 'p014n:AAACCCAGTTTGCAGT'\n",
       "6. 'p014n:AAACCCATCATCGTAG'\n",
       "\n",
       "\n"
      ],
      "text/plain": [
       "[1] \"p014n:AAACCCAAGCAAATGT\" \"p014n:AAACCCAAGTACCGGA\" \"p014n:AAACCCACAGGGAATC\"\n",
       "[4] \"p014n:AAACCCACATACCAGT\" \"p014n:AAACCCAGTTTGCAGT\" \"p014n:AAACCCATCATCGTAG\""
      ]
     },
     "metadata": {},
     "output_type": "display_data"
    }
   ],
   "source": [
    "head(colnames(all_counts))"
   ]
  },
  {
   "cell_type": "code",
   "execution_count": 56,
   "id": "cc84e11e",
   "metadata": {},
   "outputs": [],
   "source": [
    "tumor_counts <- all_counts[,grepl(paste0(donor,'t'),colnames(all_counts))]"
   ]
  },
  {
   "cell_type": "code",
   "execution_count": 57,
   "id": "f66c6e8a",
   "metadata": {},
   "outputs": [
    {
     "data": {
      "text/html": [
       "<style>\n",
       ".list-inline {list-style: none; margin:0; padding: 0}\n",
       ".list-inline>li {display: inline-block}\n",
       ".list-inline>li:not(:last-child)::after {content: \"\\00b7\"; padding: 0 .5ex}\n",
       "</style>\n",
       "<ol class=list-inline><li>33538</li><li>3385</li></ol>\n"
      ],
      "text/latex": [
       "\\begin{enumerate*}\n",
       "\\item 33538\n",
       "\\item 3385\n",
       "\\end{enumerate*}\n"
      ],
      "text/markdown": [
       "1. 33538\n",
       "2. 3385\n",
       "\n",
       "\n"
      ],
      "text/plain": [
       "[1] 33538  3385"
      ]
     },
     "metadata": {},
     "output_type": "display_data"
    }
   ],
   "source": [
    "dim(tumor_counts)"
   ]
  },
  {
   "cell_type": "code",
   "execution_count": 58,
   "id": "8a3c8f07",
   "metadata": {},
   "outputs": [
    {
     "data": {
      "text/html": [
       "<style>\n",
       ".list-inline {list-style: none; margin:0; padding: 0}\n",
       ".list-inline>li {display: inline-block}\n",
       ".list-inline>li:not(:last-child)::after {content: \"\\00b7\"; padding: 0 .5ex}\n",
       "</style>\n",
       "<ol class=list-inline><li>'p009t2:AAACCCAAGGTAGATT'</li><li>'p009t2:AAACCCAGTCAGCTTA'</li><li>'p009t2:AAACCCAGTCCTTTGC'</li><li>'p009t2:AAACGAACATCCGGCA'</li><li>'p009t2:AAACGAATCCTTATGT'</li><li>'p009t2:AAACGAATCTGAGATC'</li></ol>\n"
      ],
      "text/latex": [
       "\\begin{enumerate*}\n",
       "\\item 'p009t2:AAACCCAAGGTAGATT'\n",
       "\\item 'p009t2:AAACCCAGTCAGCTTA'\n",
       "\\item 'p009t2:AAACCCAGTCCTTTGC'\n",
       "\\item 'p009t2:AAACGAACATCCGGCA'\n",
       "\\item 'p009t2:AAACGAATCCTTATGT'\n",
       "\\item 'p009t2:AAACGAATCTGAGATC'\n",
       "\\end{enumerate*}\n"
      ],
      "text/markdown": [
       "1. 'p009t2:AAACCCAAGGTAGATT'\n",
       "2. 'p009t2:AAACCCAGTCAGCTTA'\n",
       "3. 'p009t2:AAACCCAGTCCTTTGC'\n",
       "4. 'p009t2:AAACGAACATCCGGCA'\n",
       "5. 'p009t2:AAACGAATCCTTATGT'\n",
       "6. 'p009t2:AAACGAATCTGAGATC'\n",
       "\n",
       "\n"
      ],
      "text/plain": [
       "[1] \"p009t2:AAACCCAAGGTAGATT\" \"p009t2:AAACCCAGTCAGCTTA\"\n",
       "[3] \"p009t2:AAACCCAGTCCTTTGC\" \"p009t2:AAACGAACATCCGGCA\"\n",
       "[5] \"p009t2:AAACGAATCCTTATGT\" \"p009t2:AAACGAATCTGAGATC\""
      ]
     },
     "metadata": {},
     "output_type": "display_data"
    }
   ],
   "source": [
    "colnames(tumor_counts) %>% head()"
   ]
  },
  {
   "cell_type": "code",
   "execution_count": 59,
   "id": "1b616127",
   "metadata": {},
   "outputs": [],
   "source": [
    "normal_counts <- all_counts[,grepl('n',colnames(all_counts))] # ? # only p009?"
   ]
  },
  {
   "cell_type": "code",
   "execution_count": 60,
   "id": "3031e6d3",
   "metadata": {},
   "outputs": [
    {
     "data": {
      "text/html": [
       "<style>\n",
       ".list-inline {list-style: none; margin:0; padding: 0}\n",
       ".list-inline>li {display: inline-block}\n",
       ".list-inline>li:not(:last-child)::after {content: \"\\00b7\"; padding: 0 .5ex}\n",
       "</style>\n",
       "<ol class=list-inline><li>33538</li><li>13141</li></ol>\n"
      ],
      "text/latex": [
       "\\begin{enumerate*}\n",
       "\\item 33538\n",
       "\\item 13141\n",
       "\\end{enumerate*}\n"
      ],
      "text/markdown": [
       "1. 33538\n",
       "2. 13141\n",
       "\n",
       "\n"
      ],
      "text/plain": [
       "[1] 33538 13141"
      ]
     },
     "metadata": {},
     "output_type": "display_data"
    }
   ],
   "source": [
    "dim(normal_counts)"
   ]
  },
  {
   "cell_type": "code",
   "execution_count": 61,
   "id": "006f95f7",
   "metadata": {},
   "outputs": [],
   "source": [
    "allele_df <- read.table(paste0('../../datasets_new_preprocessing/Numbat/',donor,'/',donor,'t1_allele_counts.tsv.gz'),sep='\\t',header=1)\n"
   ]
  },
  {
   "cell_type": "code",
   "execution_count": 62,
   "id": "79a59885",
   "metadata": {
    "scrolled": true
   },
   "outputs": [
    {
     "data": {
      "text/html": [
       "<style>\n",
       ".list-inline {list-style: none; margin:0; padding: 0}\n",
       ".list-inline>li {display: inline-block}\n",
       ".list-inline>li:not(:last-child)::after {content: \"\\00b7\"; padding: 0 .5ex}\n",
       "</style>\n",
       "<ol class=list-inline><li>'ATTACCTAGATTGAGT-1'</li><li>'CTCAATTCAAGACGAC-1'</li><li>'GAACTGTCATGGCCCA-1'</li><li>'GGTCACGGTCACAGTT-1'</li><li>'GTATTGGGTCCAACGC-1'</li><li>'TCATTTGCACACTGGC-1'</li></ol>\n"
      ],
      "text/latex": [
       "\\begin{enumerate*}\n",
       "\\item 'ATTACCTAGATTGAGT-1'\n",
       "\\item 'CTCAATTCAAGACGAC-1'\n",
       "\\item 'GAACTGTCATGGCCCA-1'\n",
       "\\item 'GGTCACGGTCACAGTT-1'\n",
       "\\item 'GTATTGGGTCCAACGC-1'\n",
       "\\item 'TCATTTGCACACTGGC-1'\n",
       "\\end{enumerate*}\n"
      ],
      "text/markdown": [
       "1. 'ATTACCTAGATTGAGT-1'\n",
       "2. 'CTCAATTCAAGACGAC-1'\n",
       "3. 'GAACTGTCATGGCCCA-1'\n",
       "4. 'GGTCACGGTCACAGTT-1'\n",
       "5. 'GTATTGGGTCCAACGC-1'\n",
       "6. 'TCATTTGCACACTGGC-1'\n",
       "\n",
       "\n"
      ],
      "text/plain": [
       "[1] \"ATTACCTAGATTGAGT-1\" \"CTCAATTCAAGACGAC-1\" \"GAACTGTCATGGCCCA-1\"\n",
       "[4] \"GGTCACGGTCACAGTT-1\" \"GTATTGGGTCCAACGC-1\" \"TCATTTGCACACTGGC-1\""
      ]
     },
     "metadata": {},
     "output_type": "display_data"
    }
   ],
   "source": [
    "head(allele_df$cell)"
   ]
  },
  {
   "cell_type": "code",
   "execution_count": 63,
   "id": "90b00363",
   "metadata": {},
   "outputs": [],
   "source": [
    "allele_df$cell <- paste0(donor,'t1:',gsub('-1$','',allele_df$cell))\n"
   ]
  },
  {
   "cell_type": "code",
   "execution_count": 64,
   "id": "e776f3d2",
   "metadata": {},
   "outputs": [
    {
     "data": {
      "text/html": [
       "<style>\n",
       ".list-inline {list-style: none; margin:0; padding: 0}\n",
       ".list-inline>li {display: inline-block}\n",
       ".list-inline>li:not(:last-child)::after {content: \"\\00b7\"; padding: 0 .5ex}\n",
       "</style>\n",
       "<ol class=list-inline><li>1945968</li><li>11</li></ol>\n"
      ],
      "text/latex": [
       "\\begin{enumerate*}\n",
       "\\item 1945968\n",
       "\\item 11\n",
       "\\end{enumerate*}\n"
      ],
      "text/markdown": [
       "1. 1945968\n",
       "2. 11\n",
       "\n",
       "\n"
      ],
      "text/plain": [
       "[1] 1945968      11"
      ]
     },
     "metadata": {},
     "output_type": "display_data"
    }
   ],
   "source": [
    "dim(allele_df)"
   ]
  },
  {
   "cell_type": "code",
   "execution_count": 65,
   "id": "4ac1bf2a",
   "metadata": {},
   "outputs": [
    {
     "data": {
      "text/html": [
       "<table class=\"dataframe\">\n",
       "<caption>A data.frame: 6 × 11</caption>\n",
       "<thead>\n",
       "\t<tr><th></th><th scope=col>cell</th><th scope=col>snp_id</th><th scope=col>CHROM</th><th scope=col>POS</th><th scope=col>cM</th><th scope=col>REF</th><th scope=col>ALT</th><th scope=col>AD</th><th scope=col>DP</th><th scope=col>GT</th><th scope=col>gene</th></tr>\n",
       "\t<tr><th></th><th scope=col>&lt;chr&gt;</th><th scope=col>&lt;chr&gt;</th><th scope=col>&lt;int&gt;</th><th scope=col>&lt;int&gt;</th><th scope=col>&lt;dbl&gt;</th><th scope=col>&lt;chr&gt;</th><th scope=col>&lt;chr&gt;</th><th scope=col>&lt;int&gt;</th><th scope=col>&lt;int&gt;</th><th scope=col>&lt;chr&gt;</th><th scope=col>&lt;chr&gt;</th></tr>\n",
       "</thead>\n",
       "<tbody>\n",
       "\t<tr><th scope=row>1</th><td>p009t1:ATTACCTAGATTGAGT</td><td>1_630110_T_C</td><td>1</td><td>630110</td><td>0</td><td>T</td><td>C</td><td>0</td><td>1</td><td>0|1</td><td></td></tr>\n",
       "\t<tr><th scope=row>2</th><td>p009t1:CTCAATTCAAGACGAC</td><td>1_630110_T_C</td><td>1</td><td>630110</td><td>0</td><td>T</td><td>C</td><td>0</td><td>1</td><td>0|1</td><td></td></tr>\n",
       "\t<tr><th scope=row>3</th><td>p009t1:GAACTGTCATGGCCCA</td><td>1_630110_T_C</td><td>1</td><td>630110</td><td>0</td><td>T</td><td>C</td><td>0</td><td>1</td><td>0|1</td><td></td></tr>\n",
       "\t<tr><th scope=row>4</th><td>p009t1:GGTCACGGTCACAGTT</td><td>1_630110_T_C</td><td>1</td><td>630110</td><td>0</td><td>T</td><td>C</td><td>1</td><td>1</td><td>0|1</td><td></td></tr>\n",
       "\t<tr><th scope=row>5</th><td>p009t1:GTATTGGGTCCAACGC</td><td>1_630110_T_C</td><td>1</td><td>630110</td><td>0</td><td>T</td><td>C</td><td>0</td><td>1</td><td>0|1</td><td></td></tr>\n",
       "\t<tr><th scope=row>6</th><td>p009t1:TCATTTGCACACTGGC</td><td>1_630110_T_C</td><td>1</td><td>630110</td><td>0</td><td>T</td><td>C</td><td>0</td><td>1</td><td>0|1</td><td></td></tr>\n",
       "</tbody>\n",
       "</table>\n"
      ],
      "text/latex": [
       "A data.frame: 6 × 11\n",
       "\\begin{tabular}{r|lllllllllll}\n",
       "  & cell & snp\\_id & CHROM & POS & cM & REF & ALT & AD & DP & GT & gene\\\\\n",
       "  & <chr> & <chr> & <int> & <int> & <dbl> & <chr> & <chr> & <int> & <int> & <chr> & <chr>\\\\\n",
       "\\hline\n",
       "\t1 & p009t1:ATTACCTAGATTGAGT & 1\\_630110\\_T\\_C & 1 & 630110 & 0 & T & C & 0 & 1 & 0\\textbar{}1 & \\\\\n",
       "\t2 & p009t1:CTCAATTCAAGACGAC & 1\\_630110\\_T\\_C & 1 & 630110 & 0 & T & C & 0 & 1 & 0\\textbar{}1 & \\\\\n",
       "\t3 & p009t1:GAACTGTCATGGCCCA & 1\\_630110\\_T\\_C & 1 & 630110 & 0 & T & C & 0 & 1 & 0\\textbar{}1 & \\\\\n",
       "\t4 & p009t1:GGTCACGGTCACAGTT & 1\\_630110\\_T\\_C & 1 & 630110 & 0 & T & C & 1 & 1 & 0\\textbar{}1 & \\\\\n",
       "\t5 & p009t1:GTATTGGGTCCAACGC & 1\\_630110\\_T\\_C & 1 & 630110 & 0 & T & C & 0 & 1 & 0\\textbar{}1 & \\\\\n",
       "\t6 & p009t1:TCATTTGCACACTGGC & 1\\_630110\\_T\\_C & 1 & 630110 & 0 & T & C & 0 & 1 & 0\\textbar{}1 & \\\\\n",
       "\\end{tabular}\n"
      ],
      "text/markdown": [
       "\n",
       "A data.frame: 6 × 11\n",
       "\n",
       "| <!--/--> | cell &lt;chr&gt; | snp_id &lt;chr&gt; | CHROM &lt;int&gt; | POS &lt;int&gt; | cM &lt;dbl&gt; | REF &lt;chr&gt; | ALT &lt;chr&gt; | AD &lt;int&gt; | DP &lt;int&gt; | GT &lt;chr&gt; | gene &lt;chr&gt; |\n",
       "|---|---|---|---|---|---|---|---|---|---|---|---|\n",
       "| 1 | p009t1:ATTACCTAGATTGAGT | 1_630110_T_C | 1 | 630110 | 0 | T | C | 0 | 1 | 0|1 | <!----> |\n",
       "| 2 | p009t1:CTCAATTCAAGACGAC | 1_630110_T_C | 1 | 630110 | 0 | T | C | 0 | 1 | 0|1 | <!----> |\n",
       "| 3 | p009t1:GAACTGTCATGGCCCA | 1_630110_T_C | 1 | 630110 | 0 | T | C | 0 | 1 | 0|1 | <!----> |\n",
       "| 4 | p009t1:GGTCACGGTCACAGTT | 1_630110_T_C | 1 | 630110 | 0 | T | C | 1 | 1 | 0|1 | <!----> |\n",
       "| 5 | p009t1:GTATTGGGTCCAACGC | 1_630110_T_C | 1 | 630110 | 0 | T | C | 0 | 1 | 0|1 | <!----> |\n",
       "| 6 | p009t1:TCATTTGCACACTGGC | 1_630110_T_C | 1 | 630110 | 0 | T | C | 0 | 1 | 0|1 | <!----> |\n",
       "\n"
      ],
      "text/plain": [
       "  cell                    snp_id       CHROM POS    cM REF ALT AD DP GT  gene\n",
       "1 p009t1:ATTACCTAGATTGAGT 1_630110_T_C 1     630110 0  T   C   0  1  0|1     \n",
       "2 p009t1:CTCAATTCAAGACGAC 1_630110_T_C 1     630110 0  T   C   0  1  0|1     \n",
       "3 p009t1:GAACTGTCATGGCCCA 1_630110_T_C 1     630110 0  T   C   0  1  0|1     \n",
       "4 p009t1:GGTCACGGTCACAGTT 1_630110_T_C 1     630110 0  T   C   1  1  0|1     \n",
       "5 p009t1:GTATTGGGTCCAACGC 1_630110_T_C 1     630110 0  T   C   0  1  0|1     \n",
       "6 p009t1:TCATTTGCACACTGGC 1_630110_T_C 1     630110 0  T   C   0  1  0|1     "
      ]
     },
     "metadata": {},
     "output_type": "display_data"
    }
   ],
   "source": [
    "head(allele_df)"
   ]
  },
  {
   "cell_type": "code",
   "execution_count": 66,
   "id": "606cfe34",
   "metadata": {},
   "outputs": [],
   "source": [
    "allele_df2 <- read.table(paste0('../../datasets_new_preprocessing/Numbat/',donor,'/',donor,'t2_allele_counts.tsv.gz'),sep='\\t',header=1)\n"
   ]
  },
  {
   "cell_type": "code",
   "execution_count": 67,
   "id": "3356e576",
   "metadata": {},
   "outputs": [],
   "source": [
    "allele_df2$cell <- paste0(donor,'t2:',gsub('-1$','',allele_df2$cell))\n"
   ]
  },
  {
   "cell_type": "code",
   "execution_count": 68,
   "id": "193438e9",
   "metadata": {},
   "outputs": [
    {
     "data": {
      "text/html": [
       "<style>\n",
       ".list-inline {list-style: none; margin:0; padding: 0}\n",
       ".list-inline>li {display: inline-block}\n",
       ".list-inline>li:not(:last-child)::after {content: \"\\00b7\"; padding: 0 .5ex}\n",
       "</style>\n",
       "<ol class=list-inline><li>2260535</li><li>11</li></ol>\n"
      ],
      "text/latex": [
       "\\begin{enumerate*}\n",
       "\\item 2260535\n",
       "\\item 11\n",
       "\\end{enumerate*}\n"
      ],
      "text/markdown": [
       "1. 2260535\n",
       "2. 11\n",
       "\n",
       "\n"
      ],
      "text/plain": [
       "[1] 2260535      11"
      ]
     },
     "metadata": {},
     "output_type": "display_data"
    }
   ],
   "source": [
    "dim(allele_df2)"
   ]
  },
  {
   "cell_type": "code",
   "execution_count": 69,
   "id": "e7af7cfa",
   "metadata": {},
   "outputs": [],
   "source": [
    "anno <- read.csv('../../datasets_new_preprocessing/all_epi_cell_anno.txt',sep=' ',header=1)\n",
    "anno = anno %>% tibble::rownames_to_column('cell')\n",
    "colnames(anno) = c('cell', 'group')"
   ]
  },
  {
   "cell_type": "code",
   "execution_count": 71,
   "id": "d90e6a83",
   "metadata": {
    "scrolled": true
   },
   "outputs": [
    {
     "data": {
      "text/plain": [
       "\n",
       "             epi  malignant_p007t  malignant_p008t malignant_p009t1 \n",
       "           21833             1474              704             3057 \n",
       "malignant_p009t2  malignant_p013t  malignant_p014t  malignant_p016t \n",
       "            3009             1872             1840             1524 \n",
       " malignant_p020t  malignant_p021t  malignant_p026t  malignant_p035t \n",
       "            1361              351             1190             1565 "
      ]
     },
     "metadata": {},
     "output_type": "display_data"
    }
   ],
   "source": [
    "table(anno['group'])"
   ]
  },
  {
   "cell_type": "code",
   "execution_count": 72,
   "id": "2dd55c69",
   "metadata": {},
   "outputs": [],
   "source": [
    "tumor_anno <- anno[grepl(paste0(donor,'t1'),anno$cell),]"
   ]
  },
  {
   "cell_type": "code",
   "execution_count": 73,
   "id": "e8ddec37",
   "metadata": {
    "scrolled": true
   },
   "outputs": [
    {
     "data": {
      "text/html": [
       "<table class=\"dataframe\">\n",
       "<caption>A data.frame: 6 × 2</caption>\n",
       "<thead>\n",
       "\t<tr><th></th><th scope=col>cell</th><th scope=col>group</th></tr>\n",
       "\t<tr><th></th><th scope=col>&lt;chr&gt;</th><th scope=col>&lt;chr&gt;</th></tr>\n",
       "</thead>\n",
       "<tbody>\n",
       "\t<tr><th scope=row>25724</th><td>p009t1:AATGCCATCCTAACAG</td><td>malignant_p009t1</td></tr>\n",
       "\t<tr><th scope=row>25725</th><td>p009t1:CTTTCAATCGAGCTGC</td><td>malignant_p009t1</td></tr>\n",
       "\t<tr><th scope=row>25726</th><td>p009t1:GCCAGTGGTCTCGCGA</td><td>malignant_p009t1</td></tr>\n",
       "\t<tr><th scope=row>25727</th><td>p009t1:GGTCACGGTCACAGTT</td><td>malignant_p009t1</td></tr>\n",
       "\t<tr><th scope=row>25728</th><td>p009t1:AGACACTAGTATCCTG</td><td>malignant_p009t1</td></tr>\n",
       "\t<tr><th scope=row>25729</th><td>p009t1:TGATGGTCACTCTCGT</td><td>malignant_p009t1</td></tr>\n",
       "</tbody>\n",
       "</table>\n"
      ],
      "text/latex": [
       "A data.frame: 6 × 2\n",
       "\\begin{tabular}{r|ll}\n",
       "  & cell & group\\\\\n",
       "  & <chr> & <chr>\\\\\n",
       "\\hline\n",
       "\t25724 & p009t1:AATGCCATCCTAACAG & malignant\\_p009t1\\\\\n",
       "\t25725 & p009t1:CTTTCAATCGAGCTGC & malignant\\_p009t1\\\\\n",
       "\t25726 & p009t1:GCCAGTGGTCTCGCGA & malignant\\_p009t1\\\\\n",
       "\t25727 & p009t1:GGTCACGGTCACAGTT & malignant\\_p009t1\\\\\n",
       "\t25728 & p009t1:AGACACTAGTATCCTG & malignant\\_p009t1\\\\\n",
       "\t25729 & p009t1:TGATGGTCACTCTCGT & malignant\\_p009t1\\\\\n",
       "\\end{tabular}\n"
      ],
      "text/markdown": [
       "\n",
       "A data.frame: 6 × 2\n",
       "\n",
       "| <!--/--> | cell &lt;chr&gt; | group &lt;chr&gt; |\n",
       "|---|---|---|\n",
       "| 25724 | p009t1:AATGCCATCCTAACAG | malignant_p009t1 |\n",
       "| 25725 | p009t1:CTTTCAATCGAGCTGC | malignant_p009t1 |\n",
       "| 25726 | p009t1:GCCAGTGGTCTCGCGA | malignant_p009t1 |\n",
       "| 25727 | p009t1:GGTCACGGTCACAGTT | malignant_p009t1 |\n",
       "| 25728 | p009t1:AGACACTAGTATCCTG | malignant_p009t1 |\n",
       "| 25729 | p009t1:TGATGGTCACTCTCGT | malignant_p009t1 |\n",
       "\n"
      ],
      "text/plain": [
       "      cell                    group           \n",
       "25724 p009t1:AATGCCATCCTAACAG malignant_p009t1\n",
       "25725 p009t1:CTTTCAATCGAGCTGC malignant_p009t1\n",
       "25726 p009t1:GCCAGTGGTCTCGCGA malignant_p009t1\n",
       "25727 p009t1:GGTCACGGTCACAGTT malignant_p009t1\n",
       "25728 p009t1:AGACACTAGTATCCTG malignant_p009t1\n",
       "25729 p009t1:TGATGGTCACTCTCGT malignant_p009t1"
      ]
     },
     "metadata": {},
     "output_type": "display_data"
    }
   ],
   "source": [
    "head(tumor_anno)"
   ]
  },
  {
   "cell_type": "code",
   "execution_count": 74,
   "id": "7a342941",
   "metadata": {},
   "outputs": [
    {
     "data": {
      "text/html": [
       "<style>\n",
       ".list-inline {list-style: none; margin:0; padding: 0}\n",
       ".list-inline>li {display: inline-block}\n",
       ".list-inline>li:not(:last-child)::after {content: \"\\00b7\"; padding: 0 .5ex}\n",
       "</style>\n",
       "<ol class=list-inline><li>3057</li><li>2</li></ol>\n"
      ],
      "text/latex": [
       "\\begin{enumerate*}\n",
       "\\item 3057\n",
       "\\item 2\n",
       "\\end{enumerate*}\n"
      ],
      "text/markdown": [
       "1. 3057\n",
       "2. 2\n",
       "\n",
       "\n"
      ],
      "text/plain": [
       "[1] 3057    2"
      ]
     },
     "metadata": {},
     "output_type": "display_data"
    }
   ],
   "source": [
    "dim(tumor_anno)"
   ]
  },
  {
   "cell_type": "code",
   "execution_count": 81,
   "id": "691248b8",
   "metadata": {},
   "outputs": [
    {
     "data": {
      "text/html": [
       "<style>\n",
       ".list-inline {list-style: none; margin:0; padding: 0}\n",
       ".list-inline>li {display: inline-block}\n",
       ".list-inline>li:not(:last-child)::after {content: \"\\00b7\"; padding: 0 .5ex}\n",
       "</style>\n",
       "<ol class=list-inline><li>3009</li><li>2</li></ol>\n"
      ],
      "text/latex": [
       "\\begin{enumerate*}\n",
       "\\item 3009\n",
       "\\item 2\n",
       "\\end{enumerate*}\n"
      ],
      "text/markdown": [
       "1. 3009\n",
       "2. 2\n",
       "\n",
       "\n"
      ],
      "text/plain": [
       "[1] 3009    2"
      ]
     },
     "metadata": {},
     "output_type": "display_data"
    },
    {
     "data": {
      "text/html": [
       "<table class=\"dataframe\">\n",
       "<caption>A data.frame: 6 × 2</caption>\n",
       "<thead>\n",
       "\t<tr><th></th><th scope=col>cell</th><th scope=col>group</th></tr>\n",
       "\t<tr><th></th><th scope=col>&lt;chr&gt;</th><th scope=col>&lt;chr&gt;</th></tr>\n",
       "</thead>\n",
       "<tbody>\n",
       "\t<tr><th scope=row>28781</th><td>p009t2:GCAGCTGAGCTAGAAT</td><td>malignant_p009t2</td></tr>\n",
       "\t<tr><th scope=row>28782</th><td>p009t2:GGGAGTATCAGCGCAC</td><td>malignant_p009t2</td></tr>\n",
       "\t<tr><th scope=row>28783</th><td>p009t2:GTTAGACAGTACCCTA</td><td>malignant_p009t2</td></tr>\n",
       "\t<tr><th scope=row>28784</th><td>p009t2:TTCACGCGTGGACTGA</td><td>malignant_p009t2</td></tr>\n",
       "\t<tr><th scope=row>28785</th><td>p009t2:AAGGTAACACGAAAGC</td><td>malignant_p009t2</td></tr>\n",
       "\t<tr><th scope=row>28786</th><td>p009t2:ATGGAGGTCTATCGGA</td><td>malignant_p009t2</td></tr>\n",
       "</tbody>\n",
       "</table>\n"
      ],
      "text/latex": [
       "A data.frame: 6 × 2\n",
       "\\begin{tabular}{r|ll}\n",
       "  & cell & group\\\\\n",
       "  & <chr> & <chr>\\\\\n",
       "\\hline\n",
       "\t28781 & p009t2:GCAGCTGAGCTAGAAT & malignant\\_p009t2\\\\\n",
       "\t28782 & p009t2:GGGAGTATCAGCGCAC & malignant\\_p009t2\\\\\n",
       "\t28783 & p009t2:GTTAGACAGTACCCTA & malignant\\_p009t2\\\\\n",
       "\t28784 & p009t2:TTCACGCGTGGACTGA & malignant\\_p009t2\\\\\n",
       "\t28785 & p009t2:AAGGTAACACGAAAGC & malignant\\_p009t2\\\\\n",
       "\t28786 & p009t2:ATGGAGGTCTATCGGA & malignant\\_p009t2\\\\\n",
       "\\end{tabular}\n"
      ],
      "text/markdown": [
       "\n",
       "A data.frame: 6 × 2\n",
       "\n",
       "| <!--/--> | cell &lt;chr&gt; | group &lt;chr&gt; |\n",
       "|---|---|---|\n",
       "| 28781 | p009t2:GCAGCTGAGCTAGAAT | malignant_p009t2 |\n",
       "| 28782 | p009t2:GGGAGTATCAGCGCAC | malignant_p009t2 |\n",
       "| 28783 | p009t2:GTTAGACAGTACCCTA | malignant_p009t2 |\n",
       "| 28784 | p009t2:TTCACGCGTGGACTGA | malignant_p009t2 |\n",
       "| 28785 | p009t2:AAGGTAACACGAAAGC | malignant_p009t2 |\n",
       "| 28786 | p009t2:ATGGAGGTCTATCGGA | malignant_p009t2 |\n",
       "\n"
      ],
      "text/plain": [
       "      cell                    group           \n",
       "28781 p009t2:GCAGCTGAGCTAGAAT malignant_p009t2\n",
       "28782 p009t2:GGGAGTATCAGCGCAC malignant_p009t2\n",
       "28783 p009t2:GTTAGACAGTACCCTA malignant_p009t2\n",
       "28784 p009t2:TTCACGCGTGGACTGA malignant_p009t2\n",
       "28785 p009t2:AAGGTAACACGAAAGC malignant_p009t2\n",
       "28786 p009t2:ATGGAGGTCTATCGGA malignant_p009t2"
      ]
     },
     "metadata": {},
     "output_type": "display_data"
    }
   ],
   "source": [
    "tumor_anno2 <- anno[grepl(paste0(donor,'t2'),anno$cell),]\n",
    "dim(tumor_anno2)\n",
    "head(tumor_anno2)"
   ]
  },
  {
   "cell_type": "code",
   "execution_count": 27,
   "id": "aa6fe568",
   "metadata": {},
   "outputs": [],
   "source": [
    "# ? use all the normal"
   ]
  },
  {
   "cell_type": "code",
   "execution_count": 75,
   "id": "08aa2b4d",
   "metadata": {},
   "outputs": [
    {
     "name": "stdout",
     "output_type": "stream",
     "text": [
      "cell_dict\n",
      "  epi \n",
      "13141 \n"
     ]
    },
    {
     "data": {
      "text/plain": [
       "      epi           \n",
       " Min.   :0.000e+00  \n",
       " 1st Qu.:1.000e-08  \n",
       " Median :1.600e-07  \n",
       " Mean   :2.982e-05  \n",
       " 3rd Qu.:5.540e-06  \n",
       " Max.   :8.983e-02  "
      ]
     },
     "metadata": {},
     "output_type": "display_data"
    }
   ],
   "source": [
    "normal_anno_all <- anno[grepl('n',anno$cell),]\n",
    "ref_internal_all <- aggregate_counts(normal_counts, normal_anno_all)\n",
    "summary(ref_internal_all)"
   ]
  },
  {
   "cell_type": "markdown",
   "id": "588edce9",
   "metadata": {},
   "source": [
    "normal_anno <- anno[grepl('n1',anno$cell),]\n"
   ]
  },
  {
   "cell_type": "markdown",
   "id": "e4bccb85",
   "metadata": {},
   "source": [
    "head(normal_anno)"
   ]
  },
  {
   "cell_type": "markdown",
   "id": "f9223ebe",
   "metadata": {
    "scrolled": true
   },
   "source": [
    "dim(normal_anno)"
   ]
  },
  {
   "cell_type": "markdown",
   "id": "5581e898",
   "metadata": {},
   "source": [
    "ref_internal <- aggregate_counts(normal_counts, normal_anno)\n"
   ]
  },
  {
   "cell_type": "markdown",
   "id": "60dded9b",
   "metadata": {},
   "source": [
    "summary(ref_internal)"
   ]
  },
  {
   "cell_type": "markdown",
   "id": "f631193f",
   "metadata": {},
   "source": [
    "normal_anno2 <- anno[grepl('n2',anno$cell),]\n",
    "dim(normal_anno2)"
   ]
  },
  {
   "cell_type": "markdown",
   "id": "f4fe239e",
   "metadata": {},
   "source": [
    "ref_internal2 <- aggregate_counts(normal_counts, normal_anno2)\n"
   ]
  },
  {
   "cell_type": "markdown",
   "id": "f4c23c8a",
   "metadata": {},
   "source": [
    "summary(ref_internal2)"
   ]
  },
  {
   "cell_type": "markdown",
   "id": "a6041fe9",
   "metadata": {},
   "source": [
    "#### merge ref_internal, and allele_df"
   ]
  },
  {
   "cell_type": "markdown",
   "id": "4be21322",
   "metadata": {},
   "source": [
    "ref_internal_avg =(ref_internal + ref_internal2)/2"
   ]
  },
  {
   "cell_type": "code",
   "execution_count": 79,
   "id": "07621546",
   "metadata": {},
   "outputs": [],
   "source": [
    "merge_allele_df = rbind(allele_df, allele_df2)"
   ]
  },
  {
   "cell_type": "markdown",
   "id": "18ad76f1",
   "metadata": {},
   "source": [
    "#### p009_1 and p009_2 have a lot of conflicting GT\n",
    "#### here I ran phasing together so should not have conflicting GT"
   ]
  },
  {
   "cell_type": "markdown",
   "id": "35551180",
   "metadata": {
    "scrolled": true
   },
   "source": [
    "# conflicting GT\n",
    "conflicting_GT = merge_allele_df %>% group_by(snp_id) %>% mutate(n = length(unique(GT))) %>% filter(n >1)\n",
    "dim(conflicting_GT)"
   ]
  },
  {
   "cell_type": "markdown",
   "id": "680ca36e",
   "metadata": {},
   "source": [
    "dim(conflicting_GT)[1]/dim(merge_allele_df)[1]"
   ]
  },
  {
   "cell_type": "markdown",
   "id": "aa6a4873",
   "metadata": {},
   "source": [
    "sort(table(paste(conflicting_GT$CHROM,conflicting_GT$POS)),decreasing = T)"
   ]
  },
  {
   "cell_type": "markdown",
   "id": "2537e284",
   "metadata": {},
   "source": [
    "conflicting_GT %>% filter(CHROM == '9' && POS == '33110841') %>% filter(grepl('p009t2', cell)) %>% \n",
    "summarise(unique(GT))"
   ]
  },
  {
   "cell_type": "code",
   "execution_count": 80,
   "id": "6e32307e",
   "metadata": {},
   "outputs": [
    {
     "data": {
      "text/html": [
       "<style>\n",
       ".list-inline {list-style: none; margin:0; padding: 0}\n",
       ".list-inline>li {display: inline-block}\n",
       ".list-inline>li:not(:last-child)::after {content: \"\\00b7\"; padding: 0 .5ex}\n",
       "</style>\n",
       "<ol class=list-inline><li>4206503</li><li>11</li></ol>\n"
      ],
      "text/latex": [
       "\\begin{enumerate*}\n",
       "\\item 4206503\n",
       "\\item 11\n",
       "\\end{enumerate*}\n"
      ],
      "text/markdown": [
       "1. 4206503\n",
       "2. 11\n",
       "\n",
       "\n"
      ],
      "text/plain": [
       "[1] 4206503      11"
      ]
     },
     "metadata": {},
     "output_type": "display_data"
    },
    {
     "data": {
      "text/html": [
       "<table class=\"dataframe\">\n",
       "<caption>A data.frame: 6 × 11</caption>\n",
       "<thead>\n",
       "\t<tr><th></th><th scope=col>cell</th><th scope=col>snp_id</th><th scope=col>CHROM</th><th scope=col>POS</th><th scope=col>cM</th><th scope=col>REF</th><th scope=col>ALT</th><th scope=col>AD</th><th scope=col>DP</th><th scope=col>GT</th><th scope=col>gene</th></tr>\n",
       "\t<tr><th></th><th scope=col>&lt;chr&gt;</th><th scope=col>&lt;chr&gt;</th><th scope=col>&lt;int&gt;</th><th scope=col>&lt;int&gt;</th><th scope=col>&lt;dbl&gt;</th><th scope=col>&lt;chr&gt;</th><th scope=col>&lt;chr&gt;</th><th scope=col>&lt;int&gt;</th><th scope=col>&lt;int&gt;</th><th scope=col>&lt;chr&gt;</th><th scope=col>&lt;chr&gt;</th></tr>\n",
       "</thead>\n",
       "<tbody>\n",
       "\t<tr><th scope=row>1</th><td>p009t1:ATTACCTAGATTGAGT</td><td>1_630110_T_C</td><td>1</td><td>630110</td><td>0</td><td>T</td><td>C</td><td>0</td><td>1</td><td>0|1</td><td></td></tr>\n",
       "\t<tr><th scope=row>2</th><td>p009t1:CTCAATTCAAGACGAC</td><td>1_630110_T_C</td><td>1</td><td>630110</td><td>0</td><td>T</td><td>C</td><td>0</td><td>1</td><td>0|1</td><td></td></tr>\n",
       "\t<tr><th scope=row>3</th><td>p009t1:GAACTGTCATGGCCCA</td><td>1_630110_T_C</td><td>1</td><td>630110</td><td>0</td><td>T</td><td>C</td><td>0</td><td>1</td><td>0|1</td><td></td></tr>\n",
       "\t<tr><th scope=row>4</th><td>p009t1:GGTCACGGTCACAGTT</td><td>1_630110_T_C</td><td>1</td><td>630110</td><td>0</td><td>T</td><td>C</td><td>1</td><td>1</td><td>0|1</td><td></td></tr>\n",
       "\t<tr><th scope=row>5</th><td>p009t1:GTATTGGGTCCAACGC</td><td>1_630110_T_C</td><td>1</td><td>630110</td><td>0</td><td>T</td><td>C</td><td>0</td><td>1</td><td>0|1</td><td></td></tr>\n",
       "\t<tr><th scope=row>6</th><td>p009t1:TCATTTGCACACTGGC</td><td>1_630110_T_C</td><td>1</td><td>630110</td><td>0</td><td>T</td><td>C</td><td>0</td><td>1</td><td>0|1</td><td></td></tr>\n",
       "</tbody>\n",
       "</table>\n"
      ],
      "text/latex": [
       "A data.frame: 6 × 11\n",
       "\\begin{tabular}{r|lllllllllll}\n",
       "  & cell & snp\\_id & CHROM & POS & cM & REF & ALT & AD & DP & GT & gene\\\\\n",
       "  & <chr> & <chr> & <int> & <int> & <dbl> & <chr> & <chr> & <int> & <int> & <chr> & <chr>\\\\\n",
       "\\hline\n",
       "\t1 & p009t1:ATTACCTAGATTGAGT & 1\\_630110\\_T\\_C & 1 & 630110 & 0 & T & C & 0 & 1 & 0\\textbar{}1 & \\\\\n",
       "\t2 & p009t1:CTCAATTCAAGACGAC & 1\\_630110\\_T\\_C & 1 & 630110 & 0 & T & C & 0 & 1 & 0\\textbar{}1 & \\\\\n",
       "\t3 & p009t1:GAACTGTCATGGCCCA & 1\\_630110\\_T\\_C & 1 & 630110 & 0 & T & C & 0 & 1 & 0\\textbar{}1 & \\\\\n",
       "\t4 & p009t1:GGTCACGGTCACAGTT & 1\\_630110\\_T\\_C & 1 & 630110 & 0 & T & C & 1 & 1 & 0\\textbar{}1 & \\\\\n",
       "\t5 & p009t1:GTATTGGGTCCAACGC & 1\\_630110\\_T\\_C & 1 & 630110 & 0 & T & C & 0 & 1 & 0\\textbar{}1 & \\\\\n",
       "\t6 & p009t1:TCATTTGCACACTGGC & 1\\_630110\\_T\\_C & 1 & 630110 & 0 & T & C & 0 & 1 & 0\\textbar{}1 & \\\\\n",
       "\\end{tabular}\n"
      ],
      "text/markdown": [
       "\n",
       "A data.frame: 6 × 11\n",
       "\n",
       "| <!--/--> | cell &lt;chr&gt; | snp_id &lt;chr&gt; | CHROM &lt;int&gt; | POS &lt;int&gt; | cM &lt;dbl&gt; | REF &lt;chr&gt; | ALT &lt;chr&gt; | AD &lt;int&gt; | DP &lt;int&gt; | GT &lt;chr&gt; | gene &lt;chr&gt; |\n",
       "|---|---|---|---|---|---|---|---|---|---|---|---|\n",
       "| 1 | p009t1:ATTACCTAGATTGAGT | 1_630110_T_C | 1 | 630110 | 0 | T | C | 0 | 1 | 0|1 | <!----> |\n",
       "| 2 | p009t1:CTCAATTCAAGACGAC | 1_630110_T_C | 1 | 630110 | 0 | T | C | 0 | 1 | 0|1 | <!----> |\n",
       "| 3 | p009t1:GAACTGTCATGGCCCA | 1_630110_T_C | 1 | 630110 | 0 | T | C | 0 | 1 | 0|1 | <!----> |\n",
       "| 4 | p009t1:GGTCACGGTCACAGTT | 1_630110_T_C | 1 | 630110 | 0 | T | C | 1 | 1 | 0|1 | <!----> |\n",
       "| 5 | p009t1:GTATTGGGTCCAACGC | 1_630110_T_C | 1 | 630110 | 0 | T | C | 0 | 1 | 0|1 | <!----> |\n",
       "| 6 | p009t1:TCATTTGCACACTGGC | 1_630110_T_C | 1 | 630110 | 0 | T | C | 0 | 1 | 0|1 | <!----> |\n",
       "\n"
      ],
      "text/plain": [
       "  cell                    snp_id       CHROM POS    cM REF ALT AD DP GT  gene\n",
       "1 p009t1:ATTACCTAGATTGAGT 1_630110_T_C 1     630110 0  T   C   0  1  0|1     \n",
       "2 p009t1:CTCAATTCAAGACGAC 1_630110_T_C 1     630110 0  T   C   0  1  0|1     \n",
       "3 p009t1:GAACTGTCATGGCCCA 1_630110_T_C 1     630110 0  T   C   0  1  0|1     \n",
       "4 p009t1:GGTCACGGTCACAGTT 1_630110_T_C 1     630110 0  T   C   1  1  0|1     \n",
       "5 p009t1:GTATTGGGTCCAACGC 1_630110_T_C 1     630110 0  T   C   0  1  0|1     \n",
       "6 p009t1:TCATTTGCACACTGGC 1_630110_T_C 1     630110 0  T   C   0  1  0|1     "
      ]
     },
     "metadata": {},
     "output_type": "display_data"
    }
   ],
   "source": [
    "dim(merge_allele_df)\n",
    "head(merge_allele_df)"
   ]
  },
  {
   "cell_type": "code",
   "execution_count": null,
   "id": "858ac33d",
   "metadata": {},
   "outputs": [
    {
     "name": "stderr",
     "output_type": "stream",
     "text": [
      "Running under parameters:\n",
      "t = 1e-05\n",
      "alpha = 1e-04\n",
      "gamma = 20\n",
      "min_cells = 50\n",
      "init_k = 3\n",
      "max_cost = 1819.8\n",
      "max_iter = 2\n",
      "max_nni = 100\n",
      "min_depth = 0\n",
      "use_loh = auto\n",
      "multi_allelic = TRUE\n",
      "min_LLR = 5\n",
      "min_overlap = 0.45\n",
      "max_entropy = 0.5\n",
      "skip_nj = FALSE\n",
      "diploid_chroms = \n",
      "ncores = 4\n",
      "ncores_nni = 4\n",
      "common_diploid = TRUE\n",
      "tau = 0.3\n",
      "check_convergence = FALSE\n",
      "plot = TRUE\n",
      "genome = hg38\n",
      "Input metrics:\n",
      "6066 cells\n",
      "\n",
      "Mem used: 3.38Gb\n",
      "\n",
      "Approximating initial clusters using smoothed expression ..\n",
      "\n",
      "Mem used: 3.38Gb\n",
      "\n",
      "number of genes left: 10034\n",
      "\n"
     ]
    }
   ],
   "source": [
    "numbat_out <- run_numbat(\n",
    "    tumor_counts, # gene x cell integer UMI count matrix\n",
    "    ref_internal_all, # reference expression profile, a gene x cell type normalized expression level matrix\n",
    "    merge_allele_df, # allele dataframe generated by pileup_and_phase script\n",
    "    genome = \"hg38\",\n",
    "    t = 1e-5,\n",
    "    ncores = 4,\n",
    "    plot = TRUE,\n",
    "    out_dir = paste0('../../datasets_new_preprocessing/Numbat/', donor)\n",
    ")\n",
    "\n"
   ]
  }
 ],
 "metadata": {
  "kernelspec": {
   "display_name": "R",
   "language": "R",
   "name": "ir"
  },
  "language_info": {
   "codemirror_mode": "r",
   "file_extension": ".r",
   "mimetype": "text/x-r-source",
   "name": "R",
   "pygments_lexer": "r",
   "version": "4.1.2"
  }
 },
 "nbformat": 4,
 "nbformat_minor": 5
}
