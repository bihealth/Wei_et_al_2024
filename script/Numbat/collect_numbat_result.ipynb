{
 "cells": [
  {
   "cell_type": "code",
   "execution_count": 1,
   "id": "96bb30a8",
   "metadata": {
    "scrolled": true
   },
   "outputs": [
    {
     "name": "stdout",
     "output_type": "stream",
     "text": [
      "Python version3.9.10 | packaged by conda-forge | (main, Feb  1 2022, 21:24:11) \n",
      "[GCC 9.4.0]\n",
      "/fast/users/twei_m/work/miniconda/envs/sc/bin/python\n"
     ]
    },
    {
     "name": "stderr",
     "output_type": "stream",
     "text": [
      "2023-06-07 12:49:32.658907: I tensorflow/core/util/util.cc:169] oneDNN custom operations are on. You may see slightly different numerical results due to floating-point round-off errors from different computation orders. To turn them off, set the environment variable `TF_ENABLE_ONEDNN_OPTS=0`.\n",
      "2023-06-07 12:49:32.664738: W tensorflow/stream_executor/platform/default/dso_loader.cc:64] Could not load dynamic library 'libcudart.so.11.0'; dlerror: libcudart.so.11.0: cannot open shared object file: No such file or directory\n",
      "2023-06-07 12:49:32.664762: I tensorflow/stream_executor/cuda/cudart_stub.cc:29] Ignore above cudart dlerror if you do not have a GPU set up on your machine.\n"
     ]
    }
   ],
   "source": [
    "import os\n",
    "import sys\n",
    "print(\"Python version\" + sys.version)\n",
    "os.getcwd()\n",
    "print(sys.executable)\n",
    "\n",
    "import numpy as np\n",
    "\n",
    "import pandas as pd\n",
    "import umap\n",
    "import matplotlib.pyplot as plt\n",
    "import matplotlib.cm as cm\n",
    "%matplotlib inline\n",
    "import seaborn as sns"
   ]
  },
  {
   "cell_type": "code",
   "execution_count": 2,
   "id": "c9bc320c",
   "metadata": {},
   "outputs": [],
   "source": [
    "from pathlib import Path"
   ]
  },
  {
   "cell_type": "code",
   "execution_count": 3,
   "id": "4161e01d",
   "metadata": {},
   "outputs": [],
   "source": [
    "samples = ['p007', 'p008', 'p009', 'p013', 'p014', 'p016', 'p020', 'p021', 'p026', 'p035']"
   ]
  },
  {
   "cell_type": "code",
   "execution_count": 4,
   "id": "50cf6cb3",
   "metadata": {},
   "outputs": [],
   "source": [
    "new_data_folder = '/fast/users/twei_m/work/crc/datasets_new_preprocessing'"
   ]
  },
  {
   "cell_type": "markdown",
   "id": "136297d7",
   "metadata": {},
   "source": [
    "sep_samples = ['p007', 'p008', 'p009_1', 'p009_2', 'p013', 'p014', 'p016', 'p020', 'p021', 'p026', 'p035']"
   ]
  },
  {
   "cell_type": "code",
   "execution_count": 5,
   "id": "4ac5fc4d",
   "metadata": {},
   "outputs": [],
   "source": [
    "joint_post = pd.DataFrame(columns=['CHROM', 'seg', 'seg_start', 'seg_end', 'cnv_state', 'p_cnv'])"
   ]
  },
  {
   "cell_type": "code",
   "execution_count": 6,
   "id": "813d3a52",
   "metadata": {},
   "outputs": [],
   "source": [
    "for sample in samples:\n",
    "#for sample in sep_samples:\n",
    "\n",
    "    cell_seg = pd.read_csv(Path(new_data_folder)/f'Numbat/{sample}/joint_post_2.tsv',header=0,index_col=0,sep='\\t')\n",
    "    \n",
    "    cell_seg.index = pd.DataFrame(cell_seg.index)['cell'].str.replace('_',':')\n",
    "    \n",
    "    cell_seg['cell_id'] = cell_seg.index\n",
    "    \n",
    "    cell_seg = pd.DataFrame(cell_seg[['CHROM', 'seg', 'seg_start', 'seg_end', 'cnv_state', 'p_cnv', 'cell_id']])  \n",
    "    \n",
    "    joint_post = pd.concat([joint_post, cell_seg], ignore_index=True)\n",
    "    "
   ]
  },
  {
   "cell_type": "code",
   "execution_count": 7,
   "id": "7951fb57",
   "metadata": {},
   "outputs": [],
   "source": [
    "joint_post = joint_post.set_index('cell_id')"
   ]
  },
  {
   "cell_type": "code",
   "execution_count": null,
   "id": "3486c4ca",
   "metadata": {},
   "outputs": [],
   "source": [
    "# new data 242293 rows × 6 columns\n",
    "# after CB: 408033 rows × 6 columns"
   ]
  },
  {
   "cell_type": "code",
   "execution_count": 8,
   "id": "2122bc84",
   "metadata": {},
   "outputs": [
    {
     "data": {
      "text/html": [
       "<div>\n",
       "<style scoped>\n",
       "    .dataframe tbody tr th:only-of-type {\n",
       "        vertical-align: middle;\n",
       "    }\n",
       "\n",
       "    .dataframe tbody tr th {\n",
       "        vertical-align: top;\n",
       "    }\n",
       "\n",
       "    .dataframe thead th {\n",
       "        text-align: right;\n",
       "    }\n",
       "</style>\n",
       "<table border=\"1\" class=\"dataframe\">\n",
       "  <thead>\n",
       "    <tr style=\"text-align: right;\">\n",
       "      <th></th>\n",
       "      <th>CHROM</th>\n",
       "      <th>seg</th>\n",
       "      <th>seg_start</th>\n",
       "      <th>seg_end</th>\n",
       "      <th>cnv_state</th>\n",
       "      <th>p_cnv</th>\n",
       "    </tr>\n",
       "    <tr>\n",
       "      <th>cell_id</th>\n",
       "      <th></th>\n",
       "      <th></th>\n",
       "      <th></th>\n",
       "      <th></th>\n",
       "      <th></th>\n",
       "      <th></th>\n",
       "    </tr>\n",
       "  </thead>\n",
       "  <tbody>\n",
       "    <tr>\n",
       "      <th>p007t:TTACGCCGTCAGTCGC</th>\n",
       "      <td>1</td>\n",
       "      <td>1a</td>\n",
       "      <td>758351</td>\n",
       "      <td>248906235</td>\n",
       "      <td>loh</td>\n",
       "      <td>8.785014e-21</td>\n",
       "    </tr>\n",
       "    <tr>\n",
       "      <th>p007t:TTACGCCGTCAGTCGC</th>\n",
       "      <td>3</td>\n",
       "      <td>3b</td>\n",
       "      <td>2307295</td>\n",
       "      <td>198089694</td>\n",
       "      <td>del</td>\n",
       "      <td>8.480627e-37</td>\n",
       "    </tr>\n",
       "    <tr>\n",
       "      <th>p007t:TTACGCCGTCAGTCGC</th>\n",
       "      <td>4</td>\n",
       "      <td>4a</td>\n",
       "      <td>80239</td>\n",
       "      <td>189967209</td>\n",
       "      <td>del</td>\n",
       "      <td>1.101603e-13</td>\n",
       "    </tr>\n",
       "    <tr>\n",
       "      <th>p007t:TTACGCCGTCAGTCGC</th>\n",
       "      <td>5</td>\n",
       "      <td>5a</td>\n",
       "      <td>201435</td>\n",
       "      <td>21480002</td>\n",
       "      <td>del</td>\n",
       "      <td>1.000000e+00</td>\n",
       "    </tr>\n",
       "    <tr>\n",
       "      <th>p007t:TTACGCCGTCAGTCGC</th>\n",
       "      <td>5</td>\n",
       "      <td>5b</td>\n",
       "      <td>21497162</td>\n",
       "      <td>37288433</td>\n",
       "      <td>amp</td>\n",
       "      <td>5.100128e-01</td>\n",
       "    </tr>\n",
       "    <tr>\n",
       "      <th>...</th>\n",
       "      <td>...</td>\n",
       "      <td>...</td>\n",
       "      <td>...</td>\n",
       "      <td>...</td>\n",
       "      <td>...</td>\n",
       "      <td>...</td>\n",
       "    </tr>\n",
       "    <tr>\n",
       "      <th>p035t:CTTGATTAGAACCCGA</th>\n",
       "      <td>13</td>\n",
       "      <td>13a</td>\n",
       "      <td>19609889</td>\n",
       "      <td>114314503</td>\n",
       "      <td>amp</td>\n",
       "      <td>8.512330e-01</td>\n",
       "    </tr>\n",
       "    <tr>\n",
       "      <th>p035t:CTTGATTAGAACCCGA</th>\n",
       "      <td>22</td>\n",
       "      <td>22b</td>\n",
       "      <td>49594148</td>\n",
       "      <td>50783624</td>\n",
       "      <td>amp</td>\n",
       "      <td>4.982685e-01</td>\n",
       "    </tr>\n",
       "    <tr>\n",
       "      <th>p035t:TTTGGAGTCATGCTAG</th>\n",
       "      <td>8</td>\n",
       "      <td>8b</td>\n",
       "      <td>101632857</td>\n",
       "      <td>145056240</td>\n",
       "      <td>amp</td>\n",
       "      <td>5.684066e-01</td>\n",
       "    </tr>\n",
       "    <tr>\n",
       "      <th>p035t:TTTGGAGTCATGCTAG</th>\n",
       "      <td>13</td>\n",
       "      <td>13a</td>\n",
       "      <td>19609889</td>\n",
       "      <td>114314503</td>\n",
       "      <td>amp</td>\n",
       "      <td>2.645108e-01</td>\n",
       "    </tr>\n",
       "    <tr>\n",
       "      <th>p035t:TTTGGAGTCATGCTAG</th>\n",
       "      <td>22</td>\n",
       "      <td>22b</td>\n",
       "      <td>49594148</td>\n",
       "      <td>50783624</td>\n",
       "      <td>amp</td>\n",
       "      <td>5.082774e-01</td>\n",
       "    </tr>\n",
       "  </tbody>\n",
       "</table>\n",
       "<p>408033 rows × 6 columns</p>\n",
       "</div>"
      ],
      "text/plain": [
       "                       CHROM  seg  seg_start    seg_end cnv_state  \\\n",
       "cell_id                                                             \n",
       "p007t:TTACGCCGTCAGTCGC     1   1a     758351  248906235       loh   \n",
       "p007t:TTACGCCGTCAGTCGC     3   3b    2307295  198089694       del   \n",
       "p007t:TTACGCCGTCAGTCGC     4   4a      80239  189967209       del   \n",
       "p007t:TTACGCCGTCAGTCGC     5   5a     201435   21480002       del   \n",
       "p007t:TTACGCCGTCAGTCGC     5   5b   21497162   37288433       amp   \n",
       "...                      ...  ...        ...        ...       ...   \n",
       "p035t:CTTGATTAGAACCCGA    13  13a   19609889  114314503       amp   \n",
       "p035t:CTTGATTAGAACCCGA    22  22b   49594148   50783624       amp   \n",
       "p035t:TTTGGAGTCATGCTAG     8   8b  101632857  145056240       amp   \n",
       "p035t:TTTGGAGTCATGCTAG    13  13a   19609889  114314503       amp   \n",
       "p035t:TTTGGAGTCATGCTAG    22  22b   49594148   50783624       amp   \n",
       "\n",
       "                               p_cnv  \n",
       "cell_id                               \n",
       "p007t:TTACGCCGTCAGTCGC  8.785014e-21  \n",
       "p007t:TTACGCCGTCAGTCGC  8.480627e-37  \n",
       "p007t:TTACGCCGTCAGTCGC  1.101603e-13  \n",
       "p007t:TTACGCCGTCAGTCGC  1.000000e+00  \n",
       "p007t:TTACGCCGTCAGTCGC  5.100128e-01  \n",
       "...                              ...  \n",
       "p035t:CTTGATTAGAACCCGA  8.512330e-01  \n",
       "p035t:CTTGATTAGAACCCGA  4.982685e-01  \n",
       "p035t:TTTGGAGTCATGCTAG  5.684066e-01  \n",
       "p035t:TTTGGAGTCATGCTAG  2.645108e-01  \n",
       "p035t:TTTGGAGTCATGCTAG  5.082774e-01  \n",
       "\n",
       "[408033 rows x 6 columns]"
      ]
     },
     "execution_count": 8,
     "metadata": {},
     "output_type": "execute_result"
    }
   ],
   "source": [
    "joint_post #210907 segments # sep: 203064"
   ]
  },
  {
   "cell_type": "code",
   "execution_count": 9,
   "id": "97f1d3d5",
   "metadata": {},
   "outputs": [],
   "source": [
    "joint_post.to_csv(Path(new_data_folder)/'Numbat/20230607_numbat_all_output_joint_post_combined9.csv')"
   ]
  },
  {
   "cell_type": "markdown",
   "id": "794b0e11",
   "metadata": {},
   "source": [
    "joint_post.to_csv(Path(new_data_folder)/'Numbat/20230525_numbat_all_output_joint_post_combined9.csv')"
   ]
  },
  {
   "cell_type": "markdown",
   "id": "059195db",
   "metadata": {},
   "source": [
    "joint_post.to_csv(os.path.join('20230321_numbat_all_output_joint_post_sep9.csv'))"
   ]
  },
  {
   "cell_type": "markdown",
   "id": "e0d524eb",
   "metadata": {},
   "source": [
    "### clones"
   ]
  },
  {
   "cell_type": "code",
   "execution_count": 10,
   "id": "eceab903",
   "metadata": {},
   "outputs": [],
   "source": [
    "clone_post = pd.DataFrame(columns=['compartment_opt', 'clone_opt','GT_opt', 'p_cnv'])"
   ]
  },
  {
   "cell_type": "code",
   "execution_count": 11,
   "id": "eb1b4c5a",
   "metadata": {},
   "outputs": [],
   "source": [
    "# for h5 object\n",
    "for sample in samples:\n",
    "#for sample in sep_samples:\n",
    "    per_cell_clone = pd.read_csv(Path(new_data_folder)/f'Numbat/{sample}/clone_post_2.tsv',\n",
    "                                 header=0,index_col=0,sep='\\t')\n",
    "    per_cell_clone.index = pd.DataFrame(per_cell_clone.index)['cell'].str.replace('_',':')\n",
    "    per_cell_clone['cell_id'] = per_cell_clone.index\n",
    "    per_cell_clone = pd.DataFrame(per_cell_clone[['compartment_opt', 'clone_opt','GT_opt', 'p_cnv', 'cell_id']])  \n",
    "    \n",
    "    clone_post = pd.concat([clone_post, per_cell_clone], ignore_index=True)\n",
    "    "
   ]
  },
  {
   "cell_type": "code",
   "execution_count": 12,
   "id": "1010b45c",
   "metadata": {},
   "outputs": [],
   "source": [
    "clone_post = clone_post.set_index('cell_id')"
   ]
  },
  {
   "cell_type": "code",
   "execution_count": 14,
   "id": "44ff70b1",
   "metadata": {},
   "outputs": [],
   "source": [
    "# new data 14115 rows × 4 columns \n",
    "# after CB 17623 rows × 4 columns"
   ]
  },
  {
   "cell_type": "code",
   "execution_count": 13,
   "id": "814308b9",
   "metadata": {},
   "outputs": [
    {
     "data": {
      "text/html": [
       "<div>\n",
       "<style scoped>\n",
       "    .dataframe tbody tr th:only-of-type {\n",
       "        vertical-align: middle;\n",
       "    }\n",
       "\n",
       "    .dataframe tbody tr th {\n",
       "        vertical-align: top;\n",
       "    }\n",
       "\n",
       "    .dataframe thead th {\n",
       "        text-align: right;\n",
       "    }\n",
       "</style>\n",
       "<table border=\"1\" class=\"dataframe\">\n",
       "  <thead>\n",
       "    <tr style=\"text-align: right;\">\n",
       "      <th></th>\n",
       "      <th>compartment_opt</th>\n",
       "      <th>clone_opt</th>\n",
       "      <th>GT_opt</th>\n",
       "      <th>p_cnv</th>\n",
       "    </tr>\n",
       "    <tr>\n",
       "      <th>cell_id</th>\n",
       "      <th></th>\n",
       "      <th></th>\n",
       "      <th></th>\n",
       "      <th></th>\n",
       "    </tr>\n",
       "  </thead>\n",
       "  <tbody>\n",
       "    <tr>\n",
       "      <th>p007t:AAACCCAGTCGGTGAA</th>\n",
       "      <td>normal</td>\n",
       "      <td>1</td>\n",
       "      <td>NaN</td>\n",
       "      <td>1.692342e-12</td>\n",
       "    </tr>\n",
       "    <tr>\n",
       "      <th>p007t:AAACCCAGTCTGCCTT</th>\n",
       "      <td>tumor</td>\n",
       "      <td>7</td>\n",
       "      <td>13a,15a,5a,9a,21a,17a,22a</td>\n",
       "      <td>9.999551e-01</td>\n",
       "    </tr>\n",
       "    <tr>\n",
       "      <th>p007t:AAACCCATCGCATTAG</th>\n",
       "      <td>tumor</td>\n",
       "      <td>3</td>\n",
       "      <td>13a,15a,5a,9a,21a,17a,11a</td>\n",
       "      <td>1.000000e+00</td>\n",
       "    </tr>\n",
       "    <tr>\n",
       "      <th>p007t:AAACGAACACCACATA</th>\n",
       "      <td>normal</td>\n",
       "      <td>1</td>\n",
       "      <td>NaN</td>\n",
       "      <td>6.954112e-50</td>\n",
       "    </tr>\n",
       "    <tr>\n",
       "      <th>p007t:AAACGAATCGCTCATC</th>\n",
       "      <td>normal</td>\n",
       "      <td>1</td>\n",
       "      <td>NaN</td>\n",
       "      <td>8.677122e-227</td>\n",
       "    </tr>\n",
       "    <tr>\n",
       "      <th>...</th>\n",
       "      <td>...</td>\n",
       "      <td>...</td>\n",
       "      <td>...</td>\n",
       "      <td>...</td>\n",
       "    </tr>\n",
       "    <tr>\n",
       "      <th>p035t:TTTGGAGTCATGCTAG</th>\n",
       "      <td>normal</td>\n",
       "      <td>1</td>\n",
       "      <td>NaN</td>\n",
       "      <td>2.935156e-01</td>\n",
       "    </tr>\n",
       "    <tr>\n",
       "      <th>p035t:TTTGGTTTCATAGCAC</th>\n",
       "      <td>tumor</td>\n",
       "      <td>3</td>\n",
       "      <td>13a,8b</td>\n",
       "      <td>8.467798e-01</td>\n",
       "    </tr>\n",
       "    <tr>\n",
       "      <th>p035t:TTTGTTGAGTGTACAA</th>\n",
       "      <td>tumor</td>\n",
       "      <td>2</td>\n",
       "      <td>13a</td>\n",
       "      <td>7.820054e-01</td>\n",
       "    </tr>\n",
       "    <tr>\n",
       "      <th>p035t:TTTGTTGCATCCTTCG</th>\n",
       "      <td>tumor</td>\n",
       "      <td>3</td>\n",
       "      <td>13a,8b</td>\n",
       "      <td>9.999946e-01</td>\n",
       "    </tr>\n",
       "    <tr>\n",
       "      <th>p035t:TTTGTTGGTGACATCT</th>\n",
       "      <td>tumor</td>\n",
       "      <td>2</td>\n",
       "      <td>13a</td>\n",
       "      <td>6.624137e-01</td>\n",
       "    </tr>\n",
       "  </tbody>\n",
       "</table>\n",
       "<p>17623 rows × 4 columns</p>\n",
       "</div>"
      ],
      "text/plain": [
       "                       compartment_opt clone_opt                     GT_opt  \\\n",
       "cell_id                                                                       \n",
       "p007t:AAACCCAGTCGGTGAA          normal         1                        NaN   \n",
       "p007t:AAACCCAGTCTGCCTT           tumor         7  13a,15a,5a,9a,21a,17a,22a   \n",
       "p007t:AAACCCATCGCATTAG           tumor         3  13a,15a,5a,9a,21a,17a,11a   \n",
       "p007t:AAACGAACACCACATA          normal         1                        NaN   \n",
       "p007t:AAACGAATCGCTCATC          normal         1                        NaN   \n",
       "...                                ...       ...                        ...   \n",
       "p035t:TTTGGAGTCATGCTAG          normal         1                        NaN   \n",
       "p035t:TTTGGTTTCATAGCAC           tumor         3                     13a,8b   \n",
       "p035t:TTTGTTGAGTGTACAA           tumor         2                        13a   \n",
       "p035t:TTTGTTGCATCCTTCG           tumor         3                     13a,8b   \n",
       "p035t:TTTGTTGGTGACATCT           tumor         2                        13a   \n",
       "\n",
       "                                p_cnv  \n",
       "cell_id                                \n",
       "p007t:AAACCCAGTCGGTGAA   1.692342e-12  \n",
       "p007t:AAACCCAGTCTGCCTT   9.999551e-01  \n",
       "p007t:AAACCCATCGCATTAG   1.000000e+00  \n",
       "p007t:AAACGAACACCACATA   6.954112e-50  \n",
       "p007t:AAACGAATCGCTCATC  8.677122e-227  \n",
       "...                               ...  \n",
       "p035t:TTTGGAGTCATGCTAG   2.935156e-01  \n",
       "p035t:TTTGGTTTCATAGCAC   8.467798e-01  \n",
       "p035t:TTTGTTGAGTGTACAA   7.820054e-01  \n",
       "p035t:TTTGTTGCATCCTTCG   9.999946e-01  \n",
       "p035t:TTTGTTGGTGACATCT   6.624137e-01  \n",
       "\n",
       "[17623 rows x 4 columns]"
      ]
     },
     "execution_count": 13,
     "metadata": {},
     "output_type": "execute_result"
    }
   ],
   "source": [
    "clone_post # 11347 # sep 11347"
   ]
  },
  {
   "cell_type": "code",
   "execution_count": 15,
   "id": "91418522",
   "metadata": {},
   "outputs": [],
   "source": [
    "clone_post.to_csv(Path(new_data_folder)/'Numbat/20230607_numbat_all_output_clone_post_combined9.csv')"
   ]
  },
  {
   "cell_type": "markdown",
   "id": "4c8a0ef1",
   "metadata": {},
   "source": [
    "clone_post.to_csv(Path(new_data_folder)/'Numbat/2023525_numbat_all_output_clone_post_combined9.csv')"
   ]
  },
  {
   "cell_type": "markdown",
   "id": "b62e5086",
   "metadata": {},
   "source": [
    "clone_post.to_csv(os.path.join('20230321_numbat_all_output_clone_post_sep9.csv'))"
   ]
  },
  {
   "cell_type": "markdown",
   "id": "611aee46",
   "metadata": {},
   "source": [
    "#### how different are the results from init = 1 and init =2, 2 is the default of interpret numbat result\n",
    "for sample in samples:\n",
    "    post1 = pd.read_csv(os.path.join(sample, 'clone_post_1.tsv'),header=0,index_col=0,sep='\\t')\n",
    "    post2 = pd.read_csv(os.path.join(sample, 'clone_post_2.tsv'),header=0,index_col=0,sep='\\t')\n",
    "    print(post1.index.equals(post2.index),post1['compartment_opt'].equals(post2['compartment_opt']))"
   ]
  }
 ],
 "metadata": {
  "kernelspec": {
   "display_name": "sc",
   "language": "python",
   "name": "sc"
  },
  "language_info": {
   "codemirror_mode": {
    "name": "ipython",
    "version": 3
   },
   "file_extension": ".py",
   "mimetype": "text/x-python",
   "name": "python",
   "nbconvert_exporter": "python",
   "pygments_lexer": "ipython3",
   "version": "3.9.10"
  }
 },
 "nbformat": 4,
 "nbformat_minor": 5
}
