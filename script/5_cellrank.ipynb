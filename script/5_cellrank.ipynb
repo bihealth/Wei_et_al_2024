{
 "cells": [
  {
   "cell_type": "code",
   "execution_count": null,
   "id": "fc80a47e",
   "metadata": {},
   "outputs": [],
   "source": [
    "import os\n",
    "import sys\n",
    "print(\"Python version\" + sys.version)\n",
    "os.getcwd()\n",
    "print(sys.executable)"
   ]
  },
  {
   "cell_type": "code",
   "execution_count": null,
   "id": "bdfb666e",
   "metadata": {},
   "outputs": [],
   "source": [
    "import numpy as np\n",
    "np.random.seed(123)\n",
    "import pandas as pd\n",
    "import scipy\n",
    "import itertools\n",
    "\n",
    "import umap\n",
    "import matplotlib.pyplot as plt\n",
    "%matplotlib inline\n",
    "import seaborn as sns\n",
    "\n",
    "import scanpy as sc\n",
    "import anndata as ad\n",
    "import scvelo as scv\n",
    "from tqdm.notebook import tqdm\n",
    "\n",
    "from pathlib import Path"
   ]
  },
  {
   "cell_type": "code",
   "execution_count": 3,
   "id": "fb4485de",
   "metadata": {},
   "outputs": [],
   "source": [
    "import cellrank as cr"
   ]
  },
  {
   "cell_type": "code",
   "execution_count": null,
   "id": "ad028b26",
   "metadata": {},
   "outputs": [],
   "source": [
    "cr.__version__"
   ]
  },
  {
   "cell_type": "code",
   "execution_count": 5,
   "id": "b1398881",
   "metadata": {},
   "outputs": [],
   "source": [
    "from cellrank.kernels import PseudotimeKernel"
   ]
  },
  {
   "cell_type": "code",
   "execution_count": 6,
   "id": "07a4a778",
   "metadata": {},
   "outputs": [],
   "source": [
    "from cellrank.kernels import CytoTRACEKernel"
   ]
  },
  {
   "cell_type": "code",
   "execution_count": 7,
   "id": "4280b611",
   "metadata": {},
   "outputs": [],
   "source": [
    "import scanpy.external as sce"
   ]
  },
  {
   "cell_type": "code",
   "execution_count": null,
   "id": "c4194fc3",
   "metadata": {},
   "outputs": [],
   "source": [
    "sc.settings.verbosity = 1\n",
    "sc.logging.print_header()\n",
    "sc.settings.set_figure_params(dpi=300, facecolor='white')"
   ]
  },
  {
   "cell_type": "code",
   "execution_count": 9,
   "id": "5322a876",
   "metadata": {},
   "outputs": [],
   "source": [
    "# remove weird grid from scvelo\n",
    "plt.rcParams['axes.grid'] = False\n",
    "plt.rcParams['figure.dpi'] = 150\n",
    "plt.rcParams['xtick.bottom'] = False\n",
    "plt.rcParams['ytick.left'] = False\n"
   ]
  },
  {
   "cell_type": "code",
   "execution_count": 10,
   "id": "f4a32def",
   "metadata": {},
   "outputs": [],
   "source": [
    "new_data_folder = '../processed_data'"
   ]
  },
  {
   "cell_type": "code",
   "execution_count": 11,
   "id": "b13ecb8e",
   "metadata": {},
   "outputs": [],
   "source": [
    "adata_epi = sc.read(Path(new_data_folder)/'CB_epi_Numbat_CCISM_inferCNV_iCMS.h5')"
   ]
  },
  {
   "cell_type": "code",
   "execution_count": 12,
   "id": "90016601",
   "metadata": {},
   "outputs": [],
   "source": [
    "adata_epi.obs['tumour_normal_normal'] = None\n",
    "\n",
    "for i in np.arange(0, adata_epi.shape[0]):\n",
    "    if adata_epi.obs['sample_origin'][i] == '\\nnormal\\nsample\\n':\n",
    "        adata_epi.obs['tumour_normal_normal'][i] = 'normal_sample'\n",
    "    elif (adata_epi.obs['numbat'][i] == 'tumour\\n(tumour sample)') & (adata_epi.obs['scitcem_call'][i] == 'tumour\\n(tumour sample)'):\n",
    "        adata_epi.obs['tumour_normal_normal'][i] = 'genomically_tumour'\n",
    "    elif (adata_epi.obs['numbat'][i] == 'normal\\n(tumour sample)') & (adata_epi.obs['scitcem_call'][i] == 'normal\\n(tumour sample)'):\n",
    "        adata_epi.obs['tumour_normal_normal'][i] = 'genomically_normal'\n",
    "    else:\n",
    "        adata_epi.obs['tumour_normal_normal'][i] = 'no confident assignment'\n",
    "adata_epi.obs['tumour_normal_normal'] = adata_epi.obs['tumour_normal_normal'].astype('category')\n"
   ]
  },
  {
   "cell_type": "code",
   "execution_count": 13,
   "id": "2f5f6a79",
   "metadata": {},
   "outputs": [],
   "source": [
    "adata_epi.obs['tumour_normal_normal'] = adata_epi.obs['tumour_normal_normal'].cat.reorder_categories([\n",
    "    'genomically_tumour', 'no confident assignment','genomically_normal','normal_sample'])"
   ]
  },
  {
   "cell_type": "code",
   "execution_count": 14,
   "id": "44e4e76d",
   "metadata": {},
   "outputs": [],
   "source": [
    "adata_epi.uns['tumour_normal_normal_colors'] = ['#ff7f0e', '#9b1ee3','#1f77b4','#808080']"
   ]
  },
  {
   "cell_type": "code",
   "execution_count": 15,
   "id": "04c8f59c",
   "metadata": {},
   "outputs": [],
   "source": [
    "sc.tl.diffmap(adata_epi, n_comps=15)"
   ]
  },
  {
   "cell_type": "code",
   "execution_count": 16,
   "id": "59be425e",
   "metadata": {},
   "outputs": [],
   "source": [
    "adata = adata_epi.copy()"
   ]
  },
  {
   "cell_type": "markdown",
   "id": "fbaa36a4",
   "metadata": {},
   "source": [
    "### cytotrace"
   ]
  },
  {
   "cell_type": "code",
   "execution_count": null,
   "id": "b2f56662",
   "metadata": {},
   "outputs": [],
   "source": [
    "# format hack\n",
    "adata.layers[\"spliced\"] = adata.X\n",
    "adata.layers[\"unspliced\"] = adata.X\n",
    "\n",
    "# calculate \n",
    "scv.pp.moments(adata, n_pcs=30, n_neighbors=30)"
   ]
  },
  {
   "cell_type": "code",
   "execution_count": 18,
   "id": "5a4ac919",
   "metadata": {},
   "outputs": [],
   "source": [
    "ctk = CytoTRACEKernel(adata).compute_cytotrace()"
   ]
  },
  {
   "cell_type": "code",
   "execution_count": null,
   "id": "9b32a890",
   "metadata": {},
   "outputs": [],
   "source": [
    "ctk.compute_transition_matrix(threshold_scheme=\"soft\", nu=0.5)"
   ]
  },
  {
   "cell_type": "code",
   "execution_count": 21,
   "id": "72d5b38f",
   "metadata": {},
   "outputs": [],
   "source": [
    "adata.obs['inferCNV_result'] = adata.obs['inferCNV_result'].cat.rename_categories({'failed_sample':'no detectable CNA',\n",
    "    'CNA\\n(tumour sample)':'CNA calls\\n(tumour sample)',\n",
    "    'CNN\\n(tumour sample)':'CNN calls\\n(tumour sample)'})"
   ]
  },
  {
   "cell_type": "code",
   "execution_count": null,
   "id": "71c4e443",
   "metadata": {},
   "outputs": [],
   "source": [
    "scv.pl.scatter(adata, basis='umap', color=['inferCNV_result'],\n",
    "               ncols=1, dpi=150, legend_loc='right margin', size = 2, \n",
    "               title = 'copy number - inferCNV',\n",
    "               )"
   ]
  },
  {
   "cell_type": "code",
   "execution_count": 23,
   "id": "1e0a9424",
   "metadata": {},
   "outputs": [],
   "source": [
    "adata.obs['CCISM_call'] = adata.obs['CCISM_call'].cat.rename_categories({'tumour\\n(tumour sample)':'tumour calls\\n(tumour sample)',\n",
    "                                                'normal\\n(tumour sample)':'normal calls\\n(tumour sample)'})"
   ]
  },
  {
   "cell_type": "code",
   "execution_count": null,
   "id": "594c01d7",
   "metadata": {},
   "outputs": [],
   "source": [
    "scv.pl.scatter(adata, basis='umap', color=['CCISM_call'],\n",
    "               ncols=1, dpi=150, legend_loc='right margin', size = 2, \n",
    "               title = 'somatic variant - CCISM',\n",
    "               )"
   ]
  },
  {
   "cell_type": "code",
   "execution_count": 25,
   "id": "4c1a1695",
   "metadata": {},
   "outputs": [],
   "source": [
    "adata.obs['iCMS_scANVI'] = adata.obs['iCMS_scANVI'].cat.rename_categories({'normal\\n(tumour sample)':\n",
    "                                                                          'normal calls\\n(tumour sample)'})"
   ]
  },
  {
   "cell_type": "code",
   "execution_count": null,
   "id": "68c16529",
   "metadata": {},
   "outputs": [],
   "source": [
    "ax = scv.pl.scatter(adata, basis='umap', color=['iCMS_scANVI'],\n",
    "               ncols=1, dpi=150, legend_loc='right margin', size = 2, \n",
    "               show = False, title = ''\n",
    "               )\n",
    "ax.set_title('transcriptomic signatures - iCMS', x = 0.65)\n",
    ";"
   ]
  },
  {
   "cell_type": "code",
   "execution_count": 27,
   "id": "784da473",
   "metadata": {},
   "outputs": [],
   "source": [
    "adata.obs['numbat'] = adata.obs['numbat'].cat.rename_categories({'tumour\\n(tumour sample)':\n",
    "                                                                 'tumour calls\\n(tumour sample)',\n",
    "                                                                 'normal\\n(tumour sample)':\n",
    "                                                                 'normal calls\\n(tumour sample)'})"
   ]
  },
  {
   "cell_type": "code",
   "execution_count": null,
   "id": "d0dc908b",
   "metadata": {},
   "outputs": [],
   "source": [
    "ax = scv.pl.scatter(adata, basis='umap', color=['numbat'],\n",
    "               ncols=1, dpi=150, legend_loc='right margin', size = 2, \n",
    "               show = False, title = ''\n",
    "              )\n",
    "ax.set_title('haplotype-aware copy number - Numbat', x = 0.8)\n",
    ";"
   ]
  },
  {
   "cell_type": "code",
   "execution_count": null,
   "id": "ffd9d298",
   "metadata": {},
   "outputs": [],
   "source": [
    "scv.pl.scatter(adata[adata.obs['tumour_normal_normal'].isin(['genomically_normal',\n",
    "                                                            'normal_sample'])], \n",
    "               basis='umap', color=['Uhlitz_scANVI'],\n",
    "               ncols=1, dpi=150, legend_loc='right margin', size = 2, \n",
    "               title = 'Epithelial cell type\\n(GN+N)')"
   ]
  },
  {
   "cell_type": "code",
   "execution_count": null,
   "id": "c39291bf",
   "metadata": {},
   "outputs": [],
   "source": [
    "scv.pl.scatter(adata, basis='umap', color=['ct_pseudotime'],\n",
    "               ncols=1, dpi=150, legend_loc='right margin', size = 2)"
   ]
  },
  {
   "cell_type": "code",
   "execution_count": null,
   "id": "210d8ca9",
   "metadata": {},
   "outputs": [],
   "source": [
    "# if use diffmap calculated on adata_epi\n",
    "scv.pl.scatter(adata, basis='diffmap', color=['Uhlitz_scANVI'], \n",
    "               components = ['1,2'],\n",
    "               ncols=2, dpi=300, legend_loc='right', size = 2,\n",
    "               title = ['DC 1,2'], frameon = True)"
   ]
  },
  {
   "cell_type": "code",
   "execution_count": null,
   "id": "573143a2",
   "metadata": {},
   "outputs": [],
   "source": [
    "# if use diffmap calculated on adata_epi\n",
    "scv.pl.scatter(adata, basis='diffmap', color=['Uhlitz_scANVI'], \n",
    "               components = ['1,2', '2,3', '1,3', '2,4', '1,4'],\n",
    "               ncols=2, dpi=300, legend_loc=None, size = 2,\n",
    "               title = ['DC 1,2', 'DC 2,3', 'DC 1,3', 'DC 2,4', 'DC 1,4'])"
   ]
  },
  {
   "cell_type": "code",
   "execution_count": null,
   "id": "f8afc2dc",
   "metadata": {},
   "outputs": [],
   "source": [
    "# if use diffmap calculated on adata_epi\n",
    "scv.pl.scatter(adata, basis='diffmap', color=['tumour_normal_normal'], \n",
    "               components = ['1,2', '2,3', '1,3', '2,4', '1,4'],\n",
    "               ncols=2, dpi=300, legend_loc=None, size = 2,\n",
    "               title = ['DC 1,2', 'DC 2,3', 'DC 1,3', 'DC 2,4', 'DC 1,4'])"
   ]
  },
  {
   "cell_type": "code",
   "execution_count": 34,
   "id": "0cd3bdf3",
   "metadata": {},
   "outputs": [],
   "source": [
    "new_order = ['TC1', 'TC2', 'TC3', 'TC4', 'Stem', 'Stem/TA',\n",
    "             'Immature Goblet', 'Goblet',\n",
    "             'Enterocyte progenitor', 'Enterocytes', 'Tuft']"
   ]
  },
  {
   "cell_type": "markdown",
   "id": "82ae251d",
   "metadata": {},
   "source": [
    "### check the cytoscape assumption upon gene counts decreased with differentiation stages"
   ]
  },
  {
   "cell_type": "code",
   "execution_count": null,
   "id": "567cc74e",
   "metadata": {},
   "outputs": [],
   "source": [
    "# “n_genes_by_counts”. The number of genes with at least 1 count in a cell. Calculated for all cells.\n",
    "with plt.style.context('./plt_style'):\n",
    "    g=sns.FacetGrid(adata.obs, col = 'Uhlitz_scANVI', hue = 'tumour_normal_normal', \n",
    "                    height = 4, aspect = 5/9, despine = False, sharey = True, \n",
    "                    col_order = new_order, palette = adata.uns['tumour_normal_normal_colors'])\n",
    "    g.map_dataframe(sns.violinplot, x = 'tumour_normal_normal', y = 'n_genes_by_counts', width = 0.7)\n",
    "    g.figure.subplots_adjust(wspace=0)\n",
    "    \n",
    "    g.set_xticklabels(rotation = 90)\n",
    "    g.set_titles('{col_name}\\n')\n",
    "    #g.set(ylim=(0, 1))\n",
    "    g.set_xlabels('')\n",
    "    #g.set_ylabels('n_genes\\n', loc = 'top')\n",
    "    \n",
    "    g.fig.text(x = 0.5, y = -1, horizontalalignment = 'center', s = 'Cell identity', size = 24)\n",
    "    \n",
    "    axes = g.axes.flatten()\n",
    "    axes[8].set_title('Enterocyte\\nprogenitor\\n')\n",
    "    axes[9].set_title('Enterocyte\\n')\n",
    "    axes[6].set_title('Immature\\ngoblet\\n')\n",
    ";    "
   ]
  },
  {
   "cell_type": "code",
   "execution_count": null,
   "id": "629f9420",
   "metadata": {},
   "outputs": [],
   "source": [
    "# no trend in cell cycle\n",
    "with plt.style.context('./plt_style'):\n",
    "    g=sns.FacetGrid(adata.obs, col = 'Uhlitz_scANVI', hue = 'tumour_normal_normal', \n",
    "                    height = 4, aspect = 5/9, despine = False, sharey = True, \n",
    "                    col_order = new_order, palette = adata.uns['tumour_normal_normal_colors'])\n",
    "    g.map_dataframe(sns.violinplot, x = 'tumour_normal_normal', y = 'G2M_score', width = 0.7)\n",
    "    g.figure.subplots_adjust(wspace=0)\n",
    "    \n",
    "    g.set_xticklabels(rotation = 90)\n",
    "    g.set_titles('{col_name}\\n')\n",
    "    #g.set(ylim=(0, 1))\n",
    "    g.set_xlabels('')\n",
    "    #g.set_ylabels('n_genes\\n', loc = 'top')\n",
    "    \n",
    "    g.fig.text(x = 0.5, y = -1, horizontalalignment = 'center', s = 'Cell identity', size = 24)\n",
    "    \n",
    "    axes = g.axes.flatten()\n",
    "    axes[8].set_title('Enterocyte\\nprogenitor\\n')\n",
    "    axes[9].set_title('Enterocyte\\n')\n",
    "    axes[6].set_title('Immature\\ngoblet\\n')\n",
    ";    "
   ]
  },
  {
   "cell_type": "code",
   "execution_count": null,
   "id": "8f13e065",
   "metadata": {},
   "outputs": [],
   "source": [
    "# cytoTRACE\n",
    "with plt.style.context('./plt_style'):\n",
    "    g=sns.FacetGrid(adata.obs, col = 'Uhlitz_scANVI', hue = 'tumour_normal_normal', \n",
    "                    height = 4, aspect = 5/9, despine = False, sharey = True, \n",
    "                    col_order = new_order, palette = adata.uns['tumour_normal_normal_colors'])\n",
    "    g.map_dataframe(sns.violinplot, x = 'tumour_normal_normal', y = 'ct_pseudotime', width = 0.7)\n",
    "    g.figure.subplots_adjust(wspace=0)\n",
    "    \n",
    "    g.set_xticklabels(rotation = 90)\n",
    "    g.set_titles('{col_name}\\n')\n",
    "    g.set(ylim=(0, 1))\n",
    "    g.set_xlabels('')\n",
    "    g.set_ylabels('Cytoscape pseudotime\\n', loc = 'top')\n",
    "    \n",
    "    g.fig.text(x = 0.5, y = -1, horizontalalignment = 'center', s = 'Cell identity', size = 24)\n",
    "    \n",
    "    axes = g.axes.flatten()\n",
    "    axes[8].set_title('Enterocyte\\nprogenitor\\n')\n",
    "    axes[9].set_title('Enterocyte\\n')\n",
    "    axes[6].set_title('Immature\\ngoblet\\n')\n",
    ";    "
   ]
  },
  {
   "cell_type": "code",
   "execution_count": null,
   "id": "97ab66f2",
   "metadata": {},
   "outputs": [],
   "source": [
    "# DC2 time\n",
    "with plt.style.context('./plt_style'):\n",
    "    g=sns.FacetGrid(adata.obs, col = 'Uhlitz_scANVI', hue = 'tumour_normal_normal', \n",
    "                    height = 4, aspect = 5/9, despine = False, sharey = True, \n",
    "                    col_order = new_order, palette = adata.uns['tumour_normal_normal_colors'])\n",
    "    g.map_dataframe(sns.violinplot, x = 'tumour_normal_normal', y = 'DC2', width = 0.7)\n",
    "    g.figure.subplots_adjust(wspace=0)\n",
    "    \n",
    "    g.set_xticklabels(rotation = 90)\n",
    "    g.set_titles('{col_name}\\n')\n",
    "    #g.set(ylim=(0, 1))\n",
    "    g.set_xlabels('')\n",
    "    g.set_ylabels('DC2 pseudotime\\n', loc = 'top')\n",
    "    \n",
    "    g.fig.text(x = 0.5, y = -1, horizontalalignment = 'center', s = 'Cell identity', size = 24)\n",
    "    \n",
    "    axes = g.axes.flatten()\n",
    "    axes[8].set_title('Enterocyte\\nprogenitor\\n')\n",
    "    axes[9].set_title('Enterocyte\\n')\n",
    "    axes[6].set_title('Immature\\ngoblet\\n')\n",
    ";    "
   ]
  },
  {
   "cell_type": "code",
   "execution_count": null,
   "id": "77f7c692",
   "metadata": {},
   "outputs": [],
   "source": [
    "# rm conflicting\n",
    "with plt.style.context('./plt_style'):\n",
    "    g=sns.FacetGrid(adata[adata.obs['tumour_normal_normal'].isin(['genomically_tumour',\n",
    "                                                                 'genomically_normal',\n",
    "                                                                 'normal_sample'])].obs, \n",
    "                    col = 'Uhlitz_scANVI', hue = 'tumour_normal_normal', \n",
    "                    height = 4, aspect = 1/2, despine = False, sharey = True, \n",
    "                    col_order = new_order, palette = ['#ff7f0e', '#1f77b4', '#808080'])\n",
    "    g.map_dataframe(sns.violinplot, x = 'tumour_normal_normal', y = 'ct_pseudotime', width = 0.7)\n",
    "    g.figure.subplots_adjust(wspace=0)\n",
    "    \n",
    "    g.set_xticklabels(rotation = 90)\n",
    "    g.set_titles('{col_name}\\n')\n",
    "    g.set(ylim=(0, 1))\n",
    "    g.set_xlabels('')\n",
    "    g.set_ylabels('Cytoscape pseudotime\\n', loc = 'top')\n",
    "    \n",
    "    g.fig.text(x = 0.5, y = -1, horizontalalignment = 'center', s = 'Cell identity', size = 24)\n",
    "    \n",
    "    axes = g.axes.flatten()\n",
    "    axes[8].set_title('Enterocyte\\nprogenitor\\n')\n",
    "    axes[9].set_title('Enterocyte\\n')\n",
    "    axes[6].set_title('Immature\\ngoblet\\n')\n",
    ";    "
   ]
  },
  {
   "cell_type": "code",
   "execution_count": null,
   "id": "c5caaadb",
   "metadata": {},
   "outputs": [],
   "source": [
    "ctk.plot_projection(basis=\"umap\", color=\"Uhlitz_scANVI\", legend_loc=\"right\", dpi=200,\n",
    "                    recompute=False, density = 1, \n",
    "                   stream = True,\n",
    "                   size = 2, alpha = 1)"
   ]
  },
  {
   "cell_type": "code",
   "execution_count": null,
   "id": "65d9442f",
   "metadata": {},
   "outputs": [],
   "source": [
    "ctk.plot_random_walks(\n",
    "    n_sims=10,\n",
    "    start_ixs={\"Uhlitz_scANVI\": \"Stem\"},\n",
    "    basis=\"umap\",\n",
    "    color=\"Uhlitz_scANVI\",\n",
    "    legend_loc=\"right\",\n",
    "    seed=1, size = 2, alpha = 1, dpi = 200\n",
    ")"
   ]
  },
  {
   "cell_type": "code",
   "execution_count": null,
   "id": "d1f5bfd7",
   "metadata": {},
   "outputs": [],
   "source": [
    "# heatmap pseudotime\n",
    "with plt.rc_context({'ytick.major.size':16}):\n",
    "    sc.pl.heatmap(adata, ['ct_pseudotime'],\n",
    "                  groupby=['tumour_normal_normal'], swap_axes=True, figsize=[16,4])\n"
   ]
  },
  {
   "cell_type": "code",
   "execution_count": 44,
   "id": "d5629c17",
   "metadata": {},
   "outputs": [],
   "source": [
    "adata.obs['is_normal_sample'] = np.array(pd.get_dummies(adata.obs['tumour_normal_normal'])['normal_sample'], dtype='int')\n"
   ]
  },
  {
   "cell_type": "code",
   "execution_count": null,
   "id": "c7d2d815",
   "metadata": {},
   "outputs": [],
   "source": [
    "# heatmap pseudotime\n",
    "with plt.rc_context({'ytick.major.size':16}):\n",
    "    sc.pl.heatmap(adata, ['ct_pseudotime', 'is_normal_sample'],\n",
    "                  groupby=['Uhlitz_scANVI'], swap_axes=True, figsize=[16,4])"
   ]
  },
  {
   "cell_type": "code",
   "execution_count": null,
   "id": "19a181ec",
   "metadata": {},
   "outputs": [],
   "source": [
    "# y axis is normal sample or not\n",
    "# x axis cell type\n",
    "# value pseudotime\n",
    "with plt.rc_context({'ytick.major.size':16, 'axes.titlesize':18}):\n",
    "    plt.figure(figsize = (10,5))\n",
    "    sns.heatmap(adata.obs.pivot_table(index='tumour_normal_normal', \n",
    "                                      columns = 'Uhlitz_scANVI', \n",
    "                                      values='ct_pseudotime', \n",
    "                                      aggfunc='median')[new_order], \n",
    "                square=True, cmap='viridis_r')\n",
    "    plt.title('Cytoscape pseudotime (median)\\n')\n",
    "    plt.ylabel('Numbat and Scitcem assignment\\n', size = 18)\n",
    "    plt.xlabel('Cell type',size = 18);"
   ]
  },
  {
   "cell_type": "code",
   "execution_count": null,
   "id": "056fb247",
   "metadata": {},
   "outputs": [],
   "source": [
    "with plt.rc_context({'ytick.major.size':16, 'axes.titlesize':18}):\n",
    "    plt.figure(figsize = (10,5))\n",
    "    sns.heatmap(adata.obs.pivot_table(index='tumour_normal_normal',\n",
    "                                      columns = 'Uhlitz_scANVI', \n",
    "                                      values='ct_pseudotime', \n",
    "                                      aggfunc='mean')[new_order], \n",
    "                square=True, cmap='viridis_r')\n",
    "    plt.title('Cytoscape pseudotime (mean)\\n')\n",
    "    plt.ylabel('Numbat and Scitcem assignment\\n', size = 18)\n",
    "    plt.xlabel('Cell type',size = 18);"
   ]
  },
  {
   "cell_type": "markdown",
   "id": "b4a45e23",
   "metadata": {},
   "source": [
    "### use DC as pseudotime"
   ]
  },
  {
   "cell_type": "code",
   "execution_count": 48,
   "id": "4233a6f1",
   "metadata": {},
   "outputs": [],
   "source": [
    "adata.obs[['DC1', 'DC2', 'DC3', 'DC4']]= adata.obsm['X_diffmap'][:,1:5]"
   ]
  },
  {
   "cell_type": "code",
   "execution_count": 49,
   "id": "72071808",
   "metadata": {},
   "outputs": [],
   "source": [
    "cmap = sns.color_palette(\"blend:#701f57,#ad1759,#d5d5d5,#f6b48f,bisque\", as_cmap=True)"
   ]
  },
  {
   "cell_type": "code",
   "execution_count": null,
   "id": "0871b04f",
   "metadata": {},
   "outputs": [],
   "source": [
    "with plt.rc_context({'ytick.major.size':16, 'axes.titlesize':18}):\n",
    "    plt.figure(figsize = (10,5))\n",
    "    sns.heatmap(adata.obs.pivot_table(index='tumour_normal_normal',\n",
    "                                      columns = 'Uhlitz_scANVI', values='DC2', aggfunc='mean')[new_order], \n",
    "                cmap=cmap, vmin = -0.015, vmax = 0.015, \n",
    "                square=True)\n",
    "    plt.title('Diffusion time axis 2 (mean)\\n')\n",
    "    plt.ylabel('Numbat and Scitcem assignment\\n', size = 18)\n",
    "    plt.xlabel('Cell type',size = 18)\n",
    "    \n",
    "    plt.figure(figsize = (10,5))\n",
    "    sns.heatmap(adata.obs.pivot_table(index='tumour_normal_normal',\n",
    "                                      columns = 'Uhlitz_scANVI', values='DC2', aggfunc='median')[new_order], \n",
    "                cmap=cmap, vmin = -0.015, vmax = 0.015, \n",
    "                square=True)\n",
    "    plt.title('Diffusion time axis 2 (median)\\n')\n",
    "    plt.ylabel('Numbat and Scitcem assignment\\n', size = 18)\n",
    "    plt.xlabel('Cell type',size = 18)\n",
    "    ;"
   ]
  },
  {
   "cell_type": "code",
   "execution_count": 54,
   "id": "d4e98887",
   "metadata": {},
   "outputs": [],
   "source": [
    "sample_color_map = dict(zip(adata_epi.obs['Uhlitz_scANVI'].cat.categories, adata_epi.uns['Uhlitz_scANVI_colors']))"
   ]
  },
  {
   "cell_type": "code",
   "execution_count": 55,
   "id": "6369888e",
   "metadata": {},
   "outputs": [],
   "source": [
    "order_start_with_stem = [\n",
    " 'Stem',\n",
    " 'Stem/TA',\n",
    " 'Immature Goblet',\n",
    " 'Goblet',\n",
    " 'Enterocyte progenitor',\n",
    " 'Enterocytes',\n",
    " 'Tuft',\n",
    " 'TC1',\n",
    " 'TC2',\n",
    " 'TC3',\n",
    " 'TC4']"
   ]
  },
  {
   "cell_type": "code",
   "execution_count": null,
   "id": "b74d6dbf",
   "metadata": {},
   "outputs": [],
   "source": [
    "with plt.rc_context({'ytick.major.size':16, 'axes.titlesize':18}):\n",
    "    plt.figure(figsize = (8,5))\n",
    "    ax = sns.histplot(adata.obs , x = 'DC1', hue = 'Uhlitz_scANVI', binwidth=0.001, stat = 'count', \n",
    "                 legend='right', multiple=\"stack\", palette=[sample_color_map[key] for key in order_start_with_stem],\n",
    "                 hue_order=order_start_with_stem, edgecolor = 'black')\n",
    "    sns.move_legend(ax, \"upper right\", bbox_to_anchor=(1.4, 1.0), title='Cell type')\n",
    "    plt.title('Diffusion time axis 1 distribution\\n')\n",
    "    \n",
    "\n",
    "with plt.rc_context({'ytick.major.size':16, 'axes.titlesize':18}):\n",
    "    plt.figure(figsize = (8,5))\n",
    "    ax = sns.histplot(adata.obs , x = 'DC2', hue = 'Uhlitz_scANVI', binwidth=0.001, stat = 'count', \n",
    "                 legend='right', multiple=\"stack\", palette=[sample_color_map[key] for key in order_start_with_stem],\n",
    "                 hue_order=order_start_with_stem, edgecolor = 'black')\n",
    "    sns.move_legend(ax, \"upper right\", bbox_to_anchor=(1.4, 1.0), title='Cell type')\n",
    "    plt.title('Diffusion time axis 2 distribution\\n')\n",
    "\n",
    "\n",
    "with plt.rc_context({'ytick.major.size':16, 'axes.titlesize':18}):\n",
    "    plt.figure(figsize = (8,5))\n",
    "    ax = sns.histplot(adata.obs , x = 'DC3', hue = 'Uhlitz_scANVI', binwidth=0.001, stat = 'count', \n",
    "                 legend='right', multiple=\"stack\", palette=[sample_color_map[key] for key in order_start_with_stem],\n",
    "                 hue_order=order_start_with_stem, edgecolor = 'black')\n",
    "    sns.move_legend(ax, \"upper right\", bbox_to_anchor=(1.4, 1.0), title='Cell type')\n",
    "    plt.title('Diffusion time axis 3 distribution\\n')\n",
    "\n",
    "    \n",
    "with plt.rc_context({'ytick.major.size':16, 'axes.titlesize':18}):\n",
    "    plt.figure(figsize = (8,5))\n",
    "    ax = sns.histplot(adata.obs , x = 'DC4', hue = 'Uhlitz_scANVI', binwidth=0.001, stat = 'count', \n",
    "                 legend='right', multiple=\"stack\", palette=[sample_color_map[key] for key in order_start_with_stem],\n",
    "                 hue_order=order_start_with_stem, edgecolor = 'black')\n",
    "    sns.move_legend(ax, \"upper right\", bbox_to_anchor=(1.4, 1.0), title='Cell type')\n",
    "    plt.title('Diffusion time axis 4 distribution\\n')\n",
    "\n",
    "    \n",
    ";"
   ]
  },
  {
   "cell_type": "code",
   "execution_count": null,
   "id": "7ed6c0c7",
   "metadata": {},
   "outputs": [],
   "source": [
    "# scale \n",
    "with plt.rc_context({'ytick.major.size':16, 'axes.titlesize':18}):\n",
    "    plt.figure(figsize = (8,5))\n",
    "    ax = sns.histplot(adata.obs , x = 'DC1', hue = 'Uhlitz_scANVI', binwidth=0.001, stat = 'count', \n",
    "                 legend='right', multiple=\"fill\", palette=[sample_color_map[key] for key in order_start_with_stem],\n",
    "                 hue_order=order_start_with_stem, edgecolor = 'black')\n",
    "    sns.move_legend(ax, \"upper right\", bbox_to_anchor=(1.4, 1.0), title='Cell type')\n",
    "    plt.title('Diffusion time axis 1 distribution\\n')\n",
    "    plt.ylabel('Normalised count')\n",
    "    \n",
    "\n",
    "with plt.rc_context({'ytick.major.size':16, 'axes.titlesize':18}):\n",
    "    plt.figure(figsize = (8,5))\n",
    "    ax = sns.histplot(adata.obs , x = 'DC2', hue = 'Uhlitz_scANVI', binwidth=0.001, stat = 'count', \n",
    "                 legend='right', multiple=\"fill\", palette=[sample_color_map[key] for key in order_start_with_stem],\n",
    "                 hue_order=order_start_with_stem, edgecolor = 'black')\n",
    "    sns.move_legend(ax, \"upper right\", bbox_to_anchor=(1.4, 1.0), title='Cell type')\n",
    "    plt.title('Diffusion time axis 2 distribution\\n')\n",
    "    plt.ylabel('Normalised count')\n",
    "\n",
    "\n",
    "\n",
    "with plt.rc_context({'ytick.major.size':16, 'axes.titlesize':18}):\n",
    "    plt.figure(figsize = (8,5))\n",
    "    ax = sns.histplot(adata.obs , x = 'DC3', hue = 'Uhlitz_scANVI', binwidth=0.001, stat = 'count', \n",
    "                 legend='right', multiple=\"fill\", palette=[sample_color_map[key] for key in order_start_with_stem],\n",
    "                 hue_order=order_start_with_stem, edgecolor = 'black')\n",
    "    sns.move_legend(ax, \"upper right\", bbox_to_anchor=(1.4, 1.0), title='Cell type')\n",
    "    plt.title('Diffusion time axis 3 distribution\\n')\n",
    "    plt.ylabel('Normalised count')\n",
    "\n",
    "    \n",
    "with plt.rc_context({'ytick.major.size':16, 'axes.titlesize':18}):\n",
    "    plt.figure(figsize = (8,5))\n",
    "    ax = sns.histplot(adata.obs , x = 'DC4', hue = 'Uhlitz_scANVI', binwidth=0.001, stat = 'count', \n",
    "                 legend='right', multiple=\"fill\", palette=[sample_color_map[key] for key in order_start_with_stem],\n",
    "                 hue_order=order_start_with_stem, edgecolor = 'black')\n",
    "    sns.move_legend(ax, \"upper right\", bbox_to_anchor=(1.4, 1.0), title='Cell type')\n",
    "    plt.title('Diffusion time axis 4 distribution\\n')\n",
    "    plt.ylabel('Normalised count')\n",
    "\n",
    "    \n",
    ";"
   ]
  },
  {
   "cell_type": "code",
   "execution_count": null,
   "id": "ecaeb874",
   "metadata": {},
   "outputs": [],
   "source": [
    "with plt.rc_context({'ytick.major.size':16, 'axes.titlesize':18}):\n",
    "    plt.figure(figsize = (8,5))\n",
    "    ax = sns.histplot(adata.obs , x = 'DC1', hue = 'tumour_normal_normal', binwidth=0.001, stat = 'count', \n",
    "                 legend='right', multiple=\"stack\", palette=adata.uns['tumour_normal_normal_colors'],\n",
    "                 hue_order=adata.obs['tumour_normal_normal'].cat.categories, edgecolor = 'black')\n",
    "    sns.move_legend(ax, \"upper right\", bbox_to_anchor=(1.45, 1.0), title='Cell type')\n",
    "    plt.title('Diffusion time axis 1 distribution\\n')\n",
    "    \n",
    "\n",
    "with plt.rc_context({'ytick.major.size':16, 'axes.titlesize':18}):\n",
    "    plt.figure(figsize = (8,5))\n",
    "    ax = sns.histplot(adata.obs , x = 'DC2', hue = 'tumour_normal_normal', binwidth=0.001, stat = 'count', \n",
    "                 legend='right', multiple=\"stack\", palette=adata.uns['tumour_normal_normal_colors'],\n",
    "                 hue_order=adata.obs['tumour_normal_normal'].cat.categories, edgecolor = 'black')\n",
    "    sns.move_legend(ax, \"upper right\", bbox_to_anchor=(1.45, 1.0), title='Cell type')\n",
    "    plt.title('Diffusion time axis 2 distribution\\n')\n",
    "\n",
    "\n",
    "with plt.rc_context({'ytick.major.size':16, 'axes.titlesize':18}):\n",
    "    plt.figure(figsize = (8,5))\n",
    "    ax = sns.histplot(adata.obs , x = 'DC3', hue = 'tumour_normal_normal', binwidth=0.001, stat = 'count', \n",
    "                 legend='right', multiple=\"stack\", palette=adata.uns['tumour_normal_normal_colors'],\n",
    "                 hue_order=adata.obs['tumour_normal_normal'].cat.categories, edgecolor = 'black')\n",
    "    sns.move_legend(ax, \"upper right\", bbox_to_anchor=(1.45, 1.0), title='Cell type')\n",
    "    plt.title('Diffusion time axis 3 distribution\\n')\n",
    "    \n",
    "\n",
    "\n",
    "with plt.rc_context({'ytick.major.size':16, 'axes.titlesize':18}):\n",
    "    plt.figure(figsize = (8,5))\n",
    "    ax = sns.histplot(adata.obs , x = 'DC4', hue = 'tumour_normal_normal', binwidth=0.001, stat = 'count', \n",
    "                 legend='right', multiple=\"stack\", palette=adata.uns['tumour_normal_normal_colors'],\n",
    "                 hue_order=adata.obs['tumour_normal_normal'].cat.categories, edgecolor = 'black')\n",
    "    sns.move_legend(ax, \"upper right\", bbox_to_anchor=(1.45, 1.0), title='Cell type')\n",
    "    plt.title('Diffusion time axis 4 distribution\\n')\n",
    "    \n",
    ";"
   ]
  },
  {
   "cell_type": "code",
   "execution_count": null,
   "id": "a74e1633",
   "metadata": {},
   "outputs": [],
   "source": [
    "with plt.rc_context({'ytick.major.size':16, 'axes.titlesize':18}):\n",
    "    plt.figure(figsize = (8,5))\n",
    "    ax = sns.histplot(adata.obs , x = 'DC1', hue = 'normal_vs_MS', binwidth=0.001, stat = 'count', \n",
    "                 legend='right', multiple=\"stack\", palette=adata.uns['normal_vs_MS_colors'].tolist(),\n",
    "                 hue_order=adata.obs['normal_vs_MS'].cat.categories, edgecolor = 'black')\n",
    "    sns.move_legend(ax, \"upper right\", bbox_to_anchor=(1.5, 1.0), title='Cell type')\n",
    "    plt.title('Diffusion time axis 1 distribution\\n')\n",
    "    \n",
    "\n",
    "with plt.rc_context({'ytick.major.size':16, 'axes.titlesize':18}):\n",
    "    plt.figure(figsize = (8,5))\n",
    "    ax = sns.histplot(adata.obs , x = 'DC2', hue = 'normal_vs_MS', binwidth=0.001, stat = 'count', \n",
    "                 legend='right', multiple=\"stack\", palette=adata.uns['normal_vs_MS_colors'].tolist(),\n",
    "                 hue_order=adata.obs['normal_vs_MS'].cat.categories, edgecolor = 'black')\n",
    "    sns.move_legend(ax, \"upper right\", bbox_to_anchor=(1.5, 1.0), title='Cell type')\n",
    "    plt.title('Diffusion time axis 2 distribution\\n')\n",
    "\n",
    "\n",
    "with plt.rc_context({'ytick.major.size':16, 'axes.titlesize':18}):\n",
    "    plt.figure(figsize = (8,5))\n",
    "    ax = sns.histplot(adata.obs , x = 'DC3', hue = 'normal_vs_MS', binwidth=0.001, stat = 'count', \n",
    "                 legend='right', multiple=\"stack\", palette=adata.uns['normal_vs_MS_colors'].tolist(),\n",
    "                 hue_order=adata.obs['normal_vs_MS'].cat.categories, edgecolor = 'black')\n",
    "    sns.move_legend(ax, \"upper right\", bbox_to_anchor=(1.5, 1.0), title='Cell type')\n",
    "    plt.title('Diffusion time axis 3 distribution\\n')\n",
    "    \n",
    "\n",
    "\n",
    "with plt.rc_context({'ytick.major.size':16, 'axes.titlesize':18}):\n",
    "    plt.figure(figsize = (8,5))\n",
    "    ax = sns.histplot(adata.obs , x = 'DC4', hue = 'normal_vs_MS', binwidth=0.001, stat = 'count', \n",
    "                 legend='right', multiple=\"stack\", palette=adata.uns['normal_vs_MS_colors'].tolist(),\n",
    "                 hue_order=adata.obs['normal_vs_MS'].cat.categories, edgecolor = 'black')\n",
    "    sns.move_legend(ax, \"upper right\", bbox_to_anchor=(1.5, 1.0), title='Cell type')\n",
    "    plt.title('Diffusion time axis 4 distribution\\n')\n",
    "    \n",
    ";"
   ]
  },
  {
   "cell_type": "code",
   "execution_count": null,
   "id": "c23c1cf8",
   "metadata": {},
   "outputs": [],
   "source": [
    "# DC genomically normal by cell type\n",
    "with plt.rc_context({'ytick.major.size':16, 'axes.titlesize':18}):\n",
    "    plt.figure(figsize = (8,5))\n",
    "    ax = sns.histplot(adata[adata.obs['tumour_normal_normal'] == 'genomically_normal'].obs , x = 'DC1', hue = 'Uhlitz_scANVI', binwidth=0.001, stat = 'count', \n",
    "                 legend='right', multiple=\"stack\", palette=[sample_color_map[key] for key in order_start_with_stem],\n",
    "                 hue_order=order_start_with_stem, edgecolor = 'black')\n",
    "    sns.move_legend(ax, \"upper right\", bbox_to_anchor=(1.4, 1.0), title='Cell type')\n",
    "    plt.title('Diffusion time axis 1 distribution\\n')\n",
    "    \n",
    "\n",
    "with plt.rc_context({'ytick.major.size':16, 'axes.titlesize':18}):\n",
    "    plt.figure(figsize = (8,5))\n",
    "    ax = sns.histplot(adata[adata.obs['tumour_normal_normal'] == 'genomically_normal'].obs , x = 'DC2', hue = 'Uhlitz_scANVI', binwidth=0.001, stat = 'count', \n",
    "                 legend='right', multiple=\"stack\", palette=[sample_color_map[key] for key in order_start_with_stem],\n",
    "                 hue_order=order_start_with_stem, edgecolor = 'black')\n",
    "    sns.move_legend(ax, \"upper right\", bbox_to_anchor=(1.4, 1.0), title='Cell type')\n",
    "    plt.title('Diffusion time axis 2 distribution\\n')\n",
    "\n",
    "\n",
    "with plt.rc_context({'ytick.major.size':16, 'axes.titlesize':18}):\n",
    "    plt.figure(figsize = (8,5))\n",
    "    ax = sns.histplot(adata[adata.obs['tumour_normal_normal'] == 'genomically_normal'].obs , x = 'DC3', hue = 'Uhlitz_scANVI', binwidth=0.001, stat = 'count', \n",
    "                 legend='right', multiple=\"stack\", palette=[sample_color_map[key] for key in order_start_with_stem],\n",
    "                 hue_order=order_start_with_stem, edgecolor = 'black')\n",
    "    sns.move_legend(ax, \"upper right\", bbox_to_anchor=(1.4, 1.0), title='Cell type')\n",
    "    plt.title('Diffusion time axis 3 distribution\\n')\n",
    "\n",
    "    \n",
    "with plt.rc_context({'ytick.major.size':16, 'axes.titlesize':18}):\n",
    "    plt.figure(figsize = (8,5))\n",
    "    ax = sns.histplot(adata[adata.obs['tumour_normal_normal'] == 'genomically_normal'].obs , x = 'DC4', hue = 'Uhlitz_scANVI', binwidth=0.001, stat = 'count', \n",
    "                 legend='right', multiple=\"stack\", palette=[sample_color_map[key] for key in order_start_with_stem],\n",
    "                 hue_order=order_start_with_stem, edgecolor = 'black')\n",
    "    sns.move_legend(ax, \"upper right\", bbox_to_anchor=(1.4, 1.0), title='Cell type')\n",
    "    plt.title('Diffusion time axis 4 distribution\\n')\n",
    "\n",
    "    \n",
    ";"
   ]
  },
  {
   "cell_type": "code",
   "execution_count": null,
   "id": "8894a1bd",
   "metadata": {},
   "outputs": [],
   "source": [
    "# DC genomically normal by cell type (filled)\n",
    "with plt.rc_context({'ytick.major.size':16, 'axes.titlesize':18}):\n",
    "    plt.figure(figsize = (8,5))\n",
    "    ax = sns.histplot(adata[adata.obs['tumour_normal_normal'] == 'genomically_normal'].obs , x = 'DC1', hue = 'Uhlitz_scANVI', binwidth=0.001, stat = 'count', \n",
    "                 legend='right', multiple=\"fill\", palette=[sample_color_map[key] for key in order_start_with_stem],\n",
    "                 hue_order=order_start_with_stem, edgecolor = 'black')\n",
    "    sns.move_legend(ax, \"upper right\", bbox_to_anchor=(1.4, 1.0), title='Cell type')\n",
    "    plt.title('Diffusion time axis 1 distribution\\n')\n",
    "    plt.ylabel('Normalised count')\n",
    "\n",
    "with plt.rc_context({'ytick.major.size':16, 'axes.titlesize':18}):\n",
    "    plt.figure(figsize = (8,5))\n",
    "    ax = sns.histplot(adata[adata.obs['tumour_normal_normal'] == 'genomically_normal'].obs , x = 'DC2', hue = 'Uhlitz_scANVI', binwidth=0.001, stat = 'count', \n",
    "                 legend='right', multiple=\"fill\", palette=[sample_color_map[key] for key in order_start_with_stem],\n",
    "                 hue_order=order_start_with_stem, edgecolor = 'black')\n",
    "    sns.move_legend(ax, \"upper right\", bbox_to_anchor=(1.4, 1.0), title='Cell type')\n",
    "    plt.title('Diffusion time axis 2 distribution\\n')\n",
    "    plt.ylabel('Normalised count')\n",
    "\n",
    "\n",
    "with plt.rc_context({'ytick.major.size':16, 'axes.titlesize':18}):\n",
    "    plt.figure(figsize = (8,5))\n",
    "    ax = sns.histplot(adata[adata.obs['tumour_normal_normal'] == 'genomically_normal'].obs , x = 'DC3', hue = 'Uhlitz_scANVI', binwidth=0.001, stat = 'count', \n",
    "                 legend='right', multiple=\"fill\", palette=[sample_color_map[key] for key in order_start_with_stem],\n",
    "                 hue_order=order_start_with_stem, edgecolor = 'black')\n",
    "    sns.move_legend(ax, \"upper right\", bbox_to_anchor=(1.4, 1.0), title='Cell type')\n",
    "    plt.title('Diffusion time axis 3 distribution\\n')\n",
    "    plt.ylabel('Normalised count')\n",
    "\n",
    "    \n",
    "with plt.rc_context({'ytick.major.size':16, 'axes.titlesize':18}):\n",
    "    plt.figure(figsize = (8,5))\n",
    "    ax = sns.histplot(adata[adata.obs['tumour_normal_normal'] == 'genomically_normal'].obs , x = 'DC4', hue = 'Uhlitz_scANVI', binwidth=0.001, stat = 'count', \n",
    "                 legend='right', multiple=\"fill\", palette=[sample_color_map[key] for key in order_start_with_stem],\n",
    "                 hue_order=order_start_with_stem, edgecolor = 'black')\n",
    "    sns.move_legend(ax, \"upper right\", bbox_to_anchor=(1.4, 1.0), title='Cell type')\n",
    "    plt.title('Diffusion time axis 4 distribution\\n')\n",
    "    plt.ylabel('Normalised count')\n",
    "\n",
    "    \n",
    ";"
   ]
  },
  {
   "cell_type": "code",
   "execution_count": null,
   "id": "3a4b56f9",
   "metadata": {},
   "outputs": [],
   "source": [
    "# DC normal by cell type\n",
    "with plt.rc_context({'ytick.major.size':16, 'axes.titlesize':18}):\n",
    "    plt.figure(figsize = (8,5))\n",
    "    ax = sns.histplot(adata[adata.obs['tumour_normal_normal'] == 'normal_sample'].obs , x = 'DC1', hue = 'Uhlitz_scANVI', binwidth=0.001, stat = 'count', \n",
    "                 legend='right', multiple=\"stack\", palette=[sample_color_map[key] for key in order_start_with_stem],\n",
    "                 hue_order=order_start_with_stem, edgecolor = 'black')\n",
    "    sns.move_legend(ax, \"upper right\", bbox_to_anchor=(1.4, 1.0), title='Cell type')\n",
    "    plt.title('Diffusion time axis 1 distribution\\n')\n",
    "    \n",
    "\n",
    "with plt.rc_context({'ytick.major.size':16, 'axes.titlesize':18}):\n",
    "    plt.figure(figsize = (8,5))\n",
    "    ax = sns.histplot(adata[adata.obs['tumour_normal_normal'] == 'normal_sample'].obs , x = 'DC2', hue = 'Uhlitz_scANVI', binwidth=0.001, stat = 'count', \n",
    "                 legend='right', multiple=\"stack\", palette=[sample_color_map[key] for key in order_start_with_stem],\n",
    "                 hue_order=order_start_with_stem, edgecolor = 'black')\n",
    "    sns.move_legend(ax, \"upper right\", bbox_to_anchor=(1.4, 1.0), title='Cell type')\n",
    "    plt.title('Diffusion time axis 2 distribution\\n')\n",
    "\n",
    "\n",
    "with plt.rc_context({'ytick.major.size':16, 'axes.titlesize':18}):\n",
    "    plt.figure(figsize = (8,5))\n",
    "    ax = sns.histplot(adata[adata.obs['tumour_normal_normal'] == 'normal_sample'].obs , x = 'DC3', hue = 'Uhlitz_scANVI', binwidth=0.001, stat = 'count', \n",
    "                 legend='right', multiple=\"stack\", palette=[sample_color_map[key] for key in order_start_with_stem],\n",
    "                 hue_order=order_start_with_stem, edgecolor = 'black')\n",
    "    sns.move_legend(ax, \"upper right\", bbox_to_anchor=(1.4, 1.0), title='Cell type')\n",
    "    plt.title('Diffusion time axis 3 distribution\\n')\n",
    "\n",
    "    \n",
    "with plt.rc_context({'ytick.major.size':16, 'axes.titlesize':18}):\n",
    "    plt.figure(figsize = (8,5))\n",
    "    ax = sns.histplot(adata[adata.obs['tumour_normal_normal'] == 'normal_sample'].obs , x = 'DC4', hue = 'Uhlitz_scANVI', binwidth=0.001, stat = 'count', \n",
    "                 legend='right', multiple=\"stack\", palette=[sample_color_map[key] for key in order_start_with_stem],\n",
    "                 hue_order=order_start_with_stem, edgecolor = 'black')\n",
    "    sns.move_legend(ax, \"upper right\", bbox_to_anchor=(1.4, 1.0), title='Cell type')\n",
    "    plt.title('Diffusion time axis 4 distribution\\n')\n",
    "\n",
    "    \n",
    ";"
   ]
  },
  {
   "cell_type": "code",
   "execution_count": null,
   "id": "9155c4ec",
   "metadata": {},
   "outputs": [],
   "source": [
    "# DC normal by cell type (filled)\n",
    "with plt.rc_context({'ytick.major.size':16, 'axes.titlesize':18}):\n",
    "    plt.figure(figsize = (8,5))\n",
    "    ax = sns.histplot(adata[adata.obs['tumour_normal_normal'] == 'normal_sample'].obs , x = 'DC1', hue = 'Uhlitz_scANVI', binwidth=0.001, stat = 'count', \n",
    "                 legend='right', multiple=\"fill\", palette=[sample_color_map[key] for key in order_start_with_stem],\n",
    "                 hue_order=order_start_with_stem, edgecolor = 'black')\n",
    "    sns.move_legend(ax, \"upper right\", bbox_to_anchor=(1.4, 1.0), title='Cell type')\n",
    "    plt.title('Diffusion time axis 1 distribution\\n')\n",
    "    plt.ylabel('Normalised count')\n",
    "\n",
    "with plt.rc_context({'ytick.major.size':16, 'axes.titlesize':18}):\n",
    "    plt.figure(figsize = (8,5))\n",
    "    ax = sns.histplot(adata[adata.obs['tumour_normal_normal'] == 'normal_sample'].obs , x = 'DC2', hue = 'Uhlitz_scANVI', binwidth=0.001, stat = 'count', \n",
    "                 legend='right', multiple=\"fill\", palette=[sample_color_map[key] for key in order_start_with_stem],\n",
    "                 hue_order=order_start_with_stem, edgecolor = 'black')\n",
    "    sns.move_legend(ax, \"upper right\", bbox_to_anchor=(1.4, 1.0), title='Cell type')\n",
    "    plt.title('Diffusion time axis 2 distribution\\n')\n",
    "    plt.ylabel('Normalised count')\n",
    "\n",
    "\n",
    "with plt.rc_context({'ytick.major.size':16, 'axes.titlesize':18}):\n",
    "    plt.figure(figsize = (8,5))\n",
    "    ax = sns.histplot(adata[adata.obs['tumour_normal_normal'] == 'normal_sample'].obs , x = 'DC3', hue = 'Uhlitz_scANVI', binwidth=0.001, stat = 'count', \n",
    "                 legend='right', multiple=\"fill\", palette=[sample_color_map[key] for key in order_start_with_stem],\n",
    "                 hue_order=order_start_with_stem, edgecolor = 'black')\n",
    "    sns.move_legend(ax, \"upper right\", bbox_to_anchor=(1.4, 1.0), title='Cell type')\n",
    "    plt.title('Diffusion time axis 3 distribution\\n')\n",
    "    plt.ylabel('Normalised count')\n",
    "\n",
    "    \n",
    "with plt.rc_context({'ytick.major.size':16, 'axes.titlesize':18}):\n",
    "    plt.figure(figsize = (8,5))\n",
    "    ax = sns.histplot(adata[adata.obs['tumour_normal_normal'] == 'normal_sample'].obs , x = 'DC4', hue = 'Uhlitz_scANVI', binwidth=0.001, stat = 'count', \n",
    "                 legend='right', multiple=\"fill\", palette=[sample_color_map[key] for key in order_start_with_stem],\n",
    "                 hue_order=order_start_with_stem, edgecolor = 'black')\n",
    "    sns.move_legend(ax, \"upper right\", bbox_to_anchor=(1.4, 1.0), title='Cell type')\n",
    "    plt.title('Diffusion time axis 4 distribution\\n')\n",
    "    plt.ylabel('Normalised count')\n",
    "\n",
    "    \n",
    ";"
   ]
  },
  {
   "cell_type": "markdown",
   "id": "ddda1e6c",
   "metadata": {},
   "source": [
    "### dpt pseudotime"
   ]
  },
  {
   "cell_type": "code",
   "execution_count": 120,
   "id": "218b1dc9",
   "metadata": {},
   "outputs": [],
   "source": [
    "cellltype_df = adata.obs['Uhlitz_scANVI'].reset_index()"
   ]
  },
  {
   "cell_type": "code",
   "execution_count": 141,
   "id": "142b576a",
   "metadata": {},
   "outputs": [],
   "source": [
    "root_ixs = adata.obsm['X_diffmap'][cellltype_df[cellltype_df['Uhlitz_scANVI'] == 'Stem'].index,2].argmin()"
   ]
  },
  {
   "cell_type": "code",
   "execution_count": null,
   "id": "24c37416",
   "metadata": {},
   "outputs": [],
   "source": [
    "scv.pl.scatter(\n",
    "    adata,\n",
    "    basis=\"diffmap\",\n",
    "    c=[\"Uhlitz_scANVI\", root_ixs],\n",
    "    legend_loc=\"right\",\n",
    "    components=[\"1, 2\"],\n",
    ")"
   ]
  },
  {
   "cell_type": "code",
   "execution_count": 143,
   "id": "e2940a13",
   "metadata": {},
   "outputs": [],
   "source": [
    "adata.uns[\"iroot\"] = root_ixs"
   ]
  },
  {
   "cell_type": "code",
   "execution_count": null,
   "id": "cc18a086",
   "metadata": {},
   "outputs": [],
   "source": [
    "sc.tl.dpt(adata, n_branchings=1)"
   ]
  },
  {
   "cell_type": "code",
   "execution_count": null,
   "id": "4f0f7ee3",
   "metadata": {},
   "outputs": [],
   "source": [
    "sc.pl.embedding(\n",
    "    adata,\n",
    "    basis=\"diffmap\",\n",
    "    color=[\"dpt_pseudotime\", 'dpt_groups',\"ct_pseudotime\"],\n",
    "    color_map=\"gnuplot2\",\n",
    ")\n"
   ]
  },
  {
   "cell_type": "code",
   "execution_count": null,
   "id": "3926ccfb",
   "metadata": {},
   "outputs": [],
   "source": [
    "sc.pl.embedding(\n",
    "    adata,\n",
    "    basis=\"umap\",\n",
    "    color=[\"dpt_pseudotime\", 'dpt_groups',\"ct_pseudotime\"],\n",
    "    color_map=\"gnuplot2\",\n",
    ")\n"
   ]
  },
  {
   "cell_type": "markdown",
   "id": "eb3dbfdb",
   "metadata": {},
   "source": [
    "### DC2 expression of a gene"
   ]
  },
  {
   "cell_type": "code",
   "execution_count": null,
   "id": "9f9a235f",
   "metadata": {},
   "outputs": [],
   "source": [
    "scv.pl.scatter(\n",
    "    adata[adata.obs['tumour_normal_normal'].isin(['genomically_tumour', 'no confident assignment'])],\n",
    "    basis=\"diffmap\",\n",
    "    c=['GPA33'],\n",
    "    legend_loc=\"right\",\n",
    "    components=[\"1, 2\"],\n",
    "    size = 5,\n",
    "    title = 'GPA33 expression mapped on DC1-2 of \\ngenomically tumour and no condident assignment cells'\n",
    ")"
   ]
  },
  {
   "cell_type": "markdown",
   "id": "12d99ee1",
   "metadata": {},
   "source": [
    "### plot some gene expression in our group"
   ]
  },
  {
   "cell_type": "code",
   "execution_count": 182,
   "id": "38f9c36b",
   "metadata": {},
   "outputs": [],
   "source": [
    "gene_df = adata.var.reset_index()"
   ]
  },
  {
   "cell_type": "code",
   "execution_count": null,
   "id": "d0ef3a70",
   "metadata": {},
   "outputs": [],
   "source": [
    "gene_exp = pd.DataFrame(adata.X[:,gene_df[gene_df['index'].isin(['EHF', 'VIL1',\n",
    "                                                                'GPA33', 'KRT20', \n",
    "                                                                 'CDX1', 'ELF3','ISX'])].index].toarray(), \n",
    "             columns=['EHF', 'VIL1',\n",
    "                      'GPA33', 'KRT20',\n",
    "                      'CDX1', 'ELF3', 'ISX'])"
   ]
  },
  {
   "cell_type": "code",
   "execution_count": null,
   "id": "63bfa522",
   "metadata": {},
   "outputs": [],
   "source": [
    "plot_gene_df = gene_exp.merge(adata.obs[['Uhlitz_scANVI', 'tumour_normal_normal', 'MS_status']].reset_index(), \n",
    "                              left_index=True, right_index=True)"
   ]
  },
  {
   "cell_type": "code",
   "execution_count": null,
   "id": "70f7eb8f",
   "metadata": {},
   "outputs": [],
   "source": [
    "# epi specific TF: EHF and CDX1, expression lost in poorly differentiated CRC\n",
    "with plt.style.context('./plt_style'):\n",
    "    g=sns.FacetGrid(plot_gene_df, col = 'Uhlitz_scANVI', hue = 'tumour_normal_normal', \n",
    "                    height = 4, aspect = 5/9, despine = False, sharey = True, \n",
    "                    col_order = new_order, palette = adata.uns['tumour_normal_normal_colors'])\n",
    "    g.map_dataframe(sns.violinplot, x = 'tumour_normal_normal', y = 'EHF', width = 0.7)\n",
    "    g.figure.subplots_adjust(wspace=0)\n",
    "    \n",
    "    g.set_xticklabels(rotation = 90)\n",
    "    g.set_titles('{col_name}\\n')\n",
    "    #g.set(ylim=(0, 1))\n",
    "    g.set_xlabels('')\n",
    "    #g.set_ylabels('n_genes\\n', loc = 'top')\n",
    "    \n",
    "    g.fig.text(x = 0.5, y = -1, horizontalalignment = 'center', s = 'Cell identity', size = 24)\n",
    "    \n",
    "    axes = g.axes.flatten()\n",
    "    axes[8].set_title('Enterocyte\\nprogenitor\\n')\n",
    "    axes[9].set_title('Enterocyte\\n')\n",
    "    axes[6].set_title('Immature\\ngoblet\\n')"
   ]
  },
  {
   "cell_type": "code",
   "execution_count": null,
   "id": "c5ac178d",
   "metadata": {},
   "outputs": [],
   "source": [
    "# epi specific TF: EHF and CDX1, expression lost in poorly differentiated CRC\n",
    "with plt.style.context('./plt_style'):\n",
    "    g=sns.FacetGrid(plot_gene_df, col = 'Uhlitz_scANVI', hue = 'tumour_normal_normal', \n",
    "                    height = 4, aspect = 5/9, despine = False, sharey = True, \n",
    "                    col_order = new_order, palette = adata.uns['tumour_normal_normal_colors'])\n",
    "    g.map_dataframe(sns.violinplot, x = 'tumour_normal_normal', y = 'CDX1', width = 0.7)\n",
    "    g.figure.subplots_adjust(wspace=0)\n",
    "    \n",
    "    g.set_xticklabels(rotation = 90)\n",
    "    g.set_titles('{col_name}\\n')\n",
    "    #g.set(ylim=(0, 1))\n",
    "    g.set_xlabels('')\n",
    "    #g.set_ylabels('n_genes\\n', loc = 'top')\n",
    "    \n",
    "    g.fig.text(x = 0.5, y = -1, horizontalalignment = 'center', s = 'Cell identity', size = 24)\n",
    "    \n",
    "    axes = g.axes.flatten()\n",
    "    axes[8].set_title('Enterocyte\\nprogenitor\\n')\n",
    "    axes[9].set_title('Enterocyte\\n')\n",
    "    axes[6].set_title('Immature\\ngoblet\\n')"
   ]
  },
  {
   "cell_type": "code",
   "execution_count": null,
   "id": "531388c1",
   "metadata": {},
   "outputs": [],
   "source": [
    "# epi specific TF: EHF and CDX1, expression lost in poorly differentiated CRC\n",
    "with plt.style.context('./plt_style'):\n",
    "    g=sns.FacetGrid(plot_gene_df, col = 'Uhlitz_scANVI', hue = 'MS_status', \n",
    "                    height = 4, aspect = 5/9, despine = False, sharey = True, \n",
    "                    col_order = new_order, palette = adata.uns['tumour_normal_normal_colors'])\n",
    "    g.map_dataframe(sns.violinplot, x = 'MS_status', y = 'CDX1', width = 0.7)\n",
    "    g.figure.subplots_adjust(wspace=0)]\n",
    "    \n",
    "    g.set_xticklabels(rotation = 90)\n",
    "    g.set_titles('{col_name}\\n')\n",
    "    #g.set(ylim=(0, 1))\n",
    "    g.set_xlabels('')\n",
    "    #g.set_ylabels('n_genes\\n', loc = 'top')\n",
    "    \n",
    "    g.fig.text(x = 0.5, y = -1, horizontalalignment = 'center', s = 'Cell identity', size = 24)\n",
    "    \n",
    "    axes = g.axes.flatten()\n",
    "    axes[8].set_title('Enterocyte\\nprogenitor\\n')\n",
    "    axes[9].set_title('Enterocyte\\n')\n",
    "    axes[6].set_title('Immature\\ngoblet\\n')\n",
    ";"
   ]
  },
  {
   "cell_type": "code",
   "execution_count": null,
   "id": "075a36c1",
   "metadata": {},
   "outputs": [],
   "source": [
    "# epi specific TF: EHF and CDX1, expression lost in poorly differentiated CRC\n",
    "with plt.style.context('./plt_style'):\n",
    "    g=sns.FacetGrid(plot_gene_df, col = 'Uhlitz_scANVI', #hue = 'MS_status', \n",
    "                    height = 4, aspect = 5/9, despine = False, sharey = True, \n",
    "                    col_order = new_order, palette = adata.uns['tumour_normal_normal_colors'])\n",
    "    g.map_dataframe(sns.violinplot, x = 'tumour_normal_normal', y = 'CDX1', \n",
    "                    hue=\"MS_status\", split=True, width = 0.7, palette = adata.uns['tumour_normal_normal_colors'])\n",
    "    g.figure.subplots_adjust(wspace=0)\n",
    "    \n",
    "    g.set_xticklabels(rotation = 90)\n",
    "    g.set_titles('{col_name}\\n')\n",
    "    #g.set(ylim=(0, 1))\n",
    "    g.set_xlabels('')\n",
    "    #g.set_ylabels('n_genes\\n', loc = 'top')\n",
    "    \n",
    "    g.fig.text(x = 0.5, y = -1, horizontalalignment = 'center', s = 'Cell identity', size = 24)\n",
    "    \n",
    "    axes = g.axes.flatten()\n",
    "    axes[8].set_title('Enterocyte\\nprogenitor\\n')\n",
    "    axes[9].set_title('Enterocyte\\n')\n",
    "    axes[6].set_title('Immature\\ngoblet\\n')\n",
    ";"
   ]
  },
  {
   "cell_type": "code",
   "execution_count": null,
   "id": "7a4123f8",
   "metadata": {},
   "outputs": [],
   "source": [
    "# epi specific TF: EHF and CDX1, expression lost in poorly differentiated CRC\n",
    "with plt.style.context('./plt_style'):\n",
    "    g=sns.FacetGrid(plot_gene_df, col = 'Uhlitz_scANVI', #hue = 'MS_status', \n",
    "                    height = 4, aspect = 5/9, despine = False, sharey = True, \n",
    "                    col_order = new_order, palette = adata.uns['tumour_normal_normal_colors'])\n",
    "    g.map_dataframe(sns.violinplot, x = 'tumour_normal_normal', y = 'EHF', \n",
    "                    hue=\"MS_status\", split=True, width = 0.7, palette = adata.uns['tumour_normal_normal_colors'])\n",
    "    g.figure.subplots_adjust(wspace=0)\n",
    "    \n",
    "    g.set_xticklabels(rotation = 90)\n",
    "    g.set_titles('{col_name}\\n')\n",
    "    #g.set(ylim=(0, 1))\n",
    "    g.set_xlabels('')\n",
    "    #g.set_ylabels('n_genes\\n', loc = 'top')\n",
    "    \n",
    "    g.fig.text(x = 0.5, y = -1, horizontalalignment = 'center', s = 'Cell identity', size = 24)\n",
    "    \n",
    "    axes = g.axes.flatten()\n",
    "    axes[8].set_title('Enterocyte\\nprogenitor\\n')\n",
    "    axes[9].set_title('Enterocyte\\n')\n",
    "    axes[6].set_title('Immature\\ngoblet\\n')\n",
    ";"
   ]
  },
  {
   "cell_type": "code",
   "execution_count": null,
   "id": "bc303f75",
   "metadata": {},
   "outputs": [],
   "source": [
    "with plt.rc_context({'ytick.major.size':16, 'axes.titlesize':18}):\n",
    "    plt.figure(figsize = (10,5))\n",
    "    sns.heatmap(plot_gene_df.pivot_table(index='tumour_normal_normal',\n",
    "                                      columns = 'Uhlitz_scANVI', values='EHF', aggfunc='mean')[new_order], \n",
    "                cmap=cmap, square=True)\n",
    "    plt.title('EHF (mean)\\n')\n",
    "\n",
    "    plt.figure(figsize = (10,5))\n",
    "    sns.heatmap(plot_gene_df.pivot_table(index='tumour_normal_normal',\n",
    "                                      columns = 'Uhlitz_scANVI', values='VIL1', aggfunc='mean')[new_order], \n",
    "                cmap=cmap, square=True)\n",
    "    plt.title('VIL1 (mean)\\n')\n",
    "        \n",
    "    plt.figure(figsize = (10,5))\n",
    "    sns.heatmap(plot_gene_df.pivot_table(index='tumour_normal_normal',\n",
    "                                      columns = 'Uhlitz_scANVI', values='GPA33', aggfunc='mean')[new_order], \n",
    "                cmap=cmap, square=True)\n",
    "    plt.title('GPA33 (mean)\\n')\n",
    "    \n",
    "    plt.figure(figsize = (10,5))\n",
    "    sns.heatmap(plot_gene_df.pivot_table(index='tumour_normal_normal',\n",
    "                                      columns = 'Uhlitz_scANVI', values='KRT20', aggfunc='mean')[new_order], \n",
    "                cmap=cmap, square=True)\n",
    "    plt.title('KRT20 (mean)\\n')\n",
    "\n",
    "        \n",
    "    plt.figure(figsize = (10,5))\n",
    "    sns.heatmap(plot_gene_df.pivot_table(index='tumour_normal_normal',\n",
    "                                      columns = 'Uhlitz_scANVI', values='ISX', aggfunc='mean')[new_order], \n",
    "                cmap=cmap, square=True)\n",
    "    plt.title('ISX (mean)\\n')\n",
    "    \n",
    "\n",
    "    plt.figure(figsize = (10,5))\n",
    "    sns.heatmap(plot_gene_df.pivot_table(index='tumour_normal_normal',\n",
    "                                      columns = 'Uhlitz_scANVI', values='CDX1', aggfunc='mean')[new_order], \n",
    "                cmap=cmap, square=True)\n",
    "    plt.title('CDX1 (mean)\\n')\n",
    "\n",
    "    plt.figure(figsize = (10,5))\n",
    "    sns.heatmap(plot_gene_df.pivot_table(index='tumour_normal_normal',\n",
    "                                      columns = 'Uhlitz_scANVI', values='ELF3', aggfunc='mean')[new_order], \n",
    "                cmap=cmap, square=True)\n",
    "    plt.title('ELF3 (mean)\\n')\n",
    "\n"
   ]
  },
  {
   "cell_type": "code",
   "execution_count": 260,
   "id": "fe6b6909",
   "metadata": {},
   "outputs": [],
   "source": [
    "colonic_markers = {'normal stem cells': ['LGR5', 'ASCL2', 'SOX9', 'OLFM4', 'SMOC2', 'EPHB2'],\n",
    "           'enterocytic differentiation': ['VIL1', 'GPA33', 'KRT20', 'CDH17', 'LGALS4'],\n",
    "           'TF enrich at colonic epi': ['CDX1', 'CDX2', 'ELF3', 'GATA6', 'ISX', 'EHF', 'HNF1A']\n",
    "}"
   ]
  },
  {
   "cell_type": "code",
   "execution_count": null,
   "id": "017071b0",
   "metadata": {},
   "outputs": [],
   "source": [
    "with plt.style.context('./plt_style'):\n",
    "    sc.pl.dotplot(adata, colonic_markers, \n",
    "                  groupby=['tumour_normal_normal', 'Uhlitz_scANVI'], dendrogram=False)\n",
    ";    "
   ]
  },
  {
   "cell_type": "markdown",
   "id": "782d35db",
   "metadata": {},
   "source": [
    "### run fit and prediction"
   ]
  },
  {
   "cell_type": "code",
   "execution_count": null,
   "id": "ffb53c7c",
   "metadata": {},
   "outputs": [],
   "source": [
    "# compute initial & terminal states\n",
    "g = cr.estimators.GPCCA(ctk)\n",
    "print(g)"
   ]
  },
  {
   "cell_type": "code",
   "execution_count": null,
   "id": "64438642",
   "metadata": {},
   "outputs": [],
   "source": [
    "g.compute_schur()"
   ]
  },
  {
   "cell_type": "code",
   "execution_count": null,
   "id": "ca2e8fd0",
   "metadata": {},
   "outputs": [],
   "source": [
    "g.plot_spectrum(real_only=True)"
   ]
  },
  {
   "cell_type": "code",
   "execution_count": null,
   "id": "6f72a330",
   "metadata": {},
   "outputs": [],
   "source": [
    "g.fit(cluster_key=\"Uhlitz_scANVI\", n_states=[5,33])"
   ]
  },
  {
   "cell_type": "code",
   "execution_count": null,
   "id": "2c3cf051",
   "metadata": {},
   "outputs": [],
   "source": [
    "g.plot_macrostates(which=\"all\", discrete=True, legend_loc=\"right\", s=100)"
   ]
  },
  {
   "cell_type": "code",
   "execution_count": null,
   "id": "69f5490e",
   "metadata": {},
   "outputs": [],
   "source": [
    "g.predict_terminal_states()"
   ]
  },
  {
   "cell_type": "code",
   "execution_count": null,
   "id": "1cdbc45d",
   "metadata": {},
   "outputs": [],
   "source": [
    "g.plot_macrostates(which=\"terminal\", legend_loc=\"right\", s=100)"
   ]
  },
  {
   "cell_type": "code",
   "execution_count": null,
   "id": "586bef82",
   "metadata": {},
   "outputs": [],
   "source": [
    "g.plot_macrostates(which=\"terminal\", discrete=False)"
   ]
  },
  {
   "cell_type": "code",
   "execution_count": null,
   "id": "8307a4ec",
   "metadata": {},
   "outputs": [],
   "source": [
    "g.predict_initial_states(allow_overlap=True)"
   ]
  },
  {
   "cell_type": "code",
   "execution_count": null,
   "id": "3f509134",
   "metadata": {},
   "outputs": [],
   "source": [
    "g.plot_macrostates(which=\"initial\", legend_loc=\"right\", s=100)"
   ]
  },
  {
   "cell_type": "code",
   "execution_count": null,
   "id": "c3578891",
   "metadata": {},
   "outputs": [],
   "source": [
    "g.plot_macrostate_composition(key=\"Uhlitz_scANVI\", figsize=(7, 4))"
   ]
  },
  {
   "cell_type": "code",
   "execution_count": null,
   "id": "b5b1b266",
   "metadata": {},
   "outputs": [],
   "source": [
    "# probability of leaving the state once entered\n",
    "g.plot_coarse_T()"
   ]
  },
  {
   "cell_type": "code",
   "execution_count": null,
   "id": "0d82f5e9",
   "metadata": {},
   "outputs": [],
   "source": [
    "# for cells not assigned to a terminal state > estimate the fate probabilities of reaching any terminal state\n",
    "# random walks > arrival frequency\n",
    "g.compute_fate_probabilities()"
   ]
  },
  {
   "cell_type": "code",
   "execution_count": null,
   "id": "a51507ed",
   "metadata": {},
   "outputs": [],
   "source": [
    "g.plot_fate_probabilities(legend_loc=\"right\", same_plot=False, vmin = 0, vmax = 1, ncols = 3)"
   ]
  },
  {
   "cell_type": "code",
   "execution_count": null,
   "id": "9d3eb993",
   "metadata": {},
   "outputs": [],
   "source": [
    "cr.pl.circular_projection(adata, keys=\"Uhlitz_scANVI\", legend_loc=\"right\")"
   ]
  },
  {
   "cell_type": "code",
   "execution_count": null,
   "id": "adc3bb00",
   "metadata": {},
   "outputs": [],
   "source": [
    "cr.pl.aggregate_fate_probabilities(\n",
    "    adata,\n",
    "    mode=\"violin\",\n",
    "    lineages=[\"Stem/TA\"],\n",
    "    cluster_key=\"Uhlitz_scANVI\",\n",
    "    clusters=['Stem', 'Stem/TA', 'Immature Goblet', 'Goblet',\n",
    "              'Enterocyte progenitor', 'Enterocytes', 'Tuft'],\n",
    ")"
   ]
  },
  {
   "cell_type": "code",
   "execution_count": null,
   "id": "bc1643b8",
   "metadata": {},
   "outputs": [],
   "source": [
    "cr.pl.aggregate_fate_probabilities(\n",
    "    adata,\n",
    "    mode=\"violin\",\n",
    "    lineages=[\"Enterocytes\"],\n",
    "    cluster_key=\"Uhlitz_scANVI\",\n",
    "    clusters=['Stem', 'Stem/TA', 'Immature Goblet', 'Goblet',\n",
    "              'Enterocyte progenitor', 'Enterocytes', 'Tuft'],\n",
    ")"
   ]
  },
  {
   "cell_type": "code",
   "execution_count": null,
   "id": "1c2e7332",
   "metadata": {},
   "outputs": [],
   "source": [
    "cr.pl.aggregate_fate_probabilities(\n",
    "    adata,\n",
    "    mode=\"violin\",\n",
    "    lineages=[\"Goblet\"],\n",
    "    cluster_key=\"Uhlitz_scANVI\",\n",
    "    clusters=['Stem', 'Stem/TA', 'Immature Goblet', 'Goblet',\n",
    "              'Enterocyte progenitor', 'Enterocytes', 'Tuft'],\n",
    ")"
   ]
  },
  {
   "cell_type": "code",
   "execution_count": null,
   "id": "bffbac86",
   "metadata": {},
   "outputs": [],
   "source": [
    "cr.pl.aggregate_fate_probabilities(\n",
    "    adata,\n",
    "    mode=\"violin\",\n",
    "    lineages=[\"Tuft\"],\n",
    "    cluster_key=\"Uhlitz_scANVI\",\n",
    "    clusters=['Stem', 'Stem/TA', 'Immature Goblet', 'Goblet',\n",
    "              'Enterocyte progenitor', 'Enterocytes', 'Tuft'],\n",
    ")"
   ]
  },
  {
   "cell_type": "code",
   "execution_count": null,
   "id": "4d3f452b",
   "metadata": {},
   "outputs": [],
   "source": [
    "cr.pl.aggregate_fate_probabilities(\n",
    "    adata,\n",
    "    mode=\"violin\",\n",
    "    lineages=[\"TC4\"],\n",
    "    cluster_key=\"Uhlitz_scANVI\",\n",
    "    clusters=['Stem', 'Stem/TA', 'Immature Goblet', 'Goblet',\n",
    "              'Enterocyte progenitor', 'Enterocytes', 'Tuft'],\n",
    ")"
   ]
  },
  {
   "cell_type": "code",
   "execution_count": null,
   "id": "eef99080",
   "metadata": {
    "scrolled": true
   },
   "outputs": [],
   "source": [
    "g.fate_probabilities"
   ]
  },
  {
   "cell_type": "code",
   "execution_count": null,
   "id": "604bbb12",
   "metadata": {},
   "outputs": [],
   "source": [
    "adata.obs[\"fate_probabilities_Enterocytes\"] = g.fate_probabilities[\"Enterocytes\"].X.flatten()\n",
    "adata.obs[\"fate_probabilities_Stem/TA\"] = g.fate_probabilities[\"Stem/TA\"].X.flatten()\n",
    "adata.obs[\"fate_probabilities_Goblet\"] = g.fate_probabilities[\"Goblet\"].X.flatten()\n",
    "adata.obs[\"fate_probabilities_TC4\"] = g.fate_probabilities[\"TC4\"].X.flatten()\n",
    "adata.obs[\"fate_probabilities_Tuft\"] = g.fate_probabilities[\"Tuft\"].X.flatten()\n"
   ]
  },
  {
   "cell_type": "code",
   "execution_count": null,
   "id": "e7b5e518",
   "metadata": {},
   "outputs": [],
   "source": [
    "adata.obs['tumour_normal_normal'].cat.categories"
   ]
  },
  {
   "cell_type": "code",
   "execution_count": null,
   "id": "73a3232d",
   "metadata": {},
   "outputs": [],
   "source": [
    "with plt.style.context('./plt_style'):\n",
    "\n",
    "    ax = sns.violinplot(data= adata[(adata.obs['tumour_normal_normal'] == 'normal_sample') | \n",
    "                           (adata.obs['tumour_normal_normal'] == 'genomically_normal') ].obs,\n",
    "               x = 'Uhlitz_scANVI', y = 'fate_probabilities_Enterocytes', \n",
    "               hue = 'tumour_normal_normal', width = 0.9)\n",
    "    sns.move_legend(ax, \"upper right\", bbox_to_anchor=(1.5, 1.0), title='Cell identity')\n",
    "\n",
    "    plt.xticks(rotation = 90)\n",
    ";"
   ]
  },
  {
   "cell_type": "code",
   "execution_count": null,
   "id": "49a01706",
   "metadata": {},
   "outputs": [],
   "source": [
    "with plt.style.context('./plt_style'):\n",
    "\n",
    "    ax = sns.violinplot(data= adata[(adata.obs['tumour_normal_normal'] == 'normal_sample') | \n",
    "                           (adata.obs['tumour_normal_normal'] == 'genomically_normal') ].obs,\n",
    "               x = 'Uhlitz_scANVI', y = 'fate_probabilities_Goblet', \n",
    "               hue = 'tumour_normal_normal', width = 0.9)\n",
    "    sns.move_legend(ax, \"upper right\", bbox_to_anchor=(1.5, 1.0), title='Cell identity')\n",
    "\n",
    "    plt.xticks(rotation = 90)\n",
    ";"
   ]
  },
  {
   "cell_type": "code",
   "execution_count": null,
   "id": "fa9276a1",
   "metadata": {
    "scrolled": false
   },
   "outputs": [],
   "source": [
    "with plt.style.context('./plt_style'):\n",
    "\n",
    "    ax = sns.violinplot(data= adata[(adata.obs['tumour_normal_normal'] == 'normal_sample') | \n",
    "                           (adata.obs['tumour_normal_normal'] == 'genomically_normal') ].obs,\n",
    "               x = 'Uhlitz_scANVI', y = 'fate_probabilities_Stem/TA', \n",
    "               hue = 'tumour_normal_normal', width = 0.9)\n",
    "    sns.move_legend(ax, \"upper right\", bbox_to_anchor=(1.5, 1.0), title='Cell identity')\n",
    "\n",
    "    plt.xticks(rotation = 90)\n",
    ";"
   ]
  },
  {
   "cell_type": "code",
   "execution_count": null,
   "id": "81f493e5",
   "metadata": {},
   "outputs": [],
   "source": [
    "with plt.style.context('./plt_style'):\n",
    "\n",
    "    ax = sns.violinplot(data= adata[(adata.obs['tumour_normal_normal'] == 'normal_sample') | \n",
    "                           (adata.obs['tumour_normal_normal'] == 'genomically_normal') ].obs,\n",
    "               x = 'Uhlitz_scANVI', y = 'fate_probabilities_TC4', \n",
    "               hue = 'tumour_normal_normal', width = 0.9)\n",
    "    sns.move_legend(ax, \"upper right\", bbox_to_anchor=(1.5, 1.0), title='Cell identity')\n",
    "\n",
    "    plt.xticks(rotation = 90)\n",
    ";"
   ]
  },
  {
   "cell_type": "code",
   "execution_count": null,
   "id": "7d6272a7",
   "metadata": {},
   "outputs": [],
   "source": [
    "with plt.style.context('./plt_style'):\n",
    "\n",
    "    ax = sns.violinplot(data= adata[(adata.obs['tumour_normal_normal'] == 'normal_sample') | \n",
    "                           (adata.obs['tumour_normal_normal'] == 'genomically_normal') ].obs,\n",
    "               x = 'Uhlitz_scANVI', y = 'fate_probabilities_Tuft', \n",
    "               hue = 'tumour_normal_normal', width = 0.9)\n",
    "    sns.move_legend(ax, \"upper right\", bbox_to_anchor=(1.5, 1.0), title='Cell identity')\n",
    "\n",
    "    plt.xticks(rotation = 90)\n",
    ";"
   ]
  },
  {
   "cell_type": "code",
   "execution_count": null,
   "id": "51eb9e3c",
   "metadata": {},
   "outputs": [],
   "source": [
    "# driver genes on the lineages with relevant clusters\n",
    "# Enterocytes\n",
    "ent_df = g.compute_lineage_drivers(\n",
    "    lineages=[\"Enterocytes\"], cluster_key=\"Uhlitz_scANVI\", \n",
    "    clusters=['Stem','Stem/TA', 'Enterocyte progenitor',\"Enterocytes\"]\n",
    ")\n",
    "ent_df.head(10)"
   ]
  },
  {
   "cell_type": "code",
   "execution_count": null,
   "id": "ebdaaa64",
   "metadata": {},
   "outputs": [],
   "source": [
    "sc.pl.embedding(\n",
    "    adata,\n",
    "    basis=\"umap\",\n",
    "    color=[\"fate_probabilities_Enterocytes\"] + list(ent_df.index[:8]),\n",
    "    color_map=\"viridis\",\n",
    "    s=2,\n",
    "    ncols=3\n",
    ")"
   ]
  },
  {
   "cell_type": "code",
   "execution_count": null,
   "id": "d599d09e",
   "metadata": {},
   "outputs": [],
   "source": [
    "driver_df = g.compute_lineage_drivers()"
   ]
  },
  {
   "cell_type": "code",
   "execution_count": null,
   "id": "d3978376",
   "metadata": {},
   "outputs": [],
   "source": [
    "adata.var[\"mean expression\"] = adata.X.A.mean(axis=0)"
   ]
  },
  {
   "cell_type": "code",
   "execution_count": null,
   "id": "02b9b9d6",
   "metadata": {},
   "outputs": [],
   "source": [
    "driver_df.sort_values('Goblet_corr', ascending=False)['Goblet_corr'].index[:8]"
   ]
  },
  {
   "cell_type": "code",
   "execution_count": null,
   "id": "97ae0e5e",
   "metadata": {},
   "outputs": [],
   "source": [
    "genes_oi = {\n",
    "    \"Enterocytes\": driver_df.sort_values('Enterocytes_corr', ascending=False)['Enterocytes_corr'].index[:8],\n",
    "    \"Goblet\": driver_df.sort_values('Goblet_corr', ascending=False)['Goblet_corr'].index[:8],\n",
    "    \"Stem/TA\": driver_df.sort_values('Stem/TA_corr', ascending=False)['Stem/TA_corr'].index[:8]\n",
    "    \n",
    "}\n",
    "\n",
    "# green, purple, blue"
   ]
  },
  {
   "cell_type": "code",
   "execution_count": null,
   "id": "5e73d9e9",
   "metadata": {},
   "outputs": [],
   "source": [
    "g.plot_lineage_drivers_correlation(\n",
    "    lineage_x=\"Enterocytes\",\n",
    "    lineage_y=\"Tuft\",\n",
    "    adjust_text=True,\n",
    "    gene_sets=genes_oi,\n",
    "    color=\"mean expression\",\n",
    "    legend_loc=\"none\",\n",
    "    figsize=(5, 5),\n",
    "    dpi=150,\n",
    "    fontsize=9,\n",
    "    size=50\n",
    ")"
   ]
  },
  {
   "cell_type": "code",
   "execution_count": null,
   "id": "8acbf811",
   "metadata": {},
   "outputs": [],
   "source": [
    "model = cr.models.GAMR(adata, n_knots=6, smoothing_penalty=10.0)"
   ]
  },
  {
   "cell_type": "code",
   "execution_count": null,
   "id": "c6e1b479",
   "metadata": {},
   "outputs": [],
   "source": [
    "cr.pl.heatmap(\n",
    "    adata,\n",
    "    model=model, \n",
    "    lineages=\"Enterocytes\",\n",
    "    cluster_key=\"Uhlitz_scANVI\",\n",
    "    show_fate_probabilities=True,\n",
    "    genes=driver_df.sort_values('Enterocytes_corr', ascending=False)['Enterocytes_corr'].index[:40],\n",
    "    time_key=\"ct_pseudotime\",\n",
    "    figsize=(12, 10),\n",
    "    show_all_genes=True,\n",
    "    weight_threshold=(1e-3, 1e-3),\n",
    ")\n"
   ]
  },
  {
   "cell_type": "code",
   "execution_count": null,
   "id": "3ab819fb",
   "metadata": {},
   "outputs": [],
   "source": [
    "cr.pl.heatmap(\n",
    "    adata,\n",
    "    model=model, \n",
    "    lineages=\"TC4\",\n",
    "    cluster_key=\"Uhlitz_scANVI\",\n",
    "    show_fate_probabilities=True,\n",
    "    genes=driver_df.sort_values('TC4_corr', ascending=False)['TC4_corr'].index[:40],\n",
    "    time_key=\"ct_pseudotime\",\n",
    "    figsize=(12, 10),\n",
    "    show_all_genes=True,\n",
    "    weight_threshold=(1e-3, 1e-3),\n",
    ")\n"
   ]
  }
 ],
 "metadata": {
  "kernelspec": {
   "display_name": "sc",
   "language": "python",
   "name": "sc"
  },
  "language_info": {
   "codemirror_mode": {
    "name": "ipython",
    "version": 3
   },
   "file_extension": ".py",
   "mimetype": "text/x-python",
   "name": "python",
   "nbconvert_exporter": "python",
   "pygments_lexer": "ipython3",
   "version": "3.9.10"
  }
 },
 "nbformat": 4,
 "nbformat_minor": 5
}
