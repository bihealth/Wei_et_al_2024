{
 "cells": [
  {
   "cell_type": "markdown",
   "id": "d4592563",
   "metadata": {},
   "source": [
    "## Run inferCNV on epi cells\n"
   ]
  },
  {
   "cell_type": "code",
   "execution_count": 1,
   "id": "0ade66ae",
   "metadata": {
    "scrolled": true
   },
   "outputs": [
    {
     "name": "stderr",
     "output_type": "stream",
     "text": [
      "── \u001b[1mAttaching packages\u001b[22m ─────────────────────────────────────── tidyverse 1.3.2 ──\n",
      "\u001b[32m✔\u001b[39m \u001b[34mggplot2\u001b[39m 3.4.2     \u001b[32m✔\u001b[39m \u001b[34mpurrr  \u001b[39m 1.0.1\n",
      "\u001b[32m✔\u001b[39m \u001b[34mtibble \u001b[39m 3.2.1     \u001b[32m✔\u001b[39m \u001b[34mdplyr  \u001b[39m 1.1.2\n",
      "\u001b[32m✔\u001b[39m \u001b[34mtidyr  \u001b[39m 1.3.0     \u001b[32m✔\u001b[39m \u001b[34mstringr\u001b[39m 1.5.0\n",
      "\u001b[32m✔\u001b[39m \u001b[34mreadr  \u001b[39m 2.1.3     \u001b[32m✔\u001b[39m \u001b[34mforcats\u001b[39m 1.0.0\n",
      "── \u001b[1mConflicts\u001b[22m ────────────────────────────────────────── tidyverse_conflicts() ──\n",
      "\u001b[31m✖\u001b[39m \u001b[34mdplyr\u001b[39m::\u001b[32mfilter()\u001b[39m masks \u001b[34mstats\u001b[39m::filter()\n",
      "\u001b[31m✖\u001b[39m \u001b[34mdplyr\u001b[39m::\u001b[32mlag()\u001b[39m    masks \u001b[34mstats\u001b[39m::lag()\n",
      "Warning message:\n",
      "“package ‘patchwork’ was built under R version 4.1.3”\n",
      "\n",
      "Attaching package: ‘cowplot’\n",
      "\n",
      "\n",
      "The following object is masked from ‘package:patchwork’:\n",
      "\n",
      "    align_plots\n",
      "\n",
      "\n",
      "Attaching SeuratObject\n",
      "\n"
     ]
    }
   ],
   "source": [
    "library(tidyverse)\n",
    "library(ggplot2)\n",
    "library(dplyr)\n",
    "library(patchwork)\n",
    "library(cowplot)\n",
    "\n",
    "library(rhdf5)\n",
    "\n",
    "library(infercnv)\n",
    "\n",
    "library(Seurat)"
   ]
  },
  {
   "cell_type": "code",
   "execution_count": 2,
   "id": "cd4851aa",
   "metadata": {},
   "outputs": [],
   "source": [
    "source('function_single_cell_conversion.R')"
   ]
  },
  {
   "cell_type": "code",
   "execution_count": 31,
   "id": "e7cd0a0d",
   "metadata": {},
   "outputs": [
    {
     "data": {
      "text/plain": [
       "R version 4.1.2 (2021-11-01)\n",
       "Platform: x86_64-conda-linux-gnu (64-bit)\n",
       "Running under: Rocky Linux 8.7 (Green Obsidian)\n",
       "\n",
       "Matrix products: default\n",
       "BLAS/LAPACK: /fast/work/users/twei_m/miniconda/envs/sc/lib/libopenblasp-r0.3.18.so\n",
       "\n",
       "locale:\n",
       " [1] LC_CTYPE=en_US.UTF-8       LC_NUMERIC=C              \n",
       " [3] LC_TIME=en_US.UTF-8        LC_COLLATE=en_US.UTF-8    \n",
       " [5] LC_MONETARY=en_US.UTF-8    LC_MESSAGES=en_US.UTF-8   \n",
       " [7] LC_PAPER=en_US.UTF-8       LC_NAME=C                 \n",
       " [9] LC_ADDRESS=C               LC_TELEPHONE=C            \n",
       "[11] LC_MEASUREMENT=en_US.UTF-8 LC_IDENTIFICATION=C       \n",
       "\n",
       "attached base packages:\n",
       "[1] stats     graphics  grDevices utils     datasets  methods   base     \n",
       "\n",
       "other attached packages:\n",
       " [1] SeuratObject_4.1.3 Seurat_4.3.0       infercnv_1.10.1    rhdf5_2.38.1      \n",
       " [5] cowplot_1.1.1      patchwork_1.1.2    forcats_1.0.0      stringr_1.5.0     \n",
       " [9] dplyr_1.1.2        purrr_1.0.1        readr_2.1.3        tidyr_1.3.0       \n",
       "[13] tibble_3.2.1       ggplot2_3.4.2      tidyverse_1.3.2   \n",
       "\n",
       "loaded via a namespace (and not attached):\n",
       "  [1] utf8_1.2.3                  spatstat.explore_3.2-1     \n",
       "  [3] reticulate_1.28             tidyselect_1.2.0           \n",
       "  [5] htmlwidgets_1.6.2           grid_4.1.2                 \n",
       "  [7] Rtsne_0.16                  munsell_0.5.0              \n",
       "  [9] codetools_0.2-18            ica_1.0-3                  \n",
       " [11] pbdZMQ_0.3-7                future_1.32.0              \n",
       " [13] miniUI_0.1.1.1              withr_2.5.0                \n",
       " [15] spatstat.random_3.1-5       argparse_2.1.6             \n",
       " [17] colorspace_2.1-0            progressr_0.13.0           \n",
       " [19] Biobase_2.54.0              uuid_1.1-0                 \n",
       " [21] stats4_4.1.2                SingleCellExperiment_1.16.0\n",
       " [23] ROCR_1.0-11                 tensor_1.5                 \n",
       " [25] listenv_0.9.0               MatrixGenerics_1.6.0       \n",
       " [27] repr_1.1.4                  GenomeInfoDbData_1.2.7     \n",
       " [29] polyclip_1.10-4             coda_0.19-4                \n",
       " [31] parallelly_1.35.0           vctrs_0.6.2                \n",
       " [33] generics_0.1.3              TH.data_1.1-1              \n",
       " [35] lambda.r_1.2.4              timechange_0.2.0           \n",
       " [37] fastcluster_1.2.3           R6_2.5.1                   \n",
       " [39] doParallel_1.0.17           GenomeInfoDb_1.30.1        \n",
       " [41] locfit_1.5-9.6              bitops_1.0-7               \n",
       " [43] rhdf5filters_1.6.0          spatstat.utils_3.0-3       \n",
       " [45] reshape_0.8.9               DelayedArray_0.20.0        \n",
       " [47] assertthat_0.2.1            promises_1.2.0.1           \n",
       " [49] scales_1.2.1                multcomp_1.4-20            \n",
       " [51] googlesheets4_1.0.1         gtable_0.3.3               \n",
       " [53] globals_0.16.2              goftest_1.2-3              \n",
       " [55] sandwich_3.0-2              rlang_1.1.1                \n",
       " [57] splines_4.1.2               lazyeval_0.2.2             \n",
       " [59] gargle_1.2.1                spatstat.geom_3.2-1        \n",
       " [61] rjags_4-13                  broom_1.0.4                \n",
       " [63] abind_1.4-5                 reshape2_1.4.4             \n",
       " [65] modelr_0.1.9                backports_1.4.1            \n",
       " [67] httpuv_1.6.11               tools_4.1.2                \n",
       " [69] ellipsis_0.3.2              gplots_3.1.3               \n",
       " [71] RColorBrewer_1.1-3          BiocGenerics_0.40.0        \n",
       " [73] phyclust_0.1-30             ggridges_0.5.4             \n",
       " [75] Rcpp_1.0.10                 plyr_1.8.8                 \n",
       " [77] base64enc_0.1-3             zlibbioc_1.40.0            \n",
       " [79] RCurl_1.98-1.9              deldir_1.0-9               \n",
       " [81] pbapply_1.7-0               S4Vectors_0.32.4           \n",
       " [83] zoo_1.8-12                  SummarizedExperiment_1.24.0\n",
       " [85] haven_2.5.1                 ggrepel_0.9.3              \n",
       " [87] cluster_2.1.4               fs_1.6.2                   \n",
       " [89] magrittr_2.0.3              data.table_1.14.8          \n",
       " [91] futile.options_1.0.1        scattermore_1.1            \n",
       " [93] lmtest_0.9-40               reprex_2.0.2               \n",
       " [95] RANN_2.6.1                  googledrive_2.0.0          \n",
       " [97] mvtnorm_1.1-3               fitdistrplus_1.1-11        \n",
       " [99] matrixStats_0.63.0          hms_1.1.2                  \n",
       "[101] mime_0.12                   evaluate_0.21              \n",
       "[103] xtable_1.8-4                readxl_1.4.2               \n",
       "[105] IRanges_2.28.0              gridExtra_2.3              \n",
       "[107] compiler_4.1.2              KernSmooth_2.23-20         \n",
       "[109] crayon_1.5.2                htmltools_0.5.5            \n",
       "[111] later_1.3.1                 tzdb_0.4.0                 \n",
       "[113] libcoin_1.0-9               lubridate_1.9.2            \n",
       "[115] DBI_1.1.3                   formatR_1.12               \n",
       "[117] dbplyr_2.2.1                MASS_7.3-58.1              \n",
       "[119] Matrix_1.5-1                cli_3.6.1                  \n",
       "[121] parallel_4.1.2              igraph_1.4.3               \n",
       "[123] GenomicRanges_1.46.1        pkgconfig_2.0.3            \n",
       "[125] coin_1.4-2                  sp_1.6-0                   \n",
       "[127] spatstat.sparse_3.0-1       IRdisplay_1.1              \n",
       "[129] plotly_4.10.1               xml2_1.3.3                 \n",
       "[131] foreach_1.5.2               XVector_0.34.0             \n",
       "[133] rvest_1.0.3                 digest_0.6.31              \n",
       "[135] sctransform_0.3.5           RcppAnnoy_0.0.20           \n",
       "[137] spatstat.data_3.0-1         cellranger_1.1.0           \n",
       "[139] leiden_0.4.3                uwot_0.1.14                \n",
       "[141] edgeR_3.36.0                shiny_1.7.4                \n",
       "[143] gtools_3.9.4                modeltools_0.2-23          \n",
       "[145] lifecycle_1.0.3             nlme_3.1-159               \n",
       "[147] jsonlite_1.8.4              Rhdf5lib_1.16.0            \n",
       "[149] futile.logger_1.4.3         viridisLite_0.4.2          \n",
       "[151] limma_3.50.3                fansi_1.0.4                \n",
       "[153] pillar_1.9.0                lattice_0.20-45            \n",
       "[155] fastmap_1.1.1               httr_1.4.6                 \n",
       "[157] survival_3.4-0              glue_1.6.2                 \n",
       "[159] png_0.1-8                   iterators_1.0.14           \n",
       "[161] stringi_1.7.12              caTools_1.18.2             \n",
       "[163] IRkernel_1.3                irlba_2.3.5.1              \n",
       "[165] future.apply_1.11.0         ape_5.6-2                  "
      ]
     },
     "metadata": {},
     "output_type": "display_data"
    }
   ],
   "source": [
    "sessionInfo()"
   ]
  },
  {
   "cell_type": "code",
   "execution_count": 3,
   "id": "d01c6328",
   "metadata": {},
   "outputs": [
    {
     "data": {
      "text/html": [
       "'/fast/work/projects/scCRC_Patients/scitcem/script_new_preprocessing'"
      ],
      "text/latex": [
       "'/fast/work/projects/scCRC\\_Patients/scitcem/script\\_new\\_preprocessing'"
      ],
      "text/markdown": [
       "'/fast/work/projects/scCRC_Patients/scitcem/script_new_preprocessing'"
      ],
      "text/plain": [
       "[1] \"/fast/work/projects/scCRC_Patients/scitcem/script_new_preprocessing\""
      ]
     },
     "metadata": {},
     "output_type": "display_data"
    }
   ],
   "source": [
    "getwd()"
   ]
  },
  {
   "cell_type": "code",
   "execution_count": 9,
   "id": "93efcd57",
   "metadata": {},
   "outputs": [],
   "source": [
    "adata_h5 = H5Fopen(\"../datasets_new_preprocessing/202305_CB_all_cells.h5\")"
   ]
  },
  {
   "cell_type": "code",
   "execution_count": 6,
   "id": "fec8a309",
   "metadata": {},
   "outputs": [
    {
     "name": "stderr",
     "output_type": "stream",
     "text": [
      "Warning message:\n",
      "“Keys should be one or more alphanumeric characters followed by an underscore, setting key from raw_counts_ to rawcounts_”\n"
     ]
    }
   ],
   "source": [
    "adata_all = read_scanpy_h5('../datasets_new_preprocessing/202305_CB_all_cells.h5',\n",
    "                           if_pca = TRUE, if_umap = TRUE, if_CB_counts=TRUE, if_raw_counts=FALSE)"
   ]
  },
  {
   "cell_type": "code",
   "execution_count": 97,
   "id": "1d583851",
   "metadata": {},
   "outputs": [
    {
     "data": {
      "text/html": [
       "<style>\n",
       ".list-inline {list-style: none; margin:0; padding: 0}\n",
       ".list-inline>li {display: inline-block}\n",
       ".list-inline>li:not(:last-child)::after {content: \"\\00b7\"; padding: 0 .5ex}\n",
       "</style>\n",
       "<ol class=list-inline><li>'RNA'</li><li>'raw_counts'</li></ol>\n"
      ],
      "text/latex": [
       "\\begin{enumerate*}\n",
       "\\item 'RNA'\n",
       "\\item 'raw\\_counts'\n",
       "\\end{enumerate*}\n"
      ],
      "text/markdown": [
       "1. 'RNA'\n",
       "2. 'raw_counts'\n",
       "\n",
       "\n"
      ],
      "text/plain": [
       "[1] \"RNA\"        \"raw_counts\""
      ]
     },
     "metadata": {},
     "output_type": "display_data"
    }
   ],
   "source": [
    "Assays(adata_all)"
   ]
  },
  {
   "cell_type": "code",
   "execution_count": null,
   "id": "076cadda",
   "metadata": {},
   "outputs": [],
   "source": [
    "saveRDS(adata_all@assays$raw_counts@counts, '../datasets_new_preprocessing/all_cell_CB_counts.rds')"
   ]
  },
  {
   "cell_type": "code",
   "execution_count": 98,
   "id": "30ac9d6d",
   "metadata": {},
   "outputs": [],
   "source": [
    "# get cell type label\n",
    "cat = c(adata_h5$obs$'celltype_1a'$categories)\n",
    "cat_obs = data.frame(cat_name = cat[apply(adata_h5$obs$'celltype_1a'$codes, 1, function(x)x+1)],\n",
    "                                              row.names = adata_h5$obs$`_index`)\n",
    "\n",
    "adata_all = AddMetaData(object = adata_all, metadata = cat_obs, col.name = 'celltype_1a')"
   ]
  },
  {
   "cell_type": "code",
   "execution_count": 99,
   "id": "7514c840",
   "metadata": {},
   "outputs": [],
   "source": [
    "# get sample label\n",
    "cat = c(adata_h5$obs$'sample'$categories)\n",
    "cat_obs = data.frame(cat_name = cat[apply(adata_h5$obs$'sample'$codes, 1, function(x)x+1)],\n",
    "                                              row.names = adata_h5$obs$`_index`)\n",
    "\n",
    "adata_all = AddMetaData(object = adata_all, metadata = cat_obs, col.name = 'sample')"
   ]
  },
  {
   "cell_type": "code",
   "execution_count": 100,
   "id": "396794bd",
   "metadata": {},
   "outputs": [],
   "source": [
    "adata_epi = subset(x = adata_all, subset = celltype_1a == 'epi')"
   ]
  },
  {
   "cell_type": "code",
   "execution_count": null,
   "id": "57009ebf",
   "metadata": {},
   "outputs": [],
   "source": [
    "saveRDS(adata_epi@assays$raw_counts@counts, '../datasets_new_preprocessing/all_epi_cell_CB_counts.rds')"
   ]
  },
  {
   "cell_type": "code",
   "execution_count": 7,
   "id": "e0a4645c",
   "metadata": {},
   "outputs": [],
   "source": [
    "h5closeAll()"
   ]
  },
  {
   "cell_type": "code",
   "execution_count": null,
   "id": "8fc15038",
   "metadata": {},
   "outputs": [],
   "source": [
    "# epi in tumour assume as malignant_{patient} for inferCNV internal clustering\n",
    "adata_all@meta.data[c('sample','celltype_1a')] = adata_all@meta.data[c('sample','celltype_1a')] %>% \n",
    "mutate(celltype_1a = case_when((celltype_1a == 'epi' & grepl('t', sample)) ~ paste0('malignant_',sample),\n",
    "                               TRUE ~ celltype_1a))"
   ]
  },
  {
   "cell_type": "code",
   "execution_count": null,
   "id": "ba6759bb",
   "metadata": {},
   "outputs": [],
   "source": [
    "write.table(adata_all@meta.data['celltype_1a'], '../datasets_new_preprocessing/all_cell_anno.txt', \n",
    "            row.names = TRUE)"
   ]
  },
  {
   "cell_type": "code",
   "execution_count": null,
   "id": "5861c1ec",
   "metadata": {},
   "outputs": [],
   "source": [
    "rm(adata_all)"
   ]
  },
  {
   "cell_type": "code",
   "execution_count": 104,
   "id": "dfda0687",
   "metadata": {},
   "outputs": [],
   "source": [
    "# epi in tumour assume as malignant_{patient} for inferCNV internal clustering\n",
    "adata_epi@meta.data[c('sample','celltype_1a')] = adata_epi@meta.data[c('sample','celltype_1a')] %>% \n",
    "mutate(celltype_1a = case_when((celltype_1a == 'epi' & grepl('t', sample)) ~ paste0('malignant_',sample),\n",
    "                               TRUE ~ celltype_1a))"
   ]
  },
  {
   "cell_type": "code",
   "execution_count": null,
   "id": "11603c1f",
   "metadata": {},
   "outputs": [],
   "source": [
    "write.table(adata_epi@meta.data['celltype_1a'], '../datasets_new_preprocessing/all_epi_cell_anno.txt', \n",
    "            row.names = TRUE)"
   ]
  },
  {
   "cell_type": "code",
   "execution_count": 12,
   "id": "096d6bf0",
   "metadata": {},
   "outputs": [
    {
     "name": "stdout",
     "output_type": "stream",
     "text": [
      "INFO [2023-05-22 15:03:52] Parsing gene order file: ../datasets/gencode_v21_gen_pos.complete.txt\n",
      "INFO [2023-05-22 15:03:52] ::order_reduce:Start.\n",
      "INFO [2023-05-22 15:03:55] .order_reduce(): expr and order match.\n",
      "INFO [2023-05-22 15:04:13] ::process_data:order_reduce:Reduction from positional data, new dimensions (r,c) = 29667,75097 Total=1011772672 Min=0 Max=52153.\n",
      "INFO [2023-05-22 15:04:15] num genes removed taking into account provided gene ordering list: 9018 = 30.397411265042% removed.\n",
      "INFO [2023-05-22 15:04:15] -filtering out cells < 100 or > Inf, removing 0 % of cells\n",
      "INFO [2023-05-22 15:04:29] validating infercnv_obj\n"
     ]
    }
   ],
   "source": [
    "# create the infercnv object\n",
    "infercnv_obj = CreateInfercnvObject(raw_counts_matrix=adata_epi@assays$raw_counts@counts,\n",
    "                                    annotations_file=adata_epi@meta.data['celltype_1a'],\n",
    "                                    delim=\"\\t\",\n",
    "                                    gene_order_file=\"../datasets/gencode_v21_gen_pos.complete.txt\",\n",
    "                                    ref_group_names=c(\"epi\"))"
   ]
  },
  {
   "cell_type": "code",
   "execution_count": 13,
   "id": "69cbe4ec",
   "metadata": {},
   "outputs": [
    {
     "name": "stdout",
     "output_type": "stream",
     "text": [
      "INFO [2023-05-22 15:04:29] ::process_data:Start\n",
      "INFO [2023-05-22 15:04:29] Checking for saved results.\n",
      "INFO [2023-05-22 15:04:29] \n",
      "\n",
      "\tSTEP 1: incoming data\n",
      "\n",
      "INFO [2023-05-22 15:07:52] \n",
      "\n",
      "\tSTEP 02: Removing lowly expressed genes\n",
      "\n",
      "INFO [2023-05-22 15:07:52] ::above_min_mean_expr_cutoff:Start\n",
      "INFO [2023-05-22 15:08:00] Removing 11842 genes from matrix as below mean expr threshold: 0.1\n",
      "INFO [2023-05-22 15:08:07] validating infercnv_obj\n",
      "INFO [2023-05-22 15:08:07] There are 8807 genes and 75097 cells remaining in the expr matrix.\n"
     ]
    },
    {
     "name": "stderr",
     "output_type": "stream",
     "text": [
      "Warning message in asMethod(object):\n",
      "“sparse->dense coercion: allocating vector of size 4.9 GiB”\n"
     ]
    },
    {
     "name": "stdout",
     "output_type": "stream",
     "text": [
      "INFO [2023-05-22 15:08:52] no genes removed due to min cells/gene filter\n",
      "INFO [2023-05-22 15:12:08] \n",
      "\n",
      "\tSTEP 03: normalization by sequencing depth\n",
      "\n",
      "INFO [2023-05-22 15:12:08] normalizing counts matrix by depth\n"
     ]
    },
    {
     "name": "stderr",
     "output_type": "stream",
     "text": [
      "Warning message in asMethod(object):\n",
      "“sparse->dense coercion: allocating vector of size 4.9 GiB”\n"
     ]
    },
    {
     "name": "stdout",
     "output_type": "stream",
     "text": [
      "INFO [2023-05-22 15:12:41] Computed total sum normalization factor as median libsize: 6779.000000\n",
      "INFO [2023-05-22 15:12:41] Adding h-spike\n",
      "INFO [2023-05-22 15:12:41] -hspike modeling of imm\n"
     ]
    },
    {
     "name": "stderr",
     "output_type": "stream",
     "text": [
      "Warning message in asMethod(object):\n",
      "“sparse->dense coercion: allocating vector of size 2.2 GiB”\n",
      "Warning message in asMethod(object):\n",
      "“sparse->dense coercion: allocating vector of size 2.2 GiB”\n",
      "Warning message in asMethod(object):\n",
      "“sparse->dense coercion: allocating vector of size 2.2 GiB”\n",
      "Warning message in asMethod(object):\n",
      "“sparse->dense coercion: allocating vector of size 2.2 GiB”\n"
     ]
    },
    {
     "name": "stdout",
     "output_type": "stream",
     "text": [
      "INFO [2023-05-22 15:16:40] -hspike modeling of str\n"
     ]
    },
    {
     "name": "stderr",
     "output_type": "stream",
     "text": [
      "Warning message in asMethod(object):\n",
      "“sparse->dense coercion: allocating vector of size 2.2 GiB”\n",
      "Warning message in asMethod(object):\n",
      "“sparse->dense coercion: allocating vector of size 2.2 GiB”\n",
      "Warning message in asMethod(object):\n",
      "“sparse->dense coercion: allocating vector of size 2.2 GiB”\n",
      "Warning message in asMethod(object):\n",
      "“sparse->dense coercion: allocating vector of size 2.2 GiB”\n"
     ]
    },
    {
     "name": "stdout",
     "output_type": "stream",
     "text": [
      "INFO [2023-05-22 15:20:35] validating infercnv_obj\n",
      "INFO [2023-05-22 15:20:35] normalizing counts matrix by depth\n",
      "INFO [2023-05-22 15:20:35] Using specified normalization factor: 6779.000000\n",
      "INFO [2023-05-22 15:23:41] \n",
      "\n",
      "\tSTEP 04: log transformation of data\n",
      "\n",
      "INFO [2023-05-22 15:23:41] transforming log2xplus1()\n"
     ]
    },
    {
     "name": "stderr",
     "output_type": "stream",
     "text": [
      "Warning message in asMethod(object):\n",
      "“sparse->dense coercion: allocating vector of size 4.9 GiB”\n"
     ]
    }
   ],
   "source": [
    "# perform infercnv operations to reveal cnv signal\n",
    "# infercnv will pick up where it left, remember to clean up the repo\n",
    "infercnv_obj = infercnv::run(infercnv_obj,\n",
    "                             cutoff=0.1,  # use 1 for smart-seq, 0.1 for 10x-genomics\n",
    "                             out_dir=\"../datasets_new_preprocessing/inferCNV/\",  # dir is auto-created for storing outputs\n",
    "                             cluster_by_groups=TRUE,   # cluster\n",
    "                             denoise=FALSE,\n",
    "                             HMM=FALSE,\n",
    "                             num_threads=16\n",
    "                             )"
   ]
  },
  {
   "cell_type": "markdown",
   "id": "af0ad66e",
   "metadata": {},
   "source": [
    "saveRDS(infercnv_obj@expr.data, '../datasets_new_preprocessing/inferCNV/inferCNV_expression_data.rds')"
   ]
  }
 ],
 "metadata": {
  "kernelspec": {
   "display_name": "R",
   "language": "R",
   "name": "ir"
  },
  "language_info": {
   "codemirror_mode": "r",
   "file_extension": ".r",
   "mimetype": "text/x-r-source",
   "name": "R",
   "pygments_lexer": "r",
   "version": "4.1.2"
  }
 },
 "nbformat": 4,
 "nbformat_minor": 5
}
