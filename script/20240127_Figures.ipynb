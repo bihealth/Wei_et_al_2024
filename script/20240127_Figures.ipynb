{
 "cells": [
  {
   "cell_type": "code",
   "execution_count": null,
   "id": "e7ddb0f2",
   "metadata": {},
   "outputs": [],
   "source": [
    "import os\n",
    "import sys\n",
    "print(\"Python version\" + sys.version)\n",
    "os.getcwd()\n",
    "print(sys.executable)"
   ]
  },
  {
   "cell_type": "code",
   "execution_count": null,
   "id": "e44ae202",
   "metadata": {},
   "outputs": [],
   "source": [
    "import numpy as np\n",
    "np.random.seed(123)\n",
    "import pandas as pd\n",
    "import scipy\n",
    "import itertools\n",
    "\n",
    "import umap\n",
    "import matplotlib.pyplot as plt\n",
    "%matplotlib inline\n",
    "\n",
    "import seaborn as sns\n",
    "\n",
    "import scanpy as sc\n",
    "import anndata as ad\n",
    "import scvelo as scv\n",
    "\n",
    "from tqdm.notebook import tqdm\n",
    "\n",
    "from pathlib import Path\n",
    "\n",
    "TF_ENABLE_ONEDNN_OPTS=0"
   ]
  },
  {
   "cell_type": "code",
   "execution_count": null,
   "id": "98a83328",
   "metadata": {},
   "outputs": [],
   "source": [
    "import cellrank as cr\n",
    "from cellrank.kernels import CytoTRACEKernel"
   ]
  },
  {
   "cell_type": "code",
   "execution_count": null,
   "id": "f2dc6e67",
   "metadata": {},
   "outputs": [],
   "source": [
    "cr.__version__"
   ]
  },
  {
   "cell_type": "code",
   "execution_count": null,
   "id": "a14b938c",
   "metadata": {},
   "outputs": [],
   "source": [
    "import scanpy.external as sce"
   ]
  },
  {
   "cell_type": "code",
   "execution_count": null,
   "id": "baf1a23c",
   "metadata": {},
   "outputs": [],
   "source": [
    "from sklearn.metrics.cluster import adjusted_rand_score, homogeneity_completeness_v_measure, adjusted_mutual_info_score\n",
    "from sklearn.metrics import silhouette_samples, silhouette_score"
   ]
  },
  {
   "cell_type": "code",
   "execution_count": null,
   "id": "551d0667",
   "metadata": {},
   "outputs": [],
   "source": [
    "sc.settings.verbosity = 1\n",
    "sc.logging.print_header()\n",
    "sc.settings.set_figure_params(dpi=300, facecolor='white')"
   ]
  },
  {
   "cell_type": "code",
   "execution_count": null,
   "id": "fe0b441b",
   "metadata": {},
   "outputs": [],
   "source": [
    "# remove weird grid from scvelo\n",
    "plt.rcParams['axes.grid'] = False"
   ]
  },
  {
   "cell_type": "code",
   "execution_count": null,
   "id": "bbb5d01a",
   "metadata": {},
   "outputs": [],
   "source": [
    "from matplotlib_inline.backend_inline import set_matplotlib_formats\n",
    "set_matplotlib_formats('svg', dpi = 300)"
   ]
  },
  {
   "cell_type": "code",
   "execution_count": null,
   "id": "13b035af",
   "metadata": {},
   "outputs": [],
   "source": [
    "plt.rcParams['svg.fonttype'] = 'none'\n",
    "plt.rcParams['font.family'] = 'DejaVu Sans'\n",
    "plt.rcParams['font.size'] = '8'"
   ]
  },
  {
   "cell_type": "code",
   "execution_count": null,
   "id": "2e250abc",
   "metadata": {},
   "outputs": [],
   "source": [
    "# revised from Stefan's cell type signature\n",
    "signatures_path_ = '../cell_type_from_stefan/scrnaseq_signature_collection/'\n",
    "from score_and_classify import *"
   ]
  },
  {
   "cell_type": "code",
   "execution_count": null,
   "id": "231d485d",
   "metadata": {},
   "outputs": [],
   "source": [
    "# for using R plotting\n",
    "%load_ext rpy2.ipython"
   ]
  },
  {
   "cell_type": "code",
   "execution_count": null,
   "id": "db8b7ba0",
   "metadata": {},
   "outputs": [],
   "source": [
    "%%R\n",
    "\n",
    "# R setting\n",
    "suppressMessages(library('tidyverse'))\n",
    "suppressMessages(library('grid'))\n",
    "suppressMessages(library('ComplexUpset'))\n",
    "suppressMessages(library('ggvenn'))\n",
    "suppressMessages(library('lme4'))\n",
    "suppressMessages(library('ggpubr'))\n",
    "\n",
    "\n",
    "plot_theme_font_size = function(fontsize = 8){\n",
    "    plot_theme =  theme(title = element_text(size = fontsize, family = \"dajavu sans\", colour = 'black', hjust = 0.5),\n",
    "                   axis.title = element_text(size = fontsize, family = \"dajavu sans\", colour = 'black'),\n",
    "                   axis.text = element_text(size = fontsize, family = \"dajavu sans\", colour = 'black'),\n",
    "                   legend.title =  element_text(size = fontsize, family = \"dajavu sans\", colour = 'black'),\n",
    "                   legend.text=element_text(size=fontsize, family = \"dajavu sans\", colour = 'black'),\n",
    "                   text = element_text(size = fontsize, family = \"dajavu sans\", colour = 'black'),\n",
    "                   strip.text = element_text(size = fontsize, family = \"dajavu sans\", colour = 'black'),\n",
    "                   plot.margin = margin(0,0,0,0,\"cm\")) \n",
    "    plot_theme\n",
    "}"
   ]
  },
  {
   "cell_type": "code",
   "execution_count": null,
   "id": "bf83e7f9",
   "metadata": {},
   "outputs": [],
   "source": [
    "new_data_folder = '/fast/users/twei_m/work/crc/datasets_new_preprocessing'"
   ]
  },
  {
   "cell_type": "code",
   "execution_count": null,
   "id": "37ad6cdb",
   "metadata": {},
   "outputs": [],
   "source": [
    "adata_all = sc.read(Path(new_data_folder)/'202401_adata_all_consensus_call_with_TC.h5')"
   ]
  },
  {
   "cell_type": "code",
   "execution_count": null,
   "id": "8541f83e",
   "metadata": {},
   "outputs": [],
   "source": [
    "adata_epi = sc.read(Path(new_data_folder)/'202401_adata_epi_consensus_call_with_TC.h5')"
   ]
  },
  {
   "cell_type": "code",
   "execution_count": null,
   "id": "160d3df1",
   "metadata": {},
   "outputs": [],
   "source": [
    "adata_all_noTC_cleanCI = sc.read(Path(new_data_folder)/'202401_adata_all_consensus_call_no_TC.h5')"
   ]
  },
  {
   "cell_type": "code",
   "execution_count": null,
   "id": "6d3b973a",
   "metadata": {},
   "outputs": [],
   "source": [
    "adata_epi_noTC_cleanCI = sc.read(Path(new_data_folder)/'202401_adata_epi_consensus_call_no_TC.h5')"
   ]
  },
  {
   "cell_type": "code",
   "execution_count": null,
   "id": "f041501e",
   "metadata": {},
   "outputs": [],
   "source": [
    "Uhlitz_scANVI_noTC_color_list_after = ['#00CCFF', '#0072b1',\n",
    "                                              '#FF9900',\n",
    "                                              '#990099', '#660099',\n",
    "                                              '#999900', '#336600']\n",
    "# no Tumour-like"
   ]
  },
  {
   "cell_type": "code",
   "execution_count": null,
   "id": "69202627",
   "metadata": {},
   "outputs": [],
   "source": [
    "adata_epi.shape"
   ]
  },
  {
   "cell_type": "code",
   "execution_count": null,
   "id": "06cb0381",
   "metadata": {},
   "outputs": [],
   "source": [
    "adata_epi[(adata_epi.obs['Uhlitz_scANVI_noTC'] != 'Tumour-like (normal_sample)')].shape"
   ]
  },
  {
   "cell_type": "code",
   "execution_count": null,
   "id": "661caa25",
   "metadata": {},
   "outputs": [],
   "source": [
    "39168-37670"
   ]
  },
  {
   "cell_type": "markdown",
   "id": "8e5fded3",
   "metadata": {},
   "source": [
    "### Fig4A"
   ]
  },
  {
   "cell_type": "code",
   "execution_count": null,
   "id": "040a396d",
   "metadata": {},
   "outputs": [],
   "source": [
    "fig = sc.pl.umap(adata_epi_noTC_cleanCI, \n",
    "                 color=['louvain'], \n",
    "               ncols=3, legend_loc='on data', size = 2, \n",
    "               frameon = False, return_fig=True)\n"
   ]
  },
  {
   "cell_type": "markdown",
   "id": "da3b7f73",
   "metadata": {},
   "source": [
    "### Fig4C"
   ]
  },
  {
   "cell_type": "code",
   "execution_count": null,
   "id": "43d21d33",
   "metadata": {},
   "outputs": [],
   "source": [
    "ari_sample = adata_epi_noTC_cleanCI.obs['sample_origin'].copy()"
   ]
  },
  {
   "cell_type": "code",
   "execution_count": null,
   "id": "a589cb6d",
   "metadata": {},
   "outputs": [],
   "source": [
    "ari_ci = adata_epi_noTC_cleanCI.obs['cell_identity'].copy()\n",
    "ari_ci = ari_ci.astype('str').replace('genomically_normal', 'normal_sample') # only 2 labels: GT and NN"
   ]
  },
  {
   "cell_type": "code",
   "execution_count": null,
   "id": "e26252b9",
   "metadata": {},
   "outputs": [],
   "source": [
    "ari_icms = adata_epi_noTC_cleanCI.obs['iCMS_scANVI'].copy()\n",
    "ari_icms = ari_icms.astype(str).replace('iCMS3\\n(tumour sample)', \n",
    "                             'iCMS2\\n(tumour sample)').replace('normal\\n(tumour sample)',\n",
    "                                                               'normal_sample')"
   ]
  },
  {
   "cell_type": "code",
   "execution_count": null,
   "id": "52c7ddb5",
   "metadata": {},
   "outputs": [],
   "source": [
    "ari_infercnv = adata_epi_noTC_cleanCI.obs['inferCNV_result'].copy()\n",
    "ari_infercnv = ari_infercnv.astype(str).replace('failed_sample', \n",
    "                             'CNA\\n(tumour sample)').replace('CNN\\n(tumour sample)',\n",
    "                                                               'normal sample')"
   ]
  },
  {
   "cell_type": "code",
   "execution_count": null,
   "id": "cc85022b",
   "metadata": {},
   "outputs": [],
   "source": [
    "ari_scitcem = adata_epi_noTC_cleanCI.obs['scitcem_call'].copy()\n",
    "ari_scitcem = ari_scitcem.astype(str).replace('normal\\n(tumour sample)', \n",
    "                             'normal_sample')"
   ]
  },
  {
   "cell_type": "code",
   "execution_count": null,
   "id": "c36dedab",
   "metadata": {},
   "outputs": [],
   "source": [
    "ari_numbat = adata_epi_noTC_cleanCI.obs['numbat'].copy()\n",
    "ari_numbat = ari_numbat.astype(str).replace('normal\\n(tumour sample)', \n",
    "                             'normal_sample')"
   ]
  },
  {
   "cell_type": "code",
   "execution_count": null,
   "id": "7f6d976d",
   "metadata": {},
   "outputs": [],
   "source": [
    "ARI_res = [adjusted_rand_score(labels_true = adata_epi_noTC_cleanCI.obs['louvain'], \n",
    "                              labels_pred = i)\n",
    "for i in [ari_sample, ari_infercnv, ari_icms, ari_scitcem, ari_numbat, ari_ci]]"
   ]
  },
  {
   "cell_type": "code",
   "execution_count": null,
   "id": "f9907fba",
   "metadata": {},
   "outputs": [],
   "source": [
    "AMI_res = [adjusted_mutual_info_score(labels_true = adata_epi_noTC_cleanCI.obs['louvain'], \n",
    "                              labels_pred = i)\n",
    "for i in [ari_sample, ari_infercnv, ari_icms, ari_scitcem, ari_numbat, ari_ci]]"
   ]
  },
  {
   "cell_type": "code",
   "execution_count": null,
   "id": "b6d46532",
   "metadata": {},
   "outputs": [],
   "source": [
    "HCV_res = [homogeneity_completeness_v_measure(labels_true = adata_epi_noTC_cleanCI.obs['louvain'], \n",
    "                              labels_pred = i)\n",
    "for i in [ari_sample, ari_infercnv, ari_icms, ari_scitcem, ari_numbat, ari_ci]]\n",
    "#V is identical to normalized_mutual_info_score with the 'arithmetic' option for averaging."
   ]
  },
  {
   "cell_type": "code",
   "execution_count": null,
   "id": "9af640c8",
   "metadata": {},
   "outputs": [],
   "source": [
    "S_pca_res = [silhouette_score(X = adata_epi_noTC_cleanCI.obsm['X_pca'], labels = i)\n",
    "for i in [ari_sample, ari_infercnv, ari_icms, ari_scitcem, ari_numbat, ari_ci]]"
   ]
  },
  {
   "cell_type": "code",
   "execution_count": null,
   "id": "77bebf0e",
   "metadata": {},
   "outputs": [],
   "source": [
    "S_umap_res = [silhouette_score(X = adata_epi_noTC_cleanCI.obsm['X_umap'], labels = i)\n",
    "for i in [ari_sample, ari_infercnv, ari_icms, ari_scitcem, ari_numbat, ari_ci]]"
   ]
  },
  {
   "cell_type": "code",
   "execution_count": null,
   "id": "0c0beeee",
   "metadata": {},
   "outputs": [],
   "source": [
    "HCV_res_reshape = np.concatenate(HCV_res).reshape(6,3).transpose()"
   ]
  },
  {
   "cell_type": "code",
   "execution_count": null,
   "id": "ea45fb3e",
   "metadata": {},
   "outputs": [],
   "source": [
    "#long format\n",
    "cluster_eval_df = pd.DataFrame({'Label':['sample\\norigin', 'inferCNV', 'iCMS','Scitcem', 'Numbat','consensus\\ncall'],\n",
    "             'Adjusted Rand Index': ARI_res,\n",
    "             'Adjusted Mutual Information': AMI_res,\n",
    "             'Homogeneity': HCV_res_reshape[0],\n",
    "             'Completeness': HCV_res_reshape[1],\n",
    "             'Silhouette (PCA)':S_pca_res,\n",
    "             'Silhouette (UMAP)':S_umap_res}\n",
    "             )"
   ]
  },
  {
   "cell_type": "code",
   "execution_count": null,
   "id": "035d544f",
   "metadata": {},
   "outputs": [],
   "source": [
    "cluster_eval_df_long = pd.melt(cluster_eval_df, 'Label', var_name='Metrics', value_name='Score')"
   ]
  },
  {
   "cell_type": "code",
   "execution_count": null,
   "id": "27fe5c6c",
   "metadata": {},
   "outputs": [],
   "source": [
    "with plt.style.context('./plt_style'):\n",
    "    plt.figure(figsize = (10,5))\n",
    "\n",
    "    sns.barplot(data = cluster_eval_df_long[cluster_eval_df_long['Metrics'] == 'Homogeneity'], \n",
    "                      x = 'Label', y = 'Score',\n",
    "                palette = ['#808080'])\n",
    "    #'#f57379','#f5d107', '#228b22', '#47a2ed'\n",
    "    plt.ylabel(\"Cluster homogeneity score\")\n",
    "    #sns.move_legend(ax, \"upper right\", bbox_to_anchor=(1.5, 1.0), \n",
    "    #                frameon=False)\n",
    "\n",
    ";"
   ]
  },
  {
   "cell_type": "code",
   "execution_count": null,
   "id": "e82f5f22",
   "metadata": {},
   "outputs": [],
   "source": []
  },
  {
   "cell_type": "code",
   "execution_count": null,
   "id": "36b31b06",
   "metadata": {},
   "outputs": [],
   "source": []
  },
  {
   "cell_type": "code",
   "execution_count": null,
   "id": "157e40b6",
   "metadata": {},
   "outputs": [],
   "source": []
  },
  {
   "cell_type": "markdown",
   "id": "d43ac6be",
   "metadata": {},
   "source": [
    "### Fig4D"
   ]
  },
  {
   "cell_type": "code",
   "execution_count": null,
   "id": "bafff0e3",
   "metadata": {},
   "outputs": [],
   "source": [
    "cell_identity_list_clean = adata_epi_noTC_cleanCI.obs[[\n",
    "    'cell_identity', 'sample_cap', 'sample_origin','patient','Uhlitz_scANVI', 'Uhlitz_scANVI_noTC', 'louvain']]"
   ]
  },
  {
   "cell_type": "code",
   "execution_count": null,
   "id": "897c2cca",
   "metadata": {},
   "outputs": [],
   "source": [
    "%%R -i cell_identity_list_clean,Uhlitz_scANVI_noTC_color_list_after -w 1000 -h 500 -r 200\n",
    "\n",
    "# cell type differences in genomically normal vs normal samples\n",
    "\n",
    "df = cell_identity_list_clean %>%\n",
    "filter(cell_identity %in% c('genomically_normal', 'normal_sample')) %>%\n",
    "filter(louvain == '9') %>%\n",
    "group_by(cell_identity, Uhlitz_scANVI_noTC) %>%\n",
    "mutate(sum=n()) %>%\n",
    "distinct(cell_identity, Uhlitz_scANVI_noTC, sum) \n",
    "\n",
    "\n",
    "df$Uhlitz_scANVI_noTC = factor(df$Uhlitz_scANVI_noTC, rev(levels(df$Uhlitz_scANVI_noTC)))\n",
    "\n",
    "p = df %>% \n",
    "ggplot(aes(x = sum, y = cell_identity, fill = Uhlitz_scANVI_noTC)) +\n",
    "geom_col(width = 0.8, position = 'fill') +\n",
    "theme_void() + \n",
    "scale_fill_manual(values = rev(Uhlitz_scANVI_noTC_color_list_after), name = 'Epithelial\\ncell type') +\n",
    "labs(x = '\\nProportion\\n', \n",
    "     y = '') +\n",
    "guides(fill=guide_legend(nrow=4)) +\n",
    "scale_x_continuous(n.breaks = 3) +\n",
    "plot_theme_font_size(12) +\n",
    "theme(axis.title.y = element_text(angle = 90),\n",
    "      legend.justification = c(1.5,0),\n",
    "      legend.position = 'bottom',\n",
    "      legend.direction='horizontal') +\n",
    "scale_y_discrete(labels = rev(c('normal\\nsample (15)', 'genomically\\nnormal (1281)')))\n",
    "\n",
    "print(p)\n",
    "\n",
    "ggsave(file=\"GN_NN_cell_type_bar_c9.svg\", width = 10, height = 8, units = \"cm\", dpi = 300)"
   ]
  },
  {
   "cell_type": "code",
   "execution_count": null,
   "id": "b02fa001",
   "metadata": {},
   "outputs": [],
   "source": [
    "df=adata_epi.obs[(adata_epi.obs['cell_identity']=='genomically_normal') & (adata_epi.obs['louvain']=='9')].groupby('Uhlitz_scANVI_noTC').size().drop('Tumour-like (normal_sample)',axis=0).reset_index()\n",
    "colors=pd.Series(adata_epi.uns['Uhlitz_scANVI_noTC_colors'],index=adata_epi.obs['Uhlitz_scANVI_noTC'].cat.categories)\n"
   ]
  },
  {
   "cell_type": "code",
   "execution_count": null,
   "id": "045b5ea5",
   "metadata": {},
   "outputs": [],
   "source": [
    "fig=plt.figure(figsize=(4,4))\n",
    "plt.pie(df[0], labels=df['Uhlitz_scANVI_noTC'], colors=colors.loc[df['Uhlitz_scANVI_noTC']]);"
   ]
  },
  {
   "cell_type": "markdown",
   "id": "bcae58f4",
   "metadata": {},
   "source": [
    "### Fig4E cluster 9 markers"
   ]
  },
  {
   "cell_type": "code",
   "execution_count": null,
   "id": "a64e7d34",
   "metadata": {},
   "outputs": [],
   "source": [
    "plt.figure(figsize = (2,1))\n",
    "sc.pl.dotplot(adata_epi_noTC_cleanCI, ['PLA2G2A', 'PIGR', 'LEFTY1', \n",
    "                                                            'B3GNT7', 'MUC12','LCN2', \n",
    "                                                            'OLFM4', 'PI3', 'SLPI', \n",
    "                                                            'GOLM1','NUPR1', 'MUC1',\n",
    "                                                           'MUC5B', 'SELENOP', 'ZG16'],\n",
    "              groupby=['louvain'], dendrogram=False, swap_axes=True);\n"
   ]
  },
  {
   "cell_type": "code",
   "execution_count": null,
   "id": "947f2593",
   "metadata": {},
   "outputs": [],
   "source": []
  },
  {
   "cell_type": "markdown",
   "id": "e84dd5f1",
   "metadata": {},
   "source": [
    "### Fig5B"
   ]
  },
  {
   "cell_type": "code",
   "execution_count": null,
   "id": "d84b6406",
   "metadata": {},
   "outputs": [],
   "source": [
    "order_start_with_tumour_noTC = [\n",
    " 'Tumour-like',\n",
    " 'Stem',\n",
    " 'Stem/TA',\n",
    " 'Immature Goblet',\n",
    " 'Goblet',\n",
    " 'Enterocyte progenitor',\n",
    " 'Enterocytes',\n",
    " 'Tuft']"
   ]
  },
  {
   "cell_type": "code",
   "execution_count": null,
   "id": "1d26c561",
   "metadata": {},
   "outputs": [],
   "source": [
    "sample_color_map = dict(zip(adata_epi_noTC_cleanCI.obs['Uhlitz_scANVI_noTC'].cat.categories, \n",
    "                            adata_epi_noTC_cleanCI.uns['Uhlitz_scANVI_noTC_colors']))"
   ]
  },
  {
   "cell_type": "code",
   "execution_count": null,
   "id": "ec8098f0",
   "metadata": {},
   "outputs": [],
   "source": [
    "plt.figure(figsize = (2,2))\n",
    "\n",
    "g = sns.JointGrid(data = adata_epi_noTC_cleanCI.obs, x = 'DC1', y = 'DC2', hue = 'Uhlitz_scANVI_noTC',\n",
    "                      hue_order=order_start_with_tumour_noTC,\n",
    "                      palette=[sample_color_map[key] for key in order_start_with_tumour_noTC],\n",
    "                      height = 6, ratio = 3)\n",
    "g.plot_marginals(sns.histplot, kde = False, binwidth=0.001, edgecolor = 'black', linewidth = 0.3, alpha =1)\n",
    "\n",
    "#sns.move_legend(g.ax_joint, \"upper left\", bbox_to_anchor=(1.5, 1), title = 'Epithelial cell type', \n",
    "#                    frameon=False, title_fontsize = 8)\n",
    "\n",
    "#g.ax_joint.legend_.remove()\n",
    ";"
   ]
  },
  {
   "cell_type": "code",
   "execution_count": null,
   "id": "b3a273fc",
   "metadata": {},
   "outputs": [],
   "source": [
    "fig = sc.pl.diffmap(adata_epi_noTC_cleanCI, color=['Uhlitz_scANVI_noTC'], \n",
    "                    size = 2, frameon = True, return_fig=True, \n",
    "                    title = '', legend_loc = 'None')"
   ]
  },
  {
   "cell_type": "code",
   "execution_count": null,
   "id": "e7057539",
   "metadata": {},
   "outputs": [],
   "source": [
    "#consume too many MB \n",
    "plt.figure(figsize = (5/2.54,5/2.54))\n",
    "\n",
    "g = sns.JointGrid(data = adata_epi_noTC_cleanCI.obs, x = 'DC1', y = 'DC2', hue = 'Uhlitz_scANVI_noTC',\n",
    "                      hue_order=order_start_with_tumour_noTC,\n",
    "                      palette=[sample_color_map[key] for key in order_start_with_tumour_noTC],\n",
    "                      height = 9, ratio = 3)\n",
    "g.plot_joint(sns.scatterplot, s = 2, edgecolor = None)\n",
    "g.plot_marginals(sns.histplot, kde = False, binwidth=0.001, edgecolor = 'black', linewidth = 0.3, alpha =1)\n",
    "\n",
    "sns.move_legend(g.ax_joint, \"upper left\", bbox_to_anchor=(1.5, 1), title = 'Epithelial cell type', \n",
    "                    frameon=False, title_fontsize = 8)\n",
    "\n",
    "g.ax_joint.legend_.remove()\n",
    ";"
   ]
  },
  {
   "cell_type": "markdown",
   "id": "30ee6285",
   "metadata": {},
   "source": [
    "### Fig5D"
   ]
  },
  {
   "cell_type": "code",
   "execution_count": null,
   "id": "9a64da07",
   "metadata": {},
   "outputs": [],
   "source": [
    "fig = sc.pl.umap(adata_epi_noTC_cleanCI, color=['ct_pseudotime'], \n",
    "               ncols=1, legend_loc='right margin', size = 2, title = 'Cytotrace pseudotime',\n",
    "               frameon = False, return_fig=True, color_map='viridis_r')\n"
   ]
  },
  {
   "cell_type": "markdown",
   "id": "ebe75179",
   "metadata": {},
   "source": [
    "### SupFig3E neighbor"
   ]
  },
  {
   "cell_type": "code",
   "execution_count": null,
   "id": "a97e30ad",
   "metadata": {},
   "outputs": [],
   "source": [
    "n_neighbors=30\n",
    "aa=scipy.sparse.csr_matrix((adata_epi.obs['patient'].iloc[adata_epi.obsp['distances'].nonzero()[1]].values==adata_epi.obs['patient'].iloc[adata_epi.obsp['distances'].nonzero()[0]].values, \n",
    "                            adata_epi.obsp['distances'].nonzero()))\n",
    "aa.data[np.isnan(aa.data)]=0\n",
    "aa.eliminate_zeros()\n",
    "adata_epi.obs['frac_neighbors_same_patient']=aa.sum(1).A1/n_neighbors"
   ]
  },
  {
   "cell_type": "code",
   "execution_count": null,
   "id": "5e5a33f9",
   "metadata": {},
   "outputs": [],
   "source": [
    "df=adata_epi.obs.groupby(['cell_identity','patient']).agg({'frac_neighbors_same_patient': 'mean'}\n",
    "                                                  ).drop('no confident assignment',axis=0,level=0)\n",
    "df.index=pd.MultiIndex.from_tuples(df.index.tolist(),names=['cell_identity','patient'])"
   ]
  },
  {
   "cell_type": "code",
   "execution_count": null,
   "id": "6c2c6cdc",
   "metadata": {},
   "outputs": [],
   "source": [
    "plt.figure(figsize = (5,4))\n",
    "\n",
    "sns.boxplot(data=df.reset_index(),x='cell_identity',y='frac_neighbors_same_patient', showfliers=False,\n",
    "           palette = ['#ff7f0e','#1f77b4','#808080'])\n",
    "sns.swarmplot(data=df.reset_index(), x='cell_identity',y='frac_neighbors_same_patient',hue='patient')\n",
    "plt.legend(bbox_to_anchor=(1.1,1))\n",
    ";\n"
   ]
  },
  {
   "cell_type": "markdown",
   "id": "7ed9ebad",
   "metadata": {},
   "source": [
    "### SupFig5"
   ]
  },
  {
   "cell_type": "code",
   "execution_count": null,
   "id": "2248b31f",
   "metadata": {},
   "outputs": [],
   "source": [
    "CRC_sig = pd.read_excel(\"../datasets_new_preprocessing/Signatures_Single_cells.xlsx\", \n",
    "                        skiprows=[1], index_col=None, sheet_name = 'fixed_var_name')\n",
    "for i in CRC_sig.columns:\n",
    "    score_genes(adata_epi_noTC_cleanCI, np.array(CRC_sig[i].dropna()), score_name=i)"
   ]
  },
  {
   "cell_type": "code",
   "execution_count": null,
   "id": "4e852d5c",
   "metadata": {},
   "outputs": [],
   "source": [
    "20455/5623*7"
   ]
  },
  {
   "cell_type": "code",
   "execution_count": null,
   "id": "882c90e6",
   "metadata": {},
   "outputs": [],
   "source": [
    "adata_epi_noTC_cleanCI.obs['cell_identity'].value_counts()"
   ]
  },
  {
   "cell_type": "code",
   "execution_count": null,
   "id": "1f9ebfae",
   "metadata": {},
   "outputs": [],
   "source": [
    "ax2 = sc.pl.heatmap(adata_epi_noTC_cleanCI[(adata_epi_noTC_cleanCI.obs['cell_identity'] =='genomically_normal')], \n",
    "                        CRC_sig.columns, groupby='Uhlitz_scANVI_noTC', \n",
    "                        dendrogram=False, swap_axes=True, figsize=[7/2.54,7/2.54], \n",
    "                        vcenter= 0.5,\n",
    "                        cmap = sns.color_palette(\"blend:#0000CD,#D9D9D9,#c46868,#c74242,#CD0000\", as_cmap=True),\n",
    "                        show = False,\n",
    "                        vmax = 1.5, vmin = -0.5\n",
    "                  #row_colors = adata_epi[(adata_epi.obs['cell_identity'] =='genomically_normal')].obs['Uhlitz_scANVI'].sort_values().map(sample_color_map)\n",
    "                 )\n",
    "ax2['heatmap_ax'].set_title('genomically normal', fontsize = 8)\n",
    "ax2['groupby_ax'].set_xlabel('', fontsize = 8)\n",
    "ax2['heatmap_ax'].tick_params(labelsize=8) \n",
    "\n",
    ";\n",
    "\n",
    "    #ax2['groupby_ax'].plot(c = ['red']*7)\n",
    "    #print(ax2)\n",
    "#AttributeError: 'AxesImage' object has no property 'row_colors'"
   ]
  },
  {
   "cell_type": "code",
   "execution_count": null,
   "id": "dd345e7f",
   "metadata": {},
   "outputs": [],
   "source": [
    "ax3 = sc.pl.heatmap(adata_epi_noTC_cleanCI[(adata_epi_noTC_cleanCI.obs['cell_identity'] =='normal_sample')], \n",
    "                  CRC_sig.columns, groupby='Uhlitz_scANVI_noTC', \n",
    "                   dendrogram=False, swap_axes=True, figsize=[7/2.54,7/2.54], \n",
    "                  vcenter= 0.5,\n",
    "                  cmap = sns.color_palette(\"blend:#0000CD,#D9D9D9,#c46868,#c74242,#CD0000\", as_cmap=True),\n",
    "                    show = False,\n",
    "                   vmax = 1.5, vmin = -0.5\n",
    "                  #row_colors = adata_epi[(adata_epi.obs['cell_identity'] =='genomically_normal')].obs['Uhlitz_scANVI'].sort_values().map(sample_color_map)\n",
    "                 )\n",
    "ax3['heatmap_ax'].set_title('normal sample', fontsize = 8)\n",
    "ax3['groupby_ax'].set_xlabel('', fontsize = 8)\n",
    "ax3['heatmap_ax'].tick_params(labelsize=8) \n",
    ";\n",
    "#AttributeError: 'AxesImage' object has no property 'row_colors'"
   ]
  },
  {
   "cell_type": "markdown",
   "id": "0981e26d",
   "metadata": {},
   "source": [
    "### SupFig5A"
   ]
  },
  {
   "cell_type": "code",
   "execution_count": null,
   "id": "ce1adb64",
   "metadata": {},
   "outputs": [],
   "source": [
    "cell_identity_list = adata_epi.obs[[\n",
    "    'cell_identity', 'sample_cap', 'sample_origin','patient','Uhlitz_scANVI', 'Uhlitz_scANVI_noTC']]"
   ]
  },
  {
   "cell_type": "code",
   "execution_count": null,
   "id": "745882d5",
   "metadata": {},
   "outputs": [],
   "source": [
    "cell_type_list = adata_epi.obs['Uhlitz_scANVI'].cat.categories.values"
   ]
  },
  {
   "cell_type": "code",
   "execution_count": null,
   "id": "69aa8a33",
   "metadata": {},
   "outputs": [],
   "source": [
    "%%R -i cell_identity_list,cell_type_list -w 1400 -h 800 -r 200\n",
    "\n",
    "# Fig 4c\n",
    "# Statistical testing of cell type differences in genomically normal vs normal samples\n",
    "\n",
    "df = cell_identity_list %>%\n",
    "filter(cell_identity %in% c('genomically_normal', 'normal_sample')) %>%\n",
    "filter(!patient %in% c('P08', 'P21', 'P26', 'P35') ) \n",
    "\n",
    "df$cell_identity = factor(df$cell_identity, levels = c('normal_sample', 'genomically_normal'))\n",
    "\n",
    "summary_model = list()\n",
    "summary_p = list()\n",
    "\n",
    "for(i in cell_type_list){\n",
    "    glmer_model = glmer(Uhlitz_scANVI == i ~ cell_identity + (1|patient), \n",
    "             family=\"binomial\", data = df)\n",
    "    summary_model[[i]] = summary(glmer_model)\n",
    "    summary_p[[i]] = data.frame('Uhlitz_scANVI' = i, \n",
    "           'p' = summary(glmer_model)$coefficients['cell_identitygenomically_normal','Pr(>|z|)'])\n",
    "}\n",
    "# boundary (singular) fit: see help('isSingular')\n",
    "# means random effects are very small\n",
    "\n",
    "glmer_p_stats = bind_rows(summary_p) %>% \n",
    "filter(!Uhlitz_scANVI %in% c('TC1','TC2','TC3','TC4')) %>%\n",
    "mutate(loc = seq(1,7,1), p = signif(p,2)) %>%\n",
    "mutate(star = case_when(p < 0.05 ~ '< 0.05'))\n",
    "\n",
    "#print(glmer_p_stats)"
   ]
  },
  {
   "cell_type": "code",
   "execution_count": null,
   "id": "a631f847",
   "metadata": {},
   "outputs": [],
   "source": [
    "%%R -i cell_identity_list,cell_type_list -w 1400 -h 800 -r 200\n",
    "\n",
    "g = table(cell_identity_list[c('Uhlitz_scANVI', 'patient', 'cell_identity')]) %>%\n",
    "as.data.frame() %>%\n",
    "filter(cell_identity %in% c('genomically_normal', 'normal_sample')) %>%\n",
    "mutate(cell_identity = factor(cell_identity, levels = c('normal_sample','genomically_normal'))) %>%\n",
    "filter(!patient %in% c('P08', 'P21', 'P26', 'P35') ) %>%\n",
    "filter(!Uhlitz_scANVI %in% c('TC1','TC2','TC3','TC4')) %>%\n",
    "group_by(cell_identity, patient) %>% \n",
    "mutate(frac_sample = Freq/sum(Freq)) %>% \n",
    "ggplot(aes(x = Uhlitz_scANVI, y = frac_sample)) +\n",
    "plot_theme_font_size(8) +\n",
    "geom_boxplot(outlier.color = 'white', aes(color = cell_identity)) +\n",
    "geom_point(position=position_jitterdodge(), aes(color = cell_identity), size = 1)+\n",
    "theme_bw() + \n",
    "theme(axis.text.x = element_text(angle = 90),\n",
    "      panel.grid = element_blank()) +\n",
    "labs(x = 'Epithelial cell types',\n",
    "     y = 'Fraction per sample\\n') +\n",
    "scale_color_manual(values = rev(c('#1f77b4', '#808080')), \n",
    "                   name = 'Consensus call',\n",
    "                   labels = c('normal\\nsample', 'genomically\\nnormal')) +\n",
    "geom_bracket(aes(xmin = loc-0.25, xmax = loc+0.25, label = p), \n",
    "             data = glmer_p_stats, \n",
    "             y.position = c(0.45, 0.4, 0.2, 0.4, 0.45, 0.55, 0.25), size = 0.4) +\n",
    "ylim(0,0.65) \n",
    "\n",
    "print(g)\n",
    "\n",
    "ggsave(file=\"cell_composition_test.svg\", width = 15, height = 9 , units = \"cm\", dpi = 300)"
   ]
  },
  {
   "cell_type": "code",
   "execution_count": null,
   "id": "93dc932b",
   "metadata": {},
   "outputs": [],
   "source": [
    "all_cell_list = adata_all_noTC_cleanCI.obs[['patient', 'sample_cap',\n",
    "                                            'celltype_1a','cell_type_level2', 'sample_origin']]"
   ]
  },
  {
   "cell_type": "code",
   "execution_count": null,
   "id": "b9527932",
   "metadata": {},
   "outputs": [],
   "source": [
    "removed_TC_id = list(set(adata_epi.obs.index) - set(adata_epi_noTC_cleanCI.obs.index))"
   ]
  },
  {
   "cell_type": "code",
   "execution_count": null,
   "id": "6466b158",
   "metadata": {},
   "outputs": [],
   "source": [
    "%%R -i cell_identity_list_clean,all_cell_list,removed_TC_id -w 1000 -h 500 -r 200\n",
    "\n",
    "# Fig. 5a \n",
    "# proportion of each cell compartment (epi, imm, str) of each sample\n",
    "suppressMessages(library(tidyverse))\n",
    "\n",
    "\n",
    "df = all_cell_list %>%\n",
    "merge(cell_identity_list_clean[c('cell_identity', 'Uhlitz_scANVI_noTC')], by = 0, all.x = TRUE) %>%\n",
    "#filter(Row.names %notin% removed_TC_id) %>%\n",
    "mutate(cell_type_merge = coalesce(cell_identity, celltype_1a)) %>%\n",
    "group_by(sample_cap, cell_type_merge) %>%\n",
    "mutate(sum=n()) %>%\n",
    "group_by(sample_cap) %>%\n",
    "mutate(sum_sample = n()) %>%\n",
    "distinct(sample_cap,cell_type_merge, sum, sum_sample, patient, sample_origin)\n",
    "\n",
    "df$cell_type_merge = factor(df$cell_type_merge, levels = c('imm', 'str', 'normal_sample',\n",
    "                                                             'genomically_normal', \n",
    "                                                             'genomically_tumour'))\n",
    "\n",
    "p = df %>%\n",
    "ggplot(aes(x = sum, y = patient, fill = cell_type_merge)) +\n",
    "geom_col(width = 0.8, position = 'fill', stat = 'identity') +\n",
    "scale_fill_manual(values = c('#ED5D47',\n",
    "                            '#4EAC57',\n",
    "                             '#144FAC',\n",
    "                            '#1f77b4',\n",
    "                            '#ff7f0e'),\n",
    "                   name = 'Cell identity',\n",
    "                   labels = c('Immune',\n",
    "                             'Stromal', \n",
    "                              'Epithelial',\n",
    "                             'Genomically\\nnormal',\n",
    "                             'Genomically\\ntumour')) +\n",
    "theme_void() + \n",
    "plot_theme_font_size(8) +\n",
    "theme(axis.title.y = element_text(angle = 90),\n",
    "      panel.spacing = unit(10, \"pt\")) +\n",
    "labs(x = 'Proportion', \n",
    "     y = '') +\n",
    "scale_x_continuous(n.breaks = 3) +\n",
    "scale_y_discrete(limits = rev,\n",
    "                 labels = paste0(rev(unique(df$patient)))) +\n",
    "facet_grid(cols = vars(sample_origin), \n",
    "           labeller = as_labeller(c('normal' = 'Normal\\nsample', 'tumour' = 'Tumour\\nsample')))\n",
    "print(p)\n",
    "\n",
    "ggsave(file=\"cell_identity_and_TME_normal_tumour_sample.svg\", width = 8, height = 5, units = \"cm\", dpi = 300)\n"
   ]
  },
  {
   "cell_type": "code",
   "execution_count": null,
   "id": "0c9d9985",
   "metadata": {},
   "outputs": [],
   "source": [
    "sample_color_map_for_all = sample_color_map.copy()\n",
    "\n",
    "sample_color_map_for_all.update(dict(zip(adata_all_noTC_cleanCI[adata_all_noTC_cleanCI.obs['celltype_1a'] != 'epi'].obs['cell_type_level2'].cat.categories, \n",
    "         ['#7d8df0', '#335B8E', '#79c9c9', '#67C9FF',\n",
    "          '#CE9486', '#8f7022', '#cf7708', '#B5B867',\n",
    "          '#DEB058', '#899DA4','#1aa375', '#AA82A7', '#c44545'\n",
    "         ])))"
   ]
  },
  {
   "cell_type": "code",
   "execution_count": null,
   "id": "36281e12",
   "metadata": {},
   "outputs": [],
   "source": [
    "sample_color_map_grey = dict(zip(adata_epi_noTC_cleanCI.obs['Uhlitz_scANVI_noTC'].cat.categories, \n",
    "                            ['#d3d3d3']*8))"
   ]
  },
  {
   "cell_type": "code",
   "execution_count": null,
   "id": "eaed4c1d",
   "metadata": {},
   "outputs": [],
   "source": [
    "sample_color_map_grey.update(dict(zip(adata_all_noTC_cleanCI[adata_all_noTC_cleanCI.obs['celltype_1a'] != 'epi'].obs['cell_type_level2'].cat.categories, \n",
    "         ['#7d8df0', '#335B8E', '#79c9c9', '#67C9FF',\n",
    "          '#CE9486', '#8f7022', '#cf7708', \n",
    "          '#B5B867',\n",
    "          '#DEB058', '#899DA4','#1aa375', '#AA82A7', '#c44545'\n",
    "         ])))"
   ]
  },
  {
   "cell_type": "code",
   "execution_count": null,
   "id": "166c570e",
   "metadata": {},
   "outputs": [],
   "source": [
    "sample_color_map_grey.update(dict(zip(['TC1', 'TC2', 'TC3', 'TC4'], ['#d3d3d3']*8)))"
   ]
  },
  {
   "cell_type": "code",
   "execution_count": null,
   "id": "5c7e1746",
   "metadata": {},
   "outputs": [],
   "source": [
    "fig = sc.pl.umap(adata_all_noTC_cleanCI[adata_all_noTC_cleanCI.obs['celltype_1a'] != 'epi'], \n",
    "                 color=['cell_type_level2'], \n",
    "               ncols=1, legend_loc='lower center', size = 1, title = '',\n",
    "               frameon = False, return_fig=True, palette=sample_color_map_for_all)\n"
   ]
  },
  {
   "cell_type": "code",
   "execution_count": null,
   "id": "b73ff8a8",
   "metadata": {},
   "outputs": [],
   "source": [
    "fig = sc.pl.umap(adata_all_noTC_cleanCI[(adata_all_noTC_cleanCI.obs['celltype_1a'] != 'epi') & \n",
    "                        (adata_all_noTC_cleanCI.obs['sample_origin'] == 'tumour')], \n",
    "                 color=['cell_type_level2'], \n",
    "               ncols=1, legend_loc='right margin', size = 1, title = '',\n",
    "               frameon = False, return_fig=True, palette=sample_color_map_for_all)\n"
   ]
  },
  {
   "cell_type": "code",
   "execution_count": null,
   "id": "fbcb288a",
   "metadata": {},
   "outputs": [],
   "source": [
    "fig = sc.pl.umap(adata_all_noTC_cleanCI[(adata_all_noTC_cleanCI.obs['celltype_1a'] != 'epi') & \n",
    "                        (adata_all_noTC_cleanCI.obs['sample_origin'] != 'tumour')], \n",
    "                 color=['cell_type_level2'], \n",
    "               ncols=1, legend_loc='right margin', size = 1, title = '',\n",
    "               frameon = False, return_fig=True, palette=sample_color_map_for_all)\n"
   ]
  },
  {
   "cell_type": "code",
   "execution_count": null,
   "id": "ea63e97d",
   "metadata": {},
   "outputs": [],
   "source": []
  },
  {
   "cell_type": "code",
   "execution_count": null,
   "id": "9ed975b6",
   "metadata": {},
   "outputs": [],
   "source": []
  },
  {
   "cell_type": "code",
   "execution_count": null,
   "id": "c7a3345d",
   "metadata": {},
   "outputs": [],
   "source": []
  },
  {
   "cell_type": "code",
   "execution_count": null,
   "id": "0b2eb8f9",
   "metadata": {},
   "outputs": [],
   "source": []
  }
 ],
 "metadata": {
  "kernelspec": {
   "display_name": "Python 3 (ipykernel)",
   "language": "python",
   "name": "python3"
  },
  "language_info": {
   "codemirror_mode": {
    "name": "ipython",
    "version": 3
   },
   "file_extension": ".py",
   "mimetype": "text/x-python",
   "name": "python",
   "nbconvert_exporter": "python",
   "pygments_lexer": "ipython3",
   "version": "3.9.10"
  }
 },
 "nbformat": 4,
 "nbformat_minor": 5
}
