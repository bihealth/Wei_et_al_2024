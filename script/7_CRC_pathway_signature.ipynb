{
 "cells": [
  {
   "cell_type": "markdown",
   "id": "1872014a",
   "metadata": {},
   "source": [
    "## Differential ligands + expressed receptors"
   ]
  },
  {
   "cell_type": "code",
   "execution_count": null,
   "id": "d67863d0",
   "metadata": {},
   "outputs": [],
   "source": [
    "import os\n",
    "import sys\n",
    "print(\"Python version\" + sys.version)\n",
    "os.getcwd()\n",
    "print(sys.executable)"
   ]
  },
  {
   "cell_type": "code",
   "execution_count": 2,
   "id": "1b737ed6",
   "metadata": {},
   "outputs": [],
   "source": [
    "import numpy as np\n",
    "np.random.seed(123)\n",
    "import pandas as pd\n",
    "import scipy\n",
    "import itertools\n",
    "\n",
    "import umap\n",
    "import matplotlib.pyplot as plt\n",
    "%matplotlib inline\n",
    "import seaborn as sns\n",
    "\n",
    "import scanpy as sc\n",
    "import anndata as ad\n",
    "import scvelo as scv\n",
    "from tqdm.notebook import tqdm\n",
    "\n",
    "from pathlib import Path"
   ]
  },
  {
   "cell_type": "code",
   "execution_count": 3,
   "id": "6de3172e",
   "metadata": {},
   "outputs": [],
   "source": [
    "import scanpy.external as sce"
   ]
  },
  {
   "cell_type": "code",
   "execution_count": null,
   "id": "409833c9",
   "metadata": {},
   "outputs": [],
   "source": [
    "sc.settings.verbosity = 1\n",
    "sc.logging.print_header()\n",
    "sc.settings.set_figure_params(dpi=300, facecolor='white')"
   ]
  },
  {
   "cell_type": "code",
   "execution_count": 5,
   "id": "a37deb05",
   "metadata": {},
   "outputs": [],
   "source": [
    "# remove weird grid from scvelo\n",
    "plt.rcParams['axes.grid'] = False\n",
    "plt.rcParams['figure.dpi'] = 150"
   ]
  },
  {
   "cell_type": "code",
   "execution_count": 6,
   "id": "c1765285",
   "metadata": {},
   "outputs": [],
   "source": [
    "# revised from Stefan's cell type signature\n",
    "signatures_path_ = '../cell_type_from_stefan/scrnaseq_signature_collection/'\n",
    "from score_and_classify import *"
   ]
  },
  {
   "cell_type": "code",
   "execution_count": 7,
   "id": "6c103baa",
   "metadata": {},
   "outputs": [],
   "source": [
    "data_folder = '../data/'"
   ]
  },
  {
   "cell_type": "code",
   "execution_count": 8,
   "id": "c39056a4",
   "metadata": {},
   "outputs": [],
   "source": [
    "new_data_folder = '../processed_data/'"
   ]
  },
  {
   "cell_type": "code",
   "execution_count": 9,
   "id": "80ee95b4",
   "metadata": {},
   "outputs": [],
   "source": [
    "adata_all = sc.read(Path(new_data_folder)/'adata_all_full_cell_type_annotation.h5')"
   ]
  },
  {
   "cell_type": "code",
   "execution_count": 10,
   "id": "9e629e39",
   "metadata": {},
   "outputs": [],
   "source": [
    "adata_epi = sc.read(Path(new_data_folder)/'CB_epi_Numbat_Scitcem_inferCNV_icms_Uhlitz_resolved_identity.h5')"
   ]
  },
  {
   "cell_type": "code",
   "execution_count": 11,
   "id": "3f06f1ad",
   "metadata": {},
   "outputs": [],
   "source": [
    "adata_epi.uns['tumour_normal_normal_colors'] = ['#ff7f0e', '#9b1ee3','#1f77b4','#808080']"
   ]
  },
  {
   "cell_type": "code",
   "execution_count": 12,
   "id": "8aaa467c",
   "metadata": {},
   "outputs": [],
   "source": [
    "cell_type_list = adata_epi.obs['Uhlitz_scANVI'].cat.categories.values"
   ]
  },
  {
   "cell_type": "code",
   "execution_count": 13,
   "id": "f5bcefaf",
   "metadata": {},
   "outputs": [],
   "source": [
    "cell_type_order = ['TC1', 'TC2', 'TC3', 'TC4', 'Stem', 'Stem/TA',\n",
    "                    'Tuft', 'Immature Goblet', 'Goblet', 'Enterocyte progenitor', 'Enterocytes']"
   ]
  },
  {
   "cell_type": "code",
   "execution_count": 14,
   "id": "1e0eb083",
   "metadata": {},
   "outputs": [],
   "source": [
    "adata_epi.obs['Uhlitz_scANVI'] = adata_epi.obs['Uhlitz_scANVI'].cat.reorder_categories(cell_type_order)"
   ]
  },
  {
   "cell_type": "code",
   "execution_count": 15,
   "id": "5265d412",
   "metadata": {},
   "outputs": [],
   "source": [
    "adata_epi.uns['Uhlitz_scANVI_colors'] = ['#AA0000', '#FF0000', '#FF0099', '#EB9999','#00CCFF', '#0072b1','#FF9900', \n",
    " '#990099','#660099', '#999900', '#336600']"
   ]
  },
  {
   "cell_type": "code",
   "execution_count": 16,
   "id": "0f1a206a",
   "metadata": {},
   "outputs": [],
   "source": [
    "sc.tl.diffmap(adata_epi, n_comps=15)"
   ]
  },
  {
   "cell_type": "code",
   "execution_count": 17,
   "id": "f5eec62c",
   "metadata": {},
   "outputs": [],
   "source": [
    "adata_epi_reindex = adata_epi.obs.reindex(adata_all.obs.index)"
   ]
  },
  {
   "cell_type": "code",
   "execution_count": 18,
   "id": "225225c1",
   "metadata": {},
   "outputs": [],
   "source": [
    "adata_all.obs['cell_identity'] = None\n",
    "\n",
    "for i in np.arange(0, adata_all.shape[0]):\n",
    "    if adata_epi_reindex['cell_identity'][i] == 'normal_sample':\n",
    "        adata_all.obs['cell_identity'][i] = 'normal_sample'\n",
    "    elif adata_epi_reindex['cell_identity'][i] == 'genomically_normal':\n",
    "        adata_all.obs['cell_identity'][i] = 'genomically_normal'\n",
    "    elif adata_epi_reindex['cell_identity'][i] == 'genomically_tumour':\n",
    "        adata_all.obs['cell_identity'][i] = 'genomically_tumour'\n",
    "    elif adata_epi_reindex['cell_identity'][i] == 'no confident assignment':\n",
    "        adata_all.obs['cell_identity'][i] = 'no confident assignment'\n",
    "    else:\n",
    "        adata_all.obs['cell_identity'][i] = adata_all.obs['cell_type_level2'][i]\n",
    "        \n",
    "adata_all.obs['cell_identity'] = adata_all.obs['cell_identity'].astype('category')\n"
   ]
  },
  {
   "cell_type": "markdown",
   "id": "6b405b65",
   "metadata": {},
   "source": [
    "#### TC filtering "
   ]
  },
  {
   "cell_type": "code",
   "execution_count": 19,
   "id": "a15cad41",
   "metadata": {},
   "outputs": [],
   "source": [
    "# fix TCs\n",
    "# genomically tumour = Tumour like\n",
    "adata_epi.obs['Uhlitz_scANVI_noTC'] = None\n",
    "\n",
    "for i in np.arange(0, adata_epi.shape[0]):\n",
    "    if adata_epi.obs['cell_identity'][i] == 'genomically_tumour':\n",
    "        adata_epi.obs['Uhlitz_scANVI_noTC'][i] = 'Tumour-like'        \n",
    "    elif 'TC' in adata_epi.obs['Uhlitz_scANVI'][i]:\n",
    "        adata_epi.obs['Uhlitz_scANVI_noTC'][i] = 'Tumour-like (normal_sample)'        \n",
    "    else: \n",
    "        adata_epi.obs['Uhlitz_scANVI_noTC'][i] = adata_epi.obs['Uhlitz_scANVI'][i]\n",
    "        \n",
    "adata_epi.obs['Uhlitz_scANVI_noTC'] = adata_epi.obs['Uhlitz_scANVI_noTC'].astype('category')"
   ]
  },
  {
   "cell_type": "code",
   "execution_count": 20,
   "id": "8e27b7e3",
   "metadata": {},
   "outputs": [],
   "source": [
    "adata_epi.obs['Uhlitz_scANVI_noTC'] = adata_epi.obs['Uhlitz_scANVI_noTC'].cat.reorder_categories(['Tumour-like', \n",
    "                                                                                                  'Tumour-like (normal_sample)',\n",
    "                                                                                                  'Stem', 'Stem/TA', \n",
    "                                                           'Tuft',\n",
    "                                                           'Immature Goblet', 'Goblet',\n",
    "                                                           'Enterocyte progenitor', 'Enterocytes'])"
   ]
  },
  {
   "cell_type": "code",
   "execution_count": 21,
   "id": "7a78a792",
   "metadata": {},
   "outputs": [],
   "source": [
    "Uhlitz_scANVI_noTC_color_list = ['#AA0000', '#808080',\n",
    "                                              '#00CCFF', '#0072b1',\n",
    "                                              '#FF9900',\n",
    "                                              '#990099', '#660099',\n",
    "                                              '#999900', '#336600']\n",
    "\n",
    "adata_epi.uns['Uhlitz_scANVI_noTC_colors'] = Uhlitz_scANVI_noTC_color_list"
   ]
  },
  {
   "cell_type": "code",
   "execution_count": 22,
   "id": "2007054f",
   "metadata": {},
   "outputs": [],
   "source": [
    "Uhlitz_scANVI_noTC_color_list_after = ['#00CCFF', '#0072b1',\n",
    "                                              '#FF9900',\n",
    "                                              '#990099', '#660099',\n",
    "                                              '#999900', '#336600']"
   ]
  },
  {
   "cell_type": "code",
   "execution_count": 23,
   "id": "f728df2e",
   "metadata": {},
   "outputs": [],
   "source": [
    "adata_epi_noTC_cleanCI = adata_epi[(adata_epi.obs['Uhlitz_scANVI_noTC'] != 'Tumour-like (normal_sample)') & #37670\n",
    "                                   (adata_epi.obs['cell_identity'] != 'no confident assignment')] # 37316"
   ]
  },
  {
   "cell_type": "code",
   "execution_count": 24,
   "id": "fc57a77d",
   "metadata": {},
   "outputs": [],
   "source": [
    "sample_color_map = dict(zip(adata_epi_noTC_cleanCI.obs['Uhlitz_scANVI_noTC'].cat.categories, \n",
    "                            adata_epi_noTC_cleanCI.uns['Uhlitz_scANVI_noTC_colors']))"
   ]
  },
  {
   "cell_type": "code",
   "execution_count": 25,
   "id": "5a7f7c80",
   "metadata": {},
   "outputs": [],
   "source": [
    "removed_TC_id = list(set(adata_epi.obs.index) - set(adata_epi_noTC_cleanCI.obs.index))"
   ]
  },
  {
   "cell_type": "code",
   "execution_count": 26,
   "id": "1f21ddf3",
   "metadata": {},
   "outputs": [],
   "source": [
    "adata_all_noTC_cleanCI = adata_all[~adata_all.obs.index.isin(removed_TC_id)]"
   ]
  },
  {
   "cell_type": "code",
   "execution_count": 28,
   "id": "1be5c8ba",
   "metadata": {},
   "outputs": [],
   "source": [
    "sample_color_map_for_all = sample_color_map\n",
    "\n",
    "sample_color_map_for_all.update(dict(zip(adata_all_noTC_cleanCI[adata_all_noTC_cleanCI.obs['celltype_1a'] != 'epi'].obs['cell_type_level2'].cat.categories, \n",
    "         ['#7d8df0', '#335B8E', '#79c9c9', '#67C9FF',\n",
    "          '#CE9486', '#8f7022', '#cf7708', '#B5B867',\n",
    "          '#DEB058', '#899DA4','#1aa375', '#AA82A7', '#c44545'\n",
    "         ])))"
   ]
  },
  {
   "cell_type": "code",
   "execution_count": 29,
   "id": "4a22e7ef",
   "metadata": {},
   "outputs": [],
   "source": [
    "adata_all_noTC_cleanCI.uns['cell_type_level2_colors'] = ['#7d8df0', '#335B8E', '#79c9c9', '#67C9FF',\n",
    "                                                         '#CE9486', '#999900', '#336600', \n",
    "                                                         '#8f7022', '#cf7708', \n",
    "                                                         '#B5B867','#660099', '#990099',\n",
    "                                                         '#DEB058', '#899DA4','#1aa375', '#AA82A7',  '#00CCFF', '#0072b1',\n",
    "                                                         '#AA0000', '#FF0000', '#FF0099', '#EB9999',\n",
    "                                                         '#c44545', '#FF9900'\n",
    "]"
   ]
  },
  {
   "cell_type": "markdown",
   "id": "a3786edb",
   "metadata": {},
   "source": [
    "### gene expression"
   ]
  },
  {
   "cell_type": "code",
   "execution_count": null,
   "id": "aa1e6f29",
   "metadata": {},
   "outputs": [],
   "source": [
    "# clock genes\n",
    "sc.pl.dotplot(adata_all_noTC_cleanCI, \n",
    "              var_names=['ARNTL','PER3', 'RORC'], groupby = 'cell_type_level2', swap_axes=True)"
   ]
  },
  {
   "cell_type": "markdown",
   "id": "9f9881fa",
   "metadata": {},
   "source": [
    "### pathway"
   ]
  },
  {
   "cell_type": "code",
   "execution_count": null,
   "id": "111ff6a8",
   "metadata": {},
   "outputs": [],
   "source": [
    "CRC_sig = pd.read_excel(\"../datasets_new_preprocessing/Signatures_Single_cells.xlsx\", \n",
    "                        skiprows=[1], index_col=None, sheet_name = 'fixed_var_name')\n",
    "for i in CRC_sig.columns:\n",
    "    score_genes(adata_epi_noTC_cleanCI, np.array(CRC_sig[i].dropna()), score_name=i)"
   ]
  },
  {
   "cell_type": "code",
   "execution_count": null,
   "id": "632c8999",
   "metadata": {},
   "outputs": [],
   "source": [
    "with plt.style.context('./plt_style'):\n",
    "    ax1 = sc.pl.heatmap(adata_epi_noTC_cleanCI[(adata_epi_noTC_cleanCI.obs['cell_identity'] =='genomically_tumour')], \n",
    "                        CRC_sig.columns, groupby='Uhlitz_scANVI', \n",
    "                        dendrogram=False, swap_axes=True, figsize=[12,6], \n",
    "                        vcenter= 0,\n",
    "                        cmap = sns.color_palette(\"blend:#0000CD,#D9D9D9,#CD0000\", as_cmap=True), \n",
    "                        show = False\n",
    "                  #row_colors = adata_epi[(adata_epi.obs['cell_identity'] =='genomically_normal')].obs['Uhlitz_scANVI'].sort_values().map(sample_color_map)\n",
    "                 )\n",
    "    ax1['heatmap_ax'].set_title('CRC signatures activity in genomically tumour cells', fontsize = 16)\n",
    "    ax1['groupby_ax'].set_xlabel('')\n",
    "\n",
    "\n",
    "#AttributeError: 'AxesImage' object has no property 'row_colors'"
   ]
  },
  {
   "cell_type": "code",
   "execution_count": null,
   "id": "63b9d5c2",
   "metadata": {},
   "outputs": [],
   "source": [
    "with plt.style.context('./plt_style'):\n",
    "    ax1 = sc.pl.heatmap(adata_epi_noTC_cleanCI[(adata_epi_noTC_cleanCI.obs['cell_identity'] =='genomically_tumour')], \n",
    "                        CRC_sig.columns, groupby='Uhlitz_scANVI_noTC', \n",
    "                        dendrogram=False, swap_axes=True, figsize=[12,6], \n",
    "                        vcenter= 0,\n",
    "                        cmap = sns.color_palette(\"blend:#0000CD,#D9D9D9,#CD0000\", as_cmap=True), \n",
    "                        show = False\n",
    "                  #row_colors = adata_epi[(adata_epi.obs['cell_identity'] =='genomically_normal')].obs['Uhlitz_scANVI'].sort_values().map(sample_color_map)\n",
    "                 )\n",
    "    ax1['heatmap_ax'].set_title('CRC signatures activity in genomically tumour cells', fontsize = 16)\n",
    "\n",
    "\n",
    "#AttributeError: 'AxesImage' object has no property 'row_colors'"
   ]
  },
  {
   "cell_type": "code",
   "execution_count": null,
   "id": "3a31171b",
   "metadata": {},
   "outputs": [],
   "source": [
    "with plt.style.context('./plt_style'):\n",
    "    ax2 = sc.pl.heatmap(adata_epi_noTC_cleanCI[(adata_epi_noTC_cleanCI.obs['cell_identity'] =='genomically_normal')], \n",
    "                        CRC_sig.columns, groupby='Uhlitz_scANVI_noTC', \n",
    "                        dendrogram=False, swap_axes=True, figsize=[12,6], \n",
    "                        vcenter= 0,\n",
    "                        cmap = sns.color_palette(\"blend:#0000CD,#D9D9D9,#CD0000\", as_cmap=True),\n",
    "                        show = False\n",
    "                  #row_colors = adata_epi[(adata_epi.obs['cell_identity'] =='genomically_normal')].obs['Uhlitz_scANVI'].sort_values().map(sample_color_map)\n",
    "                 )\n",
    "    #ax2['heatmap_ax'].set_title('CRC signatures activity in genomically normal cells', fontsize = 16)\n",
    "    ax2['groupby_ax'].set_xlabel('')\n",
    "\n",
    "    #ax2['groupby_ax'].plot(c = ['red']*7)\n",
    "    #print(ax2)\n",
    "#AttributeError: 'AxesImage' object has no property 'row_colors'"
   ]
  },
  {
   "cell_type": "code",
   "execution_count": null,
   "id": "58dea20e",
   "metadata": {},
   "outputs": [],
   "source": [
    "with plt.style.context('./plt_style'):\n",
    "    ax3 = sc.pl.heatmap(adata_epi_noTC_cleanCI[(adata_epi_noTC_cleanCI.obs['cell_identity'] =='normal_sample')], \n",
    "                  CRC_sig.columns, groupby='Uhlitz_scANVI_noTC', \n",
    "                   dendrogram=False, swap_axes=True, figsize=[12,6], \n",
    "                  vcenter= 0,\n",
    "                  cmap = sns.color_palette(\"blend:#0000CD,#D9D9D9,#CD0000\", as_cmap=True),show = False\n",
    "                  #row_colors = adata_epi[(adata_epi.obs['cell_identity'] =='genomically_normal')].obs['Uhlitz_scANVI'].sort_values().map(sample_color_map)\n",
    "                 )\n",
    "    #ax3['heatmap_ax'].set_title('CRC signatures activity in normal sample', fontsize = 16)\n",
    "    ax3['groupby_ax'].set_xlabel('')\n",
    "\n",
    "#AttributeError: 'AxesImage' object has no property 'row_colors'"
   ]
  },
  {
   "cell_type": "code",
   "execution_count": null,
   "id": "355ad705",
   "metadata": {},
   "outputs": [],
   "source": [
    "with plt.style.context('./plt_style'):\n",
    "    ax4 = sc.pl.heatmap(adata_epi_noTC_cleanCI[(adata_epi_noTC_cleanCI.obs['cell_identity'] =='normal_sample')], \n",
    "                  CRC_sig.columns, groupby='louvain', \n",
    "                   dendrogram=False, swap_axes=True, figsize=[12,6], \n",
    "                  vcenter= 0,\n",
    "                  cmap = sns.color_palette(\"blend:#0000CD,#D9D9D9,#CD0000\", as_cmap=True),show = False\n",
    "                  #row_colors = adata_epi[(adata_epi.obs['cell_identity'] =='genomically_normal')].obs['Uhlitz_scANVI'].sort_values().map(sample_color_map)\n",
    "                 )\n",
    "    #ax3['heatmap_ax'].set_title('CRC signatures activity in normal sample', fontsize = 16)\n",
    "    ax4['groupby_ax'].set_xlabel('')\n",
    "\n",
    "#AttributeError: 'AxesImage' object has no property 'row_colors'"
   ]
  },
  {
   "cell_type": "code",
   "execution_count": null,
   "id": "6c0dabc8",
   "metadata": {},
   "outputs": [],
   "source": [
    "with plt.style.context('./plt_style'):\n",
    "    ax5 = sc.pl.heatmap(adata_epi_noTC_cleanCI[(adata_epi_noTC_cleanCI.obs['cell_identity'] =='genomically_normal')], \n",
    "                  CRC_sig.columns, groupby='louvain', \n",
    "                   dendrogram=False, swap_axes=True, figsize=[12,6], \n",
    "                  vcenter= 0,\n",
    "                  cmap = sns.color_palette(\"blend:#0000CD,#D9D9D9,#CD0000\", as_cmap=True),show = False\n",
    "                  #row_colors = adata_epi[(adata_epi.obs['cell_identity'] =='genomically_normal')].obs['Uhlitz_scANVI'].sort_values().map(sample_color_map)\n",
    "                 )\n",
    "    #ax3['heatmap_ax'].set_title('CRC signatures activity in normal sample', fontsize = 16)\n",
    "    ax5['groupby_ax'].set_xlabel('')\n",
    "\n",
    "#AttributeError: 'AxesImage' object has no property 'row_colors'"
   ]
  },
  {
   "cell_type": "code",
   "execution_count": 41,
   "id": "9b2812cf",
   "metadata": {},
   "outputs": [],
   "source": [
    "pathway_df = pd.melt(adata_epi_noTC_cleanCI.obs[['cell_identity', 'Uhlitz_scANVI_noTC',\n",
    "                                     'TA-Merlos', 'Enterocyte-Merlos', 'Paneth-Sato',\n",
    "       'NFkB_targets-Schwitalla', 'BMP_targets_up-Qi', 'Lgr5_ISC-Merlos',\n",
    "       'EphB2_ISC-Merlos', 'Late_TA-Merlos', 'Lgr5_ISC-Munoz', 'WYR-Serra',\n",
    "       'EpiHR-Canellas', 'YAP22_Wang', 'RevivalStemCell-Ayyaz',\n",
    "       'Fetal_Spheroid_mustata', 'Ki67hi_Proliferative-Cortina',\n",
    "       'MEX3A-Barriga', 'MEX3Ahi_LGR5hi-Alvarez', 'MEX3Alo_LGR5hi-Alvarez']].reset_index(),\n",
    "       id_vars=['index', 'cell_identity', 'Uhlitz_scANVI_noTC'], value_name='score', var_name='pathway')"
   ]
  },
  {
   "cell_type": "code",
   "execution_count": 42,
   "id": "7059a4aa",
   "metadata": {},
   "outputs": [],
   "source": [
    "pathway_df['cell_identity'] = pathway_df['cell_identity'].cat.reorder_categories(['normal_sample', \n",
    "                                                                                  'genomically_normal', \n",
    "                                                                                  'genomically_tumour'])"
   ]
  },
  {
   "cell_type": "code",
   "execution_count": 45,
   "id": "3e8b8b5c",
   "metadata": {},
   "outputs": [],
   "source": [
    "#revise from https://stackoverflow.com/questions/41471238/how-to-make-heatmap-square-in-seaborn-facetgrid\n",
    "def plot_heatmap(*args, **kwargs):\n",
    "    data = kwargs.pop('data')\n",
    "    d = data.pivot_table(index=args[0], columns=args[1], values=args[2], aggfunc = 'median')\n",
    "    sns.heatmap(d, **kwargs)"
   ]
  },
  {
   "cell_type": "code",
   "execution_count": null,
   "id": "187f7b42",
   "metadata": {},
   "outputs": [],
   "source": [
    "with plt.style.context('./plt_style'):\n",
    "    g = sns.FacetGrid(pathway_df,\n",
    "                      col = 'Uhlitz_scANVI_noTC', \n",
    "                      col_order = [#'TC1', 'TC2', 'TC3', 'TC4', \n",
    "                          'Tumour-like','Stem', 'Stem/TA', \n",
    "                          'Tuft', 'Immature Goblet', 'Goblet', 'Enterocyte progenitor', 'Enterocytes'],\n",
    "                      height = 12, aspect = 2/9,\n",
    "                      despine = False, sharey = True)\n",
    "    \n",
    "    cbar_ax = g.fig.add_axes([.92, .3, .02, .4])\n",
    "    \n",
    "    g.map_dataframe(plot_heatmap, 'pathway', 'cell_identity', 'score', cbar_ax=cbar_ax, \n",
    "                    cmap = sns.color_palette(\"blend:#0000CD,#D9D9D9,#CD0000\", as_cmap=True),\n",
    "                    center = 0\n",
    "                    #, vmin=-0.1, vmax=0.4\n",
    "                   )\n",
    "    g.figure.subplots_adjust(wspace=0.1)\n",
    "    g.set_titles('{col_name}\\n')\n",
    "    g.set_xlabels('')\n",
    "    g.set_ylabels('')\n",
    "    g.set(xticks = np.arange(0,2,0.5))\n",
    "    g.set_xticklabels(['','normal sample','','tumour sample'], rotation = 90)\n",
    "    # Tumour-like fix manually\n",
    "\n",
    "    axes = g.axes.flatten()\n",
    "    axes[6].set_title('Enterocyte\\nprogenitor\\n')\n",
    "    axes[7].set_title('Enterocyte\\n')\n",
    "    axes[4].set_title('Immature\\ngoblet\\n')\n",
    "    \n",
    "    g.fig.subplots_adjust(right=.9)\n",
    "    "
   ]
  },
  {
   "cell_type": "code",
   "execution_count": 47,
   "id": "4bef6abd",
   "metadata": {},
   "outputs": [],
   "source": [
    "import decoupler as dc"
   ]
  },
  {
   "cell_type": "code",
   "execution_count": 48,
   "id": "1d645125",
   "metadata": {},
   "outputs": [],
   "source": [
    "progeny = dc.get_progeny(organism='human', top=500)"
   ]
  },
  {
   "cell_type": "code",
   "execution_count": null,
   "id": "88b7e23c",
   "metadata": {},
   "outputs": [],
   "source": [
    "progeny['source'].unique()"
   ]
  },
  {
   "cell_type": "code",
   "execution_count": null,
   "id": "38f2410a",
   "metadata": {},
   "outputs": [],
   "source": [
    "dc.run_mlm(\n",
    "    mat=adata_epi_noTC_cleanCI,\n",
    "    net=progeny,\n",
    "    source='source',\n",
    "    target='target',\n",
    "    weight='weight',\n",
    "    verbose=True,\n",
    "    use_raw=False\n",
    ")"
   ]
  },
  {
   "cell_type": "code",
   "execution_count": 52,
   "id": "3cdf8c9b",
   "metadata": {},
   "outputs": [],
   "source": [
    "acts = dc.get_acts(adata_epi_noTC_cleanCI, obsm_key='mlm_estimate')"
   ]
  },
  {
   "cell_type": "code",
   "execution_count": null,
   "id": "f08a6d62",
   "metadata": {},
   "outputs": [],
   "source": [
    "with plt.style.context('./plt_style'):\n",
    "    ax1 = sc.pl.heatmap(acts[(acts.obs['cell_identity'] =='genomically_tumour')], \n",
    "                  acts.var_names, groupby='Uhlitz_scANVI', \n",
    "                  dendrogram=False, swap_axes=True, figsize=[12,4], vmin = -45, vmax = 45, \n",
    "                  vcenter= 0, show = False,\n",
    "                  cmap = sns.color_palette(\"blend:#0000CD,#D9D9D9,#CD0000\", as_cmap=True),)\n",
    "    ax1['heatmap_ax'].set_title('PROGENy in genomically tumour', fontsize = 16)\n",
    "    ax1['groupby_ax'].set_xlabel('')\n",
    "    \n",
    "with plt.style.context('./plt_style'):\n",
    "    ax2 = sc.pl.heatmap(acts[(acts.obs['cell_identity'] =='genomically_tumour')], \n",
    "                  acts.var_names, groupby='Uhlitz_scANVI_noTC', \n",
    "                  dendrogram=False, swap_axes=True, figsize=[12,4], vmin = -45, vmax = 45, \n",
    "                  vcenter= 0,show = False,\n",
    "                  cmap = sns.color_palette(\"blend:#0000CD,#D9D9D9,#CD0000\", as_cmap=True),)\n",
    "    ax2['heatmap_ax'].set_title('PROGENy in genomically tumour', fontsize = 16)\n",
    "\n",
    "\n",
    "with plt.style.context('./plt_style'):\n",
    "    ax3 = sc.pl.heatmap(acts[(acts.obs['cell_identity'] =='genomically_normal')], \n",
    "                  acts.var_names, groupby='Uhlitz_scANVI_noTC', \n",
    "                  dendrogram=False, swap_axes=True, figsize=[12,4], vmin = -45, vmax = 45,\n",
    "                  vcenter= 0,show = False,\n",
    "                  cmap = sns.color_palette(\"blend:#0000CD,#D9D9D9,#CD0000\", as_cmap=True),)\n",
    "    ax3['heatmap_ax'].set_title('PROGENy in genomically normal', fontsize = 16)\n",
    "    ax3['groupby_ax'].set_xlabel('')\n",
    "    \n",
    "with plt.style.context('./plt_style'):\n",
    "    ax4 = sc.pl.heatmap(acts[acts.obs['cell_identity'] =='normal_sample'], \n",
    "                  acts.var_names, groupby='Uhlitz_scANVI_noTC', \n",
    "                  dendrogram=False, swap_axes=True, figsize=[12,4], vmin = -45, vmax = 45,\n",
    "                  vcenter= 0,show = False,\n",
    "                  cmap = sns.color_palette(\"blend:#0000CD,#D9D9D9,#CD0000\", as_cmap=True),)    \n",
    "    ax4['heatmap_ax'].set_title('PROGENy in normal sample', fontsize = 16)\n",
    "    ax4['groupby_ax'].set_xlabel('')\n",
    ";    "
   ]
  },
  {
   "cell_type": "code",
   "execution_count": null,
   "id": "9a227d5d",
   "metadata": {},
   "outputs": [],
   "source": [
    "with plt.style.context('./plt_style'):\n",
    "    ax1 = sc.pl.heatmap(acts[(acts.obs['cell_identity'] =='genomically_normal')], \n",
    "                  acts.var_names, groupby='louvain', \n",
    "                  dendrogram=False, swap_axes=True, figsize=[12,4], vmin = -45, vmax = 45, \n",
    "                  vcenter= 0, show = False,\n",
    "                  cmap = sns.color_palette(\"blend:#0000CD,#D9D9D9,#CD0000\", as_cmap=True),)\n",
    "    ax1['heatmap_ax'].set_title('PROGENy in cluster 9 & genomically normal', fontsize = 16)\n",
    "    ax1['groupby_ax'].set_xlabel('')"
   ]
  },
  {
   "cell_type": "markdown",
   "id": "eb4289bb",
   "metadata": {},
   "source": [
    "#### PROGENy on all cells"
   ]
  },
  {
   "cell_type": "code",
   "execution_count": null,
   "id": "0e795fc3",
   "metadata": {},
   "outputs": [],
   "source": [
    "dc.run_mlm(\n",
    "    mat=adata_all_noTC_cleanCI,\n",
    "    net=progeny,\n",
    "    source='source',\n",
    "    target='target',\n",
    "    weight='weight',\n",
    "    verbose=True,\n",
    "    use_raw=False)\n",
    "\n",
    "####be careful of the index, must be str/cell_id index, or the Anndata pkg will throw an error when adding to obsm"
   ]
  },
  {
   "cell_type": "code",
   "execution_count": 56,
   "id": "7c66c7d6",
   "metadata": {},
   "outputs": [],
   "source": [
    "acts_all = dc.get_acts(adata_all_noTC_cleanCI, obsm_key='mlm_estimate')"
   ]
  },
  {
   "cell_type": "code",
   "execution_count": null,
   "id": "ecb2d974",
   "metadata": {},
   "outputs": [],
   "source": [
    "with plt.style.context('./plt_style'):\n",
    "    sc.pl.heatmap(acts_all, acts_all.var_names, groupby='cell_type_level2', \n",
    "                  dendrogram=False, swap_axes=True, figsize=[20,4])\n",
    ";    "
   ]
  },
  {
   "cell_type": "markdown",
   "id": "7dbcab47",
   "metadata": {},
   "source": [
    "### ICR genes from Nature Medicine | Volume 29 | May 2023 | 1273–1286"
   ]
  },
  {
   "cell_type": "code",
   "execution_count": 67,
   "id": "e6f91386",
   "metadata": {},
   "outputs": [],
   "source": [
    "ICR_genes = {'Th1':['IFNG', 'TBX21', 'CD8A', 'CD8B', 'IL12B', 'STAT1', 'IRF1'], # Th1 cell signalling\n",
    "            'chemokines':['CXCL9', 'CXCL10', 'CCL5'], # CXCR3/CCR5 chemokines\n",
    "            'effectors':['GNLY', 'PRF1', 'GZMA', 'GZMB', 'GZMH'], # effector functions\n",
    "            'immune regulatory':['CD274', 'CTLA4', 'FOXP3', 'IDO1', 'PDCD1'] # immune regulatory\n",
    "            }"
   ]
  },
  {
   "cell_type": "code",
   "execution_count": null,
   "id": "910df1aa",
   "metadata": {},
   "outputs": [],
   "source": [
    "with plt.style.context('./plt_style'):\n",
    "    sc.pl.dotplot(adata_all_noTC_cleanCI, ICR_genes, groupby=['cell_type_level2'], dendrogram=False)"
   ]
  },
  {
   "cell_type": "markdown",
   "id": "b7c26f2e",
   "metadata": {},
   "source": [
    "### LR gene expression"
   ]
  },
  {
   "cell_type": "code",
   "execution_count": 69,
   "id": "e14db8e3",
   "metadata": {},
   "outputs": [],
   "source": [
    "new_order = ['TC1', 'TC2', 'TC3', 'TC4', 'Stem', 'Stem/TA',\n",
    "             'Immature Goblet', 'Goblet',\n",
    "             'Enterocyte progenitor', 'Enterocytes', 'Tuft']"
   ]
  },
  {
   "cell_type": "markdown",
   "id": "b1764603",
   "metadata": {},
   "source": [
    "#### WNT"
   ]
  },
  {
   "cell_type": "code",
   "execution_count": 70,
   "id": "57f924fb",
   "metadata": {},
   "outputs": [],
   "source": [
    "WNT_ligand=['WNT1','WNT2','WNT2B','WNT3','WNT3A','WNT4',\n",
    "                          'WNT5A','WNT5B','WNT6','WNT7A','WNT7B',#'WNT8A',\n",
    "                          'WNT8B','WNT9A','WNT9B','WNT10A','WNT10B','WNT11','WNT16', \n",
    "            'RSPO1','RSPO2','RSPO3','RSPO4'] # WNT amp\n",
    "WNT_receptor_cofactor=['FZD1','FZD2','FZD3','FZD4','FZD5','FZD6','FZD7','FZD8','FZD9','FZD10',\n",
    "                        'LGR4','LGR5','LGR6'] # WNT amp\n"
   ]
  },
  {
   "cell_type": "code",
   "execution_count": 71,
   "id": "e94d931b",
   "metadata": {},
   "outputs": [],
   "source": [
    "WNT_list = {'WNT_ligand':WNT_ligand,\n",
    "           'WNT_receptor_cofactor':WNT_receptor_cofactor}"
   ]
  },
  {
   "cell_type": "code",
   "execution_count": null,
   "id": "7a9d517f",
   "metadata": {},
   "outputs": [],
   "source": [
    "with plt.style.context('./plt_style'):\n",
    "    sc.pl.dotplot(adata_all_noTC_cleanCI, WNT_receptor_cofactor, \n",
    "                  groupby=['sample_origin','cell_identity'], dendrogram=False)\n",
    ";    "
   ]
  },
  {
   "cell_type": "code",
   "execution_count": null,
   "id": "1760a8cd",
   "metadata": {},
   "outputs": [],
   "source": [
    "with plt.style.context('./plt_style'):\n",
    "    sc.pl.dotplot(adata_epi_noTC_cleanCI, WNT_receptor_cofactor, groupby=['cell_identity'], dendrogram=False)\n",
    ";    "
   ]
  },
  {
   "cell_type": "code",
   "execution_count": null,
   "id": "eb39d5c1",
   "metadata": {},
   "outputs": [],
   "source": [
    "# WNT receptors in Epi\n",
    "with plt.style.context('./plt_style'):\n",
    "    sc.pl.dotplot(adata_epi_noTC_cleanCI, WNT_list['WNT_receptor_cofactor'], \n",
    "                  groupby=['Uhlitz_scANVI_noTC','cell_identity'], dendrogram=False, swap_axes=True)\n",
    ";    "
   ]
  },
  {
   "cell_type": "code",
   "execution_count": null,
   "id": "738d1ac3",
   "metadata": {},
   "outputs": [],
   "source": [
    "# WNT receptors in Epi\n",
    "with plt.style.context('./plt_style'):\n",
    "    sc.pl.dotplot(adata_epi_noTC_cleanCI, WNT_list, \n",
    "                  groupby=['Uhlitz_scANVI_noTC','cell_identity'], dendrogram=False, swap_axes=True)\n",
    ";    "
   ]
  },
  {
   "cell_type": "code",
   "execution_count": null,
   "id": "46e756ab",
   "metadata": {},
   "outputs": [],
   "source": [
    "# PROGENy pathway activity, only FZD9 is shared between the LR list and PROGENy targets\n",
    "with plt.style.context('./plt_style'):\n",
    "    sc.pl.dotplot(acts, 'WNT', groupby=['Uhlitz_scANVI_noTC','cell_identity'], dendrogram=False)\n",
    ";  \n"
   ]
  },
  {
   "cell_type": "code",
   "execution_count": null,
   "id": "24596509",
   "metadata": {},
   "outputs": [],
   "source": [
    "scv.pl.scatter(acts, basis='umap', color='WNT',\n",
    "               ncols=1, dpi=150, legend_loc='right margin', size = 2)"
   ]
  },
  {
   "cell_type": "code",
   "execution_count": null,
   "id": "1cb1dcd8",
   "metadata": {},
   "outputs": [],
   "source": [
    "scv.pl.scatter(adata_epi_noTC_cleanCI, basis='umap', color=['WNT2B','FZD5', 'BMP4'],\n",
    "               ncols=3, dpi=150, legend_loc='right margin', size = 2)"
   ]
  },
  {
   "cell_type": "code",
   "execution_count": null,
   "id": "62f9c308",
   "metadata": {},
   "outputs": [],
   "source": [
    "# stem markers\n",
    "scv.pl.scatter(adata_epi_noTC_cleanCI, basis='umap', color=['LGR5','OLFM4','EPHB2', 'XRCC2', 'MMP7',\n",
    "                                                           'ASCL2', 'SOX9', 'TNFRSF19', 'BCL2',\n",
    "                                                           'SOX4', 'CD44', 'YAP1', 'KIT', 'JUN', 'MIF', 'NPM1'],\n",
    "               ncols=3, dpi=150, legend_loc='right margin', size = 2,\n",
    "               vmin = 0, vmax = 5)"
   ]
  },
  {
   "cell_type": "code",
   "execution_count": null,
   "id": "d818f30b",
   "metadata": {},
   "outputs": [],
   "source": [
    "# c9 markers\n",
    "scv.pl.scatter(adata_epi_noTC_cleanCI, basis='umap', color=['PLA2G2A', 'PIGR', 'LEFTY1', \n",
    "                                                            'B3GNT7', 'SI','SPINK5', \n",
    "                                                            'MUC12','LCN2', 'DMBT1',\n",
    "                                                            'OLFM4', 'DUOX2','PRAC1', \n",
    "                                                            'PI3', 'SLPI', 'B3GALT5', \n",
    "                                                            'GOLM1','NXPE4', 'NXPE1'],\n",
    "               ncols=6, dpi=150, legend_loc='right margin', size = 2,\n",
    "              color_map='jet', vmin = 0, vmax = 5)"
   ]
  },
  {
   "cell_type": "code",
   "execution_count": null,
   "id": "88b83b05",
   "metadata": {},
   "outputs": [],
   "source": [
    "# c9 markers\n",
    "scv.pl.scatter(adata_epi_noTC_cleanCI, basis='umap', color=['PLA2G2A', 'PIGR', 'LEFTY1', \n",
    "                                                            'B3GNT7', 'MUC12','LCN2', \n",
    "                                                            'OLFM4', 'PI3', 'SLPI', \n",
    "                                                            'GOLM1','NUPR1', 'MUC1',\n",
    "                                                           'MUC5B', 'SELENOP', 'ZG16'],\n",
    "               ncols=5, dpi=150, legend_loc='right margin', size = 2,\n",
    "              color_map='jet', vmin = 0, vmax = 5)"
   ]
  },
  {
   "cell_type": "code",
   "execution_count": null,
   "id": "3dd7f097",
   "metadata": {},
   "outputs": [],
   "source": [
    "# playaround\n",
    "scv.pl.scatter(adata_epi_noTC_cleanCI, basis='umap', color=['BEST4'],\n",
    "               ncols=6, dpi=150, legend_loc='right margin', size = 2,\n",
    "              color_map='jet', vmin = 0, vmax = 5)"
   ]
  },
  {
   "cell_type": "code",
   "execution_count": null,
   "id": "b92fea8d",
   "metadata": {},
   "outputs": [],
   "source": [
    "# stem markers\n",
    "scv.pl.scatter(adata_epi_noTC_cleanCI, basis='umap', color=['LGR5','OLFM4','EPHB2', 'XRCC2', 'MMP7',\n",
    "                                                           'ASCL2', 'SOX9', 'TNFRSF19', 'BCL2',\n",
    "                                                           'SOX4', 'CD44', 'YAP1', 'KIT', 'JUN', 'MIF', 'NPM1'],\n",
    "               ncols=3, dpi=150, legend_loc='right margin', size = 2,\n",
    "              color_map='jet', vmin = 0, vmax = 5)"
   ]
  },
  {
   "cell_type": "code",
   "execution_count": null,
   "id": "6b718fda",
   "metadata": {},
   "outputs": [],
   "source": [
    "scv.pl.scatter(adata_all_noTC_cleanCI, basis='umap', color=['WNT2B','FZD5', 'BMP4','FOXP3', 'JUNB'],\n",
    "               ncols=3, dpi=150, legend_loc='right margin', size = 2)"
   ]
  },
  {
   "cell_type": "markdown",
   "id": "4e814733",
   "metadata": {},
   "source": [
    "#### EGF"
   ]
  },
  {
   "cell_type": "code",
   "execution_count": 85,
   "id": "7f77b4bb",
   "metadata": {},
   "outputs": [],
   "source": [
    "EGF_ligand = ['EGF','TGFA','HBEGF','BTC','AREG','EREG','EPGN']\n",
    "EGF_receptor = ['EGFR','ERBB2','ERBB3','ERBB4']\n",
    "\n",
    "EGF_list = {'EGF_ligand':['EGF','TGFA','HBEGF','BTC','AREG','EREG','EPGN'],\n",
    "            'EGF_receptor':['EGFR','ERBB2','ERBB3','ERBB4']\n",
    "}"
   ]
  },
  {
   "cell_type": "code",
   "execution_count": null,
   "id": "7b72269d",
   "metadata": {},
   "outputs": [],
   "source": [
    "with plt.style.context('./plt_style'):\n",
    "    sc.pl.dotplot(adata_all_noTC_cleanCI, EGF_receptor, groupby=['sample_origin','cell_identity'], dendrogram=False)\n",
    ";    "
   ]
  },
  {
   "cell_type": "code",
   "execution_count": null,
   "id": "515526f9",
   "metadata": {},
   "outputs": [],
   "source": [
    "with plt.style.context('./plt_style'):\n",
    "    sc.pl.dotplot(adata_epi_noTC_cleanCI, EGF_receptor, groupby=['cell_identity'], dendrogram=False)\n",
    ";    "
   ]
  },
  {
   "cell_type": "code",
   "execution_count": null,
   "id": "6de7a262",
   "metadata": {},
   "outputs": [],
   "source": [
    "with plt.style.context('./plt_style'):\n",
    "    sc.pl.dotplot(adata_epi_noTC_cleanCI, EGF_receptor, groupby=['Uhlitz_scANVI_noTC','cell_identity'], dendrogram=False,\n",
    "                 swap_axes=True)\n",
    "; "
   ]
  },
  {
   "cell_type": "markdown",
   "id": "fdc7e92c",
   "metadata": {},
   "source": [
    "#### FGF"
   ]
  },
  {
   "cell_type": "code",
   "execution_count": 89,
   "id": "5f169848",
   "metadata": {},
   "outputs": [],
   "source": [
    "FGF_ligand = ['FGF1','FGF2','FGF3','FGF4','FGF5',#'FGF6',\n",
    "              'FGF7','FGF8','FGF9','FGF10']\n",
    "FGF_receptor = ['FGFR1','FGFR2','FGFR3','FGFR4']\n",
    "\n",
    "FGF_list = {\n",
    "    'FGF_ligand':['FGF1','FGF2','FGF3','FGF4','FGF5',#'FGF6',\n",
    "                  'FGF7','FGF8','FGF9','FGF10'],\n",
    "    'FGF_receptor':['FGFR1','FGFR2','FGFR3','FGFR4']\n",
    "}"
   ]
  },
  {
   "cell_type": "code",
   "execution_count": null,
   "id": "393ac0a1",
   "metadata": {},
   "outputs": [],
   "source": [
    "with plt.style.context('./plt_style'):\n",
    "    sc.pl.dotplot(adata_all_noTC_cleanCI, FGF_receptor, groupby=['sample_origin','cell_identity'], dendrogram=False)\n",
    ";    "
   ]
  },
  {
   "cell_type": "code",
   "execution_count": null,
   "id": "8a76c048",
   "metadata": {},
   "outputs": [],
   "source": [
    "with plt.style.context('./plt_style'):\n",
    "    sc.pl.dotplot(adata_epi_noTC_cleanCI, FGF_receptor, groupby=['cell_identity'], dendrogram=False)\n",
    ";    "
   ]
  },
  {
   "cell_type": "code",
   "execution_count": null,
   "id": "384980d5",
   "metadata": {},
   "outputs": [],
   "source": [
    "with plt.style.context('./plt_style'):\n",
    "    sc.pl.dotplot(adata_epi_noTC_cleanCI, FGF_receptor, groupby=['Uhlitz_scANVI_noTC','cell_identity'], dendrogram=False,\n",
    "                 swap_axes=True)\n",
    "; "
   ]
  },
  {
   "cell_type": "markdown",
   "id": "886dc915",
   "metadata": {},
   "source": [
    "#### BMP"
   ]
  },
  {
   "cell_type": "code",
   "execution_count": 93,
   "id": "9932afeb",
   "metadata": {},
   "outputs": [],
   "source": [
    "BMP_ligand = ['BMP2','BMP4','BMP6','BMP7']\n",
    "BMP_receptor = ['BMPR1A','BMPR1B','BMPR2']\n",
    "\n",
    "BMP_list = {\n",
    "    'BMP_ligand':['BMP2','BMP4','BMP6','BMP7'],\n",
    "    'BMP_receptor':['BMPR1A','BMPR1B','BMPR2']\n",
    "\n",
    "}"
   ]
  },
  {
   "cell_type": "code",
   "execution_count": null,
   "id": "47aa0fbf",
   "metadata": {},
   "outputs": [],
   "source": [
    "with plt.style.context('./plt_style'):\n",
    "    sc.pl.dotplot(adata_all_noTC_cleanCI, BMP_receptor, groupby=['sample_origin','cell_identity'], dendrogram=False)\n",
    ";    "
   ]
  },
  {
   "cell_type": "code",
   "execution_count": null,
   "id": "3154a1c5",
   "metadata": {},
   "outputs": [],
   "source": [
    "with plt.style.context('./plt_style'):\n",
    "    sc.pl.dotplot(adata_epi_noTC_cleanCI, BMP_receptor, groupby=['cell_identity'], dendrogram=False)\n",
    ";    "
   ]
  },
  {
   "cell_type": "code",
   "execution_count": null,
   "id": "301a4b89",
   "metadata": {},
   "outputs": [],
   "source": [
    "with plt.style.context('./plt_style'):\n",
    "    sc.pl.dotplot(adata_epi_noTC_cleanCI, BMP_receptor, groupby=['Uhlitz_scANVI_noTC','cell_identity'], dendrogram=False,\n",
    "                 swap_axes=True)\n",
    "; "
   ]
  },
  {
   "cell_type": "markdown",
   "id": "94e9ad98",
   "metadata": {},
   "source": [
    "#### TGFB"
   ]
  },
  {
   "cell_type": "code",
   "execution_count": 97,
   "id": "27991e15",
   "metadata": {},
   "outputs": [],
   "source": [
    "TGFB_ligand = ['TGFB1','TGFB2','TGFB3','LTBP1','LRRC32','BMP3',#'GDF2','BMP10',\n",
    "               'INHA','INHBA','INHBB',\n",
    "               'INHBC','INHBE','FST']\n",
    "TGFB_receptor = ['TGFBR1','TGFBR2','ACVR1','ACVR1B','ACVR1C',#'AVCR2A',\n",
    "                 'ACVR2B']\n",
    "\n",
    "TGFB_list = {'TGFB_ligand':TGFB_ligand,\n",
    "             'TGFB_receptor':TGFB_receptor\n",
    "    \n",
    "}"
   ]
  },
  {
   "cell_type": "code",
   "execution_count": null,
   "id": "7927c3b4",
   "metadata": {},
   "outputs": [],
   "source": [
    "with plt.style.context('./plt_style'):\n",
    "    sc.pl.dotplot(adata_all_noTC_cleanCI, TGFB_receptor, groupby=['sample_origin','cell_identity'], dendrogram=False)\n",
    ";    "
   ]
  },
  {
   "cell_type": "code",
   "execution_count": null,
   "id": "f5b2bb44",
   "metadata": {},
   "outputs": [],
   "source": [
    "with plt.style.context('./plt_style'):\n",
    "    sc.pl.dotplot(adata_epi_noTC_cleanCI, TGFB_receptor, groupby=['cell_identity'], dendrogram=False)\n",
    ";    "
   ]
  },
  {
   "cell_type": "code",
   "execution_count": null,
   "id": "38468053",
   "metadata": {},
   "outputs": [],
   "source": [
    "with plt.style.context('./plt_style'):\n",
    "    sc.pl.dotplot(adata_epi_noTC_cleanCI, TGFB_receptor, groupby=['Uhlitz_scANVI_noTC','cell_identity'], dendrogram=False,\n",
    "                 swap_axes=True)\n",
    "; "
   ]
  },
  {
   "cell_type": "markdown",
   "id": "93257d55",
   "metadata": {},
   "source": [
    "#### NOTCH"
   ]
  },
  {
   "cell_type": "code",
   "execution_count": 101,
   "id": "6f532905",
   "metadata": {},
   "outputs": [],
   "source": [
    "NOTCH_ligand = ['JAG1','JAG2','DLL1','DLL3','DLL4']\n",
    "NOTCH_receptor = ['NOTCH1','NOTCH2','NOTCH3','NOTCH4']\n",
    "\n",
    "NOTCH_list = {'NOTCH_ligand':NOTCH_ligand,\n",
    "             'NOTCH_receptor':NOTCH_receptor}"
   ]
  },
  {
   "cell_type": "code",
   "execution_count": null,
   "id": "3838f6cf",
   "metadata": {},
   "outputs": [],
   "source": [
    "with plt.style.context('./plt_style'):\n",
    "    sc.pl.dotplot(adata_all_noTC_cleanCI, NOTCH_receptor, groupby=['sample_origin','cell_identity'], dendrogram=False)\n",
    ";    "
   ]
  },
  {
   "cell_type": "code",
   "execution_count": null,
   "id": "adb9c3fc",
   "metadata": {},
   "outputs": [],
   "source": [
    "with plt.style.context('./plt_style'):\n",
    "    sc.pl.dotplot(adata_epi_noTC_cleanCI, NOTCH_receptor, groupby=['cell_identity'], dendrogram=False)\n",
    ";    "
   ]
  },
  {
   "cell_type": "code",
   "execution_count": null,
   "id": "07a6d7a5",
   "metadata": {},
   "outputs": [],
   "source": [
    "with plt.style.context('./plt_style'):\n",
    "    sc.pl.dotplot(adata_epi_noTC_cleanCI, NOTCH_receptor, groupby=['Uhlitz_scANVI_noTC','cell_identity'], dendrogram=False,\n",
    "                 swap_axes=True)\n",
    "; "
   ]
  },
  {
   "cell_type": "markdown",
   "id": "09a22181",
   "metadata": {},
   "source": [
    "#### EPHRIN"
   ]
  },
  {
   "cell_type": "code",
   "execution_count": 105,
   "id": "841943be",
   "metadata": {},
   "outputs": [],
   "source": [
    "EPH_ligand = ['EFNA1','EFNA2','EFNA3','EFNA4','EFNA5','EFNB1','EFNB2','EFNB3']\n",
    "EPH_receptor = ['EPHA1','EPHA2','EPHA3','EPHA4',\n",
    "                'EPHA5','EPHA6','EPHA7','EPHA8',\n",
    "                'EPHB1','EPHB2','EPHB3','EPHB4',#'EPHB5',\n",
    "                'EPHB6']\n",
    "\n",
    "EPH_list = {\n",
    "    'EPH_ligand':EPH_ligand,\n",
    "    'EPH_receptor':EPH_receptor\n",
    "}"
   ]
  },
  {
   "cell_type": "code",
   "execution_count": null,
   "id": "eda04ffa",
   "metadata": {},
   "outputs": [],
   "source": [
    "with plt.style.context('./plt_style'):\n",
    "    sc.pl.dotplot(adata_all_noTC_cleanCI, EPH_list, groupby=['sample_origin','cell_identity'], dendrogram=False)\n",
    ";    "
   ]
  },
  {
   "cell_type": "code",
   "execution_count": null,
   "id": "2b974ae1",
   "metadata": {},
   "outputs": [],
   "source": [
    "with plt.style.context('./plt_style'):\n",
    "    sc.pl.dotplot(adata_epi_noTC_cleanCI, EPH_list, groupby=['cell_identity'], dendrogram=False)\n",
    ";    "
   ]
  },
  {
   "cell_type": "code",
   "execution_count": null,
   "id": "0a02643a",
   "metadata": {},
   "outputs": [],
   "source": [
    "with plt.style.context('./plt_style'):\n",
    "    sc.pl.dotplot(adata_epi_noTC_cleanCI, EPH_list, groupby=['Uhlitz_scANVI_noTC','cell_identity'], dendrogram=False,\n",
    "                 swap_axes=True)\n",
    "; "
   ]
  },
  {
   "cell_type": "markdown",
   "id": "27aa9458",
   "metadata": {},
   "source": [
    "#### Hippo/YAP"
   ]
  },
  {
   "cell_type": "code",
   "execution_count": 109,
   "id": "62a61013",
   "metadata": {},
   "outputs": [],
   "source": [
    "HIP_ligand = ['DCHS1', 'DCHS2']\n",
    "HIP_receptor = ['FAT1', 'FAT2', 'FAT3', 'FAT4']\n",
    "\n",
    "HIP_list = {\n",
    "    'HIP_ligand':HIP_ligand,\n",
    "    'HIP_receptor':HIP_receptor\n",
    "}"
   ]
  },
  {
   "cell_type": "code",
   "execution_count": null,
   "id": "a053fd6b",
   "metadata": {},
   "outputs": [],
   "source": [
    "with plt.style.context('./plt_style'):\n",
    "    sc.pl.dotplot(adata_all_noTC_cleanCI, HIP_list, groupby=['sample_origin','cell_identity'], dendrogram=False)\n",
    ";    "
   ]
  },
  {
   "cell_type": "code",
   "execution_count": null,
   "id": "95e78b1f",
   "metadata": {},
   "outputs": [],
   "source": [
    "with plt.style.context('./plt_style'):\n",
    "    sc.pl.dotplot(adata_epi_noTC_cleanCI, HIP_list, groupby=['cell_identity'], dendrogram=False)\n",
    ";    "
   ]
  },
  {
   "cell_type": "code",
   "execution_count": null,
   "id": "2638fd54",
   "metadata": {},
   "outputs": [],
   "source": [
    "with plt.style.context('./plt_style'):\n",
    "    sc.pl.dotplot(adata_epi_noTC_cleanCI, HIP_list, groupby=['Uhlitz_scANVI_noTC','cell_identity'], dendrogram=False,\n",
    "                 swap_axes=True)\n",
    "; "
   ]
  }
 ],
 "metadata": {
  "kernelspec": {
   "display_name": "sc",
   "language": "python",
   "name": "sc"
  },
  "language_info": {
   "codemirror_mode": {
    "name": "ipython",
    "version": 3
   },
   "file_extension": ".py",
   "mimetype": "text/x-python",
   "name": "python",
   "nbconvert_exporter": "python",
   "pygments_lexer": "ipython3",
   "version": "3.9.10"
  }
 },
 "nbformat": 4,
 "nbformat_minor": 5
}
