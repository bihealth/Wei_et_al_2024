{
 "cells": [
  {
   "cell_type": "code",
   "execution_count": null,
   "id": "659a822a",
   "metadata": {},
   "outputs": [],
   "source": [
    "import os\n",
    "import sys\n",
    "print(\"Python version\" + sys.version)\n",
    "os.getcwd()\n",
    "print(sys.executable)"
   ]
  },
  {
   "cell_type": "code",
   "execution_count": null,
   "id": "fd4e1f79",
   "metadata": {},
   "outputs": [],
   "source": [
    "import numpy as np\n",
    "np.random.seed(123)\n",
    "import pandas as pd\n",
    "import scipy\n",
    "import itertools\n",
    "\n",
    "import umap\n",
    "import matplotlib.pyplot as plt\n",
    "%matplotlib inline\n",
    "import seaborn as sns\n",
    "\n",
    "import scanpy as sc\n",
    "import anndata as ad\n",
    "import scvelo as scv\n",
    "from tqdm.notebook import tqdm\n",
    "\n",
    "from pathlib import Path"
   ]
  },
  {
   "cell_type": "code",
   "execution_count": null,
   "id": "00a350da",
   "metadata": {},
   "outputs": [],
   "source": [
    "from IPython.display import clear_output"
   ]
  },
  {
   "cell_type": "code",
   "execution_count": null,
   "id": "885afcda",
   "metadata": {},
   "outputs": [],
   "source": [
    "from muon import prot as pt\n",
    "from joblib import dump, load"
   ]
  },
  {
   "cell_type": "code",
   "execution_count": null,
   "id": "f6368263",
   "metadata": {},
   "outputs": [],
   "source": [
    "import scrublet as scr"
   ]
  },
  {
   "cell_type": "code",
   "execution_count": null,
   "id": "92436c85",
   "metadata": {},
   "outputs": [],
   "source": [
    "sc.settings.verbosity = 1\n",
    "sc.logging.print_header()\n",
    "sc.settings.set_figure_params(dpi=80, facecolor='white')"
   ]
  },
  {
   "cell_type": "code",
   "execution_count": 7,
   "id": "21488835",
   "metadata": {},
   "outputs": [],
   "source": [
    "# remove weird grid from scvelo\n",
    "plt.rcParams['axes.grid'] = False"
   ]
  },
  {
   "cell_type": "code",
   "execution_count": 8,
   "id": "c1353331",
   "metadata": {},
   "outputs": [],
   "source": [
    "import itertools"
   ]
  },
  {
   "cell_type": "code",
   "execution_count": 9,
   "id": "64399cef",
   "metadata": {},
   "outputs": [],
   "source": [
    "from vcf_functions import *"
   ]
  },
  {
   "cell_type": "code",
   "execution_count": 10,
   "id": "ae73ae60",
   "metadata": {},
   "outputs": [],
   "source": [
    "from CCISM import *"
   ]
  },
  {
   "cell_type": "markdown",
   "id": "9b34891f",
   "metadata": {},
   "source": [
    "### data input and variables"
   ]
  },
  {
   "cell_type": "code",
   "execution_count": 12,
   "id": "229e7995",
   "metadata": {},
   "outputs": [],
   "source": [
    "data_folder = '../data'"
   ]
  },
  {
   "cell_type": "code",
   "execution_count": 13,
   "id": "61ad30eb",
   "metadata": {},
   "outputs": [],
   "source": [
    "new_data_folder = '../processed_data'"
   ]
  },
  {
   "cell_type": "code",
   "execution_count": 14,
   "id": "f0210388",
   "metadata": {},
   "outputs": [],
   "source": [
    "tsamples = ['p007t', 'p008t', 'p009t1','p009t2', 'p013t', 'p014t', 'p016t', \n",
    "           'p020t', 'p021t', 'p026t', 'p035t'] "
   ]
  },
  {
   "cell_type": "code",
   "execution_count": 15,
   "id": "839596df",
   "metadata": {},
   "outputs": [],
   "source": [
    "samples = ['p007n', 'p008n', 'p009n1', 'p009n2','p013n', 'p014n', 'p016n', \n",
    "           'p020n', 'p021n'] + tsamples"
   ]
  },
  {
   "cell_type": "markdown",
   "id": "7d18716b",
   "metadata": {},
   "source": [
    "### data"
   ]
  },
  {
   "cell_type": "code",
   "execution_count": null,
   "id": "83563bfe",
   "metadata": {},
   "outputs": [],
   "source": [
    "adata_epi = sc.read(Path(new_data_folder)/'CB_epi_cells_iCMS.h5')"
   ]
  },
  {
   "cell_type": "markdown",
   "id": "509d5a95",
   "metadata": {},
   "source": [
    "### CCISM_call: can run in this ipynb or use script/run_CCISM.sh"
   ]
  },
  {
   "cell_type": "code",
   "execution_count": 71,
   "id": "0563a3d5",
   "metadata": {},
   "outputs": [],
   "source": [
    "snv_sc = pd.DataFrame(columns=['donor', 'sample', 't/n',\n",
    "                               'alt_per_cell', 'dp_per_cell',\n",
    "                              ])\n",
    "filter_var = pd.DataFrame(columns=['cell_id','filter_dp','filter_alt', 'mean_VAF','scitcem_call', 'scitcem_p'])"
   ]
  },
  {
   "cell_type": "code",
   "execution_count": null,
   "id": "435e9415",
   "metadata": {},
   "outputs": [],
   "source": [
    "for i in np.arange(0,len(samples)):\n",
    "    cellsnp_path = os.path.join(new_data_folder + '/cellSNP/' + samples[i])\n",
    "    \n",
    "    if os.path.exists(cellsnp_path):            \n",
    "        print(samples[i] + ' exists')\n",
    "        cell, AD, DP, cellsnp_vcf = read_cellsnp(cellsnp_path)\n",
    "                \n",
    "        # per sample average \n",
    "        df_add = pd.DataFrame({'donor': [samples[i][:4]],\n",
    "                               'sample': [samples[i]],\n",
    "                               't/n':[samples[i][4:5]],\n",
    "                               'alt_per_cell': [np.nanmean(np.nansum(AD.toarray(), axis = 0))],\n",
    "                               'dp_per_cell': [np.nanmean(np.nansum(DP.toarray(), axis = 0))]\n",
    "                              })\n",
    "        snv_sc = pd.concat([snv_sc,df_add], ignore_index=True)\n",
    "\n",
    "        # retrieve all the var information\n",
    "        # number of alt and rd\n",
    "        alt = pd.DataFrame(np.nansum(AD.toarray(), axis = 0), \n",
    "                                                  columns=['filter_alt'])\n",
    "        alt['cell_id'] = samples[i] + \":\" + cell\n",
    "        alt['cell_id'] = alt['cell_id'].apply(lambda x: x.replace('-1',''))\n",
    "\n",
    "        alt['filter_dp'] = np.nansum(DP.toarray(), axis = 0)  \n",
    "        alt['mean_VAF'] = np.nanmean((AD.toarray())/(DP.toarray()), axis = 0)\n",
    "\n",
    "        # scitcem\n",
    "        # skip normal samples\n",
    "        if samples[i][4:5] == 'n':\n",
    "            alt['CCISM_call'] = 'normal_sample'\n",
    "        else:\n",
    "            CCISM_em = CCISM.EMoptimize(AD, DP, 0.4, 1.e-4)\n",
    "            alt['CCISM_call'] = np.array([0,1])[(CCISM_em['p'] > .5).astype(int)]\n",
    "            alt['CCISM_call'].replace({0: \"genomically normal\\n(tumour sample)\", \n",
    "                                         1: \"genomically tumour\\n(tumour sample)\"}, inplace=True)\n",
    "            # plot distribution of p\n",
    "            plt.figure(figsize=(6, 3))\n",
    "            plt.hist(CCISM_em['p'])\n",
    "            plt.title('CCISM p value distribution of ' + samples[i])\n",
    "            alt['CCISM_p'] = CCISM_em['p']\n",
    "            # sum into one df    \n",
    "        filter_var = pd.concat([filter_var, alt], ignore_index=True)"
   ]
  },
  {
   "cell_type": "code",
   "execution_count": 124,
   "id": "3bed00e8",
   "metadata": {},
   "outputs": [],
   "source": [
    "filter_var_copy = filter_var\n",
    "filter_var_copy = filter_var_copy.set_index('cell_id', verify_integrity=True, drop=True)"
   ]
  },
  {
   "cell_type": "code",
   "execution_count": null,
   "id": "b2dbf6dc",
   "metadata": {},
   "outputs": [],
   "source": [
    "filter_var_copy.to_csv(Path(new_data_folder)/'CCISM_all_output.csv')"
   ]
  },
  {
   "cell_type": "code",
   "execution_count": 127,
   "id": "57b0cbf3",
   "metadata": {},
   "outputs": [],
   "source": [
    "filter_var_copy = filter_var_copy.reindex(adata_epi.obs.index)"
   ]
  },
  {
   "cell_type": "code",
   "execution_count": 219,
   "id": "7eb00704",
   "metadata": {},
   "outputs": [],
   "source": [
    "adata_epi.obs[['filter_dp', 'filter_alt', 'CCISM_call', \n",
    "               'mean_VAF', 'CCISM_p']] = filter_var_copy[['filter_dp', 'filter_alt', 'CCISM_call', \n",
    "                                                            'mean_VAF', 'CCISM_p']]"
   ]
  },
  {
   "cell_type": "code",
   "execution_count": 222,
   "id": "0bef9d5d",
   "metadata": {},
   "outputs": [],
   "source": [
    "adata_epi.obs['CCISM_call'] = adata_epi.obs['CCISM_call'].astype('category')"
   ]
  },
  {
   "cell_type": "code",
   "execution_count": 223,
   "id": "27d00557",
   "metadata": {},
   "outputs": [],
   "source": [
    "adata_epi.obs['CCISM_call'] = adata_epi.obs['CCISM_call'].cat.reorder_categories([\n",
    "    'genomically tumour\\n(tumour sample)', 'genomically normal\\n(tumour sample)', 'normal_sample'])"
   ]
  },
  {
   "cell_type": "code",
   "execution_count": 224,
   "id": "cf19c5a2",
   "metadata": {},
   "outputs": [],
   "source": [
    "adata_epi.uns['CCISM_call_colors'] = ['#ff7f0e','#1f77b4', '#d3d3d3']"
   ]
  },
  {
   "cell_type": "code",
   "execution_count": null,
   "id": "0b11b5f8",
   "metadata": {},
   "outputs": [],
   "source": [
    "scv.pl.scatter(adata_epi, basis='umap', color=['CCISM_call', 'CCISM_p'], \n",
    "               ncols=1, dpi=300, legend_loc='right margin', size = 2)"
   ]
  },
  {
   "cell_type": "markdown",
   "id": "f84abd16",
   "metadata": {},
   "source": [
    "### Numbat\n",
    "generated by script/numbatcollect_numbat_result.ipynb"
   ]
  },
  {
   "cell_type": "code",
   "execution_count": 135,
   "id": "4c924736",
   "metadata": {},
   "outputs": [],
   "source": [
    "numbat_all = pd.read_csv(Path(new_data_folder)/'numbat/numbat_all_output_clone_post_combined9.csv',\n",
    "                         index_col=0) "
   ]
  },
  {
   "cell_type": "code",
   "execution_count": 137,
   "id": "7d62391d",
   "metadata": {},
   "outputs": [],
   "source": [
    "numbat_results_copy = numbat_all.reindex(adata_epi.obs.index)"
   ]
  },
  {
   "cell_type": "code",
   "execution_count": 235,
   "id": "05993a9c",
   "metadata": {},
   "outputs": [],
   "source": [
    "adata_epi.obs['numbat'] = None"
   ]
  },
  {
   "cell_type": "code",
   "execution_count": 234,
   "id": "31d82f62",
   "metadata": {},
   "outputs": [
    {
     "data": {
      "text/plain": [
       "Index(['normal', 'tumour'], dtype='object')"
      ]
     },
     "execution_count": 234,
     "metadata": {},
     "output_type": "execute_result"
    }
   ],
   "source": [
    "adata_epi.obs['sample_origin'].cat.categories"
   ]
  },
  {
   "cell_type": "code",
   "execution_count": 236,
   "id": "9711675d",
   "metadata": {},
   "outputs": [],
   "source": [
    "for i in np.arange(0, adata_epi.shape[0]):\n",
    "    if adata_epi.obs['sample_origin'][i] == 'normal':\n",
    "        adata_epi.obs['numbat'][i] = 'normal_sample'\n",
    "\n",
    "    else:\n",
    "        adata_epi.obs['numbat'][i] = numbat_results_copy.loc[adata_epi.obs['numbat'].index[i]]['compartment_opt']"
   ]
  },
  {
   "cell_type": "code",
   "execution_count": 238,
   "id": "f3edaa7c",
   "metadata": {},
   "outputs": [],
   "source": [
    "adata_epi.obs[['clone_opt', 'GT_opt', 'p_cnv']] = numbat_results_copy[['clone_opt', 'GT_opt', 'p_cnv']]"
   ]
  },
  {
   "cell_type": "markdown",
   "id": "db1574d0",
   "metadata": {},
   "source": [
    "### inferCNV"
   ]
  },
  {
   "cell_type": "code",
   "execution_count": 241,
   "id": "0b137b9b",
   "metadata": {},
   "outputs": [],
   "source": [
    "infercnv_result = pd.read_csv(Path(new_data_folder)/'inferCNV/infercnv_clone_scores.tsv', sep='\\t')"
   ]
  },
  {
   "cell_type": "code",
   "execution_count": 244,
   "id": "176e9512",
   "metadata": {},
   "outputs": [],
   "source": [
    "infercnv_result = infercnv_result.set_index('cell_id')"
   ]
  },
  {
   "cell_type": "code",
   "execution_count": 245,
   "id": "fb0395f3",
   "metadata": {},
   "outputs": [],
   "source": [
    "infercnv_result = infercnv_result.reindex(adata_epi.obs.index)"
   ]
  },
  {
   "cell_type": "code",
   "execution_count": null,
   "id": "a853c888",
   "metadata": {},
   "outputs": [],
   "source": [
    "adata_epi.obs[['cna_score', 'cna_clone', 'clone']] = infercnv_result[['cna_score', 'cna_clone', 'clone']]"
   ]
  },
  {
   "cell_type": "code",
   "execution_count": 311,
   "id": "126e1d3a",
   "metadata": {},
   "outputs": [],
   "source": [
    "adata_epi.obs['inferCNV_result'] = None"
   ]
  },
  {
   "cell_type": "code",
   "execution_count": 312,
   "id": "0bca60fa",
   "metadata": {},
   "outputs": [],
   "source": [
    "for i in np.arange(0, adata_epi.shape[0]):\n",
    "    if adata_epi.obs['cna_clone'][i] == 'Normal':\n",
    "        adata_epi.obs['inferCNV_result'][i] = 'normal_sample'\n",
    "\n",
    "    else:\n",
    "        adata_epi.obs['inferCNV_result'][i] = adata_epi.obs['cna_clone'][i]"
   ]
  },
  {
   "cell_type": "markdown",
   "id": "ef04c4d9",
   "metadata": {},
   "source": [
    "### fix colors and UMAP"
   ]
  },
  {
   "cell_type": "code",
   "execution_count": 254,
   "id": "07b29ddf",
   "metadata": {},
   "outputs": [],
   "source": [
    "adata_epi.obs['sample_origin'] = adata_epi.obs['sample_origin'].cat.rename_categories({\n",
    "    'normal':'\\nnormal\\nsample\\n', 'tumour':'tumour\\nsample'})"
   ]
  },
  {
   "cell_type": "code",
   "execution_count": 328,
   "id": "5621ca3a",
   "metadata": {},
   "outputs": [],
   "source": [
    "adata_epi.uns['sample_origin_colors'] = ['#d3d3d3', '#ff7f0e']"
   ]
  },
  {
   "cell_type": "code",
   "execution_count": 321,
   "id": "d0bd160f",
   "metadata": {},
   "outputs": [],
   "source": [
    "adata_epi.uns['MS_status_colors'] = ['#D45B6E', '#EAA945']"
   ]
  },
  {
   "cell_type": "code",
   "execution_count": 323,
   "id": "f119b199",
   "metadata": {},
   "outputs": [],
   "source": [
    "# normal vs MSS vs MSI\n",
    "adata_epi.obs['normal_vs_MS'] = None\n",
    "\n",
    "for i in np.arange(0, adata_epi.shape[0]):\n",
    "    if adata_epi.obs['sample_origin'][i] == 'tumour\\nsample':\n",
    "        adata_epi.obs['normal_vs_MS'][i] = adata_epi.obs['MS_status'][i]\n",
    "    else:\n",
    "        adata_epi.obs['normal_vs_MS'][i] = 'normal\\nsample'"
   ]
  },
  {
   "cell_type": "code",
   "execution_count": 324,
   "id": "60fe3fa6",
   "metadata": {},
   "outputs": [],
   "source": [
    "adata_epi.uns['normal_vs_MS_colors'] = ['#D45B6E', '#EAA945', '#d3d3d3']"
   ]
  },
  {
   "cell_type": "code",
   "execution_count": 310,
   "id": "92224ae5",
   "metadata": {},
   "outputs": [],
   "source": [
    "adata_epi.obs['filter_dp']=adata_epi.obs['filter_dp'].astype(int)\n",
    "adata_epi.obs['filter_alt']=adata_epi.obs['filter_alt'].astype(int)"
   ]
  },
  {
   "cell_type": "code",
   "execution_count": null,
   "id": "8e8f1883",
   "metadata": {},
   "outputs": [],
   "source": [
    "adata_epi.write(Path(new_data_folder)/'CB_epi_Numbat_CCISM_inferCNV_iCMS.h5')"
   ]
  }
 ],
 "metadata": {
  "kernelspec": {
   "display_name": "sc",
   "language": "python",
   "name": "sc"
  },
  "language_info": {
   "codemirror_mode": {
    "name": "ipython",
    "version": 3
   },
   "file_extension": ".py",
   "mimetype": "text/x-python",
   "name": "python",
   "nbconvert_exporter": "python",
   "pygments_lexer": "ipython3",
   "version": "3.9.10"
  }
 },
 "nbformat": 4,
 "nbformat_minor": 5
}
