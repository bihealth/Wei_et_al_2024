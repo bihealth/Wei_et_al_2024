{
 "cells": [
  {
   "cell_type": "code",
   "execution_count": null,
   "id": "ff56525e",
   "metadata": {},
   "outputs": [],
   "source": [
    "library(tidyverse)\n",
    "library(ggplot2)\n",
    "library(dplyr)\n",
    "library(patchwork)\n",
    "library(cowplot)\n",
    "\n",
    "library(rhdf5)\n",
    "\n",
    "library(infercnv)"
   ]
  },
  {
   "cell_type": "code",
   "execution_count": null,
   "id": "3a1a351e",
   "metadata": {},
   "outputs": [],
   "source": [
    "library(Seurat)"
   ]
  },
  {
   "cell_type": "code",
   "execution_count": null,
   "id": "8b87ca7b",
   "metadata": {},
   "outputs": [],
   "source": [
    "library(Matrix)"
   ]
  },
  {
   "cell_type": "code",
   "execution_count": null,
   "id": "d822e211",
   "metadata": {},
   "outputs": [],
   "source": [
    "source('function_single_cell_conversion.R')"
   ]
  },
  {
   "cell_type": "markdown",
   "id": "5990b479",
   "metadata": {},
   "source": [
    "#### h5"
   ]
  },
  {
   "cell_type": "code",
   "execution_count": null,
   "id": "c56620a8",
   "metadata": {},
   "outputs": [],
   "source": [
    "getwd()"
   ]
  },
  {
   "cell_type": "code",
   "execution_count": null,
   "id": "0d893c7f",
   "metadata": {},
   "outputs": [],
   "source": [
    "adata = H5Fopen(\"../datasets_new_preprocessing/202305_CB_epi_cells.h5\")"
   ]
  },
  {
   "cell_type": "code",
   "execution_count": null,
   "id": "73229087",
   "metadata": {},
   "outputs": [],
   "source": [
    "sobj = read_scanpy_h5('../datasets_new_preprocessing/202305_CB_epi_cells.h5',\n",
    "                           if_pca = TRUE, if_umap = TRUE, if_CB_counts=TRUE, if_raw_counts=FALSE)"
   ]
  },
  {
   "cell_type": "code",
   "execution_count": null,
   "id": "025f162c",
   "metadata": {},
   "outputs": [],
   "source": [
    "Assays(sobj)"
   ]
  },
  {
   "cell_type": "code",
   "execution_count": null,
   "id": "ce71eb25",
   "metadata": {},
   "outputs": [],
   "source": [
    "sobj"
   ]
  },
  {
   "cell_type": "markdown",
   "id": "043749c1",
   "metadata": {},
   "source": [
    "#### inferCNV"
   ]
  },
  {
   "cell_type": "code",
   "execution_count": null,
   "id": "ff33f526",
   "metadata": {},
   "outputs": [],
   "source": [
    "cnv_obj = readRDS('../datasets_new_preprocessing/inferCNV/run.final.infercnv_obj')"
   ]
  },
  {
   "cell_type": "code",
   "execution_count": null,
   "id": "7af4484c",
   "metadata": {},
   "outputs": [],
   "source": [
    "# long format: cell, gene, expression level\n",
    "infercnv_expression = as.data.frame(cnv_obj@expr.data) %>% \n",
    "tibble::rownames_to_column(var = 'gene') %>% \n",
    "gather(key = 'cell', value = 'expression',-gene)"
   ]
  },
  {
   "cell_type": "code",
   "execution_count": null,
   "id": "7df449df",
   "metadata": {},
   "outputs": [],
   "source": [
    "dim(infercnv_expression)"
   ]
  },
  {
   "cell_type": "code",
   "execution_count": null,
   "id": "da4c6eb7",
   "metadata": {},
   "outputs": [],
   "source": [
    "head(infercnv_expression)"
   ]
  },
  {
   "cell_type": "code",
   "execution_count": null,
   "id": "3ba42edd",
   "metadata": {},
   "outputs": [],
   "source": [
    "gene_loc_table = as.data.frame(cnv_obj@gene_order) %>% tibble::rownames_to_column(var = 'gene')"
   ]
  },
  {
   "cell_type": "code",
   "execution_count": null,
   "id": "97c3194a",
   "metadata": {},
   "outputs": [],
   "source": [
    "dim(gene_loc_table)"
   ]
  },
  {
   "cell_type": "code",
   "execution_count": null,
   "id": "c314c1c8",
   "metadata": {},
   "outputs": [],
   "source": [
    "head(gene_loc_table)"
   ]
  },
  {
   "cell_type": "markdown",
   "id": "0fc8e2d2",
   "metadata": {},
   "source": [
    "### tree\n",
    "using Florian's code: https://itbgit.biologie.hu-berlin.de/uhlitz/sccrc/-/blob/master/_src/infercnv.R"
   ]
  },
  {
   "cell_type": "markdown",
   "id": "e9a3764d",
   "metadata": {},
   "source": [
    "seu_epi_final <- read_rds(\"../datasets/anno/CRC/3p/seu_epi_final.rds\")"
   ]
  },
  {
   "cell_type": "code",
   "execution_count": null,
   "id": "506e7e34",
   "metadata": {},
   "outputs": [],
   "source": [
    "# I think pid = patient id\n",
    "pids = c('p020t', 'p021t', 'p007t', 'p008t', 'p009t1', 'p009t2', 'p013t', 'p014t', 'p016t', 'p026t', 'p035t')"
   ]
  },
  {
   "cell_type": "code",
   "execution_count": null,
   "id": "019519dd",
   "metadata": {},
   "outputs": [],
   "source": [
    "dendro_lines <- read_lines(\"../datasets_new_preprocessing/inferCNV/infercnv.observations_dendrogram.txt\")"
   ]
  },
  {
   "cell_type": "markdown",
   "id": "609b4d4b",
   "metadata": {},
   "source": [
    "#### the order of sample != order in the dendro list..... \n",
    "lapply(dendro_lines, function(x) phylogram::read.dendrogram(text = x)) %>% \n",
    "       lapply(function(x) enframe(dendextend::cutree(x, k = 2), \"cell_id\", \"clone\"))"
   ]
  },
  {
   "cell_type": "code",
   "execution_count": null,
   "id": "041fe5bc",
   "metadata": {},
   "outputs": [],
   "source": [
    "dendro_list <- lapply(dendro_lines, function(x) phylogram::read.dendrogram(text = x)) %>% setNames(pids)\n",
    "cell_order <- lapply(dendro_lines, function(x) str_split(x, \"\\\\(|:|,|\\\\)\") %>% unlist %>% .[str_detect(., \"p0\")]) %>% unlist"
   ]
  },
  {
   "cell_type": "code",
   "execution_count": null,
   "id": "e16f51c6",
   "metadata": {},
   "outputs": [],
   "source": [
    "# reference cells\n",
    "epi_anno = read.csv2('../datasets_new_preprocessing/all_epi_cell_anno.txt', sep = ' ')"
   ]
  },
  {
   "cell_type": "code",
   "execution_count": null,
   "id": "0fdcefb6",
   "metadata": {},
   "outputs": [],
   "source": [
    "epi_anno_normal = epi_anno %>% tibble::rownames_to_column(var = 'cell_id') %>% \n",
    "filter(str_detect(cell_id, 'n')) %>% mutate(clone  = 'Normal', sample = gsub(':.*', '', cell_id))\n",
    "epi_anno_normal"
   ]
  },
  {
   "cell_type": "code",
   "execution_count": null,
   "id": "b422b8e1",
   "metadata": {},
   "outputs": [],
   "source": [
    "# cut the tree and put the reference cells back\n",
    "clone_table = lapply(dendro_list, function(x) enframe(dendextend::cutree(x, k = 2), \"cell_id\", \"clone\")) %>% \n",
    "       bind_rows(.id = 'sample') %>%\n",
    "       mutate(clone = as.character(clone)) %>% \n",
    "       mutate(cell_id = str_replace_all(cell_id, '-', ':')) %>% \n",
    "       bind_rows(epi_anno_normal[c('sample','cell_id', 'clone')]\n",
    "                )\n",
    "       "
   ]
  },
  {
   "cell_type": "code",
   "execution_count": null,
   "id": "39126fa5",
   "metadata": {},
   "outputs": [],
   "source": [
    "head(clone_table)"
   ]
  },
  {
   "cell_type": "code",
   "execution_count": null,
   "id": "85a28f63",
   "metadata": {},
   "outputs": [],
   "source": [
    "table(clone_table$sample, clone_table$clone)"
   ]
  },
  {
   "cell_type": "code",
   "execution_count": null,
   "id": "4e0d8f69",
   "metadata": {},
   "outputs": [],
   "source": [
    "# make a df to avoid subscript out of bounds issue with Florian's code...\n",
    "expr_all <- as.data.frame(cnv_obj@expr.data)"
   ]
  },
  {
   "cell_type": "code",
   "execution_count": null,
   "id": "14aaf317",
   "metadata": {},
   "outputs": [],
   "source": [
    "sparse_expr = Matrix(as.matrix(expr_all), sparse = TRUE)"
   ]
  },
  {
   "cell_type": "markdown",
   "id": "9c09a6b0",
   "metadata": {},
   "source": [
    "writeMM(obj = sparse_expr, file=\"../datasets_new_preprocessing/inferCNV/inferCNV_expr.mtx\")"
   ]
  },
  {
   "cell_type": "code",
   "execution_count": null,
   "id": "f6952735",
   "metadata": {},
   "outputs": [],
   "source": [
    "head(expr_all)"
   ]
  },
  {
   "cell_type": "code",
   "execution_count": null,
   "id": "ac970894",
   "metadata": {},
   "outputs": [],
   "source": [
    "dim(expr_all)"
   ]
  },
  {
   "cell_type": "code",
   "execution_count": null,
   "id": "ee9b74fc",
   "metadata": {},
   "outputs": [],
   "source": [
    "colnames(expr_all) %in% clone_table$cell_id %>% table()"
   ]
  },
  {
   "cell_type": "code",
   "execution_count": null,
   "id": "d3a9598a",
   "metadata": {},
   "outputs": [],
   "source": [
    "summary(expr_all[1:10])"
   ]
  },
  {
   "cell_type": "code",
   "execution_count": null,
   "id": "227100f9",
   "metadata": {},
   "outputs": [],
   "source": [
    "# mean of reference cells\n",
    "mean_ref_per_sample = clone_table[which(clone_table$clone == 'Normal'),] %>% group_by(sample) %>%\n",
    "do(cna_score = mean(colSums(abs(expr_all[,.$cell_id]))/nrow(expr_all)))\n",
    "mean_ref_per_sample"
   ]
  },
  {
   "cell_type": "code",
   "execution_count": null,
   "id": "3c22c364",
   "metadata": {},
   "outputs": [],
   "source": [
    "mean(as.numeric(mean_ref_per_sample$cna_score))"
   ]
  },
  {
   "cell_type": "code",
   "execution_count": null,
   "id": "43f3ea42",
   "metadata": {},
   "outputs": [],
   "source": [
    "sd(as.numeric(mean_ref_per_sample$cna_score))"
   ]
  },
  {
   "cell_type": "code",
   "execution_count": null,
   "id": "69d0e95c",
   "metadata": {},
   "outputs": [],
   "source": [
    "max(as.numeric(mean_ref_per_sample$cna_score))"
   ]
  },
  {
   "cell_type": "code",
   "execution_count": null,
   "id": "418545fb",
   "metadata": {},
   "outputs": [],
   "source": [
    "# 99.7, 3 sd away\n",
    "mean(as.numeric(mean_ref_per_sample$cna_score)) + 3*sd(as.numeric(mean_ref_per_sample$cna_score))"
   ]
  },
  {
   "cell_type": "code",
   "execution_count": null,
   "id": "73ede800",
   "metadata": {},
   "outputs": [],
   "source": [
    "# check p020t\n",
    "clone_table[which(clone_table$sample == 'p020t'),] %>% group_by(clone) %>%\n",
    "do(cna_score = mean(colSums(abs(expr_all[,.$cell_id]))/nrow(expr_all)))\n"
   ]
  },
  {
   "cell_type": "code",
   "execution_count": null,
   "id": "42703651",
   "metadata": {},
   "outputs": [],
   "source": [
    "# check p020t genes in chr17 and chr4\n",
    "chr17_genes = gene_loc_table[which(gene_loc_table$chr == 17),]\n",
    "chr4_genes = gene_loc_table[which(gene_loc_table$chr == 4),]"
   ]
  },
  {
   "cell_type": "code",
   "execution_count": null,
   "id": "f79216c4",
   "metadata": {},
   "outputs": [],
   "source": [
    "clone_table[which(clone_table$sample == 'p020t'),] %>% group_by(clone) %>%\n",
    "do(cna_score = mean(colSums(abs(expr_all[chr17_genes$gene,.$cell_id]))/nrow(chr17_genes)))"
   ]
  },
  {
   "cell_type": "code",
   "execution_count": null,
   "id": "dedea99d",
   "metadata": {},
   "outputs": [],
   "source": [
    "clone_table[which(clone_table$sample == 'p020t'),] %>% group_by(clone) %>%\n",
    "do(cna_score = mean(colSums(abs(expr_all[chr4_genes$gene,.$cell_id]))/nrow(chr4_genes)))"
   ]
  },
  {
   "cell_type": "markdown",
   "id": "b2c29441",
   "metadata": {},
   "source": [
    "### Florian's original code \n",
    "and remove his last two lines"
   ]
  },
  {
   "cell_type": "code",
   "execution_count": null,
   "id": "be232d66",
   "metadata": {},
   "outputs": [],
   "source": [
    "# Calculate the CNA score: average SD in inferCNV / average SD of all normal samples taken together\n",
    "clone_score = clone_table %>% group_by(sample, clone) %>%\n",
    "do(cna_score = mean(colSums(abs(expr_all[,.$cell_id]))/nrow(expr_all))) %>% # why abs\n",
    "ungroup() %>% \n",
    "unnest(cna_score) %>% \n",
    "spread(clone, cna_score) %>% \n",
    "mutate(mean_n = mean(Normal, na.rm = T)) %>%\n",
    "gather(clone, cna_score, -mean_n, -sample) %>% \n",
    "mutate(cna_score = cna_score/mean_n) %>% # why devide not subtract\n",
    "mutate(max_n = max(cna_score[.$clone == \"Normal\"], na.rm = T))%>%\n",
    "# use case when to keep Normal\n",
    "#mutate(cna_clone = ifelse(cna_score > max_n, \"CNA\", \"CNN\")) %>%\n",
    "mutate(cna_clone = case_when(clone == 'Normal' ~ 'Normal',\n",
    "                             cna_score > max_n ~ 'CNA',\n",
    "                             .default =  'CNN')) %>% \n",
    "select(sample, cna_score, cna_clone, clone) %>%\n",
    "# right join can keep the normal sample and cells\n",
    "right_join(clone_table, by = c(\"clone\", \"sample\")) "
   ]
  },
  {
   "cell_type": "code",
   "execution_count": null,
   "id": "8b0548b0",
   "metadata": {},
   "outputs": [],
   "source": [
    "min(expr_all-1)"
   ]
  },
  {
   "cell_type": "code",
   "execution_count": null,
   "id": "79b4ff22",
   "metadata": {},
   "outputs": [],
   "source": [
    "clone_table %>% group_by(sample, clone) %>%\n",
    "do(cna_score = mean(colSums(abs(expr_all[,.$cell_id]))/nrow(expr_all))) %>% # why abs\n",
    "ungroup() %>% \n",
    "unnest(cna_score) %>% \n",
    "spread(clone, cna_score) %>% \n",
    "mutate(mean_n = mean(Normal, na.rm = T)) %>%\n",
    "gather(clone, cna_score, -mean_n, -sample) %>% \n",
    "#mutate(cna_score = cna_score/mean_n) %>% # why devide not subtract\n",
    "mutate(max_n = max(cna_score[.$clone == \"Normal\"], na.rm = T))%>%\n",
    "# use case when to keep Normal\n",
    "#mutate(cna_clone = ifelse(cna_score > max_n, \"CNA\", \"CNN\")) %>%\n",
    "mutate(cna_clone = case_when(clone == 'Normal' ~ 'Normal',\n",
    "                             cna_score > max_n ~ 'CNA',\n",
    "                             .default =  'CNN')) %>% \n",
    "select(sample, cna_score, cna_clone, clone, max_n, mean_n) %>%\n",
    "arrange(sample)"
   ]
  },
  {
   "cell_type": "markdown",
   "id": "35fc71f9",
   "metadata": {},
   "source": [
    "write_tsv(clone_score, \"../datasets_new_preprocessing/inferCNV/infercnv_clone_scores.tsv\")"
   ]
  },
  {
   "cell_type": "markdown",
   "id": "74c0a7ed",
   "metadata": {},
   "source": [
    "### My modification "
   ]
  },
  {
   "cell_type": "code",
   "execution_count": null,
   "id": "27c111f5",
   "metadata": {},
   "outputs": [],
   "source": [
    "# the abs should be working with centered at 0 ? modify the code by the same concept from Florian\n",
    "# get average expression per clone (1,2, Normal)\n",
    "# calculate mean and max of Normal\n",
    "# if the distance of 1,2 to mean of Normal is larger than 3*normal_SD > CNA\n",
    "\n",
    "# move the center to 0\n",
    "expr_all_m1=(expr_all -1)\n",
    "\n",
    "clone_score_new = clone_table %>% group_by(sample, clone) %>%\n",
    "do(cna_score = mean(colSums(abs(expr_all_m1[,.$cell_id]))/nrow(expr_all_m1))) %>% \n",
    "ungroup() %>% \n",
    "unnest(cna_score) %>% \n",
    "spread(clone, cna_score) %>% \n",
    "mutate(mean_n = mean(Normal, na.rm = T),\n",
    "      max_n = max(Normal, na.rm = T),\n",
    "      sd_n = sd(Normal, na.rm = T)) %>%\n",
    "gather(clone, cna_score, -mean_n, -sample, -max_n, -sd_n) %>%\n",
    "mutate(cna_clone = case_when(clone == 'Normal' ~ 'normal sample',\n",
    "                            cna_score - mean_n > 3*sd_n ~ 'CNA',\n",
    "                            .default = 'CNN')) %>%\n",
    "select(sample, cna_score, cna_clone, clone) %>%\n",
    "# right join can keep the normal sample and cells\n",
    "right_join(clone_table, by = c(\"clone\", \"sample\"))"
   ]
  },
  {
   "cell_type": "code",
   "execution_count": null,
   "id": "5a74d45e",
   "metadata": {},
   "outputs": [],
   "source": [
    "clone_table %>% group_by(sample, clone) %>% summarise(n=n()) %>% arrange(sample)"
   ]
  },
  {
   "cell_type": "code",
   "execution_count": null,
   "id": "5fc2ab27",
   "metadata": {},
   "outputs": [],
   "source": [
    "expr_all_m1=(expr_all -1)\n",
    "\n",
    "clone_table %>% group_by(sample, clone) %>%\n",
    "do(cna_score = mean(colSums(abs(expr_all_m1[,.$cell_id]))/nrow(expr_all_m1))) %>% \n",
    "ungroup() %>% \n",
    "unnest(cna_score) %>% \n",
    "spread(clone, cna_score) %>% \n",
    "mutate(mean_n = mean(Normal, na.rm = T),\n",
    "      max_n = max(Normal, na.rm = T),\n",
    "      sd_n = sd(Normal, na.rm = T)) %>%\n",
    "gather(clone, cna_score, -mean_n, -sample, -max_n, -sd_n) %>%\n",
    "mutate(cna_clone = case_when(clone == 'Normal' ~ 'normal sample',\n",
    "                            cna_score - mean_n > 3*sd_n ~ 'CNA',\n",
    "                            .default = 'CNN')) %>% \n",
    "select(sample, cna_score, cna_clone, clone, mean_n ,max_n) %>%\n",
    "arrange(sample)"
   ]
  },
  {
   "cell_type": "code",
   "execution_count": null,
   "id": "e2006e88",
   "metadata": {},
   "outputs": [],
   "source": [
    "clone_score_new"
   ]
  },
  {
   "cell_type": "markdown",
   "id": "4108e3a7",
   "metadata": {},
   "source": [
    "write_tsv(clone_score_new, \"../datasets_new_preprocessing/inferCNV/202306_infercnv_clone_scores_new.tsv\")"
   ]
  },
  {
   "cell_type": "markdown",
   "id": "cad33ce6",
   "metadata": {},
   "source": [
    "#### how about use test on distritbution"
   ]
  },
  {
   "cell_type": "code",
   "execution_count": null,
   "id": "45c8bc8d",
   "metadata": {},
   "outputs": [],
   "source": [
    "# take reference cells as background distribution and test if clone 1,2 have a different mean?"
   ]
  },
  {
   "cell_type": "code",
   "execution_count": null,
   "id": "ce38e127",
   "metadata": {},
   "outputs": [],
   "source": [
    "ref_id = clone_table[which(clone_table$clone == 'Normal'),]\n",
    "ref_scores = list(colSums(expr_all[,ref_id$cell_id])/nrow(expr_all))"
   ]
  },
  {
   "cell_type": "code",
   "execution_count": null,
   "id": "bc517b12",
   "metadata": {},
   "outputs": [],
   "source": [
    "names(ref_scores) = 'all_n'"
   ]
  },
  {
   "cell_type": "code",
   "execution_count": null,
   "id": "0c5da1e0",
   "metadata": {},
   "outputs": [],
   "source": [
    "p007t1_id = clone_table[which(clone_table$sample == 'p007t' & clone_table$clone == 1),]\n",
    "p007t2_id = clone_table[which(clone_table$sample == 'p007t' & clone_table$clone == 2),]\n",
    "p007n_id  = clone_table[which(clone_table$sample == 'p007n' & clone_table$clone == 'Normal'),]"
   ]
  },
  {
   "cell_type": "code",
   "execution_count": null,
   "id": "80baf8ee",
   "metadata": {},
   "outputs": [],
   "source": [
    "p007_scores = list(colSums(expr_all[,p007t1_id$cell_id])/nrow(expr_all),\n",
    "                   colSums(expr_all[,p007t2_id$cell_id])/nrow(expr_all),\n",
    "                   colSums(expr_all[,p007n_id$cell_id])/nrow(expr_all))"
   ]
  },
  {
   "cell_type": "code",
   "execution_count": null,
   "id": "79926738",
   "metadata": {},
   "outputs": [],
   "source": [
    "names(p007_scores) = c('t1', 't2', 'n')"
   ]
  },
  {
   "cell_type": "code",
   "execution_count": null,
   "id": "ee324a33",
   "metadata": {},
   "outputs": [],
   "source": [
    "lapply(p007_scores, length)"
   ]
  },
  {
   "cell_type": "code",
   "execution_count": null,
   "id": "611d01e2",
   "metadata": {},
   "outputs": [],
   "source": [
    "shapiro.test(p007_scores[['t1']])"
   ]
  },
  {
   "cell_type": "code",
   "execution_count": null,
   "id": "e4d29d25",
   "metadata": {},
   "outputs": [],
   "source": [
    "shapiro.test(p007_scores[['t2']])"
   ]
  },
  {
   "cell_type": "code",
   "execution_count": null,
   "id": "df289584",
   "metadata": {},
   "outputs": [],
   "source": [
    "shapiro.test(p007_scores[['n']])"
   ]
  },
  {
   "cell_type": "code",
   "execution_count": null,
   "id": "1a322489",
   "metadata": {},
   "outputs": [],
   "source": [
    "wilcox.test(p007_scores[['t1']], p007_scores[['n']], alternative = \"two.sided\")"
   ]
  },
  {
   "cell_type": "code",
   "execution_count": null,
   "id": "da0668a6",
   "metadata": {},
   "outputs": [],
   "source": [
    "wilcox.test(p007_scores[['t2']], p007_scores[['n']], alternative = \"two.sided\")"
   ]
  },
  {
   "cell_type": "code",
   "execution_count": null,
   "id": "6d960f53",
   "metadata": {},
   "outputs": [],
   "source": [
    "wilcox.test(p007_scores[['t1']], ref_scores[['all_n']], alternative = \"two.sided\")"
   ]
  },
  {
   "cell_type": "code",
   "execution_count": null,
   "id": "53c3fc20",
   "metadata": {},
   "outputs": [],
   "source": [
    "wilcox.test(p007_scores[['t2']], ref_scores[['all_n']], alternative = \"two.sided\")"
   ]
  },
  {
   "cell_type": "code",
   "execution_count": null,
   "id": "6425185d",
   "metadata": {},
   "outputs": [],
   "source": [
    "wilcox.test(p007_scores[['n']], ref_scores[['all_n']], alternative = \"two.sided\")"
   ]
  },
  {
   "cell_type": "code",
   "execution_count": null,
   "id": "89c02f55",
   "metadata": {},
   "outputs": [],
   "source": [
    "t.test(p007_scores[['t1']], p007_scores[['n']], paired = FALSE, alternative = \"two.sided\")"
   ]
  },
  {
   "cell_type": "code",
   "execution_count": null,
   "id": "24001e50",
   "metadata": {},
   "outputs": [],
   "source": [
    "t.test(p007_scores[['t1']], ref_scores[['all_n']], paired = FALSE, alternative = \"two.sided\")"
   ]
  },
  {
   "cell_type": "code",
   "execution_count": null,
   "id": "4ce3a40f",
   "metadata": {},
   "outputs": [],
   "source": [
    "t.test(p007_scores[['t2']], p007_scores[['n']], paired = FALSE, alternative = \"two.sided\")"
   ]
  },
  {
   "cell_type": "code",
   "execution_count": null,
   "id": "82c7c926",
   "metadata": {},
   "outputs": [],
   "source": [
    "t.test(p007_scores[['t2']], ref_scores[['all_n']], paired = FALSE, alternative = \"two.sided\")"
   ]
  },
  {
   "cell_type": "code",
   "execution_count": null,
   "id": "322f71e1",
   "metadata": {},
   "outputs": [],
   "source": [
    "t.test(p007_scores[['n']], ref_scores[['all_n']], paired = FALSE, alternative = \"two.sided\")"
   ]
  },
  {
   "cell_type": "markdown",
   "id": "2d80606a",
   "metadata": {},
   "source": [
    "#### p020"
   ]
  },
  {
   "cell_type": "code",
   "execution_count": null,
   "id": "c11ef291",
   "metadata": {},
   "outputs": [],
   "source": [
    "p020t1_id = clone_table[which(clone_table$sample == 'p020t' & clone_table$clone == 1),]\n",
    "p020t2_id = clone_table[which(clone_table$sample == 'p020t' & clone_table$clone == 2),]\n",
    "p020n_id  = clone_table[which(clone_table$sample == 'p020n' & clone_table$clone == 'Normal'),]"
   ]
  },
  {
   "cell_type": "code",
   "execution_count": null,
   "id": "b1ef5b52",
   "metadata": {},
   "outputs": [],
   "source": [
    "p020_scores = list(colSums(expr_all[,p020t1_id$cell_id])/nrow(expr_all),\n",
    "                   colSums(expr_all[,p020t2_id$cell_id])/nrow(expr_all),\n",
    "                   colSums(expr_all[,p020n_id$cell_id])/nrow(expr_all))"
   ]
  },
  {
   "cell_type": "code",
   "execution_count": null,
   "id": "be0fe2f1",
   "metadata": {},
   "outputs": [],
   "source": [
    "names(p020_scores) = c('t1', 't2', 'n')"
   ]
  },
  {
   "cell_type": "code",
   "execution_count": null,
   "id": "43e844c8",
   "metadata": {},
   "outputs": [],
   "source": [
    "lapply(p020_scores, length)"
   ]
  },
  {
   "cell_type": "code",
   "execution_count": null,
   "id": "7b5d22b9",
   "metadata": {},
   "outputs": [],
   "source": [
    "shapiro.test(p020_scores[['t1']])"
   ]
  },
  {
   "cell_type": "code",
   "execution_count": null,
   "id": "72803d51",
   "metadata": {},
   "outputs": [],
   "source": [
    "shapiro.test(p020_scores[['t2']])"
   ]
  },
  {
   "cell_type": "code",
   "execution_count": null,
   "id": "374246ea",
   "metadata": {},
   "outputs": [],
   "source": [
    "shapiro.test(p020_scores[['n']])"
   ]
  },
  {
   "cell_type": "code",
   "execution_count": null,
   "id": "9b81c9b8",
   "metadata": {},
   "outputs": [],
   "source": [
    "wilcox.test(p020_scores[['t1']], p020_scores[['n']], alternative = \"two.sided\")"
   ]
  },
  {
   "cell_type": "code",
   "execution_count": null,
   "id": "bbf03562",
   "metadata": {},
   "outputs": [],
   "source": [
    "wilcox.test(p020_scores[['t2']], p020_scores[['n']], alternative = \"two.sided\")"
   ]
  },
  {
   "cell_type": "code",
   "execution_count": null,
   "id": "241c4776",
   "metadata": {},
   "outputs": [],
   "source": [
    "wilcox.test(p020_scores[['t1']], ref_scores[['all_n']], alternative = \"two.sided\")"
   ]
  },
  {
   "cell_type": "code",
   "execution_count": null,
   "id": "6ba6d1c7",
   "metadata": {},
   "outputs": [],
   "source": [
    "wilcox.test(p020_scores[['t2']], ref_scores[['all_n']], alternative = \"two.sided\")"
   ]
  },
  {
   "cell_type": "code",
   "execution_count": null,
   "id": "2c84d777",
   "metadata": {},
   "outputs": [],
   "source": [
    "wilcox.test(p020_scores[['n']], ref_scores[['all_n']], alternative = \"two.sided\")"
   ]
  },
  {
   "cell_type": "code",
   "execution_count": null,
   "id": "84bea5e0",
   "metadata": {},
   "outputs": [],
   "source": [
    "t.test(p020_scores[['t1']], p020_scores[['n']], paired = FALSE, alternative = \"two.sided\")"
   ]
  },
  {
   "cell_type": "code",
   "execution_count": null,
   "id": "66416052",
   "metadata": {},
   "outputs": [],
   "source": [
    "t.test(p020_scores[['t2']], p020_scores[['n']], paired = FALSE, alternative = \"two.sided\")"
   ]
  },
  {
   "cell_type": "markdown",
   "id": "a9b942ff",
   "metadata": {},
   "source": [
    "### 20230607: this script can stop here for now"
   ]
  },
  {
   "cell_type": "code",
   "execution_count": null,
   "id": "2d0d06b7",
   "metadata": {},
   "outputs": [],
   "source": [
    "!"
   ]
  },
  {
   "cell_type": "code",
   "execution_count": null,
   "id": "6ced1203",
   "metadata": {},
   "outputs": [],
   "source": []
  },
  {
   "cell_type": "code",
   "execution_count": null,
   "id": "8d20dbf7",
   "metadata": {},
   "outputs": [],
   "source": []
  },
  {
   "cell_type": "code",
   "execution_count": null,
   "id": "595ff77c",
   "metadata": {},
   "outputs": [],
   "source": []
  },
  {
   "cell_type": "code",
   "execution_count": null,
   "id": "455b55a0",
   "metadata": {},
   "outputs": [],
   "source": []
  },
  {
   "cell_type": "code",
   "execution_count": null,
   "id": "7f10beff",
   "metadata": {},
   "outputs": [],
   "source": [
    "segments_tbl <- lapply(dendro_list, function(x) ggdendro::segment(ggdendro::dendro_data(x)) %>% \n",
    "                       mutate(helper_var_d = \"Dendrogram\")) %>% \n",
    "  bind_rows(.id = \"sample\") \n"
   ]
  },
  {
   "cell_type": "code",
   "execution_count": null,
   "id": "2f5b15d5",
   "metadata": {},
   "outputs": [],
   "source": [
    "head(segments_tbl)"
   ]
  },
  {
   "cell_type": "code",
   "execution_count": null,
   "id": "e81c8464",
   "metadata": {},
   "outputs": [],
   "source": [
    "anno_data <- as_tibble(FetchData(seu_epi_final, c(\"cell_type_epi_custom\", \"source_id\", \"sample_origin\", \"cell_id\"))) %>%\n",
    "  mutate(cell_id = str_replace_all(cell_id, \":\", \"_\"),\n",
    "         cell_id = ordered(cell_id, levels = cell_order)) %>%\n",
    "  filter(sample_origin == \"Tumor\") %>%\n",
    "  mutate(helper_var_p = \" Patient\",\n",
    "         helper_var_c = \" Cell type\")\n",
    "\n"
   ]
  },
  {
   "cell_type": "code",
   "execution_count": null,
   "id": "2c2df0c7",
   "metadata": {},
   "outputs": [],
   "source": [
    "head(anno_data)"
   ]
  },
  {
   "cell_type": "code",
   "execution_count": null,
   "id": "a2431394",
   "metadata": {},
   "outputs": [],
   "source": [
    "rm(seu_epi_final)"
   ]
  },
  {
   "cell_type": "code",
   "execution_count": null,
   "id": "e79cf2db",
   "metadata": {},
   "outputs": [],
   "source": [
    "gof <- read_tsv(\"../datasets/gencode_v21_gen_pos.complete.txt\", \n",
    "                col_names = c(\"gene\", \"chr\", \"start\", \"end\")\n",
    "               )"
   ]
  },
  {
   "cell_type": "code",
   "execution_count": null,
   "id": "8aaba48a",
   "metadata": {},
   "outputs": [],
   "source": [
    "chr_order = c('1','2','3','4','5','6','7','8','9','10',\n",
    "              '11','12','13','14','15','16','17','18','19','20',\n",
    "              '21','22','M','X','Y')"
   ]
  },
  {
   "cell_type": "code",
   "execution_count": null,
   "id": "63923538",
   "metadata": {},
   "outputs": [],
   "source": [
    "## joining data \n",
    "plot_data <- as.data.frame(cnv_obj@expr.data[,str_detect(colnames(cnv_obj@expr.data), \"^p0[0-9][0-9]t\")]) %>% \n",
    "  as_tibble(rownames = \"gene\") %>%\n",
    "  gather(cell_id, value, -gene) %>%\n",
    "  left_join(gof, by = \"gene\") %>% \n",
    "  arrange(factor(chr, levels = chr_order)) %>% # why is the chr so messsssssy\n",
    "  mutate(cell_id = ordered(cell_id, levels = cell_order)) %>%\n",
    "  left_join(anno_data, by = \"cell_id\") %>% \n",
    "  mutate(cell_id = ordered(cell_id, levels = cell_order)) %>% \n",
    "  mutate(value_cut = ifelse(value > 1.15, 1.15, ifelse(value < 0.85, 0.85, value))) %>% \n",
    "  group_by(chr) %>% \n",
    "  mutate(rank = rank(start)) %>%\n",
    "  ungroup\n"
   ]
  },
  {
   "cell_type": "code",
   "execution_count": null,
   "id": "735af9e1",
   "metadata": {},
   "outputs": [],
   "source": [
    "head(plot_data)"
   ]
  },
  {
   "cell_type": "code",
   "execution_count": null,
   "id": "02251c02",
   "metadata": {},
   "outputs": [],
   "source": [
    "dim(plot_data)"
   ]
  },
  {
   "cell_type": "code",
   "execution_count": null,
   "id": "a17a1823",
   "metadata": {},
   "outputs": [],
   "source": [
    "plot_data$chr = factor(plot_data$chr, levels = chr_order)# why is the chr so messsssssy\n"
   ]
  },
  {
   "cell_type": "code",
   "execution_count": null,
   "id": "a6a03ad6",
   "metadata": {},
   "outputs": [],
   "source": [
    "plot_cnv <- ggplot(plot_data) +\n",
    "  geom_tile(aes(rank, cell_id, fill=value_cut)) +\n",
    "  theme_void() +\n",
    "  facet_grid(source_id~chr, scales = \"free\", space = \"free\") +\n",
    "  scale_fill_gradient2(midpoint = 1, low = scales::muted(\"blue\"), high = scales::muted(\"red\")) +\n",
    "  theme(panel.spacing.x = unit(0, \"npc\"),\n",
    "        panel.spacing.y = unit(0.003, \"npc\"),\n",
    "        strip.text.x = element_text(angle = 90, hjust = 0, vjust = 0.5),\n",
    "        strip.text.y = element_blank()) +\n",
    "  labs(fill = \"inferCNV\\nexpression\")\n",
    "plot_cnv"
   ]
  },
  {
   "cell_type": "code",
   "execution_count": null,
   "id": "27b9d636",
   "metadata": {},
   "outputs": [],
   "source": [
    "cell_type_colors = setNames(c('#999900', '#d6d680', '#336600', '#7c9d5c', '#CCD9BF', '#660099',\n",
    "       '#990099', '#CC80CC', '#00CCFF', '#0072b1', '#6b9fcb', '#c3c3e0',\n",
    "       '#AA0000', '#FF0000', '#FF0099', '#EB9999', '#FF9900'),\n",
    "                           levels(anno_data$cell_type_epi_custom))"
   ]
  },
  {
   "cell_type": "code",
   "execution_count": null,
   "id": "7f6e7eba",
   "metadata": {},
   "outputs": [],
   "source": [
    "plot_anno_cell <- ggplot(anno_data) +\n",
    "  geom_tile(aes(helper_var_c, cell_id, fill = cell_type_epi_custom)) +\n",
    "  theme_void() +\n",
    "  facet_grid(source_id~helper_var_c, scales = \"free\", space = \"free\") +\n",
    "  scale_fill_manual(values = cell_type_colors) +\n",
    "  guides(fill = F) +\n",
    "  theme(panel.spacing.x = unit(0, \"npc\"),\n",
    "        panel.spacing.y = unit(0.003, \"npc\"),\n",
    "        strip.text.x = element_text(angle = 90, hjust = 0, vjust = 0.5),\n",
    "        strip.text.y = element_blank()) \n",
    "plot_anno_cell"
   ]
  },
  {
   "cell_type": "code",
   "execution_count": null,
   "id": "3c23f0ee",
   "metadata": {},
   "outputs": [],
   "source": [
    "cols.use <- c(\n",
    "  p001 = '#E69F00', #palette_OkabeIto[1],\n",
    "  p007 = '#E69F00', #palette_OkabeIto[1],\n",
    "  p008 = '#56B4E9', #palette_OkabeIto[2],\n",
    "  p009 = '#009E73', #palette_OkabeIto[3],\n",
    "  p012 = \"#ff0198\",\n",
    "  p013 = '#0072B2', #palette_OkabeIto[5],\n",
    "  p014 = '#D55E00', #palette_OkabeIto[6],\n",
    "  p016 = '#CC79A7', #palette_OkabeIto[7],\n",
    "  p017 = \"#451077\",\n",
    "  p020 = \"#cccc80\",\n",
    "  p021 = \"#FF0000\", \n",
    "  p025 = \"#f6cbcc\",\n",
    "  p026 = \"#F0E442\",\n",
    "  CMS1 = \"#eba83a\", CMS2 = \"#027eb5\", CMS3 = \"#d684ae\", CMS4 = \"#00a881\",\n",
    "  `CMS1,CMS2` = \"#779378\", `CMS1,CMS3` = \"#E19674\", `CMS1,CMS4` = \"#76A85E\", \n",
    "  `CMS2,CMS3` = \"#6C81B2\", `CMS2,CMS4` = \"#01939B\",  \n",
    "  G1 = \"#94b6d2\",\n",
    "  S = \"#dc4040\",\n",
    "  G2M = \"#7aa77f\",\n",
    "  `NA` = \"grey\",\n",
    "  Normal = \"steelblue\",\n",
    "  Tumor = \"red\",\n",
    "  PDO = \"steelblue\",\n",
    "  CNA = \"red\",\n",
    "  CNN = \"grey\"\n",
    ")\n",
    "\n"
   ]
  },
  {
   "cell_type": "code",
   "execution_count": null,
   "id": "f4ea554f",
   "metadata": {},
   "outputs": [],
   "source": [
    "plot_anno_patient <- ggplot(anno_data) +\n",
    "  geom_tile(aes(helper_var_p, cell_id, fill = source_id)) +\n",
    "  theme_void() +\n",
    "  facet_grid(source_id~helper_var_p, scales = \"free\", space = \"free\") +\n",
    "  scale_fill_manual(values = cols.use) +\n",
    "  guides(fill = F) +\n",
    "  theme(panel.spacing.x = unit(0, \"npc\"),\n",
    "        panel.spacing.y = unit(0.003, \"npc\"),\n",
    "        strip.text.x = element_text(angle = 90, hjust = 0, vjust = 0.5),\n",
    "        strip.text.y = element_blank())\n",
    "plot_anno_patient"
   ]
  },
  {
   "cell_type": "code",
   "execution_count": null,
   "id": "78282b53",
   "metadata": {},
   "outputs": [],
   "source": [
    "plot_anno_clone <- ggplot(filter(clone_scores, clone != \"Normal\")) +\n",
    "  geom_tile(aes(helper_var_c, cell_id, fill = cna_clone)) +\n",
    "  theme_void() +\n",
    "  facet_grid(source_id~helper_var_c, scales = \"free\", space = \"free\") +\n",
    "  scale_fill_manual(values = cols.use) +\n",
    "  guides(fill = F) +\n",
    "  theme(panel.spacing.x = unit(0, \"npc\"),\n",
    "        panel.spacing.y = unit(0.003, \"npc\"),\n",
    "        strip.text.x = element_text(angle = 90, hjust = 0, vjust = 0.5),\n",
    "        strip.text.y = element_blank())\n",
    "plot_anno_clone"
   ]
  },
  {
   "cell_type": "code",
   "execution_count": null,
   "id": "fe99813b",
   "metadata": {},
   "outputs": [],
   "source": [
    "plot_dendro <- ggplot(segments_tbl) +\n",
    "  geom_segment(aes(x=-y,y=x,xend=-yend,yend=xend),size=0.5) +\n",
    "  theme_void() +\n",
    "  facet_grid(source_id~helper_var_d, scales = \"free\", space = \"free\") +\n",
    "  theme(panel.spacing = unit(0, \"npc\"),\n",
    "        panel.spacing.x = unit(0, \"npc\"),\n",
    "        panel.spacing.y = unit(0.003, \"npc\"),\n",
    "        strip.text = element_blank()) +\n",
    "  scale_y_continuous(expand=c(0,0))\n",
    "plot_dendro"
   ]
  },
  {
   "cell_type": "code",
   "execution_count": null,
   "id": "e6dc62c4",
   "metadata": {},
   "outputs": [],
   "source": [
    "pg_anno <- plot_grid(plot_dendro, plot_anno_patient, plot_anno_clone, plot_anno_cell, \n",
    "                     nrow = 1, align = \"h\", rel_widths = c(0.625, 0.125, 0.125, 0.125))\n",
    "pg_anno"
   ]
  },
  {
   "cell_type": "code",
   "execution_count": null,
   "id": "2335fcbf",
   "metadata": {},
   "outputs": [],
   "source": [
    "pg <- plot_grid(plot_dendro, plot_anno_patient, plot_anno_clone, plot_anno_cell, plot_cnv, \n",
    "                nrow = 1, align = \"h\", rel_widths = c(0.1, 0.02, 0.02, 0.02, 0.84))\n",
    "pg"
   ]
  },
  {
   "cell_type": "code",
   "execution_count": null,
   "id": "0188903d",
   "metadata": {},
   "outputs": [],
   "source": []
  },
  {
   "cell_type": "markdown",
   "id": "c4f88308",
   "metadata": {},
   "source": [
    "h5closeAll()"
   ]
  }
 ],
 "metadata": {
  "kernelspec": {
   "display_name": "R",
   "language": "R",
   "name": "ir"
  },
  "language_info": {
   "codemirror_mode": "r",
   "file_extension": ".r",
   "mimetype": "text/x-r-source",
   "name": "R",
   "pygments_lexer": "r",
   "version": "4.1.2"
  }
 },
 "nbformat": 4,
 "nbformat_minor": 5
}
