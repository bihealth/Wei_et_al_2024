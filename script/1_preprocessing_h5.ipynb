{
 "cells": [
  {
   "cell_type": "code",
   "execution_count": null,
   "id": "3abd42c1",
   "metadata": {},
   "outputs": [],
   "source": [
    "import os\n",
    "import sys\n",
    "print(\"Python version\" + sys.version)\n",
    "os.getcwd()\n",
    "print(sys.executable)"
   ]
  },
  {
   "cell_type": "code",
   "execution_count": null,
   "id": "895fd077",
   "metadata": {},
   "outputs": [],
   "source": [
    "import numpy as np\n",
    "np.random.seed(123)\n",
    "import pandas as pd\n",
    "import scipy\n",
    "import itertools\n",
    "\n",
    "import umap\n",
    "import matplotlib.pyplot as plt\n",
    "%matplotlib inline\n",
    "import seaborn as sns\n",
    "\n",
    "import scanpy as sc\n",
    "import anndata as ad\n",
    "import scvelo as scv\n",
    "from tqdm.notebook import tqdm\n",
    "\n",
    "from pathlib import Path"
   ]
  },
  {
   "cell_type": "code",
   "execution_count": 3,
   "id": "72f2a8ae",
   "metadata": {},
   "outputs": [],
   "source": [
    "from IPython.display import clear_output"
   ]
  },
  {
   "cell_type": "code",
   "execution_count": 4,
   "id": "53c6f839",
   "metadata": {},
   "outputs": [],
   "source": [
    "from muon import prot as pt\n",
    "from joblib import dump, load"
   ]
  },
  {
   "cell_type": "code",
   "execution_count": 5,
   "id": "c63a36b2",
   "metadata": {},
   "outputs": [],
   "source": [
    "import scrublet as scr"
   ]
  },
  {
   "cell_type": "code",
   "execution_count": null,
   "id": "42af2e25",
   "metadata": {},
   "outputs": [],
   "source": [
    "sc.settings.verbosity = 1\n",
    "sc.logging.print_header()\n",
    "sc.settings.set_figure_params(dpi=80, facecolor='white')"
   ]
  },
  {
   "cell_type": "code",
   "execution_count": 7,
   "id": "21488835",
   "metadata": {},
   "outputs": [],
   "source": [
    "# remove weird grid from scvelo\n",
    "plt.rcParams['axes.grid'] = False"
   ]
  },
  {
   "cell_type": "code",
   "execution_count": 8,
   "id": "c1353331",
   "metadata": {},
   "outputs": [],
   "source": [
    "import itertools"
   ]
  },
  {
   "cell_type": "code",
   "execution_count": 9,
   "id": "64399cef",
   "metadata": {},
   "outputs": [],
   "source": [
    "from vcf_functions import *"
   ]
  },
  {
   "cell_type": "code",
   "execution_count": 10,
   "id": "ae73ae60",
   "metadata": {},
   "outputs": [],
   "source": [
    "from scitcem_utils import *"
   ]
  },
  {
   "cell_type": "code",
   "execution_count": 11,
   "id": "cb7c1ddb",
   "metadata": {},
   "outputs": [],
   "source": [
    "signatures_path_ = '../scrnaseq_signature_collection/'\n",
    "from score_and_classify import *"
   ]
  },
  {
   "cell_type": "markdown",
   "id": "9b34891f",
   "metadata": {},
   "source": [
    "### data input and variables"
   ]
  },
  {
   "cell_type": "code",
   "execution_count": 12,
   "id": "229e7995",
   "metadata": {},
   "outputs": [],
   "source": [
    "data_folder = '../data'"
   ]
  },
  {
   "cell_type": "code",
   "execution_count": 13,
   "id": "61ad30eb",
   "metadata": {},
   "outputs": [],
   "source": [
    "new_data_folder = '../processed_data'"
   ]
  },
  {
   "cell_type": "code",
   "execution_count": 14,
   "id": "f0210388",
   "metadata": {},
   "outputs": [],
   "source": [
    "tsamples = ['p007t', 'p008t', 'p009t1','p009t2', 'p013t', 'p014t', 'p016t', \n",
    "           'p020t', 'p021t', 'p026t', 'p035t'] "
   ]
  },
  {
   "cell_type": "code",
   "execution_count": 15,
   "id": "839596df",
   "metadata": {},
   "outputs": [],
   "source": [
    "samples = ['p007n', 'p008n', 'p009n1', 'p009n2','p013n', 'p014n', 'p016n', \n",
    "           'p020n', 'p021n'] + tsamples"
   ]
  },
  {
   "cell_type": "code",
   "execution_count": 16,
   "id": "c121f5f9",
   "metadata": {},
   "outputs": [],
   "source": [
    "MSI_list = ['p026', 'p035']"
   ]
  },
  {
   "cell_type": "code",
   "execution_count": 17,
   "id": "abe4942a",
   "metadata": {},
   "outputs": [],
   "source": [
    "demux_sample = ['p020n', 'p021n', 'p020t', 'p021t']"
   ]
  },
  {
   "cell_type": "markdown",
   "id": "a6dba37e",
   "metadata": {},
   "source": [
    "### doublet detection by Scrublet and add h5 to an adata list"
   ]
  },
  {
   "cell_type": "code",
   "execution_count": 18,
   "id": "8aaad079",
   "metadata": {},
   "outputs": [],
   "source": [
    "# for adata object that does not require demultiplexing by protein oligo tags\n",
    "def get_adata(datafolder, sample, scrublet_threshold=None):\n",
    "\n",
    "    # read\n",
    "    adata = sc.read_10x_h5(datafolder/f'cellbender/{sample}/cellbender_counts.h5', gex_only=False)\n",
    "    \n",
    "    gene = adata.copy()\n",
    "        \n",
    "    gene.layers[\"CB_counts\"] = gene.X.copy()\n",
    "    \n",
    "    gene.obs['sample'] = sample\n",
    "    gene.obs['sample_origin'] = ['tumour' if sample[4:5] == 't' else 'normal'][0]\n",
    "    gene.obs['patient'] = sample[:4]\n",
    "    gene.obs['MS_status'] = ['MSI' if sample[:4] in MSI_list else 'MSS'][0]\n",
    "\n",
    "    # sample + cell id\n",
    "    gene.obs_names = [sample + ':' + x.split('-')[0] for x in gene.obs_names] # do this after getting cell id list\n",
    "    gene.var_names_make_unique()\n",
    "    \n",
    "    # just empty row for concat\n",
    "    gene.obs['target_hashtag'] = None\n",
    "    gene.obs['second_hashtag'] = None\n",
    "    gene.obs['high_prob_warm'] = None\n",
    "    \n",
    "    # scrublet score\n",
    "    scrub = scr.Scrublet(gene.X)\n",
    "        \n",
    "    doublet_scores, predicted_doublets = scrub.scrub_doublets(get_doublet_neighbor_parents=False)\n",
    "\n",
    "    if scrublet_threshold:\n",
    "        predicted_doublets = scrub.call_doublets(threshold=scrublet_threshold)\n",
    "        \n",
    "    gene.obs[['doublet_score', 'predicted_doublet']] = pd.DataFrame({'doublet_score': doublet_scores, \n",
    "                                                                     'predicted_doublet': predicted_doublets}, \n",
    "                                                                    index=gene.obs_names)\n",
    "    \n",
    "    # add some QC plots\n",
    "    scrub.plot_histogram()\n",
    "    \n",
    "    scrub.set_embedding('UMAP', scr.get_umap(scrub.manifold_obs_, 10, min_dist=0.3))\n",
    "    \n",
    "    scrub.plot_embedding('UMAP', order_points=True)\n",
    "\n",
    "    return gene"
   ]
  },
  {
   "cell_type": "code",
   "execution_count": null,
   "id": "2e952c35",
   "metadata": {},
   "outputs": [],
   "source": [
    "# for adata object that requires demultiplexing by protein oligo tags\n",
    "def get_adata_and_protein(datafolder, sample, target_hashtag, second_hashtag, scrublet_threshold=None):\n",
    "\n",
    "    # read\n",
    "    adata = sc.read_10x_h5(datafolder/f'cellbender/{sample}/cellbender_counts.h5', gex_only=False)\n",
    "    \n",
    "    gene = adata.copy()\n",
    "        \n",
    "    gene.layers[\"CB_counts\"] = gene.X.copy()\n",
    "    \n",
    "    gene.obs['sample'] = sample\n",
    "    gene.obs['sample_origin'] = ['tumour' if sample[4:5] == 't' else 'normal'][0]\n",
    "    gene.obs['patient'] = sample[:4]\n",
    "    gene.obs['MS_status'] = ['MSI' if sample[:4] in MSI_list else 'MSS'][0]\n",
    "\n",
    "    \n",
    "    # protein part\n",
    "    protein = adata[:, adata.var[\"feature_types\"] == \"Antibody Capture\"].copy()\n",
    "    \n",
    "    # normalise protein\n",
    "    pt.pp.clr(protein)\n",
    "    \n",
    "    # add the two hashtags to adata.obs\n",
    "    gene.obs['target_hashtag'] = pd.DataFrame(protein.X[:,target_hashtag].toarray(), columns = ['target_hashtag'],\n",
    "                                           index=protein.obs.index).reindex(gene.obs.index)\n",
    "\n",
    "    gene.obs['second_hashtag'] = pd.DataFrame(protein.X[:,second_hashtag].toarray(), columns = ['second_hashtag'],\n",
    "                                           index=protein.obs.index).reindex(gene.obs.index)\n",
    "    \n",
    "    gene.obs['high_prob_warm'] = (gene.obs['target_hashtag'] >1) & (gene.obs['second_hashtag'] < 0.1)\n",
    "    \n",
    "    # sample + cell id\n",
    "    gene.obs_names = [sample + ':' + x.split('-')[0] for x in gene.obs_names] # do this after getting cell id list\n",
    "    gene.var_names_make_unique()\n",
    "    \n",
    "    # scrublet score\n",
    "    scrub = scr.Scrublet(gene.X)\n",
    "    doublet_scores, predicted_doublets = scrub.scrub_doublets(get_doublet_neighbor_parents=False)\n",
    "    \n",
    "    if scrublet_threshold:\n",
    "        predicted_doublets = scrub.call_doublets(threshold=scrublet_threshold)\n",
    "    \n",
    "    gene.obs[['doublet_score', 'predicted_doublet']] = pd.DataFrame({'doublet_score': doublet_scores, \n",
    "                                                                     'predicted_doublet': predicted_doublets}, \n",
    "                                                                    index=gene.obs_names)\n",
    "\n",
    "    # add some QC plots\n",
    "    scrub.plot_histogram()\n",
    "    \n",
    "    scrub.set_embedding('UMAP', scr.get_umap(scrub.manifold_obs_, 10, min_dist=0.3))\n",
    "    \n",
    "    scrub.plot_embedding('UMAP', order_points=True)\n",
    "    \n",
    "    return gene"
   ]
  },
  {
   "cell_type": "code",
   "execution_count": 20,
   "id": "ff386fee",
   "metadata": {},
   "outputs": [],
   "source": [
    "adatas = {}"
   ]
  },
  {
   "cell_type": "code",
   "execution_count": 21,
   "id": "a768f5f9",
   "metadata": {},
   "outputs": [],
   "source": [
    "hashtag_list = [[1,3], [0,2], [10,11], [8,9]] \n",
    "# from patient metadata"
   ]
  },
  {
   "cell_type": "code",
   "execution_count": 22,
   "id": "d96a95e5",
   "metadata": {},
   "outputs": [],
   "source": [
    "# scrublet threshold after inspecting the hist\n",
    "demux_threshold_list = 0.3"
   ]
  },
  {
   "cell_type": "code",
   "execution_count": null,
   "id": "68fe3be5",
   "metadata": {},
   "outputs": [],
   "source": [
    "for n in np.arange(0,4):\n",
    "    gene = get_adata_and_protein(Path(data_folder), demux_sample[n],\n",
    "                                 hashtag_list[n][0], hashtag_list[n][1], demux_threshold_list)\n",
    "    adatas[demux_sample[n]] = gene"
   ]
  },
  {
   "cell_type": "markdown",
   "id": "a27394c7",
   "metadata": {},
   "source": [
    "### add all the rest h5 files to the adata list and concat"
   ]
  },
  {
   "cell_type": "code",
   "execution_count": 24,
   "id": "df59eed3",
   "metadata": {},
   "outputs": [
    {
     "data": {
      "text/plain": [
       "[None, None]"
      ]
     },
     "execution_count": 24,
     "metadata": {},
     "output_type": "execute_result"
    }
   ],
   "source": [
    "rest_sample = samples.copy()\n",
    "[rest_sample.remove(i) for i in rest_sample if i in demux_sample]\n",
    "[rest_sample.remove(i) for i in rest_sample if i in demux_sample]"
   ]
  },
  {
   "cell_type": "code",
   "execution_count": 25,
   "id": "f36a0343",
   "metadata": {},
   "outputs": [
    {
     "data": {
      "text/plain": [
       "16"
      ]
     },
     "execution_count": 25,
     "metadata": {},
     "output_type": "execute_result"
    }
   ],
   "source": [
    "len(rest_sample)"
   ]
  },
  {
   "cell_type": "code",
   "execution_count": 26,
   "id": "ebb7623a",
   "metadata": {},
   "outputs": [],
   "source": [
    "rest_sample_threshold = 0.3"
   ]
  },
  {
   "cell_type": "code",
   "execution_count": null,
   "id": "e5b97888",
   "metadata": {},
   "outputs": [],
   "source": [
    "for sample in rest_sample:\n",
    "    gene = get_adata(Path(data_folder), sample, rest_sample_threshold)\n",
    "    adatas[sample] = gene"
   ]
  },
  {
   "cell_type": "code",
   "execution_count": 29,
   "id": "d5c477cb",
   "metadata": {},
   "outputs": [],
   "source": [
    "adata_all = sc.concat(adatas)"
   ]
  },
  {
   "cell_type": "markdown",
   "id": "356d7038",
   "metadata": {},
   "source": [
    "### Mitochondria genes and pre-filtering QC plots"
   ]
  },
  {
   "cell_type": "code",
   "execution_count": 32,
   "id": "93978254",
   "metadata": {},
   "outputs": [],
   "source": [
    "adata_all.var['mt'] = adata_all.var_names.str.startswith('MT-')\n",
    "sc.pp.calculate_qc_metrics(adata_all, qc_vars=['mt'], percent_top=None, log1p=False, inplace=True)"
   ]
  },
  {
   "cell_type": "code",
   "execution_count": null,
   "id": "0c030384",
   "metadata": {},
   "outputs": [],
   "source": [
    "sc.pl.violin(adata_all, ['n_genes_by_counts', 'total_counts', 'pct_counts_mt'],\n",
    "             jitter=0.4, multi_panel=True)"
   ]
  },
  {
   "cell_type": "markdown",
   "id": "7d4fc23c",
   "metadata": {},
   "source": [
    "### remove doublet, filter cells by min_counts and min_counts, filter mito genes, and post-filtering QC plots"
   ]
  },
  {
   "cell_type": "code",
   "execution_count": 36,
   "id": "951d9683",
   "metadata": {},
   "outputs": [],
   "source": [
    "adata_all = adata_all[adata_all.obs['predicted_doublet'] == False].copy()"
   ]
  },
  {
   "cell_type": "code",
   "execution_count": 38,
   "id": "9e499db8",
   "metadata": {},
   "outputs": [],
   "source": [
    "sc.pp.filter_cells(adata_all, min_counts=1000)  \n",
    "sc.pp.filter_cells(adata_all, min_genes=500) "
   ]
  },
  {
   "cell_type": "code",
   "execution_count": 41,
   "id": "733266af",
   "metadata": {},
   "outputs": [],
   "source": [
    "adata_all = adata_all[adata_all.obs.pct_counts_mt < 80, :]"
   ]
  },
  {
   "cell_type": "code",
   "execution_count": 42,
   "id": "85fbb40b",
   "metadata": {},
   "outputs": [],
   "source": [
    "# sanity\n",
    "sc.pp.filter_genes(adata_all, min_cells=1)"
   ]
  },
  {
   "cell_type": "code",
   "execution_count": null,
   "id": "2cf88e43",
   "metadata": {},
   "outputs": [],
   "source": [
    "sc.pl.violin(adata_all, ['n_genes_by_counts', 'total_counts', 'pct_counts_mt'],\n",
    "             jitter=0.4, multi_panel=True)"
   ]
  },
  {
   "cell_type": "markdown",
   "id": "95b31650",
   "metadata": {},
   "source": [
    "### normalisation, log, calculate cell cycle, ribo, hemo, and HVG"
   ]
  },
  {
   "cell_type": "code",
   "execution_count": 45,
   "id": "fa882c1e",
   "metadata": {},
   "outputs": [],
   "source": [
    "sc.pp.normalize_per_cell(adata_all)\n",
    "sc.pp.log1p(adata_all)"
   ]
  },
  {
   "cell_type": "code",
   "execution_count": 46,
   "id": "7f665a3e",
   "metadata": {},
   "outputs": [],
   "source": [
    "score_cell_cycle(adata_all, signatures_path_)"
   ]
  },
  {
   "cell_type": "code",
   "execution_count": null,
   "id": "0850a120",
   "metadata": {},
   "outputs": [],
   "source": [
    "get_ribo_percentage(adata_all)\n",
    "get_hemo_percentage(adata_all)"
   ]
  },
  {
   "cell_type": "code",
   "execution_count": null,
   "id": "fc521c07",
   "metadata": {},
   "outputs": [],
   "source": [
    "sc.pp.highly_variable_genes(adata_all, n_top_genes=2000, batch_key='sample')"
   ]
  },
  {
   "cell_type": "code",
   "execution_count": null,
   "id": "3d81e609",
   "metadata": {},
   "outputs": [],
   "source": [
    "sc.pl.highly_variable_genes(adata_all)"
   ]
  },
  {
   "cell_type": "markdown",
   "id": "f3a03dc5",
   "metadata": {},
   "source": [
    "### calculate PCA, UMAP, louvain"
   ]
  },
  {
   "cell_type": "code",
   "execution_count": null,
   "id": "88a7c486",
   "metadata": {},
   "outputs": [],
   "source": [
    "sc.tl.pca(adata_all, svd_solver='arpack', n_comps = 50, use_highly_variable=True)\n",
    "sc.pl.pca_variance_ratio(adata_all, log=False)"
   ]
  },
  {
   "cell_type": "code",
   "execution_count": 50,
   "id": "568e4e98",
   "metadata": {},
   "outputs": [],
   "source": [
    "sc.pp.neighbors(adata_all, n_neighbors=50, n_pcs=20)\n",
    "sc.tl.umap(adata_all)\n",
    "sc.tl.diffmap(adata_all)\n",
    "sc.tl.louvain(adata_all, key_added='louvain', resolution=1)\n",
    "sc.tl.louvain(adata_all, key_added='louvain_highres', resolution=2)"
   ]
  },
  {
   "cell_type": "markdown",
   "id": "a640e432",
   "metadata": {},
   "source": [
    "### cell type annotation (coarse)"
   ]
  },
  {
   "cell_type": "code",
   "execution_count": 53,
   "id": "ec2439a7",
   "metadata": {},
   "outputs": [],
   "source": [
    "score_smillie_str_epi_imm(adata_all, signatures_path_)"
   ]
  },
  {
   "cell_type": "code",
   "execution_count": 54,
   "id": "938b34a0",
   "metadata": {},
   "outputs": [],
   "source": [
    "adata_all.obs['cell_type_coarse'] = np.array(['epi', 'str', 'imm'])[np.argmax(adata_all.obs[['epi_score', 'str_score', 'imm_score']].values, axis=1)]\n",
    "adata_all.obs['cell_type_coarse_score'] = np.max(adata_all.obs[['epi_score', 'str_score', 'imm_score']].values, axis=1)"
   ]
  },
  {
   "cell_type": "code",
   "execution_count": null,
   "id": "64c815f9",
   "metadata": {},
   "outputs": [],
   "source": [
    "scv.pl.scatter(adata_all, basis='umap', color=['cell_type_coarse', 'epi_score', 'str_score', 'imm_score'], \n",
    "               ncols=2, dpi=300, legend_loc='right margin', size = 1)"
   ]
  },
  {
   "cell_type": "markdown",
   "id": "de2bec3d",
   "metadata": {},
   "source": [
    "### write h5"
   ]
  },
  {
   "cell_type": "code",
   "execution_count": null,
   "id": "55b13196",
   "metadata": {},
   "outputs": [],
   "source": [
    "adata_all.write(Path(new_data_folder)/'CB_all_cells.h5')"
   ]
  },
  {
   "cell_type": "markdown",
   "id": "bfc5e56e",
   "metadata": {},
   "source": [
    "### write cell barcode id as anno/sample_celltype.txt for Numbat"
   ]
  },
  {
   "cell_type": "code",
   "execution_count": 59,
   "id": "2221747f",
   "metadata": {},
   "outputs": [],
   "source": [
    "celltype = ['epi', 'str', 'imm']"
   ]
  },
  {
   "cell_type": "code",
   "execution_count": 60,
   "id": "a70da000",
   "metadata": {},
   "outputs": [],
   "source": [
    "adata_copy = adata_all.copy()"
   ]
  },
  {
   "cell_type": "code",
   "execution_count": 61,
   "id": "723b2b9d",
   "metadata": {},
   "outputs": [],
   "source": [
    "adata_copy.obs_names = [x.split(':')[1] + '-1' for x in adata_copy.obs_names]"
   ]
  },
  {
   "cell_type": "code",
   "execution_count": null,
   "id": "22ee0f31",
   "metadata": {},
   "outputs": [],
   "source": [
    "for sample in samples:\n",
    "    for ctype in celltype:\n",
    "        (adata_copy[(adata_copy.obs['sample'] == sample) & (adata_copy.obs['celltype_1a'] == ctype)].\n",
    "         obs_names.to_frame(name = 'cell_id').to_csv(Path(new_data_folder)/f'anno/{sample}_{ctype}.txt', \n",
    "                                                     index = False,\n",
    "                                                     header = False))"
   ]
  },
  {
   "cell_type": "code",
   "execution_count": 62,
   "id": "b53f92ed",
   "metadata": {},
   "outputs": [],
   "source": [
    "del adata_copy"
   ]
  },
  {
   "cell_type": "markdown",
   "id": "6efbd3a2",
   "metadata": {},
   "source": [
    "### focus on epithelial cells"
   ]
  },
  {
   "cell_type": "code",
   "execution_count": 208,
   "id": "2557e19d",
   "metadata": {},
   "outputs": [],
   "source": [
    "adata_epi = adata_all[adata_all.obs['celltype_1a'] == 'epi'].copy()"
   ]
  },
  {
   "cell_type": "markdown",
   "id": "660c9e75",
   "metadata": {},
   "source": [
    "### Calculate HVG, PCA, UMAP, louvain"
   ]
  },
  {
   "cell_type": "code",
   "execution_count": null,
   "id": "ce9294cd",
   "metadata": {},
   "outputs": [],
   "source": [
    "sc.pp.highly_variable_genes(adata_epi, n_top_genes=2000, batch_key='sample') "
   ]
  },
  {
   "cell_type": "code",
   "execution_count": null,
   "id": "f64d66e5",
   "metadata": {},
   "outputs": [],
   "source": [
    "# default take HVG\n",
    "sc.tl.pca(adata_epi, svd_solver='arpack', n_comps = 50, use_highly_variable=True)\n",
    "sc.pl.pca_variance_ratio(adata_epi, log=False)"
   ]
  },
  {
   "cell_type": "code",
   "execution_count": 214,
   "id": "0c51696f",
   "metadata": {},
   "outputs": [],
   "source": [
    "sc.pp.neighbors(adata_epi, n_neighbors=20, n_pcs=15)\n",
    "sc.tl.umap(adata_epi)\n",
    "sc.tl.diffmap(adata_epi)\n",
    "sc.tl.louvain(adata_epi, key_added='louvain', resolution=1)"
   ]
  },
  {
   "cell_type": "code",
   "execution_count": null,
   "id": "b6c1da9a",
   "metadata": {},
   "outputs": [],
   "source": [
    "scv.pl.scatter(adata_epi, basis='umap', color=['sample_origin', 'sample', \n",
    "                                               'patient', 'MS_status', \n",
    "                                               'louvain'], \n",
    "               ncols=2, dpi=300, legend_loc='right margin', size = 2)"
   ]
  },
  {
   "cell_type": "markdown",
   "id": "75de976c",
   "metadata": {},
   "source": [
    "### write to h5 file"
   ]
  },
  {
   "cell_type": "code",
   "execution_count": null,
   "id": "eadee65d",
   "metadata": {},
   "outputs": [],
   "source": [
    "adata_epi.write(Path(new_data_folder)/'CB_epi_cells.h5')"
   ]
  }
 ],
 "metadata": {
  "kernelspec": {
   "display_name": "sc",
   "language": "python",
   "name": "sc"
  },
  "language_info": {
   "codemirror_mode": {
    "name": "ipython",
    "version": 3
   },
   "file_extension": ".py",
   "mimetype": "text/x-python",
   "name": "python",
   "nbconvert_exporter": "python",
   "pygments_lexer": "ipython3",
   "version": "3.9.10"
  }
 },
 "nbformat": 4,
 "nbformat_minor": 5
}
