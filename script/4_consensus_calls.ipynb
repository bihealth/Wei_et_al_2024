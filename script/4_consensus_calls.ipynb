{
 "cells": [
  {
   "cell_type": "code",
   "execution_count": null,
   "id": "818b654e",
   "metadata": {},
   "outputs": [],
   "source": [
    "import os\n",
    "import sys\n",
    "print(\"Python version\" + sys.version)\n",
    "os.getcwd()\n",
    "print(sys.executable)"
   ]
  },
  {
   "cell_type": "code",
   "execution_count": 2,
   "id": "41493454",
   "metadata": {},
   "outputs": [],
   "source": [
    "import numpy as np\n",
    "np.random.seed(123)\n",
    "import pandas as pd\n",
    "import scipy\n",
    "import itertools\n",
    "\n",
    "import umap\n",
    "import matplotlib.pyplot as plt\n",
    "%matplotlib inline\n",
    "import seaborn as sns\n",
    "\n",
    "import scanpy as sc\n",
    "import anndata as ad\n",
    "import scvelo as scv\n",
    "from tqdm.notebook import tqdm\n",
    "\n",
    "from pathlib import Path"
   ]
  },
  {
   "cell_type": "code",
   "execution_count": 3,
   "id": "ad5dc101",
   "metadata": {},
   "outputs": [],
   "source": [
    "import venn"
   ]
  },
  {
   "cell_type": "code",
   "execution_count": 4,
   "id": "e33993fc",
   "metadata": {},
   "outputs": [],
   "source": [
    "import cellrank as cr"
   ]
  },
  {
   "cell_type": "code",
   "execution_count": null,
   "id": "4684a6ff",
   "metadata": {},
   "outputs": [],
   "source": [
    "cr.__version__"
   ]
  },
  {
   "cell_type": "code",
   "execution_count": 6,
   "id": "63e1b27e",
   "metadata": {},
   "outputs": [],
   "source": [
    "from cellrank.kernels import PseudotimeKernel"
   ]
  },
  {
   "cell_type": "code",
   "execution_count": 7,
   "id": "835e3a5b",
   "metadata": {},
   "outputs": [],
   "source": [
    "from cellrank.kernels import CytoTRACEKernel"
   ]
  },
  {
   "cell_type": "code",
   "execution_count": 8,
   "id": "28512a85",
   "metadata": {},
   "outputs": [],
   "source": [
    "import scanpy.external as sce"
   ]
  },
  {
   "cell_type": "code",
   "execution_count": 9,
   "id": "8811fe47",
   "metadata": {},
   "outputs": [],
   "source": [
    "from pysankey import sankey"
   ]
  },
  {
   "cell_type": "code",
   "execution_count": 10,
   "id": "edc6a38b",
   "metadata": {},
   "outputs": [],
   "source": [
    "import upsetplot\n",
    "from upsetplot import from_contents\n",
    "from upsetplot import UpSet\n",
    "from upsetplot import plot"
   ]
  },
  {
   "cell_type": "code",
   "execution_count": null,
   "id": "e00c0c1c",
   "metadata": {},
   "outputs": [],
   "source": [
    "sc.settings.verbosity = 1\n",
    "sc.logging.print_header()\n",
    "sc.settings.set_figure_params(dpi=150, facecolor='white')"
   ]
  },
  {
   "cell_type": "code",
   "execution_count": 12,
   "id": "d060c6fd",
   "metadata": {},
   "outputs": [],
   "source": [
    "# remove weird grid from scvelo\n",
    "plt.rcParams['axes.grid'] = False"
   ]
  },
  {
   "cell_type": "code",
   "execution_count": 111,
   "id": "965de8db",
   "metadata": {},
   "outputs": [],
   "source": [
    "from matplotlib_inline.backend_inline import set_matplotlib_formats\n",
    "set_matplotlib_formats('svg', dpi = 300)"
   ]
  },
  {
   "cell_type": "code",
   "execution_count": 112,
   "id": "b59c15f9",
   "metadata": {},
   "outputs": [],
   "source": [
    "plt.rcParams['svg.fonttype'] = 'none'\n",
    "plt.rcParams['font.family'] = 'DejaVu Sans'\n",
    "plt.rcParams['font.size'] = '8'\n"
   ]
  },
  {
   "cell_type": "code",
   "execution_count": 14,
   "id": "ae2167e0",
   "metadata": {},
   "outputs": [],
   "source": [
    "# revised from Stefan's cell type signature\n",
    "signatures_path_ = '../cell_type_from_stefan/scrnaseq_signature_collection/'\n",
    "from score_and_classify import *"
   ]
  },
  {
   "cell_type": "code",
   "execution_count": 15,
   "id": "c2f4623f",
   "metadata": {},
   "outputs": [],
   "source": [
    "new_data_folder = '/fast/users/twei_m/work/crc/datasets_new_preprocessing'"
   ]
  },
  {
   "cell_type": "code",
   "execution_count": 16,
   "id": "296ec0d7",
   "metadata": {},
   "outputs": [],
   "source": [
    "adata_epi = sc.read(Path(new_data_folder)/'202306_CB_epi_Numbat_Scitcem_inferCNV_icms_Uhlitz_scanvi.h5')"
   ]
  },
  {
   "cell_type": "code",
   "execution_count": 17,
   "id": "c0e34b8c",
   "metadata": {},
   "outputs": [],
   "source": [
    "tsamples = ['p007t', 'p008t', 'p009t1','p009t2', 'p013t', 'p014t', 'p016t', \n",
    "           'p020t', 'p021t', 'p026t', 'p035t'] "
   ]
  },
  {
   "cell_type": "code",
   "execution_count": 18,
   "id": "28637b51",
   "metadata": {},
   "outputs": [],
   "source": [
    "samples = ['p007n', 'p008n', 'p009n1', 'p009n2','p013n', 'p014n', 'p016n', \n",
    "           'p020n', 'p021n'] + tsamples"
   ]
  },
  {
   "cell_type": "markdown",
   "id": "c345caa3",
   "metadata": {},
   "source": [
    "### Numbat and Scitcem"
   ]
  },
  {
   "cell_type": "code",
   "execution_count": null,
   "id": "faae0f66",
   "metadata": {},
   "outputs": [],
   "source": [
    "[(adata_epi.obs['numbat'] == 'tumour\\n(tumour sample)') & (adata_epi.obs['scitcem_call'] == 'tumour\\n(tumour sample)')]"
   ]
  },
  {
   "cell_type": "code",
   "execution_count": 20,
   "id": "88b9c9e4",
   "metadata": {},
   "outputs": [],
   "source": [
    "adata_epi.obs['Numbat_Scitcem_tumour'] = list((adata_epi.obs['numbat'] == 'tumour\\n(tumour sample)') &\n",
    "                                                    (adata_epi.obs['scitcem_call'] == 'tumour\\n(tumour sample)'))\n",
    "adata_epi.obs['Numbat_Scitcem_tumour'] = list((adata_epi.obs['numbat'] == 'tumour\\n(tumour sample)') &\n",
    "                                                    (adata_epi.obs['scitcem_call'] == 'tumour\\n(tumour sample)'))\n",
    "\n",
    "adata_epi.obs['tumour_normal_normal'] = None\n",
    "\n",
    "for i in np.arange(0, adata_epi.shape[0]):\n",
    "    if adata_epi.obs['sample_origin'][i] == '\\nnormal\\nsample\\n':\n",
    "        adata_epi.obs['tumour_normal_normal'][i] = 'normal_sample'\n",
    "    elif (adata_epi.obs['numbat'][i] == 'tumour\\n(tumour sample)') & (adata_epi.obs['scitcem_call'][i] == 'tumour\\n(tumour sample)'):\n",
    "        adata_epi.obs['tumour_normal_normal'][i] = 'genomically_tumour'\n",
    "    elif (adata_epi.obs['numbat'][i] == 'normal\\n(tumour sample)') & (adata_epi.obs['scitcem_call'][i] == 'normal\\n(tumour sample)'):\n",
    "        adata_epi.obs['tumour_normal_normal'][i] = 'genomically_normal'\n",
    "    else:\n",
    "        adata_epi.obs['tumour_normal_normal'][i] = 'no confident assignment'\n",
    "adata_epi.obs['tumour_normal_normal'] = adata_epi.obs['tumour_normal_normal'].astype('category')"
   ]
  },
  {
   "cell_type": "code",
   "execution_count": 22,
   "id": "59bb2d14",
   "metadata": {},
   "outputs": [],
   "source": [
    "adata_epi.obs['tumour_normal_normal'] = adata_epi.obs['tumour_normal_normal'\n",
    "                                                     ].cat.reorder_categories([\n",
    "    'genomically_tumour', 'no confident assignment',\n",
    "    'genomically_normal', 'normal_sample'])"
   ]
  },
  {
   "cell_type": "code",
   "execution_count": 23,
   "id": "c8591d49",
   "metadata": {},
   "outputs": [],
   "source": [
    "adata_epi.uns['tumour_normal_normal_colors'] = ['#ff7f0e', '#9b1ee3','#1f77b4','#d3d3d3']"
   ]
  },
  {
   "cell_type": "code",
   "execution_count": 24,
   "id": "c095d9a3",
   "metadata": {},
   "outputs": [],
   "source": [
    "anatomical_loc = pd.DataFrame({'patient': list(np.unique(adata_epi.obs['patient'])) ,\n",
    "                               'anatomical_location':['0_Cecum', '0_Cecum', '7_Sigmoid', '2_Ascending', '2_Ascending',\n",
    "                                                      '9_Rectum', '9_Rectum', '6_Descending', '0_Cecum', '2_Ascending']})"
   ]
  },
  {
   "cell_type": "code",
   "execution_count": 25,
   "id": "49b296b7",
   "metadata": {},
   "outputs": [],
   "source": [
    "adata_epi.obs = adata_epi.obs.merge(anatomical_loc, on = 'patient', how='left').set_axis(adata_epi.obs.index)"
   ]
  },
  {
   "cell_type": "markdown",
   "id": "3d0e8406",
   "metadata": {},
   "source": [
    "### Venn"
   ]
  },
  {
   "cell_type": "code",
   "execution_count": null,
   "id": "901cc5a1",
   "metadata": {},
   "outputs": [],
   "source": [
    "set_infercnv = set(adata_epi[(adata_epi.obs['inferCNV_result'] == 'CNA\\n(tumour sample)') & \n",
    "                                     (adata_epi.obs['sample_origin'] == 'tumour\\nsample')].obs.index)\n",
    "len(set_infercnv)"
   ]
  },
  {
   "cell_type": "code",
   "execution_count": null,
   "id": "b766ae1f",
   "metadata": {},
   "outputs": [],
   "source": [
    "set_scitcem = set(adata_epi[(adata_epi.obs['scitcem_call'] == 'tumour\\n(tumour sample)') & \n",
    "                                     (adata_epi.obs['sample_origin'] == 'tumour\\nsample')].obs.index)\n",
    "len(set_scitcem)"
   ]
  },
  {
   "cell_type": "code",
   "execution_count": null,
   "id": "f530a81e",
   "metadata": {},
   "outputs": [],
   "source": [
    "set_numbat = set(adata_epi[(adata_epi.obs['numbat'] == 'tumour\\n(tumour sample)')& \n",
    "                                     (adata_epi.obs['sample_origin'] == 'tumour\\nsample')].obs.index)\n",
    "len(set_numbat)"
   ]
  },
  {
   "cell_type": "code",
   "execution_count": null,
   "id": "ed705f7f",
   "metadata": {},
   "outputs": [],
   "source": [
    "set_icms_scANVI = set(adata_epi[(adata_epi.obs['iCMS_scANVI'] != 'normal\\n(tumour sample)')& \n",
    "                                     (adata_epi.obs['sample_origin'] == 'tumour\\nsample')].obs.index)\n",
    "len(set_icms_scANVI)"
   ]
  },
  {
   "cell_type": "markdown",
   "id": "d8ffdfc3",
   "metadata": {},
   "source": [
    "### upset plot"
   ]
  },
  {
   "cell_type": "code",
   "execution_count": 30,
   "id": "0ffebb9e",
   "metadata": {},
   "outputs": [],
   "source": [
    "upset_dic = from_contents({'iCMS':sorted(set_icms_scANVI),\n",
    "               'Scitcem':sorted(set_scitcem),\n",
    "               'Numbat':sorted(set_numbat),\n",
    "               'inferCNV':sorted(set_infercnv)\n",
    "    \n",
    "})"
   ]
  },
  {
   "cell_type": "code",
   "execution_count": null,
   "id": "e8a14239",
   "metadata": {},
   "outputs": [],
   "source": [
    "fig = plt.figure(figsize=(12, 5))\n",
    "upsetp = plot(upset_dic, show_counts=True, fig=fig, element_size=None);"
   ]
  },
  {
   "cell_type": "code",
   "execution_count": 33,
   "id": "f9c76d4c",
   "metadata": {},
   "outputs": [],
   "source": [
    "upset_df = adata_epi[adata_epi.obs['sample_origin'] == 'tumour\\nsample'].obs.copy()\n",
    "\n",
    "upset_df = upset_df.set_index(upset_df.iCMS_scANVI.isin(['iCMS2\\n(tumour sample)','iCMS3\\n(tumour sample)'])).set_index(\n",
    "upset_df.inferCNV_result == 'CNA\\n(tumour sample)', append=True).set_index(\n",
    "upset_df.numbat == 'tumour\\n(tumour sample)', append=True).set_index(\n",
    "upset_df.scitcem_call == 'tumour\\n(tumour sample)', append=True)\n",
    "\n",
    "upset_df.index.rename(['iCMS', 'inferCNV', 'Numbat', 'Scitcem'], inplace=True)"
   ]
  },
  {
   "cell_type": "code",
   "execution_count": null,
   "id": "8fad9926",
   "metadata": {},
   "outputs": [],
   "source": [
    "fig = plt.figure(figsize=(12, 6))\n",
    "\n",
    "upsetp = UpSet(upset_df, show_counts='%d', show_percentages=False, \n",
    "               intersection_plot_elements = 0, element_size=40)\n",
    "upsetp.add_stacked_bars(by='MS_status', elements = 10)\n",
    "upsetp.plot()\n",
    "plt.legend(bbox_to_anchor=(1.04, 1), loc=\"upper left\")\n",
    ";"
   ]
  },
  {
   "cell_type": "code",
   "execution_count": 36,
   "id": "96cf921f",
   "metadata": {},
   "outputs": [],
   "source": [
    "upset_df_tumour_cells = upset_df[(upset_df.iCMS_scANVI != 'normal\\n(tumour sample)') |\n",
    "        (upset_df.numbat != 'normal\\n(tumour sample)') |\n",
    "        (upset_df.scitcem_call != 'normal\\n(tumour sample)') |\n",
    "        (~upset_df.inferCNV_result.isin(['CNN\\n(tumour sample)', 'failed_sample']))]"
   ]
  },
  {
   "cell_type": "code",
   "execution_count": null,
   "id": "85a5e9a8",
   "metadata": {},
   "outputs": [],
   "source": [
    "fig = plt.figure(figsize=(12, 6))\n",
    "\n",
    "upsetp = UpSet(upset_df_tumour_cells, show_counts=True, show_percentages=False, \n",
    "               intersection_plot_elements = 0, element_size=40)\n",
    "upsetp.add_stacked_bars(by='anatomical_location', elements = 10)\n",
    "upsetp.plot()\n",
    "plt.legend(bbox_to_anchor=(1.04, 1), loc=\"upper left\")\n",
    ";"
   ]
  },
  {
   "cell_type": "code",
   "execution_count": null,
   "id": "b28c24c5",
   "metadata": {},
   "outputs": [],
   "source": [
    "fig = plt.figure(figsize=(12, 6))\n",
    "\n",
    "upsetp = UpSet(upset_df_tumour_cells, show_counts=True, show_percentages=False, \n",
    "               intersection_plot_elements = 0, element_size=40)\n",
    "upsetp.add_stacked_bars(by='patient', elements = 10)\n",
    "upsetp.plot()\n",
    "plt.legend(bbox_to_anchor=(1.04, 1), loc=\"upper left\")\n",
    ";"
   ]
  },
  {
   "cell_type": "code",
   "execution_count": null,
   "id": "529c427b",
   "metadata": {},
   "outputs": [],
   "source": [
    "fig = plt.figure(figsize=(12, 6))\n",
    "\n",
    "upsetp = UpSet(upset_df_tumour_cells, show_counts=True, show_percentages=False, \n",
    "               intersection_plot_elements = 0, element_size=40)\n",
    "upsetp.add_stacked_bars(by='Uhlitz_scANVI', elements = 10)\n",
    "upsetp.plot()\n",
    "plt.legend(bbox_to_anchor=(1.04, 1), loc=\"upper left\")\n",
    ";"
   ]
  },
  {
   "cell_type": "markdown",
   "id": "9116e45a",
   "metadata": {},
   "source": [
    "### Consensus cell identity"
   ]
  },
  {
   "cell_type": "markdown",
   "id": "2cff66a2",
   "metadata": {},
   "source": [
    "- normal sample\n",
    "- Numbat == tumour and Scitcem == tumour > tumour; same for normal\n",
    "- Scitcem == 0.5 & Numbat > 0.5 > tumour\n",
    "- MSS: Scitcem < 0.5 & Numbat > 0.5 > tumour\n",
    "- MSI: Scitcem > 0.5 & WGS normal sample Mutect2 alt. allele == 0\n",
    "\n",
    "- cell_identity_list = pd.read_csv(Path(new_data_folder)/'conflicting_cell_identity_scitcem_high.txt', index_col=0)"
   ]
  },
  {
   "cell_type": "code",
   "execution_count": 41,
   "id": "18a2318d",
   "metadata": {},
   "outputs": [],
   "source": [
    "adata_epi.obs['cell_identity'] = None\n",
    "\n",
    "for i in np.arange(0, adata_epi.shape[0]):\n",
    "    if adata_epi.obs['sample_origin'][i] == '\\nnormal\\nsample\\n':\n",
    "        adata_epi.obs['cell_identity'][i] = 'normal_sample'\n",
    "    elif (adata_epi.obs['numbat'][i] == 'tumour\\n(tumour sample)') & (adata_epi.obs['scitcem_call'][i] == 'tumour\\n(tumour sample)'):\n",
    "        adata_epi.obs['cell_identity'][i] = 'genomically_tumour'\n",
    "    elif (adata_epi.obs['numbat'][i] == 'normal\\n(tumour sample)') & (adata_epi.obs['scitcem_call'][i] == 'normal\\n(tumour sample)'):\n",
    "        adata_epi.obs['cell_identity'][i] = 'genomically_normal'\n",
    "    # no observed alt. >> leave this to the MSS/MSI decision \n",
    "    #elif (adata_epi.obs['scitcem_p'][i] == 0.5) & (adata_epi.obs['p_cnv'][i] > 0.5):\n",
    "    #    adata_epi.obs['cell_identity'][i] = 'genomically_tumour'\n",
    "    \n",
    "    # Numbat is higher in MSS\n",
    "    elif (adata_epi.obs['MS_status'][i] == 'MSS') & (adata_epi.obs['p_cnv'][i] > 0.5):\n",
    "        adata_epi.obs['cell_identity'][i] = 'genomically_tumour'\n",
    "    # Scitcem is higher in MSI\n",
    "    elif (adata_epi.obs['MS_status'][i] == 'MSI') & (adata_epi.obs['scitcem_p'][i] > 0.5):\n",
    "        adata_epi.obs['cell_identity'][i] = 'genomically_tumour'\n",
    "    else:\n",
    "        adata_epi.obs['cell_identity'][i] = 'no confident assignment'\n",
    "        \n",
    "adata_epi.obs['cell_identity'] = adata_epi.obs['cell_identity'].astype('category')\n",
    "          "
   ]
  },
  {
   "cell_type": "code",
   "execution_count": 44,
   "id": "bfb66bc5",
   "metadata": {},
   "outputs": [],
   "source": [
    "adata_epi.uns['cell_identity_colors'] = adata_epi.uns['tumour_normal_normal_colors']"
   ]
  },
  {
   "cell_type": "code",
   "execution_count": 45,
   "id": "8ca1e856",
   "metadata": {},
   "outputs": [],
   "source": [
    "adata_epi.obs['cell_identity'] = adata_epi.obs['cell_identity'].cat.reorder_categories(['genomically_tumour','no confident assignment', \n",
    "                                                             'genomically_normal','normal_sample'])"
   ]
  },
  {
   "cell_type": "code",
   "execution_count": 46,
   "id": "3adfe39f",
   "metadata": {},
   "outputs": [],
   "source": [
    "adata_epi.obs['tumour_normal_normal'] = adata_epi.obs['tumour_normal_normal'].cat.reorder_categories(['genomically_tumour','no confident assignment', \n",
    "                                                             'genomically_normal','normal_sample'])"
   ]
  },
  {
   "cell_type": "code",
   "execution_count": 47,
   "id": "240c445a",
   "metadata": {},
   "outputs": [],
   "source": [
    "# re-run to include cell_identity col\n",
    "upset_df = adata_epi[adata_epi.obs['sample_origin'] == 'tumour\\nsample'].obs.copy()\n",
    "\n",
    "upset_df = upset_df.set_index(upset_df.iCMS_scANVI.isin(['iCMS2\\n(tumour sample)','iCMS3\\n(tumour sample)'])).set_index(\n",
    "upset_df.inferCNV_result == 'CNA\\n(tumour sample)', append=True).set_index(\n",
    "upset_df.numbat == 'tumour\\n(tumour sample)', append=True).set_index(\n",
    "upset_df.scitcem_call == 'tumour\\n(tumour sample)', append=True)\n",
    "\n",
    "upset_df.index.rename(['iCMS', 'inferCNV', 'Numbat', 'Scitcem'], inplace=True)"
   ]
  },
  {
   "cell_type": "code",
   "execution_count": null,
   "id": "1d273a35",
   "metadata": {},
   "outputs": [],
   "source": [
    "fig = plt.figure(figsize=(12, 6))\n",
    "\n",
    "upsetp = UpSet(upset_df, show_counts='%d', show_percentages=False, \n",
    "               intersection_plot_elements = 0, element_size=40)\n",
    "upsetp.add_stacked_bars(by='cell_identity', elements = 10)\n",
    "upsetp.plot()\n",
    "plt.legend(bbox_to_anchor=(1.04, 1), loc=\"upper left\")\n",
    ";"
   ]
  },
  {
   "cell_type": "code",
   "execution_count": null,
   "id": "3840de6c",
   "metadata": {},
   "outputs": [],
   "source": [
    "fig = plt.figure(figsize=(12, 6))\n",
    "\n",
    "upsetp = UpSet(upset_df, show_counts='%d', show_percentages=False, \n",
    "               intersection_plot_elements = 0, element_size=40, max_subset_size=2000)\n",
    "upsetp.add_stacked_bars(by='cell_identity', elements = 10)\n",
    "upsetp.plot()\n",
    "plt.legend(bbox_to_anchor=(1.04, 1), loc=\"upper left\")\n",
    ";"
   ]
  },
  {
   "cell_type": "code",
   "execution_count": null,
   "id": "9239a074",
   "metadata": {},
   "outputs": [],
   "source": [
    "fig = plt.figure(figsize=(12, 6))\n",
    "\n",
    "upsetp = UpSet(upset_df, show_counts='%d', show_percentages=False, \n",
    "               intersection_plot_elements = 0, element_size=40, max_subset_size=2000)\n",
    "upsetp.add_stacked_bars(by='MS_status', elements = 10)\n",
    "upsetp.plot()\n",
    "plt.legend(bbox_to_anchor=(1.04, 1), loc=\"upper left\")\n",
    ";"
   ]
  },
  {
   "cell_type": "markdown",
   "id": "ea27a098",
   "metadata": {},
   "source": [
    "### p035t "
   ]
  },
  {
   "cell_type": "code",
   "execution_count": 53,
   "id": "e53cffcd",
   "metadata": {},
   "outputs": [],
   "source": [
    "# Scitcem > 0.5 > 226 cells\n",
    "p035t_cells = adata_epi[(adata_epi.obs['sample'] == 'p035t') & \n",
    "          (adata_epi.obs['tumour_normal_normal'] == 'no confident assignment') &\n",
    "          (adata_epi.obs['scitcem_p'] > 0.5)].obs.sort_values(['scitcem_p', 'p_cnv'])"
   ]
  },
  {
   "cell_type": "code",
   "execution_count": null,
   "id": "f7f15cda",
   "metadata": {},
   "outputs": [],
   "source": [
    "plt.figure(figsize=(12, 5))\n",
    "sns.scatterplot(data = p035t_cells.reset_index(), x = 'index', y = 'p_cnv', hue = 'iCMS_scANVI')\n",
    "plt.xticks(rotation=90)\n",
    "plt.xticks('');"
   ]
  },
  {
   "cell_type": "markdown",
   "id": "8aab387b",
   "metadata": {},
   "source": [
    "### huge heatmap of cell identity"
   ]
  },
  {
   "cell_type": "code",
   "execution_count": null,
   "id": "a3c192df",
   "metadata": {},
   "outputs": [],
   "source": [
    "sns.color_palette(\"blend:#1f77b4,#d5d5d5,#ff7f0e\", as_cmap=True)"
   ]
  },
  {
   "cell_type": "code",
   "execution_count": 62,
   "id": "39623c6c",
   "metadata": {},
   "outputs": [],
   "source": [
    "# assign tumour to 1 and normal to 0 for heatmap\n",
    "dummy_ci_df = pd.get_dummies(adata_epi[adata_epi.obs['sample'].isin(tsamples)].obs[['numbat', 'scitcem_call']])[[\n",
    "    'numbat_tumour\\n(tumour sample)', 'scitcem_call_tumour\\n(tumour sample)'\n",
    "]].merge(adata_epi[adata_epi.obs['sample'].isin(tsamples)].obs[['sample','p_cnv','scitcem_p', \n",
    "                                                                'filter_alt', 'filter_dp','mean_VAF']], \n",
    "         left_index=True, right_index=True)"
   ]
  },
  {
   "cell_type": "code",
   "execution_count": null,
   "id": "8fe32b8e",
   "metadata": {},
   "outputs": [],
   "source": [
    "with plt.style.context('./plt_style'):\n",
    "    cmap = sns.color_palette(\"blend:#1f77b4,#ff7f0e\", as_cmap=True)\n",
    "    fig, (ax1, ax2, ax3, ax4, ax5, ax6, ax7, ax8, ax9, ax10, ax11) = plt.subplots(nrows = 11)\n",
    "    \n",
    "    sns.heatmap(dummy_ci_df[dummy_ci_df['sample'] == tsamples[0]].sort_values(['numbat_tumour\\n(tumour sample)',\n",
    "                                                                               'scitcem_call_tumour\\n(tumour sample)'\n",
    "                                                                                  ])[['numbat_tumour\\n(tumour sample)',\n",
    "                                                                                      'scitcem_call_tumour\\n(tumour sample)']].T,\n",
    "                xticklabels = False,\n",
    "                cmap=cmap,ax=ax1, cbar=False, yticklabels = False)\n",
    "    \n",
    "    sns.heatmap(dummy_ci_df[dummy_ci_df['sample'] == tsamples[1]].sort_values(['numbat_tumour\\n(tumour sample)',\n",
    "                                                                               'scitcem_call_tumour\\n(tumour sample)'\n",
    "                                                                                  ])[['numbat_tumour\\n(tumour sample)',\n",
    "                                                                                      'scitcem_call_tumour\\n(tumour sample)']].T,\n",
    "                xticklabels = False,\n",
    "                cmap=cmap, ax=ax2, cbar=False, yticklabels = False)\n",
    "    \n",
    "    sns.heatmap(dummy_ci_df[dummy_ci_df['sample'] == tsamples[2]].sort_values(['numbat_tumour\\n(tumour sample)',\n",
    "                                                                               'scitcem_call_tumour\\n(tumour sample)'\n",
    "                                                                                  ])[['numbat_tumour\\n(tumour sample)',\n",
    "                                                                                      'scitcem_call_tumour\\n(tumour sample)']].T,\n",
    "                xticklabels = False,\n",
    "                cmap=cmap, ax=ax3, cbar=False, yticklabels = False)\n",
    "    \n",
    "    sns.heatmap(dummy_ci_df[dummy_ci_df['sample'] == tsamples[3]].sort_values(['numbat_tumour\\n(tumour sample)',\n",
    "                                                                               'scitcem_call_tumour\\n(tumour sample)'\n",
    "                                                                                  ])[['numbat_tumour\\n(tumour sample)',\n",
    "                                                                                      'scitcem_call_tumour\\n(tumour sample)']].T,\n",
    "                xticklabels = False,\n",
    "                cmap=cmap, ax=ax4, cbar=False, yticklabels = False)\n",
    "    \n",
    "    sns.heatmap(dummy_ci_df[dummy_ci_df['sample'] == tsamples[4]].sort_values(['numbat_tumour\\n(tumour sample)',\n",
    "                                                                               'scitcem_call_tumour\\n(tumour sample)'\n",
    "                                                                                  ])[['numbat_tumour\\n(tumour sample)',\n",
    "                                                                                      'scitcem_call_tumour\\n(tumour sample)']].T,\n",
    "                xticklabels = False,\n",
    "                cmap=cmap, ax=ax5, cbar=False, yticklabels = False)\n",
    "    \n",
    "    sns.heatmap(dummy_ci_df[dummy_ci_df['sample'] == tsamples[5]].sort_values(['numbat_tumour\\n(tumour sample)',\n",
    "                                                                               'scitcem_call_tumour\\n(tumour sample)'\n",
    "                                                                                  ])[['numbat_tumour\\n(tumour sample)',\n",
    "                                                                                      'scitcem_call_tumour\\n(tumour sample)']].T,\n",
    "                xticklabels = False,\n",
    "                cmap=cmap, ax=ax6, cbar=False, yticklabels = False)\n",
    "    \n",
    "    sns.heatmap(dummy_ci_df[dummy_ci_df['sample'] == tsamples[6]].sort_values(['numbat_tumour\\n(tumour sample)',\n",
    "                                                                               'scitcem_call_tumour\\n(tumour sample)'\n",
    "                                                                                  ])[['numbat_tumour\\n(tumour sample)',\n",
    "                                                                                      'scitcem_call_tumour\\n(tumour sample)']].T,\n",
    "                xticklabels = False,\n",
    "                cmap=cmap, ax=ax7, cbar=False, yticklabels = False)\n",
    "    \n",
    "    sns.heatmap(dummy_ci_df[dummy_ci_df['sample'] == tsamples[7]].sort_values(['numbat_tumour\\n(tumour sample)',\n",
    "                                                                               'scitcem_call_tumour\\n(tumour sample)'\n",
    "                                                                                  ])[['numbat_tumour\\n(tumour sample)',\n",
    "                                                                                      'scitcem_call_tumour\\n(tumour sample)']].T,\n",
    "                xticklabels = False,\n",
    "                cmap=cmap, ax=ax8, cbar=False, yticklabels = False)\n",
    "    \n",
    "    sns.heatmap(dummy_ci_df[dummy_ci_df['sample'] == tsamples[8]].sort_values(['numbat_tumour\\n(tumour sample)',\n",
    "                                                                               'scitcem_call_tumour\\n(tumour sample)'\n",
    "                                                                                  ])[['numbat_tumour\\n(tumour sample)',\n",
    "                                                                                      'scitcem_call_tumour\\n(tumour sample)']].T,\n",
    "                xticklabels = False,\n",
    "                cmap=cmap, ax=ax9, cbar=False, yticklabels = False)\n",
    "    \n",
    "    sns.heatmap(dummy_ci_df[dummy_ci_df['sample'] == tsamples[9]].sort_values(['numbat_tumour\\n(tumour sample)',\n",
    "                                                                               'scitcem_call_tumour\\n(tumour sample)'\n",
    "                                                                                  ])[['numbat_tumour\\n(tumour sample)',\n",
    "                                                                                      'scitcem_call_tumour\\n(tumour sample)']].T,\n",
    "                xticklabels = False,\n",
    "                cmap=cmap, ax=ax10, cbar=False, yticklabels = False)\n",
    "    \n",
    "    sns.heatmap(dummy_ci_df[dummy_ci_df['sample'] == tsamples[10]].sort_values(['numbat_tumour\\n(tumour sample)',\n",
    "                                                                               'scitcem_call_tumour\\n(tumour sample)'\n",
    "                                                                                  ])[['numbat_tumour\\n(tumour sample)',\n",
    "                                                                                      'scitcem_call_tumour\\n(tumour sample)']].T,\n",
    "                xticklabels = False,\n",
    "                cmap=cmap, ax=ax11, cbar=False, yticklabels = False)\n",
    "\n",
    "    ax1.set(ylabel=tsamples[0])\n",
    "    ax1.yaxis.label.set(rotation=0, ha='right', va= 'center', size = 16)\n",
    "    \n",
    "    ax2.set(ylabel=tsamples[1])\n",
    "    ax2.yaxis.label.set(rotation=0, ha='right', va= 'center', size = 16)\n",
    "    \n",
    "    ax3.set(ylabel=tsamples[2])\n",
    "    ax3.yaxis.label.set(rotation=0, ha='right', va= 'center', size = 16)\n",
    "    \n",
    "    ax4.set(ylabel=tsamples[3])\n",
    "    ax4.yaxis.label.set(rotation=0, ha='right', va= 'center', size = 16)\n",
    "    \n",
    "    ax5.set(ylabel=tsamples[4])\n",
    "    ax5.yaxis.label.set(rotation=0, ha='right', va= 'center', size = 16)\n",
    "    \n",
    "    ax6.set(ylabel=tsamples[5])\n",
    "    ax6.yaxis.label.set(rotation=0, ha='right', va= 'center', size = 16)\n",
    "    \n",
    "    ax7.set(ylabel=tsamples[6])\n",
    "    ax7.yaxis.label.set(rotation=0, ha='right', va= 'center', size = 16)\n",
    "    \n",
    "    ax8.set(ylabel=tsamples[7])\n",
    "    ax8.yaxis.label.set(rotation=0, ha='right', va= 'center', size = 16)\n",
    "    \n",
    "    ax9.set(ylabel=tsamples[8])\n",
    "    ax9.yaxis.label.set(rotation=0, ha='right', va= 'center', size = 16)\n",
    "    \n",
    "    ax10.set(ylabel=tsamples[9])\n",
    "    ax10.yaxis.label.set(rotation=0, ha='right', va= 'center', size = 16)\n",
    "    \n",
    "    ax11.set(ylabel=tsamples[10])\n",
    "    ax11.yaxis.label.set(rotation=0, ha='right', va= 'center', size = 16)\n",
    "    \n",
    "    ax1.set_title('Cell identity assignment\\n')\n",
    "    \n",
    "    \n",
    ";"
   ]
  },
  {
   "cell_type": "code",
   "execution_count": null,
   "id": "c4bd336a",
   "metadata": {},
   "outputs": [],
   "source": [
    "cmap = sns.color_palette(\"blend:#1f77b4,#ff7f0e\", as_cmap=True)\n",
    "fig, (axes) = plt.subplots(nrows = 11, subplot_kw={'yticks':[]}, figsize = (10,10))\n",
    "\n",
    "axins = inset_axes(axes[0], width=\"100%\", height=\"2000%\",\n",
    "                   bbox_to_anchor=(1.05, -2, .03, .4),\n",
    "                   bbox_transform=axes[0].transAxes, loc=2, borderpad=0)\n",
    "axins.tick_params(left=False, right=True, labelleft=False, labelright=True)\n",
    "    \n",
    "\n",
    "images = []\n",
    "\n",
    "for i in np.arange(0,11):\n",
    "    data = np.asarray(dummy_ci_df[dummy_ci_df['sample'] == tsamples[i]].sort_values(['numbat_tumour\\n(tumour sample)',\n",
    "                                                                               'scitcem_call_tumour\\n(tumour sample)'\n",
    "                                                                                  ])[['numbat_tumour\\n(tumour sample)',\n",
    "                                                                                      'scitcem_call_tumour\\n(tumour sample)']].T)\n",
    "    \n",
    "        \n",
    "    axes[i].set(ylabel=tsamples[i])\n",
    "    axes[i].yaxis.label.set(rotation=0, ha='right', va= 'center')\n",
    "    \n",
    "    images.append(axes[i].imshow(data, cmap = cmap, aspect = 'auto',\n",
    "                       interpolation = 'nearest', interpolation_stage = 'rgba'))\n",
    "        \n",
    "fig.colorbar(images[0], cax = axins, fraction = .03)\n",
    "\n",
    "fig.subplots_adjust(hspace = 0.6)\n",
    "\n",
    ";"
   ]
  },
  {
   "cell_type": "code",
   "execution_count": 82,
   "id": "50666a72",
   "metadata": {},
   "outputs": [],
   "source": [
    "dummy_ci_df['mod_p_cnv'] = None\n",
    "\n",
    "for i in np.arange(0, dummy_ci_df.shape[0]):\n",
    "    if np.round(dummy_ci_df['p_cnv'][i], 2) == 1:\n",
    "        dummy_ci_df['mod_p_cnv'][i] = 1\n",
    "    else:\n",
    "        dummy_ci_df['mod_p_cnv'][i] = dummy_ci_df['p_cnv'][i]\n",
    "dummy_ci_df['mod_p_cnv'] = dummy_ci_df['mod_p_cnv'].astype('float64')"
   ]
  },
  {
   "cell_type": "code",
   "execution_count": 91,
   "id": "235856db",
   "metadata": {},
   "outputs": [],
   "source": [
    "tsamples_original = tsamples.copy()"
   ]
  },
  {
   "cell_type": "code",
   "execution_count": 98,
   "id": "95c2b27d",
   "metadata": {},
   "outputs": [],
   "source": [
    "tsamples = ['P07t',\n",
    " 'P08t',\n",
    " 'P09t',\n",
    " 'P09t',\n",
    " 'P13t',\n",
    " 'P14t',\n",
    " 'P16t',\n",
    " 'P20t',\n",
    " 'P21t',\n",
    " 'P26t',\n",
    " 'P35t']"
   ]
  },
  {
   "cell_type": "code",
   "execution_count": 102,
   "id": "64cc5dae",
   "metadata": {},
   "outputs": [],
   "source": [
    "dummy_ci_df['sample_rev'] = None\n",
    "\n",
    "for i in np.arange(0, dummy_ci_df.shape[0]):\n",
    "    if dummy_ci_df['sample'][i] in ['p009t1', 'p009t2']:\n",
    "        dummy_ci_df['sample_rev'][i] = 'P09t'\n",
    "    elif dummy_ci_df['sample'][i] in ['p009n1', 'p009n2']:\n",
    "        dummy_ci_df['sample_rev'][i] = 'P09n'\n",
    "    else:\n",
    "        dummy_ci_df['sample_rev'][i] = dummy_ci_df['sample'][i].replace('p0', 'P')\n",
    "        \n",
    "dummy_ci_df['sample_rev'] = dummy_ci_df['sample_rev'].astype('category')"
   ]
  },
  {
   "cell_type": "code",
   "execution_count": 103,
   "id": "1b3e0878",
   "metadata": {},
   "outputs": [],
   "source": [
    "dummy_ci_df['sample_original'] = dummy_ci_df['sample'].copy()"
   ]
  },
  {
   "cell_type": "code",
   "execution_count": 104,
   "id": "7c989dcb",
   "metadata": {},
   "outputs": [],
   "source": [
    "dummy_ci_df['sample'] = dummy_ci_df['sample_rev'].copy()"
   ]
  },
  {
   "cell_type": "code",
   "execution_count": null,
   "id": "0f56d422",
   "metadata": {},
   "outputs": [],
   "source": [
    "# map the probability\n",
    "with plt.style.context('./plt_style'):\n",
    "    cmap = sns.color_palette(\"blend:#1f77b4,#333333,#ff7f0e\", as_cmap=True)\n",
    "    fig, (ax1, ax2, ax3, ax4, ax5, ax6, ax7, ax8, ax9, ax10, ax11) = plt.subplots(nrows = 11)\n",
    "    \n",
    "    from mpl_toolkits.axes_grid1.inset_locator import inset_axes\n",
    "    #cbar_ax = fig.add_axes([.91, .3, .03, .4])\n",
    "    \n",
    "    axins = inset_axes(ax1, width=\"100%\", height=\"2000%\",\n",
    "                   bbox_to_anchor=(1.05, -2, .03, .4),\n",
    "                   bbox_transform=ax1.transAxes, loc=2, borderpad=0)\n",
    "    axins.tick_params(left=False, right=True, labelleft=False, labelright=True)\n",
    "    \n",
    "    sns.heatmap(dummy_ci_df[dummy_ci_df['sample'] == tsamples[0]].sort_values(['numbat_tumour\\n(tumour sample)',\n",
    "                                                                               'scitcem_call_tumour\\n(tumour sample)',\n",
    "                                                                               'mod_p_cnv','scitcem_p']\n",
    "                                                                             )[['mod_p_cnv','scitcem_p']].T,\n",
    "                xticklabels = False,\n",
    "                cmap=cmap,ax=ax1, cbar_ax=axins, yticklabels = False)\n",
    "    \n",
    "    sns.heatmap(dummy_ci_df[dummy_ci_df['sample'] == tsamples[1]].sort_values(['numbat_tumour\\n(tumour sample)',\n",
    "                                                                               'scitcem_call_tumour\\n(tumour sample)',\n",
    "                                                                                'mod_p_cnv','scitcem_p'\n",
    "                                                                                  ])[['mod_p_cnv','scitcem_p']].T,\n",
    "                xticklabels = False,\n",
    "                cmap=cmap, ax=ax2, cbar=False, yticklabels = False)\n",
    "    \n",
    "    sns.heatmap(dummy_ci_df[dummy_ci_df['sample'] == tsamples[2]].sort_values(['numbat_tumour\\n(tumour sample)',\n",
    "                                                                               'scitcem_call_tumour\\n(tumour sample)',\n",
    "                                                                                'mod_p_cnv','scitcem_p'\n",
    "                                                                                  ])[['mod_p_cnv','scitcem_p']].T,\n",
    "                xticklabels = False,\n",
    "                cmap=cmap, ax=ax3, cbar=False, yticklabels = False)\n",
    "    \n",
    "    sns.heatmap(dummy_ci_df[dummy_ci_df['sample'] == tsamples[3]].sort_values(['numbat_tumour\\n(tumour sample)',\n",
    "                                                                               'scitcem_call_tumour\\n(tumour sample)',\n",
    "                                                                                'mod_p_cnv','scitcem_p'\n",
    "                                                                                  ])[['mod_p_cnv','scitcem_p']].T,\n",
    "                xticklabels = False,\n",
    "                cmap=cmap, ax=ax4, cbar=False, yticklabels = False)\n",
    "    \n",
    "    sns.heatmap(dummy_ci_df[dummy_ci_df['sample'] == tsamples[4]].sort_values(['numbat_tumour\\n(tumour sample)',\n",
    "                                                                               'scitcem_call_tumour\\n(tumour sample)',\n",
    "                                                                                'mod_p_cnv','scitcem_p'\n",
    "                                                                                  ])[['mod_p_cnv','scitcem_p']].T,\n",
    "                xticklabels = False,\n",
    "                cmap=cmap, ax=ax5, cbar=False, yticklabels = False)\n",
    "    \n",
    "    sns.heatmap(dummy_ci_df[dummy_ci_df['sample'] == tsamples[5]].sort_values(['numbat_tumour\\n(tumour sample)',\n",
    "                                                                               'scitcem_call_tumour\\n(tumour sample)',\n",
    "                                                                                'mod_p_cnv','scitcem_p'\n",
    "                                                                                  ])[['mod_p_cnv','scitcem_p']].T,\n",
    "                xticklabels = False,\n",
    "                cmap=cmap, ax=ax6, cbar=False, yticklabels = False)\n",
    "    \n",
    "    sns.heatmap(dummy_ci_df[dummy_ci_df['sample'] == tsamples[6]].sort_values(['numbat_tumour\\n(tumour sample)',\n",
    "                                                                               'scitcem_call_tumour\\n(tumour sample)',\n",
    "                                                                                'mod_p_cnv','scitcem_p'\n",
    "                                                                                  ])[['mod_p_cnv','scitcem_p']].T,\n",
    "                xticklabels = False,\n",
    "                cmap=cmap, ax=ax7, cbar=False, yticklabels = False)\n",
    "    \n",
    "    sns.heatmap(dummy_ci_df[dummy_ci_df['sample'] == tsamples[7]].sort_values(['numbat_tumour\\n(tumour sample)',\n",
    "                                                                               'scitcem_call_tumour\\n(tumour sample)',\n",
    "                                                                                'mod_p_cnv','scitcem_p'\n",
    "                                                                                  ])[['mod_p_cnv','scitcem_p']].T,\n",
    "                xticklabels = False,\n",
    "                cmap=cmap, ax=ax8, cbar=False, yticklabels = False)\n",
    "    \n",
    "    sns.heatmap(dummy_ci_df[dummy_ci_df['sample'] == tsamples[8]].sort_values(['numbat_tumour\\n(tumour sample)',\n",
    "                                                                               'scitcem_call_tumour\\n(tumour sample)',\n",
    "                                                                                'mod_p_cnv','scitcem_p'\n",
    "                                                                                  ])[['mod_p_cnv','scitcem_p']].T,\n",
    "                xticklabels = False,\n",
    "                cmap=cmap, ax=ax9, cbar=False, yticklabels = False)\n",
    "    \n",
    "    sns.heatmap(dummy_ci_df[dummy_ci_df['sample'] == tsamples[9]].sort_values(['numbat_tumour\\n(tumour sample)',\n",
    "                                                                               'scitcem_call_tumour\\n(tumour sample)',\n",
    "                                                                                'mod_p_cnv','scitcem_p'\n",
    "                                                                                  ])[['mod_p_cnv','scitcem_p']].T,\n",
    "                xticklabels = False,\n",
    "                cmap=cmap, ax=ax10, cbar=False, yticklabels = False)\n",
    "    \n",
    "    sns.heatmap(dummy_ci_df[dummy_ci_df['sample'] == tsamples[10]].sort_values(['numbat_tumour\\n(tumour sample)',\n",
    "                                                                               'scitcem_call_tumour\\n(tumour sample)',\n",
    "                                                                                'mod_p_cnv','scitcem_p'\n",
    "                                                                                  ])[['mod_p_cnv','scitcem_p']].T,\n",
    "                xticklabels = False,\n",
    "                cmap=cmap, ax=ax11, cbar=False, yticklabels = False)\n",
    "\n",
    "    ax1.set(ylabel=tsamples[0])\n",
    "    ax1.yaxis.label.set(rotation=0, ha='right', va= 'center', size = 16)\n",
    "    \n",
    "    ax2.set(ylabel=tsamples[1])\n",
    "    ax2.yaxis.label.set(rotation=0, ha='right', va= 'center', size = 16)\n",
    "    \n",
    "    ax3.set(ylabel=tsamples[2])\n",
    "    ax3.yaxis.label.set(rotation=0, ha='right', va= 'center', size = 16)\n",
    "    \n",
    "    ax4.set(ylabel=tsamples[3])\n",
    "    ax4.yaxis.label.set(rotation=0, ha='right', va= 'center', size = 16)\n",
    "    \n",
    "    ax5.set(ylabel=tsamples[4])\n",
    "    ax5.yaxis.label.set(rotation=0, ha='right', va= 'center', size = 16)\n",
    "    \n",
    "    ax6.set(ylabel=tsamples[5])\n",
    "    ax6.yaxis.label.set(rotation=0, ha='right', va= 'center', size = 16)\n",
    "    \n",
    "    ax7.set(ylabel=tsamples[6])\n",
    "    ax7.yaxis.label.set(rotation=0, ha='right', va= 'center', size = 16)\n",
    "    \n",
    "    ax8.set(ylabel=tsamples[7])\n",
    "    ax8.yaxis.label.set(rotation=0, ha='right', va= 'center', size = 16)\n",
    "    \n",
    "    ax9.set(ylabel=tsamples[8])\n",
    "    ax9.yaxis.label.set(rotation=0, ha='right', va= 'center', size = 16)\n",
    "    \n",
    "    ax10.set(ylabel=tsamples[9])\n",
    "    ax10.yaxis.label.set(rotation=0, ha='right', va= 'center', size = 16)\n",
    "    \n",
    "    ax11.set(ylabel=tsamples[10])\n",
    "    ax11.yaxis.label.set(rotation=0, ha='right', va= 'center', size = 16)\n",
    "    \n",
    "    #ax1.set_title('Cell identity assignment probability\\n')\n",
    "    \n",
    "    #plt.tight_layout()\n",
    "    \n",
    ";"
   ]
  },
  {
   "cell_type": "code",
   "execution_count": 320,
   "id": "611664ea",
   "metadata": {},
   "outputs": [],
   "source": [
    "tsamples = ['P07t',\n",
    " 'P08t',\n",
    " 'P09t',\n",
    " 'P13t',\n",
    " 'P14t',\n",
    " 'P16t',\n",
    " 'P20t',\n",
    " 'P21t',\n",
    " 'P26t',\n",
    " 'P35t']"
   ]
  },
  {
   "cell_type": "code",
   "execution_count": null,
   "id": "8b293c53",
   "metadata": {},
   "outputs": [],
   "source": [
    "cmap = sns.color_palette(\"blend:#1f77b4,#333333,#ff7f0e\", as_cmap=True)\n",
    "\n",
    "fig, (axes) = plt.subplots(nrows = 10, subplot_kw={'xticks':[],'yticks':[]}, figsize = (7/2.54,10/2.54))\n",
    "\n",
    "axins = inset_axes(axes[0], width=\"100%\", height=\"2000%\",\n",
    "                   bbox_to_anchor=(1.05, -1, .03, .4),\n",
    "                   bbox_transform=axes[0].transAxes, loc=2, borderpad=0)\n",
    "axins.tick_params(left=False, right=True, labelleft=False, labelright=True)\n",
    "    \n",
    "\n",
    "images = []\n",
    "\n",
    "for i in np.arange(0,10):\n",
    "    data = np.asarray(dummy_ci_df[dummy_ci_df['sample'] == tsamples[i]].sort_values(['numbat_tumour\\n(tumour sample)',\n",
    "                                                                               'scitcem_call_tumour\\n(tumour sample)',\n",
    "                                                                                'mod_p_cnv','scitcem_p'\n",
    "                                                                                  ])[['mod_p_cnv','scitcem_p']].T)\n",
    "         \n",
    "    axes[i].set(ylabel=tsamples[i])\n",
    "    axes[i].yaxis.label.set(rotation=0, ha='right', va= 'center')\n",
    "    axes[i].set_frame_on(False)\n",
    "    \n",
    "    images.append(axes[i].imshow(data, cmap = cmap, aspect = 'auto',\n",
    "                       interpolation = 'nearest', interpolation_stage = 'rgba'))\n",
    "    \n",
    "axes[9].set_xticks([0, data.shape[1]/2, data.shape[1]-1], ['0.0', '0.5', '1.0'])\n",
    "axes[9].set(xlabel = 'Proportion')\n",
    "\n",
    "        \n",
    "cbar = fig.colorbar(images[0], cax = axins, fraction = .03)\n",
    "cbar.solids.set_edgecolor('face')\n",
    "\n",
    "fig.subplots_adjust(hspace = 0.1)\n",
    "\n",
    ";"
   ]
  },
  {
   "cell_type": "code",
   "execution_count": null,
   "id": "d464bfb0",
   "metadata": {},
   "outputs": [],
   "source": []
  },
  {
   "cell_type": "code",
   "execution_count": 107,
   "id": "ddbfe4e0",
   "metadata": {},
   "outputs": [],
   "source": [
    "dummy_ci_df_conflicting = dummy_ci_df[(dummy_ci_df['numbat_tumour\\n(tumour sample)'] != dummy_ci_df['scitcem_call_tumour\\n(tumour sample)'])]"
   ]
  },
  {
   "cell_type": "code",
   "execution_count": null,
   "id": "474a41df",
   "metadata": {},
   "outputs": [],
   "source": [
    "# proportion of conflicting cells \n",
    "(dummy_ci_df_conflicting[dummy_ci_df_conflicting['scitcem_p'] == 0.5]['sample'].value_counts(\n",
    "    dropna= False).sort_index())/(dummy_ci_df_conflicting['sample'].value_counts(\n",
    "    dropna= False).sort_index())"
   ]
  },
  {
   "cell_type": "code",
   "execution_count": null,
   "id": "ca7f8e92",
   "metadata": {},
   "outputs": [],
   "source": [
    "# proportion of all cells \n",
    "(dummy_ci_df_conflicting[dummy_ci_df_conflicting['scitcem_p'] == 0.5]['sample'].value_counts(\n",
    "    dropna= False).sort_index())/(dummy_ci_df['sample'].value_counts(\n",
    "    dropna= False).sort_index())"
   ]
  },
  {
   "cell_type": "code",
   "execution_count": null,
   "id": "41f75a8c",
   "metadata": {},
   "outputs": [],
   "source": [
    "for i in tsamples:\n",
    "    plt.figure(figsize = (6,2))\n",
    "    ax1 = plt.subplot()\n",
    "    ax2 = ax1.twinx()\n",
    "    df = dummy_ci_df_conflicting[dummy_ci_df_conflicting['sample'] == i].reset_index().sort_values([\n",
    "        'scitcem_p', 'p_cnv'])\n",
    "    sns.scatterplot(data = df,\n",
    "                    x = 'index',\n",
    "                    y = 'p_cnv', ax = ax1, s = 10)\n",
    "    sns.scatterplot(data = df,\n",
    "                    x = 'index',\n",
    "                    y = 'scitcem_p', ax = ax2, color = 'firebrick', s = 10)\n",
    "    plt.title(f'{i} ({df.shape[0]} cells)')\n",
    "    ax1.set_ylim(-0.1,1.1)\n",
    "    ax2.set_ylim(-0.1,1.1)\n",
    "    ax1.set_xticklabels('')"
   ]
  },
  {
   "cell_type": "code",
   "execution_count": null,
   "id": "5d6a3299",
   "metadata": {},
   "outputs": [],
   "source": [
    "# number of alt\n",
    "for i in tsamples:\n",
    "    plt.figure(figsize = (10/2.54,5/2.54))\n",
    "    ax1 = plt.subplot()\n",
    "    ax2 = ax1.twinx()\n",
    "    ax3 = ax1.twinx()\n",
    "    \n",
    "    df = dummy_ci_df_conflicting[dummy_ci_df_conflicting['sample'] == i].reset_index().sort_values([\n",
    "        'scitcem_p', 'p_cnv'])\n",
    "    sns.scatterplot(data = df,\n",
    "                    x = 'index',\n",
    "                    y = 'p_cnv', ax = ax1, s = 10)\n",
    "    sns.scatterplot(data = df,\n",
    "                    x = 'index',\n",
    "                    y = 'scitcem_p', ax = ax2, color = 'firebrick', s = 10)\n",
    "    sns.scatterplot(data = df,\n",
    "                    x = 'index',\n",
    "                    y = 'filter_alt', ax = ax3, color = 'orange', s = 8)\n",
    "    \n",
    "    plt.title(f'{i} ({df.shape[0]} cells)')\n",
    "    \n",
    "    ax1.set_ylim(-0.1,1.1)\n",
    "    ax2.set_ylim(-0.1,1.1)\n",
    "    \n",
    "    ax1.set_xticklabels('')\n",
    "    ax1.set_xticks([])\n",
    "    ax1.set_ylabel('probability')\n",
    "    \n",
    "    ax2.set_yticklabels('')\n",
    "    ax2.set_yticks([])\n",
    "    ax2.set_ylabel('')"
   ]
  },
  {
   "cell_type": "code",
   "execution_count": null,
   "id": "dd813554",
   "metadata": {},
   "outputs": [],
   "source": [
    "# mean_VAF\n",
    "for i in tsamples:\n",
    "    plt.figure(figsize = (10/2.54,5/2.54))\n",
    "    ax1 = plt.subplot()\n",
    "    ax2 = ax1.twinx()\n",
    "    ax3 = ax1.twinx()\n",
    "    \n",
    "    df = dummy_ci_df_conflicting[dummy_ci_df_conflicting['sample'] == i].reset_index().sort_values([\n",
    "        'scitcem_p', 'p_cnv'])\n",
    "    sns.scatterplot(data = df,\n",
    "                    x = 'index',\n",
    "                    y = 'p_cnv', ax = ax1, s = 10)\n",
    "    sns.scatterplot(data = df,\n",
    "                    x = 'index',\n",
    "                    y = 'scitcem_p', ax = ax2, color = 'firebrick', s = 10)\n",
    "    sns.scatterplot(data = df,\n",
    "                    x = 'index',\n",
    "                    y = 'mean_VAF', ax = ax3, color = 'orange', s = 8)\n",
    "    \n",
    "    plt.title(f'{i} ({df.shape[0]} cells)')\n",
    "    \n",
    "    ax1.set_ylim(-0.1,1.1)\n",
    "    ax2.set_ylim(-0.1,1.1)\n",
    "    ax3.set_ylim(-0.1,1.1)\n",
    "    \n",
    "    ax1.set_xticklabels('')\n",
    "    ax1.set_xticks([])\n",
    "    ax1.set_ylabel('probability')\n",
    "    \n",
    "    ax2.set_yticklabels('')\n",
    "    ax2.set_yticks([])\n",
    "    ax2.set_ylabel('')"
   ]
  },
  {
   "cell_type": "code",
   "execution_count": 81,
   "id": "e460b13f",
   "metadata": {},
   "outputs": [],
   "source": [
    "dummy_ci_df_conflicting_NA = dummy_ci_df_conflicting[dummy_ci_df_conflicting['scitcem_p'] == 0.5]"
   ]
  },
  {
   "cell_type": "code",
   "execution_count": 82,
   "id": "16f8c3d7",
   "metadata": {},
   "outputs": [],
   "source": [
    "dummy_ci_df_conflicting_NA_solved = dummy_ci_df_conflicting[dummy_ci_df_conflicting['scitcem_p'] != 0.5]"
   ]
  },
  {
   "cell_type": "code",
   "execution_count": null,
   "id": "7f33bc21",
   "metadata": {},
   "outputs": [],
   "source": [
    "dummy_ci_df_conflicting_NA_solved[(dummy_ci_df_conflicting_NA_solved['scitcem_p'] < 0.5)]['p_cnv'].hist()\n",
    "plt.xlim(0,1)"
   ]
  },
  {
   "cell_type": "code",
   "execution_count": 90,
   "id": "d88e87f5",
   "metadata": {},
   "outputs": [],
   "source": [
    "dummy_ci_df_conflicting_NA_solved_high_scitcem = dummy_ci_df_conflicting_NA_solved[(dummy_ci_df_conflicting_NA_solved['scitcem_p'] > 0.5)]"
   ]
  },
  {
   "cell_type": "markdown",
   "id": "6dabead5",
   "metadata": {},
   "source": [
    "### after remove the Scticem == 0.5 cells"
   ]
  },
  {
   "cell_type": "code",
   "execution_count": null,
   "id": "0b1a9070",
   "metadata": {},
   "outputs": [],
   "source": [
    "# number of alt\n",
    "for i in tsamples:\n",
    "    plt.figure(figsize = (6,2))\n",
    "    ax1 = plt.subplot()\n",
    "    ax2 = ax1.twinx()\n",
    "    ax3 = ax1.twinx()\n",
    "    \n",
    "    df = dummy_ci_df_conflicting_NA_solved[dummy_ci_df_conflicting_NA_solved['sample'] == i].reset_index().sort_values([\n",
    "        'scitcem_p', 'p_cnv'])\n",
    "    sns.scatterplot(data = df,\n",
    "                    x = 'index',\n",
    "                    y = 'p_cnv', ax = ax1, s = 10)\n",
    "    sns.scatterplot(data = df,\n",
    "                    x = 'index',\n",
    "                    y = 'scitcem_p', ax = ax2, color = 'firebrick', s = 10)\n",
    "    sns.scatterplot(data = df,\n",
    "                    x = 'index',\n",
    "                    y = 'filter_alt', ax = ax3, color = 'orange', s = 8)\n",
    "    \n",
    "    plt.title(f'{i} ({df.shape[0]} cells)')\n",
    "    \n",
    "    ax1.set_ylim(-0.1,1.1)\n",
    "    ax2.set_ylim(-0.1,1.1)\n",
    "    \n",
    "    ax1.set_xticklabels('')\n",
    "    ax1.set_xticks([])\n",
    "    ax1.set_ylabel('probability')\n",
    "    \n",
    "    ax2.set_yticklabels('')\n",
    "    ax2.set_yticks([])\n",
    "    ax2.set_ylabel('')"
   ]
  },
  {
   "cell_type": "code",
   "execution_count": null,
   "id": "00bcf901",
   "metadata": {},
   "outputs": [],
   "source": [
    "# number of dp\n",
    "for i in tsamples:\n",
    "    plt.figure(figsize = (6,2))\n",
    "    ax1 = plt.subplot()\n",
    "    ax2 = ax1.twinx()\n",
    "    ax3 = ax1.twinx()\n",
    "    \n",
    "    df = dummy_ci_df_conflicting_NA_solved[dummy_ci_df_conflicting_NA_solved['sample'] == i].reset_index().sort_values([\n",
    "        'scitcem_p', 'p_cnv'])\n",
    "    sns.scatterplot(data = df,\n",
    "                    x = 'index',\n",
    "                    y = 'p_cnv', ax = ax1, s = 10)\n",
    "    sns.scatterplot(data = df,\n",
    "                    x = 'index',\n",
    "                    y = 'scitcem_p', ax = ax2, color = 'firebrick', s = 10)\n",
    "    sns.scatterplot(data = df,\n",
    "                    x = 'index',\n",
    "                    y = 'filter_dp', ax = ax3, color = 'orange', s = 8)\n",
    "    \n",
    "    plt.title(f'{i} ({df.shape[0]} cells)')\n",
    "    \n",
    "    ax1.set_ylim(-0.1,1.1)\n",
    "    ax2.set_ylim(-0.1,1.1)\n",
    "    \n",
    "    ax1.set_xticklabels('')\n",
    "    ax1.set_xticks([])\n",
    "    ax1.set_ylabel('probability')\n",
    "    \n",
    "    ax2.set_yticklabels('')\n",
    "    ax2.set_yticks([])\n",
    "    ax2.set_ylabel('')"
   ]
  },
  {
   "cell_type": "code",
   "execution_count": null,
   "id": "f854e13a",
   "metadata": {},
   "outputs": [],
   "source": [
    "# mean_VAF\n",
    "for i in tsamples:\n",
    "    plt.figure(figsize = (6,2))\n",
    "    ax1 = plt.subplot()\n",
    "    ax2 = ax1.twinx()\n",
    "    ax3 = ax1.twinx()\n",
    "    \n",
    "    df = dummy_ci_df_conflicting_NA_solved[dummy_ci_df_conflicting_NA_solved['sample'] == i].reset_index().sort_values([\n",
    "        'scitcem_p', 'p_cnv'])\n",
    "    sns.scatterplot(data = df,\n",
    "                    x = 'index',\n",
    "                    y = 'p_cnv', ax = ax1, s = 10)\n",
    "    sns.scatterplot(data = df,\n",
    "                    x = 'index',\n",
    "                    y = 'scitcem_p', ax = ax2, color = 'firebrick', s = 10)\n",
    "    sns.scatterplot(data = df,\n",
    "                    x = 'index',\n",
    "                    y = 'mean_VAF', ax = ax3, color = 'orange', s = 8)\n",
    "    \n",
    "    plt.title(f'{i} ({df.shape[0]} cells)')\n",
    "    \n",
    "    ax1.set_ylim(-0.1,1.1)\n",
    "    ax2.set_ylim(-0.1,1.1)\n",
    "    ax3.set_ylim(-0.1,1.1)\n",
    "    \n",
    "    ax1.set_xticklabels('')\n",
    "    ax1.set_xticks([])\n",
    "    ax1.set_ylabel('probability')\n",
    "    \n",
    "    ax2.set_yticklabels('')\n",
    "    ax2.set_yticks([])\n",
    "    ax2.set_ylabel('')"
   ]
  },
  {
   "cell_type": "code",
   "execution_count": 97,
   "id": "41b04a35",
   "metadata": {},
   "outputs": [],
   "source": [
    "adata_epi.obs['cell_identity_NA_resolved'] = np.where(adata_epi.obs.index.isin(dummy_ci_df_conflicting_NA.index),\n",
    "                                                     'no observed variant', adata_epi.obs['tumour_normal_normal'])\n",
    "adata_epi.obs['cell_identity_NA_resolved'] = adata_epi.obs['cell_identity_NA_resolved'].astype('category')"
   ]
  },
  {
   "cell_type": "code",
   "execution_count": null,
   "id": "ffd77b59",
   "metadata": {},
   "outputs": [],
   "source": []
  }
 ],
 "metadata": {
  "kernelspec": {
   "display_name": "sc",
   "language": "python",
   "name": "sc"
  },
  "language_info": {
   "codemirror_mode": {
    "name": "ipython",
    "version": 3
   },
   "file_extension": ".py",
   "mimetype": "text/x-python",
   "name": "python",
   "nbconvert_exporter": "python",
   "pygments_lexer": "ipython3",
   "version": "3.9.10"
  }
 },
 "nbformat": 4,
 "nbformat_minor": 5
}
