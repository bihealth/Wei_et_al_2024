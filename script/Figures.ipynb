{
 "cells": [
  {
   "cell_type": "code",
   "execution_count": null,
   "id": "953d3bff",
   "metadata": {},
   "outputs": [],
   "source": [
    "import os\n",
    "import sys\n",
    "print(\"Python version\" + sys.version)\n",
    "os.getcwd()\n",
    "print(sys.executable)"
   ]
  },
  {
   "cell_type": "code",
   "execution_count": null,
   "id": "41493454",
   "metadata": {},
   "outputs": [],
   "source": [
    "import numpy as np\n",
    "np.random.seed(123)\n",
    "import pandas as pd\n",
    "import scipy\n",
    "import itertools\n",
    "\n",
    "import umap\n",
    "import matplotlib.pyplot as plt\n",
    "%matplotlib inline\n",
    "\n",
    "import seaborn as sns\n",
    "\n",
    "import scanpy as sc\n",
    "import anndata as ad\n",
    "import scvelo as scv\n",
    "from tqdm.notebook import tqdm\n",
    "\n",
    "from pathlib import Path\n",
    "\n",
    "TF_ENABLE_ONEDNN_OPTS=0"
   ]
  },
  {
   "cell_type": "code",
   "execution_count": null,
   "id": "ad5dc101",
   "metadata": {},
   "outputs": [],
   "source": [
    "import venn"
   ]
  },
  {
   "cell_type": "code",
   "execution_count": null,
   "id": "e33993fc",
   "metadata": {},
   "outputs": [],
   "source": [
    "import cellrank as cr"
   ]
  },
  {
   "cell_type": "code",
   "execution_count": null,
   "id": "9e01c504",
   "metadata": {},
   "outputs": [],
   "source": [
    "cr.__version__"
   ]
  },
  {
   "cell_type": "code",
   "execution_count": null,
   "id": "835e3a5b",
   "metadata": {},
   "outputs": [],
   "source": [
    "from cellrank.kernels import CytoTRACEKernel"
   ]
  },
  {
   "cell_type": "code",
   "execution_count": null,
   "id": "28512a85",
   "metadata": {},
   "outputs": [],
   "source": [
    "import scanpy.external as sce"
   ]
  },
  {
   "cell_type": "code",
   "execution_count": null,
   "id": "e2a22a85",
   "metadata": {},
   "outputs": [],
   "source": [
    "from sklearn.metrics.cluster import adjusted_rand_score, homogeneity_completeness_v_measure, adjusted_mutual_info_score\n",
    "from sklearn.metrics import silhouette_samples, silhouette_score"
   ]
  },
  {
   "cell_type": "code",
   "execution_count": null,
   "id": "31c4efd5",
   "metadata": {},
   "outputs": [],
   "source": [
    "sc.settings.verbosity = 1\n",
    "sc.logging.print_header()\n",
    "sc.settings.set_figure_params(dpi=300, facecolor='white')"
   ]
  },
  {
   "cell_type": "code",
   "execution_count": null,
   "id": "d060c6fd",
   "metadata": {},
   "outputs": [],
   "source": [
    "# remove weird grid from scvelo\n",
    "plt.rcParams['axes.grid'] = False"
   ]
  },
  {
   "cell_type": "markdown",
   "id": "d8d79f61",
   "metadata": {},
   "source": [
    "plt.rcParams[\"savefig.format\"] = 'pdf'\n",
    "plt.rcParams[\"savefig.dpi\"] = '100'"
   ]
  },
  {
   "cell_type": "markdown",
   "id": "38d72ddf",
   "metadata": {},
   "source": [
    "import matplotlib as mpl\n",
    "mpl.use('pgf')"
   ]
  },
  {
   "cell_type": "markdown",
   "id": "b6444898",
   "metadata": {},
   "source": [
    "from matplotlib.backends.backend_pgf import FigureCanvasPgf\n",
    "from matplotlib.backend_bases import register_backend\n",
    "register_backend('pdf', FigureCanvasPgf)"
   ]
  },
  {
   "cell_type": "code",
   "execution_count": null,
   "id": "14674fc3",
   "metadata": {},
   "outputs": [],
   "source": [
    "from matplotlib_inline.backend_inline import set_matplotlib_formats\n",
    "set_matplotlib_formats('svg', dpi = 300)"
   ]
  },
  {
   "cell_type": "code",
   "execution_count": null,
   "id": "06ae0a39",
   "metadata": {},
   "outputs": [],
   "source": [
    "plt.rcParams['svg.fonttype'] = 'none'\n",
    "plt.rcParams['font.family'] = 'DejaVu Sans'\n",
    "plt.rcParams['font.size'] = '8'"
   ]
  },
  {
   "cell_type": "code",
   "execution_count": null,
   "id": "ae2167e0",
   "metadata": {},
   "outputs": [],
   "source": [
    "# revised from Stefan's cell type signature\n",
    "signatures_path_ = '../cell_type_from_stefan/scrnaseq_signature_collection/'\n",
    "from score_and_classify import *"
   ]
  },
  {
   "cell_type": "code",
   "execution_count": null,
   "id": "eb267709",
   "metadata": {},
   "outputs": [],
   "source": [
    "# for using R plotting\n",
    "%load_ext rpy2.ipython\n",
    "#%Rdevice svg"
   ]
  },
  {
   "cell_type": "markdown",
   "id": "0181b4b4",
   "metadata": {},
   "source": [
    "def plot_umap_legend_only(fig, size=8):\n",
    "    ax=fig.axes[0]\n",
    "    label_params = ax.get_legend_handles_labels() \n",
    "\n",
    "    figl, axl = plt.subplots()\n",
    "    axl.axis(False)\n",
    "    axl.legend(*label_params, loc=\"center\", bbox_to_anchor=(0.5, 0.5), prop={\"size\":size}, frameon= False)\n",
    ";"
   ]
  },
  {
   "cell_type": "code",
   "execution_count": null,
   "id": "c722a0ff",
   "metadata": {},
   "outputs": [],
   "source": [
    "%%R\n",
    "\n",
    "# R setting\n",
    "suppressMessages(library('tidyverse'))\n",
    "suppressMessages(library('grid'))\n",
    "suppressMessages(library('ComplexUpset'))\n",
    "suppressMessages(library('ggvenn'))\n",
    "\n",
    "plot_theme_font_size = function(fontsize = 8){\n",
    "    plot_theme =  theme(title = element_text(size = fontsize, family = \"dajavu sans\", colour = 'black', hjust = 0.5),\n",
    "                   axis.title = element_text(size = fontsize, family = \"dajavu sans\", colour = 'black'),\n",
    "                   axis.text = element_text(size = fontsize, family = \"dajavu sans\", colour = 'black'),\n",
    "                   legend.title =  element_text(size = fontsize, family = \"dajavu sans\", colour = 'black'),\n",
    "                   legend.text=element_text(size=fontsize, family = \"dajavu sans\", colour = 'black'),\n",
    "                   text = element_text(size = fontsize, family = \"dajavu sans\", colour = 'black'),\n",
    "                   strip.text = element_text(size = fontsize, family = \"dajavu sans\", colour = 'black'),\n",
    "                   plot.margin = margin(0,0,0,0,\"cm\")) \n",
    "    plot_theme\n",
    "}"
   ]
  },
  {
   "cell_type": "code",
   "execution_count": null,
   "id": "c2f4623f",
   "metadata": {},
   "outputs": [],
   "source": [
    "new_data_folder = '/fast/users/twei_m/work/crc/datasets_new_preprocessing'"
   ]
  },
  {
   "cell_type": "code",
   "execution_count": null,
   "id": "ffc75f5c",
   "metadata": {},
   "outputs": [],
   "source": [
    "adata_all = sc.read(Path(new_data_folder)/'202307_adata_all_full_cell_type_annotation.h5')"
   ]
  },
  {
   "cell_type": "code",
   "execution_count": null,
   "id": "296ec0d7",
   "metadata": {},
   "outputs": [],
   "source": [
    "adata_epi = sc.read(Path(new_data_folder)/'202310_CB_epi_Numbat_Scitcem_inferCNV_icms_Uhlitz_scanvi_resolved_identity.h5')"
   ]
  },
  {
   "cell_type": "code",
   "execution_count": null,
   "id": "d2825b6b",
   "metadata": {},
   "outputs": [],
   "source": [
    "adata_epi_noTC_cleanCI.write(Path(new_data_folder)/'202401_adata_epi_consensus_call_no_TC.h5')\n"
   ]
  },
  {
   "cell_type": "code",
   "execution_count": null,
   "id": "e2550546",
   "metadata": {},
   "outputs": [],
   "source": [
    "adata_all_noTC_cleanCI.write(Path(new_data_folder)/'202401_adata_all_consensus_call_no_TC.h5')\n"
   ]
  },
  {
   "cell_type": "code",
   "execution_count": null,
   "id": "a34d9879",
   "metadata": {},
   "outputs": [],
   "source": [
    "adata_epi.write(Path(new_data_folder)/'202401_adata_epi_consensus_call_with_TC.h5')\n"
   ]
  },
  {
   "cell_type": "code",
   "execution_count": null,
   "id": "27f4febf",
   "metadata": {},
   "outputs": [],
   "source": [
    "adata_all.write(Path(new_data_folder)/'202401_adata_all_consensus_call_with_TC.h5')\n"
   ]
  },
  {
   "cell_type": "code",
   "execution_count": null,
   "id": "e6d7ed78",
   "metadata": {},
   "outputs": [],
   "source": [
    "adata_epi.uns['log1p']['base'] = None"
   ]
  },
  {
   "cell_type": "code",
   "execution_count": null,
   "id": "c0e34b8c",
   "metadata": {},
   "outputs": [],
   "source": [
    "tsamples = ['p007t', 'p008t', 'p009t1','p009t2', 'p013t', 'p014t', 'p016t', \n",
    "           'p020t', 'p021t', 'p026t', 'p035t'] "
   ]
  },
  {
   "cell_type": "code",
   "execution_count": null,
   "id": "28637b51",
   "metadata": {},
   "outputs": [],
   "source": [
    "samples = ['p007n', 'p008n', 'p009n1', 'p009n2','p013n', 'p014n', 'p016n', \n",
    "           'p020n', 'p021n'] + tsamples"
   ]
  },
  {
   "cell_type": "code",
   "execution_count": null,
   "id": "c8591d49",
   "metadata": {},
   "outputs": [],
   "source": [
    "adata_epi.uns['tumour_normal_normal_colors'] = ['#ff7f0e', '#9b1ee3','#1f77b4','#d3d3d3']"
   ]
  },
  {
   "cell_type": "code",
   "execution_count": null,
   "id": "ddbb18f3",
   "metadata": {},
   "outputs": [],
   "source": [
    "cell_type_list = adata_epi.obs['Uhlitz_scANVI'].cat.categories.values"
   ]
  },
  {
   "cell_type": "code",
   "execution_count": null,
   "id": "b7d902bd",
   "metadata": {},
   "outputs": [],
   "source": [
    "cell_type_list"
   ]
  },
  {
   "cell_type": "code",
   "execution_count": null,
   "id": "ad6e5a11",
   "metadata": {},
   "outputs": [],
   "source": [
    "# fix TCs\n",
    "# genomically tumour = Tumour like\n",
    "adata_epi.obs['Uhlitz_scANVI_noTC'] = None\n",
    "\n",
    "for i in np.arange(0, adata_epi.shape[0]):\n",
    "    if adata_epi.obs['cell_identity'][i] == 'genomically_tumour':\n",
    "        adata_epi.obs['Uhlitz_scANVI_noTC'][i] = 'Tumour-like'        \n",
    "    elif 'TC' in adata_epi.obs['Uhlitz_scANVI'][i]:\n",
    "        adata_epi.obs['Uhlitz_scANVI_noTC'][i] = 'Tumour-like (normal_sample)'        \n",
    "    else: \n",
    "        adata_epi.obs['Uhlitz_scANVI_noTC'][i] = adata_epi.obs['Uhlitz_scANVI'][i]\n",
    "        \n",
    "adata_epi.obs['Uhlitz_scANVI_noTC'] = adata_epi.obs['Uhlitz_scANVI_noTC'].astype('category')"
   ]
  },
  {
   "cell_type": "code",
   "execution_count": null,
   "id": "86b55db2",
   "metadata": {},
   "outputs": [],
   "source": [
    "adata_epi.obs['Uhlitz_scANVI_noTC'].cat.categories"
   ]
  },
  {
   "cell_type": "code",
   "execution_count": null,
   "id": "e8209ccc",
   "metadata": {},
   "outputs": [],
   "source": [
    "adata_epi.obs['Uhlitz_scANVI_noTC'] = adata_epi.obs['Uhlitz_scANVI_noTC'].cat.reorder_categories(['Tumour-like', \n",
    "                                                                                                  'Tumour-like (normal_sample)',\n",
    "                                                                                                  'Stem', 'Stem/TA', \n",
    "                                                           'Tuft',\n",
    "                                                           'Immature Goblet', 'Goblet',\n",
    "                                                           'Enterocyte progenitor', 'Enterocytes'])"
   ]
  },
  {
   "cell_type": "code",
   "execution_count": null,
   "id": "09b05bfd",
   "metadata": {},
   "outputs": [],
   "source": [
    "Uhlitz_scANVI_noTC_color_list = ['#AA0000', '#808080',\n",
    "                                              '#00CCFF', '#0072b1',\n",
    "                                              '#FF9900',\n",
    "                                              '#990099', '#660099',\n",
    "                                              '#999900', '#336600']\n",
    "\n",
    "adata_epi.uns['Uhlitz_scANVI_noTC_colors'] = Uhlitz_scANVI_noTC_color_list"
   ]
  },
  {
   "cell_type": "code",
   "execution_count": null,
   "id": "17e0b66e",
   "metadata": {},
   "outputs": [],
   "source": [
    "epi_color_list = ['#999900', '#336600', '#660099', '#990099', '#00CCFF', '#0072b1',\n",
    "                  '#AA0000', '#FF0000', '#FF0099', '#EB9999', '#FF9900']"
   ]
  },
  {
   "cell_type": "code",
   "execution_count": null,
   "id": "22ecb5a9",
   "metadata": {},
   "outputs": [],
   "source": [
    "Uhlitz_scANVI_noTC_color_list_after = ['#00CCFF', '#0072b1',\n",
    "                                              '#FF9900',\n",
    "                                              '#990099', '#660099',\n",
    "                                              '#999900', '#336600']\n",
    "# no Tumour-like"
   ]
  },
  {
   "cell_type": "code",
   "execution_count": null,
   "id": "af91d210",
   "metadata": {},
   "outputs": [],
   "source": [
    "Uhlitz_scANVI_noTC_color_list = ['#AA0000', \n",
    "                                              '#00CCFF', '#0072b1',\n",
    "                                              '#FF9900',\n",
    "                                              '#990099', '#660099',\n",
    "                                              '#999900', '#336600']"
   ]
  },
  {
   "cell_type": "code",
   "execution_count": null,
   "id": "3d98c414",
   "metadata": {},
   "outputs": [],
   "source": [
    "# fix sample column: p009t and P to be capital\n",
    "# genomically tumour = Tumour like\n",
    "adata_epi.obs['sample_cap'] = None\n",
    "\n",
    "for i in np.arange(0, adata_epi.shape[0]):\n",
    "    if adata_epi.obs['sample'][i] in ['p009t1', 'p009t2']:\n",
    "        adata_epi.obs['sample_cap'][i] = 'P09t'        \n",
    "    elif adata_epi.obs['sample'][i] in ['p009n1', 'p009n2']:\n",
    "        adata_epi.obs['sample_cap'][i] = 'P09n'\n",
    "    else: \n",
    "        adata_epi.obs['sample_cap'][i] = adata_epi.obs['sample'][i].replace('p0', 'P')\n",
    "        \n",
    "adata_epi.obs['sample_cap'] = adata_epi.obs['sample_cap'].astype('category')\n",
    "\n",
    "# patient to cap\n",
    "adata_epi.obs['patient'] = adata_epi.obs['patient'].astype('str').apply(lambda x: \n",
    "                                                                        x.replace('p0', 'P')).astype('category')"
   ]
  },
  {
   "cell_type": "code",
   "execution_count": null,
   "id": "fc4d9c73",
   "metadata": {},
   "outputs": [],
   "source": [
    "adata_epi.obs['sample_cap'].cat.categories"
   ]
  },
  {
   "cell_type": "code",
   "execution_count": null,
   "id": "110dfa2d",
   "metadata": {},
   "outputs": [],
   "source": [
    "adata_epi.obs['patient'].cat.categories"
   ]
  },
  {
   "cell_type": "code",
   "execution_count": null,
   "id": "6ebcb9e1",
   "metadata": {},
   "outputs": [],
   "source": [
    "# ct pseudotime\n",
    "# format hack\n",
    "adata_epi.layers[\"spliced\"] = adata_epi.X\n",
    "adata_epi.layers[\"unspliced\"] = adata_epi.X\n",
    "\n",
    "# calculate \n",
    "scv.pp.moments(adata_epi, n_pcs=30, n_neighbors=30)\n",
    "ctk = CytoTRACEKernel(adata_epi).compute_cytotrace()\n",
    "ctk.compute_transition_matrix(threshold_scheme=\"soft\", nu=0.5)\n"
   ]
  },
  {
   "cell_type": "code",
   "execution_count": null,
   "id": "dd315c42",
   "metadata": {},
   "outputs": [],
   "source": [
    "adata_epi_noTC_cleanCI = adata_epi[(adata_epi.obs['Uhlitz_scANVI_noTC'] != 'Tumour-like (normal_sample)') & #37670\n",
    "                                   (adata_epi.obs['cell_identity'] != 'no confident assignment')] # 37316\n"
   ]
  },
  {
   "cell_type": "code",
   "execution_count": null,
   "id": "82cbd8ab",
   "metadata": {},
   "outputs": [],
   "source": [
    "sample_color_map = dict(zip(adata_epi_noTC_cleanCI.obs['Uhlitz_scANVI_noTC'].cat.categories, \n",
    "                            adata_epi_noTC_cleanCI.uns['Uhlitz_scANVI_noTC_colors']))"
   ]
  },
  {
   "cell_type": "code",
   "execution_count": null,
   "id": "4d84d3a5",
   "metadata": {},
   "outputs": [],
   "source": [
    "sample_color_map"
   ]
  },
  {
   "cell_type": "code",
   "execution_count": null,
   "id": "9765c5c1",
   "metadata": {},
   "outputs": [],
   "source": [
    "removed_TC_id = list(set(adata_epi.obs.index) - set(adata_epi_noTC_cleanCI.obs.index))"
   ]
  },
  {
   "cell_type": "code",
   "execution_count": null,
   "id": "99c83ddd",
   "metadata": {},
   "outputs": [],
   "source": [
    "len(removed_TC_id)"
   ]
  },
  {
   "cell_type": "code",
   "execution_count": null,
   "id": "9666c2cc",
   "metadata": {},
   "outputs": [],
   "source": [
    "# for all cells\n",
    "# fix sample column: p009t and P to be capital\n",
    "# genomically tumour = Tumour like\n",
    "adata_all.obs['sample_cap'] = None\n",
    "\n",
    "for i in np.arange(0, adata_all.shape[0]):\n",
    "    if adata_all.obs['sample'][i] in ['p009t1', 'p009t2']:\n",
    "        adata_all.obs['sample_cap'][i] = 'P09t'        \n",
    "    elif adata_all.obs['sample'][i] in ['p009n1', 'p009n2']:\n",
    "        adata_all.obs['sample_cap'][i] = 'P09n'\n",
    "    else: \n",
    "        adata_all.obs['sample_cap'][i] = adata_all.obs['sample'][i].replace('p0', 'P')\n",
    "        \n",
    "adata_all.obs['sample_cap'] = adata_all.obs['sample_cap'].astype('category')\n",
    "\n",
    "# patient to cap\n",
    "adata_all.obs['patient'] = adata_all.obs['patient'].astype('str').apply(lambda x: \n",
    "                                                                        x.replace('p0', 'P')).astype('category')"
   ]
  },
  {
   "cell_type": "code",
   "execution_count": null,
   "id": "913185e6",
   "metadata": {},
   "outputs": [],
   "source": [
    "adata_all.obs['sample_cap'].cat.categories"
   ]
  },
  {
   "cell_type": "code",
   "execution_count": null,
   "id": "cc8c833d",
   "metadata": {},
   "outputs": [],
   "source": [
    "adata_all.obs['patient'].cat.categories"
   ]
  },
  {
   "cell_type": "code",
   "execution_count": null,
   "id": "37da942c",
   "metadata": {},
   "outputs": [],
   "source": [
    "adata_all_noTC_cleanCI = adata_all[~adata_all.obs.index.isin(removed_TC_id)]"
   ]
  },
  {
   "cell_type": "markdown",
   "id": "42e11525",
   "metadata": {},
   "source": [
    "### Numbers needed in Result"
   ]
  },
  {
   "cell_type": "code",
   "execution_count": null,
   "id": "ec762889",
   "metadata": {},
   "outputs": [],
   "source": [
    "# 73294 cells in total\n",
    "adata_all.shape"
   ]
  },
  {
   "cell_type": "code",
   "execution_count": null,
   "id": "ffcd4136",
   "metadata": {},
   "outputs": [],
   "source": [
    "# 30184 cells from normal samples, 43110 cells from tumour samples\n",
    "adata_all.obs['sample_origin'].value_counts()"
   ]
  },
  {
   "cell_type": "code",
   "execution_count": null,
   "id": "f8f437a8",
   "metadata": {},
   "outputs": [],
   "source": [
    "# 39168 epithelial cells, 31663 immune cells, and 2463 stromal cells\n",
    "adata_all.obs['celltype_1a'].value_counts()"
   ]
  },
  {
   "cell_type": "code",
   "execution_count": null,
   "id": "18a635ec",
   "metadata": {},
   "outputs": [],
   "source": [
    "# within epithelial cells, 21545 cells from normal samples, 17623 cells from tumour sample\n",
    "adata_epi.obs['sample_origin'].value_counts()"
   ]
  },
  {
   "cell_type": "code",
   "execution_count": null,
   "id": "cb1bddd0",
   "metadata": {},
   "outputs": [],
   "source": [
    "# agreement between Numbat and Scitcem\n",
    "adata_epi.obs['tumour_normal_normal'].value_counts()"
   ]
  },
  {
   "cell_type": "code",
   "execution_count": null,
   "id": "8d34e76d",
   "metadata": {},
   "outputs": [],
   "source": [
    "# cell identity\n",
    "adata_epi.obs['cell_identity'].value_counts()"
   ]
  },
  {
   "cell_type": "code",
   "execution_count": null,
   "id": "7807ab4d",
   "metadata": {},
   "outputs": [],
   "source": [
    "# cell identities not agreed by all four tools are 4666\n",
    "17623-7320-5637"
   ]
  },
  {
   "cell_type": "markdown",
   "id": "61031a70",
   "metadata": {},
   "source": [
    "### Figure 1abcdef\n",
    "- a. UMAP of all the patients and all the cells (epi, imm, str), coloured by patient\n",
    "- b. UMAP of all the patients and all the cells (epi, imm, str), coloured by tissue origin\n",
    "- c. UMAP of all the patients and all the cells (epi, imm, str), coloured by cell type compartment\n",
    "- d. UMAP of epithelial cells and coloured by tissue origin\n",
    "- e. UMAP of epithelial cells and coloured by iCMS prediction of cells from tumour samples\n",
    "- f. UMAP of epithelial cells and coloured by inferCNV result"
   ]
  },
  {
   "cell_type": "code",
   "execution_count": null,
   "id": "46fd2e89",
   "metadata": {},
   "outputs": [],
   "source": [
    "fig = sc.pl.umap(adata_all, color=['patient'], \n",
    "              legend_loc='right margin', size = 1, frameon = False,return_fig=True)"
   ]
  },
  {
   "cell_type": "code",
   "execution_count": null,
   "id": "0fdb8c0c",
   "metadata": {},
   "outputs": [],
   "source": [
    "# Figure 1b\n",
    "# UMAP of all the patients and all the cells (epi, imm, str), coloured by tissue origin\n",
    "\n",
    "adata_all.uns['sample_origin_colors'] = adata_epi.uns['sample_origin_colors']\n",
    "\n",
    "fig = sc.pl.umap(adata_all, color=['sample_origin'], \n",
    "               ncols=1, legend_loc='right margin', size = 1, frameon = False,return_fig=True)"
   ]
  },
  {
   "cell_type": "code",
   "execution_count": null,
   "id": "12ee3859",
   "metadata": {},
   "outputs": [],
   "source": [
    "adata_all.obs['celltype_1a'].cat.rename_categories({'epi':'Epithelial cell',\n",
    "                                                   'imm':'Immune cell',\n",
    "                                                   'str':'Stromal cell'}, inplace = True)"
   ]
  },
  {
   "cell_type": "code",
   "execution_count": null,
   "id": "6ccf3c10",
   "metadata": {},
   "outputs": [],
   "source": [
    "adata_all.uns['celltype_1a_colors'] = ['#144FAC', '#ED5D47', '#4EAC57']\n"
   ]
  },
  {
   "cell_type": "code",
   "execution_count": null,
   "id": "8f61f1ed",
   "metadata": {},
   "outputs": [],
   "source": [
    "# Figure 1c\n",
    "# UMAP of all the patients and all the cells (epi, imm, str), coloured by cell type compartment\n",
    "fig = sc.pl.umap(adata_all,  color=['celltype_1a'], \n",
    "               ncols=1, legend_loc='right margin', size = 1,\n",
    "               title = '', frameon = False, return_fig=True)\n"
   ]
  },
  {
   "cell_type": "code",
   "execution_count": null,
   "id": "f5812d12",
   "metadata": {},
   "outputs": [],
   "source": [
    "# Figure 1d\n",
    "# UMAP of epithelial cells and coloured by tissue origin\n",
    "fig = sc.pl.umap(adata_epi, color=['normal_vs_MS'], \n",
    "               ncols=1, legend_loc='right margin', size = 2,\n",
    "              title = '', frameon = False, return_fig=True)\n"
   ]
  },
  {
   "cell_type": "code",
   "execution_count": null,
   "id": "547de53a",
   "metadata": {},
   "outputs": [],
   "source": [
    "fig = sc.pl.umap(adata_epi, color=['patient'], \n",
    "               ncols=1, legend_loc='right margin', size = 2,\n",
    "              title = '', frameon = False, return_fig=True)\n"
   ]
  },
  {
   "cell_type": "code",
   "execution_count": null,
   "id": "d96a2d80",
   "metadata": {},
   "outputs": [],
   "source": [
    "# Figure 1e \n",
    "# UMAP of epithelial cells and coloured by iCMS prediction of cells from tumour samples\n",
    "fig = sc.pl.umap(adata_epi, color=['iCMS_scANVI'], \n",
    "               ncols=1, legend_loc='right margin', size = 2,\n",
    "              title = '', frameon = False, return_fig=True)"
   ]
  },
  {
   "cell_type": "code",
   "execution_count": null,
   "id": "35a09249",
   "metadata": {},
   "outputs": [],
   "source": [
    "adata_epi.obs['inferCNV_result'] = adata_epi.obs['inferCNV_result'].cat.rename_categories({\n",
    "    'failed_sample':'NA'})\n"
   ]
  },
  {
   "cell_type": "code",
   "execution_count": null,
   "id": "6e3f27c9",
   "metadata": {},
   "outputs": [],
   "source": [
    "# Figure 1f \n",
    "# UMAP of epithelial cells and coloured by inferCNV result\n",
    "\n",
    "fig = sc.pl.umap(adata_epi, color=['inferCNV_result'], \n",
    "               ncols=1, legend_loc='right margin', size = 2,\n",
    "              title = '', frameon = False, return_fig=True)"
   ]
  },
  {
   "cell_type": "code",
   "execution_count": null,
   "id": "0eebab9d",
   "metadata": {},
   "outputs": [],
   "source": [
    "iCMS_and_inferCNV = adata_epi.obs[['inferCNV_result', 'iCMS_scANVI', \n",
    "                                   'iCMS_scANVI_pred_only','sample_cap', 'sample_origin', 'Uhlitz_scANVI']]"
   ]
  },
  {
   "cell_type": "code",
   "execution_count": null,
   "id": "a91a19b4",
   "metadata": {},
   "outputs": [],
   "source": [
    "iCMS_and_inferCNV[(iCMS_and_inferCNV['iCMS_scANVI_pred_only'] != 'Normal') & \n",
    "                  (iCMS_and_inferCNV['sample_origin'] == '\\nnormal\\nsample\\n')]['Uhlitz_scANVI'].value_counts().sort_index()"
   ]
  },
  {
   "cell_type": "code",
   "execution_count": null,
   "id": "74eeb0b0",
   "metadata": {},
   "outputs": [],
   "source": [
    "%%R -i iCMS_and_inferCNV -w 700 -h 500 -r 200\n",
    "\n",
    "# bar plot of iCMS result per tumour sample\n",
    "\n",
    "df = iCMS_and_inferCNV %>%\n",
    "filter(sample_origin != '\\nnormal\\nsample\\n') %>%\n",
    "group_by(sample_cap, iCMS_scANVI) %>%\n",
    "mutate(sum=n()) %>%\n",
    "group_by(sample_cap) %>%\n",
    "mutate(sum_sample = n()) %>%\n",
    "distinct(sample_cap, iCMS_scANVI, sum, sum_sample) %>%\n",
    "arrange(sample_cap)\n",
    "\n",
    "\n",
    "p = df %>%\n",
    "ggplot(aes(x = sum, y = sample_cap, fill = iCMS_scANVI)) +\n",
    "geom_col(width = 0.8, position = 'fill', stat = 'identity') +\n",
    "scale_fill_manual(values = c('#FFB84C', \n",
    "                             '#E96479',\n",
    "                             '#1f77b4'\n",
    "                            )) +\n",
    "theme_void() +\n",
    "plot_theme_font_size(8) +\n",
    "theme(axis.title.y = element_text(angle = 90, family = \"dajavu sans\")) +\n",
    "labs(x = 'Proportion', \n",
    "     y = 'Sample\\n') +\n",
    "scale_x_continuous(n.breaks = 3) +\n",
    "scale_y_discrete(limits = rev,labels = paste0(rev(unique(df$sample_cap)), ' (', rev(unique(df$sum_sample)), ')'))\n",
    "\n",
    "print(p)\n",
    "\n",
    "#grid.newpage()\n",
    "#grid.draw(cowplot::get_legend(p))\n",
    "\n",
    "\n",
    "ggsave(file=\"iCMS_bar.svg\", width = 8, height = 5, units = \"cm\", dpi = 300)"
   ]
  },
  {
   "cell_type": "code",
   "execution_count": null,
   "id": "f7e2685a",
   "metadata": {},
   "outputs": [],
   "source": [
    "%%R -i iCMS_and_inferCNV -w 900 -h 500 -r 200\n",
    "\n",
    "# Sup. Fig\n",
    "# bar plot of iCMS prediction in normal sample\n",
    "\n",
    "df = iCMS_and_inferCNV %>%\n",
    "filter(sample_origin == '\\nnormal\\nsample\\n') %>%\n",
    "group_by(sample_cap, iCMS_scANVI_pred_only) %>%\n",
    "mutate(sum=n()) %>%\n",
    "group_by(sample_cap) %>%\n",
    "mutate(sum_sample = n()) %>%\n",
    "distinct(sample_cap, iCMS_scANVI_pred_only, sum, sum_sample, Uhlitz_scANVI) %>%\n",
    "arrange(sample_cap)\n",
    "\n",
    "\n",
    "g = df %>%\n",
    "ggplot(aes(x = sum, y = sample_cap, fill = iCMS_scANVI_pred_only)) +\n",
    "geom_col(width = 0.8, position = 'fill', stat = 'identity') +\n",
    "scale_fill_manual(values = c('#FFB84C', \n",
    "                             '#E96479',\n",
    "                             '#1f77b4'\n",
    "                            )) +\n",
    "theme_void() +\n",
    "plot_theme_font_size(8) +\n",
    "theme(axis.title.y = element_text(angle = 90)) +\n",
    "labs(x = 'Proportion', \n",
    "     y = 'Sample\\n') +\n",
    "scale_y_discrete(limits = rev,labels = paste0(rev(unique(df$sample_cap)), ' (', rev(unique(df$sum_sample)), ')'))\n",
    "\n",
    "print(g)\n",
    "\n",
    "\n",
    "# the not normal cell\n",
    "df2 = iCMS_and_inferCNV %>%\n",
    "filter(sample_origin == '\\nnormal\\nsample\\n' & iCMS_scANVI_pred_only != 'Normal') %>%\n",
    "group_by(sample_cap, Uhlitz_scANVI) %>%\n",
    "mutate(sum=n()) %>%\n",
    "group_by(sample_cap) %>%\n",
    "mutate(sum_sample = n()) %>%\n",
    "distinct(sample_cap, sum, sum_sample, Uhlitz_scANVI) %>%\n",
    "arrange(sample_cap)\n",
    "\n",
    "df2 %>%\n",
    "ggplot(aes(x = sum, y = sample_cap, fill = Uhlitz_scANVI)) +\n",
    "geom_col(width = 0.8, position = 'fill', stat = 'identity') +\n",
    "scale_fill_manual(values = c('#999900', '#336600', '#660099', '#990099', '#00CCFF', '#0072b1',\n",
    "                             '#AA0000', '#FF0000', '#FF0099', '#EB9999', '#FF9900'),\n",
    "                  name = 'Epithelial cell type') +\n",
    "theme_void() + \n",
    "plot_theme_font_size(8) +\n",
    "theme(axis.title.y = element_text(angle = 90)) +\n",
    "labs(x = 'Proportion', \n",
    "     y = 'Sample\\n') +\n",
    "scale_y_discrete(limits = rev)  +\n",
    "guides(fill=guide_legend(ncol=2))\n",
    "\n"
   ]
  },
  {
   "cell_type": "code",
   "execution_count": null,
   "id": "81b66803",
   "metadata": {},
   "outputs": [],
   "source": [
    "%%R -i iCMS_and_inferCNV -w 700 -h 500 -r 200\n",
    "\n",
    "# bar plot of inferCNV result per sample\n",
    "\n",
    "df = iCMS_and_inferCNV %>%\n",
    "filter(sample_origin != '\\nnormal\\nsample\\n') %>%\n",
    "group_by(sample_cap, inferCNV_result) %>%\n",
    "mutate(sum=n()) %>%\n",
    "group_by(sample_cap) %>%\n",
    "mutate(sum_sample = n()) %>%\n",
    "distinct(sample_cap, inferCNV_result, sum, sum_sample) %>%\n",
    "arrange(sample_cap)\n",
    "\n",
    "\n",
    "p = df %>%\n",
    "ggplot(aes(x = sum, y = sample_cap, fill = inferCNV_result)) +\n",
    "geom_col(width = 0.8, position = 'fill', stat = 'identity') +\n",
    "scale_fill_manual(values = c('#ff7f0e', \n",
    "                             '#1f77b4',\n",
    "                             '#9b1ee3'\n",
    "                            )) +\n",
    "theme_void() +\n",
    "plot_theme_font_size(8) +\n",
    "theme(axis.title.y = element_text(angle = 90)) +\n",
    "labs(x = 'Proportion', \n",
    "     y = 'Sample\\n') +\n",
    "scale_x_continuous(n.breaks = 3) +\n",
    "scale_y_discrete(limits = rev,labels = paste0(rev(unique(df$sample_cap)), ' (', rev(unique(df$sum_sample)), ')'))\n",
    "\n",
    "\n",
    "print(p)\n",
    "\n",
    "ggsave(file=\"inferCNV_bar.svg\", width = 8, height = 5, units = \"cm\", dpi = 300)"
   ]
  },
  {
   "cell_type": "markdown",
   "id": "17c4fb60",
   "metadata": {},
   "source": [
    "### Figure 2abcdef\n",
    "#### Benedikt's part\n",
    "- a. Scitcem scheme\n",
    "- b. number of SNVs\n",
    "- c. benchmark result: sensitivity, efficiency\n",
    "- d. higher tumour content & sensitivity and number of SNV\n",
    "- e. model params vs tumour content (missing)\n",
    "- subsampling of CRC data mean read /cell\n",
    "- TPR across #SNV, fraction cells without SNVs, mean # expressed SNVs, mean # reads\n",
    "#### Cindy's part\n",
    "- f UMAP of Scitcem calls"
   ]
  },
  {
   "cell_type": "code",
   "execution_count": null,
   "id": "9692f4f0",
   "metadata": {},
   "outputs": [],
   "source": [
    "# Figure 2f\n",
    "# UMAP of Scitcem result\n",
    "fig = sc.pl.umap(adata_epi, color=['scitcem_call'], \n",
    "               ncols=1, legend_loc='right margin', size = 2,\n",
    "              title = '', frameon = False, return_fig=True)"
   ]
  },
  {
   "cell_type": "markdown",
   "id": "6d1c36cb",
   "metadata": {},
   "source": [
    "### Figure 3abcd\n",
    "- a. UMAP of Numbat result\n",
    "- b. Upset plot of all the cell identity assignment\n",
    "- c. Upset plot of Numbat and Scitcem\n",
    "- d. bar plot of resolved cell identities in each tumour samples (both agree + more in Methods)"
   ]
  },
  {
   "cell_type": "code",
   "execution_count": null,
   "id": "1d249818",
   "metadata": {},
   "outputs": [],
   "source": [
    "# Figure 3a\n",
    "# UMAP of Numbat result\n",
    "fig = sc.pl.umap(adata_epi, color=['numbat'], \n",
    "               ncols=1, legend_loc='right margin', size = 2,\n",
    "              title = '', frameon = False, return_fig=True)"
   ]
  },
  {
   "cell_type": "code",
   "execution_count": null,
   "id": "f0833fb6",
   "metadata": {},
   "outputs": [],
   "source": [
    "# cell identities not agreed by all four tools:\n",
    "17623-7320-5637"
   ]
  },
  {
   "cell_type": "code",
   "execution_count": null,
   "id": "ac53b2b2",
   "metadata": {},
   "outputs": [],
   "source": [
    "# 1296 cell inferCNV normal\n",
    "inferCNV_only_normal_cells = adata_epi[(adata_epi.obs['sample_origin'] == 'tumour\\nsample') &\n",
    "         (adata_epi.obs['scitcem_call'] == 'tumour\\n(tumour sample)') &\n",
    "         (adata_epi.obs['numbat'] == 'tumour\\n(tumour sample)') &\n",
    "         (adata_epi.obs['inferCNV_result'] != 'CNA\\n(tumour sample)') &\n",
    "         (adata_epi.obs['iCMS_scANVI'] != 'normal\\n(tumour sample)')]"
   ]
  },
  {
   "cell_type": "code",
   "execution_count": null,
   "id": "e01099f9",
   "metadata": {},
   "outputs": [],
   "source": [
    "inferCNV_only_normal_cells.obs['sample_cap'].value_counts().sort_index()"
   ]
  },
  {
   "cell_type": "code",
   "execution_count": null,
   "id": "2555b763",
   "metadata": {},
   "outputs": [],
   "source": [
    "inferCNV_only_normal_cells.obs[['sample_cap','clone_opt']].value_counts().sort_index()"
   ]
  },
  {
   "cell_type": "code",
   "execution_count": null,
   "id": "f4cc27b6",
   "metadata": {},
   "outputs": [],
   "source": [
    "# 1214 cell Scitcem normal\n",
    "scitcem_only_normal_cells = adata_epi[(adata_epi.obs['sample_origin'] == 'tumour\\nsample') &\n",
    "         (adata_epi.obs['scitcem_call'] != 'tumour\\n(tumour sample)') &\n",
    "         (adata_epi.obs['numbat'] == 'tumour\\n(tumour sample)') &\n",
    "         (adata_epi.obs['inferCNV_result'] == 'CNA\\n(tumour sample)') &\n",
    "         (adata_epi.obs['iCMS_scANVI'] != 'normal\\n(tumour sample)')]"
   ]
  },
  {
   "cell_type": "code",
   "execution_count": null,
   "id": "6b706542",
   "metadata": {},
   "outputs": [],
   "source": [
    "scitcem_only_normal_cells.obs['sample_cap'].value_counts().sort_index()"
   ]
  },
  {
   "cell_type": "code",
   "execution_count": null,
   "id": "2890bc77",
   "metadata": {},
   "outputs": [],
   "source": [
    "scitcem_only_normal_cells.obs[['filter_dp','filter_alt']].value_counts()"
   ]
  },
  {
   "cell_type": "code",
   "execution_count": null,
   "id": "7a76673e",
   "metadata": {},
   "outputs": [],
   "source": [
    "scitcem_only_normal_cells.obs['filter_alt'].value_counts()"
   ]
  },
  {
   "cell_type": "code",
   "execution_count": null,
   "id": "7223468e",
   "metadata": {},
   "outputs": [],
   "source": [
    "# 208 iCMS only tumour cell\n",
    "iCMS_only_tumour_cells = adata_epi[(adata_epi.obs['sample_origin'] == 'tumour\\nsample') &\n",
    "         (adata_epi.obs['scitcem_call'] != 'tumour\\n(tumour sample)') &\n",
    "         (adata_epi.obs['numbat'] != 'tumour\\n(tumour sample)') &\n",
    "         (adata_epi.obs['inferCNV_result'] != 'CNA\\n(tumour sample)') &\n",
    "         (adata_epi.obs['iCMS_scANVI'] != 'normal\\n(tumour sample)')]"
   ]
  },
  {
   "cell_type": "code",
   "execution_count": null,
   "id": "9e0b0065",
   "metadata": {},
   "outputs": [],
   "source": [
    "iCMS_only_tumour_cells.obs['sample_cap'].value_counts().sort_index()"
   ]
  },
  {
   "cell_type": "code",
   "execution_count": null,
   "id": "ddb4ed84",
   "metadata": {},
   "outputs": [],
   "source": [
    "iCMS_only_tumour_cells.obs['filter_alt'].value_counts()"
   ]
  },
  {
   "cell_type": "code",
   "execution_count": null,
   "id": "36ef0b8e",
   "metadata": {},
   "outputs": [],
   "source": [
    "iCMS_only_tumour_cells.obs['clone_opt'].value_counts()"
   ]
  },
  {
   "cell_type": "code",
   "execution_count": null,
   "id": "b4a4b2a3",
   "metadata": {},
   "outputs": [],
   "source": [
    "iCMS_only_tumour_cells.obs['Uhlitz_scANVI'].value_counts().sort_index()"
   ]
  },
  {
   "cell_type": "code",
   "execution_count": null,
   "id": "7682f45e",
   "metadata": {},
   "outputs": [],
   "source": [
    "adata_epi.obs['icms_only_tumour_cells'] = adata_epi.obs.index.isin(iCMS_only_tumour_cells.obs.index.values)"
   ]
  },
  {
   "cell_type": "code",
   "execution_count": null,
   "id": "45be3149",
   "metadata": {},
   "outputs": [],
   "source": [
    "scv.pl.scatter(adata_epi, basis='umap', color='icms_only_tumour_cells', \n",
    "               ncols=1, legend_loc='right margin', size = 2)"
   ]
  },
  {
   "cell_type": "code",
   "execution_count": null,
   "id": "2341d581",
   "metadata": {},
   "outputs": [],
   "source": [
    "# 67 inferCNV only tumour cell\n",
    "inferCNV_only_tumour_cells = adata_epi[(adata_epi.obs['sample_origin'] == 'tumour\\nsample') &\n",
    "         (adata_epi.obs['scitcem_call'] != 'tumour\\n(tumour sample)') &\n",
    "         (adata_epi.obs['numbat'] != 'tumour\\n(tumour sample)') &\n",
    "         (adata_epi.obs['inferCNV_result'] == 'CNA\\n(tumour sample)') &\n",
    "         (adata_epi.obs['iCMS_scANVI'] == 'normal\\n(tumour sample)')]"
   ]
  },
  {
   "cell_type": "code",
   "execution_count": null,
   "id": "fe703ddb",
   "metadata": {},
   "outputs": [],
   "source": [
    "inferCNV_only_tumour_cells.obs['sample_cap'].value_counts().sort_index()"
   ]
  },
  {
   "cell_type": "code",
   "execution_count": null,
   "id": "29e698a6",
   "metadata": {},
   "outputs": [],
   "source": [
    "inferCNV_only_tumour_cells.obs['filter_alt'].value_counts().sort_index()"
   ]
  },
  {
   "cell_type": "code",
   "execution_count": null,
   "id": "b0ed2b43",
   "metadata": {},
   "outputs": [],
   "source": [
    "inferCNV_only_tumour_cells.obs[['sample_cap','clone_opt', 'filter_alt']].value_counts().sort_index()"
   ]
  },
  {
   "cell_type": "code",
   "execution_count": null,
   "id": "607aad8f",
   "metadata": {},
   "outputs": [],
   "source": [
    "# 57 inferCNV and iCMS only tumour cell\n",
    "inferCNV_and_iCMS_tumour_cells = adata_epi[(adata_epi.obs['sample_origin'] == 'tumour\\nsample') &\n",
    "         (adata_epi.obs['scitcem_call'] != 'tumour\\n(tumour sample)') &\n",
    "         (adata_epi.obs['numbat'] != 'tumour\\n(tumour sample)') &\n",
    "         (adata_epi.obs['inferCNV_result'] == 'CNA\\n(tumour sample)') &\n",
    "         (adata_epi.obs['iCMS_scANVI'] != 'normal\\n(tumour sample)')]"
   ]
  },
  {
   "cell_type": "code",
   "execution_count": null,
   "id": "aa1a2e93",
   "metadata": {},
   "outputs": [],
   "source": [
    "inferCNV_and_iCMS_tumour_cells.obs['filter_alt'].value_counts().sort_index()"
   ]
  },
  {
   "cell_type": "code",
   "execution_count": null,
   "id": "0f0fc7ac",
   "metadata": {},
   "outputs": [],
   "source": [
    "inferCNV_and_iCMS_tumour_cells.obs[['sample_cap','clone_opt', 'filter_alt']].value_counts().sort_index()"
   ]
  },
  {
   "cell_type": "code",
   "execution_count": null,
   "id": "c4a5628c",
   "metadata": {},
   "outputs": [],
   "source": [
    "inferCNV_and_iCMS_tumour_cells.obs['Uhlitz_scANVI'].value_counts().sort_index()"
   ]
  },
  {
   "cell_type": "code",
   "execution_count": null,
   "id": "e8ba3179",
   "metadata": {},
   "outputs": [],
   "source": [
    "adata_epi.obs[['inferCNV_result', 'iCMS_scANVI']].value_counts(dropna=False).sort_index()"
   ]
  },
  {
   "cell_type": "code",
   "execution_count": null,
   "id": "4b8a7c63",
   "metadata": {},
   "outputs": [],
   "source": [
    "upset_df = adata_epi[adata_epi.obs['sample_origin'] == 'tumour\\nsample'].obs.copy()"
   ]
  },
  {
   "cell_type": "code",
   "execution_count": null,
   "id": "4d476b2c",
   "metadata": {},
   "outputs": [],
   "source": [
    "%%R -i upset_df -w 1200 -h 800 -r 200\n",
    "\n",
    "\n",
    "# iCMS and inferCNV\n",
    "df = upset_df %>%\n",
    "select(iCMS_scANVI, inferCNV_result, patient) %>%\n",
    "mutate(iCMS = ifelse(iCMS_scANVI != 'normal\\n(tumour sample)', TRUE, FALSE),\n",
    "       inferCNV = ifelse(inferCNV_result == 'CNA\\n(tumour sample)', TRUE, FALSE)) \n",
    "\n",
    "p = upset(df, c('iCMS', 'inferCNV'), \n",
    "      #name = 'tumour calls by iCMS and inferCNV', \n",
    "      set_sizes = FALSE, height_ratio = 1/5,\n",
    "      stripes = upset_stripes(\n",
    "          colors = 'white'\n",
    "          ),\n",
    "      base_annotations = list('Intersection size' = intersection_size(\n",
    "                                                      counts = FALSE, \n",
    "          mapping = aes(fill = patient), width = 0.8) +\n",
    "                              scale_fill_manual(values = c('#1f77b4', '#ff7f0e', '#279e68', '#d62728', \n",
    "                                                            '#aa40fc', '#8c564b',\n",
    "                                                            '#e377c2', '#b5bd61', '#17becf', '#aec7e8')) +\n",
    "                              theme(panel.grid = element_blank(),\n",
    "                                    axis.ticks = element_line('black'),\n",
    "                                    axis.line = element_line()) + \n",
    "                              plot_theme_font_size(16)\n",
    "                             )) + \n",
    "theme(panel.grid = element_blank())+\n",
    "plot_theme_font_size(16) \n",
    "\n",
    "print(p)\n",
    "\n",
    "ggsave(file=\"iCMS_inferCNV_upset_by_pt.svg\", width = 10, height = 10, units = \"cm\", dpi = 300)\n",
    "\n",
    "# dont use theme_void(), there is something hidden in their code that will show some random texts"
   ]
  },
  {
   "cell_type": "code",
   "execution_count": null,
   "id": "2d644091",
   "metadata": {},
   "outputs": [],
   "source": [
    "%%R -i upset_df -w 800 -h 700 -r 200\n",
    "\n",
    "\n",
    "df = upset_df %>%\n",
    "select(scitcem_call, numbat, MS_status) %>%\n",
    "mutate(Scitcem = ifelse(scitcem_call == 'tumour\\n(tumour sample)', TRUE, FALSE),\n",
    "       Numbat = ifelse(numbat == 'tumour\\n(tumour sample)', TRUE, FALSE)) \n",
    "\n",
    "p = upset(df, rev(c('Scitcem', 'Numbat')), \n",
    "      #name = 'tumour calls by Scitcem and Numbat', \n",
    "      set_sizes = FALSE, height_ratio = 1/5,sort_sets=FALSE,\n",
    "      stripes = upset_stripes(\n",
    "          colors = 'white'\n",
    "          ),\n",
    "      base_annotations = list('Intersection size' = intersection_size(\n",
    "                                                      counts = FALSE, mapping = aes(fill = MS_status), width = 0.8) +\n",
    "                              scale_fill_manual(values = c('#D45B6E', '#EAA945'), name = 'Subtype') +\n",
    "                              theme(panel.grid = element_blank(),\n",
    "                                    axis.ticks = element_line('black'),\n",
    "                                    axis.line = element_line()) + \n",
    "                              plot_theme_font_size(15)\n",
    "                             )) + \n",
    "theme(panel.grid = element_blank())+\n",
    "plot_theme_font_size(15)\n",
    "\n",
    "print(p)\n",
    "\n",
    "ggsave(file=\"Numbat_Scitcem_upset_by_MS.svg\", width = 10, height = 10, units = \"cm\", dpi = 300)\n",
    "\n",
    "# dont use theme_void(), there is something hidden in their code that will show some random texts"
   ]
  },
  {
   "cell_type": "code",
   "execution_count": null,
   "id": "3be9c192",
   "metadata": {},
   "outputs": [],
   "source": [
    "%%R -i upset_df -w 1200 -h 800 -r 200\n",
    "\n",
    "\n",
    "df = upset_df %>%\n",
    "select(scitcem_call, numbat, inferCNV_result, iCMS_scANVI, patient) %>%\n",
    "mutate(iCMS = ifelse(iCMS_scANVI != 'normal\\n(tumour sample)', TRUE, FALSE),\n",
    "       inferCNV = ifelse(inferCNV_result == 'CNA\\n(tumour sample)', TRUE, FALSE),\n",
    "       Scitcem = ifelse(scitcem_call == 'tumour\\n(tumour sample)', TRUE, FALSE),\n",
    "       Numbat = ifelse(numbat == 'tumour\\n(tumour sample)', TRUE, FALSE)) \n",
    "\n",
    "\n",
    "p = upset(df, c('Numbat', 'Scitcem', 'inferCNV', 'iCMS'), \n",
    "      #name = 'tumour calls by Scitcem and Numbat', \n",
    "      set_sizes = FALSE, height_ratio = 1/3.5, sort_sets=FALSE,\n",
    "      stripes = upset_stripes(\n",
    "          colors = 'white'\n",
    "          ),\n",
    "      base_annotations = list('Intersection size' = intersection_size(\n",
    "                                                    counts = FALSE, \n",
    "                                                    mapping = aes(fill = patient), width = 0.8) +\n",
    "                               scale_fill_manual(values = c('#1f77b4', '#ff7f0e', '#279e68', '#d62728', \n",
    "                                                            '#aa40fc', '#8c564b',\n",
    "                                                            '#e377c2', '#b5bd61', '#17becf', '#aec7e8')) +\n",
    "                              theme(panel.grid = element_blank(),\n",
    "                                    axis.ticks = element_line('black'),\n",
    "                                    axis.line = element_line()) + \n",
    "                              plot_theme_font_size(15)\n",
    "                             )) + \n",
    "theme(panel.grid = element_blank())+\n",
    "plot_theme_font_size(15)\n",
    "\n",
    "print(p)\n",
    "\n",
    "ggsave(file=\"All_method_upset_by_pt.svg\", width = 14, height = 10, units = \"cm\", dpi = 300)\n",
    "\n",
    "# dont use theme_void(), there is something hidden in their code that will show some random texts"
   ]
  },
  {
   "cell_type": "code",
   "execution_count": null,
   "id": "bf23e020",
   "metadata": {},
   "outputs": [],
   "source": [
    "%%R -i upset_df -w 1200 -h 800 -r 200\n",
    "\n",
    "\n",
    "df = upset_df %>%\n",
    "select(scitcem_call, numbat, inferCNV_result, iCMS_scANVI, MS_status) %>%\n",
    "mutate(iCMS = ifelse(iCMS_scANVI != 'normal\\n(tumour sample)', TRUE, FALSE),\n",
    "       inferCNV = ifelse(inferCNV_result == 'CNA\\n(tumour sample)', TRUE, FALSE),\n",
    "       Scitcem = ifelse(scitcem_call == 'tumour\\n(tumour sample)', TRUE, FALSE),\n",
    "       Numbat = ifelse(numbat == 'tumour\\n(tumour sample)', TRUE, FALSE)) \n",
    "\n",
    "\n",
    "p = upset(df, c('Numbat', 'Scitcem', 'inferCNV', 'iCMS'), \n",
    "      #name = 'tumour calls by Scitcem and Numbat', \n",
    "      set_sizes = FALSE, height_ratio = 1/3.5, sort_sets=FALSE,\n",
    "      stripes = upset_stripes(\n",
    "          colors = 'white'\n",
    "          ),\n",
    "      base_annotations = list('Intersection size' = intersection_size(\n",
    "                                                    counts = FALSE, \n",
    "                                                    mapping = aes(fill = MS_status), width = 0.8) +\n",
    "                               scale_fill_manual(values = c('#D45B6E', '#EAA945'), name = 'Subtype') +\n",
    "                              theme(panel.grid = element_blank(),\n",
    "                                    axis.ticks = element_line('black'),\n",
    "                                    axis.line = element_line()) + \n",
    "                              plot_theme_font_size(15)\n",
    "                             )) + \n",
    "theme(panel.grid = element_blank())+\n",
    "plot_theme_font_size(15)\n",
    "\n",
    "print(p)\n",
    "\n",
    "ggsave(file=\"All_method_upset_by_MS.svg\", width = 14, height = 10, units = \"cm\", dpi = 300)\n",
    "\n",
    "# dont use theme_void(), there is something hidden in their code that will show some random texts"
   ]
  },
  {
   "cell_type": "code",
   "execution_count": null,
   "id": "f7ff37d0",
   "metadata": {},
   "outputs": [],
   "source": []
  },
  {
   "cell_type": "code",
   "execution_count": null,
   "id": "40eec899",
   "metadata": {},
   "outputs": [],
   "source": [
    "cell_identity_list = adata_epi.obs[[\n",
    "    'cell_identity', 'sample_cap', 'sample_origin','patient','Uhlitz_scANVI', 'Uhlitz_scANVI_noTC']]"
   ]
  },
  {
   "cell_type": "code",
   "execution_count": null,
   "id": "c41b8ab4",
   "metadata": {},
   "outputs": [],
   "source": [
    "# number of epithelial cells per sample\n",
    "cell_identity_list['sample_cap'].value_counts().sort_index()"
   ]
  },
  {
   "cell_type": "code",
   "execution_count": null,
   "id": "ff5a71d5",
   "metadata": {},
   "outputs": [],
   "source": [
    "%%R -i cell_identity_list  -w 600 -h 500 -r 200\n",
    "\n",
    "# Fig 3d\n",
    "# bar plot of resolved cell identities in each tumour samples (both agree + more in Methods)\n",
    "\n",
    "\n",
    "df = cell_identity_list %>% \n",
    "filter(sample_origin == 'tumour\\nsample') %>%\n",
    "group_by(sample_cap, cell_identity) %>%\n",
    "mutate(sum=n()) %>%\n",
    "group_by(sample_cap) %>%\n",
    "mutate(sum_sample = n()) %>%\n",
    "distinct(sample_cap, cell_identity, sum, sum_sample) %>%\n",
    "arrange(sample_cap)\n",
    "\n",
    "CI_order = rev(c('genomically_normal', 'no confident assignment', 'genomically_tumour'))\n",
    "\n",
    "df$cell_identity = factor(df$cell_identity, levels = CI_order)\n",
    "\n",
    "p = df %>%\n",
    "ggplot(aes(x = sum, y = sample_cap, fill = cell_identity)) +\n",
    "geom_col(width = 0.8, position = 'fill', stat = 'identity') +\n",
    "scale_fill_manual(values = rev(c('#1f77b4',\n",
    "                            '#9b1ee3',\n",
    "                            '#ff7f0e')),\n",
    "                   name = 'Cell identity call\\n(tumour samples)',\n",
    "                   labels = rev(c('Genomically\\nnormal',\n",
    "                             'No confident\\nassignment',\n",
    "                              'Genomically\\ntumour'))) +\n",
    "theme_void() +\n",
    "theme(axis.title.y = element_text(angle = 90)) +\n",
    "labs(x = 'Proportion', \n",
    "     y = 'Sample\\n') +\n",
    "scale_x_continuous(n.breaks = 3) +\n",
    "scale_y_discrete(limits = rev,\n",
    "                 labels = paste0(rev(unique(df$sample_cap)), ' (', rev(unique(df$sum_sample)), ')')) +\n",
    "plot_theme_font_size(8) \n",
    "\n",
    "print(p)\n",
    "\n",
    "ggsave(file=\"cell_identity_bar.svg\", width = 7, height = 5, units = \"cm\", dpi = 300)"
   ]
  },
  {
   "cell_type": "code",
   "execution_count": null,
   "id": "1c9cf429",
   "metadata": {},
   "outputs": [],
   "source": []
  },
  {
   "cell_type": "markdown",
   "id": "b1e3bd29",
   "metadata": {},
   "source": [
    "set_infercnv = set(adata_epi[(adata_epi.obs['inferCNV_result'] == 'CNA\\n(tumour sample)') & \n",
    "                                     (adata_epi.obs['sample_origin'] == 'tumour\\nsample')].obs.index)\n",
    "print(len(set_infercnv))\n",
    "\n",
    "set_scitcem = set(adata_epi[(adata_epi.obs['scitcem_call'] == 'tumour\\n(tumour sample)') & \n",
    "                                     (adata_epi.obs['sample_origin'] == 'tumour\\nsample')].obs.index)\n",
    "print(len(set_scitcem))\n",
    "\n",
    "set_numbat = set(adata_epi[(adata_epi.obs['numbat'] == 'tumour\\n(tumour sample)')& \n",
    "                                     (adata_epi.obs['sample_origin'] == 'tumour\\nsample')].obs.index)\n",
    "print(len(set_numbat))\n",
    "\n",
    "set_icms_scANVI = set(adata_epi[(adata_epi.obs['iCMS_scANVI'] != 'normal\\n(tumour sample)')& \n",
    "                                     (adata_epi.obs['sample_origin'] == 'tumour\\nsample')].obs.index)\n",
    "print(len(set_icms_scANVI))"
   ]
  },
  {
   "cell_type": "markdown",
   "id": "e2de3b41",
   "metadata": {},
   "source": [
    "labels = venn.get_labels([set_icms_scANVI, set_scitcem, set_numbat, set_infercnv], fill = ['number'])\n",
    "fig, ax = venn.venn4(labels, names = ['iCMS' ,'Scitcem', 'Numbat', 'inferCNV'])\n",
    "#fig.suptitle('agreement on tumour cells (tumour sample only)', fontsize=24)\n",
    "#ax.legend(bbox_to_anchor=(1.04, 1))\n",
    "#ax.legend(frameon = False)\n",
    "plt.legend([arr1a, arr2, arr3], ['u','v','u+v'])\n"
   ]
  },
  {
   "cell_type": "code",
   "execution_count": null,
   "id": "668b3ebc",
   "metadata": {},
   "outputs": [],
   "source": [
    "%%R -i upset_df -w 1600 -h 1200 -r 200\n",
    "\n",
    "method_colors = c('#f57379','#f5d107', '#228b22', '#47a2ed')\n",
    "\n",
    "df = upset_df %>%\n",
    "select(scitcem_call, numbat, inferCNV_result, iCMS_scANVI,MS_status) %>%\n",
    "mutate(iCMS = ifelse(iCMS_scANVI != 'normal\\n(tumour sample)', TRUE, FALSE),\n",
    "       inferCNV = ifelse(inferCNV_result == 'CNA\\n(tumour sample)', TRUE, FALSE),\n",
    "       Scitcem = ifelse(scitcem_call == 'tumour\\n(tumour sample)', TRUE, FALSE),\n",
    "       Numbat = ifelse(numbat == 'tumour\\n(tumour sample)', TRUE, FALSE)) \n",
    "\n",
    "\n",
    "p=ggvenn(df, stroke_size = 0.2, set_name_size = 6, show_percentage = FALSE,\n",
    "       fill_alpha = 0.5,\n",
    "       set_name_color = method_colors,\n",
    "       fill_color = method_colors) +\n",
    "plot_theme_font_size(20)+\n",
    "theme(axis.text = element_blank(),\n",
    "     axis.title = element_blank())\n",
    "\n",
    "print(p)\n",
    "\n",
    "ggsave(file=\"venn.svg\", width = 20, height = 20, units = \"cm\", dpi = 300)"
   ]
  },
  {
   "cell_type": "code",
   "execution_count": null,
   "id": "028c36a7",
   "metadata": {},
   "outputs": [],
   "source": [
    "# Fig 3e\n",
    "# UMAP of resolved cell identity\n",
    "\n",
    "fig = sc.pl.umap(adata_epi, color=['cell_identity'], \n",
    "               ncols=1, legend_loc='right margin', size = 2,\n",
    "              title = '', frameon = False, return_fig=True)"
   ]
  },
  {
   "cell_type": "code",
   "execution_count": null,
   "id": "bc2a2915",
   "metadata": {},
   "outputs": [],
   "source": [
    "# UMAP of resolved cell identity\n",
    "fig = sc.pl.umap(adata_epi_noTC_cleanCI, color=['cell_identity'], \n",
    "               ncols=1, legend_loc='right margin', size = 2,\n",
    "              title = '', frameon = False, return_fig=True)"
   ]
  },
  {
   "cell_type": "code",
   "execution_count": null,
   "id": "b50c93de",
   "metadata": {},
   "outputs": [],
   "source": [
    "fig = sc.pl.umap(adata_epi_noTC_cleanCI, color=['PLA2G2A'], \n",
    "               ncols=1, legend_loc='right margin', size = 2,\n",
    "               frameon = False, return_fig=True)"
   ]
  },
  {
   "cell_type": "code",
   "execution_count": null,
   "id": "97618b17",
   "metadata": {},
   "outputs": [],
   "source": [
    "fig = sc.pl.umap(adata_epi_noTC_cleanCI, color=['MUC1', 'MUC5B', 'OLFM4', 'WNT2'], \n",
    "               ncols=2, legend_loc='right margin', size = 2,\n",
    "               frameon = False, return_fig=True)"
   ]
  },
  {
   "cell_type": "markdown",
   "id": "bcb6c18b",
   "metadata": {},
   "source": [
    "### Figure 4\n",
    "- Tumour-like == genomicalyl tumour and remove TCs in normal sample and genomically normal\n",
    "- no 'no confident assignment' cells"
   ]
  },
  {
   "cell_type": "code",
   "execution_count": null,
   "id": "4fd659c8",
   "metadata": {},
   "outputs": [],
   "source": [
    "adata_epi.obs['Uhlitz_scANVI_noTC'].cat.categories"
   ]
  },
  {
   "cell_type": "code",
   "execution_count": null,
   "id": "c602e4d5",
   "metadata": {},
   "outputs": [],
   "source": [
    "cell_identity_list_clean = adata_epi_noTC_cleanCI.obs[[\n",
    "    'cell_identity', 'sample_cap', 'sample_origin','patient','Uhlitz_scANVI', 'Uhlitz_scANVI_noTC']]"
   ]
  },
  {
   "cell_type": "code",
   "execution_count": null,
   "id": "c59b3e38",
   "metadata": {},
   "outputs": [],
   "source": [
    "# Fig 4a\n",
    "# UMAP with cell type annotation (epi cells)\n",
    "\n",
    "fig = sc.pl.umap(adata_epi_noTC_cleanCI, color=['Uhlitz_scANVI_noTC'], \n",
    "               ncols=1, legend_loc='right margin', size = 2, title = 'Epithelial cell type',\n",
    "               frameon = False, return_fig=True)"
   ]
  },
  {
   "cell_type": "code",
   "execution_count": null,
   "id": "ded22c63",
   "metadata": {},
   "outputs": [],
   "source": [
    "%%R -i cell_identity_list_clean -w 700 -h 500 -r 200\n",
    "\n",
    "# bar plot of resolved cell identities in each tumour samples (both agree + more in Methods)\n",
    "# clean identity\n",
    "\n",
    "df = cell_identity_list_clean %>% \n",
    "filter(sample_origin == 'tumour\\nsample') %>%\n",
    "group_by(sample_cap, cell_identity) %>%\n",
    "mutate(sum=n()) %>%\n",
    "group_by(sample_cap) %>%\n",
    "mutate(sum_sample = n()) %>%\n",
    "distinct(sample_cap, cell_identity, sum, sum_sample) %>%\n",
    "arrange(sample_cap)\n",
    "\n",
    "CI_order = c('genomically_normal', 'genomically_tumour')\n",
    "df$cell_identity = factor(df$cell_identity, levels = CI_order)\n",
    "\n",
    "p = df %>%\n",
    "ggplot(aes(x = sum, y = sample_cap, fill = cell_identity)) +\n",
    "geom_col(width = 0.8, position = 'fill', stat = 'identity') +\n",
    "scale_fill_manual(values = c('#1f77b4',\n",
    "                            '#ff7f0e'),\n",
    "                   name = 'Cell identity call\\n(tumour samples)',\n",
    "                   labels = c('genomically\\nnormal',\n",
    "                              'genomically\\ntumour')) +\n",
    "theme_void() +\n",
    "theme(axis.title.y = element_text(angle = 90)) +\n",
    "labs(x = 'Proportion', \n",
    "     y = 'Sample\\n') +\n",
    "scale_x_continuous(n.breaks = 3) +\n",
    "scale_y_discrete(limits = rev,labels = paste0(rev(unique(df$sample_cap)), ' (', rev(unique(df$sum_sample)), ')')) +\n",
    "plot_theme_font_size(8) \n",
    "\n",
    "print(p)\n",
    "\n",
    "ggsave(file=\"cell_identity_solved_by_sample_bar.svg\", width = 7, height = 5, units = \"cm\", dpi = 300)"
   ]
  },
  {
   "cell_type": "code",
   "execution_count": null,
   "id": "da72e00f",
   "metadata": {},
   "outputs": [],
   "source": [
    "%%R -i cell_identity_list_clean,Uhlitz_scANVI_noTC_color_list_after -w 1200 -h 500 -r 200\n",
    "\n",
    "# cell type differences in genomically normal vs normal samples\n",
    "\n",
    "df = cell_identity_list_clean %>%\n",
    "filter(cell_identity %in% c('genomically_normal', 'normal_sample')) %>%\n",
    "group_by(sample_cap, cell_identity, Uhlitz_scANVI_noTC) %>%\n",
    "mutate(sum=n()) %>%\n",
    "group_by(sample_cap) %>%\n",
    "mutate(sum_sample = n()) %>%\n",
    "distinct() %>%\n",
    "arrange(desc(sample_cap))\n",
    "\n",
    "df$Uhlitz_scANVI_noTC = factor(df$Uhlitz_scANVI_noTC, rev(levels(df$Uhlitz_scANVI_noTC)))\n",
    "\n",
    "\n",
    "p = df %>%\n",
    "ggplot(aes(x = sum, y = patient, fill = Uhlitz_scANVI_noTC)) +\n",
    "geom_col(width = 0.8, position = 'fill', stat = 'identity') +\n",
    "scale_fill_manual(values = rev(Uhlitz_scANVI_noTC_color_list_after),\n",
    "                 name = 'Epithelial cell type')+\n",
    "theme_void() + \n",
    "theme(axis.title.y = element_text(angle = 90)) +\n",
    "labs(x = 'Proportion', \n",
    "     y = 'Patient\\n') +\n",
    "facet_grid(cols = vars(cell_identity)) +\n",
    "scale_y_discrete(limits = rev) +\n",
    "scale_x_continuous(n.breaks = 3) +\n",
    "plot_theme_font_size(8) \n",
    "\n",
    "print(p)\n",
    "\n",
    "ggsave(file=\"cell_type_GN_vs_NN_pt_bar.svg\", width = 12, height = 5, units = \"cm\", dpi = 300)"
   ]
  },
  {
   "cell_type": "code",
   "execution_count": null,
   "id": "df9b8a98",
   "metadata": {},
   "outputs": [],
   "source": [
    "%%R -i cell_identity_list_clean,Uhlitz_scANVI_noTC_color_list_after -w 1200 -h 500 -r 200\n",
    "\n",
    "# Fig 4b\n",
    "# cell type differences in genomically normal vs normal samples\n",
    "suppressMessages(library(tidyverse))\n",
    "\n",
    "\n",
    "\n",
    "df = cell_identity_list_clean %>%\n",
    "filter(cell_identity %in% c('genomically_normal', 'normal_sample')) %>%\n",
    "group_by(cell_identity, Uhlitz_scANVI_noTC) %>%\n",
    "mutate(sum=n()) %>%\n",
    "distinct(cell_identity, Uhlitz_scANVI_noTC, sum) \n",
    "\n",
    "\n",
    "df$Uhlitz_scANVI_noTC = factor(df$Uhlitz_scANVI_noTC, rev(levels(df$Uhlitz_scANVI_noTC)))\n",
    "\n",
    "p = df %>% \n",
    "ggplot(aes(x = sum, y = cell_identity, fill = Uhlitz_scANVI_noTC)) +\n",
    "geom_col(width = 0.8, position = 'fill') +\n",
    "theme_void() + \n",
    "theme(axis.title.y = element_text(angle = 90)) +\n",
    "scale_fill_manual(values = rev(Uhlitz_scANVI_noTC_color_list_after),name = 'Epithelial cell type') +\n",
    "labs(x = '\\nProportion\\n', \n",
    "     y = 'Cell identity\\n') +\n",
    "guides(fill=guide_legend(ncol=2)) +\n",
    "scale_x_continuous(n.breaks = 3) +\n",
    "plot_theme_font_size(8) \n",
    "\n",
    "print(p)\n",
    "\n",
    "ggsave(file=\"GN_NN_cell_type_bar.svg\", width = 15, height = 4, units = \"cm\", dpi = 300)"
   ]
  },
  {
   "cell_type": "markdown",
   "id": "49d9edd6",
   "metadata": {},
   "source": [
    "%%R -i cell_identity_list -w 1800 -h 1200 -r 200\n",
    "\n",
    "suppressMessages(library(tidyverse))\n",
    "suppressMessages(library('cowplot'))\n",
    "\n",
    "plot_theme =  theme(title = element_text(size = 12),\n",
    "                   axis.title = element_text(size = 12),\n",
    "                   axis.text = element_text(size = 10),\n",
    "                   legend.title =  element_text(size = 8),\n",
    "                   text = element_text(size = 8),\n",
    "                   plot.margin = margin(0,0,0,0,\"cm\"),\n",
    "                   strip.text.x = element_text(size = 12)) \n",
    "\n",
    "table(cell_identity_list[c('cell_identity', 'Uhlitz_scANVI')]) %>%\n",
    "as.data.frame() %>%\n",
    "group_by(Uhlitz_scANVI) %>%\n",
    "mutate(Percentage = round(Freq/sum(Freq)*100,0),Sum = sum(Freq)) %>% \n",
    "group_by(cell_identity) %>% mutate(Percentage_sample = round(Freq/sum(Freq)*100,0),Sum_sample = sum(Freq)) %>%\n",
    "ggplot(aes(x = Uhlitz_scANVI, y = cell_identity)) + \n",
    "geom_tile(aes(fill = Percentage_sample), color = 'black') +\n",
    "geom_text(aes(label = paste0(Freq, '\\n', \n",
    "                             Percentage, '%\\n',\n",
    "                             Percentage_sample, '%'))) +\n",
    "scale_fill_gradient(low = \"grey95\", high = \"red\", name = '% per cell identity') +\n",
    "plot_theme + \n",
    "#coord_equal() +\n",
    "theme(plot.title = element_text(hjust = 0.5),\n",
    "      rect = element_blank(),\n",
    "      axis.ticks = element_blank(),\n",
    "      axis.text.x = element_text(angle = 90)) +\n",
    "#guides(fill = guide_legend(title = \"Count\")) +\n",
    "labs(title = '\\nNumber of cell in each group\\n',\n",
    "     x = 'Cell type (including TCs)',\n",
    "     y = 'Cell identity\\n')"
   ]
  },
  {
   "cell_type": "code",
   "execution_count": null,
   "id": "e8868e35",
   "metadata": {},
   "outputs": [],
   "source": [
    "%%R -i cell_identity_list,cell_type_list -w 1400 -h 800 -r 200\n",
    "\n",
    "# Fig 4c\n",
    "# Statistical testing of cell type differences in genomically normal vs normal samples\n",
    "\n",
    "df = cell_identity_list %>%\n",
    "filter(cell_identity %in% c('genomically_normal', 'normal_sample')) %>%\n",
    "filter(!patient %in% c('P08', 'P21', 'P26', 'P35') ) \n",
    "\n",
    "df$cell_identity = factor(df$cell_identity, levels = c('normal_sample', 'genomically_normal'))\n",
    "\n",
    "summary_model = list()\n",
    "summary_p = list()\n",
    "\n",
    "for(i in cell_type_list){\n",
    "    glmer_model = glmer(Uhlitz_scANVI == i ~ cell_identity + (1|patient), \n",
    "             family=\"binomial\", data = df)\n",
    "    summary_model[[i]] = summary(glmer_model)\n",
    "    summary_p[[i]] = data.frame('Uhlitz_scANVI' = i, \n",
    "           'p' = summary(glmer_model)$coefficients['cell_identitygenomically_normal','Pr(>|z|)'])\n",
    "}\n",
    "# boundary (singular) fit: see help('isSingular')\n",
    "# means random effects are very small\n",
    "\n",
    "glmer_p_stats = bind_rows(summary_p) %>% \n",
    "filter(!Uhlitz_scANVI %in% c('TC1','TC2','TC3','TC4')) %>%\n",
    "mutate(loc = seq(1,7,1), p = signif(p,2)) %>%\n",
    "mutate(star = case_when(p < 0.05 ~ '< 0.05'))\n",
    "\n",
    "print(glmer_p_stats)\n",
    "\n",
    "table(cell_identity_list[c('Uhlitz_scANVI', 'patient', 'cell_identity')]) %>%\n",
    "as.data.frame() %>%\n",
    "filter(cell_identity %in% c('genomically_normal', 'normal_sample')) %>%\n",
    "filter(!patient %in% c('P08', 'P21', 'P26', 'P35') ) %>%\n",
    "filter(!Uhlitz_scANVI %in% c('TC1','TC2','TC3','TC4')) %>%\n",
    "group_by(cell_identity, patient) %>% \n",
    "mutate(frac_sample = Freq/sum(Freq)) %>% \n",
    "ggplot(aes(x = Uhlitz_scANVI, y = frac_sample)) +\n",
    "geom_boxplot(outlier.color = 'white', aes(color = cell_identity)) +\n",
    "geom_point(position=position_jitterdodge(), aes(color = cell_identity), size = 1)+\n",
    "theme_bw() + \n",
    "theme(axis.text.x = element_text(angle = 90),\n",
    "      panel.grid = element_blank()) +\n",
    "labs(x = 'Epithelial cell types',\n",
    "     y = 'Fraction per sample\\n') +\n",
    "scale_color_manual(values = c('#1f77b4', '#808080'), name = 'Cell identity') +\n",
    "geom_bracket(aes(xmin = loc-0.25, xmax = loc+0.25, label = p), data = glmer_p_stats, \n",
    "             y.position = c(0.45, 0.4, 0.2, 0.4, 0.45, 0.55, 0.25), size = 0.2, label.size = 3) +\n",
    "ylim(0,0.65) +\n",
    "plot_theme_font_size(8) \n",
    "\n",
    "ggsave(file=\"GN_NN_cell_type_bar.svg\", width = 15, height = 4, units = \"cm\", dpi = 300)"
   ]
  },
  {
   "cell_type": "code",
   "execution_count": null,
   "id": "2c8cfd8b",
   "metadata": {},
   "outputs": [],
   "source": [
    "# Fig 4d\n",
    "# diffusion map\n",
    "\n",
    "fig = sc.pl.diffmap(adata_epi_noTC_cleanCI, color=['Uhlitz_scANVI_noTC'], \n",
    "               ncols=1, legend_loc='right margin', size = 2, title = 'Diffusion map dim 1 and 2',\n",
    "               frameon = False, return_fig=True)\n"
   ]
  },
  {
   "cell_type": "code",
   "execution_count": null,
   "id": "a7345277",
   "metadata": {},
   "outputs": [],
   "source": [
    "adata_epi_noTC_cleanCI.obs[['DC1', 'DC2', 'DC3', 'DC4']]= adata_epi_noTC_cleanCI.obsm['X_diffmap'][:,1:5].copy()"
   ]
  },
  {
   "cell_type": "code",
   "execution_count": null,
   "id": "7281067c",
   "metadata": {},
   "outputs": [],
   "source": [
    "order_start_with_tumour_noTC = [\n",
    " 'Tumour-like',\n",
    " 'Stem',\n",
    " 'Stem/TA',\n",
    " 'Immature Goblet',\n",
    " 'Goblet',\n",
    " 'Enterocyte progenitor',\n",
    " 'Enterocytes',\n",
    " 'Tuft']"
   ]
  },
  {
   "cell_type": "code",
   "execution_count": null,
   "id": "652ed4f0",
   "metadata": {},
   "outputs": [],
   "source": [
    "order_start_with_stem_noTC = ['Stem',\n",
    " 'Stem/TA',\n",
    " 'Immature Goblet',\n",
    " 'Goblet',\n",
    " 'Enterocyte progenitor',\n",
    " 'Enterocytes',\n",
    " 'Tuft']"
   ]
  },
  {
   "cell_type": "code",
   "execution_count": null,
   "id": "917af29f",
   "metadata": {},
   "outputs": [],
   "source": [
    "with plt.rc_context({'ytick.major.size':18, 'axes.titlesize':18}):\n",
    "    plt.figure(figsize = (8/2.54,5/2.54))\n",
    "\n",
    "    g = sns.JointGrid(data = adata_epi_noTC_cleanCI.obs, x = 'DC1', y = 'DC2', hue = 'Uhlitz_scANVI_noTC',\n",
    "                      hue_order=order_start_with_tumour_noTC,\n",
    "                      palette=[sample_color_map[key] for key in order_start_with_tumour_noTC],\n",
    "                      height = 9, ratio = 3)\n",
    "    g.plot_joint(sns.scatterplot, s = 2, edgecolor = None)\n",
    "    g.plot_marginals(sns.histplot, kde = False, binwidth=0.001, edgecolor = 'black', linewidth = 0.3, alpha =1)\n",
    "\n",
    "    sns.move_legend(g.ax_joint, \"upper left\", bbox_to_anchor=(1.5, 1), title = 'Epithelial cell type', \n",
    "                    frameon=False, title_fontsize = 14)\n",
    "\n",
    "    #g.ax_joint.legend_.remove()\n",
    ";"
   ]
  },
  {
   "cell_type": "code",
   "execution_count": null,
   "id": "2dd26a53",
   "metadata": {},
   "outputs": [],
   "source": [
    "adata_epi_noTC_cleanCI[adata_epi_noTC_cleanCI.obs['cell_identity'] == 'genomically_normal'].obs['DC2'].min()"
   ]
  },
  {
   "cell_type": "code",
   "execution_count": null,
   "id": "1b6b0048",
   "metadata": {},
   "outputs": [],
   "source": [
    "adata_epi_noTC_cleanCI[adata_epi_noTC_cleanCI.obs['cell_identity'] == 'genomically_normal'].obs['DC2'].max()"
   ]
  },
  {
   "cell_type": "markdown",
   "id": "bd4f90e4",
   "metadata": {},
   "source": [
    "adata_epi_noTC_cleanCI[(adata_epi_noTC_cleanCI.obs['cell_identity'] == 'normal_sample') & \n",
    "         (adata_epi_noTC_cleanCI.obs['DC2'] < -0.006)].obs[['sample', 'Uhlitz_scANVI_noTC']]\n",
    "#use in CellChat obj"
   ]
  },
  {
   "cell_type": "code",
   "execution_count": null,
   "id": "6744ee69",
   "metadata": {},
   "outputs": [],
   "source": [
    "np.arange(-0.007,0.012,0.001)"
   ]
  },
  {
   "cell_type": "code",
   "execution_count": null,
   "id": "28c3cf03",
   "metadata": {},
   "outputs": [],
   "source": [
    "with plt.rc_context({'ytick.major.size':16, 'axes.titlesize':18}):\n",
    "    plt.figure(figsize = (8,5))\n",
    "    ax = sns.histplot(adata_epi_noTC_cleanCI[adata_epi_noTC_cleanCI.obs['cell_identity'] == 'genomically_normal'].obs, \n",
    "                      x = 'DC2', hue = 'Uhlitz_scANVI_noTC', binwidth=0.001, stat = 'count',\n",
    "                      legend='right', multiple=\"stack\", \n",
    "                      palette=[sample_color_map[key] for key in order_start_with_stem_noTC],\n",
    "                      hue_order=order_start_with_stem_noTC, edgecolor = 'black')\n",
    "    sns.move_legend(ax, \"upper right\", bbox_to_anchor=(1.4, 1.0), title='Cell type', frameon=False)\n",
    "    plt.title('Diffusion map dim 2 distribution of\\ngenomically normal cells\\n')\n",
    "    plt.ylabel('Normalised count')\n",
    "\n",
    "# Dig out how many cells per bin\n",
    "# can only use with stack due to normalised count if use multiple = fill\n",
    "ary = []\n",
    "\n",
    "print(len(ax.containers))\n",
    "\n",
    "for i in ax.containers:\n",
    "    ary = np.append(ary,i.datavalues)\n",
    "\n",
    "\n",
    "number_cell_per_bin = [str(int(sum(x))) for x in zip(*ary.reshape(7,18))]\n",
    "print(number_cell_per_bin)"
   ]
  },
  {
   "cell_type": "code",
   "execution_count": null,
   "id": "b10aaed6",
   "metadata": {},
   "outputs": [],
   "source": [
    "# Fig 4e\n",
    "# DC2 of genomically normal and normal cells\n",
    "with plt.rc_context({'ytick.major.size':16, 'axes.titlesize':18}):\n",
    "    plt.figure(figsize = (8,5))\n",
    "    ax = sns.histplot(adata_epi_noTC_cleanCI[adata_epi_noTC_cleanCI.obs['cell_identity'] == 'genomically_normal'].obs, \n",
    "                      x = 'DC2', hue = 'Uhlitz_scANVI_noTC', binwidth=0.001, stat = 'count',\n",
    "                      legend='right', multiple=\"fill\", \n",
    "                      palette=[sample_color_map[key] for key in order_start_with_stem_noTC],\n",
    "                      hue_order=order_start_with_stem_noTC, edgecolor = 'black')\n",
    "    sns.move_legend(ax, \"upper right\", bbox_to_anchor=(1.45, 1.0), title='Epithelial cell type', frameon=False,\n",
    "                   title_fontsize = 15)\n",
    "    #plt.title('Diffusion map dim 2 distribution of\\ngenomically normal cells\\n')\n",
    "    plt.ylabel('Normalised count', size = 15)\n",
    "    plt.xlabel('Diffusion map dimension 2', size = 15)\n",
    "    \n",
    "    #x = np.arange(-0.0061,0.018,0.00101)\n",
    "    #y = [1.05]*18\n",
    "    #for i, text in enumerate(number_cell_per_bin):\n",
    "    #    ax.text(x[i], y[i], text, fontsize=10, ha = 'right',va = 'center')\n",
    "    "
   ]
  },
  {
   "cell_type": "code",
   "execution_count": null,
   "id": "70483c8e",
   "metadata": {},
   "outputs": [],
   "source": [
    "adata_epi_noTC_cleanCI[adata_epi_noTC_cleanCI.obs['sample_origin'] == '\\nnormal\\nsample\\n'].obs['DC2'].min()"
   ]
  },
  {
   "cell_type": "code",
   "execution_count": null,
   "id": "d44fd41c",
   "metadata": {},
   "outputs": [],
   "source": [
    "adata_epi_noTC_cleanCI[adata_epi_noTC_cleanCI.obs['sample_origin'] == '\\nnormal\\nsample\\n'].obs['DC2'].max()"
   ]
  },
  {
   "cell_type": "code",
   "execution_count": null,
   "id": "b3dbad2e",
   "metadata": {},
   "outputs": [],
   "source": [
    "with plt.rc_context({'ytick.major.size':16, 'axes.titlesize':18}):\n",
    "    plt.figure(figsize = (8,5))\n",
    "    ax = sns.histplot(adata_epi_noTC_cleanCI[adata_epi_noTC_cleanCI.obs['sample_origin'] == '\\nnormal\\nsample\\n'].obs, \n",
    "                      x = 'DC2', hue = 'Uhlitz_scANVI_noTC', binwidth=0.001, stat = 'count',\n",
    "                      legend='right', multiple=\"stack\", \n",
    "                      palette=[sample_color_map[key] for key in order_start_with_stem_noTC],\n",
    "                      hue_order=order_start_with_stem_noTC, edgecolor = 'black')\n",
    "    sns.move_legend(ax, \"upper right\", bbox_to_anchor=(1.45, 1.0), title='Cell type', frameon=False)\n",
    "    plt.title('Diffusion map dim 2 distribution of\\ncells from normal samples\\n')\n",
    "    plt.ylabel('Normalised count')\n",
    "    \n",
    "ary = []\n",
    "\n",
    "print(len(ax.containers))\n",
    "for i in ax.containers:\n",
    "    ary = np.append(ary,i.datavalues)\n",
    "    \n",
    "number_cell_per_bin = [str(int(sum(x))) for x in zip(*ary.reshape(7,19))] \n",
    "print(number_cell_per_bin)"
   ]
  },
  {
   "cell_type": "code",
   "execution_count": null,
   "id": "2ff548bd",
   "metadata": {},
   "outputs": [],
   "source": [
    "# Figure 4e\n",
    "with plt.rc_context({'ytick.major.size':16, 'axes.titlesize':18}):\n",
    "    plt.figure(figsize = (8,5))\n",
    "    ax = sns.histplot(adata_epi_noTC_cleanCI[adata_epi_noTC_cleanCI.obs['sample_origin'] == '\\nnormal\\nsample\\n'].obs, \n",
    "                      x = 'DC2', hue = 'Uhlitz_scANVI_noTC', binwidth=0.001, stat = 'count',\n",
    "                      legend='right', multiple=\"fill\", \n",
    "                      palette=[sample_color_map[key] for key in order_start_with_stem_noTC],\n",
    "                      hue_order=order_start_with_stem_noTC, edgecolor = 'black')\n",
    "    sns.move_legend(ax, \"upper right\", bbox_to_anchor=(1.45, 1.0), title='Epithelial cell type', frameon=False,\n",
    "                   title_fontsize = 15)\n",
    "    #plt.title('Diffusion map dim 2 distribution of\\ncells from normal samples\\n')\n",
    "    plt.ylabel('Normalised count', size = 15)\n",
    "    plt.xlabel('Diffusion map dimension 2', size = 15)\n",
    "\n",
    "    \n",
    "    #x = np.arange(-0.0068,0.013,0.001)\n",
    "    #y = [1.04]*19\n",
    "    #for i, text in enumerate(number_cell_per_bin):\n",
    "    #    ax.text(x[i], y[i], text, fontsize=8, ha = 'center',va = 'center')\n",
    "    "
   ]
  },
  {
   "cell_type": "code",
   "execution_count": null,
   "id": "920fe0e3",
   "metadata": {},
   "outputs": [],
   "source": [
    "# Figure \n",
    "fig = sc.pl.umap(adata_epi_noTC_cleanCI, color=['ct_pseudotime'], \n",
    "               ncols=1, legend_loc='right margin', size = 2, title = '',\n",
    "               frameon = False, return_fig=True, color_map='viridis_r')\n"
   ]
  },
  {
   "cell_type": "code",
   "execution_count": null,
   "id": "bbfc1859",
   "metadata": {},
   "outputs": [],
   "source": [
    "fig = sc.pl.diffmap(adata_epi_noTC_cleanCI, color=['ct_pseudotime'], \n",
    "               ncols=1, legend_loc='right margin', size = 2, title = '',\n",
    "               frameon = False, return_fig=True, color_map='viridis_r')\n"
   ]
  },
  {
   "cell_type": "code",
   "execution_count": null,
   "id": "69f33717",
   "metadata": {},
   "outputs": [],
   "source": [
    "# cytoTRACE\n",
    "with plt.style.context('./plt_style'):\n",
    "    g=sns.FacetGrid(adata_epi_noTC_cleanCI.obs, \n",
    "                    col = 'Uhlitz_scANVI_noTC', hue = 'cell_identity', \n",
    "                    height = 4, aspect = 5/9, despine = False, sharey = True, \n",
    "                    #col_order = new_order_noTC, \n",
    "                    palette = ['#ff7f0e',\n",
    "                               '#1f77b4','#808080']) # a darker grey for normal\n",
    "\n",
    "    g.map_dataframe(sns.violinplot, x = 'cell_identity', y = 'ct_pseudotime', width = 0.7)\n",
    "    g.figure.subplots_adjust(wspace=0)\n",
    "    \n",
    "    g.set_xticklabels(rotation = 90)\n",
    "    g.set_titles('{col_name}\\n')\n",
    "    g.set(ylim=(0, 1))\n",
    "    g.set_xlabels('')\n",
    "    g.set_ylabels('Cytoscape pseudotime\\n', loc = 'top')\n",
    "    \n",
    "    g.fig.text(x = 0.5, y = -1, horizontalalignment = 'center', s = 'Cell identity', size = 24)\n",
    "    \n",
    "    axes = g.axes.flatten()\n",
    "    axes[6].set_title('Enterocyte\\nprogenitor\\n')\n",
    "    axes[7].set_title('Enterocyte\\n')\n",
    "    axes[4].set_title('Immature\\ngoblet\\n')\n",
    ";    "
   ]
  },
  {
   "cell_type": "markdown",
   "id": "faaf0963",
   "metadata": {},
   "source": [
    "#Fig4f\n",
    "#cytoTRACE without genomically tumour\n",
    "with plt.style.context('./plt_style'):\n",
    "    g=sns.FacetGrid(adata_epi_noTC_cleanCI[adata_epi_noTC_cleanCI.obs['cell_identity'] != 'genomically_tumour'].obs, \n",
    "                    col = 'Uhlitz_scANVI_noTC', hue = 'cell_identity', \n",
    "                    height = 4, aspect = 5/9, despine = False, sharey = True, \n",
    "                    #col_order = new_order_noTC, \n",
    "                    palette = [#'#ff7f0e',\n",
    "                               '#1f77b4','#808080']) # a darker grey for normal\n",
    "\n",
    "    g.map_dataframe(sns.violinplot, x = 'cell_identity', y = 'ct_pseudotime', width = 0.7)\n",
    "    g.figure.subplots_adjust(wspace=0)\n",
    "    \n",
    "    g.set_xticklabels(rotation = 90)\n",
    "    g.set_titles('{col_name}\\n')\n",
    "    g.set(ylim=(0, 1))\n",
    "    g.set_xlabels('')\n",
    "    g.set_ylabels('Cytoscape pseudotime\\n', loc = 'top')\n",
    "    \n",
    "    g.fig.text(x = 0.5, y = -1, horizontalalignment = 'center', s = 'Cell identity', size = 24)\n",
    "    \n",
    "    axes = g.axes.flatten()\n",
    "    axes[5].set_title('Enterocyte\\nprogenitor\\n')\n",
    "    axes[6].set_title('Enterocyte\\n')\n",
    "    axes[3].set_title('Immature\\ngoblet\\n')\n",
    ";    "
   ]
  },
  {
   "cell_type": "code",
   "execution_count": null,
   "id": "ab1366c8",
   "metadata": {},
   "outputs": [],
   "source": [
    "cyto_list = adata_epi_noTC_cleanCI.obs[['cell_identity', 'ct_pseudotime', 'Uhlitz_scANVI_noTC', 'louvain']]"
   ]
  },
  {
   "cell_type": "code",
   "execution_count": null,
   "id": "435679ae",
   "metadata": {},
   "outputs": [],
   "source": [
    "%%R -i cyto_list,Uhlitz_scANVI_noTC_color_list -w 3000 -h 900 -r 200\n",
    "\n",
    "p = cyto_list %>% \n",
    "mutate(Uhlitz_scANVI_noTC = dplyr::recode(Uhlitz_scANVI_noTC, 'Tumour-like' =  'Tumour- like')) %>%\n",
    "ggplot(aes(x = cell_identity, y = ct_pseudotime)) +\n",
    "geom_violin(aes(fill = Uhlitz_scANVI_noTC), width = 0.8) +\n",
    "geom_boxplot(width = 0.2) +\n",
    "#geom_jitter(shape = 16, position = position_jitter(0.3), size = 0.01) +\n",
    "theme_void()+\n",
    "plot_theme_font_size(15) +\n",
    "theme(axis.title.y = element_text(angle = 90),\n",
    "      axis.text.x = element_text(angle = 90),\n",
    "      axis.ticks.y = element_line('black', linewidth = 1),\n",
    "      axis.ticks.length=unit(0.1, \"cm\"),\n",
    "      axis.text.y = element_text(margin = margin(t = 0, r = 7, b = 0, l = 0)),\n",
    "      axis.line = element_line()) +\n",
    "scale_fill_manual(values = Uhlitz_scANVI_noTC_color_list, name = 'Epithelial cell type') +\n",
    "facet_grid(cols = vars(Uhlitz_scANVI_noTC), space = 'free', scale = 'free', \n",
    "          labeller = label_wrap_gen(width = 10)) + \n",
    "labs(x = 'Cell identity',\n",
    "     y = 'Cytotrace pseudotime\\n') +\n",
    "scale_y_continuous(n.breaks = 3)\n",
    "\n",
    "print(p)\n",
    "\n",
    "ggsave(file=\"ct_cell_type_violin.svg\", width = 38, height = 12, units = \"cm\", dpi = 300)\n"
   ]
  },
  {
   "cell_type": "code",
   "execution_count": null,
   "id": "02e28c40",
   "metadata": {},
   "outputs": [],
   "source": [
    "%%R -i cyto_list,order_start_with_stem_noTC\n",
    " \n",
    "for(i in order_start_with_stem_noTC){\n",
    "    df = cyto_list %>% \n",
    "    filter(Uhlitz_scANVI_noTC == i) %>%\n",
    "    filter(cell_identity != 'genomically_tumour')\n",
    "    \n",
    "    print(i)\n",
    "    print(pairwise.t.test(df$ct_pseudotime, df$cell_identity, p.adj='bonferroni'))\n",
    "   \n",
    "}\n"
   ]
  },
  {
   "cell_type": "code",
   "execution_count": null,
   "id": "d3388e1a",
   "metadata": {},
   "outputs": [],
   "source": [
    "%%R -i cyto_list,order_start_with_stem_noTC\n",
    "\n",
    " \n",
    "for(i in order_start_with_stem_noTC){\n",
    "    df = cyto_list %>%\n",
    "    filter(Uhlitz_scANVI_noTC == i) %>%\n",
    "    filter(cell_identity != 'genomically_tumour')\n",
    "    \n",
    "    print(i)\n",
    "    \n",
    "    print(t.test(ct_pseudotime ~ cell_identity, alternative = \"two.sided\", \n",
    "       data = df,\n",
    "       conf.level = .95, \n",
    "       paired = FALSE))\n",
    "}"
   ]
  },
  {
   "cell_type": "code",
   "execution_count": null,
   "id": "490f78f1",
   "metadata": {},
   "outputs": [],
   "source": [
    "%%R -i cyto_list\n",
    "\n",
    "# contrast in linear model\n",
    "library('emmeans')\n",
    "\n",
    "cyto_lm  = cyto_list %>% filter(cell_identity != 'genomically_tumour') %>%\n",
    "lm(ct_pseudotime ~ Uhlitz_scANVI_noTC + cell_identity, data = .)\n",
    "print(summary(cyto_lm))\n",
    "\n",
    "pairs(emmeans(cyto_lm, ~cell_identity))\n"
   ]
  },
  {
   "cell_type": "code",
   "execution_count": null,
   "id": "1eba5797",
   "metadata": {},
   "outputs": [],
   "source": [
    "%%R -i cyto_list\n",
    "\n",
    "\n",
    "for(i in order_start_with_stem_noTC){\n",
    "    df = cyto_list %>%\n",
    "    filter(Uhlitz_scANVI_noTC == i) %>%\n",
    "    filter(cell_identity != 'genomically_tumour')\n",
    "    \n",
    "    print(i)\n",
    "    \n",
    "    df$cell_identity = relevel(df$cell_identity, ref = 'normal_sample')\n",
    "    lm_Uhlitz = lm(ct_pseudotime ~ cell_identity, data = df)\n",
    "    print(summary(lm_Uhlitz))\n",
    "    \n",
    "    print(pairs(emmeans(lm_Uhlitz, ~ cell_identity), reverse = TRUE))\n",
    "}\n"
   ]
  },
  {
   "cell_type": "code",
   "execution_count": null,
   "id": "32568371",
   "metadata": {},
   "outputs": [],
   "source": [
    "%%R -i cyto_list\n",
    "\n",
    "# two sample wilcox\n",
    "library('rstatix')\n",
    "\n",
    "wilcox_test(data = cyto_list, ct_pseudotime ~ cell_identity, ref.group = 'genomically_normal') %>% as.data.frame()"
   ]
  },
  {
   "cell_type": "markdown",
   "id": "13e7393a",
   "metadata": {},
   "source": [
    "%%R -i cyto_list\n",
    "\n",
    "#two sample wilcox\n",
    "\n",
    "for(i in order_start_with_stem_noTC){\n",
    "    df = cyto_list %>%\n",
    "    filter(Uhlitz_scANVI_noTC == i) %>%\n",
    "    filter(cell_identity != 'genomically_tumour')\n",
    "    \n",
    "    print(i)\n",
    "    \n",
    "    print(wilcox.test(data = df, ct_pseudotime ~ cell_identity, paired = FALSE, alternative = \"two.sided\"))\n",
    "}\n"
   ]
  },
  {
   "cell_type": "code",
   "execution_count": null,
   "id": "c419b9ab",
   "metadata": {},
   "outputs": [],
   "source": [
    "%%R -i cyto_list\n",
    "\n",
    "# two sample wilcox with multiple testing correction\n",
    "\n",
    "for(i in order_start_with_stem_noTC){\n",
    "    \n",
    "    df = cyto_list %>%\n",
    "    filter(Uhlitz_scANVI_noTC == i) %>%\n",
    "    filter(cell_identity != 'genomically_tumour')\n",
    "    \n",
    "    print(i)\n",
    "    \n",
    "    print(pairwise.wilcox.test(df$ct_pseudotime, df$cell_identity, paired = FALSE, p.adjust.method = \"bonf\"))\n",
    "}\n"
   ]
  },
  {
   "cell_type": "code",
   "execution_count": null,
   "id": "fd257854",
   "metadata": {},
   "outputs": [],
   "source": [
    "# cluster pseudotime\n",
    "with plt.style.context('./plt_style'):\n",
    "    g=sns.FacetGrid(adata_epi_noTC_cleanCI.obs, \n",
    "                    col = 'louvain', hue = 'sample_origin', \n",
    "                    height = 4, aspect = 3/9, despine = False, sharey = True, \n",
    "                    #col_order = new_order_noTC, \n",
    "                    palette = ['#ff7f0e',\n",
    "                               #'#1f77b4',\n",
    "                               '#808080']) # a darker grey for normal\n",
    "\n",
    "    g.map_dataframe(sns.violinplot, x = 'sample_origin', y = 'ct_pseudotime', width = 0.7)\n",
    "    g.figure.subplots_adjust(wspace=0)\n",
    "    \n",
    "    g.set_xticklabels(rotation = 90)\n",
    "    g.set_titles('{col_name}\\n')\n",
    "    g.set(ylim=(0, 1))\n",
    "    g.set_xlabels('')\n",
    "    g.set_ylabels('Cytoscape pseudotime\\n', loc = 'top')\n",
    "    \n",
    "    g.fig.text(x = 0.5, y = -1, horizontalalignment = 'center', s = 'sample_origin', size = 24)\n",
    "    \n",
    "    axes = g.axes.flatten()\n",
    "    #axes[5].set_title('Enterocyte\\nprogenitor\\n')\n",
    "    #axes[6].set_title('Enterocyte\\n')\n",
    "    #axes[3].set_title('Immature\\ngoblet\\n')"
   ]
  },
  {
   "cell_type": "code",
   "execution_count": null,
   "id": "35bd54e7",
   "metadata": {},
   "outputs": [],
   "source": [
    "%%R -i cyto_list -w 2200 -h 900 -r 200\n",
    "\n",
    "suppressMessages(library(tidyverse))\n",
    "\n",
    "cyto_list %>% \n",
    "mutate(Uhlitz_scANVI_noTC = dplyr::recode(Uhlitz_scANVI_noTC, 'Tumour-like' =  'Tumour- like')) %>%\n",
    "ggplot(aes(x = cell_identity, y = ct_pseudotime)) +\n",
    "geom_violin(aes(fill = cell_identity)) +\n",
    "#geom_boxplot(width = 0.2) +\n",
    "#geom_jitter(shape = 16, position = position_jitter(0.3), size = 0.01) +\n",
    "theme_void()+\n",
    "theme(axis.title.y = element_text(angle = 90),\n",
    "      axis.text.x = element_text(angle = 90),\n",
    "      strip.text.x = element_text(size = 10)) +\n",
    "scale_fill_manual(values = c('#ff7f0e', \n",
    "                             '#1f77b4','#808080')) +\n",
    "facet_grid(cols = vars(louvain), space = 'free', scale = 'free', \n",
    "          labeller = label_wrap_gen(width = 10)) + \n",
    "labs(x = 'Cell identity',\n",
    "     y = 'Cytotrace pseudotime\\n') +\n",
    "plot_theme_font_size(15)\n"
   ]
  },
  {
   "cell_type": "code",
   "execution_count": null,
   "id": "58f0d695",
   "metadata": {},
   "outputs": [],
   "source": [
    "%%R -i cyto_list,Uhlitz_scANVI_noTC_color_list -w 2000 -h 800 -r 200\n",
    "\n",
    "cyto_list %>% \n",
    "filter(louvain %in% c('9')) %>%\n",
    "mutate(Uhlitz_scANVI_noTC = dplyr::recode(Uhlitz_scANVI_noTC, 'Tumour-like' =  'Tumour- like')) %>%\n",
    "ggplot(aes(x = cell_identity, y = ct_pseudotime)) +\n",
    "geom_violin(aes(fill = Uhlitz_scANVI_noTC)) +\n",
    "theme_void()+\n",
    "plot_theme_font_size(15) +\n",
    "theme(axis.title.y = element_text(angle = 90),\n",
    "      axis.text.x = element_text(angle = 90),\n",
    "      strip.text.x = element_text(size = 10),\n",
    "      axis.line = element_line(),\n",
    "      axis.ticks = element_line()) +\n",
    "scale_fill_manual(values = c('#AA0000',\n",
    " '#00CCFF',\n",
    " '#0072b1', '#990099','#999900',\n",
    " '#336600')) +\n",
    "facet_grid(cols = vars(Uhlitz_scANVI_noTC),\n",
    "          labeller = label_wrap_gen(width = 10)) + \n",
    "labs(x = 'Cell identity',\n",
    "     y = 'Cytotrace pseudotime\\n') \n"
   ]
  },
  {
   "cell_type": "code",
   "execution_count": null,
   "id": "e0b6efe0",
   "metadata": {},
   "outputs": [],
   "source": [
    "%%R -i cyto_list,Uhlitz_scANVI_noTC_color_list -w 2000 -h 800 -r 200\n",
    "\n",
    "\n",
    "cyto_list %>% \n",
    "filter(Uhlitz_scANVI_noTC == 'Stem') %>%\n",
    "ggplot(aes(x = cell_identity, y = ct_pseudotime)) +\n",
    "geom_violin(aes(fill = louvain)) +\n",
    "theme_void()+\n",
    "plot_theme_font_size(15) +\n",
    "theme(axis.title.y = element_text(angle = 90),\n",
    "      axis.text.x = element_text(angle = 90),\n",
    "      strip.text.x = element_text(size = 10),\n",
    "      axis.line = element_line(),\n",
    "      axis.ticks = element_line(),\n",
    "      panel.grid.major.y =  element_line(color = 'grey', size = 0.25)) +\n",
    "facet_grid(cols = vars(louvain),\n",
    "          labeller = label_wrap_gen(width = 10)) + \n",
    "labs(x = 'Cell identity',\n",
    "     y = 'Cytotrace pseudotime\\n') +\n",
    "ylim(0,1)\n"
   ]
  },
  {
   "cell_type": "code",
   "execution_count": null,
   "id": "a7fbf7c0",
   "metadata": {},
   "outputs": [],
   "source": [
    "adata_epi_noTC_cleanCI[adata_epi_noTC_cleanCI.obs['Uhlitz_scANVI_noTC'] == 'Stem'].obs['louvain'].value_counts().sort_index()"
   ]
  },
  {
   "cell_type": "code",
   "execution_count": null,
   "id": "a18df884",
   "metadata": {},
   "outputs": [],
   "source": [
    "%%R -i cyto_list,Uhlitz_scANVI_noTC_color_list -w 3000 -h 1600 -r 200\n",
    "\n",
    "# clusters that have some Stem and Stem/TA\n",
    "suppressMessages(library(tidyverse))\n",
    "\n",
    "\n",
    "cyto_list %>% \n",
    "mutate(Uhlitz_scANVI_noTC = dplyr::recode(Uhlitz_scANVI_noTC, 'Tumour-like' =  'Tumour- like')) %>%\n",
    "ggplot(aes(x = cell_identity, y = ct_pseudotime)) +\n",
    "geom_violin(aes(fill = Uhlitz_scANVI_noTC)) +\n",
    "#geom_boxplot(width = 0.2) +\n",
    "#geom_jitter(shape = 16, position = position_jitter(0.3), size = 0.01) +\n",
    "theme_void()+\n",
    "plot_theme_font_size(15) +\n",
    "theme(axis.title.y = element_text(angle = 90),\n",
    "      axis.text.x = element_text(angle = 90),\n",
    "      strip.text = element_text(size = 10),\n",
    "      axis.line = element_line(),\n",
    "      axis.ticks = element_line(), \n",
    "      panel.border = element_rect(color = 'black', fill = NA, size = 0.5), \n",
    "      panel.grid.major.y = element_line(color = 'grey', size = 0.25)) +\n",
    "scale_fill_manual(values = Uhlitz_scANVI_noTC_color_list) +\n",
    "facet_grid(cols = vars(louvain), rows = vars(Uhlitz_scANVI_noTC),\n",
    "          labeller = label_wrap_gen(width = 10)) + \n",
    "labs(x = '\\nCell identity',\n",
    "     y = 'Cytotrace pseudotime\\n') \n"
   ]
  },
  {
   "cell_type": "markdown",
   "id": "7f683236",
   "metadata": {},
   "source": [
    "#### export table for Markus"
   ]
  },
  {
   "cell_type": "markdown",
   "id": "4c24680a",
   "metadata": {},
   "source": [
    "table_for_Markus = adata_epi.obs[['sample', 'sample_origin', 'filter_dp', 'iCMS_scANVI', 'inferCNV_result', 'scitcem_call', \n",
    "                                  'scitcem_p', 'numbat', 'p_cnv', 'cell_identity', 'Uhlitz_scANVI']]"
   ]
  },
  {
   "cell_type": "markdown",
   "id": "ec1e8b55",
   "metadata": {},
   "source": [
    "table_for_Markus['sample_origin'].cat.rename_categories({'\\nnormal\\nsample\\n':'normal_sample', \n",
    "                                                     'tumour\\nsample':'tumour_sample'}, inplace =True)"
   ]
  },
  {
   "cell_type": "markdown",
   "id": "7a315719",
   "metadata": {},
   "source": [
    "table_for_Markus['iCMS_scANVI'].cat.rename_categories({'iCMS2\\n(tumour sample)':'iCMS2 (tumour sample)', \n",
    "                                                      'iCMS3\\n(tumour sample)':'iCMS3 (tumour sample)',\n",
    "                                                       'normal\\n(tumour sample)':'normal (tumour sample)'}, \n",
    "                                                      inplace =True)"
   ]
  },
  {
   "cell_type": "markdown",
   "id": "0bbf6b42",
   "metadata": {},
   "source": [
    "table_for_Markus['inferCNV_result'].cat.rename_categories({'CNA\\n(tumour sample)':'CNA (tumour sample)', \n",
    "                                                        'CNN\\n(tumour sample)':'CNN (tumour sample)'}, \n",
    "                                                          inplace =True)"
   ]
  },
  {
   "cell_type": "markdown",
   "id": "5af768ad",
   "metadata": {},
   "source": [
    "table_for_Markus['scitcem_call'].cat.rename_categories({'tumour\\n(tumour sample)':'tumour (tumour sample)', \n",
    "                                                        'normal\\n(tumour sample)':'normal (tumour sample)'}, \n",
    "                                                          inplace =True)"
   ]
  },
  {
   "cell_type": "markdown",
   "id": "65c97c5b",
   "metadata": {},
   "source": [
    "table_for_Markus['numbat'].cat.rename_categories({'tumour\\n(tumour sample)':'tumour (tumour sample)', \n",
    "                                                        'normal\\n(tumour sample)':'normal (tumour sample)'}, \n",
    "                                                          inplace =True)"
   ]
  },
  {
   "cell_type": "markdown",
   "id": "7d1a516a",
   "metadata": {},
   "source": [
    "table_for_Markus.columns"
   ]
  },
  {
   "cell_type": "markdown",
   "id": "39b8734d",
   "metadata": {},
   "source": [
    "table_for_Markus.rename(columns={'iCMS_scANVI':'iCMS',\n",
    "                                 'inferCNV_result':'inferCNV',\n",
    "                                 'scitcem_call': 'Scitcem',\n",
    "                                 'scitcem_p':'Scitcem_p',\n",
    "                                 'numbat': 'Numbat',\n",
    "                                 'p_cnv': 'Numbat_p',\n",
    "                                 'cell_identity': 'Numbat_Scitcem_Resolved',\n",
    "                                 'filter_dp':'Total_SNV',\n",
    "                                 'Uhlitz_scANVI' : 'Cell_type'}, inplace=True)"
   ]
  },
  {
   "cell_type": "markdown",
   "id": "e0b11dc2",
   "metadata": {},
   "source": [
    "table_for_Markus.to_csv(Path(new_data_folder)/'202311_four_tools_result_and_Numbat_Scitcem_resolved_cell_identity.csv')"
   ]
  },
  {
   "cell_type": "markdown",
   "id": "2e963087",
   "metadata": {},
   "source": [
    "adata_all.obs = adata_all.obs.merge(adata_epi.obs['cell_identity'], left_index = True,\n",
    "                    right_index = True, how='left').set_axis(adata_all.obs.index)"
   ]
  },
  {
   "cell_type": "markdown",
   "id": "c89220df",
   "metadata": {},
   "source": [
    "adata_all.obs['cell_identity'] = adata_all.obs['cell_identity'].fillna('normal_sample')"
   ]
  },
  {
   "cell_type": "markdown",
   "id": "f87438b3",
   "metadata": {},
   "source": [
    "adata_all.obs['cell_identity'].value_counts(dropna=False)"
   ]
  },
  {
   "cell_type": "markdown",
   "id": "a126bd87",
   "metadata": {},
   "source": [
    "#another table\n",
    "allcell_table_for_Markus = adata_all.obs[['sample', 'sample_origin', 'celltype_1a', 'cell_type_level2', 'cell_identity']]"
   ]
  },
  {
   "cell_type": "markdown",
   "id": "f0ef326e",
   "metadata": {},
   "source": [
    "allcell_table_for_Markus.to_csv(Path(new_data_folder)/'202311_epi_imm_str_cell_type_and_cell_identity.csv')"
   ]
  },
  {
   "cell_type": "markdown",
   "id": "c11a4b86",
   "metadata": {},
   "source": [
    "### Figure 5"
   ]
  },
  {
   "cell_type": "code",
   "execution_count": null,
   "id": "76b0c275",
   "metadata": {},
   "outputs": [],
   "source": [
    "all_cell_list = adata_all_noTC_cleanCI.obs[['patient', 'sample_cap',\n",
    "                                            'celltype_1a','cell_type_level2', 'sample_origin']]"
   ]
  },
  {
   "cell_type": "code",
   "execution_count": null,
   "id": "c0cb35ab",
   "metadata": {},
   "outputs": [],
   "source": [
    "%%R -i cell_identity_list_clean,all_cell_list,removed_TC_id -w 1000 -h 500 -r 200\n",
    "\n",
    "# Fig. 5a \n",
    "# proportion of each cell compartment (epi, imm, str) of each sample\n",
    "suppressMessages(library(tidyverse))\n",
    "\n",
    "\n",
    "df = all_cell_list %>%\n",
    "merge(cell_identity_list_clean[c('cell_identity', 'Uhlitz_scANVI_noTC')], by = 0, all.x = TRUE) %>%\n",
    "#filter(Row.names %notin% removed_TC_id) %>%\n",
    "mutate(cell_type_merge = coalesce(cell_identity, celltype_1a)) %>%\n",
    "group_by(sample_cap, cell_type_merge) %>%\n",
    "mutate(sum=n()) %>%\n",
    "group_by(sample_cap) %>%\n",
    "mutate(sum_sample = n()) %>%\n",
    "distinct(sample_cap,cell_type_merge, sum, sum_sample, patient, sample_origin)\n",
    "\n",
    "df$cell_type_merge = factor(df$cell_type_merge, levels = c('imm', 'str', 'normal_sample',\n",
    "                                                             'genomically_normal', \n",
    "                                                             'genomically_tumour'))\n",
    "\n",
    "p = df %>%\n",
    "ggplot(aes(x = sum, y = patient, fill = cell_type_merge)) +\n",
    "geom_col(width = 0.8, position = 'fill', stat = 'identity') +\n",
    "scale_fill_manual(values = c('#ED5D47',\n",
    "                            '#4EAC57',\n",
    "                             '#144FAC',\n",
    "                            '#1f77b4',\n",
    "                            '#ff7f0e'),\n",
    "                   name = 'Cell identity',\n",
    "                   labels = c('Immune',\n",
    "                             'Stromal', \n",
    "                              'Epithelial',\n",
    "                             'Genomically\\nnormal',\n",
    "                             'Genomically\\ntumour')) +\n",
    "theme_void() + \n",
    "plot_theme_font_size(8) +\n",
    "theme(axis.title.y = element_text(angle = 90),\n",
    "      panel.spacing = unit(10, \"pt\")) +\n",
    "labs(x = 'Proportion', \n",
    "     y = '') +\n",
    "scale_x_continuous(n.breaks = 3) +\n",
    "scale_y_discrete(limits = rev,\n",
    "                 labels = paste0(rev(unique(df$patient)))) +\n",
    "facet_grid(cols = vars(sample_origin), \n",
    "           labeller = as_labeller(c('normal' = 'Normal\\nsample', 'tumour' = 'Tumour\\nsample')))\n",
    "print(p)\n",
    "\n",
    "ggsave(file=\"cell_identity_and_TME_normal_tumour_sample.svg\", width = 8, height = 5, units = \"cm\", dpi = 300)\n"
   ]
  },
  {
   "cell_type": "code",
   "execution_count": null,
   "id": "c5b19e1b",
   "metadata": {},
   "outputs": [],
   "source": [
    "# Figure 5b pathway activity\n"
   ]
  },
  {
   "cell_type": "code",
   "execution_count": null,
   "id": "12f6c794",
   "metadata": {},
   "outputs": [],
   "source": [
    "# Figure 5 expressed receptors on epi > go to 20231122_ligand...notebook"
   ]
  },
  {
   "cell_type": "code",
   "execution_count": null,
   "id": "f880f365",
   "metadata": {},
   "outputs": [],
   "source": []
  },
  {
   "cell_type": "code",
   "execution_count": null,
   "id": "c62b3fe1",
   "metadata": {},
   "outputs": [],
   "source": []
  },
  {
   "cell_type": "code",
   "execution_count": null,
   "id": "a57ec944",
   "metadata": {},
   "outputs": [],
   "source": [
    "adata_all_noTC_cleanCI.obs['celltype_1a'].cat.categories"
   ]
  },
  {
   "cell_type": "code",
   "execution_count": null,
   "id": "1d040296",
   "metadata": {},
   "outputs": [],
   "source": [
    "adata_all_noTC_cleanCI[adata_all_noTC_cleanCI.obs['celltype_1a'] != 'epi'].obs['cell_type_level2'].cat.categories"
   ]
  },
  {
   "cell_type": "code",
   "execution_count": null,
   "id": "c832c65c",
   "metadata": {},
   "outputs": [],
   "source": [
    "sample_color_map_for_all = sample_color_map.copy()\n",
    "\n",
    "sample_color_map_for_all.update(dict(zip(adata_all_noTC_cleanCI[adata_all_noTC_cleanCI.obs['celltype_1a'] != 'epi'].obs['cell_type_level2'].cat.categories, \n",
    "         ['#7d8df0', '#335B8E', '#79c9c9', '#67C9FF',\n",
    "          '#CE9486', '#8f7022', '#cf7708', '#B5B867',\n",
    "          '#DEB058', '#899DA4','#1aa375', '#AA82A7', '#c44545'\n",
    "         ])))"
   ]
  },
  {
   "cell_type": "code",
   "execution_count": null,
   "id": "d08c3ba6",
   "metadata": {},
   "outputs": [],
   "source": [
    "sample_color_map_grey = dict(zip(adata_epi_noTC_cleanCI.obs['Uhlitz_scANVI_noTC'].cat.categories, \n",
    "                            ['#d3d3d3']*8))"
   ]
  },
  {
   "cell_type": "code",
   "execution_count": null,
   "id": "45862ef7",
   "metadata": {},
   "outputs": [],
   "source": [
    "sample_color_map_grey.update(dict(zip(adata_all_noTC_cleanCI[adata_all_noTC_cleanCI.obs['celltype_1a'] != 'epi'].obs['cell_type_level2'].cat.categories, \n",
    "         ['#7d8df0', '#335B8E', '#79c9c9', '#67C9FF',\n",
    "          '#CE9486', '#8f7022', '#cf7708', \n",
    "          '#B5B867',\n",
    "          '#DEB058', '#899DA4','#1aa375', '#AA82A7', '#c44545'\n",
    "         ])))"
   ]
  },
  {
   "cell_type": "code",
   "execution_count": null,
   "id": "9dfebef6",
   "metadata": {},
   "outputs": [],
   "source": [
    "sample_color_map_grey.update(dict(zip(['TC1', 'TC2', 'TC3', 'TC4'], ['#d3d3d3']*8)))"
   ]
  },
  {
   "cell_type": "code",
   "execution_count": null,
   "id": "1cda0524",
   "metadata": {},
   "outputs": [],
   "source": [
    "fig = sc.pl.umap(adata_all_noTC_cleanCI[adata_all_noTC_cleanCI.obs['celltype_1a'] != 'epi'], \n",
    "                 color=['sample_origin'], \n",
    "               ncols=1, legend_loc='right margin', size = 1, title = '',\n",
    "               frameon = False, return_fig=True, palette=['#808080','#ff7f0e'])\n"
   ]
  },
  {
   "cell_type": "code",
   "execution_count": null,
   "id": "7a321ab4",
   "metadata": {},
   "outputs": [],
   "source": [
    "fig = sc.pl.umap(adata_all_noTC_cleanCI, \n",
    "                 color=['cell_type_level2'], \n",
    "               ncols=1, legend_loc='right margin', size = 1, title = '',\n",
    "               frameon = False, return_fig=True, palette=sample_color_map_grey)\n"
   ]
  },
  {
   "cell_type": "code",
   "execution_count": null,
   "id": "9f77f3e6",
   "metadata": {},
   "outputs": [],
   "source": [
    "fig = sc.pl.umap(adata_all_noTC_cleanCI[adata_all_noTC_cleanCI.obs['celltype_1a'] != 'epi'], \n",
    "                 color=['cell_type_level2'], \n",
    "               ncols=1, legend_loc='right margin', size = 1, title = '',\n",
    "               frameon = False, return_fig=True, palette=sample_color_map_for_all)\n"
   ]
  },
  {
   "cell_type": "code",
   "execution_count": null,
   "id": "dd3b3b63",
   "metadata": {},
   "outputs": [],
   "source": [
    "fig = sc.pl.umap(adata_all_noTC_cleanCI[(adata_all_noTC_cleanCI.obs['celltype_1a'] != 'epi') & \n",
    "                        (adata_all_noTC_cleanCI.obs['sample_origin'] == 'tumour')], \n",
    "                 color=['cell_type_level2'], \n",
    "               ncols=1, legend_loc='right margin', size = 1, title = '',\n",
    "               frameon = False, return_fig=True, palette=sample_color_map_for_all)\n"
   ]
  },
  {
   "cell_type": "code",
   "execution_count": null,
   "id": "39d931f7",
   "metadata": {},
   "outputs": [],
   "source": [
    "# double check CAFs\n",
    "# CRC CAFA: MMP2, DCN, COL1A2\n",
    "# CRC CAFB: ACTA2, PDGFA, TAGLN\n",
    "\n",
    "fig = sc.pl.umap(adata_all_noTC_cleanCI, \n",
    "                 color=['EPCAM', 'CALD1', 'SMTN', 'PTPRC', 'PECAM1'],  # negetive marker: CALD1 is pericyte\n",
    "               ncols=3, legend_loc='right margin', size = 1, \n",
    "               frameon = False, return_fig=True, palette=sample_color_map_for_all)\n"
   ]
  },
  {
   "cell_type": "code",
   "execution_count": null,
   "id": "8b59539b",
   "metadata": {},
   "outputs": [],
   "source": [
    "fig = sc.pl.umap(adata_all_noTC_cleanCI, \n",
    "                 color=['MMP2', 'DCN', 'COL1A2','ACTA2', 'PDGFA', 'TAGLN',\n",
    "                      'FAP','MFAP5', 'COL11A1', 'TNC', 'PDPN', 'ITGA11', 'CSPG4', # also CAF\n",
    "                      'PDGFRA', 'PDGFRB', 'VIM'], # Fibroblast],  # negetive marker: CALD1 is pericyte\n",
    "               ncols=3, legend_loc='right margin', size = 1, \n",
    "               frameon = False, return_fig=True, palette=sample_color_map_for_all)\n"
   ]
  },
  {
   "cell_type": "markdown",
   "id": "371db476",
   "metadata": {},
   "source": [
    "### Other plots"
   ]
  },
  {
   "cell_type": "code",
   "execution_count": null,
   "id": "cc3550a9",
   "metadata": {},
   "outputs": [],
   "source": [
    "fig = sc.pl.umap(adata_all_noTC_cleanCI, \n",
    "                 color=['louvain'], \n",
    "               ncols=3, legend_loc='on data', size = 1, \n",
    "               frameon = False, return_fig=True)\n"
   ]
  },
  {
   "cell_type": "code",
   "execution_count": null,
   "id": "6ccd2732",
   "metadata": {},
   "outputs": [],
   "source": [
    "cluster_list = adata_epi_noTC_cleanCI.obs[['louvain', 'leiden', 'cell_identity', \n",
    "                                           'tumour_normal_normal', 'sample_origin',\n",
    "                                           'Uhlitz_scANVI_noTC','iCMS_scANVI', 'inferCNV_result', 'sample_cap']]"
   ]
  },
  {
   "cell_type": "code",
   "execution_count": null,
   "id": "e35c74a3",
   "metadata": {},
   "outputs": [],
   "source": [
    "%%R\n",
    "\n",
    "cluster_list %>%\n",
    "filter(cell_identity == 'genomically_normal') %>%\n",
    "group_by(sample_cap) %>%\n",
    "mutate(n_sample = n()) %>%\n",
    "group_by(sample_cap, louvain) %>%\n",
    "mutate(n_louvain_per_sample = n(), frac_louvain = n_louvain_per_sample/n_sample) %>%\n",
    "distinct(sample_cap, louvain, n_sample, n_louvain_per_sample, frac_louvain) %>%\n",
    "select(sample_cap, louvain, n_sample, n_louvain_per_sample, frac_louvain) %>%\n",
    "arrange(sample_cap, louvain) %>% \n",
    "filter(louvain == '9')"
   ]
  },
  {
   "cell_type": "code",
   "execution_count": null,
   "id": "928ac0da",
   "metadata": {},
   "outputs": [],
   "source": [
    "%%R -i cluster_list -w 900 -h 900 -r 200\n",
    "\n",
    "# proportion of each cell identity in each cluster\n",
    "\n",
    "df = cluster_list %>%\n",
    "group_by(louvain, cell_identity) %>%\n",
    "mutate(sum=n()) %>%\n",
    "group_by(louvain) %>%\n",
    "mutate(sum_louvain = n()) %>%\n",
    "distinct(louvain, cell_identity, sum, sum_louvain) %>%\n",
    "arrange(louvain)\n",
    "\n",
    "\n",
    "df$cell_identity = factor(df$cell_identity, levels = rev(c('normal_sample',\n",
    "                                                       'genomically_normal',\n",
    "                                                       'genomically_tumour')))\n",
    "\n",
    "Tumour_island_color = rev(ifelse(seq(0,19,1) %in% c(4,5,12,13,15,16,19), '#ff7f0e', '#808080'))\n",
    "\n",
    "p = df %>%\n",
    "ggplot(aes(x = sum, y = louvain, fill = cell_identity)) +\n",
    "geom_col(width = 0.8, position = 'fill', stat = 'identity') +\n",
    "scale_fill_manual(values = c('#ff7f0e',\n",
    "                               '#1f77b4','#808080'),\n",
    "                 labels = c('genomically\\ntumour', 'genomically\\nnormal', 'normal\\nsample'),\n",
    "                 name = 'Consensus call') +\n",
    "theme_void() + \n",
    "plot_theme_font_size(12) +\n",
    "theme(axis.title.y = element_text(angle = 90),\n",
    "     axis.text.y = element_text(colour = Tumour_island_color)) +\n",
    "labs(x = 'Proportion', \n",
    "     y = 'Louvain cluster\\n') +\n",
    "scale_x_continuous(n.breaks = 3) +\n",
    "scale_y_discrete(limits = rev,\n",
    "                 labels = paste0(rev(unique(df$louvain)),\n",
    "                                 ' (', rev(unique(df$sum_louvain)), ')'),\n",
    "                expand = expansion(add = c(0, 1)))\n",
    "\n",
    "print(p)\n",
    "\n",
    "ggsave(file=\"louvain_cell_identity_bar.svg\", width = 10, height = 10, units = \"cm\", dpi = 300)"
   ]
  },
  {
   "cell_type": "code",
   "execution_count": null,
   "id": "d0d98725",
   "metadata": {},
   "outputs": [],
   "source": [
    "%%R -w 500 -h 900 -r 200\n",
    "\n",
    "# proportion of each cell identity in each cluster\n",
    "\n",
    "df = cluster_list %>%\n",
    "group_by(louvain, tumour_normal_normal) %>%\n",
    "mutate(sum=n()) %>%\n",
    "group_by(louvain) %>%\n",
    "mutate(sum_louvain = n()) %>%\n",
    "distinct(louvain, tumour_normal_normal, sum, sum_louvain) %>%\n",
    "arrange(louvain)\n",
    "\n",
    "\n",
    "df$tumour_normal_normal = factor(df$tumour_normal_normal, levels = rev(c('normal_sample',\n",
    "                                                       'genomically_normal',\n",
    "                                                       'no confident assignment', \n",
    "                                                       'genomically_tumour')))\n",
    "\n",
    "\n",
    "Tumour_island_color = rev(ifelse(seq(0,19,1) %in% c(4,5,12,13,15,16,19), '#ff7f0e', '#808080'))\n",
    "\n",
    "p = df %>%\n",
    "ggplot(aes(x = sum, y = louvain, fill = tumour_normal_normal)) +\n",
    "geom_col(width = 0.8, position = 'fill', stat = 'identity', show.legend=FALSE) +\n",
    "scale_fill_manual(values = c('#ff7f0e', '#9b1ee3',\n",
    "                               '#1f77b4','#808080'),\n",
    "                  labels = c('genomically\\ntumour', 'no confident\\nassignment',\n",
    "                             'genomically\\nnormal', 'normal\\nsample'),\n",
    "                  name = 'Scitcem_Numbat') +\n",
    "theme_void() + \n",
    "plot_theme_font_size(12) +\n",
    "theme(axis.title.y = element_text(angle = 90),\n",
    "     axis.text.y = element_text(colour = Tumour_island_color)) +\n",
    "labs(x = 'Proportion', \n",
    "     y = '') +\n",
    "scale_x_continuous(n.breaks = 3) +\n",
    "scale_y_discrete(limits = rev,\n",
    "                 labels = paste0(rev(unique(df$louvain)),\n",
    "                                              ' (', rev(unique(df$sum_louvain)), ')'),\n",
    "                expand = expansion(add = c(0, 1)))\n",
    "\n",
    "print(p)\n",
    "\n",
    "ggsave(file=\"louvain_Scitcem_Numbat_bar.svg\", width = 9, height = 10, units = \"cm\", dpi = 300)"
   ]
  },
  {
   "cell_type": "code",
   "execution_count": null,
   "id": "704e27c2",
   "metadata": {},
   "outputs": [],
   "source": [
    "%%R -w 1200 -h 900 -r 200\n",
    "\n",
    "# proportion of each cell identity in each cluster\n",
    "suppressMessages(library(tidyverse))\n",
    "\n",
    "\n",
    "\n",
    "df = cluster_list %>%\n",
    "group_by(louvain, sample_origin) %>%\n",
    "mutate(sum=n()) %>%\n",
    "group_by(louvain) %>%\n",
    "mutate(sum_louvain = n()) %>%\n",
    "distinct(louvain, sample_origin, sum, sum_louvain) %>%\n",
    "arrange(louvain) %>%\n",
    "mutate(sample_origin = dplyr::recode(sample_origin,\n",
    "                                     '\\nnormal\\nsample\\n' = 'normal sample',\n",
    "                                     'tumour\\nsample' = 'tumour sample')) \n",
    "\n",
    "df$sample_origin = factor(df$sample_origin, levels = rev(c('normal sample','tumour sample')))\n",
    "\n",
    "\n",
    "Tumour_island_color = rev(ifelse(seq(0,19,1) %in% c(4,5,12,13,15,16,19), '#ff7f0e', '#808080'))\n",
    "\n",
    "p = df %>%\n",
    "ggplot(aes(x = sum, y = louvain, fill = sample_origin)) +\n",
    "geom_col(width = 0.8, position = 'fill', stat = 'identity') +\n",
    "scale_fill_manual(values = c('#ff7f0e', '#808080')) +\n",
    "theme_void() + \n",
    "plot_theme_font_size(12) +\n",
    "theme(axis.title.y = element_text(angle = 90),\n",
    "     axis.text.y = element_text(colour = Tumour_island_color)) +\n",
    "labs(x = 'Proportion', \n",
    "     y = '') +\n",
    "scale_x_continuous(n.breaks = 3) +\n",
    "scale_y_discrete(limits = rev,\n",
    "                 labels = paste0(rev(unique(df$louvain)),\n",
    "                                              ' (', rev(unique(df$sum_louvain)), ')'),\n",
    "                expand = expansion(add = c(0, 1)))\n",
    "\n",
    "print(p)\n",
    "\n",
    "ggsave(file=\"louvain_sample_origin_bar.svg\", width = 13, height = 10, units = \"cm\", dpi = 300)"
   ]
  },
  {
   "cell_type": "markdown",
   "id": "a8b92e5b",
   "metadata": {},
   "source": [
    "'#1f77b4', '#ff7f0e', '#279e68', '#d62728', '#aa40fc', '#8c564b',\n",
    "       '#e377c2', '#b5bd61', '#17becf', '#aec7e8', '#ffbb78', '#98df8a',\n",
    "       '#ff9896', '#c5b0d5', '#c49c94', '#f7b6d2', '#dbdb8d', '#9edae5',\n",
    "       '#ad494a', '#8c6d31'"
   ]
  },
  {
   "cell_type": "code",
   "execution_count": null,
   "id": "c8ac6281",
   "metadata": {},
   "outputs": [],
   "source": [
    "%%R -i cluster_list  -w 900 -h 700 -r 200\n",
    "\n",
    "# proportion of cell type in each cluster\n",
    "\n",
    "df = cluster_list %>%\n",
    "group_by(louvain, sample_cap) %>%\n",
    "mutate(sum=n()) %>%\n",
    "group_by(louvain) %>%\n",
    "mutate(sum_louvain = n()) %>%\n",
    "distinct(louvain, sample_origin, sum, sum_louvain, sample_cap) %>%\n",
    "arrange(louvain)\n",
    "\n",
    "\n",
    "#Tumour_island_color = rev(ifelse(seq(0,19,1) %in% c(1,4,5,12,13,15,16,19), '#ff7f0e', '#808080'))\n",
    "\n",
    "df %>%\n",
    "ggplot(aes(x = sum, y = louvain, fill = sample_cap)) +\n",
    "geom_col(width = 0.8, position = 'fill', stat = 'identity') +\n",
    "scale_fill_manual(values = c('#1f77b4', '#ff7f0e', '#279e68', '#d62728', '#aa40fc', #'#8c564b',\n",
    "       '#e377c2', #'#b5bd61', \n",
    "                             '#17becf', '#aec7e8', '#ffbb78', '#98df8a',\n",
    "       '#ff9896', '#c5b0d5', '#c49c94', '#f7b6d2', '#dbdb8d', '#9edae5',\n",
    "       '#ad494a', '#8c6d31'),\n",
    "                 name = 'sample') +\n",
    "theme_void() + \n",
    "plot_theme_font_size(10) +\n",
    "theme(axis.title.y = element_text(angle = 90),\n",
    "     axis.text.y = element_text(colour = Tumour_island_color)) +\n",
    "labs(x = 'Proportion', \n",
    "     y = '') +\n",
    "scale_y_discrete(limits = rev,\n",
    "                 labels = paste0(rev(unique(df$louvain)),\n",
    "                                              ' (', rev(unique(df$sum_louvain)), ')')) +\n",
    "scale_x_continuous(n.breaks = 3) +\n",
    "guides(fill=guide_legend(ncol=2))"
   ]
  },
  {
   "cell_type": "code",
   "execution_count": null,
   "id": "6e5377ed",
   "metadata": {},
   "outputs": [],
   "source": [
    "%%R -i cluster_list,Uhlitz_scANVI_noTC_color_list  -w 900 -h 700 -r 200\n",
    "\n",
    "# proportion of cell type in each cluster\n",
    "suppressMessages(library(tidyverse))\n",
    "\n",
    "\n",
    "\n",
    "df = cluster_list %>%\n",
    "group_by(louvain, Uhlitz_scANVI_noTC) %>%\n",
    "mutate(sum=n()) %>%\n",
    "group_by(louvain) %>%\n",
    "mutate(sum_louvain = n()) %>%\n",
    "distinct(louvain, sample_origin, sum, sum_louvain, Uhlitz_scANVI_noTC) %>%\n",
    "arrange(louvain)\n",
    "\n",
    "\n",
    "Tumour_island_color = rev(ifelse(seq(0,19,1) %in% c(4,5,12,13,15,16,19), '#ff7f0e', '#808080'))\n",
    "\n",
    "df %>%\n",
    "ggplot(aes(x = sum, y = louvain, fill = Uhlitz_scANVI_noTC)) +\n",
    "geom_col(width = 0.8, position = 'fill', stat = 'identity') +\n",
    "scale_fill_manual(values = Uhlitz_scANVI_noTC_color_list, name = 'Epithelial cell type') +\n",
    "theme_void() + \n",
    "plot_theme_font_size(12) +\n",
    "theme(axis.title.y = element_text(angle = 90),\n",
    "     axis.text.y = element_text(colour = Tumour_island_color)) +\n",
    "labs(x = 'Proportion', \n",
    "     y = 'Louvain cluster\\n') +\n",
    "scale_x_continuous(n.breaks = 3) +\n",
    "scale_y_discrete(limits = rev,\n",
    "                 labels = paste0(rev(unique(df$louvain)),\n",
    "                                              ' (', rev(unique(df$sum_louvain)), ')'))"
   ]
  },
  {
   "cell_type": "code",
   "execution_count": null,
   "id": "d21243fc",
   "metadata": {},
   "outputs": [],
   "source": [
    "# the TC1 cells in cluster 7\n",
    "adata_epi[(adata_epi.obs['louvain'] == '7') &(adata_epi.obs['Uhlitz_scANVI'] == 'TC1')].obs[['sample_cap']].value_counts().sort_index()"
   ]
  },
  {
   "cell_type": "code",
   "execution_count": null,
   "id": "bb2137de",
   "metadata": {},
   "outputs": [],
   "source": [
    "%%R -i cluster_list,Uhlitz_scANVI_noTC_color_list  -w 1200 -h 700 -r 200\n",
    "\n",
    "# proportion of cell type in each cluster\n",
    "\n",
    "df = cluster_list %>%\n",
    "group_by(louvain, Uhlitz_scANVI_noTC, sample_origin) %>%\n",
    "mutate(sum=n()) %>%\n",
    "group_by(louvain) %>%\n",
    "mutate(sum_louvain = n()) %>%\n",
    "group_by(sample_origin, louvain) %>%\n",
    "mutate(sum_sample_louvain = n()) %>%\n",
    "distinct(louvain, sample_origin, sum, sum_louvain, sum_sample_louvain, Uhlitz_scANVI_noTC) %>%\n",
    "mutate(sample_origin = dplyr::recode(sample_origin,\n",
    "                                     '\\nnormal\\nsample\\n' = 'normal sample',\n",
    "                                     'tumour\\nsample' = 'tumour sample')) %>%\n",
    "arrange(sample_origin,louvain)\n",
    "\n",
    "Tumour_island_color = rev(ifelse(seq(0,19,1) %in% c(1,4,5,12,13,15,16,19), '#ff7f0e', '#808080'))\n",
    "\n",
    "df %>%\n",
    "ggplot(aes(x = sum, y = louvain, fill = Uhlitz_scANVI_noTC)) +\n",
    "geom_col(width = 0.8, position = 'fill', stat = 'identity') +\n",
    "scale_fill_manual(values = Uhlitz_scANVI_noTC_color_list) +\n",
    "theme_void() + \n",
    "plot_theme_font_size(12) +\n",
    "theme(axis.title.y = element_text(angle = 90),\n",
    "      axis.text.y = element_text(colour = Tumour_island_color)) +\n",
    "labs(x = 'Proportion', \n",
    "     y = '') +\n",
    "scale_x_continuous(n.breaks = 3) +\n",
    "scale_y_discrete(limits = rev,\n",
    "                 labels = paste0(rev(unique(df$louvain)),\n",
    "                                 ' (', rev(c(unique(df$sum_sample_louvain)[1:19], '0')),'/',\n",
    "                                 rev(unique(df$sum_sample_louvain)[20:39]), ')')) +\n",
    "facet_grid(cols = vars(sample_origin),labeller = label_wrap_gen(width = 10)) +\n",
    "guides(fill=guide_legend(title=\"Epithelial cell type\"))\n"
   ]
  },
  {
   "cell_type": "code",
   "execution_count": null,
   "id": "697c04c1",
   "metadata": {},
   "outputs": [],
   "source": [
    "%%R -i cluster_list,Uhlitz_scANVI_noTC_color_list_after  -w 1200 -h 700 -r 200\n",
    "\n",
    "# proportion of cell type in each cluster\n",
    "suppressMessages(library(tidyverse))\n",
    "\n",
    "\n",
    "\n",
    "df = cluster_list %>%\n",
    "filter(Uhlitz_scANVI_noTC != 'Tumour-like') %>%\n",
    "mutate(louvain = droplevels(louvain),\n",
    "       Uhlitz_scANVI_noTC = droplevels(Uhlitz_scANVI_noTC)) %>%\n",
    "group_by(louvain, Uhlitz_scANVI_noTC, cell_identity) %>%\n",
    "mutate(sum=n()) %>%\n",
    "group_by(cell_identity, louvain) %>%\n",
    "mutate(sum_sample_louvain = n()) %>%\n",
    "mutate(cell_identity = factor(cell_identity, levels = c('normal_sample', 'genomically_normal'))) %>%\n",
    "distinct(louvain, cell_identity, sum, sum_sample_louvain, Uhlitz_scANVI_noTC) %>%\n",
    "arrange(cell_identity, louvain)\n",
    "\n",
    "Tumour_island_color = rev(ifelse(seq(0,18,1) %in% c(1,4,5,12,13,15,16), '#ff7f0e', '#808080'))\n",
    "\n",
    "df %>%\n",
    "ggplot(aes(x = sum, y = louvain, fill = Uhlitz_scANVI_noTC)) +\n",
    "geom_col(width = 0.8, position = 'fill', stat = 'identity') +\n",
    "scale_fill_manual(values = Uhlitz_scANVI_noTC_color_list_after) +\n",
    "theme_void() + \n",
    "plot_theme_font_size(12) +\n",
    "theme(axis.title.y = element_text(angle = 90),\n",
    "      axis.text.y = element_text(colour = Tumour_island_color)) +\n",
    "labs(x = 'Proportion', \n",
    "     y = 'Louvain cluster\\n') +\n",
    "scale_x_continuous(n.breaks = 3) +\n",
    "scale_y_discrete(limits = rev,\n",
    "                 labels = paste0(rev(unique(df[,c('louvain')])$louvain),\n",
    "                                 ' (', rev(c(unique(df[,c('louvain','sum_sample_louvain')])$sum_sample_louvain[1:19])),'/',\n",
    "                                 rev(c(unique(df[,c('louvain','sum_sample_louvain')])$sum_sample_louvain[20:34], '0',\n",
    "                                       unique(df[,c('louvain','sum_sample_louvain')])$sum_sample_louvain[35:37])), ')')) +\n",
    "facet_grid(cols = vars(cell_identity), \n",
    "          labeller = label_wrap_gen(width = 10))\n"
   ]
  },
  {
   "cell_type": "code",
   "execution_count": null,
   "id": "40a7dec3",
   "metadata": {},
   "outputs": [],
   "source": [
    "%%R -i cluster_list,Uhlitz_scANVI_noTC_color_list  -w 1200 -h 900 -r 200\n",
    "\n",
    "# proportion of cell type in each cluster\n",
    "suppressMessages(library(tidyverse))\n",
    "\n",
    "\n",
    "df = cluster_list %>%\n",
    "group_by(louvain, sample_cap, sample_origin) %>%\n",
    "mutate(sum=n()) %>%\n",
    "group_by(louvain) %>%\n",
    "mutate(sum_louvain = n()) %>%\n",
    "group_by(sample_cap, louvain) %>%\n",
    "mutate(sum_sample_louvain = n()) %>%\n",
    "distinct() %>%\n",
    "arrange(louvain,sample_cap)\n",
    "\n",
    "Tumour_island_color = rev(ifelse(seq(0,19,1) %in% c(4,5,12,13,15,16,19), '#ff7f0e', '#808080'))\n",
    "\n",
    "df %>%\n",
    "ggplot(aes(x = sum, y = louvain, fill = sample_cap)) +\n",
    "geom_col(width = 0.8, position = 'fill', stat = 'identity') +\n",
    "#scale_fill_manual(values = Uhlitz_scANVI_noTC_color_list) +\n",
    "theme_void() + \n",
    "plot_theme_font_size(12) +\n",
    "theme(axis.title.y = element_text(angle = 90),\n",
    "      axis.text.y = element_text(colour = Tumour_island_color)) +\n",
    "labs(x = 'Proportion', \n",
    "     y = 'Louvain cluster\\n') +\n",
    "scale_x_continuous(n.breaks = 3) +\n",
    "scale_y_discrete(limits = rev,\n",
    "                 labels = paste0(rev(unique(df$louvain)),\n",
    "                                 ' (', rev(c(unique(df$sum_sample_louvain)[1:19], '0')),'/',\n",
    "                                 rev(unique(df$sum_sample_louvain)[20:39]), ')')) +\n",
    "facet_grid(cols = vars(sample_origin)) +\n",
    "scale_fill_manual(values = c('#1f77b4', '#ff7f0e', '#279e68', '#d62728', '#aa40fc', #'#8c564b',\n",
    "       '#e377c2', #'#b5bd61', \n",
    "                             '#17becf', '#aec7e8', '#ffbb78', '#98df8a',\n",
    "       '#ff9896', '#c5b0d5', '#c49c94', '#f7b6d2', '#dbdb8d', '#9edae5',\n",
    "       '#ad494a', '#8c6d31')) +\n",
    "guides(fill=guide_legend(ncol=2))"
   ]
  },
  {
   "cell_type": "code",
   "execution_count": null,
   "id": "e99c8795",
   "metadata": {},
   "outputs": [],
   "source": [
    "%%R -i cluster_list -w 500 -h 900 -r 200\n",
    "\n",
    "# proportion of inferCNV in each cluster\n",
    "suppressMessages(library(tidyverse))\n",
    "\n",
    "\n",
    "df = cluster_list %>%\n",
    "group_by(louvain, inferCNV_result) %>%\n",
    "mutate(sum=n()) %>%\n",
    "group_by(louvain) %>%\n",
    "mutate(sum_louvain = n()) %>%\n",
    "distinct(louvain, inferCNV_result, sum, sum_louvain) %>%\n",
    "arrange(louvain)\n",
    "\n",
    "Tumour_island_color = rev(ifelse(seq(0,19,1) %in% c(4,5,12,13,15,16,19), '#ff7f0e', '#808080'))\n",
    "\n",
    "p = df %>%\n",
    "ggplot(aes(x = sum, y = louvain, fill = inferCNV_result)) +\n",
    "geom_col(width = 0.8, position = 'fill', stat = 'identity', show.legend = FALSE) +\n",
    "scale_fill_manual(values = c('#ff7f0e', '#1f77b4','#9b1ee3',\n",
    "                               '#808080'),\n",
    "                  labels = c('CNA', 'CNN',\n",
    "                             'NA', 'normal\\nsample'),\n",
    "                  name = 'inferCNV') +\n",
    "\n",
    "theme_void() + \n",
    "plot_theme_font_size(12) +\n",
    "theme(axis.title.y = element_text(angle = 90),\n",
    "     axis.text.y = element_text(colour = Tumour_island_color)) +\n",
    "labs(x = 'Proportion', \n",
    "     y = '') +\n",
    "scale_x_continuous(n.breaks = 3) +\n",
    "scale_y_discrete(limits = rev,\n",
    "                 labels = paste0(rev(unique(df$louvain)),\n",
    "                                              ' (', rev(unique(df$sum_louvain)), ')'),\n",
    "                expand = expansion(add = c(0, 1)))\n",
    "print(p)\n",
    "\n",
    "ggsave(file=\"louvain_inferCNV_bar.svg\", width = 9, height = 10, units = \"cm\", dpi = 300)\n"
   ]
  },
  {
   "cell_type": "code",
   "execution_count": null,
   "id": "8168dc20",
   "metadata": {},
   "outputs": [],
   "source": [
    "%%R -i cluster_list -w 500 -h 900 -r 200\n",
    "\n",
    "# proportion of inferCNV in each cluster\n",
    "suppressMessages(library(tidyverse))\n",
    "\n",
    "\n",
    "\n",
    "df = cluster_list %>%\n",
    "group_by(louvain, iCMS_scANVI) %>%\n",
    "mutate(sum=n()) %>%\n",
    "group_by(louvain) %>%\n",
    "mutate(sum_louvain = n()) %>%\n",
    "distinct(louvain, iCMS_scANVI, sum, sum_louvain) %>%\n",
    "arrange(louvain)\n",
    "\n",
    "Tumour_island_color = rev(ifelse(seq(0,19,1) %in% c(4,5,12,13,15,16,19), '#ff7f0e', '#808080'))\n",
    "\n",
    "p = df %>%\n",
    "ggplot(aes(x = sum, y = louvain, fill = iCMS_scANVI)) +\n",
    "geom_col(width = 0.8, position = 'fill', stat = 'identity', show.legend = FALSE) +\n",
    "scale_fill_manual(values = c('#FFB84C', '#E96479', '#1f77b4', '#808080')) +\n",
    "theme_void() + \n",
    "plot_theme_font_size(12) +\n",
    "theme(axis.title.y = element_text(angle = 90),\n",
    "     axis.text.y = element_text(colour = Tumour_island_color)) +\n",
    "labs(x = 'Proportion', \n",
    "     y = '') +\n",
    "scale_x_continuous(n.breaks = 3) +\n",
    "scale_y_discrete(limits = rev,\n",
    "                 labels = paste0(rev(unique(df$louvain)),\n",
    "                                              ' (', rev(unique(df$sum_louvain)), ')'),\n",
    "                expand = expansion(add = c(0, 1)))\n",
    "\n",
    "print(p)\n",
    "\n",
    "ggsave(file=\"louvain_iCMS_bar.svg\", width = 9, height = 10, units = \"cm\", dpi = 300)"
   ]
  },
  {
   "cell_type": "markdown",
   "id": "8d6424fc",
   "metadata": {},
   "source": [
    "### evaluation of clustering: ARI, NMI, homogeneity, completeness, silhouette\n"
   ]
  },
  {
   "cell_type": "code",
   "execution_count": null,
   "id": "733cb0f1",
   "metadata": {},
   "outputs": [],
   "source": [
    "ari_sample = adata_epi_noTC_cleanCI.obs['sample_origin'].copy()"
   ]
  },
  {
   "cell_type": "code",
   "execution_count": null,
   "id": "bdda46ae",
   "metadata": {},
   "outputs": [],
   "source": [
    "ari_ci = adata_epi_noTC_cleanCI.obs['cell_identity'].copy()\n",
    "ari_ci = ari_ci.astype('str').replace('genomically_normal', 'normal_sample') # only 2 labels: GT and NN"
   ]
  },
  {
   "cell_type": "code",
   "execution_count": null,
   "id": "a313ac2a",
   "metadata": {},
   "outputs": [],
   "source": [
    "ari_icms = adata_epi_noTC_cleanCI.obs['iCMS_scANVI'].copy()\n",
    "ari_icms = ari_icms.astype(str).replace('iCMS3\\n(tumour sample)', \n",
    "                             'iCMS2\\n(tumour sample)').replace('normal\\n(tumour sample)',\n",
    "                                                               'normal_sample')"
   ]
  },
  {
   "cell_type": "code",
   "execution_count": null,
   "id": "3d2cc604",
   "metadata": {},
   "outputs": [],
   "source": [
    "ari_infercnv = adata_epi_noTC_cleanCI.obs['inferCNV_result'].copy()\n",
    "ari_infercnv = ari_infercnv.astype(str).replace('failed_sample', \n",
    "                             'CNA\\n(tumour sample)').replace('CNN\\n(tumour sample)',\n",
    "                                                               'normal sample')"
   ]
  },
  {
   "cell_type": "code",
   "execution_count": null,
   "id": "c50b7113",
   "metadata": {},
   "outputs": [],
   "source": [
    "ari_scitcem = adata_epi_noTC_cleanCI.obs['scitcem_call'].copy()\n",
    "ari_scitcem = ari_scitcem.astype(str).replace('normal\\n(tumour sample)', \n",
    "                             'normal_sample')"
   ]
  },
  {
   "cell_type": "code",
   "execution_count": null,
   "id": "e9a8d704",
   "metadata": {},
   "outputs": [],
   "source": [
    "ari_numbat = adata_epi_noTC_cleanCI.obs['numbat'].copy()\n",
    "ari_numbat = ari_numbat.astype(str).replace('normal\\n(tumour sample)', \n",
    "                             'normal_sample')"
   ]
  },
  {
   "cell_type": "code",
   "execution_count": null,
   "id": "d552aa4b",
   "metadata": {},
   "outputs": [],
   "source": [
    "ARI_res = [adjusted_rand_score(labels_true = adata_epi_noTC_cleanCI.obs['louvain'], \n",
    "                              labels_pred = i)\n",
    "for i in [ari_sample, ari_infercnv, ari_icms, ari_scitcem, ari_numbat, ari_ci]]"
   ]
  },
  {
   "cell_type": "code",
   "execution_count": null,
   "id": "59f7265f",
   "metadata": {},
   "outputs": [],
   "source": [
    "ARI_res"
   ]
  },
  {
   "cell_type": "code",
   "execution_count": null,
   "id": "921d3045",
   "metadata": {},
   "outputs": [],
   "source": [
    "AMI_res = [adjusted_mutual_info_score(labels_true = adata_epi_noTC_cleanCI.obs['louvain'], \n",
    "                              labels_pred = i)\n",
    "for i in [ari_sample, ari_infercnv, ari_icms, ari_scitcem, ari_numbat, ari_ci]]"
   ]
  },
  {
   "cell_type": "code",
   "execution_count": null,
   "id": "e6d0d3e8",
   "metadata": {},
   "outputs": [],
   "source": [
    "AMI_res"
   ]
  },
  {
   "cell_type": "code",
   "execution_count": null,
   "id": "09614f49",
   "metadata": {},
   "outputs": [],
   "source": [
    "HCV_res = [homogeneity_completeness_v_measure(labels_true = adata_epi_noTC_cleanCI.obs['louvain'], \n",
    "                              labels_pred = i)\n",
    "for i in [ari_sample, ari_infercnv, ari_icms, ari_scitcem, ari_numbat, ari_ci]]\n",
    "#V is identical to normalized_mutual_info_score with the 'arithmetic' option for averaging."
   ]
  },
  {
   "cell_type": "code",
   "execution_count": null,
   "id": "07d10899",
   "metadata": {},
   "outputs": [],
   "source": [
    "S_pca_res = [silhouette_score(X = adata_epi_noTC_cleanCI.obsm['X_pca'], labels = i)\n",
    "for i in [ari_sample, ari_infercnv, ari_icms, ari_scitcem, ari_numbat, ari_ci]]"
   ]
  },
  {
   "cell_type": "code",
   "execution_count": null,
   "id": "1c0daed0",
   "metadata": {},
   "outputs": [],
   "source": [
    "S_pca_res"
   ]
  },
  {
   "cell_type": "code",
   "execution_count": null,
   "id": "20050595",
   "metadata": {},
   "outputs": [],
   "source": [
    "S_umap_res = [silhouette_score(X = adata_epi_noTC_cleanCI.obsm['X_umap'], labels = i)\n",
    "for i in [ari_sample, ari_infercnv, ari_icms, ari_scitcem, ari_numbat, ari_ci]]"
   ]
  },
  {
   "cell_type": "code",
   "execution_count": null,
   "id": "1def95c3",
   "metadata": {},
   "outputs": [],
   "source": [
    "S_umap_res"
   ]
  },
  {
   "cell_type": "code",
   "execution_count": null,
   "id": "78f56662",
   "metadata": {},
   "outputs": [],
   "source": [
    "HCV_res_reshape = np.concatenate(HCV_res).reshape(6,3).transpose()"
   ]
  },
  {
   "cell_type": "code",
   "execution_count": null,
   "id": "f8e723d2",
   "metadata": {},
   "outputs": [],
   "source": [
    "#long format\n",
    "cluster_eval_df = pd.DataFrame({'Label':['sample\\norigin', 'inferCNV', 'iCMS','Scitcem', 'Numbat','consensus\\ncall'],\n",
    "             'Adjusted Rand Index': ARI_res,\n",
    "             'Adjusted Mutual Information': AMI_res,\n",
    "             'Homogeneity': HCV_res_reshape[0],\n",
    "             'Completeness': HCV_res_reshape[1],\n",
    "             'Silhouette (PCA)':S_pca_res,\n",
    "             'Silhouette (UMAP)':S_umap_res}\n",
    "             )"
   ]
  },
  {
   "cell_type": "code",
   "execution_count": null,
   "id": "c061ec24",
   "metadata": {},
   "outputs": [],
   "source": [
    "cluster_eval_df_long = pd.melt(cluster_eval_df, 'Label', var_name='Metrics', value_name='Score')"
   ]
  },
  {
   "cell_type": "code",
   "execution_count": null,
   "id": "d7850a5a",
   "metadata": {},
   "outputs": [],
   "source": [
    "with plt.rc_context({'ytick.major.size':16, 'axes.titlesize':18}):\n",
    "    plt.figure(figsize = (7,5))\n",
    "\n",
    "    ax = sns.lineplot(data = cluster_eval_df_long[cluster_eval_df_long['Metrics'] == 'Homogeneity'], \n",
    "                      x = 'Label', y = 'Score', \n",
    "                      hue = 'Metrics', style = 'Metrics', \n",
    "                      markers=True, dashes=False, legend=None)\n",
    "    #sns.move_legend(ax, \"upper right\", bbox_to_anchor=(1.5, 1.0), \n",
    "    #                frameon=False)\n",
    "\n",
    ";"
   ]
  },
  {
   "cell_type": "code",
   "execution_count": null,
   "id": "ecd0ff6e",
   "metadata": {},
   "outputs": [],
   "source": [
    "with plt.rc_context({'ytick.major.size':16, 'axes.titlesize':18}):\n",
    "    plt.figure(figsize = (7,5))\n",
    "\n",
    "    sns.barplot(data = cluster_eval_df_long[cluster_eval_df_long['Metrics'] == 'Homogeneity'], \n",
    "                      x = 'Label', y = 'Score',\n",
    "                palette = ['#f765b6','#f57379','#f5d107', '#228b22', '#47a2ed', '#008080'])\n",
    "    plt.ylabel(\"Cluster homogeneity score\")\n",
    "    #sns.move_legend(ax, \"upper right\", bbox_to_anchor=(1.5, 1.0), \n",
    "    #                frameon=False)\n",
    "\n",
    ";"
   ]
  },
  {
   "cell_type": "markdown",
   "id": "16dcab04",
   "metadata": {},
   "source": [
    "### differences between normal vs tumour sample stem cells related louvain clusters"
   ]
  },
  {
   "cell_type": "code",
   "execution_count": null,
   "id": "f093cc20",
   "metadata": {},
   "outputs": [],
   "source": [
    "# where are the normal stem cells?\n",
    "adata_epi_noTC_cleanCI[adata_epi_noTC_cleanCI.obs['Uhlitz_scANVI'].isin(['Stem'])].obs[[ 'sample_origin','louvain',\n",
    "                                                              'Uhlitz_scANVI_noTC']].value_counts().sort_index()"
   ]
  },
  {
   "cell_type": "code",
   "execution_count": null,
   "id": "40a56864",
   "metadata": {},
   "outputs": [],
   "source": [
    "adata_epi_noTC_cleanCI[adata_epi_noTC_cleanCI.obs['Uhlitz_scANVI'].isin(['Stem/TA'])].obs[[ 'sample_origin','louvain',\n",
    "                                                              'Uhlitz_scANVI_noTC']].value_counts().sort_index()"
   ]
  },
  {
   "cell_type": "markdown",
   "id": "128237c2",
   "metadata": {},
   "source": [
    "### neighbor analysis"
   ]
  },
  {
   "cell_type": "code",
   "execution_count": null,
   "id": "d0523b87",
   "metadata": {},
   "outputs": [],
   "source": [
    "# neighbors\n",
    "adata_epi_noTC_cleanCI.obsp['connectivities'].toarray().shape"
   ]
  },
  {
   "cell_type": "markdown",
   "id": "f90ac1ed",
   "metadata": {},
   "source": [
    "aa=scipy.sparse.csr_matrix((ad.obs[col].iloc[ad.obsp['distances'].nonzero()[1]]==category, \n",
    "                            ad.obsp['distances'].nonzero()))\n",
    "aa.data[np.isnan(aa.data)]=0\n",
    "aa.eliminate_zeros()\n",
    "ad.obs['frac_neighbors']=aa.sum(1).A1/n_neighbors"
   ]
  },
  {
   "cell_type": "code",
   "execution_count": null,
   "id": "1b8f36e6",
   "metadata": {},
   "outputs": [],
   "source": [
    "# for each row, grab the col number, \n",
    "# map to cell identity > box plot cell identity vs percentage of tumour neighbors  \n",
    "neighbor_list = np.nonzero(adata_epi_noTC_cleanCI.obsp['connectivities'].toarray())"
   ]
  },
  {
   "cell_type": "code",
   "execution_count": null,
   "id": "80223783",
   "metadata": {},
   "outputs": [],
   "source": [
    "neighbor_df = pd.DataFrame(np.vstack(neighbor_list).T, columns=['cell', 'neighbor'])"
   ]
  },
  {
   "cell_type": "code",
   "execution_count": null,
   "id": "1b1d5529",
   "metadata": {},
   "outputs": [],
   "source": [
    "neighbor_df['cell_identity'] = [adata_epi_noTC_cleanCI.obs.iloc[id]['cell_identity'] \n",
    "                                for id in neighbor_df['cell']]"
   ]
  },
  {
   "cell_type": "code",
   "execution_count": null,
   "id": "906ee8b3",
   "metadata": {},
   "outputs": [],
   "source": [
    "neighbor_df['sample_origin'] = [adata_epi_noTC_cleanCI.obs.iloc[id]['sample_origin'] \n",
    "                                for id in neighbor_df['cell']]"
   ]
  },
  {
   "cell_type": "code",
   "execution_count": null,
   "id": "8e728ea1",
   "metadata": {},
   "outputs": [],
   "source": [
    "neighbor_df['patient'] = [adata_epi_noTC_cleanCI.obs.iloc[id]['patient'] \n",
    "                          for id in neighbor_df['cell']]"
   ]
  },
  {
   "cell_type": "code",
   "execution_count": null,
   "id": "5e4133eb",
   "metadata": {},
   "outputs": [],
   "source": [
    "neighbor_df['sample'] = [adata_epi_noTC_cleanCI.obs.iloc[id]['sample_cap'] \n",
    "                         for id in neighbor_df['cell']]"
   ]
  },
  {
   "cell_type": "code",
   "execution_count": null,
   "id": "76d94ecb",
   "metadata": {},
   "outputs": [],
   "source": [
    "neighbor_df['neighbor_identity'] = [1 \n",
    "                                    if adata_epi_noTC_cleanCI.obs.iloc[id]['cell_identity'] == 'genomically_tumour' else 0\n",
    "                                    for id in neighbor_df['neighbor']]"
   ]
  },
  {
   "cell_type": "code",
   "execution_count": null,
   "id": "f307b93e",
   "metadata": {},
   "outputs": [],
   "source": [
    "neighbor_df['neighbor_identity_2'] = [adata_epi_noTC_cleanCI.obs.iloc[id]['cell_identity'] \n",
    "                                      for id in neighbor_df['neighbor']]"
   ]
  },
  {
   "cell_type": "code",
   "execution_count": null,
   "id": "d473e747",
   "metadata": {},
   "outputs": [],
   "source": [
    "neighbor_df['neighbor_sample_origin'] = [adata_epi_noTC_cleanCI.obs.iloc[id]['sample_origin'] \n",
    "                                         for id in neighbor_df['neighbor']]"
   ]
  },
  {
   "cell_type": "code",
   "execution_count": null,
   "id": "3589f427",
   "metadata": {},
   "outputs": [],
   "source": [
    "neighbor_df['neighbor_patient'] = [adata_epi_noTC_cleanCI.obs.iloc[id]['patient'] \n",
    "                                   for id in neighbor_df['neighbor']]"
   ]
  },
  {
   "cell_type": "code",
   "execution_count": null,
   "id": "4e59e8f8",
   "metadata": {},
   "outputs": [],
   "source": [
    "neighbor_df['neighbor_sample'] = [adata_epi_noTC_cleanCI.obs.iloc[id]['sample_cap'] \n",
    "                                  for id in neighbor_df['neighbor']]"
   ]
  },
  {
   "cell_type": "code",
   "execution_count": null,
   "id": "40043e73",
   "metadata": {},
   "outputs": [],
   "source": [
    "neighbor_df['louvain'] = [adata_epi_noTC_cleanCI.obs.iloc[id]['louvain'] \n",
    "                                   for id in neighbor_df['cell']]"
   ]
  },
  {
   "cell_type": "code",
   "execution_count": null,
   "id": "cc0ece13",
   "metadata": {},
   "outputs": [],
   "source": [
    "neighbor_df['neighbor_louvain'] = [adata_epi_noTC_cleanCI.obs.iloc[id]['louvain'] \n",
    "                                   for id in neighbor_df['neighbor']]"
   ]
  },
  {
   "cell_type": "code",
   "execution_count": null,
   "id": "d5cae6f8",
   "metadata": {},
   "outputs": [],
   "source": [
    "neighbor_df_tumour_percentage = neighbor_df.groupby(['cell'])['neighbor_identity'].sum()/neighbor_df['cell'].value_counts().sort_index()"
   ]
  },
  {
   "cell_type": "code",
   "execution_count": null,
   "id": "fea71579",
   "metadata": {},
   "outputs": [],
   "source": [
    "neighbor_df_tumour_percentage = neighbor_df_tumour_percentage.to_frame('percent').reset_index(drop=True)"
   ]
  },
  {
   "cell_type": "code",
   "execution_count": null,
   "id": "58228a3c",
   "metadata": {},
   "outputs": [],
   "source": [
    "neighbor_df_tumour_percentage = neighbor_df_tumour_percentage.merge(pd.DataFrame(adata_epi_noTC_cleanCI.obs['cell_identity'].reset_index()),\n",
    "                                   left_index=True, right_index=True)"
   ]
  },
  {
   "cell_type": "code",
   "execution_count": null,
   "id": "bbb6bde3",
   "metadata": {},
   "outputs": [],
   "source": [
    "neighbor_df_tumour_percentage['percent'].hist()"
   ]
  },
  {
   "cell_type": "code",
   "execution_count": null,
   "id": "2fb29e93",
   "metadata": {},
   "outputs": [],
   "source": [
    "neighbor_df_tumour_percentage = neighbor_df_tumour_percentage[(neighbor_df_tumour_percentage['cell_identity'] != 'no confident assignment')]\n",
    "\n",
    "neighbor_df_tumour_percentage['cell_identity'] = neighbor_df_tumour_percentage['cell_identity'].cat.remove_unused_categories()\n"
   ]
  },
  {
   "cell_type": "code",
   "execution_count": null,
   "id": "363e55be",
   "metadata": {},
   "outputs": [],
   "source": [
    "ax = sns.boxplot(data = neighbor_df_tumour_percentage, \n",
    "                 x = 'cell_identity', y = 'percent', width = 0.4,\n",
    "            palette = ['#ff7f0e', #'#9b1ee3',\n",
    "                       '#1f77b4','#808080'], linewidth=1,\n",
    "                 flierprops={\"marker\": \"o\"}, fliersize= 2)\n",
    "#sns.stripplot(data = neighbor_df_tumour_percentage, x = 'cell_identity', y = 'percent',\n",
    "#            palette = ['#ff7f0e', '#9b1ee3','#1f77b4','#808080'], ax = ax, size=2)\n",
    "plt.xticks(rotation=90)\n",
    "plt.ylabel('Percentage of genomically tumour cells\\namong neighbors\\n')\n",
    "plt.xlabel('\\nCell identity')\n",
    ";\n"
   ]
  },
  {
   "cell_type": "code",
   "execution_count": null,
   "id": "5ded3fe6",
   "metadata": {},
   "outputs": [],
   "source": [
    "%%R -i neighbor_df -w 1200 -h 600 -r 200\n",
    "\n",
    "# proportion of inferCNV in each cluster\n",
    "suppressMessages(library(tidyverse))\n",
    "\n",
    "plot_theme =  theme(title = element_text(size = 12),\n",
    "                   axis.title = element_text(size = 12),\n",
    "                   axis.text = element_text(size = 10),\n",
    "                   legend.title =  element_text(size = 8),\n",
    "                   text = element_text(size = 8),\n",
    "                   plot.margin = margin(0,0,0,0,\"cm\")) \n",
    "\n",
    "df = neighbor_df %>%\n",
    "group_by(cell_identity, neighbor_sample) %>%\n",
    "mutate(sum=n()) %>%\n",
    "group_by(cell_identity) %>%\n",
    "mutate(sum_cell= n()) %>%\n",
    "distinct(cell_identity, neighbor_sample, sum, sum_cell) %>%\n",
    "arrange(cell_identity)\n",
    "\n",
    "df$cell_identity = factor(df$cell_identity,levels = rev(c('normal_sample',\n",
    "                                                       'genomically_normal',\n",
    "                                                       'genomically_tumour')))\n",
    "\n",
    "df %>%\n",
    "ggplot(aes(x = sum, y = cell_identity, fill = neighbor_sample)) +\n",
    "geom_col(width = 0.8, position = 'fill', stat = 'identity') +\n",
    "scale_fill_manual(values = c('#1f77b4', '#ff7f0e', '#279e68', '#d62728', '#aa40fc', #'#8c564b',\n",
    "       '#e377c2', #'#b5bd61', \n",
    "                             '#17becf', '#aec7e8', '#ffbb78', '#98df8a',\n",
    "       '#ff9896', '#c5b0d5', '#c49c94', '#f7b6d2', '#dbdb8d', '#9edae5',\n",
    "       '#ad494a', '#8c6d31')) +\n",
    "theme_void() + \n",
    "plot_theme +\n",
    "theme(axis.title.y = element_text(angle = 90),\n",
    "      axis.text.x = element_text(angle = 90)) +\n",
    "#labs(x = 'Proportion', \n",
    "#     y = 'Louvain cluster\\n') +\n",
    "#scale_x_discrete(limits = rev) +\n",
    "guides(fill=guide_legend(ncol=2))"
   ]
  },
  {
   "cell_type": "code",
   "execution_count": null,
   "id": "3f4f3b6e",
   "metadata": {},
   "outputs": [],
   "source": [
    "%%R -i neighbor_df -w 1200 -h 400 -r 200\n",
    "\n",
    "# proportion of inferCNV in each cluster\n",
    "suppressMessages(library(tidyverse))\n",
    "\n",
    "plot_theme =  theme(title = element_text(size = 12),\n",
    "                   axis.title = element_text(size = 12),\n",
    "                   axis.text = element_text(size = 10),\n",
    "                   legend.title =  element_text(size = 8),\n",
    "                   text = element_text(size = 8),\n",
    "                   plot.margin = margin(0,0,0,0,\"cm\")) \n",
    "\n",
    "df = neighbor_df %>%\n",
    "group_by(cell_identity, neighbor_sample_origin) %>%\n",
    "mutate(sum=n()) %>%\n",
    "group_by(cell_identity) %>%\n",
    "mutate(sum_cell= n()) %>%\n",
    "distinct(cell_identity, neighbor_sample_origin, sum, sum_cell) %>%\n",
    "mutate(neighbor_sample_origin = dplyr::recode(neighbor_sample_origin,\n",
    "                                     '\\nnormal\\nsample\\n' = 'normal sample',\n",
    "                                     'tumour\\nsample' = 'tumour sample')) %>%\n",
    "arrange(cell_identity) \n",
    "\n",
    "df$cell_identity = factor(df$cell_identity,levels = rev(c('normal_sample',\n",
    "                                                       'genomically_normal',\n",
    "                                                       'genomically_tumour')))\n",
    "\n",
    "df$neighbor_sample_origin = factor(df$neighbor_sample_origin,levels = rev(c('normal sample',\n",
    "                                                       'tumour sample')))\n",
    "\n",
    "df %>%\n",
    "ggplot(aes(x = sum, y = cell_identity, fill = neighbor_sample_origin)) +\n",
    "geom_col(width = 0.8, position = 'fill', stat = 'identity') +\n",
    "scale_fill_manual(values = c('#ff7f0e', '#808080')) +\n",
    "theme_void() + \n",
    "plot_theme +\n",
    "theme(axis.title.y = element_text(angle = 90)) +\n",
    "labs(x = 'Proportion', \n",
    "     y = 'Cell identity\\n') #+\n",
    "#scale_x_discrete(limits = rev) +\n",
    "#guides(fill=guide_legend(ncol=2))"
   ]
  },
  {
   "cell_type": "code",
   "execution_count": null,
   "id": "365922df",
   "metadata": {},
   "outputs": [],
   "source": [
    "%%R -i neighbor_df -w 1200 -h 800 -r 200\n",
    "\n",
    "# proportion of inferCNV in each cluster\n",
    "suppressMessages(library(tidyverse))\n",
    "\n",
    "plot_theme =  theme(title = element_text(size = 12),\n",
    "                   axis.title = element_text(size = 12),\n",
    "                   axis.text = element_text(size = 10),\n",
    "                   legend.title =  element_text(size = 8),\n",
    "                   text = element_text(size = 8),\n",
    "                   plot.margin = margin(0,0,0,0,\"cm\")) \n",
    "\n",
    "df = neighbor_df %>%\n",
    "group_by(sample, neighbor_sample) %>%\n",
    "mutate(sum=n()) %>%\n",
    "group_by(sample) %>%\n",
    "mutate(sum_cell= n()) %>%\n",
    "distinct(sample, neighbor_sample, sum, sum_cell) %>%\n",
    "arrange(sample)\n",
    "\n",
    "df %>%\n",
    "ggplot(aes(x = sum, y = sample, fill = neighbor_sample)) +\n",
    "geom_col(width = 0.8, position = 'fill', stat = 'identity') +\n",
    "scale_fill_manual(values = c('#1f77b4', '#ff7f0e', '#279e68', '#d62728', '#aa40fc', #'#8c564b',\n",
    "       '#e377c2', #'#b5bd61', \n",
    "                             '#17becf', '#aec7e8', '#ffbb78', '#98df8a',\n",
    "       '#ff9896', '#c5b0d5', '#c49c94', '#f7b6d2', '#dbdb8d', '#9edae5',\n",
    "       '#ad494a', '#8c6d31')) +\n",
    "theme_void() + \n",
    "plot_theme +\n",
    "theme(axis.title.y = element_text(angle = 90),\n",
    "      axis.text.x = element_text(angle = 90)) +\n",
    "#labs(x = 'Proportion', \n",
    "#     y = 'Louvain cluster\\n') +\n",
    "scale_y_discrete(limits = rev) +\n",
    "guides(fill=guide_legend(ncol=2))"
   ]
  },
  {
   "cell_type": "code",
   "execution_count": null,
   "id": "f88e5b1d",
   "metadata": {},
   "outputs": [],
   "source": [
    "louvain_colors = adata_epi.uns['louvain_colors']"
   ]
  },
  {
   "cell_type": "code",
   "execution_count": null,
   "id": "33d4a813",
   "metadata": {},
   "outputs": [],
   "source": [
    "%%R -i neighbor_df,louvain_colors -w 1200 -h 800 -r 200\n",
    "\n",
    "# proportion of inferCNV in each cluster\n",
    "suppressMessages(library(tidyverse))\n",
    "\n",
    "plot_theme =  theme(title = element_text(size = 12),\n",
    "                   axis.title = element_text(size = 12),\n",
    "                   axis.text = element_text(size = 10),\n",
    "                   legend.title =  element_text(size = 8),\n",
    "                   text = element_text(size = 8),\n",
    "                   plot.margin = margin(0,0,0,0,\"cm\")) \n",
    "\n",
    "df = neighbor_df %>%\n",
    "group_by(sample, louvain) %>%\n",
    "mutate(sum=n()) %>%\n",
    "group_by(sample) %>%\n",
    "mutate(sum_cell= n()) %>%\n",
    "distinct(sample, louvain, sum, sum_cell) %>%\n",
    "arrange(sample)\n",
    "\n",
    "df %>%\n",
    "ggplot(aes(x = sum, y = sample, fill = louvain)) +\n",
    "geom_col(width = 0.8, position = 'fill', stat = 'identity') +\n",
    "theme_void() + \n",
    "plot_theme +\n",
    "theme(axis.title.y = element_text(angle = 90),\n",
    "      axis.text.x = element_text(angle = 90)) +\n",
    "labs(x = 'Proportion', \n",
    "     y = 'Sample\\n') +\n",
    "scale_y_discrete(limits = rev) +\n",
    "guides(fill=guide_legend(ncol=2)) +\n",
    "scale_fill_manual(values = louvain_colors)"
   ]
  },
  {
   "cell_type": "code",
   "execution_count": null,
   "id": "c32779aa",
   "metadata": {},
   "outputs": [],
   "source": [
    "%%R -i neighbor_df -w 1200 -h 300 -r 200\n",
    "\n",
    "# proportion of inferCNV in each cluster\n",
    "suppressMessages(library(tidyverse))\n",
    "\n",
    "plot_theme =  theme(title = element_text(size = 12),\n",
    "                   axis.title = element_text(size = 12),\n",
    "                   axis.text = element_text(size = 10),\n",
    "                   legend.title =  element_text(size = 8),\n",
    "                   text = element_text(size = 8),\n",
    "                   plot.margin = margin(0,0,0,0,\"cm\")) \n",
    "\n",
    "df = neighbor_df %>%\n",
    "filter(louvain == '9') %>%\n",
    "group_by(sample) %>%\n",
    "mutate(sum=n()) %>%\n",
    "distinct(sample, louvain, sum) %>%\n",
    "arrange(sample)\n",
    "\n",
    "df %>%\n",
    "ggplot(aes(x = sum, y = louvain, fill = sample)) +\n",
    "geom_col(width = 0.8, position = 'fill', stat = 'identity') +\n",
    "theme_void() + \n",
    "plot_theme +\n",
    "theme(axis.title.y = element_text(angle = 90)) +\n",
    "labs(x = 'Proportion', \n",
    "     y = 'Louvain\\n') +\n",
    "scale_y_discrete(limits = rev) +\n",
    "guides(fill=guide_legend(ncol=4)) +\n",
    "scale_fill_manual(values = c('#ff7f0e', '#279e68', '#aa40fc', \n",
    "       '#e377c2', '#aec7e8', '#98df8a',\n",
    "       '#ff9896', '#c5b0d5', '#f7b6d2', '#9edae5',\n",
    "       '#ad494a', '#8c6d31')) "
   ]
  },
  {
   "cell_type": "markdown",
   "id": "e58dba06",
   "metadata": {},
   "source": [
    "- for each patient, get each cell's fraction of neighbors from the same patient, separately for genomically normal / genomically tumor / normal sample cells, and normalize that fraction by the fraction of cells of that patient in the entire dataset\n",
    "- for each patient, what's the fraction of their genomically normal cells that end up in cluster 9?"
   ]
  },
  {
   "cell_type": "code",
   "execution_count": null,
   "id": "efb92562",
   "metadata": {},
   "outputs": [],
   "source": [
    "%%R\n",
    "\n",
    "# for each patient, if any sample is over-represented in the neighbors \n",
    "# vs in the whole adata, fraction of each patient\n",
    "\n",
    "pt_frac = neighbor_df %>%\n",
    "select(cell, patient, cell_identity) %>%\n",
    "distinct() %>%\n",
    "mutate(total = n()) %>%\n",
    "group_by(patient) %>%\n",
    "mutate(n_cell = n(), frac = n_cell/total) %>%\n",
    "group_by(patient, cell_identity) %>%\n",
    "mutate(n_CI_per_pt = n(), \n",
    "       CI_frac = n_CI_per_pt/n_cell, \n",
    "       CI_frac_global = n_CI_per_pt/total) %>%\n",
    "distinct(patient, n_cell, n_CI_per_pt, frac, CI_frac, CI_frac_global) %>%\n",
    "arrange(patient)\n",
    "\n",
    "pt_frac"
   ]
  },
  {
   "cell_type": "code",
   "execution_count": null,
   "id": "add90337",
   "metadata": {},
   "outputs": [],
   "source": [
    "%%R  \n",
    "\n",
    "# for each patient each CI, how many neighbors are from the same patient?\n",
    "\n",
    "df = neighbor_df %>%\n",
    "group_by(patient, cell_identity, neighbor_patient) %>% \n",
    "mutate(n_Npt = n()) %>%\n",
    "mutate(n_Npt_per_NI = n(), \n",
    "       frac_Npt_NI = n_Npt_per_NI/n_NI) %>% # divide 2 by 1 = fraction of samples in each CI\n",
    "distinct(patient, cell_identity, neighbor_patient, neighbor_identity_2, n_NI, n_Npt_per_NI, frac_Npt_NI) %>%\n",
    "arrange(patient, cell_identity, neighbor_patient, neighbor_identity_2) %>%\n",
    "select(patient, cell_identity, neighbor_patient, neighbor_identity_2, n_NI, n_Npt_per_NI, frac_Npt_NI)\n",
    "\n",
    "df$neighbor_identity_2 = factor(df$neighbor_identity_2, levels = c('normal_sample',\n",
    "                                                       'genomically_normal',\n",
    "                                                       'genomically_tumour'))\n",
    "\n",
    "df"
   ]
  },
  {
   "cell_type": "code",
   "execution_count": null,
   "id": "4d8563a4",
   "metadata": {},
   "outputs": [],
   "source": [
    "%%R \n",
    "df %>%\n",
    "ggplot() +\n",
    "geom_histogram(aes(frac_Npt_NI))"
   ]
  },
  {
   "cell_type": "code",
   "execution_count": null,
   "id": "1e867e30",
   "metadata": {},
   "outputs": [],
   "source": [
    "%%R -w 2000 -h 1000 -r 200\n",
    "\n",
    "df %>% left_join(sample_frac, by = 'patient') %>%\n",
    "mutate(over_rep = frac_Npt_NI/frac) %>%\n",
    "select(patient, neighbor_patient, cell_identity, neighbor_identity_2, over_rep) %>% \n",
    "ggplot() +\n",
    "geom_boxplot(aes(x = patient, y = over_rep, fill = neighbor_identity_2), width = 0.8) +\n",
    "geom_hline(yintercept = 1, color = 'red') +\n",
    "facet_grid(rows = vars(cell_identity)) +\n",
    "theme_void() + \n",
    "plot_theme_font_size(8) +\n",
    "theme(axis.title.y = element_text(angle = 90),\n",
    "      axis.text.x = element_text(angle = 90)) +\n",
    "scale_y_continuous(n.breaks = 3) +\n",
    "labs(y = 'fraction of sample')\n"
   ]
  },
  {
   "cell_type": "code",
   "execution_count": null,
   "id": "8a6d1c37",
   "metadata": {},
   "outputs": [],
   "source": [
    "%%R -i neighbor_df -w 1200 -h 300 -r 200\n",
    "\n",
    "# proportion of inferCNV in each cluster\n",
    "suppressMessages(library(tidyverse))\n",
    "\n",
    "plot_theme =  theme(title = element_text(size = 12),\n",
    "                   axis.title = element_text(size = 12),\n",
    "                   axis.text = element_text(size = 10),\n",
    "                   legend.title =  element_text(size = 8),\n",
    "                   text = element_text(size = 8),\n",
    "                   plot.margin = margin(0,0,0,0,\"cm\")) \n",
    "\n",
    "df = neighbor_df %>%\n",
    "filter(louvain == '9') %>%\n",
    "group_by(cell_identity, louvain) %>%\n",
    "mutate(sum=n()) %>%\n",
    "group_by(cell_identity) %>%\n",
    "mutate(sum_cell= n()) %>%\n",
    "distinct(cell_identity, louvain, sum, sum_cell) %>%\n",
    "arrange(cell_identity)\n",
    "\n",
    "df$cell_identity = factor(df$cell_identity,levels = rev(c('normal_sample',\n",
    "                                                       'genomically_normal',\n",
    "                                                       'genomically_tumour')))\n",
    "\n",
    "df %>%\n",
    "ggplot(aes(x = sum, y = louvain, fill = cell_identity)) +\n",
    "geom_col(width = 0.8, position = 'fill', stat = 'identity') +\n",
    "theme_void() + \n",
    "plot_theme +\n",
    "theme(axis.title.y = element_text(angle = 90)) +\n",
    "labs(x = 'Proportion', \n",
    "     y = 'Louvain\\n') +\n",
    "scale_y_discrete(limits = rev) +\n",
    "guides(fill=guide_legend(ncol=1)) +\n",
    "scale_fill_manual(values = c('#ff7f0e', \n",
    "                             '#1f77b4','#808080')) "
   ]
  },
  {
   "cell_type": "code",
   "execution_count": null,
   "id": "211e7e9d",
   "metadata": {},
   "outputs": [],
   "source": [
    "%%R -i neighbor_df -w 1200 -h 300 -r 200\n",
    "\n",
    "# proportion of inferCNV in each cluster\n",
    "suppressMessages(library(tidyverse))\n",
    "\n",
    "plot_theme =  theme(title = element_text(size = 12),\n",
    "                   axis.title = element_text(size = 12),\n",
    "                   axis.text = element_text(size = 10),\n",
    "                   legend.title =  element_text(size = 8),\n",
    "                   text = element_text(size = 8),\n",
    "                   plot.margin = margin(0,0,0,0,\"cm\")) \n",
    "\n",
    "df = neighbor_df %>%\n",
    "filter(louvain == '9') %>%\n",
    "group_by(neighbor_identity_2, louvain) %>%\n",
    "mutate(sum=n()) %>%\n",
    "group_by(neighbor_identity_2) %>%\n",
    "mutate(sum_cell= n()) %>%\n",
    "distinct(neighbor_identity_2, louvain, sum, sum_cell) %>%\n",
    "arrange(neighbor_identity_2)\n",
    "\n",
    "df$neighbor_identity_2 = factor(df$neighbor_identity_2,levels = rev(c('normal_sample',\n",
    "                                                       'genomically_normal',\n",
    "                                                       'genomically_tumour')))\n",
    "\n",
    "df %>%\n",
    "ggplot(aes(x = sum, y = louvain, fill = neighbor_identity_2)) +\n",
    "geom_col(width = 0.8, position = 'fill', stat = 'identity') +\n",
    "theme_void() + \n",
    "plot_theme +\n",
    "theme(axis.title.y = element_text(angle = 90)) +\n",
    "labs(x = 'Proportion', \n",
    "     y = 'Louvain\\n') +\n",
    "scale_y_discrete(limits = rev) +\n",
    "guides(fill=guide_legend(ncol=1)) +\n",
    "scale_fill_manual(values = c('#ff7f0e', \n",
    "                             '#1f77b4','#808080')) "
   ]
  },
  {
   "cell_type": "code",
   "execution_count": null,
   "id": "90765fb2",
   "metadata": {},
   "outputs": [],
   "source": [
    "%%R -i neighbor_df -w 1200 -h 400 -r 200\n",
    "\n",
    "suppressMessages(library(tidyverse))\n",
    "\n",
    "plot_theme =  theme(title = element_text(size = 12),\n",
    "                   axis.title = element_text(size = 12),\n",
    "                   axis.text = element_text(size = 10),\n",
    "                   legend.title =  element_text(size = 8),\n",
    "                   text = element_text(size = 8),\n",
    "                   plot.margin = margin(0,0,0,0,\"cm\")) \n",
    "\n",
    "df = neighbor_df %>%\n",
    "filter(louvain == '9') %>%\n",
    "group_by(neighbor_sample, louvain) %>%\n",
    "mutate(sum=n()) %>%\n",
    "group_by(neighbor_sample) %>%\n",
    "mutate(sum_cell= n()) %>%\n",
    "distinct(neighbor_sample, louvain, sum, sum_cell) %>%\n",
    "arrange(neighbor_sample)\n",
    "\n",
    "df %>%\n",
    "ggplot(aes(x = sum, y = louvain, fill = neighbor_sample)) +\n",
    "geom_col(width = 0.8, position = 'fill', stat = 'identity') +\n",
    "theme_void() + \n",
    "plot_theme +\n",
    "theme(axis.title.y = element_text(angle = 90)) +\n",
    "labs(x = 'Proportion', \n",
    "     y = 'Louvain\\n') +\n",
    "scale_y_discrete(limits = rev) +\n",
    "guides(fill=guide_legend(ncol=5)) +\n",
    "scale_fill_manual(values = c('#1f77b4', '#ff7f0e', '#279e68', '#d62728', '#aa40fc', #'#8c564b',\n",
    "       '#e377c2', #'#b5bd61', \n",
    "                             '#17becf', '#aec7e8', '#ffbb78', '#98df8a',\n",
    "       '#ff9896', '#c5b0d5', '#c49c94', '#f7b6d2', '#dbdb8d', '#9edae5',\n",
    "       '#ad494a', '#8c6d31')) "
   ]
  },
  {
   "cell_type": "code",
   "execution_count": null,
   "id": "4bac8dc3",
   "metadata": {},
   "outputs": [],
   "source": [
    "%%R -i neighbor_df -w 2000 -h 800 -r 200\n",
    "\n",
    "suppressMessages(library(tidyverse))\n",
    "\n",
    "plot_theme =  theme(title = element_text(size = 12),\n",
    "                   axis.title = element_text(size = 12),\n",
    "                   axis.text = element_text(size = 10),\n",
    "                   legend.title =  element_text(size = 8),\n",
    "                   text = element_text(size = 8),\n",
    "                   plot.margin = margin(0,0,0,0,\"cm\")) \n",
    "\n",
    "df = neighbor_df %>%\n",
    "group_by(sample, neighbor_sample, cell_identity) %>%\n",
    "mutate(sum=n()) %>%\n",
    "group_by(sample) %>%\n",
    "mutate(sum_cell= n()) %>%\n",
    "distinct(sample, neighbor_sample, sum, sum_cell, cell_identity) %>%\n",
    "arrange(sample)\n",
    "\n",
    "df$cell_identity = factor(df$cell_identity,levels = rev(c('normal_sample',\n",
    "                                                       'genomically_normal',\n",
    "                                                       'genomically_tumour')))\n",
    "\n",
    "df %>%\n",
    "ggplot(aes(x = sum, y = sample, fill = neighbor_sample)) +\n",
    "geom_col(width = 0.8, position = 'fill', stat = 'identity') +\n",
    "scale_fill_manual(values = c('#1f77b4', '#ff7f0e', '#279e68', '#d62728', '#aa40fc', #'#8c564b',\n",
    "       '#e377c2', #'#b5bd61', \n",
    "                             '#17becf', '#aec7e8', '#ffbb78', '#98df8a',\n",
    "       '#ff9896', '#c5b0d5', '#c49c94', '#f7b6d2', '#dbdb8d', '#9edae5',\n",
    "       '#ad494a', '#8c6d31')) +\n",
    "theme_void() + \n",
    "plot_theme +\n",
    "theme(axis.title.y = element_text(angle = 90)#,\n",
    "      #axis.text.x = element_text(angle = 90)\n",
    "     ) +\n",
    "labs(x = 'Proportion', \n",
    "     y = 'Sample\\n') +\n",
    "scale_y_discrete(limits = rev) +\n",
    "guides(fill=guide_legend(ncol=2)) + \n",
    "facet_grid(cols = vars(cell_identity))"
   ]
  },
  {
   "cell_type": "code",
   "execution_count": null,
   "id": "a9354ca1",
   "metadata": {},
   "outputs": [],
   "source": [
    "adata_epi.uns['patient_colors']"
   ]
  },
  {
   "cell_type": "code",
   "execution_count": null,
   "id": "d22f3116",
   "metadata": {},
   "outputs": [],
   "source": [
    "%%R -i neighbor_df -w 2000 -h 800 -r 200\n",
    "\n",
    "df = neighbor_df %>%\n",
    "group_by(patient, neighbor_patient, cell_identity) %>%\n",
    "mutate(sum=n()) %>%\n",
    "distinct(patient, neighbor_patient, sum, cell_identity) %>%\n",
    "arrange(patient)\n",
    "\n",
    "df$cell_identity = factor(df$cell_identity,levels = rev(c('normal_sample',\n",
    "                                                       'genomically_normal',\n",
    "                                                       'genomically_tumour')))\n",
    "\n",
    "df %>%\n",
    "ggplot(aes(x = sum, y = patient, fill = neighbor_patient)) +\n",
    "geom_col(width = 0.8, position = 'fill', stat = 'identity') +\n",
    "theme_void() + \n",
    "plot_theme +\n",
    "theme(axis.title.y = element_text(angle = 90)#,\n",
    "      #axis.text.x = element_text(angle = 90)\n",
    "     ) +\n",
    "labs(x = 'Proportion', \n",
    "     y = 'Patient\\n') +\n",
    "scale_y_discrete(limits = rev) +\n",
    "guides(fill=guide_legend(ncol=2)) + \n",
    "facet_grid(cols = vars(cell_identity)) +\n",
    "scale_x_continuous(breaks = 3) +\n",
    "scale_fill_manual(values = c('#1f77b4', '#ff7f0e', '#279e68', '#d62728', '#aa40fc', '#8c564b',\n",
    "       '#e377c2', '#b5bd61', '#17becf', '#aec7e8'))"
   ]
  },
  {
   "cell_type": "code",
   "execution_count": null,
   "id": "f436a997",
   "metadata": {},
   "outputs": [],
   "source": [
    "%%R -i neighbor_df -w 2000 -h 800 -r 200\n",
    "\n",
    "df %>%\n",
    "mutate(same_pt = ifelse(patient == neighbor_patient, 'Yes', 'no')) %>%\n",
    "ggplot(aes(x = sum, y = patient, fill = same_pt)) +\n",
    "geom_col(width = 0.8, position = 'fill', stat = 'identity') +\n",
    "theme_void() + \n",
    "plot_theme_font_size(12) +\n",
    "theme(axis.title.y = element_text(angle = 90)#,\n",
    "      #axis.text.x = element_text(angle = 90)\n",
    "     ) +\n",
    "labs(x = 'Proportion', \n",
    "     y = 'Patient\\n') +\n",
    "scale_y_discrete(limits = rev) +\n",
    "facet_grid(cols = vars(cell_identity)) +\n",
    "scale_x_continuous(breaks = 3) +\n",
    "scale_fill_manual(values = c('grey', 'steelblue'),\n",
    "                  name = 'From the same patient')"
   ]
  },
  {
   "cell_type": "code",
   "execution_count": null,
   "id": "1560dc15",
   "metadata": {},
   "outputs": [],
   "source": [
    "%%R \n",
    "\n",
    "df = neighbor_df %>%\n",
    "mutate(same_pt = ifelse(patient == neighbor_patient, 1, 0)) %>%\n",
    "group_by(cell) %>%\n",
    "mutate(n_Npt = n(), Nfrac = sum(same_pt)/n_Npt) %>%\n",
    "distinct(patient, cell, cell_identity, Nfrac) %>%\n",
    "arrange(patient, cell)\n",
    "\n",
    "df$cell_identity = factor(df$cell_identity,levels = rev(c('normal_sample',\n",
    "                                                       'genomically_normal',\n",
    "                                                       'genomically_tumour')))\n",
    "\n",
    "print(df)"
   ]
  },
  {
   "cell_type": "code",
   "execution_count": null,
   "id": "aa6fb57a",
   "metadata": {},
   "outputs": [],
   "source": [
    "%%R -w 800 -h 1000 -r 200\n",
    "\n",
    "df %>%\n",
    "ggplot() +\n",
    "geom_boxplot(aes(x = patient, y = Nfrac), outlier.size = 0.5) +\n",
    "facet_grid(rows = vars(cell_identity)) +\n",
    "theme_void() +\n",
    "plot_theme_font_size(8) +\n",
    "theme(axis.title.y = element_text(angle = 90)) +\n",
    "labs(y = 'Fraction of neighbor from the same patient\\n')"
   ]
  },
  {
   "cell_type": "code",
   "execution_count": null,
   "id": "1c351b60",
   "metadata": {},
   "outputs": [],
   "source": [
    "%%R\n",
    "\n",
    "# divid by patient frac\n",
    "df = df %>%\n",
    "left_join(pt_frac, by = c('patient', 'cell_identity')) %>%\n",
    "mutate(over_rep = Nfrac/frac, over_rep_CI = Nfrac/CI_frac, over_rep_CI_global = Nfrac/CI_frac_global) %>%\n",
    "arrange(cell, cell_identity)\n",
    "\n",
    "df$cell_identity = factor(df$cell_identity,levels = rev(c('normal_sample',\n",
    "                                                       'genomically_normal',\n",
    "                                                       'genomically_tumour')))\n",
    "\n",
    "df"
   ]
  },
  {
   "cell_type": "code",
   "execution_count": null,
   "id": "d9be0610",
   "metadata": {},
   "outputs": [],
   "source": [
    "%%R -w 500 -h 1500 -r 200\n",
    "\n",
    "\n",
    "df %>%\n",
    "ggplot() +\n",
    "geom_boxplot(aes(x = cell_identity, y = over_rep), outlier.size = 0.5) +\n",
    "theme_void() +\n",
    "plot_theme_font_size(8) +\n",
    "theme(axis.title.y = element_text(angle = 90),\n",
    "     axis.ticks.y = element_line('black', linewidth = 1),\n",
    "      axis.ticks.length=unit(0.1, \"cm\"),\n",
    "      axis.text.y = element_text(margin = margin(t = 0, r = 7, b = 0, l = 0)),\n",
    "      axis.line = element_line()) +\n",
    "labs(y = 'fractions of same-patient neighbor\\nnormalised by\\nfraction of patient in dataset\\n then averaged by sample\\n') +\n",
    "scale_x_discrete(labels = c('GT', 'GN', 'NS')) +\n",
    "facet_grid(rows = vars(patient))"
   ]
  },
  {
   "cell_type": "code",
   "execution_count": null,
   "id": "210b37ed",
   "metadata": {},
   "outputs": [],
   "source": [
    "%%R -w 500 -h 500 -r 200\n",
    "\n",
    "\n",
    "df %>%\n",
    "group_by(patient) %>%\n",
    "mutate(mean_over_rep = mean(over_rep)) %>%\n",
    "ggplot() +\n",
    "geom_boxplot(aes(x = cell_identity, y = mean_over_rep), outlier.size = 0.5) +\n",
    "theme_void() +\n",
    "plot_theme_font_size(8) +\n",
    "theme(axis.title.y = element_text(angle = 90),\n",
    "     axis.ticks.y = element_line('black', linewidth = 1),\n",
    "      axis.ticks.length=unit(0.1, \"cm\"),\n",
    "      axis.text.y = element_text(margin = margin(t = 0, r = 7, b = 0, l = 0)),\n",
    "      axis.line = element_line()) +\n",
    "labs(y = 'fractions of same-patient neighbor\\nnormalised by\\nfraction of patient in dataset\\n then averaged by sample\\n') +\n",
    "scale_x_discrete(labels = c('GT', 'GN', 'NS'))\n"
   ]
  },
  {
   "cell_type": "code",
   "execution_count": null,
   "id": "efd6bc69",
   "metadata": {},
   "outputs": [],
   "source": [
    "%%R -w 500 -h 500 -r 200\n",
    "\n",
    "\n",
    "df %>%\n",
    "ggplot() +\n",
    "geom_boxplot(aes(x = cell_identity, y = over_rep), outlier.size = 0.5) +\n",
    "theme_void() +\n",
    "plot_theme_font_size(8) +\n",
    "theme(axis.title.y = element_text(angle = 90),\n",
    "     axis.ticks.y = element_line('black', linewidth = 1),\n",
    "      axis.ticks.length=unit(0.1, \"cm\"),\n",
    "      axis.text.y = element_text(margin = margin(t = 0, r = 7, b = 0, l = 0)),\n",
    "      axis.line = element_line()) +\n",
    "labs(y = 'fractions of same-patient neighbor\\nnormalised by\\nfraction of patient in dataset\\n') +\n",
    "scale_x_discrete(labels = c('GT', 'GN', 'NS'))\n"
   ]
  },
  {
   "cell_type": "code",
   "execution_count": null,
   "id": "631b95e6",
   "metadata": {},
   "outputs": [],
   "source": [
    "%%R -w 800 -h 1000 -r 200\n",
    "\n",
    "# divid by patient frac\n",
    "df %>%\n",
    "ggplot() +\n",
    "geom_boxplot(aes(x = patient, y = over_rep_CI), outlier.size = 0.5) +\n",
    "facet_grid(rows = vars(cell_identity)) +\n",
    "theme_void() +\n",
    "plot_theme_font_size(8) +\n",
    "theme(axis.title.y = element_text(angle = 90)) +\n",
    "labs(y = 'fration of same-patient neighbor normalised\\nby fraction of patient in dataset\\n')\n"
   ]
  },
  {
   "cell_type": "code",
   "execution_count": null,
   "id": "786aa0ec",
   "metadata": {},
   "outputs": [],
   "source": [
    "%%R -w 500 -h 500 -r 200\n",
    "\n",
    "# divid by patient frac\n",
    "df %>%\n",
    "ggplot() +\n",
    "geom_boxplot(aes(x = cell_identity, y = over_rep_CI), outlier.size = 0.5) +\n",
    "theme_void() +\n",
    "plot_theme_font_size(8) +\n",
    "theme(axis.title.y = element_text(angle = 90)) +\n",
    "labs(y = 'fration of same-patient neighbor normalised\\nby fraction of patient in dataset\\n') +\n",
    "scale_y_continuous(trans='log10') +\n",
    "scale_x_discrete(labels = c('GT', 'GN', 'NS'))"
   ]
  },
  {
   "cell_type": "code",
   "execution_count": null,
   "id": "8f0f23ef",
   "metadata": {},
   "outputs": [],
   "source": [
    "%%R -w 800 -h 1000 -r 200\n",
    "\n",
    "# divid by patient frac\n",
    "df %>%\n",
    "ggplot() +\n",
    "geom_boxplot(aes(x = patient, y = over_rep_CI_global), outlier.size = 0.5) +\n",
    "facet_grid(rows = vars(cell_identity)) +\n",
    "theme_void() +\n",
    "plot_theme_font_size(8) +\n",
    "theme(axis.title.y = element_text(angle = 90)) +\n",
    "labs(y = 'fration of same-patient neighbor normalised\\nby fraction of patient in dataset\\n') +\n",
    "scale_x_discrete(labels = c('GT', 'GN', 'NS'))\n"
   ]
  },
  {
   "cell_type": "code",
   "execution_count": null,
   "id": "1fb8bb3b",
   "metadata": {},
   "outputs": [],
   "source": [
    "%%R -w 500 -h 500 -r 200\n",
    "\n",
    "# divid by patient frac\n",
    "df %>%\n",
    "ggplot() +\n",
    "geom_boxplot(aes(x = cell_identity, y = over_rep_CI_global), outlier.size = 0.5) +\n",
    "theme_void() +\n",
    "plot_theme_font_size(8) +\n",
    "theme(axis.title.y = element_text(angle = 90)) +\n",
    "labs(y = 'fration of same-patient neighbor normalised\\nby fraction of patient in dataset\\n') +\n",
    "scale_y_continuous(trans='log10') +\n",
    "scale_x_discrete(labels = c('GT', 'GN', 'NS'))"
   ]
  },
  {
   "cell_type": "code",
   "execution_count": null,
   "id": "be5c7897",
   "metadata": {},
   "outputs": [],
   "source": [
    "%%R -w 500 -h 500 -r 200\n",
    "\n",
    "\n",
    "df %>%\n",
    "group_by(patient) %>%\n",
    "mutate(mean_over_rep_CI_global = mean(over_rep_CI_global)) %>%\n",
    "ggplot() +\n",
    "geom_boxplot(aes(x = cell_identity, y = mean_over_rep_CI_global), outlier.size = 0.5) +\n",
    "theme_void() +\n",
    "plot_theme_font_size(8) +\n",
    "theme(axis.title.y = element_text(angle = 90),\n",
    "     axis.ticks.y = element_line('black', linewidth = 1),\n",
    "      axis.ticks.length=unit(0.1, \"cm\"),\n",
    "      axis.text.y = element_text(margin = margin(t = 0, r = 7, b = 0, l = 0)),\n",
    "      axis.line = element_line()) +\n",
    "labs(y = 'fractions of same-patient neighbor\\nnormalised by\\nfraction of per call per patient in dataset\\n then averaged by sample\\n') +\n",
    "scale_x_discrete(labels = c('GT', 'GN', 'NS'))\n"
   ]
  },
  {
   "cell_type": "code",
   "execution_count": null,
   "id": "d14e865d",
   "metadata": {},
   "outputs": [],
   "source": [
    "%%R -i neighbor_df -w 1200 -h 400 -r 200\n",
    "\n",
    "# proportion of inferCNV in each cluster\n",
    "df = neighbor_df %>%\n",
    "group_by(cell_identity, neighbor_identity_2) %>%\n",
    "mutate(sum=n()) %>%\n",
    "group_by(cell_identity) %>%\n",
    "mutate(sum_cell= n()) %>%\n",
    "distinct(cell_identity, neighbor_identity_2, sum, sum_cell) %>%\n",
    "arrange(cell_identity) \n",
    "\n",
    "df$cell_identity = factor(df$cell_identity,levels = rev(c('normal_sample',\n",
    "                                                       'genomically_normal',\n",
    "                                                       'genomically_tumour')))\n",
    "\n",
    "df$neighbor_identity_2 = factor(df$neighbor_identity_2,levels = rev(c('normal_sample',\n",
    "                                                       'genomically_normal',\n",
    "                                                       'genomically_tumour')))\n",
    "\n",
    "df %>%\n",
    "ggplot(aes(x = sum, y = cell_identity, fill = neighbor_identity_2)) +\n",
    "geom_col(width = 0.8, position = 'fill', stat = 'identity') +\n",
    "scale_fill_manual(values = c('#ff7f0e', #'#9b1ee3',\n",
    "                             '#1f77b4','#808080'),\n",
    "                 ) +\n",
    "theme_void() + \n",
    "plot_theme +\n",
    "theme(axis.title.y = element_text(angle = 90),\n",
    "      axis.text.x = element_text(angle = 90)) +\n",
    "labs(x = 'Proportion', \n",
    "     y = 'Cell identity\\n') #+\n",
    "#scale_x_discrete(limits = rev) +\n",
    "#guides(fill=guide_legend(ncol=2))"
   ]
  },
  {
   "cell_type": "code",
   "execution_count": null,
   "id": "e02d60da",
   "metadata": {},
   "outputs": [],
   "source": [
    "%%R\n",
    "\n",
    "saveRDS(neighbor_df, file = \"202401_neighbor_df.rds\")"
   ]
  }
 ],
 "metadata": {
  "kernelspec": {
   "display_name": "sc",
   "language": "python",
   "name": "sc"
  },
  "language_info": {
   "codemirror_mode": {
    "name": "ipython",
    "version": 3
   },
   "file_extension": ".py",
   "mimetype": "text/x-python",
   "name": "python",
   "nbconvert_exporter": "python",
   "pygments_lexer": "ipython3",
   "version": "3.9.10"
  }
 },
 "nbformat": 4,
 "nbformat_minor": 5
}
