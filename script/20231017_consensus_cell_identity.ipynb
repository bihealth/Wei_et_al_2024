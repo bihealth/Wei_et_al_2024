{
 "cells": [
  {
   "cell_type": "code",
   "execution_count": null,
   "id": "953d3bff",
   "metadata": {},
   "outputs": [],
   "source": [
    "import os\n",
    "import sys\n",
    "print(\"Python version\" + sys.version)\n",
    "os.getcwd()\n",
    "print(sys.executable)"
   ]
  },
  {
   "cell_type": "code",
   "execution_count": null,
   "id": "41493454",
   "metadata": {},
   "outputs": [],
   "source": [
    "import numpy as np\n",
    "np.random.seed(123)\n",
    "import pandas as pd\n",
    "import scipy\n",
    "import itertools\n",
    "\n",
    "import umap\n",
    "import matplotlib.pyplot as plt\n",
    "%matplotlib inline\n",
    "import seaborn as sns\n",
    "\n",
    "import scanpy as sc\n",
    "import anndata as ad\n",
    "import scvelo as scv\n",
    "from tqdm.notebook import tqdm\n",
    "\n",
    "from pathlib import Path"
   ]
  },
  {
   "cell_type": "code",
   "execution_count": null,
   "id": "ad5dc101",
   "metadata": {},
   "outputs": [],
   "source": [
    "import venn"
   ]
  },
  {
   "cell_type": "code",
   "execution_count": null,
   "id": "e33993fc",
   "metadata": {},
   "outputs": [],
   "source": [
    "import cellrank as cr"
   ]
  },
  {
   "cell_type": "code",
   "execution_count": null,
   "id": "9e01c504",
   "metadata": {},
   "outputs": [],
   "source": [
    "cr.__version__"
   ]
  },
  {
   "cell_type": "code",
   "execution_count": null,
   "id": "63e1b27e",
   "metadata": {},
   "outputs": [],
   "source": [
    "from cellrank.kernels import PseudotimeKernel"
   ]
  },
  {
   "cell_type": "code",
   "execution_count": null,
   "id": "835e3a5b",
   "metadata": {},
   "outputs": [],
   "source": [
    "from cellrank.kernels import CytoTRACEKernel"
   ]
  },
  {
   "cell_type": "code",
   "execution_count": null,
   "id": "28512a85",
   "metadata": {},
   "outputs": [],
   "source": [
    "import scanpy.external as sce"
   ]
  },
  {
   "cell_type": "code",
   "execution_count": null,
   "id": "8811fe47",
   "metadata": {},
   "outputs": [],
   "source": [
    "from pysankey import sankey"
   ]
  },
  {
   "cell_type": "code",
   "execution_count": null,
   "id": "edc6a38b",
   "metadata": {},
   "outputs": [],
   "source": [
    "import upsetplot\n",
    "from upsetplot import from_contents\n",
    "from upsetplot import UpSet\n",
    "from upsetplot import plot"
   ]
  },
  {
   "cell_type": "code",
   "execution_count": null,
   "id": "31c4efd5",
   "metadata": {},
   "outputs": [],
   "source": [
    "sc.settings.verbosity = 1\n",
    "sc.logging.print_header()\n",
    "sc.settings.set_figure_params(dpi=150, facecolor='white')"
   ]
  },
  {
   "cell_type": "code",
   "execution_count": null,
   "id": "d060c6fd",
   "metadata": {},
   "outputs": [],
   "source": [
    "# remove weird grid from scvelo\n",
    "plt.rcParams['axes.grid'] = False"
   ]
  },
  {
   "cell_type": "code",
   "execution_count": null,
   "id": "0c764294",
   "metadata": {},
   "outputs": [],
   "source": [
    "plt.rcParams.keys()"
   ]
  },
  {
   "cell_type": "code",
   "execution_count": null,
   "id": "965de8db",
   "metadata": {},
   "outputs": [],
   "source": [
    "from matplotlib_inline.backend_inline import set_matplotlib_formats\n",
    "set_matplotlib_formats('svg', dpi = 300)"
   ]
  },
  {
   "cell_type": "code",
   "execution_count": null,
   "id": "b59c15f9",
   "metadata": {},
   "outputs": [],
   "source": [
    "plt.rcParams['svg.fonttype'] = 'none'\n",
    "plt.rcParams['font.family'] = 'DejaVu Sans'\n",
    "plt.rcParams['font.size'] = '8'\n"
   ]
  },
  {
   "cell_type": "code",
   "execution_count": null,
   "id": "ae2167e0",
   "metadata": {},
   "outputs": [],
   "source": [
    "# revised from Stefan's cell type signature\n",
    "signatures_path_ = '../cell_type_from_stefan/scrnaseq_signature_collection/'\n",
    "from score_and_classify import *"
   ]
  },
  {
   "cell_type": "code",
   "execution_count": null,
   "id": "c2f4623f",
   "metadata": {},
   "outputs": [],
   "source": [
    "new_data_folder = '/fast/users/twei_m/work/crc/datasets_new_preprocessing'"
   ]
  },
  {
   "cell_type": "code",
   "execution_count": null,
   "id": "296ec0d7",
   "metadata": {},
   "outputs": [],
   "source": [
    "adata_epi = sc.read(Path(new_data_folder)/'202306_CB_epi_Numbat_Scitcem_inferCNV_icms_Uhlitz_scanvi.h5')"
   ]
  },
  {
   "cell_type": "code",
   "execution_count": null,
   "id": "c0e34b8c",
   "metadata": {},
   "outputs": [],
   "source": [
    "tsamples = ['p007t', 'p008t', 'p009t1','p009t2', 'p013t', 'p014t', 'p016t', \n",
    "           'p020t', 'p021t', 'p026t', 'p035t'] "
   ]
  },
  {
   "cell_type": "code",
   "execution_count": null,
   "id": "28637b51",
   "metadata": {},
   "outputs": [],
   "source": [
    "samples = ['p007n', 'p008n', 'p009n1', 'p009n2','p013n', 'p014n', 'p016n', \n",
    "           'p020n', 'p021n'] + tsamples"
   ]
  },
  {
   "cell_type": "markdown",
   "id": "c345caa3",
   "metadata": {},
   "source": [
    "### Numbat and Scitcem"
   ]
  },
  {
   "cell_type": "code",
   "execution_count": null,
   "id": "35de32aa",
   "metadata": {},
   "outputs": [],
   "source": [
    "[(adata_epi.obs['numbat'] == 'tumour\\n(tumour sample)') & (adata_epi.obs['scitcem_call'] == 'tumour\\n(tumour sample)')]"
   ]
  },
  {
   "cell_type": "code",
   "execution_count": null,
   "id": "88b9c9e4",
   "metadata": {},
   "outputs": [],
   "source": [
    "adata_epi.obs['Numbat_Scitcem_tumour'] = list((adata_epi.obs['numbat'] == 'tumour\\n(tumour sample)') &\n",
    "                                                    (adata_epi.obs['scitcem_call'] == 'tumour\\n(tumour sample)'))\n",
    "adata_epi.obs['Numbat_Scitcem_tumour'] = list((adata_epi.obs['numbat'] == 'tumour\\n(tumour sample)') &\n",
    "                                                    (adata_epi.obs['scitcem_call'] == 'tumour\\n(tumour sample)'))\n",
    "\n",
    "adata_epi.obs['tumour_normal_normal'] = None\n",
    "\n",
    "for i in np.arange(0, adata_epi.shape[0]):\n",
    "    if adata_epi.obs['sample_origin'][i] == '\\nnormal\\nsample\\n':\n",
    "        adata_epi.obs['tumour_normal_normal'][i] = 'normal_sample'\n",
    "    elif (adata_epi.obs['numbat'][i] == 'tumour\\n(tumour sample)') & (adata_epi.obs['scitcem_call'][i] == 'tumour\\n(tumour sample)'):\n",
    "        adata_epi.obs['tumour_normal_normal'][i] = 'genomically_tumour'\n",
    "    elif (adata_epi.obs['numbat'][i] == 'normal\\n(tumour sample)') & (adata_epi.obs['scitcem_call'][i] == 'normal\\n(tumour sample)'):\n",
    "        adata_epi.obs['tumour_normal_normal'][i] = 'genomically_normal'\n",
    "    else:\n",
    "        adata_epi.obs['tumour_normal_normal'][i] = 'no confident assignment'\n",
    "adata_epi.obs['tumour_normal_normal'] = adata_epi.obs['tumour_normal_normal'].astype('category')"
   ]
  },
  {
   "cell_type": "code",
   "execution_count": null,
   "id": "2aaecddf",
   "metadata": {},
   "outputs": [],
   "source": [
    "adata_epi.obs['tumour_normal_normal'].value_counts()"
   ]
  },
  {
   "cell_type": "code",
   "execution_count": null,
   "id": "59bb2d14",
   "metadata": {},
   "outputs": [],
   "source": [
    "adata_epi.obs['tumour_normal_normal'] = adata_epi.obs['tumour_normal_normal'\n",
    "                                                     ].cat.reorder_categories([\n",
    "    'genomically_tumour', 'no confident assignment',\n",
    "    'genomically_normal', 'normal_sample'])"
   ]
  },
  {
   "cell_type": "code",
   "execution_count": null,
   "id": "c8591d49",
   "metadata": {},
   "outputs": [],
   "source": [
    "adata_epi.uns['tumour_normal_normal_colors'] = ['#ff7f0e', '#9b1ee3','#1f77b4','#d3d3d3']"
   ]
  },
  {
   "cell_type": "code",
   "execution_count": null,
   "id": "c095d9a3",
   "metadata": {},
   "outputs": [],
   "source": [
    "anatomical_loc = pd.DataFrame({'patient': list(np.unique(adata_epi.obs['patient'])) ,\n",
    "                               'anatomical_location':['0_Cecum', '0_Cecum', '7_Sigmoid', '2_Ascending', '2_Ascending',\n",
    "                                                      '9_Rectum', '9_Rectum', '6_Descending', '0_Cecum', '2_Ascending']})"
   ]
  },
  {
   "cell_type": "code",
   "execution_count": null,
   "id": "49b296b7",
   "metadata": {},
   "outputs": [],
   "source": [
    "adata_epi.obs = adata_epi.obs.merge(anatomical_loc, on = 'patient', how='left').set_axis(adata_epi.obs.index)"
   ]
  },
  {
   "cell_type": "markdown",
   "id": "3d0e8406",
   "metadata": {},
   "source": [
    "### Venn"
   ]
  },
  {
   "cell_type": "code",
   "execution_count": null,
   "id": "b505767c",
   "metadata": {},
   "outputs": [],
   "source": [
    "set_infercnv = set(adata_epi[(adata_epi.obs['inferCNV_result'] == 'CNA\\n(tumour sample)') & \n",
    "                                     (adata_epi.obs['sample_origin'] == 'tumour\\nsample')].obs.index)\n",
    "len(set_infercnv)"
   ]
  },
  {
   "cell_type": "code",
   "execution_count": null,
   "id": "7b280bab",
   "metadata": {},
   "outputs": [],
   "source": [
    "set_scitcem = set(adata_epi[(adata_epi.obs['scitcem_call'] == 'tumour\\n(tumour sample)') & \n",
    "                                     (adata_epi.obs['sample_origin'] == 'tumour\\nsample')].obs.index)\n",
    "len(set_scitcem)"
   ]
  },
  {
   "cell_type": "code",
   "execution_count": null,
   "id": "76c65ab3",
   "metadata": {},
   "outputs": [],
   "source": [
    "set_numbat = set(adata_epi[(adata_epi.obs['numbat'] == 'tumour\\n(tumour sample)')& \n",
    "                                     (adata_epi.obs['sample_origin'] == 'tumour\\nsample')].obs.index)\n",
    "len(set_numbat)"
   ]
  },
  {
   "cell_type": "markdown",
   "id": "426755b7",
   "metadata": {
    "scrolled": true
   },
   "source": [
    "labels = venn.get_labels([set_scitcem, set_numbat, set_infercnv], fill = ['number'])\n",
    "fig, ax = venn.venn3(labels, names = [ 'Scitcem', 'Numbat', 'inferCNV_new'], \n",
    "                    )\n",
    "fig.suptitle('agreement on tumour cells (tumour sample only)', fontsize=24)\n",
    "fig.show()"
   ]
  },
  {
   "cell_type": "code",
   "execution_count": null,
   "id": "814fd576",
   "metadata": {},
   "outputs": [],
   "source": [
    "set_icms_scANVI = set(adata_epi[(adata_epi.obs['iCMS_scANVI'] != 'normal\\n(tumour sample)')& \n",
    "                                     (adata_epi.obs['sample_origin'] == 'tumour\\nsample')].obs.index)\n",
    "len(set_icms_scANVI)"
   ]
  },
  {
   "cell_type": "markdown",
   "id": "c41100c0",
   "metadata": {
    "scrolled": true
   },
   "source": [
    "labels = venn.get_labels([set_icms_scANVI, set_scitcem, set_numbat, set_infercnv], fill = ['number'])\n",
    "fig, ax = venn.venn4(labels, names = ['iCMS' ,'Scitcem', 'Numbat', 'inferCNV'], \n",
    "                    )\n",
    "fig.suptitle('agreement on tumour cells (tumour sample only)', fontsize=24)\n",
    "fig.show()"
   ]
  },
  {
   "cell_type": "markdown",
   "id": "d8ffdfc3",
   "metadata": {},
   "source": [
    "### upset plot"
   ]
  },
  {
   "cell_type": "code",
   "execution_count": null,
   "id": "0ffebb9e",
   "metadata": {},
   "outputs": [],
   "source": [
    "upset_dic = from_contents({'iCMS':sorted(set_icms_scANVI),\n",
    "               'Scitcem':sorted(set_scitcem),\n",
    "               'Numbat':sorted(set_numbat),\n",
    "               'inferCNV':sorted(set_infercnv)\n",
    "    \n",
    "})"
   ]
  },
  {
   "cell_type": "code",
   "execution_count": null,
   "id": "4b086029",
   "metadata": {},
   "outputs": [],
   "source": [
    "11008/17623"
   ]
  },
  {
   "cell_type": "code",
   "execution_count": null,
   "id": "9c07f888",
   "metadata": {},
   "outputs": [],
   "source": [
    "fig = plt.figure(figsize=(12, 5))\n",
    "upsetp = plot(upset_dic, show_counts=True, fig=fig, element_size=None);"
   ]
  },
  {
   "cell_type": "code",
   "execution_count": null,
   "id": "f9c76d4c",
   "metadata": {},
   "outputs": [],
   "source": [
    "upset_df = adata_epi[adata_epi.obs['sample_origin'] == 'tumour\\nsample'].obs.copy()\n",
    "\n",
    "upset_df = upset_df.set_index(upset_df.iCMS_scANVI.isin(['iCMS2\\n(tumour sample)','iCMS3\\n(tumour sample)'])).set_index(\n",
    "upset_df.inferCNV_result == 'CNA\\n(tumour sample)', append=True).set_index(\n",
    "upset_df.numbat == 'tumour\\n(tumour sample)', append=True).set_index(\n",
    "upset_df.scitcem_call == 'tumour\\n(tumour sample)', append=True)\n",
    "\n",
    "upset_df.index.rename(['iCMS', 'inferCNV', 'Numbat', 'Scitcem'], inplace=True)"
   ]
  },
  {
   "cell_type": "code",
   "execution_count": null,
   "id": "325ec3ba",
   "metadata": {},
   "outputs": [],
   "source": [
    "fig = plt.figure(figsize=(12, 6))\n",
    "\n",
    "upsetp = UpSet(upset_df, show_counts='%d', show_percentages=False, \n",
    "               intersection_plot_elements = 0, element_size=40)\n",
    "upsetp.add_stacked_bars(by='MS_status', elements = 10)\n",
    "upsetp.plot()\n",
    "plt.legend(bbox_to_anchor=(1.04, 1), loc=\"upper left\")\n",
    ";"
   ]
  },
  {
   "cell_type": "code",
   "execution_count": null,
   "id": "69b04e4b",
   "metadata": {},
   "outputs": [],
   "source": [
    "upset_df.inferCNV_result"
   ]
  },
  {
   "cell_type": "code",
   "execution_count": null,
   "id": "96cf921f",
   "metadata": {},
   "outputs": [],
   "source": [
    "upset_df_tumour_cells = upset_df[(upset_df.iCMS_scANVI != 'normal\\n(tumour sample)') |\n",
    "        (upset_df.numbat != 'normal\\n(tumour sample)') |\n",
    "        (upset_df.scitcem_call != 'normal\\n(tumour sample)') |\n",
    "        (~upset_df.inferCNV_result.isin(['CNN\\n(tumour sample)', 'failed_sample']))]"
   ]
  },
  {
   "cell_type": "code",
   "execution_count": null,
   "id": "e8d1d52c",
   "metadata": {},
   "outputs": [],
   "source": [
    "adata_epi.obs[['MS_status', 'anatomical_location', 'patient']].value_counts().sort_index()"
   ]
  },
  {
   "cell_type": "code",
   "execution_count": null,
   "id": "87c5eece",
   "metadata": {},
   "outputs": [],
   "source": [
    "fig = plt.figure(figsize=(12, 6))\n",
    "\n",
    "upsetp = UpSet(upset_df_tumour_cells, show_counts=True, show_percentages=False, \n",
    "               intersection_plot_elements = 0, element_size=40)\n",
    "upsetp.add_stacked_bars(by='anatomical_location', elements = 10)\n",
    "upsetp.plot()\n",
    "plt.legend(bbox_to_anchor=(1.04, 1), loc=\"upper left\")\n",
    ";"
   ]
  },
  {
   "cell_type": "code",
   "execution_count": null,
   "id": "a7c2160b",
   "metadata": {},
   "outputs": [],
   "source": [
    "fig = plt.figure(figsize=(12, 6))\n",
    "\n",
    "upsetp = UpSet(upset_df_tumour_cells, show_counts=True, show_percentages=False, \n",
    "               intersection_plot_elements = 0, element_size=40)\n",
    "upsetp.add_stacked_bars(by='patient', elements = 10)\n",
    "upsetp.plot()\n",
    "plt.legend(bbox_to_anchor=(1.04, 1), loc=\"upper left\")\n",
    ";"
   ]
  },
  {
   "cell_type": "code",
   "execution_count": null,
   "id": "3bc9b190",
   "metadata": {},
   "outputs": [],
   "source": [
    "fig = plt.figure(figsize=(12, 6))\n",
    "\n",
    "upsetp = UpSet(upset_df_tumour_cells, show_counts=True, show_percentages=False, \n",
    "               intersection_plot_elements = 0, element_size=40)\n",
    "upsetp.add_stacked_bars(by='Uhlitz_scANVI', elements = 10)\n",
    "upsetp.plot()\n",
    "plt.legend(bbox_to_anchor=(1.04, 1), loc=\"upper left\")\n",
    ";"
   ]
  },
  {
   "cell_type": "markdown",
   "id": "9116e45a",
   "metadata": {},
   "source": [
    "### Consensus cell identity"
   ]
  },
  {
   "cell_type": "markdown",
   "id": "2cff66a2",
   "metadata": {},
   "source": [
    "- normal sample\n",
    "- Numbat == tumour and Scitcem == tumour > tumour; same for normal\n",
    "- Scitcem == 0.5 & Numbat > 0.5 > tumour\n",
    "- MSS: Scitcem < 0.5 & Numbat > 0.5 > tumour\n",
    "- MSI: Scitcem > 0.5 & WGS normal sample Mutect2 alt. allele == 0\n",
    "\n",
    "- cell_identity_list = pd.read_csv(Path(new_data_folder)/'conflicting_cell_identity_scitcem_high.txt', index_col=0)"
   ]
  },
  {
   "cell_type": "code",
   "execution_count": null,
   "id": "18a2318d",
   "metadata": {},
   "outputs": [],
   "source": [
    "adata_epi.obs['cell_identity'] = None\n",
    "\n",
    "for i in np.arange(0, adata_epi.shape[0]):\n",
    "    if adata_epi.obs['sample_origin'][i] == '\\nnormal\\nsample\\n':\n",
    "        adata_epi.obs['cell_identity'][i] = 'normal_sample'\n",
    "    elif (adata_epi.obs['numbat'][i] == 'tumour\\n(tumour sample)') & (adata_epi.obs['scitcem_call'][i] == 'tumour\\n(tumour sample)'):\n",
    "        adata_epi.obs['cell_identity'][i] = 'genomically_tumour'\n",
    "    elif (adata_epi.obs['numbat'][i] == 'normal\\n(tumour sample)') & (adata_epi.obs['scitcem_call'][i] == 'normal\\n(tumour sample)'):\n",
    "        adata_epi.obs['cell_identity'][i] = 'genomically_normal'\n",
    "    # no observed alt. >> leave this to the MSS/MSI decision \n",
    "    #elif (adata_epi.obs['scitcem_p'][i] == 0.5) & (adata_epi.obs['p_cnv'][i] > 0.5):\n",
    "    #    adata_epi.obs['cell_identity'][i] = 'genomically_tumour'\n",
    "    \n",
    "    # Numbat is higher in MSS\n",
    "    elif (adata_epi.obs['MS_status'][i] == 'MSS') & (adata_epi.obs['p_cnv'][i] > 0.5):\n",
    "        adata_epi.obs['cell_identity'][i] = 'genomically_tumour'\n",
    "    # Scitcem is higher in MSI\n",
    "    elif (adata_epi.obs['MS_status'][i] == 'MSI') & (adata_epi.obs['scitcem_p'][i] > 0.5):\n",
    "        adata_epi.obs['cell_identity'][i] = 'genomically_tumour'\n",
    "    else:\n",
    "        adata_epi.obs['cell_identity'][i] = 'no confident assignment'\n",
    "        \n",
    "adata_epi.obs['cell_identity'] = adata_epi.obs['cell_identity'].astype('category')\n",
    "          "
   ]
  },
  {
   "cell_type": "code",
   "execution_count": null,
   "id": "ca6e8868",
   "metadata": {},
   "outputs": [],
   "source": [
    "adata_epi.obs['cell_identity'].value_counts().sort_index()"
   ]
  },
  {
   "cell_type": "code",
   "execution_count": null,
   "id": "c3aee3dd",
   "metadata": {},
   "outputs": [],
   "source": [
    "adata_epi[adata_epi.obs['cell_identity'] == 'no confident assignment'].obs['sample'].value_counts().sort_index()"
   ]
  },
  {
   "cell_type": "code",
   "execution_count": null,
   "id": "bfb66bc5",
   "metadata": {},
   "outputs": [],
   "source": [
    "adata_epi.uns['cell_identity_colors'] = adata_epi.uns['tumour_normal_normal_colors']"
   ]
  },
  {
   "cell_type": "code",
   "execution_count": null,
   "id": "8ca1e856",
   "metadata": {},
   "outputs": [],
   "source": [
    "adata_epi.obs['cell_identity'] = adata_epi.obs['cell_identity'].cat.reorder_categories(['genomically_tumour','no confident assignment', \n",
    "                                                             'genomically_normal','normal_sample'])"
   ]
  },
  {
   "cell_type": "code",
   "execution_count": null,
   "id": "3adfe39f",
   "metadata": {},
   "outputs": [],
   "source": [
    "adata_epi.obs['tumour_normal_normal'] = adata_epi.obs['tumour_normal_normal'].cat.reorder_categories(['genomically_tumour','no confident assignment', \n",
    "                                                             'genomically_normal','normal_sample'])"
   ]
  },
  {
   "cell_type": "markdown",
   "id": "ebee64b6",
   "metadata": {},
   "source": [
    "adata_epi.write(Path(new_data_folder)/'202310_CB_epi_Numbat_Scitcem_inferCNV_icms_Uhlitz_scanvi_resolved_identity.h5')"
   ]
  },
  {
   "cell_type": "markdown",
   "id": "6b51b1ad",
   "metadata": {},
   "source": [
    "adata_epi.obs['cell_identity'].to_frame().to_csv(Path(new_data_folder)/'20231108_Numbat_and_Scitcem_resolved_assignment_cellid.csv')"
   ]
  },
  {
   "cell_type": "code",
   "execution_count": null,
   "id": "efaae1e8",
   "metadata": {},
   "outputs": [],
   "source": []
  },
  {
   "cell_type": "code",
   "execution_count": null,
   "id": "240c445a",
   "metadata": {},
   "outputs": [],
   "source": [
    "# re-run to include cell_identity col\n",
    "upset_df = adata_epi[adata_epi.obs['sample_origin'] == 'tumour\\nsample'].obs.copy()\n",
    "\n",
    "upset_df = upset_df.set_index(upset_df.iCMS_scANVI.isin(['iCMS2\\n(tumour sample)','iCMS3\\n(tumour sample)'])).set_index(\n",
    "upset_df.inferCNV_result == 'CNA\\n(tumour sample)', append=True).set_index(\n",
    "upset_df.numbat == 'tumour\\n(tumour sample)', append=True).set_index(\n",
    "upset_df.scitcem_call == 'tumour\\n(tumour sample)', append=True)\n",
    "\n",
    "upset_df.index.rename(['iCMS', 'inferCNV', 'Numbat', 'Scitcem'], inplace=True)"
   ]
  },
  {
   "cell_type": "code",
   "execution_count": null,
   "id": "fa8d0775",
   "metadata": {},
   "outputs": [],
   "source": [
    "fig = plt.figure(figsize=(12, 6))\n",
    "\n",
    "upsetp = UpSet(upset_df, show_counts='%d', show_percentages=False, \n",
    "               intersection_plot_elements = 0, element_size=40)\n",
    "upsetp.add_stacked_bars(by='cell_identity', elements = 10)\n",
    "upsetp.plot()\n",
    "plt.legend(bbox_to_anchor=(1.04, 1), loc=\"upper left\")\n",
    ";"
   ]
  },
  {
   "cell_type": "code",
   "execution_count": null,
   "id": "ba14a748",
   "metadata": {},
   "outputs": [],
   "source": [
    "fig = plt.figure(figsize=(12, 6))\n",
    "\n",
    "upsetp = UpSet(upset_df, show_counts='%d', show_percentages=False, \n",
    "               intersection_plot_elements = 0, element_size=40, max_subset_size=2000)\n",
    "upsetp.add_stacked_bars(by='cell_identity', elements = 10)\n",
    "upsetp.plot()\n",
    "plt.legend(bbox_to_anchor=(1.04, 1), loc=\"upper left\")\n",
    ";"
   ]
  },
  {
   "cell_type": "code",
   "execution_count": null,
   "id": "ce20dada",
   "metadata": {},
   "outputs": [],
   "source": [
    "fig = plt.figure(figsize=(12, 6))\n",
    "\n",
    "upsetp = UpSet(upset_df, show_counts='%d', show_percentages=False, \n",
    "               intersection_plot_elements = 0, element_size=40, max_subset_size=2000)\n",
    "upsetp.add_stacked_bars(by='MS_status', elements = 10)\n",
    "upsetp.plot()\n",
    "plt.legend(bbox_to_anchor=(1.04, 1), loc=\"upper left\")\n",
    ";"
   ]
  },
  {
   "cell_type": "code",
   "execution_count": null,
   "id": "446fd0f7",
   "metadata": {},
   "outputs": [],
   "source": [
    "adata_epi[(adata_epi.obs['tumour_normal_normal'] == 'genomically_tumour')].shape"
   ]
  },
  {
   "cell_type": "code",
   "execution_count": null,
   "id": "2d134790",
   "metadata": {},
   "outputs": [],
   "source": [
    "adata_epi[(adata_epi.obs['tumour_normal_normal'] == 'genomically_tumour')].obs['filter_alt'].value_counts()"
   ]
  },
  {
   "cell_type": "markdown",
   "id": "ea27a098",
   "metadata": {},
   "source": [
    "### p035t "
   ]
  },
  {
   "cell_type": "code",
   "execution_count": null,
   "id": "e53cffcd",
   "metadata": {},
   "outputs": [],
   "source": [
    "# Scitcem > 0.5 > 226 cells\n",
    "p035t_cells = adata_epi[(adata_epi.obs['sample'] == 'p035t') & \n",
    "          (adata_epi.obs['tumour_normal_normal'] == 'no confident assignment') &\n",
    "          (adata_epi.obs['scitcem_p'] > 0.5)].obs.sort_values(['scitcem_p', 'p_cnv'])"
   ]
  },
  {
   "cell_type": "code",
   "execution_count": null,
   "id": "31d2cfc5",
   "metadata": {},
   "outputs": [],
   "source": [
    "(p035t_cells['scitcem_p'] < 1).value_counts()"
   ]
  },
  {
   "cell_type": "code",
   "execution_count": null,
   "id": "b392375b",
   "metadata": {},
   "outputs": [],
   "source": [
    "plt.figure(figsize=(12, 5))\n",
    "sns.scatterplot(data = p035t_cells.reset_index(), x = 'index', y = 'p_cnv', hue = 'iCMS_scANVI')\n",
    "plt.xticks(rotation=90)\n",
    "plt.xticks('');"
   ]
  },
  {
   "cell_type": "code",
   "execution_count": null,
   "id": "cfe8c537",
   "metadata": {},
   "outputs": [],
   "source": [
    "p035t_cells[p035t_cells['scitcem_p'] < 0.999999999999999833].shape"
   ]
  },
  {
   "cell_type": "code",
   "execution_count": null,
   "id": "c4cd8c33",
   "metadata": {},
   "outputs": [],
   "source": [
    "plt.figure(figsize=(12, 5))\n",
    "sns.scatterplot(data = p035t_cells[p035t_cells['scitcem_p'] < 0.999999999999999833].reset_index(), \n",
    "                x = 'index', y = 'p_cnv')\n",
    "plt.xticks(rotation=90);"
   ]
  },
  {
   "cell_type": "code",
   "execution_count": null,
   "id": "8fd3e5cc",
   "metadata": {},
   "outputs": [],
   "source": [
    "p035t_cells[85:100]"
   ]
  },
  {
   "cell_type": "code",
   "execution_count": null,
   "id": "69f9f8b9",
   "metadata": {},
   "outputs": [],
   "source": [
    "p035t_cells.reset_index()[p035t_cells.reset_index()['filter_alt'] > 100]"
   ]
  },
  {
   "cell_type": "code",
   "execution_count": null,
   "id": "ae93d879",
   "metadata": {},
   "outputs": [],
   "source": [
    "p035t_cells.shape[0]-86"
   ]
  },
  {
   "cell_type": "markdown",
   "id": "8aab387b",
   "metadata": {},
   "source": [
    "### huge heatmap of cell identity"
   ]
  },
  {
   "cell_type": "code",
   "execution_count": null,
   "id": "de3223ce",
   "metadata": {},
   "outputs": [],
   "source": [
    "sns.color_palette(\"blend:#1f77b4,#d5d5d5,#ff7f0e\", as_cmap=True)"
   ]
  },
  {
   "cell_type": "code",
   "execution_count": null,
   "id": "39623c6c",
   "metadata": {},
   "outputs": [],
   "source": [
    "# assign tumour to 1 and normal to 0 for heatmap\n",
    "dummy_ci_df = pd.get_dummies(adata_epi[adata_epi.obs['sample'].isin(tsamples)].obs[['numbat', 'scitcem_call']])[[\n",
    "    'numbat_tumour\\n(tumour sample)', 'scitcem_call_tumour\\n(tumour sample)'\n",
    "]].merge(adata_epi[adata_epi.obs['sample'].isin(tsamples)].obs[['sample','p_cnv','scitcem_p', \n",
    "                                                                'filter_alt', 'filter_dp','mean_VAF']], \n",
    "         left_index=True, right_index=True)"
   ]
  },
  {
   "cell_type": "code",
   "execution_count": null,
   "id": "0f6c73e1",
   "metadata": {},
   "outputs": [],
   "source": [
    "dummy_ci_df.shape"
   ]
  },
  {
   "cell_type": "code",
   "execution_count": null,
   "id": "26ad7f8a",
   "metadata": {},
   "outputs": [],
   "source": [
    "dummy_ci_df[['numbat_tumour\\n(tumour sample)','scitcem_call_tumour\\n(tumour sample)']].value_counts()"
   ]
  },
  {
   "cell_type": "code",
   "execution_count": null,
   "id": "296cb70c",
   "metadata": {},
   "outputs": [],
   "source": [
    "with plt.style.context('./plt_style'):\n",
    "    cmap = sns.color_palette(\"blend:#1f77b4,#ff7f0e\", as_cmap=True)\n",
    "    fig, (ax1, ax2, ax3, ax4, ax5, ax6, ax7, ax8, ax9, ax10, ax11) = plt.subplots(nrows = 11)\n",
    "    \n",
    "    sns.heatmap(dummy_ci_df[dummy_ci_df['sample'] == tsamples[0]].sort_values(['numbat_tumour\\n(tumour sample)',\n",
    "                                                                               'scitcem_call_tumour\\n(tumour sample)'\n",
    "                                                                                  ])[['numbat_tumour\\n(tumour sample)',\n",
    "                                                                                      'scitcem_call_tumour\\n(tumour sample)']].T,\n",
    "                xticklabels = False,\n",
    "                cmap=cmap,ax=ax1, cbar=False, yticklabels = False)\n",
    "    \n",
    "    sns.heatmap(dummy_ci_df[dummy_ci_df['sample'] == tsamples[1]].sort_values(['numbat_tumour\\n(tumour sample)',\n",
    "                                                                               'scitcem_call_tumour\\n(tumour sample)'\n",
    "                                                                                  ])[['numbat_tumour\\n(tumour sample)',\n",
    "                                                                                      'scitcem_call_tumour\\n(tumour sample)']].T,\n",
    "                xticklabels = False,\n",
    "                cmap=cmap, ax=ax2, cbar=False, yticklabels = False)\n",
    "    \n",
    "    sns.heatmap(dummy_ci_df[dummy_ci_df['sample'] == tsamples[2]].sort_values(['numbat_tumour\\n(tumour sample)',\n",
    "                                                                               'scitcem_call_tumour\\n(tumour sample)'\n",
    "                                                                                  ])[['numbat_tumour\\n(tumour sample)',\n",
    "                                                                                      'scitcem_call_tumour\\n(tumour sample)']].T,\n",
    "                xticklabels = False,\n",
    "                cmap=cmap, ax=ax3, cbar=False, yticklabels = False)\n",
    "    \n",
    "    sns.heatmap(dummy_ci_df[dummy_ci_df['sample'] == tsamples[3]].sort_values(['numbat_tumour\\n(tumour sample)',\n",
    "                                                                               'scitcem_call_tumour\\n(tumour sample)'\n",
    "                                                                                  ])[['numbat_tumour\\n(tumour sample)',\n",
    "                                                                                      'scitcem_call_tumour\\n(tumour sample)']].T,\n",
    "                xticklabels = False,\n",
    "                cmap=cmap, ax=ax4, cbar=False, yticklabels = False)\n",
    "    \n",
    "    sns.heatmap(dummy_ci_df[dummy_ci_df['sample'] == tsamples[4]].sort_values(['numbat_tumour\\n(tumour sample)',\n",
    "                                                                               'scitcem_call_tumour\\n(tumour sample)'\n",
    "                                                                                  ])[['numbat_tumour\\n(tumour sample)',\n",
    "                                                                                      'scitcem_call_tumour\\n(tumour sample)']].T,\n",
    "                xticklabels = False,\n",
    "                cmap=cmap, ax=ax5, cbar=False, yticklabels = False)\n",
    "    \n",
    "    sns.heatmap(dummy_ci_df[dummy_ci_df['sample'] == tsamples[5]].sort_values(['numbat_tumour\\n(tumour sample)',\n",
    "                                                                               'scitcem_call_tumour\\n(tumour sample)'\n",
    "                                                                                  ])[['numbat_tumour\\n(tumour sample)',\n",
    "                                                                                      'scitcem_call_tumour\\n(tumour sample)']].T,\n",
    "                xticklabels = False,\n",
    "                cmap=cmap, ax=ax6, cbar=False, yticklabels = False)\n",
    "    \n",
    "    sns.heatmap(dummy_ci_df[dummy_ci_df['sample'] == tsamples[6]].sort_values(['numbat_tumour\\n(tumour sample)',\n",
    "                                                                               'scitcem_call_tumour\\n(tumour sample)'\n",
    "                                                                                  ])[['numbat_tumour\\n(tumour sample)',\n",
    "                                                                                      'scitcem_call_tumour\\n(tumour sample)']].T,\n",
    "                xticklabels = False,\n",
    "                cmap=cmap, ax=ax7, cbar=False, yticklabels = False)\n",
    "    \n",
    "    sns.heatmap(dummy_ci_df[dummy_ci_df['sample'] == tsamples[7]].sort_values(['numbat_tumour\\n(tumour sample)',\n",
    "                                                                               'scitcem_call_tumour\\n(tumour sample)'\n",
    "                                                                                  ])[['numbat_tumour\\n(tumour sample)',\n",
    "                                                                                      'scitcem_call_tumour\\n(tumour sample)']].T,\n",
    "                xticklabels = False,\n",
    "                cmap=cmap, ax=ax8, cbar=False, yticklabels = False)\n",
    "    \n",
    "    sns.heatmap(dummy_ci_df[dummy_ci_df['sample'] == tsamples[8]].sort_values(['numbat_tumour\\n(tumour sample)',\n",
    "                                                                               'scitcem_call_tumour\\n(tumour sample)'\n",
    "                                                                                  ])[['numbat_tumour\\n(tumour sample)',\n",
    "                                                                                      'scitcem_call_tumour\\n(tumour sample)']].T,\n",
    "                xticklabels = False,\n",
    "                cmap=cmap, ax=ax9, cbar=False, yticklabels = False)\n",
    "    \n",
    "    sns.heatmap(dummy_ci_df[dummy_ci_df['sample'] == tsamples[9]].sort_values(['numbat_tumour\\n(tumour sample)',\n",
    "                                                                               'scitcem_call_tumour\\n(tumour sample)'\n",
    "                                                                                  ])[['numbat_tumour\\n(tumour sample)',\n",
    "                                                                                      'scitcem_call_tumour\\n(tumour sample)']].T,\n",
    "                xticklabels = False,\n",
    "                cmap=cmap, ax=ax10, cbar=False, yticklabels = False)\n",
    "    \n",
    "    sns.heatmap(dummy_ci_df[dummy_ci_df['sample'] == tsamples[10]].sort_values(['numbat_tumour\\n(tumour sample)',\n",
    "                                                                               'scitcem_call_tumour\\n(tumour sample)'\n",
    "                                                                                  ])[['numbat_tumour\\n(tumour sample)',\n",
    "                                                                                      'scitcem_call_tumour\\n(tumour sample)']].T,\n",
    "                xticklabels = False,\n",
    "                cmap=cmap, ax=ax11, cbar=False, yticklabels = False)\n",
    "\n",
    "    ax1.set(ylabel=tsamples[0])\n",
    "    ax1.yaxis.label.set(rotation=0, ha='right', va= 'center', size = 16)\n",
    "    \n",
    "    ax2.set(ylabel=tsamples[1])\n",
    "    ax2.yaxis.label.set(rotation=0, ha='right', va= 'center', size = 16)\n",
    "    \n",
    "    ax3.set(ylabel=tsamples[2])\n",
    "    ax3.yaxis.label.set(rotation=0, ha='right', va= 'center', size = 16)\n",
    "    \n",
    "    ax4.set(ylabel=tsamples[3])\n",
    "    ax4.yaxis.label.set(rotation=0, ha='right', va= 'center', size = 16)\n",
    "    \n",
    "    ax5.set(ylabel=tsamples[4])\n",
    "    ax5.yaxis.label.set(rotation=0, ha='right', va= 'center', size = 16)\n",
    "    \n",
    "    ax6.set(ylabel=tsamples[5])\n",
    "    ax6.yaxis.label.set(rotation=0, ha='right', va= 'center', size = 16)\n",
    "    \n",
    "    ax7.set(ylabel=tsamples[6])\n",
    "    ax7.yaxis.label.set(rotation=0, ha='right', va= 'center', size = 16)\n",
    "    \n",
    "    ax8.set(ylabel=tsamples[7])\n",
    "    ax8.yaxis.label.set(rotation=0, ha='right', va= 'center', size = 16)\n",
    "    \n",
    "    ax9.set(ylabel=tsamples[8])\n",
    "    ax9.yaxis.label.set(rotation=0, ha='right', va= 'center', size = 16)\n",
    "    \n",
    "    ax10.set(ylabel=tsamples[9])\n",
    "    ax10.yaxis.label.set(rotation=0, ha='right', va= 'center', size = 16)\n",
    "    \n",
    "    ax11.set(ylabel=tsamples[10])\n",
    "    ax11.yaxis.label.set(rotation=0, ha='right', va= 'center', size = 16)\n",
    "    \n",
    "    ax1.set_title('Cell identity assignment\\n')\n",
    "    \n",
    "    \n",
    ";"
   ]
  },
  {
   "cell_type": "code",
   "execution_count": null,
   "id": "4b2cbff8",
   "metadata": {},
   "outputs": [],
   "source": [
    "cmap = sns.color_palette(\"blend:#1f77b4,#ff7f0e\", as_cmap=True)\n",
    "fig, (axes) = plt.subplots(nrows = 11, subplot_kw={'yticks':[]}, figsize = (10,10))\n",
    "\n",
    "axins = inset_axes(axes[0], width=\"100%\", height=\"2000%\",\n",
    "                   bbox_to_anchor=(1.05, -2, .03, .4),\n",
    "                   bbox_transform=axes[0].transAxes, loc=2, borderpad=0)\n",
    "axins.tick_params(left=False, right=True, labelleft=False, labelright=True)\n",
    "    \n",
    "\n",
    "images = []\n",
    "\n",
    "for i in np.arange(0,11):\n",
    "    data = np.asarray(dummy_ci_df[dummy_ci_df['sample'] == tsamples[i]].sort_values(['numbat_tumour\\n(tumour sample)',\n",
    "                                                                               'scitcem_call_tumour\\n(tumour sample)'\n",
    "                                                                                  ])[['numbat_tumour\\n(tumour sample)',\n",
    "                                                                                      'scitcem_call_tumour\\n(tumour sample)']].T)\n",
    "    \n",
    "        \n",
    "    axes[i].set(ylabel=tsamples[i])\n",
    "    axes[i].yaxis.label.set(rotation=0, ha='right', va= 'center')\n",
    "    \n",
    "    images.append(axes[i].imshow(data, cmap = cmap, aspect = 'auto',\n",
    "                       interpolation = 'nearest', interpolation_stage = 'rgba'))\n",
    "        \n",
    "fig.colorbar(images[0], cax = axins, fraction = .03)\n",
    "\n",
    "fig.subplots_adjust(hspace = 0.6)\n",
    "\n",
    ";"
   ]
  },
  {
   "cell_type": "code",
   "execution_count": null,
   "id": "d33a6334",
   "metadata": {},
   "outputs": [],
   "source": [
    "dummy_ci_df[dummy_ci_df.p_cnv > 1] #3275"
   ]
  },
  {
   "cell_type": "code",
   "execution_count": null,
   "id": "50666a72",
   "metadata": {},
   "outputs": [],
   "source": [
    "dummy_ci_df['mod_p_cnv'] = None\n",
    "\n",
    "for i in np.arange(0, dummy_ci_df.shape[0]):\n",
    "    if np.round(dummy_ci_df['p_cnv'][i], 2) == 1:\n",
    "        dummy_ci_df['mod_p_cnv'][i] = 1\n",
    "    else:\n",
    "        dummy_ci_df['mod_p_cnv'][i] = dummy_ci_df['p_cnv'][i]\n",
    "dummy_ci_df['mod_p_cnv'] = dummy_ci_df['mod_p_cnv'].astype('float64')"
   ]
  },
  {
   "cell_type": "code",
   "execution_count": null,
   "id": "235856db",
   "metadata": {},
   "outputs": [],
   "source": [
    "tsamples_original = tsamples.copy()"
   ]
  },
  {
   "cell_type": "code",
   "execution_count": null,
   "id": "95c2b27d",
   "metadata": {},
   "outputs": [],
   "source": [
    "tsamples = ['P07t',\n",
    " 'P08t',\n",
    " 'P09t',\n",
    " 'P09t',\n",
    " 'P13t',\n",
    " 'P14t',\n",
    " 'P16t',\n",
    " 'P20t',\n",
    " 'P21t',\n",
    " 'P26t',\n",
    " 'P35t']"
   ]
  },
  {
   "cell_type": "code",
   "execution_count": null,
   "id": "64cc5dae",
   "metadata": {},
   "outputs": [],
   "source": [
    "dummy_ci_df['sample_rev'] = None\n",
    "\n",
    "for i in np.arange(0, dummy_ci_df.shape[0]):\n",
    "    if dummy_ci_df['sample'][i] in ['p009t1', 'p009t2']:\n",
    "        dummy_ci_df['sample_rev'][i] = 'P09t'\n",
    "    elif dummy_ci_df['sample'][i] in ['p009n1', 'p009n2']:\n",
    "        dummy_ci_df['sample_rev'][i] = 'P09n'\n",
    "    else:\n",
    "        dummy_ci_df['sample_rev'][i] = dummy_ci_df['sample'][i].replace('p0', 'P')\n",
    "        \n",
    "dummy_ci_df['sample_rev'] = dummy_ci_df['sample_rev'].astype('category')"
   ]
  },
  {
   "cell_type": "code",
   "execution_count": null,
   "id": "1b3e0878",
   "metadata": {},
   "outputs": [],
   "source": [
    "dummy_ci_df['sample_original'] = dummy_ci_df['sample'].copy()"
   ]
  },
  {
   "cell_type": "code",
   "execution_count": null,
   "id": "7c989dcb",
   "metadata": {},
   "outputs": [],
   "source": [
    "dummy_ci_df['sample'] = dummy_ci_df['sample_rev'].copy()"
   ]
  },
  {
   "cell_type": "code",
   "execution_count": null,
   "id": "35cd6172",
   "metadata": {},
   "outputs": [],
   "source": [
    "# map the probability\n",
    "with plt.style.context('./plt_style'):\n",
    "    cmap = sns.color_palette(\"blend:#1f77b4,#333333,#ff7f0e\", as_cmap=True)\n",
    "    fig, (ax1, ax2, ax3, ax4, ax5, ax6, ax7, ax8, ax9, ax10, ax11) = plt.subplots(nrows = 11)\n",
    "    \n",
    "    from mpl_toolkits.axes_grid1.inset_locator import inset_axes\n",
    "    #cbar_ax = fig.add_axes([.91, .3, .03, .4])\n",
    "    \n",
    "    axins = inset_axes(ax1, width=\"100%\", height=\"2000%\",\n",
    "                   bbox_to_anchor=(1.05, -2, .03, .4),\n",
    "                   bbox_transform=ax1.transAxes, loc=2, borderpad=0)\n",
    "    axins.tick_params(left=False, right=True, labelleft=False, labelright=True)\n",
    "    \n",
    "    sns.heatmap(dummy_ci_df[dummy_ci_df['sample'] == tsamples[0]].sort_values(['numbat_tumour\\n(tumour sample)',\n",
    "                                                                               'scitcem_call_tumour\\n(tumour sample)',\n",
    "                                                                               'mod_p_cnv','scitcem_p']\n",
    "                                                                             )[['mod_p_cnv','scitcem_p']].T,\n",
    "                xticklabels = False,\n",
    "                cmap=cmap,ax=ax1, cbar_ax=axins, yticklabels = False)\n",
    "    \n",
    "    sns.heatmap(dummy_ci_df[dummy_ci_df['sample'] == tsamples[1]].sort_values(['numbat_tumour\\n(tumour sample)',\n",
    "                                                                               'scitcem_call_tumour\\n(tumour sample)',\n",
    "                                                                                'mod_p_cnv','scitcem_p'\n",
    "                                                                                  ])[['mod_p_cnv','scitcem_p']].T,\n",
    "                xticklabels = False,\n",
    "                cmap=cmap, ax=ax2, cbar=False, yticklabels = False)\n",
    "    \n",
    "    sns.heatmap(dummy_ci_df[dummy_ci_df['sample'] == tsamples[2]].sort_values(['numbat_tumour\\n(tumour sample)',\n",
    "                                                                               'scitcem_call_tumour\\n(tumour sample)',\n",
    "                                                                                'mod_p_cnv','scitcem_p'\n",
    "                                                                                  ])[['mod_p_cnv','scitcem_p']].T,\n",
    "                xticklabels = False,\n",
    "                cmap=cmap, ax=ax3, cbar=False, yticklabels = False)\n",
    "    \n",
    "    sns.heatmap(dummy_ci_df[dummy_ci_df['sample'] == tsamples[3]].sort_values(['numbat_tumour\\n(tumour sample)',\n",
    "                                                                               'scitcem_call_tumour\\n(tumour sample)',\n",
    "                                                                                'mod_p_cnv','scitcem_p'\n",
    "                                                                                  ])[['mod_p_cnv','scitcem_p']].T,\n",
    "                xticklabels = False,\n",
    "                cmap=cmap, ax=ax4, cbar=False, yticklabels = False)\n",
    "    \n",
    "    sns.heatmap(dummy_ci_df[dummy_ci_df['sample'] == tsamples[4]].sort_values(['numbat_tumour\\n(tumour sample)',\n",
    "                                                                               'scitcem_call_tumour\\n(tumour sample)',\n",
    "                                                                                'mod_p_cnv','scitcem_p'\n",
    "                                                                                  ])[['mod_p_cnv','scitcem_p']].T,\n",
    "                xticklabels = False,\n",
    "                cmap=cmap, ax=ax5, cbar=False, yticklabels = False)\n",
    "    \n",
    "    sns.heatmap(dummy_ci_df[dummy_ci_df['sample'] == tsamples[5]].sort_values(['numbat_tumour\\n(tumour sample)',\n",
    "                                                                               'scitcem_call_tumour\\n(tumour sample)',\n",
    "                                                                                'mod_p_cnv','scitcem_p'\n",
    "                                                                                  ])[['mod_p_cnv','scitcem_p']].T,\n",
    "                xticklabels = False,\n",
    "                cmap=cmap, ax=ax6, cbar=False, yticklabels = False)\n",
    "    \n",
    "    sns.heatmap(dummy_ci_df[dummy_ci_df['sample'] == tsamples[6]].sort_values(['numbat_tumour\\n(tumour sample)',\n",
    "                                                                               'scitcem_call_tumour\\n(tumour sample)',\n",
    "                                                                                'mod_p_cnv','scitcem_p'\n",
    "                                                                                  ])[['mod_p_cnv','scitcem_p']].T,\n",
    "                xticklabels = False,\n",
    "                cmap=cmap, ax=ax7, cbar=False, yticklabels = False)\n",
    "    \n",
    "    sns.heatmap(dummy_ci_df[dummy_ci_df['sample'] == tsamples[7]].sort_values(['numbat_tumour\\n(tumour sample)',\n",
    "                                                                               'scitcem_call_tumour\\n(tumour sample)',\n",
    "                                                                                'mod_p_cnv','scitcem_p'\n",
    "                                                                                  ])[['mod_p_cnv','scitcem_p']].T,\n",
    "                xticklabels = False,\n",
    "                cmap=cmap, ax=ax8, cbar=False, yticklabels = False)\n",
    "    \n",
    "    sns.heatmap(dummy_ci_df[dummy_ci_df['sample'] == tsamples[8]].sort_values(['numbat_tumour\\n(tumour sample)',\n",
    "                                                                               'scitcem_call_tumour\\n(tumour sample)',\n",
    "                                                                                'mod_p_cnv','scitcem_p'\n",
    "                                                                                  ])[['mod_p_cnv','scitcem_p']].T,\n",
    "                xticklabels = False,\n",
    "                cmap=cmap, ax=ax9, cbar=False, yticklabels = False)\n",
    "    \n",
    "    sns.heatmap(dummy_ci_df[dummy_ci_df['sample'] == tsamples[9]].sort_values(['numbat_tumour\\n(tumour sample)',\n",
    "                                                                               'scitcem_call_tumour\\n(tumour sample)',\n",
    "                                                                                'mod_p_cnv','scitcem_p'\n",
    "                                                                                  ])[['mod_p_cnv','scitcem_p']].T,\n",
    "                xticklabels = False,\n",
    "                cmap=cmap, ax=ax10, cbar=False, yticklabels = False)\n",
    "    \n",
    "    sns.heatmap(dummy_ci_df[dummy_ci_df['sample'] == tsamples[10]].sort_values(['numbat_tumour\\n(tumour sample)',\n",
    "                                                                               'scitcem_call_tumour\\n(tumour sample)',\n",
    "                                                                                'mod_p_cnv','scitcem_p'\n",
    "                                                                                  ])[['mod_p_cnv','scitcem_p']].T,\n",
    "                xticklabels = False,\n",
    "                cmap=cmap, ax=ax11, cbar=False, yticklabels = False)\n",
    "\n",
    "    ax1.set(ylabel=tsamples[0])\n",
    "    ax1.yaxis.label.set(rotation=0, ha='right', va= 'center', size = 16)\n",
    "    \n",
    "    ax2.set(ylabel=tsamples[1])\n",
    "    ax2.yaxis.label.set(rotation=0, ha='right', va= 'center', size = 16)\n",
    "    \n",
    "    ax3.set(ylabel=tsamples[2])\n",
    "    ax3.yaxis.label.set(rotation=0, ha='right', va= 'center', size = 16)\n",
    "    \n",
    "    ax4.set(ylabel=tsamples[3])\n",
    "    ax4.yaxis.label.set(rotation=0, ha='right', va= 'center', size = 16)\n",
    "    \n",
    "    ax5.set(ylabel=tsamples[4])\n",
    "    ax5.yaxis.label.set(rotation=0, ha='right', va= 'center', size = 16)\n",
    "    \n",
    "    ax6.set(ylabel=tsamples[5])\n",
    "    ax6.yaxis.label.set(rotation=0, ha='right', va= 'center', size = 16)\n",
    "    \n",
    "    ax7.set(ylabel=tsamples[6])\n",
    "    ax7.yaxis.label.set(rotation=0, ha='right', va= 'center', size = 16)\n",
    "    \n",
    "    ax8.set(ylabel=tsamples[7])\n",
    "    ax8.yaxis.label.set(rotation=0, ha='right', va= 'center', size = 16)\n",
    "    \n",
    "    ax9.set(ylabel=tsamples[8])\n",
    "    ax9.yaxis.label.set(rotation=0, ha='right', va= 'center', size = 16)\n",
    "    \n",
    "    ax10.set(ylabel=tsamples[9])\n",
    "    ax10.yaxis.label.set(rotation=0, ha='right', va= 'center', size = 16)\n",
    "    \n",
    "    ax11.set(ylabel=tsamples[10])\n",
    "    ax11.yaxis.label.set(rotation=0, ha='right', va= 'center', size = 16)\n",
    "    \n",
    "    #ax1.set_title('Cell identity assignment probability\\n')\n",
    "    \n",
    "    #plt.tight_layout()\n",
    "    \n",
    ";"
   ]
  },
  {
   "cell_type": "code",
   "execution_count": null,
   "id": "611664ea",
   "metadata": {},
   "outputs": [],
   "source": [
    "tsamples = ['P07t',\n",
    " 'P08t',\n",
    " 'P09t',\n",
    " 'P13t',\n",
    " 'P14t',\n",
    " 'P16t',\n",
    " 'P20t',\n",
    " 'P21t',\n",
    " 'P26t',\n",
    " 'P35t']"
   ]
  },
  {
   "cell_type": "code",
   "execution_count": null,
   "id": "c8c24c6d",
   "metadata": {},
   "outputs": [],
   "source": [
    "dummy_ci_df['sample'].value_counts().sort_index()"
   ]
  },
  {
   "cell_type": "code",
   "execution_count": null,
   "id": "061af5a6",
   "metadata": {},
   "outputs": [],
   "source": [
    "adata_epi.obs['sample'].value_counts().sort_index()"
   ]
  },
  {
   "cell_type": "code",
   "execution_count": null,
   "id": "c10d4ec6",
   "metadata": {},
   "outputs": [],
   "source": [
    "data.shape[1]/2"
   ]
  },
  {
   "cell_type": "code",
   "execution_count": null,
   "id": "4ab9aedc",
   "metadata": {},
   "outputs": [],
   "source": [
    "cmap = sns.color_palette(\"blend:#1f77b4,#333333,#ff7f0e\", as_cmap=True)\n",
    "\n",
    "fig, (axes) = plt.subplots(nrows = 10, subplot_kw={'xticks':[],'yticks':[]}, figsize = (7/2.54,10/2.54))\n",
    "\n",
    "axins = inset_axes(axes[0], width=\"100%\", height=\"2000%\",\n",
    "                   bbox_to_anchor=(1.05, -1, .03, .4),\n",
    "                   bbox_transform=axes[0].transAxes, loc=2, borderpad=0)\n",
    "axins.tick_params(left=False, right=True, labelleft=False, labelright=True)\n",
    "    \n",
    "\n",
    "images = []\n",
    "\n",
    "for i in np.arange(0,10):\n",
    "    data = np.asarray(dummy_ci_df[dummy_ci_df['sample'] == tsamples[i]].sort_values(['numbat_tumour\\n(tumour sample)',\n",
    "                                                                               'scitcem_call_tumour\\n(tumour sample)',\n",
    "                                                                                'mod_p_cnv','scitcem_p'\n",
    "                                                                                  ])[['mod_p_cnv','scitcem_p']].T)\n",
    "         \n",
    "    axes[i].set(ylabel=tsamples[i])\n",
    "    axes[i].yaxis.label.set(rotation=0, ha='right', va= 'center')\n",
    "    axes[i].set_frame_on(False)\n",
    "    \n",
    "    images.append(axes[i].imshow(data, cmap = cmap, aspect = 'auto',\n",
    "                       interpolation = 'nearest', interpolation_stage = 'rgba'))\n",
    "    \n",
    "axes[9].set_xticks([0, data.shape[1]/2, data.shape[1]-1], ['0.0', '0.5', '1.0'])\n",
    "axes[9].set(xlabel = 'Proportion')\n",
    "\n",
    "        \n",
    "cbar = fig.colorbar(images[0], cax = axins, fraction = .03)\n",
    "cbar.solids.set_edgecolor('face')\n",
    "\n",
    "fig.subplots_adjust(hspace = 0.1)\n",
    "\n",
    ";"
   ]
  },
  {
   "cell_type": "code",
   "execution_count": null,
   "id": "d464bfb0",
   "metadata": {},
   "outputs": [],
   "source": []
  },
  {
   "cell_type": "code",
   "execution_count": null,
   "id": "3665b4ee",
   "metadata": {},
   "outputs": [],
   "source": []
  },
  {
   "cell_type": "code",
   "execution_count": null,
   "id": "25c0715c",
   "metadata": {},
   "outputs": [],
   "source": []
  },
  {
   "cell_type": "markdown",
   "id": "0f7b4a8e",
   "metadata": {},
   "source": [
    "import matplotlib.gridspec as gridspec"
   ]
  },
  {
   "cell_type": "markdown",
   "id": "2ca379a3",
   "metadata": {},
   "source": [
    "height = 6\n",
    "width = 8"
   ]
  },
  {
   "cell_type": "markdown",
   "id": "88e76f33",
   "metadata": {},
   "source": [
    "test = np.array(dummy_ci_df[dummy_ci_df['sample'] == tsamples[6]].sort_values([\n",
    "                                                               'p_cnv','scitcem_p']\n",
    "                                                                             )[['p_cnv']])"
   ]
  },
  {
   "cell_type": "markdown",
   "id": "6e724a8b",
   "metadata": {},
   "source": [
    "test2 = np.array(dummy_ci_df[dummy_ci_df['sample'] == tsamples[6]].sort_values([\n",
    "                                                               'p_cnv','scitcem_p']\n",
    "                                                                             )[['scitcem_p']])"
   ]
  },
  {
   "cell_type": "markdown",
   "id": "bbfe3a80",
   "metadata": {},
   "source": [
    "fig = plt.figure(figsize=(width, height))\n",
    "axs = gridspec.GridSpec(nrows = 2, ncols =1)\n",
    "\n",
    "heatmap_ax1 = fig.add_subplot(axs[0, :])\n",
    "heatmap_ax1.imshow(test.reshape(1,-1), \n",
    "                  aspect='auto', interpolation='nearest')\n",
    "heatmap_ax1.set_ylim(0,0.5)\n",
    "heatmap_ax1.tick_params(axis=\"both\", which = 'both',labelleft=False, left=False, bottom = False,\n",
    "                       labelbottom=False)\n",
    "\n",
    "heatmap_ax2 = fig.add_subplot(axs[1, :])\n",
    "heatmap_ax2.imshow(test2.reshape(1,-1), \n",
    "                  aspect='auto', interpolation='nearest')\n",
    "heatmap_ax2.set_ylim(0,0.5)\n",
    "heatmap_ax2.tick_params(axis=\"both\", which = 'both',labelleft=False, left=False, bottom = False,\n",
    "                       labelbottom=False)\n",
    "\n",
    "\n",
    "\n",
    "plt.show()"
   ]
  },
  {
   "cell_type": "code",
   "execution_count": null,
   "id": "d3feca4a",
   "metadata": {},
   "outputs": [],
   "source": []
  },
  {
   "cell_type": "code",
   "execution_count": null,
   "id": "dd1ec7b8",
   "metadata": {},
   "outputs": [],
   "source": []
  },
  {
   "cell_type": "code",
   "execution_count": null,
   "id": "ebfd87fd",
   "metadata": {},
   "outputs": [],
   "source": []
  },
  {
   "cell_type": "markdown",
   "id": "2b27e4d3",
   "metadata": {},
   "source": [
    "p014\n",
    "with plt.rc_context({'ytick.major.size':16, 'axes.titlesize':18}):\n",
    "    plt.figure(figsize = (10,5))\n",
    "    sns.heatmap(dummy_ci_df[(dummy_ci_df['sample'] == tsamples[6])&\n",
    "                           (dummy_ci_df['numbat_tumour\\n(tumour sample)'] != dummy_ci_df['scitcem_call_tumour\\n(tumour sample)'])].sort_values(\n",
    "        ['scitcem_p', 'p_cnv'])[['p_cnv','scitcem_p',\n",
    "                                 'numbat_tumour\\n(tumour sample)',\n",
    "                                 'scitcem_call_tumour\\n(tumour sample)']].T,\n",
    "                xticklabels = False,\n",
    "                cmap='tab20', #cbar=False, \n",
    "            yticklabels = False)\n",
    ";"
   ]
  },
  {
   "cell_type": "markdown",
   "id": "b358cd98",
   "metadata": {},
   "source": [
    "p035\n",
    "with plt.rc_context({'ytick.major.size':16, 'axes.titlesize':18}):\n",
    "    plt.figure(figsize = (10,5))\n",
    "    sns.heatmap(dummy_ci_df[(dummy_ci_df['sample'] == tsamples[10])&\n",
    "                           (dummy_ci_df['numbat_tumour\\n(tumour sample)'] != dummy_ci_df['scitcem_call_tumour\\n(tumour sample)'])].sort_values(\n",
    "        ['scitcem_p', 'p_cnv'])[['p_cnv','scitcem_p',\n",
    "                                 'numbat_tumour\\n(tumour sample)',\n",
    "                                 'scitcem_call_tumour\\n(tumour sample)']].T,\n",
    "                xticklabels = False,\n",
    "                cmap='tab20', #cbar=False, \n",
    "            yticklabels = False)\n",
    ";"
   ]
  },
  {
   "cell_type": "code",
   "execution_count": null,
   "id": "ddbfe4e0",
   "metadata": {},
   "outputs": [],
   "source": [
    "dummy_ci_df_conflicting = dummy_ci_df[(dummy_ci_df['numbat_tumour\\n(tumour sample)'] != dummy_ci_df['scitcem_call_tumour\\n(tumour sample)'])]"
   ]
  },
  {
   "cell_type": "code",
   "execution_count": null,
   "id": "9c715f3c",
   "metadata": {},
   "outputs": [],
   "source": [
    "dummy_ci_df_conflicting"
   ]
  },
  {
   "cell_type": "code",
   "execution_count": null,
   "id": "ea2a243d",
   "metadata": {},
   "outputs": [],
   "source": [
    "dummy_ci_df_conflicting[dummy_ci_df_conflicting['scitcem_p'] == 0.5]['filter_alt'].value_counts(dropna= False)"
   ]
  },
  {
   "cell_type": "code",
   "execution_count": null,
   "id": "edef9e3d",
   "metadata": {},
   "outputs": [],
   "source": [
    "dummy_ci_df_conflicting[dummy_ci_df_conflicting['scitcem_p'] == 0.5]['filter_dp'].value_counts(dropna= False)"
   ]
  },
  {
   "cell_type": "code",
   "execution_count": null,
   "id": "92aa6647",
   "metadata": {},
   "outputs": [],
   "source": [
    "dummy_ci_df_conflicting[dummy_ci_df_conflicting['scitcem_p'] == 0.5]['mean_VAF'].value_counts(dropna= False)"
   ]
  },
  {
   "cell_type": "code",
   "execution_count": null,
   "id": "d0c0f28d",
   "metadata": {},
   "outputs": [],
   "source": [
    "dummy_ci_df_conflicting[dummy_ci_df_conflicting['scitcem_p'] == 0.5]['sample'].value_counts(\n",
    "    dropna= False).sort_index()"
   ]
  },
  {
   "cell_type": "code",
   "execution_count": null,
   "id": "8d2391d1",
   "metadata": {},
   "outputs": [],
   "source": [
    "dummy_ci_df_conflicting['sample'].value_counts(\n",
    "    dropna= False).sort_index()"
   ]
  },
  {
   "cell_type": "code",
   "execution_count": null,
   "id": "93ac48d9",
   "metadata": {},
   "outputs": [],
   "source": [
    "# proportion of conflicting cells \n",
    "(dummy_ci_df_conflicting[dummy_ci_df_conflicting['scitcem_p'] == 0.5]['sample'].value_counts(\n",
    "    dropna= False).sort_index())/(dummy_ci_df_conflicting['sample'].value_counts(\n",
    "    dropna= False).sort_index())"
   ]
  },
  {
   "cell_type": "code",
   "execution_count": null,
   "id": "ccfbdddf",
   "metadata": {},
   "outputs": [],
   "source": [
    "# proportion of all cells \n",
    "(dummy_ci_df_conflicting[dummy_ci_df_conflicting['scitcem_p'] == 0.5]['sample'].value_counts(\n",
    "    dropna= False).sort_index())/(dummy_ci_df['sample'].value_counts(\n",
    "    dropna= False).sort_index())"
   ]
  },
  {
   "cell_type": "code",
   "execution_count": null,
   "id": "e84ab75c",
   "metadata": {},
   "outputs": [],
   "source": [
    "for i in tsamples:\n",
    "    plt.figure(figsize = (6,2))\n",
    "    ax1 = plt.subplot()\n",
    "    ax2 = ax1.twinx()\n",
    "    df = dummy_ci_df_conflicting[dummy_ci_df_conflicting['sample'] == i].reset_index().sort_values([\n",
    "        'scitcem_p', 'p_cnv'])\n",
    "    sns.scatterplot(data = df,\n",
    "                    x = 'index',\n",
    "                    y = 'p_cnv', ax = ax1, s = 10)\n",
    "    sns.scatterplot(data = df,\n",
    "                    x = 'index',\n",
    "                    y = 'scitcem_p', ax = ax2, color = 'firebrick', s = 10)\n",
    "    plt.title(f'{i} ({df.shape[0]} cells)')\n",
    "    ax1.set_ylim(-0.1,1.1)\n",
    "    ax2.set_ylim(-0.1,1.1)\n",
    "    ax1.set_xticklabels('')"
   ]
  },
  {
   "cell_type": "code",
   "execution_count": null,
   "id": "f487a882",
   "metadata": {},
   "outputs": [],
   "source": [
    "# number of alt\n",
    "for i in tsamples:\n",
    "    plt.figure(figsize = (10/2.54,5/2.54))\n",
    "    ax1 = plt.subplot()\n",
    "    ax2 = ax1.twinx()\n",
    "    ax3 = ax1.twinx()\n",
    "    \n",
    "    df = dummy_ci_df_conflicting[dummy_ci_df_conflicting['sample'] == i].reset_index().sort_values([\n",
    "        'scitcem_p', 'p_cnv'])\n",
    "    sns.scatterplot(data = df,\n",
    "                    x = 'index',\n",
    "                    y = 'p_cnv', ax = ax1, s = 10)\n",
    "    sns.scatterplot(data = df,\n",
    "                    x = 'index',\n",
    "                    y = 'scitcem_p', ax = ax2, color = 'firebrick', s = 10)\n",
    "    sns.scatterplot(data = df,\n",
    "                    x = 'index',\n",
    "                    y = 'filter_alt', ax = ax3, color = 'orange', s = 8)\n",
    "    \n",
    "    plt.title(f'{i} ({df.shape[0]} cells)')\n",
    "    \n",
    "    ax1.set_ylim(-0.1,1.1)\n",
    "    ax2.set_ylim(-0.1,1.1)\n",
    "    \n",
    "    ax1.set_xticklabels('')\n",
    "    ax1.set_xticks([])\n",
    "    ax1.set_ylabel('probability')\n",
    "    \n",
    "    ax2.set_yticklabels('')\n",
    "    ax2.set_yticks([])\n",
    "    ax2.set_ylabel('')"
   ]
  },
  {
   "cell_type": "code",
   "execution_count": null,
   "id": "64e0d9d1",
   "metadata": {},
   "outputs": [],
   "source": [
    "# mean_VAF\n",
    "for i in tsamples:\n",
    "    plt.figure(figsize = (10/2.54,5/2.54))\n",
    "    ax1 = plt.subplot()\n",
    "    ax2 = ax1.twinx()\n",
    "    ax3 = ax1.twinx()\n",
    "    \n",
    "    df = dummy_ci_df_conflicting[dummy_ci_df_conflicting['sample'] == i].reset_index().sort_values([\n",
    "        'scitcem_p', 'p_cnv'])\n",
    "    sns.scatterplot(data = df,\n",
    "                    x = 'index',\n",
    "                    y = 'p_cnv', ax = ax1, s = 10)\n",
    "    sns.scatterplot(data = df,\n",
    "                    x = 'index',\n",
    "                    y = 'scitcem_p', ax = ax2, color = 'firebrick', s = 10)\n",
    "    sns.scatterplot(data = df,\n",
    "                    x = 'index',\n",
    "                    y = 'mean_VAF', ax = ax3, color = 'orange', s = 8)\n",
    "    \n",
    "    plt.title(f'{i} ({df.shape[0]} cells)')\n",
    "    \n",
    "    ax1.set_ylim(-0.1,1.1)\n",
    "    ax2.set_ylim(-0.1,1.1)\n",
    "    ax3.set_ylim(-0.1,1.1)\n",
    "    \n",
    "    ax1.set_xticklabels('')\n",
    "    ax1.set_xticks([])\n",
    "    ax1.set_ylabel('probability')\n",
    "    \n",
    "    ax2.set_yticklabels('')\n",
    "    ax2.set_yticks([])\n",
    "    ax2.set_ylabel('')"
   ]
  },
  {
   "cell_type": "code",
   "execution_count": null,
   "id": "e460b13f",
   "metadata": {},
   "outputs": [],
   "source": [
    "dummy_ci_df_conflicting_NA = dummy_ci_df_conflicting[dummy_ci_df_conflicting['scitcem_p'] == 0.5]"
   ]
  },
  {
   "cell_type": "code",
   "execution_count": null,
   "id": "16f8c3d7",
   "metadata": {},
   "outputs": [],
   "source": [
    "dummy_ci_df_conflicting_NA_solved = dummy_ci_df_conflicting[dummy_ci_df_conflicting['scitcem_p'] != 0.5]"
   ]
  },
  {
   "cell_type": "code",
   "execution_count": null,
   "id": "6431bf4f",
   "metadata": {},
   "outputs": [],
   "source": [
    "dummy_ci_df_conflicting_NA_solved.shape"
   ]
  },
  {
   "cell_type": "code",
   "execution_count": null,
   "id": "70f20f96",
   "metadata": {},
   "outputs": [],
   "source": [
    "dummy_ci_df_conflicting_NA_solved[(dummy_ci_df_conflicting_NA_solved['sample'] == 'p026t')&\n",
    "                                 (dummy_ci_df_conflicting_NA_solved['scitcem_p'] < 0.5)][[\n",
    "    'filter_dp','filter_alt', 'mean_VAF']].value_counts().sort_index()"
   ]
  },
  {
   "cell_type": "code",
   "execution_count": null,
   "id": "1da2a2af",
   "metadata": {},
   "outputs": [],
   "source": [
    "dummy_ci_df_conflicting_NA_solved[(dummy_ci_df_conflicting_NA_solved['scitcem_p'] < 0.5)]['mean_VAF'].value_counts()"
   ]
  },
  {
   "cell_type": "code",
   "execution_count": null,
   "id": "13ccf986",
   "metadata": {},
   "outputs": [],
   "source": [
    "dummy_ci_df_conflicting_NA_solved[(dummy_ci_df_conflicting_NA_solved['scitcem_p'] < 0.5)].shape"
   ]
  },
  {
   "cell_type": "code",
   "execution_count": null,
   "id": "4b4de33f",
   "metadata": {},
   "outputs": [],
   "source": [
    "1209/2562"
   ]
  },
  {
   "cell_type": "code",
   "execution_count": null,
   "id": "914675c9",
   "metadata": {},
   "outputs": [],
   "source": [
    "dummy_ci_df_conflicting_NA_solved[(dummy_ci_df_conflicting_NA_solved['scitcem_p'] < 0.5)]['p_cnv'].hist()\n",
    "plt.xlim(0,1)"
   ]
  },
  {
   "cell_type": "code",
   "execution_count": null,
   "id": "2472ac21",
   "metadata": {},
   "outputs": [],
   "source": [
    "dummy_ci_df_conflicting_NA_solved[(dummy_ci_df_conflicting_NA_solved['scitcem_p'] < 0.5) &\n",
    "                                 (dummy_ci_df_conflicting_NA_solved['p_cnv'] > 0.5)].shape"
   ]
  },
  {
   "cell_type": "code",
   "execution_count": null,
   "id": "d88e87f5",
   "metadata": {},
   "outputs": [],
   "source": [
    "dummy_ci_df_conflicting_NA_solved_high_scitcem = dummy_ci_df_conflicting_NA_solved[(dummy_ci_df_conflicting_NA_solved['scitcem_p'] > 0.5)]"
   ]
  },
  {
   "cell_type": "code",
   "execution_count": null,
   "id": "cb812ea8",
   "metadata": {},
   "outputs": [],
   "source": [
    "dummy_ci_df_conflicting_NA_solved_high_scitcem"
   ]
  },
  {
   "cell_type": "markdown",
   "id": "deefc858",
   "metadata": {},
   "source": [
    "dummy_ci_df_conflicting_NA_solved_high_scitcem.to_csv(Path(new_data_folder)/'conflicting_cell_identity_scitcem_high.txt')"
   ]
  },
  {
   "cell_type": "code",
   "execution_count": null,
   "id": "5127b43f",
   "metadata": {},
   "outputs": [],
   "source": [
    "646/2562"
   ]
  },
  {
   "cell_type": "markdown",
   "id": "6dabead5",
   "metadata": {},
   "source": [
    "### after remove the Scticem == 0.5 cells"
   ]
  },
  {
   "cell_type": "code",
   "execution_count": null,
   "id": "ccd9c07f",
   "metadata": {},
   "outputs": [],
   "source": [
    "# number of alt\n",
    "for i in tsamples:\n",
    "    plt.figure(figsize = (6,2))\n",
    "    ax1 = plt.subplot()\n",
    "    ax2 = ax1.twinx()\n",
    "    ax3 = ax1.twinx()\n",
    "    \n",
    "    df = dummy_ci_df_conflicting_NA_solved[dummy_ci_df_conflicting_NA_solved['sample'] == i].reset_index().sort_values([\n",
    "        'scitcem_p', 'p_cnv'])\n",
    "    sns.scatterplot(data = df,\n",
    "                    x = 'index',\n",
    "                    y = 'p_cnv', ax = ax1, s = 10)\n",
    "    sns.scatterplot(data = df,\n",
    "                    x = 'index',\n",
    "                    y = 'scitcem_p', ax = ax2, color = 'firebrick', s = 10)\n",
    "    sns.scatterplot(data = df,\n",
    "                    x = 'index',\n",
    "                    y = 'filter_alt', ax = ax3, color = 'orange', s = 8)\n",
    "    \n",
    "    plt.title(f'{i} ({df.shape[0]} cells)')\n",
    "    \n",
    "    ax1.set_ylim(-0.1,1.1)\n",
    "    ax2.set_ylim(-0.1,1.1)\n",
    "    \n",
    "    ax1.set_xticklabels('')\n",
    "    ax1.set_xticks([])\n",
    "    ax1.set_ylabel('probability')\n",
    "    \n",
    "    ax2.set_yticklabels('')\n",
    "    ax2.set_yticks([])\n",
    "    ax2.set_ylabel('')"
   ]
  },
  {
   "cell_type": "code",
   "execution_count": null,
   "id": "4b1e8730",
   "metadata": {},
   "outputs": [],
   "source": [
    "# number of dp\n",
    "for i in tsamples:\n",
    "    plt.figure(figsize = (6,2))\n",
    "    ax1 = plt.subplot()\n",
    "    ax2 = ax1.twinx()\n",
    "    ax3 = ax1.twinx()\n",
    "    \n",
    "    df = dummy_ci_df_conflicting_NA_solved[dummy_ci_df_conflicting_NA_solved['sample'] == i].reset_index().sort_values([\n",
    "        'scitcem_p', 'p_cnv'])\n",
    "    sns.scatterplot(data = df,\n",
    "                    x = 'index',\n",
    "                    y = 'p_cnv', ax = ax1, s = 10)\n",
    "    sns.scatterplot(data = df,\n",
    "                    x = 'index',\n",
    "                    y = 'scitcem_p', ax = ax2, color = 'firebrick', s = 10)\n",
    "    sns.scatterplot(data = df,\n",
    "                    x = 'index',\n",
    "                    y = 'filter_dp', ax = ax3, color = 'orange', s = 8)\n",
    "    \n",
    "    plt.title(f'{i} ({df.shape[0]} cells)')\n",
    "    \n",
    "    ax1.set_ylim(-0.1,1.1)\n",
    "    ax2.set_ylim(-0.1,1.1)\n",
    "    \n",
    "    ax1.set_xticklabels('')\n",
    "    ax1.set_xticks([])\n",
    "    ax1.set_ylabel('probability')\n",
    "    \n",
    "    ax2.set_yticklabels('')\n",
    "    ax2.set_yticks([])\n",
    "    ax2.set_ylabel('')"
   ]
  },
  {
   "cell_type": "code",
   "execution_count": null,
   "id": "d5815da7",
   "metadata": {},
   "outputs": [],
   "source": [
    "# mean_VAF\n",
    "for i in tsamples:\n",
    "    plt.figure(figsize = (6,2))\n",
    "    ax1 = plt.subplot()\n",
    "    ax2 = ax1.twinx()\n",
    "    ax3 = ax1.twinx()\n",
    "    \n",
    "    df = dummy_ci_df_conflicting_NA_solved[dummy_ci_df_conflicting_NA_solved['sample'] == i].reset_index().sort_values([\n",
    "        'scitcem_p', 'p_cnv'])\n",
    "    sns.scatterplot(data = df,\n",
    "                    x = 'index',\n",
    "                    y = 'p_cnv', ax = ax1, s = 10)\n",
    "    sns.scatterplot(data = df,\n",
    "                    x = 'index',\n",
    "                    y = 'scitcem_p', ax = ax2, color = 'firebrick', s = 10)\n",
    "    sns.scatterplot(data = df,\n",
    "                    x = 'index',\n",
    "                    y = 'mean_VAF', ax = ax3, color = 'orange', s = 8)\n",
    "    \n",
    "    plt.title(f'{i} ({df.shape[0]} cells)')\n",
    "    \n",
    "    ax1.set_ylim(-0.1,1.1)\n",
    "    ax2.set_ylim(-0.1,1.1)\n",
    "    ax3.set_ylim(-0.1,1.1)\n",
    "    \n",
    "    ax1.set_xticklabels('')\n",
    "    ax1.set_xticks([])\n",
    "    ax1.set_ylabel('probability')\n",
    "    \n",
    "    ax2.set_yticklabels('')\n",
    "    ax2.set_yticks([])\n",
    "    ax2.set_ylabel('')"
   ]
  },
  {
   "cell_type": "code",
   "execution_count": null,
   "id": "7f7669ee",
   "metadata": {},
   "outputs": [],
   "source": [
    "dummy_ci_df_conflicting_NA.index"
   ]
  },
  {
   "cell_type": "code",
   "execution_count": null,
   "id": "41b04a35",
   "metadata": {},
   "outputs": [],
   "source": [
    "adata_epi.obs['cell_identity_NA_resolved'] = np.where(adata_epi.obs.index.isin(dummy_ci_df_conflicting_NA.index),\n",
    "                                                     'no observed variant', adata_epi.obs['tumour_normal_normal'])\n",
    "adata_epi.obs['cell_identity_NA_resolved'] = adata_epi.obs['cell_identity_NA_resolved'].astype('category')"
   ]
  },
  {
   "cell_type": "code",
   "execution_count": null,
   "id": "43ffa5d9",
   "metadata": {},
   "outputs": [],
   "source": [
    "adata_epi.obs['cell_identity_NA_resolved'].value_counts()"
   ]
  },
  {
   "cell_type": "code",
   "execution_count": null,
   "id": "31b6a875",
   "metadata": {},
   "outputs": [],
   "source": []
  },
  {
   "cell_type": "code",
   "execution_count": null,
   "id": "043240e0",
   "metadata": {},
   "outputs": [],
   "source": []
  },
  {
   "cell_type": "code",
   "execution_count": null,
   "id": "1b5b3494",
   "metadata": {},
   "outputs": [],
   "source": []
  },
  {
   "cell_type": "code",
   "execution_count": null,
   "id": "ffd77b59",
   "metadata": {},
   "outputs": [],
   "source": []
  },
  {
   "cell_type": "markdown",
   "id": "279fdfd0",
   "metadata": {},
   "source": [
    "### check the cellrank ijynb for the following analysis"
   ]
  },
  {
   "cell_type": "markdown",
   "id": "31575a3a",
   "metadata": {},
   "source": [
    "#### try diffmap"
   ]
  },
  {
   "cell_type": "code",
   "execution_count": null,
   "id": "a62d21d0",
   "metadata": {},
   "outputs": [],
   "source": [
    "sc.tl.diffmap(adata_epi, n_comps=15)"
   ]
  },
  {
   "cell_type": "code",
   "execution_count": null,
   "id": "0dd4d75e",
   "metadata": {},
   "outputs": [],
   "source": [
    "# try different components \n",
    "scv.pl.scatter(adata_epi, basis='diffmap', color=['Uhlitz_scANVI'], \n",
    "               components = ['1,2', '2,3', '1,3', '2,4', '1,4'],\n",
    "               ncols=2, dpi=300, legend_loc=None, size = 2,\n",
    "               title = ['DC 1,2', 'DC 2,3', 'DC 1,3', 'DC 2,4', 'DC 1,4'])"
   ]
  },
  {
   "cell_type": "code",
   "execution_count": null,
   "id": "a7e6ebda",
   "metadata": {},
   "outputs": [],
   "source": [
    "scv.pl.scatter(adata_epi, basis='diffmap', color=['normal_vs_MS'], \n",
    "               components = ['1,2', '2,3', '1,3', '2,4', '1,4'],\n",
    "               ncols=2, dpi=300, legend_loc=None, size = 2,\n",
    "               title = ['DC 1,2', 'DC 2,3', 'DC 1,3', 'DC 2,4', 'DC 1,4'])"
   ]
  },
  {
   "cell_type": "code",
   "execution_count": null,
   "id": "7e8e86f3",
   "metadata": {},
   "outputs": [],
   "source": [
    "scv.pl.scatter(adata_epi, basis='diffmap', color=['cell_identity'], \n",
    "               components = ['1,2', '2,3', '1,3', '2,4', '1,4'],\n",
    "               ncols=2, dpi=300, legend_loc='right', size = 2,\n",
    "               title = ['DC 1,2', 'DC 2,3', 'DC 1,3', 'DC 2,4', 'DC 1,4'])"
   ]
  },
  {
   "cell_type": "code",
   "execution_count": null,
   "id": "653ea010",
   "metadata": {},
   "outputs": [],
   "source": [
    "scv.pl.scatter(adata_epi, basis='diffmap', color=['tumour_normal_normal'], \n",
    "               components = ['1,2', '2,3', '1,3', '2,4', '1,4'],\n",
    "               ncols=2, dpi=300, legend_loc=None, size = 2,\n",
    "               title = ['DC 1,2', 'DC 2,3', 'DC 1,3', 'DC 2,4', 'DC 1,4'])"
   ]
  },
  {
   "cell_type": "code",
   "execution_count": null,
   "id": "e3b3c9fe",
   "metadata": {},
   "outputs": [],
   "source": [
    "scv.pl.scatter(adata_epi, basis='diffmap', color=['iCMS_scANVI'], \n",
    "               components = ['1,2', '2,3', '1,3', '2,4', '1,4'],\n",
    "               ncols=2, dpi=300, legend_loc=None, size = 2,\n",
    "               title = ['DC 1,2', 'DC 2,3', 'DC 1,3', 'DC 2,4', 'DC 1,4'])"
   ]
  },
  {
   "cell_type": "code",
   "execution_count": null,
   "id": "fb4f8c04",
   "metadata": {},
   "outputs": [],
   "source": [
    "scv.pl.scatter(adata_epi, basis='diffmap', color=['BMP4'], \n",
    "               components = ['1,2', '2,3', '1,3', '2,4', '1,4'],\n",
    "               ncols=2, dpi=300, legend_loc=None, size = 2,\n",
    "               title = ['DC 1,2', 'DC 2,3', 'DC 1,3', 'DC 2,4', 'DC 1,4'])"
   ]
  },
  {
   "cell_type": "code",
   "execution_count": null,
   "id": "0e10bee4",
   "metadata": {},
   "outputs": [],
   "source": [
    "scv.pl.scatter(adata_epi, basis='diffmap', color=['TGFB1'], \n",
    "               components = ['1,2', '2,3', '1,3', '2,4', '1,4'],\n",
    "               ncols=2, dpi=300, legend_loc=None, size = 2,\n",
    "               title = ['DC 1,2', 'DC 2,3', 'DC 1,3', 'DC 2,4', 'DC 1,4'])"
   ]
  },
  {
   "cell_type": "code",
   "execution_count": null,
   "id": "bd399af1",
   "metadata": {},
   "outputs": [],
   "source": [
    "adata_epi.obsm['X_diffmap'].shape"
   ]
  },
  {
   "cell_type": "markdown",
   "id": "d6d238cf",
   "metadata": {},
   "source": [
    "### a force-directed graph"
   ]
  },
  {
   "cell_type": "code",
   "execution_count": null,
   "id": "053d651e",
   "metadata": {},
   "outputs": [],
   "source": [
    "adata_copy = adata_epi.copy()"
   ]
  },
  {
   "cell_type": "code",
   "execution_count": null,
   "id": "9e5eda56",
   "metadata": {},
   "outputs": [],
   "source": [
    "sc.tl.draw_graph(adata_copy)"
   ]
  },
  {
   "cell_type": "code",
   "execution_count": null,
   "id": "c314851f",
   "metadata": {},
   "outputs": [],
   "source": [
    "sc.pl.draw_graph(adata_copy, color='Uhlitz_scANVI')"
   ]
  },
  {
   "cell_type": "markdown",
   "id": "652d5b10",
   "metadata": {},
   "source": [
    "#### try denoise"
   ]
  },
  {
   "cell_type": "code",
   "execution_count": null,
   "id": "e30a115e",
   "metadata": {},
   "outputs": [],
   "source": [
    "# look aweful\n",
    "sc.pp.neighbors(adata_copy, n_neighbors=20, use_rep='X_diffmap')"
   ]
  },
  {
   "cell_type": "code",
   "execution_count": null,
   "id": "a1f3b1f5",
   "metadata": {},
   "outputs": [],
   "source": [
    "sc.tl.draw_graph(adata_copy)"
   ]
  },
  {
   "cell_type": "code",
   "execution_count": null,
   "id": "9d034a58",
   "metadata": {},
   "outputs": [],
   "source": [
    "sc.pl.draw_graph(adata_copy, color='Uhlitz_scANVI')"
   ]
  },
  {
   "cell_type": "markdown",
   "id": "fa86c468",
   "metadata": {},
   "source": [
    "#### PAGA"
   ]
  },
  {
   "cell_type": "code",
   "execution_count": null,
   "id": "5101e58e",
   "metadata": {},
   "outputs": [],
   "source": [
    "sc.tl.paga(adata_epi, groups='leiden')"
   ]
  },
  {
   "cell_type": "code",
   "execution_count": null,
   "id": "ae4499ae",
   "metadata": {},
   "outputs": [],
   "source": [
    "sc.pl.paga(adata_epi, color=['louvain', 'leiden', 'Uhlitz_scANVI'], node_size_scale=3)"
   ]
  },
  {
   "cell_type": "code",
   "execution_count": null,
   "id": "f9ec3753",
   "metadata": {},
   "outputs": [],
   "source": [
    "# check them\n",
    "sc.pl.paga(adata_epi, color=['TFF3', 'FABP1', 'ATOH1', 'MKI67', 'KRT19', 'KRT14', 'KRT20', 'AXIN2', \n",
    "                             'ALDOA', 'ETV4', 'TRPM2', 'EREG', 'EGR1', 'OLFM4', 'LGR5', 'EPHB2'])\n"
   ]
  },
  {
   "cell_type": "code",
   "execution_count": null,
   "id": "18d5ebe5",
   "metadata": {},
   "outputs": [],
   "source": [
    "sc.pl.paga(adata_epi, color=['TGFB1', 'BMP2', 'BMP4', 'CTNNB1', 'SMAD4', 'TP53'])"
   ]
  },
  {
   "cell_type": "code",
   "execution_count": null,
   "id": "1ec8b36c",
   "metadata": {},
   "outputs": [],
   "source": [
    "sc.tl.paga(adata_epi, groups='Uhlitz_scANVI')"
   ]
  },
  {
   "cell_type": "code",
   "execution_count": null,
   "id": "cf0aaea5",
   "metadata": {},
   "outputs": [],
   "source": [
    "sc.pl.paga(adata_epi, color=['louvain', 'leiden', 'Uhlitz_scANVI'], node_size_scale=3)"
   ]
  },
  {
   "cell_type": "code",
   "execution_count": null,
   "id": "b78be03f",
   "metadata": {},
   "outputs": [],
   "source": [
    "sc.tl.draw_graph(adata_epi, init_pos='paga')"
   ]
  },
  {
   "cell_type": "code",
   "execution_count": null,
   "id": "e716b134",
   "metadata": {},
   "outputs": [],
   "source": [
    "sc.pl.draw_graph(adata_epi, color=['louvain', 'leiden', 'Uhlitz_scANVI'])"
   ]
  },
  {
   "cell_type": "code",
   "execution_count": null,
   "id": "aabb123d",
   "metadata": {},
   "outputs": [],
   "source": [
    "# diffusion psudotime e.g. DC2 > stem cells 0  to entorocytes 1 > visual \n",
    "# tumour cells before the stem cells > <0\n",
    "# normal vs tumour normal cells > differentiaion vs dedifferentiation "
   ]
  },
  {
   "cell_type": "code",
   "execution_count": null,
   "id": "d63c70ca",
   "metadata": {},
   "outputs": [],
   "source": [
    "sample_color_map = dict(zip(adata_epi.obs['Uhlitz_scANVI'].cat.categories, adata_epi.uns['Uhlitz_scANVI_colors']))"
   ]
  },
  {
   "cell_type": "code",
   "execution_count": null,
   "id": "4b5f8db4",
   "metadata": {},
   "outputs": [],
   "source": [
    "row_color = adata_epi.obs['Uhlitz_scANVI'].replace(pd.Series(sample_color_map), inplace=False)"
   ]
  },
  {
   "cell_type": "markdown",
   "id": "7e2023e3",
   "metadata": {},
   "source": [
    "### CytoTRACE pseudotime\n"
   ]
  },
  {
   "cell_type": "code",
   "execution_count": null,
   "id": "530ef67f",
   "metadata": {},
   "outputs": [],
   "source": [
    "# format hack\n",
    "adata_epi.layers[\"spliced\"] = adata_epi.X\n",
    "adata_epi.layers[\"unspliced\"] = adata_epi.X\n",
    "\n",
    "# calculate \n",
    "scv.pp.moments(adata_epi, n_pcs=15, n_neighbors=20)"
   ]
  },
  {
   "cell_type": "code",
   "execution_count": null,
   "id": "6a8f20f2",
   "metadata": {},
   "outputs": [],
   "source": [
    "ctk = CytoTRACEKernel(adata_epi).compute_cytotrace()"
   ]
  },
  {
   "cell_type": "code",
   "execution_count": null,
   "id": "5593f883",
   "metadata": {},
   "outputs": [],
   "source": [
    "ctk.compute_transition_matrix(threshold_scheme=\"soft\", nu=0.5)"
   ]
  },
  {
   "cell_type": "code",
   "execution_count": null,
   "id": "07ea8434",
   "metadata": {},
   "outputs": [],
   "source": [
    "ctk.plot_projection(basis=\"diffmap\", recompute=False, density = 1, legend_loc = 'right', color = 'Uhlitz_scANVI',\n",
    "                   stream = True,\n",
    "                   size = 2, alpha = 1, components = '1,2')"
   ]
  },
  {
   "cell_type": "markdown",
   "id": "863f4ed4",
   "metadata": {},
   "source": [
    "### dpt pseudotime"
   ]
  },
  {
   "cell_type": "code",
   "execution_count": null,
   "id": "c0a11985",
   "metadata": {},
   "outputs": [],
   "source": [
    "# try DC\n",
    "# Choose a root cell for diffusion pseudotime.\n",
    "\n",
    "adata_epi[adata_epi.obs['Uhlitz_scANVI'] == 'Stem'].obsm['X_diffmap'][:, 2].argmin()"
   ]
  },
  {
   "cell_type": "code",
   "execution_count": null,
   "id": "50cefe55",
   "metadata": {},
   "outputs": [],
   "source": [
    "adata_epi[adata_epi.obs['Uhlitz_scANVI'] == 'Stem'].obsm['X_diffmap'][:, 3].argmin()"
   ]
  },
  {
   "cell_type": "code",
   "execution_count": null,
   "id": "deef32cb",
   "metadata": {},
   "outputs": [],
   "source": [
    "adata_epi[adata_epi.obs['Uhlitz_scANVI'] == 'Stem'][1449].obs.index"
   ]
  },
  {
   "cell_type": "code",
   "execution_count": null,
   "id": "ed52055c",
   "metadata": {},
   "outputs": [],
   "source": [
    "row_number_to_index = adata_epi.obs.reset_index(inplace=False)['index']"
   ]
  },
  {
   "cell_type": "code",
   "execution_count": null,
   "id": "bef280e9",
   "metadata": {},
   "outputs": [],
   "source": [
    "row_number_to_index[row_number_to_index == 'p013t:CTCATCGCAGTCCGTG']"
   ]
  },
  {
   "cell_type": "code",
   "execution_count": null,
   "id": "1768b361",
   "metadata": {},
   "outputs": [],
   "source": [
    "scv.pl.scatter(adata_epi, basis='diffmap', color=['Uhlitz_scANVI', 32999], \n",
    "               components = ['1,2'],\n",
    "               ncols=3, dpi=300, legend_loc='right margin', size = 2)"
   ]
  },
  {
   "cell_type": "code",
   "execution_count": null,
   "id": "7d672a2c",
   "metadata": {},
   "outputs": [],
   "source": [
    "adata_epi.uns['iroot'] = 32999"
   ]
  },
  {
   "cell_type": "markdown",
   "id": "142b8985",
   "metadata": {},
   "source": [
    "#### run dpt with branching or without"
   ]
  },
  {
   "cell_type": "code",
   "execution_count": null,
   "id": "05ecc4d4",
   "metadata": {},
   "outputs": [],
   "source": [
    "sc.tl.dpt(adata_epi, n_branchings = 1, n_dcs = 7)\n",
    "# DC1-5 cannot run"
   ]
  },
  {
   "cell_type": "code",
   "execution_count": null,
   "id": "a6d18971",
   "metadata": {},
   "outputs": [],
   "source": [
    "sc.pl.dpt_groups_pseudotime(adata_epi)"
   ]
  },
  {
   "cell_type": "code",
   "execution_count": null,
   "id": "91599fb0",
   "metadata": {},
   "outputs": [],
   "source": [
    "adata_normal = adata_epi[(adata_epi.obs['tumour_normal_normal'] == 'normal_sample') | \n",
    "                        (adata_epi.obs['tumour_normal_normal'] == 'genomically_normal')].copy()"
   ]
  },
  {
   "cell_type": "code",
   "execution_count": null,
   "id": "30b29640",
   "metadata": {},
   "outputs": [],
   "source": [
    "adata_epi.obs['dpt_groups'].value_counts()"
   ]
  },
  {
   "cell_type": "code",
   "execution_count": null,
   "id": "e1b0f20d",
   "metadata": {},
   "outputs": [],
   "source": [
    "scv.pl.scatter(adata_epi, basis='umap', color=['dpt_pseudotime', 'dpt_groups'], \n",
    "               ncols=3, dpi=300, legend_loc='right margin', size = 2)"
   ]
  },
  {
   "cell_type": "code",
   "execution_count": null,
   "id": "bc538b20",
   "metadata": {},
   "outputs": [],
   "source": [
    "scv.pl.scatter(adata_normal, basis='umap', color=['dpt_pseudotime', 'dpt_groups'], \n",
    "               ncols=3, dpi=300, legend_loc='right margin', size = 2)"
   ]
  },
  {
   "cell_type": "code",
   "execution_count": null,
   "id": "df0c08bf",
   "metadata": {},
   "outputs": [],
   "source": [
    "scv.pl.scatter(adata_epi, basis='diffmap', color=['dpt_pseudotime', 'dpt_groups'], \n",
    "               components = ['1,2'],\n",
    "               ncols=3, dpi=300, legend_loc='right margin', size = 2)"
   ]
  },
  {
   "cell_type": "code",
   "execution_count": null,
   "id": "a6834d21",
   "metadata": {},
   "outputs": [],
   "source": [
    "adata_normal.obs['dpt_groups'].value_counts()"
   ]
  },
  {
   "cell_type": "code",
   "execution_count": null,
   "id": "6300563e",
   "metadata": {},
   "outputs": [],
   "source": [
    "scv.pl.scatter(adata_normal, basis='diffmap', color=['dpt_pseudotime', 'dpt_groups'], \n",
    "               components = ['1,2'],\n",
    "               ncols=3, dpi=300, legend_loc='right margin', size = 2)"
   ]
  },
  {
   "cell_type": "markdown",
   "id": "b676e877",
   "metadata": {},
   "source": [
    "subset = adata_epi[:, adata_epi.var[\"highly_variable\"]]"
   ]
  },
  {
   "cell_type": "markdown",
   "id": "a8875967",
   "metadata": {},
   "source": [
    "sc.pl.dpt_timeseries(subset)"
   ]
  },
  {
   "cell_type": "code",
   "execution_count": null,
   "id": "6ee157ed",
   "metadata": {},
   "outputs": [],
   "source": [
    "# DC 2 + other to visualise"
   ]
  },
  {
   "cell_type": "code",
   "execution_count": null,
   "id": "52a4ffd9",
   "metadata": {},
   "outputs": [],
   "source": [
    "scv.pl.scatter(adata_epi, basis='diffmap', color=['dpt_pseudotime'], \n",
    "               components = ['1,2', '2,3', '1,3', '2,4', '1,4'],\n",
    "               ncols=3, dpi=300, legend_loc='right margin', size = 2)"
   ]
  },
  {
   "cell_type": "code",
   "execution_count": null,
   "id": "46e334dd",
   "metadata": {},
   "outputs": [],
   "source": [
    "scv.pl.scatter(adata_epi, basis='diffmap', color=['dpt_groups'], \n",
    "               components = ['1,2', '2,3', '1,3', '2,4', '1,4'],\n",
    "               ncols=3, dpi=300, legend_loc='right margin', size = 2)"
   ]
  },
  {
   "cell_type": "code",
   "execution_count": null,
   "id": "42ea24db",
   "metadata": {},
   "outputs": [],
   "source": [
    "sc.pl.violin(adata_epi, keys=[\"dpt_pseudotime\"], groupby=\"Uhlitz_scANVI\", rotation=90)"
   ]
  },
  {
   "cell_type": "code",
   "execution_count": null,
   "id": "09db6eff",
   "metadata": {},
   "outputs": [],
   "source": [
    "scv.pl.scatter(adata_epi, basis='diffmap', color=['Uhlitz_scANVI', 'dpt_pseudotime', 'ct_pseudotime'], \n",
    "               components = ['1,2'],\n",
    "               ncols=3, dpi=300, legend_loc='right margin', size = 2)"
   ]
  },
  {
   "cell_type": "code",
   "execution_count": null,
   "id": "3937fe84",
   "metadata": {},
   "outputs": [],
   "source": [
    "# heatmap pseudotime vs normal normal, normal tumour, tumour vs cell type\n",
    "with plt.rc_context({'ytick.major.size':16}):\n",
    "    sc.pl.heatmap(adata_epi, ['dpt_pseudotime','ct_pseudotime'],\n",
    "              groupby='tumour_normal_normal', swap_axes=True, figsize=[16,4])\n"
   ]
  },
  {
   "cell_type": "code",
   "execution_count": null,
   "id": "1e2a9ec5",
   "metadata": {},
   "outputs": [],
   "source": [
    "with plt.rc_context({'ytick.major.size':16}):\n",
    "    sc.pl.heatmap(adata_epi, ['dpt_pseudotime','ct_pseudotime'],\n",
    "              groupby='Uhlitz_scANVI', swap_axes=True, figsize=[16,4])\n"
   ]
  },
  {
   "cell_type": "code",
   "execution_count": null,
   "id": "a6049dfb",
   "metadata": {},
   "outputs": [],
   "source": [
    "pk = cr.kernels.PseudotimeKernel(adata_epi, time_key=\"dpt_pseudotime\")\n",
    "pk.compute_transition_matrix()\n"
   ]
  },
  {
   "cell_type": "code",
   "execution_count": null,
   "id": "203a1bd3",
   "metadata": {},
   "outputs": [],
   "source": [
    "pk.plot_projection(basis=\"umap\", recompute=False, density = 1, legend_loc = 'right', color = 'Uhlitz_scANVI',\n",
    "                  size = 2, alpha = 1)"
   ]
  },
  {
   "cell_type": "code",
   "execution_count": null,
   "id": "a6ab3c4d",
   "metadata": {},
   "outputs": [],
   "source": [
    "# could work if remove the Tuft and the number \n",
    "# desity of the string "
   ]
  },
  {
   "cell_type": "code",
   "execution_count": null,
   "id": "c3a91b58",
   "metadata": {},
   "outputs": [],
   "source": [
    "# something breaks when more than one components\n",
    "pk.plot_projection(basis=\"diffmap\", recompute=False, density = 1, legend_loc = 'right', color = 'Uhlitz_scANVI',\n",
    "                   stream = True,\n",
    "                   size = 2, alpha = 1, components = '1,2')"
   ]
  },
  {
   "cell_type": "code",
   "execution_count": null,
   "id": "56b4906c",
   "metadata": {},
   "outputs": [],
   "source": [
    "# something breaks when more than one components\n",
    "pk.plot_projection(basis=\"diffmap\", recompute=False, density = 1, legend_loc = 'right', color = 'Uhlitz_scANVI',\n",
    "                   stream = True,\n",
    "                   size = 2, alpha = 1, components = '2,3')"
   ]
  },
  {
   "cell_type": "code",
   "execution_count": null,
   "id": "783fb347",
   "metadata": {},
   "outputs": [],
   "source": [
    "# something breaks when more than one components\n",
    "pk.plot_projection(basis=\"diffmap\", recompute=False, density = 1, legend_loc = 'right', color = 'Uhlitz_scANVI',\n",
    "                   stream = True,\n",
    "                   size = 2, alpha = 1, components = '1,3')"
   ]
  },
  {
   "cell_type": "code",
   "execution_count": null,
   "id": "88c573a2",
   "metadata": {},
   "outputs": [],
   "source": [
    "# something breaks when more than one components\n",
    "pk.plot_projection(basis=\"diffmap\", recompute=False, density = 1, legend_loc = 'right', color = 'Uhlitz_scANVI',\n",
    "                   stream = True,\n",
    "                   size = 2, alpha = 1, components = '1,4')"
   ]
  },
  {
   "cell_type": "code",
   "execution_count": null,
   "id": "5b5b25cd",
   "metadata": {},
   "outputs": [],
   "source": [
    "# something breaks when more than one components\n",
    "pk.plot_projection(basis=\"draw_graph_fa\", recompute=False, density = 2, legend_loc = 'right', \n",
    "                   color = 'Uhlitz_scANVI',\n",
    "                   stream = True,\n",
    "                   size = 2, alpha = 1)"
   ]
  },
  {
   "cell_type": "markdown",
   "id": "49cfd162",
   "metadata": {},
   "source": [
    "### Score different pathways\n"
   ]
  },
  {
   "cell_type": "code",
   "execution_count": null,
   "id": "409d1d6f",
   "metadata": {},
   "outputs": [],
   "source": [
    "CRC_sig = pd.read_excel(\"../datasets_new_preprocessing/Signatures_Single_cells.xlsx\", \n",
    "                        skiprows=[1], index_col=None, sheet_name = 'fixed_var_name')\n"
   ]
  },
  {
   "cell_type": "code",
   "execution_count": null,
   "id": "4930de9b",
   "metadata": {},
   "outputs": [],
   "source": [
    "CRC_sig.shape"
   ]
  },
  {
   "cell_type": "markdown",
   "id": "03bc6d56",
   "metadata": {},
   "source": [
    "### lots of var_names to be fixed!!!"
   ]
  },
  {
   "cell_type": "markdown",
   "id": "7511cab5",
   "metadata": {},
   "source": [
    "- WARNING: genes are not in var_names and ignored: ['G6PC1']\n",
    "- WARNING: genes are not in var_names and ignored: ['MPTX1', 'ANG4', 'BHLHB8', 'C4BP', 'CCL6', 'CCL9', 'DEFA1', 'DEFCR20', 'DEFCR6', 'PNLIPRP2']\n",
    "- WARNING: genes are not in var_names and ignored: ['BLR1', 'CTSL1', 'GNB2L1', 'IL8', 'IL8RB', 'UGCGL1']\n",
    "- WARNING: genes are not in var_names and ignored: ['C17ORF97', 'C1ORF116', 'C3ORF52', 'MIR22']\n",
    "- WARNING: genes are not in var_names and ignored: ['CCDC46', 'FAM64A', 'LOC285141']\n",
    "- WARNING: genes are not in var_names and ignored: ['OSTALPHA']\n",
    "- WARNING: genes are not in var_names and ignored: ['ARMCX5-GPRASP2', 'CASP12', 'SYCN']\n",
    "- WARNING: genes are not in var_names and ignored: ['GGTA1', 'LY6A', 'LY6C1']\n",
    "- WARNING: genes are not in var_names and ignored: ['C19ORF33', 'C1ORF116']\n",
    "- WARNING: genes are not in var_names and ignored: ['AC087721.2', 'AC087721.2']\n",
    "- WARNING: genes are not in var_names and ignored: ['AIRN ', 'ANG4 ', 'ATP5G2 ', 'AY761184 ', 'BAALC ', 'BCL6 ', 'BOC ', 'C76336 ', 'CAD ', 'CBX1 ', 'CCDC55 ', 'CCDC66 ', 'CCDC91 ', 'CCL27A ', 'CD44 ', 'CD86 ', 'CENPB ', 'CEP97 ', 'CLEC2I ', 'CLU ', 'CNNM1 ', 'CSNK1E ', 'CWF19L2 ', 'D16ERTD472E ', 'DDX24 ', 'DEFA21', 'DEFA22', 'DEFA-RS1 ', 'DGKD ', 'DYNLT1F ', 'EDN1 ', 'EIF4G1 ', 'EMP2 ', 'EPHA4 ', 'EXOC6B ', 'EXOSC10 ', 'EXT2 ', 'FAM115A ', 'FAM222A ', 'FANCG ', 'FGFR4 ', 'FGFRL1 ', 'FOXN3 ', 'GM10071', 'GM15247 ', 'GM16740 ', 'GM17250 ', 'GM8096', 'GM996 ', 'GTF2F1 ', 'HMGCS2 ', 'HS2ST1 ', 'HSD17B14 ', 'IFT27 ', 'IGF1R ', 'INPP5F ', 'KCNQ1OT1 ', 'KDM5A ', 'KIF12 ', 'KIF1C ', 'KIF2A ', 'LAMC1 ', 'LBH ', 'LIMK2 ', 'LOC101243624 ', 'LPHN1 ', 'LYZ1 ', 'LYZ2 ', 'MAD2L2 ', 'MAN2A2 ', 'MBD4 ', 'MED24 ', 'MFGE8 ', 'MID1 ', 'MSI1 ', 'MTR ', 'MYL6 ', 'NAV2 ', 'NOLC1 ', 'NR2E3 ', 'PACS1 ', 'PDAP1 ', 'PDE7A ', 'PHF14 ', 'PHF3 ', 'PHGDH ', 'PITPNC1 ', 'PNLIPRP2 ', 'PPIG ', 'PTPRS ', 'RAD50 ', 'RASSF10 ', 'RGS12 ', 'RPRD1A ', 'RSRC2 ', 'SERF1 ', 'SIRT5 ', 'SLC29A1 ', 'SLC41A1 ', 'SLC44A2 ', 'SORCS2 ', 'SOX4 ', 'SPICE1 ', 'STK3 ', 'TCF3 ', 'TCTN3 ', 'TLR2 ', 'TLX2 ', 'TMEM107 ', 'TMEM132A ', 'TMEM206 ', 'TNFRSF19 ', 'TRIM44 ', 'TYROBP ', 'UBN1 ', 'WWOX ', 'ZDHHC14 ', 'ZFP316 ', 'ZFP553 ', 'ZFP703 ', 'ZFP787 ', 'ZFP865 ', 'ZSCAN2 ']\n",
    "- WARNING: genes are not in var_names and ignored: ['FAM46A', 'IGF2', 'NGFRAP1', 'PVRL1', 'RP11-401P9.4']\n",
    "- WARNING: genes are not in var_names and ignored: ['FAM64A', 'SGOL1', 'SGOL2', 'KIAA0101']"
   ]
  },
  {
   "cell_type": "markdown",
   "id": "a64b8faa",
   "metadata": {},
   "source": [
    "Paneth-Sato and Barrigaetal from mouse...\n",
    "- CCL6 and CCL9 only in mice... human orthologs is CCL15\n",
    "- DEFA1, DEFCR6 and DEFCR20 have no human orthologs\n",
    "- LY6A, LY6C1 mouse\n",
    "- CCL27A > human CCL27"
   ]
  },
  {
   "cell_type": "code",
   "execution_count": null,
   "id": "c4866aaf",
   "metadata": {},
   "outputs": [],
   "source": [
    "for i in CRC_sig.columns:\n",
    "    score_genes(adata_epi, np.array(CRC_sig[i].dropna()), score_name=i)"
   ]
  },
  {
   "cell_type": "code",
   "execution_count": null,
   "id": "73a5d62e",
   "metadata": {},
   "outputs": [],
   "source": [
    "new_order = ['TC1', 'TC2', 'TC3', 'TC4', 'Stem', 'Stem/TA',\n",
    "             'Immature Goblet', 'Goblet',\n",
    "             'Enterocyte progenitor', 'Enterocytes', 'Tuft']"
   ]
  },
  {
   "cell_type": "code",
   "execution_count": null,
   "id": "aceff6b5",
   "metadata": {},
   "outputs": [],
   "source": [
    "for i in CRC_sig.columns:\n",
    "    with plt.rc_context({'ytick.major.size':16, 'axes.titlesize':18}):\n",
    "        plt.figure(figsize = (10,5))\n",
    "        sns.heatmap(adata_epi.obs.pivot_table(index='tumour_normal_normal',\n",
    "                                          columns = 'Uhlitz_scANVI', values=i, aggfunc='median')[new_order], \n",
    "                    #vmin = -0.015, vmax = 0.015, \n",
    "                    square=True)\n",
    "        plt.title(f'{i} (median)\\n')\n",
    "        plt.ylabel('Numbat and Scitcem assignment\\n', size = 18)\n",
    "        plt.xlabel('Cell type',size = 18)"
   ]
  },
  {
   "cell_type": "code",
   "execution_count": null,
   "id": "37038e93",
   "metadata": {},
   "outputs": [],
   "source": [
    "for i in CRC_sig.columns:\n",
    "    with plt.rc_context({'ytick.major.size':16, 'axes.titlesize':18}):\n",
    "        plt.figure(figsize = (10,5))\n",
    "        sns.heatmap(adata_epi.obs.pivot_table(index='tumour_normal_normal',\n",
    "                                          columns = 'Uhlitz_scANVI', values=i, aggfunc='mean')[new_order], \n",
    "                    #vmin = -0.015, vmax = 0.015, \n",
    "                    square=True)\n",
    "        plt.title(f'{i} (mean)\\n')\n",
    "        plt.ylabel('Numbat and Scitcem assignment\\n', size = 18)\n",
    "        plt.xlabel('Cell type',size = 18)"
   ]
  }
 ],
 "metadata": {
  "kernelspec": {
   "display_name": "sc",
   "language": "python",
   "name": "sc"
  },
  "language_info": {
   "codemirror_mode": {
    "name": "ipython",
    "version": 3
   },
   "file_extension": ".py",
   "mimetype": "text/x-python",
   "name": "python",
   "nbconvert_exporter": "python",
   "pygments_lexer": "ipython3",
   "version": "3.9.10"
  }
 },
 "nbformat": 4,
 "nbformat_minor": 5
}
